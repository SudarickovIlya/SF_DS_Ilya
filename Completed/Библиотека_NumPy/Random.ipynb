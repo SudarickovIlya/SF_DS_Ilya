{
 "cells": [
  {
   "cell_type": "code",
   "execution_count": 1,
   "metadata": {},
   "outputs": [
    {
     "data": {
      "text/plain": [
       "0.2968598785665999"
      ]
     },
     "execution_count": 1,
     "metadata": {},
     "output_type": "execute_result"
    }
   ],
   "source": [
    "import numpy as np\n",
    "np.random.rand()"
   ]
  },
  {
   "cell_type": "code",
   "execution_count": 40,
   "metadata": {},
   "outputs": [
    {
     "data": {
      "text/plain": [
       "17.606998521352637"
      ]
     },
     "execution_count": 40,
     "metadata": {},
     "output_type": "execute_result"
    }
   ],
   "source": [
    "np.random.rand() * 100"
   ]
  },
  {
   "cell_type": "code",
   "execution_count": 48,
   "metadata": {},
   "outputs": [
    {
     "name": "stdout",
     "output_type": "stream",
     "text": [
      "[0.72624661 0.52712108 0.69917368 0.95414681 0.03891345]\n"
     ]
    },
    {
     "data": {
      "text/plain": [
       "array([[0.90096769, 0.16384417, 0.57819276, 0.85953415],\n",
       "       [0.11742687, 0.17122488, 0.76024089, 0.09295087],\n",
       "       [0.70666767, 0.23680665, 0.92950744, 0.59040042]])"
      ]
     },
     "execution_count": 48,
     "metadata": {},
     "output_type": "execute_result"
    }
   ],
   "source": [
    "print(np.random.rand(5))\n",
    "np.random.rand(3, 4)"
   ]
  },
  {
   "cell_type": "code",
   "execution_count": null,
   "metadata": {},
   "outputs": [],
   "source": [
    "np.random.rand(2, 2, 2, 2, 2, 2)"
   ]
  },
  {
   "cell_type": "code",
   "execution_count": 52,
   "metadata": {},
   "outputs": [
    {
     "data": {
      "text/plain": [
       "array([[0.56292728, 0.10334063, 0.71528701, 0.28020831],\n",
       "       [0.77246058, 0.92987781, 0.28357534, 0.54021824],\n",
       "       [0.48783559, 0.9686593 , 0.83862845, 0.76240966]])"
      ]
     },
     "execution_count": 52,
     "metadata": {},
     "output_type": "execute_result"
    }
   ],
   "source": [
    "shape = (3, 4)\n",
    "np.random.rand(*shape)"
   ]
  },
  {
   "cell_type": "code",
   "execution_count": 54,
   "metadata": {},
   "outputs": [
    {
     "data": {
      "text/plain": [
       "array([[0.13652177, 0.71752079, 0.0039189 , 0.58768766],\n",
       "       [0.48303225, 0.7907364 , 0.28057289, 0.96026528],\n",
       "       [0.7798875 , 0.57456372, 0.70424261, 0.05498208]])"
      ]
     },
     "execution_count": 54,
     "metadata": {},
     "output_type": "execute_result"
    }
   ],
   "source": [
    "# Принимаем для формы кортеж без распаковки\n",
    "\n",
    "shape = (3, 4)\n",
    "np.random.sample(shape)"
   ]
  },
  {
   "cell_type": "code",
   "execution_count": 62,
   "metadata": {},
   "outputs": [
    {
     "name": "stdout",
     "output_type": "stream",
     "text": [
      "0.835263220358622\n"
     ]
    },
    {
     "data": {
      "text/plain": [
       "array([[ 46.28980933, -16.60484285,  12.82697097,  47.50689759],\n",
       "       [  1.74772894,   8.99350537,  36.23222702,  29.4623517 ],\n",
       "       [-17.60186041,  -7.54778778,   3.1646714 , -28.40190192]])"
      ]
     },
     "execution_count": 62,
     "metadata": {},
     "output_type": "execute_result"
    }
   ],
   "source": [
    "# Генерация чисел в диапозоне (стандартно от 0 до 1)\n",
    "\n",
    "print(np.random.uniform())\n",
    "np.random.uniform(-30, 50, size=(3,4))"
   ]
  },
  {
   "cell_type": "code",
   "execution_count": 2,
   "metadata": {},
   "outputs": [
    {
     "data": {
      "text/plain": [
       "array([[[6, 6, 3, 6],\n",
       "        [3, 3, 5, 4],\n",
       "        [1, 2, 2, 4],\n",
       "        [1, 6, 3, 6]],\n",
       "\n",
       "       [[5, 3, 5, 1],\n",
       "        [4, 2, 4, 5],\n",
       "        [5, 5, 3, 5],\n",
       "        [4, 4, 1, 4]],\n",
       "\n",
       "       [[2, 4, 6, 6],\n",
       "        [6, 4, 6, 5],\n",
       "        [4, 4, 5, 6],\n",
       "        [6, 5, 1, 4]],\n",
       "\n",
       "       [[2, 5, 3, 1],\n",
       "        [5, 5, 5, 2],\n",
       "        [4, 1, 5, 2],\n",
       "        [3, 4, 6, 3]]])"
      ]
     },
     "execution_count": 2,
     "metadata": {},
     "output_type": "execute_result"
    }
   ],
   "source": [
    "# Генерация целых чисел\n",
    "\n",
    "np.random.randint(1, 7, size=(4, 4, 4))"
   ]
  },
  {
   "cell_type": "code",
   "execution_count": 5,
   "metadata": {},
   "outputs": [
    {
     "data": {
      "text/plain": [
       "array([ 7,  4,  6,  3,  1,  9,  0,  2,  5, 10,  8])"
      ]
     },
     "execution_count": 5,
     "metadata": {},
     "output_type": "execute_result"
    }
   ],
   "source": [
    "# Перемешивание чисел в массиве\n",
    "\n",
    "arr = np.arange(11)\n",
    "np.random.shuffle(arr)\n",
    "arr"
   ]
  },
  {
   "cell_type": "code",
   "execution_count": 70,
   "metadata": {},
   "outputs": [
    {
     "name": "stdout",
     "output_type": "stream",
     "text": [
      "Initial:  ['The Beatles', 'Pink Floyd', 'ACDC', 'Deep Purple'] \n",
      " New:  ['The Beatles' 'Pink Floyd' 'Deep Purple' 'ACDC']\n"
     ]
    }
   ],
   "source": [
    "#  Получаем новый перемешанный массив, а исходный оставить без изменений\n",
    "\n",
    "playlist = [\"The Beatles\", \"Pink Floyd\", \"ACDC\", \"Deep Purple\"]\n",
    "shuffled = np.random.permutation(playlist)\n",
    "print('Initial: ', playlist, '\\n', 'New: ', shuffled)"
   ]
  },
  {
   "cell_type": "code",
   "execution_count": 71,
   "metadata": {},
   "outputs": [
    {
     "data": {
      "text/plain": [
       "array([ 1,  6,  5,  0,  2,  7,  9, 10,  3,  4,  8])"
      ]
     },
     "execution_count": 71,
     "metadata": {},
     "output_type": "execute_result"
    }
   ],
   "source": [
    "np.random.permutation(11)"
   ]
  },
  {
   "cell_type": "code",
   "execution_count": 9,
   "metadata": {},
   "outputs": [
    {
     "data": {
      "text/plain": [
       "array([[2, 1, 8, 5],\n",
       "       [9, 9, 5, 6],\n",
       "       [8, 7, 5, 5]])"
      ]
     },
     "execution_count": 9,
     "metadata": {},
     "output_type": "execute_result"
    }
   ],
   "source": [
    "# Чтобы получить случайный набор объектов из массива, используется функция random.choice\n",
    "\n",
    "np.random.choice(arr, size=(2, 3), replace=False)\n",
    "np.random.choice(10, size=(3, 4), replace=True)"
   ]
  },
  {
   "cell_type": "code",
   "execution_count": 108,
   "metadata": {},
   "outputs": [
    {
     "name": "stdout",
     "output_type": "stream",
     "text": [
      "['Ivan' 'John' 'Nikita']\n"
     ]
    }
   ],
   "source": [
    "workers = ['Ivan', 'Nikita', 'Maria', 'John', 'Kate']\n",
    "\n",
    "print(np.random.choice(workers, size=3, replace=False))"
   ]
  },
  {
   "cell_type": "code",
   "execution_count": 171,
   "metadata": {},
   "outputs": [
    {
     "name": "stdout",
     "output_type": "stream",
     "text": [
      "[[ 5 11 12  8  9]\n",
      " [11  5 15  0 16]]\n",
      "\n",
      "[[ 5 11 12  8  9]\n",
      " [11  5 15  0 16]]\n",
      "\n",
      "[[ 1 12  7 13  6]\n",
      " [18 20  5 18 20]]\n"
     ]
    }
   ],
   "source": [
    "np.random.seed(1)\n",
    "print(np.random.randint(23, size=(2, 5)))\n",
    "print()\n",
    "np.random.seed(1)\n",
    "print(np.random.randint(23, size=(2, 5)))\n",
    "print()\n",
    "print(np.random.randint(23, size=(2, 5)))"
   ]
  }
 ],
 "metadata": {
  "kernelspec": {
   "display_name": "Python 3",
   "language": "python",
   "name": "python3"
  },
  "language_info": {
   "codemirror_mode": {
    "name": "ipython",
    "version": 3
   },
   "file_extension": ".py",
   "mimetype": "text/x-python",
   "name": "python",
   "nbconvert_exporter": "python",
   "pygments_lexer": "ipython3",
   "version": "3.9.10 (tags/v3.9.10:f2f3f53, Jan 17 2022, 15:14:21) [MSC v.1929 64 bit (AMD64)]"
  },
  "orig_nbformat": 4,
  "vscode": {
   "interpreter": {
    "hash": "9cf9054f8e6d735fb2a0200f9f9323ae4405064a58d1b1d5bdf304f62a1cc0e1"
   }
  }
 },
 "nbformat": 4,
 "nbformat_minor": 2
}
