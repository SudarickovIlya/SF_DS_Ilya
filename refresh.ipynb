{
 "cells": [
  {
   "cell_type": "code",
   "execution_count": 1,
   "metadata": {},
   "outputs": [],
   "source": [
    "import numpy as np\n",
    "import random"
   ]
  },
  {
   "cell_type": "code",
   "execution_count": 2,
   "metadata": {},
   "outputs": [
    {
     "name": "stdout",
     "output_type": "stream",
     "text": [
      "Hello, Ilya! // Your number is 8. // Have a nice day!\n"
     ]
    }
   ],
   "source": [
    "\n",
    "number = random.randint(1, 155) \n",
    "s3 = f'''Hello, Ilya!\n",
    "Your number is {number}.\n",
    "Have a nice day!'''\n",
    "sep_list = s3.split('\\n')\n",
    "print(' // '.join(sep_list))"
   ]
  },
  {
   "cell_type": "code",
   "execution_count": 39,
   "metadata": {},
   "outputs": [
    {
     "data": {
      "text/plain": [
       "5"
      ]
     },
     "metadata": {},
     "output_type": "display_data"
    },
    {
     "data": {
      "text/plain": [
       "'all books'"
      ]
     },
     "metadata": {},
     "output_type": "display_data"
    },
    {
     "data": {
      "text/plain": [
       "['my book', 'your book']"
      ]
     },
     "metadata": {},
     "output_type": "display_data"
    }
   ],
   "source": [
    "book1, book2 = 'my book', 'your book'\n",
    "books = ['all books']\n",
    "\n",
    "books.append(book1)\n",
    "books.append(book2)\n",
    "all = books.pop(0)\n",
    "\n",
    "\n",
    "o_count = 0\n",
    "\n",
    "for book in books:\n",
    "    for letter in book:\n",
    "        if letter == 'o':\n",
    "            o_count += 1\n",
    "        else:\n",
    "            pass\n",
    "\n",
    "display(o_count, all, books)"
   ]
  },
  {
   "cell_type": "code",
   "execution_count": 4,
   "metadata": {},
   "outputs": [
    {
     "data": {
      "text/plain": [
       "['H', 'e', 'l', 'l', 'o', ',', ' ', 'w', 'o', 'r', 'l', 'd', '!']"
      ]
     },
     "execution_count": 4,
     "metadata": {},
     "output_type": "execute_result"
    }
   ],
   "source": [
    "a = 'Hello, world!'\n",
    "huist = []\n",
    "\n",
    "for letter in a:\n",
    "    huist.append (letter)\n",
    "\n",
    "huist"
   ]
  },
  {
   "cell_type": "code",
   "execution_count": 5,
   "metadata": {},
   "outputs": [
    {
     "name": "stdout",
     "output_type": "stream",
     "text": [
      "840\n",
      "824\n"
     ]
    },
    {
     "data": {
      "text/plain": [
       "(255,)"
      ]
     },
     "execution_count": 5,
     "metadata": {},
     "output_type": "execute_result"
    }
   ],
   "source": [
    "a = list(range(1, 101))\n",
    "print(a.__sizeof__())\n",
    "\n",
    "b = tuple(range(1, 101))\n",
    "print(b.__sizeof__())\n",
    "\n",
    "c = [255]\n",
    "tpl2 = tuple(c)\n",
    "tpl2"
   ]
  },
  {
   "cell_type": "code",
   "execution_count": 6,
   "metadata": {},
   "outputs": [
    {
     "data": {
      "text/plain": [
       "dict_keys(['+79033923029', '+78125849204', '+79053049385', '+79265748370', '+79030598495'])"
      ]
     },
     "execution_count": 6,
     "metadata": {},
     "output_type": "execute_result"
    }
   ],
   "source": [
    "phones = {'+79033923029': 'Ivan Ivanov', '+78125849204': 'Kirill Smirnov', \n",
    "          '+79053049385': 'Mark Parkhomenko', '+79265748370': 'Ekaterina Dmitrieva', '+79030598495': 'Ruslan Belyi'}\n",
    "\n",
    "phones.keys()"
   ]
  },
  {
   "cell_type": "code",
   "execution_count": 7,
   "metadata": {},
   "outputs": [
    {
     "data": {
      "text/plain": [
       "500"
      ]
     },
     "metadata": {},
     "output_type": "display_data"
    },
    {
     "data": {
      "text/plain": [
       "{'Kolya': 162,\n",
       " 'Marina': 176,\n",
       " 'Misha': 158,\n",
       " 'Dima': 201,\n",
       " 'Yana': 183,\n",
       " 'Nina': 156,\n",
       " 'Stas': 178,\n",
       " 'Ilya': 198}"
      ]
     },
     "metadata": {},
     "output_type": "display_data"
    },
    {
     "data": {
      "text/plain": [
       "162"
      ]
     },
     "metadata": {},
     "output_type": "display_data"
    },
    {
     "data": {
      "text/plain": [
       "{'Marina': 176,\n",
       " 'Misha': 162,\n",
       " 'Dima': 201,\n",
       " 'Yana': 183,\n",
       " 'Nina': 156,\n",
       " 'Stas': 178,\n",
       " 'Ilya': 198,\n",
       " 'Alena': 174}"
      ]
     },
     "execution_count": 7,
     "metadata": {},
     "output_type": "execute_result"
    }
   ],
   "source": [
    "friends = {\"Kolya\": 180, \"Marina\": 176, \"Misha\": 158, \"Dima\": 201, \"Yana\": 183, \"Nina\": 156}\n",
    "\n",
    "try:\n",
    "    display(friends.get('matvey', 500))\n",
    "except KeyError:\n",
    "    display(friends.get('Irina', 100))\n",
    "    \n",
    "friends.update({'Stas': 178, 'Ilya': 198})\n",
    "friends.update({'Kolya': 162})\n",
    "display(friends)\n",
    "\n",
    "best_friend_height = friends.pop('Kolya')\n",
    "display(best_friend_height)\n",
    "\n",
    "friends.setdefault('Alena', 174)\n",
    "friends.setdefault('Misha', 162)\n",
    "friends.update({'Misha': 162})\n",
    "friends"
   ]
  },
  {
   "cell_type": "code",
   "execution_count": 8,
   "metadata": {},
   "outputs": [
    {
     "data": {
      "text/plain": [
       "{'e', 'h', 'l', 'o'}"
      ]
     },
     "metadata": {},
     "output_type": "display_data"
    },
    {
     "data": {
      "text/plain": [
       "set"
      ]
     },
     "metadata": {},
     "output_type": "display_data"
    },
    {
     "data": {
      "text/plain": [
       "{' ', (3, 4, 5, 'shit'), 1, 2, 'a', 'c', 'h', 'l', 'o', 's', 't', 'w'}"
      ]
     },
     "metadata": {},
     "output_type": "display_data"
    }
   ],
   "source": [
    "hello = set('hello')\n",
    "display(hello)\n",
    "display(type(hello))\n",
    "\n",
    "t1 = 'wow thats cool'\n",
    "t1 = set(t1)\n",
    "t1.update({1, 2, (3, 4, 5, 'shit')})\n",
    "\n",
    "ww = 2\n",
    "\n",
    "try:\n",
    "    t1.remove(3)\n",
    "    display(t1)\n",
    "except KeyError:\n",
    "    t1.discard(3)\n",
    "    display(t1)"
   ]
  },
  {
   "cell_type": "code",
   "execution_count": 9,
   "metadata": {},
   "outputs": [
    {
     "data": {
      "text/plain": [
       "{'item1', 'item2', 'item3', 'item4', 'item5', 'item7'}"
      ]
     },
     "metadata": {},
     "output_type": "display_data"
    },
    {
     "data": {
      "text/plain": [
       "{'item2', 'item3'}"
      ]
     },
     "metadata": {},
     "output_type": "display_data"
    },
    {
     "data": {
      "text/plain": [
       "{'item1', 'item4'}"
      ]
     },
     "metadata": {},
     "output_type": "display_data"
    },
    {
     "data": {
      "text/plain": [
       "True"
      ]
     },
     "metadata": {},
     "output_type": "display_data"
    }
   ],
   "source": [
    "cluster1 = {\"item1\", \"item2\", \"item3\", \"item4\"}\n",
    "cluster2 = {\"item2\", \"item3\", \"item5\", \"item7\"}\n",
    "\n",
    "cluster3 = cluster1.union(cluster2)\n",
    "display(cluster3)\n",
    "\n",
    "cluster4 = cluster1.intersection(cluster2)\n",
    "display(cluster4)\n",
    "\n",
    "cluster5 = cluster1.difference(cluster2)\n",
    "display(cluster5)\n",
    "\n",
    "display(cluster1.issubset(cluster3))"
   ]
  },
  {
   "cell_type": "code",
   "execution_count": 10,
   "metadata": {},
   "outputs": [
    {
     "name": "stdout",
     "output_type": "stream",
     "text": [
      "I am 24 years old\n"
     ]
    },
    {
     "data": {
      "text/plain": [
       "1990"
      ]
     },
     "execution_count": 10,
     "metadata": {},
     "output_type": "execute_result"
    }
   ],
   "source": [
    "str1 = 'I am'\n",
    "int1 = 24\n",
    "str2 = str(int1)\n",
    "str3 = 'years old'\n",
    "\n",
    "print(str1 , str2 , str3)\n",
    "\n",
    "my_date = \"1990.0\"\n",
    "int(float(my_date))"
   ]
  },
  {
   "cell_type": "code",
   "execution_count": 11,
   "metadata": {},
   "outputs": [
    {
     "data": {
      "text/plain": [
       "['Anne', 'Sam', 'Marie', 'Tanya', 'Ilya']"
      ]
     },
     "metadata": {},
     "output_type": "display_data"
    }
   ],
   "source": [
    "dictionary = {\"Anne\": 15, \"Sam\": 30, \"Marie\": 22}\n",
    "only_keys = dictionary.keys()\n",
    "only_keys = list(only_keys)\n",
    "\n",
    "new_keys = only_keys.copy()\n",
    "new_keys.append('Ilya')\n",
    "new_keys.insert(-1, 'Tanya')\n",
    "display(new_keys)"
   ]
  },
  {
   "cell_type": "code",
   "execution_count": 12,
   "metadata": {},
   "outputs": [
    {
     "data": {
      "text/plain": [
       "'catcatcat'"
      ]
     },
     "execution_count": 12,
     "metadata": {},
     "output_type": "execute_result"
    }
   ],
   "source": [
    "'cat' * 3"
   ]
  },
  {
   "cell_type": "code",
   "execution_count": 13,
   "metadata": {},
   "outputs": [
    {
     "data": {
      "text/plain": [
       "'Astringwithwhitespace'"
      ]
     },
     "execution_count": 13,
     "metadata": {},
     "output_type": "execute_result"
    }
   ],
   "source": [
    "s = 'A string with white space'\n",
    "s.replace(' ', '')"
   ]
  },
  {
   "cell_type": "code",
   "execution_count": 14,
   "metadata": {},
   "outputs": [
    {
     "name": "stdout",
     "output_type": "stream",
     "text": [
      "dict_items([(1, '1'), ('2', 2), (3, '3')])\n",
      "1\n",
      "2\n",
      "None\n"
     ]
    }
   ],
   "source": [
    "d = {\n",
    "    1: '1',\n",
    "    '2': 2,\n",
    "    3: '3',\n",
    "}\n",
    "\n",
    "print(d.items())\n",
    "\n",
    "def get_key(d, value):\n",
    "    for k, v in d.items():\n",
    "        if v == value:\n",
    "            return k\n",
    "print(get_key(d, '1'))\n",
    "print(get_key(d, 2))\n",
    "print(get_key(d, 42))"
   ]
  },
  {
   "cell_type": "code",
   "execution_count": 15,
   "metadata": {},
   "outputs": [
    {
     "name": "stdout",
     "output_type": "stream",
     "text": [
      "65\n"
     ]
    },
    {
     "data": {
      "text/plain": [
       "True"
      ]
     },
     "execution_count": 15,
     "metadata": {},
     "output_type": "execute_result"
    }
   ],
   "source": [
    "print(ord('A'))\n",
    "\n",
    "ord('A') == 65"
   ]
  },
  {
   "cell_type": "code",
   "execution_count": 16,
   "metadata": {},
   "outputs": [
    {
     "name": "stdout",
     "output_type": "stream",
     "text": [
      "['коту тащат уток', 'мадам', 'казак', 'шалаш']\n"
     ]
    }
   ],
   "source": [
    "target_string = [\"шалаш\", \"казак\", \"мадам\", \"коту тащат уток\"]\n",
    "target_string.reverse()\n",
    "print(target_string)"
   ]
  },
  {
   "cell_type": "code",
   "execution_count": 17,
   "metadata": {},
   "outputs": [
    {
     "name": "stdout",
     "output_type": "stream",
     "text": [
      "False Казак\n"
     ]
    }
   ],
   "source": [
    "target_string = 'Казак'\n",
    "target_string.lower()\n",
    "''.join(target_string.split(' '))\n",
    "result = target_string == target_string[::-1]\n",
    "print(result, target_string)"
   ]
  },
  {
   "cell_type": "code",
   "execution_count": 18,
   "metadata": {},
   "outputs": [
    {
     "data": {
      "text/plain": [
       "True"
      ]
     },
     "execution_count": 18,
     "metadata": {},
     "output_type": "execute_result"
    }
   ],
   "source": [
    "not  not True"
   ]
  },
  {
   "cell_type": "code",
   "execution_count": 19,
   "metadata": {},
   "outputs": [
    {
     "data": {
      "text/plain": [
       "True"
      ]
     },
     "execution_count": 19,
     "metadata": {},
     "output_type": "execute_result"
    }
   ],
   "source": [
    "orders = {\n",
    "    '2022-10-10': ['F124', 'D89D', '142L'],\n",
    "    '2022-10-11': ['H241', 'OR24', 'BE14', '348F'],\n",
    "    '2022-10-12': ['H429', 'JAS2']\n",
    "}\n",
    "\n",
    "'H429' in orders['2022-10-12'] or \\\n",
    "'H429' in orders['2022-10-11'] or \\\n",
    "'H429' in orders['2022-10-10']"
   ]
  },
  {
   "cell_type": "code",
   "execution_count": 20,
   "metadata": {},
   "outputs": [
    {
     "data": {
      "text/plain": [
       "False"
      ]
     },
     "execution_count": 20,
     "metadata": {},
     "output_type": "execute_result"
    }
   ],
   "source": [
    "x, y = 'F', 9 \n",
    "move_is_correct = x in ['A', 'B', 'C', 'D', 'E', 'F', 'G', 'H'] and y in list(range(1, 9))\n",
    "move_is_correct\n"
   ]
  },
  {
   "cell_type": "code",
   "execution_count": 21,
   "metadata": {},
   "outputs": [
    {
     "data": {
      "text/plain": [
       "True"
      ]
     },
     "execution_count": 21,
     "metadata": {},
     "output_type": "execute_result"
    }
   ],
   "source": [
    "N = 45901\n",
    "first_is_even = int(str(N)[0]) % 2 == 0\n",
    "first_is_even"
   ]
  },
  {
   "cell_type": "code",
   "execution_count": 22,
   "metadata": {},
   "outputs": [
    {
     "data": {
      "text/plain": [
       "False"
      ]
     },
     "execution_count": 22,
     "metadata": {},
     "output_type": "execute_result"
    }
   ],
   "source": [
    "year = 2100\n",
    "year_is_leap = (year % 400 == 0) or \\\n",
    "((year % 4 == 0) and (year % 100 != 0)) \n",
    "year_is_leap"
   ]
  },
  {
   "cell_type": "code",
   "execution_count": 23,
   "metadata": {},
   "outputs": [
    {
     "name": "stdout",
     "output_type": "stream",
     "text": [
      "['C++', 'Python', 'Java', 'JavaScript']\n",
      "None\n"
     ]
    }
   ],
   "source": [
    "lst = ['C++', 'Python', 'Java']\n",
    "append_result = lst.append('JavaScript')\n",
    "print(lst)\n",
    "## ['C++', 'Python', 'Java', 'JavaScript']\n",
    "print(append_result)\n",
    "## None"
   ]
  },
  {
   "cell_type": "code",
   "execution_count": 24,
   "metadata": {},
   "outputs": [
    {
     "data": {
      "text/plain": [
       "True"
      ]
     },
     "execution_count": 24,
     "metadata": {},
     "output_type": "execute_result"
    }
   ],
   "source": [
    "arrival_of_goods = {\n",
    "    '148902': {\n",
    "        'Футболка с принтом': 180,\n",
    "        'Свитшот черный': 245,\n",
    "        'Джинсы серые': 252\n",
    "    },\n",
    "    '893516': {\n",
    "        'Футболка с принтом': 43,\n",
    "        'Свитшот черный': 64,\n",
    "        'Джинсы черные': 102\n",
    "    },\n",
    "    '893481': {\n",
    "        'Кружка керамическая': 35,\n",
    "        'Свитшот черный': 10,\n",
    "        'Джинсы сервые': 14\n",
    "    }\n",
    "}\n",
    "\n",
    "invoice_number = '148902'\n",
    "invoice_exists = arrival_of_goods.get(invoice_number) is not None\n",
    "invoice_exists"
   ]
  },
  {
   "cell_type": "code",
   "execution_count": 25,
   "metadata": {},
   "outputs": [
    {
     "name": "stdout",
     "output_type": "stream",
     "text": [
      "Don't take an umbrella\n"
     ]
    }
   ],
   "source": [
    "is_rainy = False  # дождь будет\n",
    " \n",
    "# Реализуем условный оператор\n",
    "# В блок if помещаем условие \n",
    "if is_rainy:\n",
    "    # брать зонт\n",
    "    print(\"Take an umbrella\") \n",
    "else:\n",
    "    # не брать зонт\n",
    "    print(\"Don't take an umbrella\")"
   ]
  },
  {
   "cell_type": "code",
   "execution_count": 26,
   "metadata": {},
   "outputs": [
    {
     "name": "stdout",
     "output_type": "stream",
     "text": [
      "All right\n"
     ]
    }
   ],
   "source": [
    "a = 5 ** 10\n",
    "b = 10 ** 5\n",
    "\n",
    "if a > b:\n",
    "    print('All right')\n",
    "else:\n",
    "    print('Fuck!')"
   ]
  },
  {
   "cell_type": "code",
   "execution_count": 27,
   "metadata": {},
   "outputs": [
    {
     "name": "stdout",
     "output_type": "stream",
     "text": [
      "Добрый вечер, Андрей!\n"
     ]
    }
   ],
   "source": [
    "name = 'Андрей'\n",
    "age = 21\n",
    "\n",
    "if age >= 18:\n",
    "    print(f'Добрый вечер, {name}!')\n",
    "else:\n",
    "    print(f'Привет, {name}! Приносим свои извинения, но вы не можете гулять после 22:00')"
   ]
  },
  {
   "cell_type": "code",
   "execution_count": 28,
   "metadata": {},
   "outputs": [
    {
     "name": "stdout",
     "output_type": "stream",
     "text": [
      "Don't take an umbrella\n"
     ]
    }
   ],
   "source": [
    "is_rainy = False  # дождь будет\n",
    "heavy_rain = True  # не сильный дождь\n",
    "\n",
    "if is_rainy:\n",
    "    # в данный блок дописали ещё один условный оператор\n",
    "    if heavy_rain:\n",
    "        #брать зонт\n",
    "        print(\"Take an umbrella\")  \n",
    "    else:\n",
    "        #надеть дождевик\n",
    "        print(\"Put on a raincoat\") \n",
    "else:\n",
    "    #не брать зонт\n",
    "    print(\"Don't take an umbrella\") \n",
    "\n",
    "## Put on a raincoat"
   ]
  },
  {
   "cell_type": "code",
   "execution_count": 29,
   "metadata": {},
   "outputs": [
    {
     "name": "stdout",
     "output_type": "stream",
     "text": [
      "15 не делится на 2, но делится на 5\n"
     ]
    }
   ],
   "source": [
    "number = 15\n",
    "\n",
    "if (number % 2 == 0):\n",
    "    if (number % 5 == 0):\n",
    "        print(f'{number} делится на 2 и на 5')\n",
    "    else:\n",
    "        print(f\"{number} делится на 2, но не делится на 5\")\n",
    "else:\n",
    "    if (number % 5 == 0):\n",
    "        print(f\"{number} не делится на 2, но делится на 5\")\n",
    "    else:\n",
    "        print(f\"{number} не делится ни на 2, ни на 5\")"
   ]
  },
  {
   "cell_type": "code",
   "execution_count": 30,
   "metadata": {},
   "outputs": [
    {
     "data": {
      "text/plain": [
       "False"
      ]
     },
     "execution_count": 30,
     "metadata": {},
     "output_type": "execute_result"
    }
   ],
   "source": [
    "bool([])"
   ]
  },
  {
   "cell_type": "code",
   "execution_count": 31,
   "metadata": {},
   "outputs": [
    {
     "ename": "SyntaxError",
     "evalue": "invalid syntax (1553815897.py, line 1)",
     "output_type": "error",
     "traceback": [
      "\u001b[1;36m  Cell \u001b[1;32mIn[31], line 1\u001b[1;36m\u001b[0m\n\u001b[1;33m    password =\u001b[0m\n\u001b[1;37m               ^\u001b[0m\n\u001b[1;31mSyntaxError\u001b[0m\u001b[1;31m:\u001b[0m invalid syntax\n"
     ]
    }
   ],
   "source": [
    "password = \n",
    "\n",
    "if not password:\n",
    "    print('Enter password, down!')\n",
    "else:\n",
    "    print('Good boy!')"
   ]
  },
  {
   "cell_type": "code",
   "execution_count": null,
   "metadata": {},
   "outputs": [
    {
     "data": {
      "text/plain": [
       "{}"
      ]
     },
     "execution_count": 19,
     "metadata": {},
     "output_type": "execute_result"
    }
   ],
   "source": [
    "result = 10\n",
    "my_dict = {'key_1': 10}\n",
    "item = my_dict.pop('key_1')\n",
    "my_dict"
   ]
  },
  {
   "cell_type": "code",
   "execution_count": null,
   "metadata": {},
   "outputs": [
    {
     "data": {
      "text/plain": [
       "39"
      ]
     },
     "execution_count": 2,
     "metadata": {},
     "output_type": "execute_result"
    }
   ],
   "source": [
    "now = '11:24:39'\n",
    "hour, minute, second = now.split(':')\n",
    "hour, minute, second = int(hour), int(minute), int(second)\n",
    "\n",
    "second"
   ]
  },
  {
   "cell_type": "code",
   "execution_count": null,
   "metadata": {},
   "outputs": [
    {
     "name": "stdout",
     "output_type": "stream",
     "text": [
      "hurricane [4]\n"
     ]
    }
   ],
   "source": [
    "speed = 25\n",
    "\n",
    "if 1 <= int(speed) <= 4:\n",
    "    print('weak [1]')\n",
    "elif 5 <= int(speed) <= 10:\n",
    "    print('moderate [2]')\n",
    "elif 11 <= int(speed) <= 18:\n",
    "    print('strong [3]')\n",
    "elif int(speed) >= 19:\n",
    "    print('hurricane [4]')"
   ]
  },
  {
   "cell_type": "code",
   "execution_count": null,
   "metadata": {},
   "outputs": [
    {
     "name": "stdout",
     "output_type": "stream",
     "text": [
      "Ничья!\n"
     ]
    }
   ],
   "source": [
    "player_1 = 'ножницы'\n",
    "player_2 = 'ножницы'\n",
    "\n",
    "if (player_1 == 'ножницы' and player_2 == 'бумага') or \\\n",
    "(player_1 == 'камень' and player_2 == 'ножницы') or \\\n",
    "(player_1 == 'бумага' and player_2 == 'камень'):\n",
    "    print('Первый игрок — победитель!')\n",
    "elif player_1 == player_2:\n",
    "    print('Ничья!')\n",
    "else:\n",
    "    print('Второй игрок — победитель!')"
   ]
  },
  {
   "cell_type": "code",
   "execution_count": null,
   "metadata": {},
   "outputs": [
    {
     "name": "stdout",
     "output_type": "stream",
     "text": [
      "Пароль идеален!\n"
     ]
    }
   ],
   "source": [
    "password = 'TKnzmg785264731*'\n",
    "errors_dict = {\n",
    "    'length': 'Длина пароля не равна 8 символам',\n",
    "    'digits': 'Пароль состоит только из цифр',\n",
    "    'letters': 'Пароль состоит только из букв',\n",
    "    'upper': 'Отсутствуют заглавные буквы',\n",
    "    'lower': 'Отсутствуют строчные буквы',\n",
    "    'spec': 'Отсутствуют спецсимволы в пароле',\n",
    "    'bad_symbols': 'В пароле использованы непредусмотренные символы'\n",
    "}\n",
    "good_symbols = ['*', '-', '#']\n",
    "bad_symbols = ['!', '@', '$', '%', '^', '`', '&', '(', ')', '+', '=', '_', '~']\n",
    "\n",
    "if len(password) >= 8:\n",
    "    errors_dict.pop('length')\n",
    "    \n",
    "if not password.isdigit():\n",
    "    errors_dict.pop('digits')\n",
    "    \n",
    "if not password.isalpha():\n",
    "    errors_dict.pop('letters')\n",
    "    \n",
    "if not password == password.upper():\n",
    "    errors_dict.pop('upper')\n",
    "    \n",
    "if not password == password.lower():\n",
    "    errors_dict.pop('lower')\n",
    "\n",
    "if len(set(password).intersection(set(bad_symbols))) == 0:\n",
    "    errors_dict.pop('bad_symbols')\n",
    "    \n",
    "if len(set(password).intersection(set(good_symbols))) > 0:\n",
    "    errors_dict.pop('spec')\n",
    "    \n",
    "if len(errors_dict) == 0:\n",
    "    print('Пароль идеален!')\n",
    "else:\n",
    "    errors = errors_dict.values()\n",
    "    print('Список ошибок:', list(errors))"
   ]
  },
  {
   "cell_type": "code",
   "execution_count": null,
   "metadata": {},
   "outputs": [
    {
     "name": "stdout",
     "output_type": "stream",
     "text": [
      "Стоимость заказа составила: 10848. С учетом скидки в 5% — 10305.6\n"
     ]
    }
   ],
   "source": [
    "prices = {'Adidas': 4298, 'Nike': 6550, 'Puma': 4490, 'Asics': 3879}\n",
    "purchases = [\"Adidas\", \"Nike\"]\n",
    "\n",
    "if len(purchases) == 0:\n",
    "    print('Ваша корзина пуста')\n",
    "elif len(purchases) == 1:\n",
    "    print(f'Стоимость заказа составила: {prices[purchases]}')\n",
    "elif len(purchases) > 1 and purchases[0] == purchases[1]:\n",
    "    sum_price = prices[purchases[0]] + prices[purchases[1]]\n",
    "    total_price = sum_price - sum_price * 0.1\n",
    "    print(f\"Стоимость заказа составила: {sum_price}. С учетом скидки в 10% — {total_price}\")\n",
    "elif len(purchases) > 1 and purchases[0] != purchases[1]:\n",
    "    sum_price = prices[purchases[0]] + prices[purchases[1]]\n",
    "    total_price = sum_price - sum_price * 0.05\n",
    "    print(f\"Стоимость заказа составила: {sum_price}. С учетом скидки в 5% — {total_price}\")"
   ]
  },
  {
   "cell_type": "code",
   "execution_count": null,
   "metadata": {},
   "outputs": [
    {
     "data": {
      "text/plain": [
       "[16, 4, 2019]"
      ]
     },
     "execution_count": 21,
     "metadata": {},
     "output_type": "execute_result"
    }
   ],
   "source": [
    "date = '16.04.2019 15:59'\n",
    "\n",
    "date = date.split(' ')[0]\n",
    "date = date.split('.')\n",
    "if date[1][0] == '0':\n",
    "    date[1] = date[1][1]\n",
    "\n",
    "date[0], date[1], date[2] = int(date[0]), int(date[1]), int(date[2])\n",
    "date"
   ]
  },
  {
   "cell_type": "code",
   "execution_count": null,
   "metadata": {},
   "outputs": [
    {
     "name": "stdout",
     "output_type": "stream",
     "text": [
      "Город - Город миллионник, переезд - +, командировки - +\n"
     ]
    }
   ],
   "source": [
    "city_info = \"Омск , не готов к переезду , готов к командировкам\"\n",
    "million_cities = ['Новосибирск', 'Екатеринбург', 'Нижний Новгород', 'Казань',  \n",
    "                  'Челябинск', 'Омск', 'Самара', 'Ростов-на-Дону', 'Уфа', 'Красноярск', 'Пермь', 'Воронеж', 'Волгоград']\n",
    "\n",
    "town = city_info.split(' , ')[0]\n",
    "move = city_info.split(' , ')[1]\n",
    "bt = city_info.split(' , ')[2]\n",
    "\n",
    "if town in million_cities:\n",
    "    city = 'Город миллионник'\n",
    "elif town == 'Москва':\n",
    "    city = 'Москва'\n",
    "elif town == 'Санкт-Петербург':\n",
    "    city = 'Санкт-Петербург'\n",
    "else:\n",
    "    city = 'Другое'\n",
    "    \n",
    "relocation = 0\n",
    "business_trip = 0\n",
    "\n",
    "if 'не' in set(move):\n",
    "    relocation = '-'\n",
    "else: \n",
    "    relocation = '+'\n",
    "    \n",
    "if 'не' in set(bt):\n",
    "    bt = '-'\n",
    "else: \n",
    "    bt = '+'\n",
    "\n",
    "print(f'Город - {city}, переезд - {relocation}, командировки - {bt}')"
   ]
  },
  {
   "cell_type": "code",
   "execution_count": null,
   "metadata": {},
   "outputs": [
    {
     "name": "stdout",
     "output_type": "stream",
     "text": [
      "Before exception\n",
      "division by zero\n",
      "After exception\n",
      "After after exception\n"
     ]
    }
   ],
   "source": [
    "try: \n",
    "    print(\"Before exception\")\n",
    "    # Теперь пользователь сам вводит числа для деления\n",
    "    a = int(input(\"a: \"))\n",
    "    b = int(input(\"b: \"))\n",
    "    # Здесь может возникнуть исключение деления на ноль\n",
    "    c = a / b\n",
    "    # Печатаем c = a / b если всё хорошо\n",
    "    print(c) \n",
    "# Добавляем тип именно той ошибки которую хотим отловить.     \n",
    "except ZeroDivisionError as e: \n",
    "    # Выводим информацию об ошибке\n",
    "    print(e) \n",
    "    print(\"After exception\")\n",
    " \n",
    "print(\"After after exception\")"
   ]
  },
  {
   "cell_type": "code",
   "execution_count": null,
   "metadata": {},
   "outputs": [
    {
     "name": "stdout",
     "output_type": "stream",
     "text": [
      "Before exception\n",
      "3.0\n",
      "Everything is cool!\n",
      "Thank you for your attention!\n"
     ]
    }
   ],
   "source": [
    "try: \n",
    "    print(\"Before exception\") # Перед исключением\n",
    "    # Теперь пользователь сам вводит числа для деления\n",
    "    a = int(input(\"a: \"))\n",
    "    b = int(input(\"b: \"))\n",
    "    c = a / b\n",
    "    # Печатаем c = a / b, если всё хорошо\n",
    "    print(c) \n",
    "except ValueError:\n",
    "    pass\n",
    "except ZeroDivisionError as error:\n",
    "    print(error)\n",
    "    print('Error found!')\n",
    "else:\n",
    "    print('Everything is cool!')\n",
    "finally:\n",
    "    print('Thank you for your attention!')"
   ]
  }
 ],
 "metadata": {
  "kernelspec": {
   "display_name": "Python 3",
   "language": "python",
   "name": "python3"
  },
  "language_info": {
   "codemirror_mode": {
    "name": "ipython",
    "version": 3
   },
   "file_extension": ".py",
   "mimetype": "text/x-python",
   "name": "python",
   "nbconvert_exporter": "python",
   "pygments_lexer": "ipython3",
   "version": "3.9.10"
  },
  "orig_nbformat": 4
 },
 "nbformat": 4,
 "nbformat_minor": 2
}
