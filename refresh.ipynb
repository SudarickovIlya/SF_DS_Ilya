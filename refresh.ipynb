{
 "cells": [
  {
   "cell_type": "code",
   "execution_count": 56,
   "metadata": {},
   "outputs": [],
   "source": [
    "import numpy as np\n",
    "import random"
   ]
  },
  {
   "cell_type": "code",
   "execution_count": 57,
   "metadata": {},
   "outputs": [
    {
     "name": "stdout",
     "output_type": "stream",
     "text": [
      "Hello, Ilya! // Your number is 4. // Have a nice day!\n"
     ]
    }
   ],
   "source": [
    "\n",
    "number = random.randint(1, 155) \n",
    "s3 = f'''Hello, Ilya!\n",
    "Your number is {number}.\n",
    "Have a nice day!'''\n",
    "sep_list = s3.split('\\n')\n",
    "print(' // '.join(sep_list))"
   ]
  },
  {
   "cell_type": "code",
   "execution_count": 58,
   "metadata": {},
   "outputs": [
    {
     "data": {
      "text/plain": [
       "7"
      ]
     },
     "metadata": {},
     "output_type": "display_data"
    }
   ],
   "source": [
    "book1, book2 = 'my book', 'your book'\n",
    "books = ['all books']\n",
    "\n",
    "books.append(book1)\n",
    "books.append(book2)\n",
    "\n",
    "\n",
    "o_count = 0\n",
    "\n",
    "for word in books:\n",
    "    for letter in word:\n",
    "        if letter == 'o':\n",
    "            o_count += 1\n",
    "        else:\n",
    "            pass\n",
    "\n",
    "display(o_count)"
   ]
  },
  {
   "cell_type": "code",
   "execution_count": 59,
   "metadata": {},
   "outputs": [
    {
     "data": {
      "text/plain": [
       "['H', 'e', 'l', 'l', 'o', ',', ' ', 'w', 'o', 'r', 'l', 'd', '!']"
      ]
     },
     "execution_count": 59,
     "metadata": {},
     "output_type": "execute_result"
    }
   ],
   "source": [
    "a = 'Hello, world!'\n",
    "huist = []\n",
    "\n",
    "for letter in a:\n",
    "    huist.append (letter)\n",
    "\n",
    "huist"
   ]
  },
  {
   "cell_type": "code",
   "execution_count": 60,
   "metadata": {},
   "outputs": [
    {
     "name": "stdout",
     "output_type": "stream",
     "text": [
      "840\n",
      "824\n"
     ]
    },
    {
     "data": {
      "text/plain": [
       "(255,)"
      ]
     },
     "execution_count": 60,
     "metadata": {},
     "output_type": "execute_result"
    }
   ],
   "source": [
    "a = list(range(1, 101))\n",
    "print(a.__sizeof__())\n",
    "\n",
    "b = tuple(range(1, 101))\n",
    "print(b.__sizeof__())\n",
    "\n",
    "c = [255]\n",
    "tpl2 = tuple(c)\n",
    "tpl2"
   ]
  },
  {
   "cell_type": "code",
   "execution_count": 64,
   "metadata": {},
   "outputs": [
    {
     "data": {
      "text/plain": [
       "dict_keys(['+79033923029', '+78125849204', '+79053049385', '+79265748370', '+79030598495'])"
      ]
     },
     "execution_count": 64,
     "metadata": {},
     "output_type": "execute_result"
    }
   ],
   "source": [
    "phones = {'+79033923029': 'Ivan Ivanov', '+78125849204': 'Kirill Smirnov', \n",
    "          '+79053049385': 'Mark Parkhomenko', '+79265748370': 'Ekaterina Dmitrieva', '+79030598495': 'Ruslan Belyi'}\n",
    "\n",
    "phones.keys()"
   ]
  },
  {
   "cell_type": "code",
   "execution_count": 109,
   "metadata": {},
   "outputs": [
    {
     "data": {
      "text/plain": [
       "500"
      ]
     },
     "metadata": {},
     "output_type": "display_data"
    },
    {
     "data": {
      "text/plain": [
       "{'Kolya': 162,\n",
       " 'Marina': 176,\n",
       " 'Misha': 158,\n",
       " 'Dima': 201,\n",
       " 'Yana': 183,\n",
       " 'Nina': 156,\n",
       " 'Stas': 178,\n",
       " 'Ilya': 198}"
      ]
     },
     "metadata": {},
     "output_type": "display_data"
    },
    {
     "data": {
      "text/plain": [
       "162"
      ]
     },
     "metadata": {},
     "output_type": "display_data"
    },
    {
     "data": {
      "text/plain": [
       "{'Marina': 176,\n",
       " 'Misha': 162,\n",
       " 'Dima': 201,\n",
       " 'Yana': 183,\n",
       " 'Nina': 156,\n",
       " 'Stas': 178,\n",
       " 'Ilya': 198,\n",
       " 'Alena': 174}"
      ]
     },
     "execution_count": 109,
     "metadata": {},
     "output_type": "execute_result"
    }
   ],
   "source": [
    "friends = {\"Kolya\": 180, \"Marina\": 176, \"Misha\": 158, \"Dima\": 201, \"Yana\": 183, \"Nina\": 156}\n",
    "\n",
    "try:\n",
    "    display(friends.get('matvey', 500))\n",
    "except KeyError:\n",
    "    display(friends.get('Irina', 100))\n",
    "    \n",
    "friends.update({'Stas': 178, 'Ilya': 198})\n",
    "friends.update({'Kolya': 162})\n",
    "display(friends)\n",
    "\n",
    "best_friend_height = friends.pop('Kolya')\n",
    "display(best_friend_height)\n",
    "\n",
    "friends.setdefault('Alena', 174)\n",
    "friends.setdefault('Misha', 162)\n",
    "friends.update({'Misha': 162})\n",
    "friends"
   ]
  },
  {
   "cell_type": "code",
   "execution_count": 127,
   "metadata": {},
   "outputs": [
    {
     "data": {
      "text/plain": [
       "{'e', 'h', 'l', 'o'}"
      ]
     },
     "metadata": {},
     "output_type": "display_data"
    },
    {
     "data": {
      "text/plain": [
       "set"
      ]
     },
     "metadata": {},
     "output_type": "display_data"
    },
    {
     "data": {
      "text/plain": [
       "{' ', (3, 4, 5, 'shit'), 1, 2, 'a', 'c', 'h', 'l', 'o', 's', 't', 'w'}"
      ]
     },
     "metadata": {},
     "output_type": "display_data"
    }
   ],
   "source": [
    "hello = set('hello')\n",
    "display(hello)\n",
    "display(type(hello))\n",
    "\n",
    "t1 = 'wow thats cool'\n",
    "t1 = set(t1)\n",
    "t1.update({1, 2, (3, 4, 5, 'shit')})\n",
    "\n",
    "ww = 2\n",
    "\n",
    "try:\n",
    "    t1.remove(3)\n",
    "    display(t1)\n",
    "except KeyError:\n",
    "    t1.discard(3)\n",
    "    display(t1)"
   ]
  },
  {
   "cell_type": "code",
   "execution_count": 133,
   "metadata": {},
   "outputs": [
    {
     "data": {
      "text/plain": [
       "{'item1', 'item2', 'item3', 'item4', 'item5', 'item7'}"
      ]
     },
     "metadata": {},
     "output_type": "display_data"
    },
    {
     "data": {
      "text/plain": [
       "{'item2', 'item3'}"
      ]
     },
     "metadata": {},
     "output_type": "display_data"
    },
    {
     "data": {
      "text/plain": [
       "{'item1', 'item4'}"
      ]
     },
     "metadata": {},
     "output_type": "display_data"
    },
    {
     "data": {
      "text/plain": [
       "True"
      ]
     },
     "metadata": {},
     "output_type": "display_data"
    }
   ],
   "source": [
    "cluster1 = {\"item1\", \"item2\", \"item3\", \"item4\"}\n",
    "cluster2 = {\"item2\", \"item3\", \"item5\", \"item7\"}\n",
    "\n",
    "cluster3 = cluster1.union(cluster2)\n",
    "display(cluster3)\n",
    "\n",
    "cluster4 = cluster1.intersection(cluster2)\n",
    "display(cluster4)\n",
    "\n",
    "cluster5 = cluster1.difference(cluster2)\n",
    "display(cluster5)\n",
    "\n",
    "display(cluster1.issubset(cluster3))"
   ]
  },
  {
   "cell_type": "code",
   "execution_count": 141,
   "metadata": {},
   "outputs": [
    {
     "name": "stdout",
     "output_type": "stream",
     "text": [
      "I am 24 years old\n"
     ]
    },
    {
     "data": {
      "text/plain": [
       "1990"
      ]
     },
     "execution_count": 141,
     "metadata": {},
     "output_type": "execute_result"
    }
   ],
   "source": [
    "str1 = 'I am'\n",
    "int1 = 24\n",
    "str2 = str(int1)\n",
    "str3 = 'years old'\n",
    "\n",
    "print(str1 , str2 , str3)\n",
    "\n",
    "my_date = \"1990.0\"\n",
    "int(float(my_date))"
   ]
  },
  {
   "cell_type": "code",
   "execution_count": 166,
   "metadata": {},
   "outputs": [
    {
     "data": {
      "text/plain": [
       "['Anne', 'Sam', 'Marie', 'Tanya', 'Ilya']"
      ]
     },
     "metadata": {},
     "output_type": "display_data"
    }
   ],
   "source": [
    "dictionary = {\"Anne\": 15, \"Sam\": 30, \"Marie\": 22}\n",
    "only_keys = dictionary.keys()\n",
    "only_keys = list(only_keys)\n",
    "\n",
    "new_keys = only_keys.copy()\n",
    "new_keys.append('Ilya')\n",
    "new_keys.insert(-1, 'Tanya')\n",
    "display(new_keys)"
   ]
  },
  {
   "cell_type": "code",
   "execution_count": 170,
   "metadata": {},
   "outputs": [
    {
     "data": {
      "text/plain": [
       "'catcatcat'"
      ]
     },
     "execution_count": 170,
     "metadata": {},
     "output_type": "execute_result"
    }
   ],
   "source": [
    "'cat' * 3"
   ]
  },
  {
   "cell_type": "code",
   "execution_count": 172,
   "metadata": {},
   "outputs": [
    {
     "data": {
      "text/plain": [
       "'Astringwithwhitespace'"
      ]
     },
     "execution_count": 172,
     "metadata": {},
     "output_type": "execute_result"
    }
   ],
   "source": [
    "s = 'A string with white space'\n",
    "s.replace(' ', '')"
   ]
  },
  {
   "cell_type": "code",
   "execution_count": 175,
   "metadata": {},
   "outputs": [
    {
     "name": "stdout",
     "output_type": "stream",
     "text": [
      "dict_items([(1, '1'), ('2', 2), (3, '3')])\n",
      "1\n",
      "2\n",
      "None\n"
     ]
    }
   ],
   "source": [
    "d = {\n",
    "    1: '1',\n",
    "    '2': 2,\n",
    "    3: '3',\n",
    "}\n",
    "\n",
    "print(d.items())\n",
    "\n",
    "def get_key(d, value):\n",
    "    for k, v in d.items():\n",
    "        if v == value:\n",
    "            return k\n",
    "print(get_key(d, '1'))\n",
    "print(get_key(d, 2))\n",
    "print(get_key(d, 42))"
   ]
  },
  {
   "cell_type": "code",
   "execution_count": 178,
   "metadata": {},
   "outputs": [
    {
     "name": "stdout",
     "output_type": "stream",
     "text": [
      "65\n"
     ]
    },
    {
     "data": {
      "text/plain": [
       "True"
      ]
     },
     "execution_count": 178,
     "metadata": {},
     "output_type": "execute_result"
    }
   ],
   "source": [
    "print(ord('A'))\n",
    "\n",
    "ord('A') == 65"
   ]
  },
  {
   "cell_type": "code",
   "execution_count": 188,
   "metadata": {},
   "outputs": [
    {
     "name": "stdout",
     "output_type": "stream",
     "text": [
      "['коту тащат уток', 'мадам', 'казак', 'шалаш']\n"
     ]
    }
   ],
   "source": [
    "target_string = [\"шалаш\", \"казак\", \"мадам\", \"коту тащат уток\"]\n",
    "target_string.reverse()\n",
    "print(target_string)"
   ]
  },
  {
   "cell_type": "code",
   "execution_count": 198,
   "metadata": {},
   "outputs": [
    {
     "name": "stdout",
     "output_type": "stream",
     "text": [
      "True казак\n"
     ]
    }
   ],
   "source": [
    "target_string = 'Казак'\n",
    "target_string.lower()\n",
    "''.join(target_string.split(' '))\n",
    "result = target_string == target_string[::-1]\n",
    "print(result, target_string)"
   ]
  },
  {
   "cell_type": "code",
   "execution_count": 2,
   "metadata": {},
   "outputs": [
    {
     "data": {
      "text/plain": [
       "True"
      ]
     },
     "execution_count": 2,
     "metadata": {},
     "output_type": "execute_result"
    }
   ],
   "source": [
    "not  not True"
   ]
  },
  {
   "cell_type": "code",
   "execution_count": 7,
   "metadata": {},
   "outputs": [
    {
     "data": {
      "text/plain": [
       "True"
      ]
     },
     "execution_count": 7,
     "metadata": {},
     "output_type": "execute_result"
    }
   ],
   "source": [
    "orders = {\n",
    "    '2022-10-10': ['F124', 'D89D', '142L'],\n",
    "    '2022-10-11': ['H241', 'OR24', 'BE14', '348F'],\n",
    "    '2022-10-12': ['H429', 'JAS2']\n",
    "}\n",
    "\n",
    "'H429' in orders['2022-10-12'] or \\\n",
    "'H429' in orders['2022-10-11'] or \\\n",
    "'H429' in orders['2022-10-10']"
   ]
  },
  {
   "cell_type": "code",
   "execution_count": 11,
   "metadata": {},
   "outputs": [
    {
     "data": {
      "text/plain": [
       "False"
      ]
     },
     "execution_count": 11,
     "metadata": {},
     "output_type": "execute_result"
    }
   ],
   "source": [
    "x, y = 'F', 9 \n",
    "move_is_correct = x in ['A', 'B', 'C', 'D', 'E', 'F', 'G', 'H'] and y in list(range(1, 9))\n",
    "move_is_correct\n"
   ]
  },
  {
   "cell_type": "code",
   "execution_count": 18,
   "metadata": {},
   "outputs": [
    {
     "data": {
      "text/plain": [
       "True"
      ]
     },
     "execution_count": 18,
     "metadata": {},
     "output_type": "execute_result"
    }
   ],
   "source": [
    "N = 45901\n",
    "first_is_even = int(str(N)[0]) % 2 == 0\n",
    "first_is_even"
   ]
  },
  {
   "cell_type": "code",
   "execution_count": 22,
   "metadata": {},
   "outputs": [
    {
     "data": {
      "text/plain": [
       "False"
      ]
     },
     "execution_count": 22,
     "metadata": {},
     "output_type": "execute_result"
    }
   ],
   "source": [
    "year = 2100\n",
    "year_is_leap = (year % 400 == 0) or \\\n",
    "((year % 4 == 0) and (year % 100 != 0)) \n",
    "year_is_leap"
   ]
  },
  {
   "cell_type": "code",
   "execution_count": 23,
   "metadata": {},
   "outputs": [
    {
     "name": "stdout",
     "output_type": "stream",
     "text": [
      "['C++', 'Python', 'Java', 'JavaScript']\n",
      "None\n"
     ]
    }
   ],
   "source": [
    "lst = ['C++', 'Python', 'Java']\n",
    "append_result = lst.append('JavaScript')\n",
    "print(lst)\n",
    "## ['C++', 'Python', 'Java', 'JavaScript']\n",
    "print(append_result)\n",
    "## None"
   ]
  },
  {
   "cell_type": "code",
   "execution_count": 28,
   "metadata": {},
   "outputs": [
    {
     "data": {
      "text/plain": [
       "True"
      ]
     },
     "execution_count": 28,
     "metadata": {},
     "output_type": "execute_result"
    }
   ],
   "source": [
    "arrival_of_goods = {\n",
    "    '148902': {\n",
    "        'Футболка с принтом': 180,\n",
    "        'Свитшот черный': 245,\n",
    "        'Джинсы серые': 252\n",
    "    },\n",
    "    '893516': {\n",
    "        'Футболка с принтом': 43,\n",
    "        'Свитшот черный': 64,\n",
    "        'Джинсы черные': 102\n",
    "    },\n",
    "    '893481': {\n",
    "        'Кружка керамическая': 35,\n",
    "        'Свитшот черный': 10,\n",
    "        'Джинсы сервые': 14\n",
    "    }\n",
    "}\n",
    "\n",
    "invoice_number = '148902'\n",
    "invoice_exists = arrival_of_goods.get(invoice_number) is not None\n",
    "invoice_exists"
   ]
  }
 ],
 "metadata": {
  "kernelspec": {
   "display_name": "Python 3",
   "language": "python",
   "name": "python3"
  },
  "language_info": {
   "codemirror_mode": {
    "name": "ipython",
    "version": 3
   },
   "file_extension": ".py",
   "mimetype": "text/x-python",
   "name": "python",
   "nbconvert_exporter": "python",
   "pygments_lexer": "ipython3",
   "version": "3.9.10"
  },
  "orig_nbformat": 4
 },
 "nbformat": 4,
 "nbformat_minor": 2
}
