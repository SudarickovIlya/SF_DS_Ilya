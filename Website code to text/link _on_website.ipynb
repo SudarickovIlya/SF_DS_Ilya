{
 "cells": [
  {
   "cell_type": "markdown",
   "metadata": {},
   "source": [
    "***Включить ВПН перед запуском ноутбука! ))***"
   ]
  },
  {
   "cell_type": "code",
   "execution_count": 1,
   "metadata": {},
   "outputs": [],
   "source": [
    "import requests\n",
    "from bs4 import BeautifulSoup\n",
    "from pprint import pprint\n",
    "import json"
   ]
  },
  {
   "cell_type": "code",
   "execution_count": 2,
   "metadata": {},
   "outputs": [],
   "source": [
    "link = requests.get('https://www.linkedin.com/company/lvmh')"
   ]
  },
  {
   "cell_type": "code",
   "execution_count": 3,
   "metadata": {},
   "outputs": [
    {
     "name": "stdout",
     "output_type": "stream",
     "text": [
      "None\n"
     ]
    }
   ],
   "source": [
    "page = BeautifulSoup(link.text, 'html.parser')\n",
    "print(page.title)"
   ]
  },
  {
   "cell_type": "code",
   "execution_count": 4,
   "metadata": {},
   "outputs": [
    {
     "data": {
      "text/plain": [
       "requests.models.Response"
      ]
     },
     "metadata": {},
     "output_type": "display_data"
    },
    {
     "name": "stdout",
     "output_type": "stream",
     "text": [
      "('<html><head>\\n'\n",
      " '<script type=\"text/javascript\">\\n'\n",
      " 'window.onload = function() {\\n'\n",
      " '  // Parse the tracking code from cookies.\\n'\n",
      " '  var trk = \"bf\";\\n'\n",
      " '  var trkInfo = \"bf\";\\n'\n",
      " '  var cookies = document.cookie.split(\"; \");\\n'\n",
      " '  for (var i = 0; i < cookies.length; ++i) {\\n'\n",
      " '    if ((cookies[i].indexOf(\"trkCode=\") == 0) && (cookies[i].length > 8)) {\\n'\n",
      " '      trk = cookies[i].substring(8);\\n'\n",
      " '    }\\n'\n",
      " '    else if ((cookies[i].indexOf(\"trkInfo=\") == 0) && (cookies[i].length > '\n",
      " '8)) {\\n'\n",
      " '      trkInfo = cookies[i].substring(8);\\n'\n",
      " '    }\\n'\n",
      " '  }\\n'\n",
      " '\\n'\n",
      " '  if (window.location.protocol == \"http:\") {\\n'\n",
      " '    // If \"sl\" cookie is set, redirect to https.\\n'\n",
      " '    for (var i = 0; i < cookies.length; ++i) {\\n'\n",
      " '      if ((cookies[i].indexOf(\"sl=\") == 0) && (cookies[i].length > 3)) {\\n'\n",
      " '        window.location.href = \"https:\" + '\n",
      " 'window.location.href.substring(window.location.protocol.length);\\n'\n",
      " '        return;\\n'\n",
      " '      }\\n'\n",
      " '    }\\n'\n",
      " '  }\\n'\n",
      " '\\n'\n",
      " '  // Get the new domain. For international domains such as\\n'\n",
      " '  // fr.linkedin.com, we convert it to www.linkedin.com\\n'\n",
      " '  // treat .cn similar to .com here\\n'\n",
      " '  var domain = location.host;\\n'\n",
      " '  if (domain != \"www.linkedin.com\" && domain != \"www.linkedin.cn\") {\\n'\n",
      " '    var subdomainIndex = location.host.indexOf(\".linkedin\");\\n'\n",
      " '    if (subdomainIndex != -1) {\\n'\n",
      " '      domain = \"www\" + location.host.substring(subdomainIndex);\\n'\n",
      " '    }\\n'\n",
      " '  }\\n'\n",
      " '\\n'\n",
      " '  window.location.href = \"https://\" + domain + \"/authwall?trk=\" + trk + '\n",
      " '\"&trkInfo=\" + trkInfo +\\n'\n",
      " '      \"&original_referer=\" + document.referrer.substr(0, 200) +\\n'\n",
      " '      \"&sessionRedirect=\" + encodeURIComponent(window.location.href);\\n'\n",
      " '}\\n'\n",
      " '</script>\\n'\n",
      " '</head></html>\\n')\n"
     ]
    }
   ],
   "source": [
    "display(type(link))\n",
    "pprint(link.text)"
   ]
  },
  {
   "cell_type": "code",
   "execution_count": 5,
   "metadata": {},
   "outputs": [],
   "source": [
    "new_text = open('new.txt', 'w+')\n",
    "new_text.write(link.text)\n",
    "new_text.close()"
   ]
  }
 ],
 "metadata": {
  "kernelspec": {
   "display_name": "Python 3",
   "language": "python",
   "name": "python3"
  },
  "language_info": {
   "codemirror_mode": {
    "name": "ipython",
    "version": 3
   },
   "file_extension": ".py",
   "mimetype": "text/x-python",
   "name": "python",
   "nbconvert_exporter": "python",
   "pygments_lexer": "ipython3",
   "version": "3.9.10"
  },
  "orig_nbformat": 4
 },
 "nbformat": 4,
 "nbformat_minor": 2
}
