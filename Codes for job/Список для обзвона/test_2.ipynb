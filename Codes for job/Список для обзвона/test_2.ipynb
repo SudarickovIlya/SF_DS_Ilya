{
 "cells": [
  {
   "cell_type": "code",
   "execution_count": 1,
   "metadata": {},
   "outputs": [],
   "source": [
    "import pandas as pd\n",
    "import numpy as np"
   ]
  },
  {
   "cell_type": "code",
   "execution_count": 2,
   "metadata": {},
   "outputs": [
    {
     "ename": "MergeError",
     "evalue": "Passing 'suffixes' which cause duplicate columns {'Контактное лицо_x'} is not allowed.",
     "output_type": "error",
     "traceback": [
      "\u001b[1;31m---------------------------------------------------------------------------\u001b[0m",
      "\u001b[1;31mMergeError\u001b[0m                                Traceback (most recent call last)",
      "\u001b[1;32mc:\\Users\\qwert\\SF_DS_Ilya\\Codes for job\\Список для обзвона\\test_2.ipynb Cell 2\u001b[0m line \u001b[0;36m1\n\u001b[0;32m      <a href='vscode-notebook-cell:/c%3A/Users/qwert/SF_DS_Ilya/Codes%20for%20job/%D0%A1%D0%BF%D0%B8%D1%81%D0%BE%D0%BA%20%D0%B4%D0%BB%D1%8F%20%D0%BE%D0%B1%D0%B7%D0%B2%D0%BE%D0%BD%D0%B0/test_2.ipynb#W1sZmlsZQ%3D%3D?line=7'>8</a>\u001b[0m df_final \u001b[39m=\u001b[39m df\u001b[39m.\u001b[39mmerge(df_mail[[\u001b[39m'\u001b[39m\u001b[39mНаименование компании\u001b[39m\u001b[39m'\u001b[39m, \u001b[39m'\u001b[39m\u001b[39mКонтактное лицо\u001b[39m\u001b[39m'\u001b[39m]], on \u001b[39m=\u001b[39m \u001b[39m'\u001b[39m\u001b[39mНаименование компании\u001b[39m\u001b[39m'\u001b[39m, how\u001b[39m=\u001b[39m\u001b[39m'\u001b[39m\u001b[39mleft\u001b[39m\u001b[39m'\u001b[39m)\n\u001b[0;32m      <a href='vscode-notebook-cell:/c%3A/Users/qwert/SF_DS_Ilya/Codes%20for%20job/%D0%A1%D0%BF%D0%B8%D1%81%D0%BE%D0%BA%20%D0%B4%D0%BB%D1%8F%20%D0%BE%D0%B1%D0%B7%D0%B2%D0%BE%D0%BD%D0%B0/test_2.ipynb#W1sZmlsZQ%3D%3D?line=8'>9</a>\u001b[0m df_final \u001b[39m=\u001b[39m df_final\u001b[39m.\u001b[39mmerge(df_tel[[\u001b[39m'\u001b[39m\u001b[39mНаименование компании\u001b[39m\u001b[39m'\u001b[39m, \u001b[39m'\u001b[39m\u001b[39mКонтактное лицо\u001b[39m\u001b[39m'\u001b[39m]], on \u001b[39m=\u001b[39m \u001b[39m'\u001b[39m\u001b[39mНаименование компании\u001b[39m\u001b[39m'\u001b[39m, how\u001b[39m=\u001b[39m\u001b[39m'\u001b[39m\u001b[39mleft\u001b[39m\u001b[39m'\u001b[39m)\n\u001b[1;32m---> <a href='vscode-notebook-cell:/c%3A/Users/qwert/SF_DS_Ilya/Codes%20for%20job/%D0%A1%D0%BF%D0%B8%D1%81%D0%BE%D0%BA%20%D0%B4%D0%BB%D1%8F%20%D0%BE%D0%B1%D0%B7%D0%B2%D0%BE%D0%BD%D0%B0/test_2.ipynb#W1sZmlsZQ%3D%3D?line=9'>10</a>\u001b[0m df_final \u001b[39m=\u001b[39m df_final\u001b[39m.\u001b[39;49mmerge(df_name[[\u001b[39m'\u001b[39;49m\u001b[39mНаименование компании\u001b[39;49m\u001b[39m'\u001b[39;49m, \u001b[39m'\u001b[39;49m\u001b[39mКонтактное лицо\u001b[39;49m\u001b[39m'\u001b[39;49m]], on \u001b[39m=\u001b[39;49m \u001b[39m'\u001b[39;49m\u001b[39mНаименование компании\u001b[39;49m\u001b[39m'\u001b[39;49m, how\u001b[39m=\u001b[39;49m\u001b[39m'\u001b[39;49m\u001b[39mleft\u001b[39;49m\u001b[39m'\u001b[39;49m)\n\u001b[0;32m     <a href='vscode-notebook-cell:/c%3A/Users/qwert/SF_DS_Ilya/Codes%20for%20job/%D0%A1%D0%BF%D0%B8%D1%81%D0%BE%D0%BA%20%D0%B4%D0%BB%D1%8F%20%D0%BE%D0%B1%D0%B7%D0%B2%D0%BE%D0%BD%D0%B0/test_2.ipynb#W1sZmlsZQ%3D%3D?line=11'>12</a>\u001b[0m df_final \u001b[39m=\u001b[39m df_final\u001b[39m.\u001b[39mdrop_duplicates(subset\u001b[39m=\u001b[39m\u001b[39m'\u001b[39m\u001b[39mНаименование компании\u001b[39m\u001b[39m'\u001b[39m)\n\u001b[0;32m     <a href='vscode-notebook-cell:/c%3A/Users/qwert/SF_DS_Ilya/Codes%20for%20job/%D0%A1%D0%BF%D0%B8%D1%81%D0%BE%D0%BA%20%D0%B4%D0%BB%D1%8F%20%D0%BE%D0%B1%D0%B7%D0%B2%D0%BE%D0%BD%D0%B0/test_2.ipynb#W1sZmlsZQ%3D%3D?line=12'>13</a>\u001b[0m df_final\u001b[39m.\u001b[39mto_excel(excel_writer\u001b[39m=\u001b[39m\u001b[39m'\u001b[39m\u001b[39mnew.xlsx\u001b[39m\u001b[39m'\u001b[39m)\n",
      "File \u001b[1;32mc:\\Users\\qwert\\AppData\\Local\\Programs\\Python\\Python39\\lib\\site-packages\\pandas\\core\\frame.py:9843\u001b[0m, in \u001b[0;36mDataFrame.merge\u001b[1;34m(self, right, how, on, left_on, right_on, left_index, right_index, sort, suffixes, copy, indicator, validate)\u001b[0m\n\u001b[0;32m   9824\u001b[0m \u001b[39m@Substitution\u001b[39m(\u001b[39m\"\u001b[39m\u001b[39m\"\u001b[39m)\n\u001b[0;32m   9825\u001b[0m \u001b[39m@Appender\u001b[39m(_merge_doc, indents\u001b[39m=\u001b[39m\u001b[39m2\u001b[39m)\n\u001b[0;32m   9826\u001b[0m \u001b[39mdef\u001b[39;00m \u001b[39mmerge\u001b[39m(\n\u001b[1;32m   (...)\u001b[0m\n\u001b[0;32m   9839\u001b[0m     validate: \u001b[39mstr\u001b[39m \u001b[39m|\u001b[39m \u001b[39mNone\u001b[39;00m \u001b[39m=\u001b[39m \u001b[39mNone\u001b[39;00m,\n\u001b[0;32m   9840\u001b[0m ) \u001b[39m-\u001b[39m\u001b[39m>\u001b[39m DataFrame:\n\u001b[0;32m   9841\u001b[0m     \u001b[39mfrom\u001b[39;00m \u001b[39mpandas\u001b[39;00m\u001b[39m.\u001b[39;00m\u001b[39mcore\u001b[39;00m\u001b[39m.\u001b[39;00m\u001b[39mreshape\u001b[39;00m\u001b[39m.\u001b[39;00m\u001b[39mmerge\u001b[39;00m \u001b[39mimport\u001b[39;00m merge\n\u001b[1;32m-> 9843\u001b[0m     \u001b[39mreturn\u001b[39;00m merge(\n\u001b[0;32m   9844\u001b[0m         \u001b[39mself\u001b[39;49m,\n\u001b[0;32m   9845\u001b[0m         right,\n\u001b[0;32m   9846\u001b[0m         how\u001b[39m=\u001b[39;49mhow,\n\u001b[0;32m   9847\u001b[0m         on\u001b[39m=\u001b[39;49mon,\n\u001b[0;32m   9848\u001b[0m         left_on\u001b[39m=\u001b[39;49mleft_on,\n\u001b[0;32m   9849\u001b[0m         right_on\u001b[39m=\u001b[39;49mright_on,\n\u001b[0;32m   9850\u001b[0m         left_index\u001b[39m=\u001b[39;49mleft_index,\n\u001b[0;32m   9851\u001b[0m         right_index\u001b[39m=\u001b[39;49mright_index,\n\u001b[0;32m   9852\u001b[0m         sort\u001b[39m=\u001b[39;49msort,\n\u001b[0;32m   9853\u001b[0m         suffixes\u001b[39m=\u001b[39;49msuffixes,\n\u001b[0;32m   9854\u001b[0m         copy\u001b[39m=\u001b[39;49mcopy,\n\u001b[0;32m   9855\u001b[0m         indicator\u001b[39m=\u001b[39;49mindicator,\n\u001b[0;32m   9856\u001b[0m         validate\u001b[39m=\u001b[39;49mvalidate,\n\u001b[0;32m   9857\u001b[0m     )\n",
      "File \u001b[1;32mc:\\Users\\qwert\\AppData\\Local\\Programs\\Python\\Python39\\lib\\site-packages\\pandas\\core\\reshape\\merge.py:162\u001b[0m, in \u001b[0;36mmerge\u001b[1;34m(left, right, how, on, left_on, right_on, left_index, right_index, sort, suffixes, copy, indicator, validate)\u001b[0m\n\u001b[0;32m    131\u001b[0m \u001b[39m@Substitution\u001b[39m(\u001b[39m\"\u001b[39m\u001b[39m\\n\u001b[39;00m\u001b[39mleft : DataFrame or named Series\u001b[39m\u001b[39m\"\u001b[39m)\n\u001b[0;32m    132\u001b[0m \u001b[39m@Appender\u001b[39m(_merge_doc, indents\u001b[39m=\u001b[39m\u001b[39m0\u001b[39m)\n\u001b[0;32m    133\u001b[0m \u001b[39mdef\u001b[39;00m \u001b[39mmerge\u001b[39m(\n\u001b[1;32m   (...)\u001b[0m\n\u001b[0;32m    146\u001b[0m     validate: \u001b[39mstr\u001b[39m \u001b[39m|\u001b[39m \u001b[39mNone\u001b[39;00m \u001b[39m=\u001b[39m \u001b[39mNone\u001b[39;00m,\n\u001b[0;32m    147\u001b[0m ) \u001b[39m-\u001b[39m\u001b[39m>\u001b[39m DataFrame:\n\u001b[0;32m    148\u001b[0m     op \u001b[39m=\u001b[39m _MergeOperation(\n\u001b[0;32m    149\u001b[0m         left,\n\u001b[0;32m    150\u001b[0m         right,\n\u001b[1;32m   (...)\u001b[0m\n\u001b[0;32m    160\u001b[0m         validate\u001b[39m=\u001b[39mvalidate,\n\u001b[0;32m    161\u001b[0m     )\n\u001b[1;32m--> 162\u001b[0m     \u001b[39mreturn\u001b[39;00m op\u001b[39m.\u001b[39;49mget_result(copy\u001b[39m=\u001b[39;49mcopy)\n",
      "File \u001b[1;32mc:\\Users\\qwert\\AppData\\Local\\Programs\\Python\\Python39\\lib\\site-packages\\pandas\\core\\reshape\\merge.py:811\u001b[0m, in \u001b[0;36m_MergeOperation.get_result\u001b[1;34m(self, copy)\u001b[0m\n\u001b[0;32m    807\u001b[0m     \u001b[39mself\u001b[39m\u001b[39m.\u001b[39mleft, \u001b[39mself\u001b[39m\u001b[39m.\u001b[39mright \u001b[39m=\u001b[39m \u001b[39mself\u001b[39m\u001b[39m.\u001b[39m_indicator_pre_merge(\u001b[39mself\u001b[39m\u001b[39m.\u001b[39mleft, \u001b[39mself\u001b[39m\u001b[39m.\u001b[39mright)\n\u001b[0;32m    809\u001b[0m join_index, left_indexer, right_indexer \u001b[39m=\u001b[39m \u001b[39mself\u001b[39m\u001b[39m.\u001b[39m_get_join_info()\n\u001b[1;32m--> 811\u001b[0m result \u001b[39m=\u001b[39m \u001b[39mself\u001b[39;49m\u001b[39m.\u001b[39;49m_reindex_and_concat(\n\u001b[0;32m    812\u001b[0m     join_index, left_indexer, right_indexer, copy\u001b[39m=\u001b[39;49mcopy\n\u001b[0;32m    813\u001b[0m )\n\u001b[0;32m    814\u001b[0m result \u001b[39m=\u001b[39m result\u001b[39m.\u001b[39m__finalize__(\u001b[39mself\u001b[39m, method\u001b[39m=\u001b[39m\u001b[39mself\u001b[39m\u001b[39m.\u001b[39m_merge_type)\n\u001b[0;32m    816\u001b[0m \u001b[39mif\u001b[39;00m \u001b[39mself\u001b[39m\u001b[39m.\u001b[39mindicator:\n",
      "File \u001b[1;32mc:\\Users\\qwert\\AppData\\Local\\Programs\\Python\\Python39\\lib\\site-packages\\pandas\\core\\reshape\\merge.py:763\u001b[0m, in \u001b[0;36m_MergeOperation._reindex_and_concat\u001b[1;34m(self, join_index, left_indexer, right_indexer, copy)\u001b[0m\n\u001b[0;32m    760\u001b[0m left \u001b[39m=\u001b[39m \u001b[39mself\u001b[39m\u001b[39m.\u001b[39mleft[:]\n\u001b[0;32m    761\u001b[0m right \u001b[39m=\u001b[39m \u001b[39mself\u001b[39m\u001b[39m.\u001b[39mright[:]\n\u001b[1;32m--> 763\u001b[0m llabels, rlabels \u001b[39m=\u001b[39m _items_overlap_with_suffix(\n\u001b[0;32m    764\u001b[0m     \u001b[39mself\u001b[39;49m\u001b[39m.\u001b[39;49mleft\u001b[39m.\u001b[39;49m_info_axis, \u001b[39mself\u001b[39;49m\u001b[39m.\u001b[39;49mright\u001b[39m.\u001b[39;49m_info_axis, \u001b[39mself\u001b[39;49m\u001b[39m.\u001b[39;49msuffixes\n\u001b[0;32m    765\u001b[0m )\n\u001b[0;32m    767\u001b[0m \u001b[39mif\u001b[39;00m left_indexer \u001b[39mis\u001b[39;00m \u001b[39mnot\u001b[39;00m \u001b[39mNone\u001b[39;00m \u001b[39mand\u001b[39;00m \u001b[39mnot\u001b[39;00m is_range_indexer(left_indexer, \u001b[39mlen\u001b[39m(left)):\n\u001b[0;32m    768\u001b[0m     \u001b[39m# Pinning the index here (and in the right code just below) is not\u001b[39;00m\n\u001b[0;32m    769\u001b[0m     \u001b[39m#  necessary, but makes the `.take` more performant if we have e.g.\u001b[39;00m\n\u001b[0;32m    770\u001b[0m     \u001b[39m#  a MultiIndex for left.index.\u001b[39;00m\n\u001b[0;32m    771\u001b[0m     lmgr \u001b[39m=\u001b[39m left\u001b[39m.\u001b[39m_mgr\u001b[39m.\u001b[39mreindex_indexer(\n\u001b[0;32m    772\u001b[0m         join_index,\n\u001b[0;32m    773\u001b[0m         left_indexer,\n\u001b[1;32m   (...)\u001b[0m\n\u001b[0;32m    778\u001b[0m         use_na_proxy\u001b[39m=\u001b[39m\u001b[39mTrue\u001b[39;00m,\n\u001b[0;32m    779\u001b[0m     )\n",
      "File \u001b[1;32mc:\\Users\\qwert\\AppData\\Local\\Programs\\Python\\Python39\\lib\\site-packages\\pandas\\core\\reshape\\merge.py:2640\u001b[0m, in \u001b[0;36m_items_overlap_with_suffix\u001b[1;34m(left, right, suffixes)\u001b[0m\n\u001b[0;32m   2638\u001b[0m     dups\u001b[39m.\u001b[39mextend(rlabels[(rlabels\u001b[39m.\u001b[39mduplicated()) \u001b[39m&\u001b[39m (\u001b[39m~\u001b[39mright\u001b[39m.\u001b[39mduplicated())]\u001b[39m.\u001b[39mtolist())\n\u001b[0;32m   2639\u001b[0m \u001b[39mif\u001b[39;00m dups:\n\u001b[1;32m-> 2640\u001b[0m     \u001b[39mraise\u001b[39;00m MergeError(\n\u001b[0;32m   2641\u001b[0m         \u001b[39mf\u001b[39m\u001b[39m\"\u001b[39m\u001b[39mPassing \u001b[39m\u001b[39m'\u001b[39m\u001b[39msuffixes\u001b[39m\u001b[39m'\u001b[39m\u001b[39m which cause duplicate columns \u001b[39m\u001b[39m{\u001b[39;00m\u001b[39mset\u001b[39m(dups)\u001b[39m}\u001b[39;00m\u001b[39m is \u001b[39m\u001b[39m\"\u001b[39m\n\u001b[0;32m   2642\u001b[0m         \u001b[39mf\u001b[39m\u001b[39m\"\u001b[39m\u001b[39mnot allowed.\u001b[39m\u001b[39m\"\u001b[39m,\n\u001b[0;32m   2643\u001b[0m     )\n\u001b[0;32m   2645\u001b[0m \u001b[39mreturn\u001b[39;00m llabels, rlabels\n",
      "\u001b[1;31mMergeError\u001b[0m: Passing 'suffixes' which cause duplicate columns {'Контактное лицо_x'} is not allowed."
     ]
    }
   ],
   "source": [
    "df = pd.read_excel('data/входящие.xlsx')\n",
    "\n",
    "df = df.fillna(method='ffill')\n",
    "\n",
    "df_mail = df[df['Контактное лицо'].str.contains('E-mail') == True]\n",
    "df_tel = df[df['Контактное лицо'].str.contains('Тел.') == True]\n",
    "df_name = df[df['Контактное лицо'].str.contains('Тел.' or 'E-mail')==False]\n",
    "df_final = df.merge(df_mail[['Наименование компании', 'Контактное лицо']], on = 'Наименование компании', how='left')\n",
    "df_final = df_final.merge(df_tel[['Наименование компании', 'Контактное лицо']], on = 'Наименование компании', how='left')\n",
    "df_final = df_final.merge(df_name[['Наименование компании', 'Контактное лицо']], on = 'Наименование компании', how='left')\n",
    "\n",
    "df_final = df_final.drop_duplicates(subset='Наименование компании')\n",
    "df_final.to_excel(excel_writer='new.xlsx')"
   ]
  },
  {
   "cell_type": "code",
   "execution_count": null,
   "metadata": {},
   "outputs": [
    {
     "data": {
      "text/plain": [
       "(188, 8)"
      ]
     },
     "metadata": {},
     "output_type": "display_data"
    }
   ],
   "source": [
    "df_final = df_final.drop_duplicates(subset='Наименование компании')\n",
    "display(df_final.shape)\n",
    "df_final.to_excel(excel_writer='new.xlsx')"
   ]
  },
  {
   "cell_type": "code",
   "execution_count": null,
   "metadata": {},
   "outputs": [
    {
     "data": {
      "text/html": [
       "<div>\n",
       "<style scoped>\n",
       "    .dataframe tbody tr th:only-of-type {\n",
       "        vertical-align: middle;\n",
       "    }\n",
       "\n",
       "    .dataframe tbody tr th {\n",
       "        vertical-align: top;\n",
       "    }\n",
       "\n",
       "    .dataframe thead th {\n",
       "        text-align: right;\n",
       "    }\n",
       "</style>\n",
       "<table border=\"1\" class=\"dataframe\">\n",
       "  <thead>\n",
       "    <tr style=\"text-align: right;\">\n",
       "      <th></th>\n",
       "      <th>ФАЙЛ</th>\n",
       "      <th>Название компании</th>\n",
       "      <th>Контактные данные ответственного за ВЭД лица</th>\n",
       "    </tr>\n",
       "  </thead>\n",
       "  <tbody>\n",
       "    <tr>\n",
       "      <th>0</th>\n",
       "      <td>1</td>\n",
       "      <td>Акционерное общество \"Производственное объедин...</td>\n",
       "      <td>не заполнено</td>\n",
       "    </tr>\n",
       "    <tr>\n",
       "      <th>1</th>\n",
       "      <td>2</td>\n",
       "      <td>ООО фирма \"Дизельсервис\"</td>\n",
       "      <td>не заполнено</td>\n",
       "    </tr>\n",
       "    <tr>\n",
       "      <th>2</th>\n",
       "      <td>3</td>\n",
       "      <td>ООО СК \"Сибирь-Строй\"</td>\n",
       "      <td>Никитина Наталья Геннадьевна, тел. 8-913-060-3...</td>\n",
       "    </tr>\n",
       "    <tr>\n",
       "      <th>3</th>\n",
       "      <td>4</td>\n",
       "      <td>ООО ПКФ \"Атлантис-Пак\"</td>\n",
       "      <td>Шевцова Александра Вадимовна shevtsova_av@atla...</td>\n",
       "    </tr>\n",
       "    <tr>\n",
       "      <th>4</th>\n",
       "      <td>5</td>\n",
       "      <td>АО Медисорб</td>\n",
       "      <td>Коваленко Александр Анатольевич, a.kovalenko@m...</td>\n",
       "    </tr>\n",
       "  </tbody>\n",
       "</table>\n",
       "</div>"
      ],
      "text/plain": [
       "   ФАЙЛ                                  Название компании  \\\n",
       "0     1  Акционерное общество \"Производственное объедин...   \n",
       "1     2                           ООО фирма \"Дизельсервис\"   \n",
       "2     3                              ООО СК \"Сибирь-Строй\"   \n",
       "3     4                            ООО ПКФ \"Атлантис-Пак\"    \n",
       "4     5                                        АО Медисорб   \n",
       "\n",
       "       Контактные данные ответственного за ВЭД лица   \n",
       "0                                       не заполнено  \n",
       "1                                       не заполнено  \n",
       "2  Никитина Наталья Геннадьевна, тел. 8-913-060-3...  \n",
       "3  Шевцова Александра Вадимовна shevtsova_av@atla...  \n",
       "4  Коваленко Александр Анатольевич, a.kovalenko@m...  "
      ]
     },
     "metadata": {},
     "output_type": "display_data"
    }
   ],
   "source": [
    "mass_fin = pd.read_excel('data/Консолидированный эксель контакты.xlsx')\n",
    "display(mass_fin.head())"
   ]
  },
  {
   "cell_type": "code",
   "execution_count": 10,
   "metadata": {},
   "outputs": [
    {
     "data": {
      "text/html": [
       "<div>\n",
       "<style scoped>\n",
       "    .dataframe tbody tr th:only-of-type {\n",
       "        vertical-align: middle;\n",
       "    }\n",
       "\n",
       "    .dataframe tbody tr th {\n",
       "        vertical-align: top;\n",
       "    }\n",
       "\n",
       "    .dataframe thead th {\n",
       "        text-align: right;\n",
       "    }\n",
       "</style>\n",
       "<table border=\"1\" class=\"dataframe\">\n",
       "  <thead>\n",
       "    <tr style=\"text-align: right;\">\n",
       "      <th></th>\n",
       "      <th>ФАЙЛ</th>\n",
       "      <th>Название компании</th>\n",
       "      <th>Контактные данные ответственного за ВЭД лица</th>\n",
       "      <th>Email</th>\n",
       "    </tr>\n",
       "  </thead>\n",
       "  <tbody>\n",
       "    <tr>\n",
       "      <th>0</th>\n",
       "      <td>1</td>\n",
       "      <td>Акционерное общество \"Производственное объедин...</td>\n",
       "      <td>не заполнено</td>\n",
       "      <td>NaN</td>\n",
       "    </tr>\n",
       "    <tr>\n",
       "      <th>1</th>\n",
       "      <td>2</td>\n",
       "      <td>ООО фирма \"Дизельсервис\"</td>\n",
       "      <td>не заполнено</td>\n",
       "      <td>NaN</td>\n",
       "    </tr>\n",
       "    <tr>\n",
       "      <th>2</th>\n",
       "      <td>3</td>\n",
       "      <td>ООО СК \"Сибирь-Строй\"</td>\n",
       "      <td>Никитина Наталья Геннадьевна, тел. 8-913-060-3...</td>\n",
       "      <td>plan-03@csib.info</td>\n",
       "    </tr>\n",
       "    <tr>\n",
       "      <th>3</th>\n",
       "      <td>4</td>\n",
       "      <td>ООО ПКФ \"Атлантис-Пак\"</td>\n",
       "      <td>Шевцова Александра Вадимовна shevtsova_av@atla...</td>\n",
       "      <td>shevtsova_av@atlantis-pak.ru</td>\n",
       "    </tr>\n",
       "    <tr>\n",
       "      <th>4</th>\n",
       "      <td>5</td>\n",
       "      <td>АО Медисорб</td>\n",
       "      <td>Коваленко Александр Анатольевич, a.kovalenko@m...</td>\n",
       "      <td>a.kovalenko@medisorb.ru</td>\n",
       "    </tr>\n",
       "  </tbody>\n",
       "</table>\n",
       "</div>"
      ],
      "text/plain": [
       "   ФАЙЛ                                  Название компании  \\\n",
       "0     1  Акционерное общество \"Производственное объедин...   \n",
       "1     2                           ООО фирма \"Дизельсервис\"   \n",
       "2     3                              ООО СК \"Сибирь-Строй\"   \n",
       "3     4                            ООО ПКФ \"Атлантис-Пак\"    \n",
       "4     5                                        АО Медисорб   \n",
       "\n",
       "       Контактные данные ответственного за ВЭД лица   \\\n",
       "0                                       не заполнено   \n",
       "1                                       не заполнено   \n",
       "2  Никитина Наталья Геннадьевна, тел. 8-913-060-3...   \n",
       "3  Шевцова Александра Вадимовна shevtsova_av@atla...   \n",
       "4  Коваленко Александр Анатольевич, a.kovalenko@m...   \n",
       "\n",
       "                          Email  \n",
       "0                           NaN  \n",
       "1                           NaN  \n",
       "2             plan-03@csib.info  \n",
       "3  shevtsova_av@atlantis-pak.ru  \n",
       "4       a.kovalenko@medisorb.ru  "
      ]
     },
     "metadata": {},
     "output_type": "display_data"
    },
    {
     "data": {
      "text/plain": [
       "'custom@unichel.ru; minx74ru@mail.ru; '"
      ]
     },
     "metadata": {},
     "output_type": "display_data"
    },
    {
     "data": {
      "text/plain": [
       "'Число непустых имейлов - 450'"
      ]
     },
     "metadata": {},
     "output_type": "display_data"
    }
   ],
   "source": [
    "mass_fin_with_nans = pd.read_excel('data/Консолидированный эксель контакты.xlsx')\n",
    "\n",
    "def get_email(data):\n",
    "    \"\"\"Функция для выделения email.\n",
    "\n",
    "    Args:\n",
    "        data (str): Название столбца в dataframe\n",
    "\n",
    "    Returns:\n",
    "        str: 1 или несколько emailов, разделенные точкой с запятой\n",
    "        Numpy.NaN: Пропуск, если emailа нет\n",
    "    \"\"\"\n",
    "    sign_list = ['\\n', ':', ',', '(', ')', ';', '/', '>', '<', '«', '»', '\"']\n",
    "    data = str(data)\n",
    "    for sign in sign_list:\n",
    "        data = data.replace(sign, ' ')\n",
    "    data = data.split(' ')\n",
    "    \n",
    "    result = []\n",
    "    for value in data:\n",
    "        if '@' in value:\n",
    "            result.append(value)\n",
    "    if len(result) == 1:\n",
    "        return str(result[0])\n",
    "    elif len(result) > 1:\n",
    "        final_result = ''\n",
    "        for adress in result:\n",
    "            final_result += adress+';'+' '\n",
    "        return final_result\n",
    "    elif len(result) == 0:\n",
    "        return np.nan\n",
    "\n",
    "mass_fin_with_nans['Email'] = mass_fin_with_nans['Контактные данные ответственного за ВЭД лица '].apply(get_email)\n",
    "display(mass_fin_with_nans.head())\n",
    "mass_fin_with_nans.to_excel(excel_writer='mass_fin.xlsx')\n",
    "\n",
    "mass_fin_without_nulls = mass_fin_with_nans.copy()\n",
    "mass_fin_without_nulls = mass_fin_without_nulls[mass_fin_without_nulls['Email'].notna() == True]\n",
    "mass_fin_without_nulls.to_excel(excel_writer='mass_fin_without_nulls.xlsx')\n",
    "\n",
    "display(mass_fin_with_nans.iloc[554][3])\n",
    "\n",
    "display(f\"Число непустых имейлов - {mass_fin_with_nans[mass_fin_with_nans['Email'].notna() == True]['Email'].count()}\")\n",
    "\n",
    "        "
   ]
  }
 ],
 "metadata": {
  "kernelspec": {
   "display_name": "Python 3",
   "language": "python",
   "name": "python3"
  },
  "language_info": {
   "codemirror_mode": {
    "name": "ipython",
    "version": 3
   },
   "file_extension": ".py",
   "mimetype": "text/x-python",
   "name": "python",
   "nbconvert_exporter": "python",
   "pygments_lexer": "ipython3",
   "version": "3.9.10"
  },
  "orig_nbformat": 4
 },
 "nbformat": 4,
 "nbformat_minor": 2
}
