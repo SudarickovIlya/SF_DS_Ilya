{
 "cells": [
  {
   "cell_type": "markdown",
   "metadata": {},
   "source": [
    "# <center> XML. Контент XML-файла"
   ]
  },
  {
   "cell_type": "code",
   "execution_count": 73,
   "metadata": {},
   "outputs": [],
   "source": [
    "# Импортируем модуль ElementTree\n",
    "import xml.etree.ElementTree as ET"
   ]
  },
  {
   "cell_type": "code",
   "execution_count": 74,
   "metadata": {},
   "outputs": [],
   "source": [
    "tree = ET.parse('data/menu.xml')"
   ]
  },
  {
   "cell_type": "code",
   "execution_count": 75,
   "metadata": {},
   "outputs": [
    {
     "data": {
      "text/plain": [
       "<Element 'menu' at 0x00000286B36E7180>"
      ]
     },
     "metadata": {},
     "output_type": "display_data"
    },
    {
     "data": {
      "text/plain": [
       "xml.etree.ElementTree.Element"
      ]
     },
     "metadata": {},
     "output_type": "display_data"
    }
   ],
   "source": [
    "root = tree.getroot()\n",
    "display(root)\n",
    "display(type(root))"
   ]
  },
  {
   "cell_type": "code",
   "execution_count": 76,
   "metadata": {},
   "outputs": [
    {
     "data": {
      "text/plain": [
       "\"Список потомков корневого узла: [<Element 'dish' at 0x00000286B36E79A0>, <Element 'dish' at 0x00000286C2ABF3B0>]\""
      ]
     },
     "metadata": {},
     "output_type": "display_data"
    },
    {
     "data": {
      "text/plain": [
       "\"Список потомков второго блюда: [<Element 'price' at 0x00000286C2ABF1D0>, <Element 'weight' at 0x00000286C2ABF220>, <Element 'class' at 0x00000286C2ABF0E0>]\""
      ]
     },
     "metadata": {},
     "output_type": "display_data"
    }
   ],
   "source": [
    "# Для того чтобы посмотреть список потомков корневого узла, \n",
    "# выполним следующий код:\n",
    "\n",
    "display(f\"Список потомков корневого узла: {list(root)}\")\n",
    "\n",
    "# Для того чтобы получить список потомков второго блюда в нашем меню \n",
    "# и вывести его на экран, выполним код:\n",
    "\n",
    "display(f\"Список потомков второго блюда: {list(root[1])}\")"
   ]
  },
  {
   "cell_type": "code",
   "execution_count": 77,
   "metadata": {},
   "outputs": [
    {
     "data": {
      "text/plain": [
       "{'name': 'Кура'}"
      ]
     },
     "metadata": {},
     "output_type": "display_data"
    }
   ],
   "source": [
    "# Выведем на экран атрибуты первого блюда из меню\n",
    "\n",
    "display(root[0].attrib)"
   ]
  },
  {
   "cell_type": "code",
   "execution_count": 78,
   "metadata": {},
   "outputs": [
    {
     "data": {
      "text/plain": [
       "'40'"
      ]
     },
     "metadata": {},
     "output_type": "display_data"
    }
   ],
   "source": [
    "# В XML-узлах часто хранятся количественные показатели. Эти показатели хранятся в виде текста, \n",
    "# и прочитать их можно, обратившись к атрибуту text у соответствующего объекта типа ElementTree.Element.\n",
    "\n",
    "# Например, возьмём узел price первого блюда из меню и прочитаем его с помощью аттрибута text:\n",
    "\n",
    "display(root[0][0].text)"
   ]
  },
  {
   "cell_type": "code",
   "execution_count": 79,
   "metadata": {},
   "outputs": [
    {
     "data": {
      "text/plain": [
       "'menu'"
      ]
     },
     "metadata": {},
     "output_type": "display_data"
    },
    {
     "data": {
      "text/plain": [
       "'class'"
      ]
     },
     "metadata": {},
     "output_type": "display_data"
    }
   ],
   "source": [
    "# Если вы хотите прочитать наименование тега конкретного узла, \n",
    "# необходимо использовать tag. Например, получим наименование тега корневого узла:\n",
    "\n",
    "display(root.tag)\n",
    "\n",
    "# Задание 9.3\n",
    "\n",
    "display(root[0][2].tag)"
   ]
  },
  {
   "cell_type": "code",
   "execution_count": 80,
   "metadata": {},
   "outputs": [
    {
     "name": "stdout",
     "output_type": "stream",
     "text": [
      "Кура price 40\n",
      "Кура weight 300\n",
      "Кура class Мясо\n",
      "\n",
      "Греча price 20\n",
      "Греча weight 200\n",
      "Греча class Крупа\n",
      "\n"
     ]
    }
   ],
   "source": [
    "# Используя цикл for, автоматизируем обход дерева. Для этого напишем следующий код:\n",
    "import xml.etree.ElementTree as ET\n",
    "\n",
    "tree = ET.parse('data/menu.xml')\n",
    "\n",
    "root = tree.getroot()\n",
    "\n",
    "for dish in root:\n",
    "    for param in dish:\n",
    "        print(dish.attrib['name'], param.tag, param.text)\n",
    "    print()"
   ]
  },
  {
   "cell_type": "markdown",
   "metadata": {},
   "source": [
    "# <center> ЗАГРУЖАЕМ ДАННЫЕ ИЗ XML-ФАЙЛА В DATAFRAME"
   ]
  },
  {
   "cell_type": "code",
   "execution_count": 81,
   "metadata": {},
   "outputs": [
    {
     "data": {
      "text/html": [
       "<div>\n",
       "<style scoped>\n",
       "    .dataframe tbody tr th:only-of-type {\n",
       "        vertical-align: middle;\n",
       "    }\n",
       "\n",
       "    .dataframe tbody tr th {\n",
       "        vertical-align: top;\n",
       "    }\n",
       "\n",
       "    .dataframe thead th {\n",
       "        text-align: right;\n",
       "    }\n",
       "</style>\n",
       "<table border=\"1\" class=\"dataframe\">\n",
       "  <thead>\n",
       "    <tr style=\"text-align: right;\">\n",
       "      <th></th>\n",
       "      <th>names</th>\n",
       "      <th>price</th>\n",
       "      <th>weight</th>\n",
       "      <th>class</th>\n",
       "    </tr>\n",
       "  </thead>\n",
       "  <tbody>\n",
       "    <tr>\n",
       "      <th>0</th>\n",
       "      <td>Кура</td>\n",
       "      <td>40</td>\n",
       "      <td>300</td>\n",
       "      <td>Мясо</td>\n",
       "    </tr>\n",
       "    <tr>\n",
       "      <th>1</th>\n",
       "      <td>Греча</td>\n",
       "      <td>20</td>\n",
       "      <td>200</td>\n",
       "      <td>Крупа</td>\n",
       "    </tr>\n",
       "  </tbody>\n",
       "</table>\n",
       "</div>"
      ],
      "text/plain": [
       "   names price weight  class\n",
       "0   Кура    40    300   Мясо\n",
       "1  Греча    20    200  Крупа"
      ]
     },
     "metadata": {},
     "output_type": "display_data"
    }
   ],
   "source": [
    "# Импортируем библиотеки\n",
    "import xml.etree.ElementTree as ET\n",
    "import pandas as pd\n",
    "\n",
    "# Загружаем в нужном формате дерево\n",
    "tree = ET.parse('data/menu.xml')\n",
    "root = tree.getroot()\n",
    "\n",
    "# Создаем списки для работы (для данных и для имен колонок в таблице)\n",
    "menu_list = []\n",
    "column_list = ['names']\n",
    "\n",
    "# Проходимся по элементам дерева\n",
    "for dish in root:\n",
    "    item_list = [dish.attrib['name'], dish[0].text, dish[1].text, dish[2].text]\n",
    "    # добавляем элемент список в общий список\n",
    "    menu_list.append(item_list)\n",
    "    # Добавляем категории-теги в список заголовок колонок\n",
    "    column_list.append(dish[0].tag)\n",
    "    column_list.append(dish[1].tag)\n",
    "    column_list.append(dish[2].tag)\n",
    "\n",
    "# Оставляем только нужные имена колонок\n",
    "column_list = column_list[:4]\n",
    "\n",
    "# Загружаем все это в DataFrame\n",
    "df = pd.DataFrame(menu_list, columns=column_list)\n",
    "display(df)"
   ]
  },
  {
   "cell_type": "markdown",
   "metadata": {},
   "source": [
    "## Создаем свой XML"
   ]
  },
  {
   "cell_type": "code",
   "execution_count": 82,
   "metadata": {},
   "outputs": [
    {
     "data": {
      "text/plain": [
       "<Element 'menu' at 0x00000286C2AE5130>"
      ]
     },
     "metadata": {},
     "output_type": "display_data"
    }
   ],
   "source": [
    "import xml.etree.ElementTree as ET\n",
    "\n",
    "new_tree = ET.Element('menu')\n",
    "display(new_tree)"
   ]
  },
  {
   "cell_type": "code",
   "execution_count": 83,
   "metadata": {},
   "outputs": [
    {
     "data": {
      "text/plain": [
       "[<Element 'dish' at 0x00000286B365B9A0>,\n",
       " <Element 'dish' at 0x00000286B365BB30>]"
      ]
     },
     "metadata": {},
     "output_type": "display_data"
    }
   ],
   "source": [
    "# Добавим потомков (в нашем случае блюда)\n",
    "\n",
    "dish_1 = ET.SubElement(new_tree, 'dish', name='Кура')\n",
    "dish_2 = ET.SubElement(new_tree, 'dish', name='Греча')\n",
    "\n",
    "display(list(new_tree))\n",
    "\n",
    "# В метод SubElement() мы передали первым аргументом узел, к которому добавляем потомка, \n",
    "# вторым аргументом — наименование нового тега (dish),  \n",
    "# третьим аргументом — наименование атрибута нового узла( name ) и его значение."
   ]
  },
  {
   "cell_type": "code",
   "execution_count": 84,
   "metadata": {},
   "outputs": [
    {
     "data": {
      "text/plain": [
       "[<Element 'price' at 0x00000286B365B400>,\n",
       " <Element 'weight' at 0x00000286C2A5FE50>,\n",
       " <Element 'weight' at 0x00000286C2A5FC20>]"
      ]
     },
     "metadata": {},
     "output_type": "display_data"
    },
    {
     "data": {
      "text/plain": [
       "[<Element 'price' at 0x00000286B36E71D0>,\n",
       " <Element 'weight' at 0x00000286B21D4950>,\n",
       " <Element 'class' at 0x00000286B365B6D0>]"
      ]
     },
     "metadata": {},
     "output_type": "display_data"
    },
    {
     "name": "stdout",
     "output_type": "stream",
     "text": [
      "['Кура', 'price', '40']\n",
      "['Кура', 'weight', '300']\n",
      "['Кура', 'weight', 'Мясо']\n",
      "\n",
      "['Греча', 'price', '20']\n",
      "['Греча', 'weight', '200']\n",
      "['Греча', 'class', 'Крупа']\n",
      "\n"
     ]
    }
   ],
   "source": [
    "price_1 = ET.SubElement(dish_1, 'price').text = '40'\n",
    "weight_1 = ET.SubElement(dish_1, 'weight').text = '300'\n",
    "class_1 = ET.SubElement(dish_1, 'weight').text = 'Мясо'\n",
    "display(list(dish_1))\n",
    "\n",
    "price_2 = ET.SubElement(dish_2, 'price').text = '20'\n",
    "weight_2 = ET.SubElement(dish_2, 'weight').text = '200'\n",
    "class_2 = ET.SubElement(dish_2, 'class').text = 'Крупа'\n",
    "display(list(dish_2))\n",
    "\n",
    "# Проверим визуально корректность созданной нами структуры, выполнив фрагмент кода, разработанного ранее:\n",
    "for dish in new_tree:\n",
    "    for param in dish:\n",
    "        print([dish.attrib['name'], param.tag, param.text])\n",
    "    print()"
   ]
  },
  {
   "cell_type": "code",
   "execution_count": 88,
   "metadata": {},
   "outputs": [],
   "source": [
    "# Преобразуем созданный нами объект типа ElementTree.Element в строку c помощью метода tostring(), \n",
    "# передав наше новое дерево как аргумент. \n",
    "# Сохраним эту строку на диске, используя стандартные средства Python:\n",
    "\n",
    "new_tree_string = ET.tostring(new_tree)\n",
    "\n",
    "with open('data/new_menu.xml', 'wb') as write_xml:\n",
    "    write_xml.write(new_tree_string)"
   ]
  },
  {
   "cell_type": "code",
   "execution_count": 89,
   "metadata": {},
   "outputs": [],
   "source": [
    "# Возможно, вы увидите проблему, связанную с кодировкой. Что делать в этом случае? \n",
    "# Как вариант — записать файл, используя сам класс ElementTree() :\n",
    "\n",
    "ET.ElementTree(new_tree).write('new_menu_good.xml', encoding=\"utf-8\")"
   ]
  }
 ],
 "metadata": {
  "kernelspec": {
   "display_name": "Python 3",
   "language": "python",
   "name": "python3"
  },
  "language_info": {
   "codemirror_mode": {
    "name": "ipython",
    "version": 3
   },
   "file_extension": ".py",
   "mimetype": "text/x-python",
   "name": "python",
   "nbconvert_exporter": "python",
   "pygments_lexer": "ipython3",
   "version": "3.9.10"
  },
  "orig_nbformat": 4
 },
 "nbformat": 4,
 "nbformat_minor": 2
}
