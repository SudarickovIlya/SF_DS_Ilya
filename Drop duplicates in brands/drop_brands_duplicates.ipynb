{
 "cells": [
  {
   "cell_type": "code",
   "execution_count": 1,
   "metadata": {},
   "outputs": [],
   "source": [
    "import pandas as pd\n",
    "import numpy as np"
   ]
  },
  {
   "cell_type": "code",
   "execution_count": 2,
   "metadata": {},
   "outputs": [],
   "source": [
    "def stand(a):\n",
    "    a = str(a)\n",
    "    a = a.replace(' ', '')\n",
    "    a = a.replace('.', '')\n",
    "    a = a.replace(',', '')\n",
    "    a = a.lower()\n",
    "    return a"
   ]
  },
  {
   "cell_type": "code",
   "execution_count": 3,
   "metadata": {},
   "outputs": [
    {
     "data": {
      "text/html": [
       "<div>\n",
       "<style scoped>\n",
       "    .dataframe tbody tr th:only-of-type {\n",
       "        vertical-align: middle;\n",
       "    }\n",
       "\n",
       "    .dataframe tbody tr th {\n",
       "        vertical-align: top;\n",
       "    }\n",
       "\n",
       "    .dataframe thead th {\n",
       "        text-align: right;\n",
       "    }\n",
       "</style>\n",
       "<table border=\"1\" class=\"dataframe\">\n",
       "  <thead>\n",
       "    <tr style=\"text-align: right;\">\n",
       "      <th></th>\n",
       "      <th>Компания</th>\n",
       "      <th>Тест</th>\n",
       "      <th>Длинна</th>\n",
       "    </tr>\n",
       "  </thead>\n",
       "  <tbody>\n",
       "    <tr>\n",
       "      <th>0</th>\n",
       "      <td>3М</td>\n",
       "      <td>3м</td>\n",
       "      <td>2</td>\n",
       "    </tr>\n",
       "    <tr>\n",
       "      <th>1</th>\n",
       "      <td>WD</td>\n",
       "      <td>wd</td>\n",
       "      <td>2</td>\n",
       "    </tr>\n",
       "    <tr>\n",
       "      <th>2</th>\n",
       "      <td>SMH</td>\n",
       "      <td>smh</td>\n",
       "      <td>3</td>\n",
       "    </tr>\n",
       "    <tr>\n",
       "      <th>3</th>\n",
       "      <td>ABB</td>\n",
       "      <td>abb</td>\n",
       "      <td>3</td>\n",
       "    </tr>\n",
       "    <tr>\n",
       "      <th>4</th>\n",
       "      <td>KVX</td>\n",
       "      <td>kvx</td>\n",
       "      <td>3</td>\n",
       "    </tr>\n",
       "    <tr>\n",
       "      <th>...</th>\n",
       "      <td>...</td>\n",
       "      <td>...</td>\n",
       "      <td>...</td>\n",
       "    </tr>\n",
       "    <tr>\n",
       "      <th>721</th>\n",
       "      <td>NEUERO Industrietechnik\\r\\nfur Forderanlagen GmbH</td>\n",
       "      <td>neueroindustrietechnik\\r\\nfurforderanlagengmbh</td>\n",
       "      <td>44</td>\n",
       "    </tr>\n",
       "    <tr>\n",
       "      <th>722</th>\n",
       "      <td>THYSSENKRUPP UHDE CHLORINE ENGINEERS (ITALIA) ...</td>\n",
       "      <td>thyssenkruppuhdechlorineengineers(italia)sri</td>\n",
       "      <td>44</td>\n",
       "    </tr>\n",
       "    <tr>\n",
       "      <th>723</th>\n",
       "      <td>BAUSCH+STROBEL MASCHINENFABRIK ILSHOFEN GMBH+COKG</td>\n",
       "      <td>bausch+strobelmaschinenfabrikilshofengmbh+cokg</td>\n",
       "      <td>46</td>\n",
       "    </tr>\n",
       "    <tr>\n",
       "      <th>724</th>\n",
       "      <td>ОАО «Витебский завод электроизмерительных приб...</td>\n",
       "      <td>оао«витебскийзаводэлектроизмерительныхприборов»</td>\n",
       "      <td>47</td>\n",
       "    </tr>\n",
       "    <tr>\n",
       "      <th>725</th>\n",
       "      <td>Innovative Industries Northwest Inc. (бывш. St...</td>\n",
       "      <td>innovativeindustriesnorthwestinc(бывшstewartin...</td>\n",
       "      <td>58</td>\n",
       "    </tr>\n",
       "  </tbody>\n",
       "</table>\n",
       "<p>726 rows × 3 columns</p>\n",
       "</div>"
      ],
      "text/plain": [
       "                                              Компания  \\\n",
       "0                                                   3М   \n",
       "1                                                   WD   \n",
       "2                                                  SMH   \n",
       "3                                                  ABB   \n",
       "4                                                  KVX   \n",
       "..                                                 ...   \n",
       "721  NEUERO Industrietechnik\\r\\nfur Forderanlagen GmbH   \n",
       "722  THYSSENKRUPP UHDE CHLORINE ENGINEERS (ITALIA) ...   \n",
       "723  BAUSCH+STROBEL MASCHINENFABRIK ILSHOFEN GMBH+COKG   \n",
       "724  ОАО «Витебский завод электроизмерительных приб...   \n",
       "725  Innovative Industries Northwest Inc. (бывш. St...   \n",
       "\n",
       "                                                  Тест  Длинна  \n",
       "0                                                   3м       2  \n",
       "1                                                   wd       2  \n",
       "2                                                  smh       3  \n",
       "3                                                  abb       3  \n",
       "4                                                  kvx       3  \n",
       "..                                                 ...     ...  \n",
       "721     neueroindustrietechnik\\r\\nfurforderanlagengmbh      44  \n",
       "722       thyssenkruppuhdechlorineengineers(italia)sri      44  \n",
       "723     bausch+strobelmaschinenfabrikilshofengmbh+cokg      46  \n",
       "724    оао«витебскийзаводэлектроизмерительныхприборов»      47  \n",
       "725  innovativeindustriesnorthwestinc(бывшstewartin...      58  \n",
       "\n",
       "[726 rows x 3 columns]"
      ]
     },
     "execution_count": 3,
     "metadata": {},
     "output_type": "execute_result"
    }
   ],
   "source": [
    "data = pd.read_csv('data/cases.csv')\n",
    "data['Тест'] = data['Компания'].apply(stand)\n",
    "data = data.drop_duplicates()\n",
    "data['Длинна'] = data['Тест'].apply(len)\n",
    "data = data.sort_values('Длинна', axis=0, ascending=True, ignore_index=True)\n",
    "data"
   ]
  },
  {
   "cell_type": "code",
   "execution_count": 4,
   "metadata": {},
   "outputs": [
    {
     "name": "stderr",
     "output_type": "stream",
     "text": [
      "C:\\Users\\qwert\\AppData\\Local\\Temp\\ipykernel_25368\\4282035148.py:6: UserWarning: This pattern is interpreted as a regular expression, and has match groups. To actually get the groups, use str.extract.\n",
      "  if copy_data['Тест'].str.contains(st).any():\n"
     ]
    },
    {
     "data": {
      "text/plain": [
       "['mag',\n",
       " 'ams',\n",
       " 'mtg',\n",
       " 'tdk',\n",
       " 'rtk',\n",
       " 'dow',\n",
       " 'tia',\n",
       " 'vega',\n",
       " 'amph',\n",
       " 'tego',\n",
       " 'alpe',\n",
       " 'mapa',\n",
       " 'power',\n",
       " 'camoz',\n",
       " 'kroms',\n",
       " 'ippon',\n",
       " 'intel',\n",
       " 'fuchs',\n",
       " 'merck',\n",
       " 'mobil',\n",
       " 'metso',\n",
       " 'parker',\n",
       " 'lintec',\n",
       " 'merkel',\n",
       " 'murata',\n",
       " 'quaker',\n",
       " 'basell',\n",
       " 'mettler',\n",
       " 'lincoln',\n",
       " 'danfoss',\n",
       " 'dornier',\n",
       " 'microchip',\n",
       " 'pgphotonics',\n",
       " 'semiconductors',\n",
       " 'schneiderelectric']"
      ]
     },
     "execution_count": 4,
     "metadata": {},
     "output_type": "execute_result"
    }
   ],
   "source": [
    "empty_list = []\n",
    "copy_data = data.copy()\n",
    "for st in data['Тест']:\n",
    "    st = str(st)\n",
    "    copy_data = data[data['Тест'] != st]\n",
    "    if copy_data['Тест'].str.contains(st).any():\n",
    "        empty_list.append(st)\n",
    "empty_list"
   ]
  },
  {
   "cell_type": "code",
   "execution_count": 5,
   "metadata": {},
   "outputs": [
    {
     "data": {
      "text/plain": [
       "(691, 3)"
      ]
     },
     "execution_count": 5,
     "metadata": {},
     "output_type": "execute_result"
    }
   ],
   "source": [
    "copy_2 = data.copy()\n",
    "for delete in empty_list:\n",
    "    copy_2 = copy_2[copy_2['Тест'] != delete]\n",
    "data = copy_2.copy()\n",
    "data.shape"
   ]
  },
  {
   "cell_type": "code",
   "execution_count": 6,
   "metadata": {},
   "outputs": [],
   "source": [
    "duplicates_list = pd.DataFrame(data=empty_list, columns=['ПРЕДПОЛОЖИТЕЛЬНЫЕ ДУБЛИКАТЫ'])\n",
    "duplicates_list.to_excel(excel_writer='duplicates_list.xlsx')\n",
    "clean_list = pd.DataFrame(data=data['Компания'])\n",
    "clean_list.to_excel(excel_writer='clean_list.xlsx')"
   ]
  }
 ],
 "metadata": {
  "kernelspec": {
   "display_name": "Python 3",
   "language": "python",
   "name": "python3"
  },
  "language_info": {
   "codemirror_mode": {
    "name": "ipython",
    "version": 3
   },
   "file_extension": ".py",
   "mimetype": "text/x-python",
   "name": "python",
   "nbconvert_exporter": "python",
   "pygments_lexer": "ipython3",
   "version": "3.9.10"
  },
  "orig_nbformat": 4
 },
 "nbformat": 4,
 "nbformat_minor": 2
}
