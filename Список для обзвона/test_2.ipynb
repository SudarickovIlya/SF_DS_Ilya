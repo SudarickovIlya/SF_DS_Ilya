{
 "cells": [
  {
   "cell_type": "code",
   "execution_count": 65,
   "metadata": {},
   "outputs": [],
   "source": [
    "import pandas as pd\n",
    "import numpy as np"
   ]
  },
  {
   "cell_type": "code",
   "execution_count": 66,
   "metadata": {},
   "outputs": [
    {
     "name": "stderr",
     "output_type": "stream",
     "text": [
      "C:\\Users\\qwert\\AppData\\Local\\Temp\\ipykernel_5224\\256853915.py:10: FutureWarning: Passing 'suffixes' which cause duplicate columns {'Контактное лицо_x'} in the result is deprecated and will raise a MergeError in a future version.\n",
      "  df_final = df_final.merge(df_name[['Наименование компании', 'Контактное лицо']], on = 'Наименование компании', how='left')\n"
     ]
    }
   ],
   "source": [
    "df = pd.read_excel('data/входящие.xlsx')\n",
    "\n",
    "df = df.fillna(method='ffill')\n",
    "\n",
    "df_mail = df[df['Контактное лицо'].str.contains('E-mail') == True]\n",
    "df_tel = df[df['Контактное лицо'].str.contains('Тел.') == True]\n",
    "df_name = df[df['Контактное лицо'].str.contains('Тел.' or 'E-mail')==False]\n",
    "df_final = df.merge(df_mail[['Наименование компании', 'Контактное лицо']], on = 'Наименование компании', how='left')\n",
    "df_final = df_final.merge(df_tel[['Наименование компании', 'Контактное лицо']], on = 'Наименование компании', how='left')\n",
    "df_final = df_final.merge(df_name[['Наименование компании', 'Контактное лицо']], on = 'Наименование компании', how='left')\n",
    "\n",
    "df_final = df_final.drop_duplicates(subset='Наименование компании')\n",
    "df_final.to_excel(excel_writer='new.xlsx')"
   ]
  },
  {
   "cell_type": "code",
   "execution_count": 67,
   "metadata": {},
   "outputs": [
    {
     "data": {
      "text/plain": [
       "(188, 8)"
      ]
     },
     "metadata": {},
     "output_type": "display_data"
    }
   ],
   "source": [
    "df_final = df_final.drop_duplicates(subset='Наименование компании')\n",
    "display(df_final.shape)\n",
    "df_final.to_excel(excel_writer='new.xlsx')"
   ]
  },
  {
   "cell_type": "code",
   "execution_count": 68,
   "metadata": {},
   "outputs": [
    {
     "data": {
      "text/html": [
       "<div>\n",
       "<style scoped>\n",
       "    .dataframe tbody tr th:only-of-type {\n",
       "        vertical-align: middle;\n",
       "    }\n",
       "\n",
       "    .dataframe tbody tr th {\n",
       "        vertical-align: top;\n",
       "    }\n",
       "\n",
       "    .dataframe thead th {\n",
       "        text-align: right;\n",
       "    }\n",
       "</style>\n",
       "<table border=\"1\" class=\"dataframe\">\n",
       "  <thead>\n",
       "    <tr style=\"text-align: right;\">\n",
       "      <th></th>\n",
       "      <th>ФАЙЛ</th>\n",
       "      <th>Название компании</th>\n",
       "      <th>Контактные данные ответственного за ВЭД лица</th>\n",
       "    </tr>\n",
       "  </thead>\n",
       "  <tbody>\n",
       "    <tr>\n",
       "      <th>0</th>\n",
       "      <td>1</td>\n",
       "      <td>Акционерное общество \"Производственное объедин...</td>\n",
       "      <td>не заполнено</td>\n",
       "    </tr>\n",
       "    <tr>\n",
       "      <th>1</th>\n",
       "      <td>2</td>\n",
       "      <td>ООО фирма \"Дизельсервис\"</td>\n",
       "      <td>не заполнено</td>\n",
       "    </tr>\n",
       "    <tr>\n",
       "      <th>2</th>\n",
       "      <td>3</td>\n",
       "      <td>ООО СК \"Сибирь-Строй\"</td>\n",
       "      <td>Никитина Наталья Геннадьевна, тел. 8-913-060-3...</td>\n",
       "    </tr>\n",
       "    <tr>\n",
       "      <th>3</th>\n",
       "      <td>4</td>\n",
       "      <td>ООО ПКФ \"Атлантис-Пак\"</td>\n",
       "      <td>Шевцова Александра Вадимовна shevtsova_av@atla...</td>\n",
       "    </tr>\n",
       "    <tr>\n",
       "      <th>4</th>\n",
       "      <td>5</td>\n",
       "      <td>АО Медисорб</td>\n",
       "      <td>Коваленко Александр Анатольевич, a.kovalenko@m...</td>\n",
       "    </tr>\n",
       "  </tbody>\n",
       "</table>\n",
       "</div>"
      ],
      "text/plain": [
       "   ФАЙЛ                                  Название компании  \\\n",
       "0     1  Акционерное общество \"Производственное объедин...   \n",
       "1     2                           ООО фирма \"Дизельсервис\"   \n",
       "2     3                              ООО СК \"Сибирь-Строй\"   \n",
       "3     4                            ООО ПКФ \"Атлантис-Пак\"    \n",
       "4     5                                        АО Медисорб   \n",
       "\n",
       "       Контактные данные ответственного за ВЭД лица   \n",
       "0                                       не заполнено  \n",
       "1                                       не заполнено  \n",
       "2  Никитина Наталья Геннадьевна, тел. 8-913-060-3...  \n",
       "3  Шевцова Александра Вадимовна shevtsova_av@atla...  \n",
       "4  Коваленко Александр Анатольевич, a.kovalenko@m...  "
      ]
     },
     "metadata": {},
     "output_type": "display_data"
    }
   ],
   "source": [
    "mass_fin = pd.read_excel('data/Консолидированный эксель контакты.xlsx')\n",
    "display(mass_fin.head())"
   ]
  },
  {
   "cell_type": "code",
   "execution_count": 69,
   "metadata": {},
   "outputs": [
    {
     "data": {
      "text/html": [
       "<div>\n",
       "<style scoped>\n",
       "    .dataframe tbody tr th:only-of-type {\n",
       "        vertical-align: middle;\n",
       "    }\n",
       "\n",
       "    .dataframe tbody tr th {\n",
       "        vertical-align: top;\n",
       "    }\n",
       "\n",
       "    .dataframe thead th {\n",
       "        text-align: right;\n",
       "    }\n",
       "</style>\n",
       "<table border=\"1\" class=\"dataframe\">\n",
       "  <thead>\n",
       "    <tr style=\"text-align: right;\">\n",
       "      <th></th>\n",
       "      <th>ФАЙЛ</th>\n",
       "      <th>Название компании</th>\n",
       "      <th>Контактные данные ответственного за ВЭД лица</th>\n",
       "      <th>Email</th>\n",
       "    </tr>\n",
       "  </thead>\n",
       "  <tbody>\n",
       "    <tr>\n",
       "      <th>0</th>\n",
       "      <td>1</td>\n",
       "      <td>Акционерное общество \"Производственное объедин...</td>\n",
       "      <td>не заполнено</td>\n",
       "      <td>NaN</td>\n",
       "    </tr>\n",
       "    <tr>\n",
       "      <th>1</th>\n",
       "      <td>2</td>\n",
       "      <td>ООО фирма \"Дизельсервис\"</td>\n",
       "      <td>не заполнено</td>\n",
       "      <td>NaN</td>\n",
       "    </tr>\n",
       "    <tr>\n",
       "      <th>2</th>\n",
       "      <td>3</td>\n",
       "      <td>ООО СК \"Сибирь-Строй\"</td>\n",
       "      <td>Никитина Наталья Геннадьевна, тел. 8-913-060-3...</td>\n",
       "      <td>plan-03@csib.info</td>\n",
       "    </tr>\n",
       "    <tr>\n",
       "      <th>3</th>\n",
       "      <td>4</td>\n",
       "      <td>ООО ПКФ \"Атлантис-Пак\"</td>\n",
       "      <td>Шевцова Александра Вадимовна shevtsova_av@atla...</td>\n",
       "      <td>shevtsova_av@atlantis-pak.ru</td>\n",
       "    </tr>\n",
       "    <tr>\n",
       "      <th>4</th>\n",
       "      <td>5</td>\n",
       "      <td>АО Медисорб</td>\n",
       "      <td>Коваленко Александр Анатольевич, a.kovalenko@m...</td>\n",
       "      <td>a.kovalenko@medisorb.ru</td>\n",
       "    </tr>\n",
       "  </tbody>\n",
       "</table>\n",
       "</div>"
      ],
      "text/plain": [
       "   ФАЙЛ                                  Название компании  \\\n",
       "0     1  Акционерное общество \"Производственное объедин...   \n",
       "1     2                           ООО фирма \"Дизельсервис\"   \n",
       "2     3                              ООО СК \"Сибирь-Строй\"   \n",
       "3     4                            ООО ПКФ \"Атлантис-Пак\"    \n",
       "4     5                                        АО Медисорб   \n",
       "\n",
       "       Контактные данные ответственного за ВЭД лица   \\\n",
       "0                                       не заполнено   \n",
       "1                                       не заполнено   \n",
       "2  Никитина Наталья Геннадьевна, тел. 8-913-060-3...   \n",
       "3  Шевцова Александра Вадимовна shevtsova_av@atla...   \n",
       "4  Коваленко Александр Анатольевич, a.kovalenko@m...   \n",
       "\n",
       "                          Email  \n",
       "0                           NaN  \n",
       "1                           NaN  \n",
       "2             plan-03@csib.info  \n",
       "3  shevtsova_av@atlantis-pak.ru  \n",
       "4       a.kovalenko@medisorb.ru  "
      ]
     },
     "metadata": {},
     "output_type": "display_data"
    },
    {
     "data": {
      "text/plain": [
       "'urist@bryankonfi.ru; urist1@bryankonfi.ru; '"
      ]
     },
     "metadata": {},
     "output_type": "display_data"
    },
    {
     "data": {
      "text/plain": [
       "'Число непустых имейлов - 450'"
      ]
     },
     "metadata": {},
     "output_type": "display_data"
    }
   ],
   "source": [
    "mass_fin = pd.read_excel('data/Консолидированный эксель контакты.xlsx')\n",
    "\n",
    "def get_email(data):\n",
    "    \"\"\"Функция для выделения email.\n",
    "\n",
    "    Args:\n",
    "        data (str): Название столбца в dataframe\n",
    "\n",
    "    Returns:\n",
    "        str: 1 или несколько emailов, разделенные точкой с запятой\n",
    "        Numpy.NaN: Пропуск, если emailа нет\n",
    "    \"\"\"\n",
    "    sign_list = ['\\n', ':', ',', '(', ')', ';', '/', '>', '<', '«', '»']\n",
    "    data = str(data)\n",
    "    for sign in sign_list:\n",
    "        data = data.replace(sign, ' ')\n",
    "    data = data.split(' ')\n",
    "    \n",
    "    result = []\n",
    "    for value in data:\n",
    "        if '@' in value:\n",
    "            result.append(value)\n",
    "    if len(result) == 1:\n",
    "        return str(result[0])\n",
    "    elif len(result) > 1:\n",
    "        final_result = ''\n",
    "        for adress in result:\n",
    "            final_result += adress+';'+' '\n",
    "        return final_result\n",
    "    elif len(result) == 0:\n",
    "        return np.nan\n",
    "\n",
    "mass_fin['Email'] = mass_fin['Контактные данные ответственного за ВЭД лица '].apply(get_email)\n",
    "display(mass_fin.head())\n",
    "mass_fin.to_excel(excel_writer='mass_fin.xlsx')\n",
    "display(mass_fin.iloc[129][3])\n",
    "display(f\"Число непустых имейлов - {mass_fin[mass_fin['Email'].notna() == True]['Email'].count()}\")\n",
    "        "
   ]
  }
 ],
 "metadata": {
  "kernelspec": {
   "display_name": "Python 3",
   "language": "python",
   "name": "python3"
  },
  "language_info": {
   "codemirror_mode": {
    "name": "ipython",
    "version": 3
   },
   "file_extension": ".py",
   "mimetype": "text/x-python",
   "name": "python",
   "nbconvert_exporter": "python",
   "pygments_lexer": "ipython3",
   "version": "3.9.10"
  },
  "orig_nbformat": 4
 },
 "nbformat": 4,
 "nbformat_minor": 2
}
