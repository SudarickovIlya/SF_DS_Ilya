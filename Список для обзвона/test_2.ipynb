{
 "cells": [
  {
   "cell_type": "code",
   "execution_count": 191,
   "metadata": {},
   "outputs": [],
   "source": [
    "import pandas as pd\n",
    "import numpy as np"
   ]
  },
  {
   "cell_type": "code",
   "execution_count": 210,
   "metadata": {},
   "outputs": [
    {
     "data": {
      "text/plain": [
       "188"
      ]
     },
     "execution_count": 210,
     "metadata": {},
     "output_type": "execute_result"
    }
   ],
   "source": [
    "test = pd.read_excel('data/входящие.xlsx')\n",
    "test['Наименование компании'].nunique()"
   ]
  },
  {
   "cell_type": "code",
   "execution_count": 193,
   "metadata": {},
   "outputs": [
    {
     "data": {
      "text/html": [
       "<div>\n",
       "<style scoped>\n",
       "    .dataframe tbody tr th:only-of-type {\n",
       "        vertical-align: middle;\n",
       "    }\n",
       "\n",
       "    .dataframe tbody tr th {\n",
       "        vertical-align: top;\n",
       "    }\n",
       "\n",
       "    .dataframe thead th {\n",
       "        text-align: right;\n",
       "    }\n",
       "</style>\n",
       "<table border=\"1\" class=\"dataframe\">\n",
       "  <thead>\n",
       "    <tr style=\"text-align: right;\">\n",
       "      <th></th>\n",
       "      <th>Unnamed: 0</th>\n",
       "      <th>Наименование компании</th>\n",
       "      <th>Дата обращения</th>\n",
       "      <th>Тематика</th>\n",
       "      <th>Контактное лицо</th>\n",
       "    </tr>\n",
       "  </thead>\n",
       "  <tbody>\n",
       "    <tr>\n",
       "      <th>0</th>\n",
       "      <td>1.</td>\n",
       "      <td>\"Вило Рус\"</td>\n",
       "      <td>2023-01-09 00:00:00</td>\n",
       "      <td>Импорт</td>\n",
       "      <td>Светлана Крылова</td>\n",
       "    </tr>\n",
       "    <tr>\n",
       "      <th>1</th>\n",
       "      <td>1.</td>\n",
       "      <td>\"Вило Рус\"</td>\n",
       "      <td>2023-01-09 00:00:00</td>\n",
       "      <td>Импорт</td>\n",
       "      <td>Тел.: +7 (496) 514-61-10</td>\n",
       "    </tr>\n",
       "    <tr>\n",
       "      <th>2</th>\n",
       "      <td>1.</td>\n",
       "      <td>\"Вило Рус\"</td>\n",
       "      <td>2023-01-09 00:00:00</td>\n",
       "      <td>Импорт</td>\n",
       "      <td>E-mail: wilo@wilo.ru</td>\n",
       "    </tr>\n",
       "    <tr>\n",
       "      <th>3</th>\n",
       "      <td>2.</td>\n",
       "      <td>ООО Пегаси Рус</td>\n",
       "      <td>2023-01-09 00:00:00</td>\n",
       "      <td>Импорт</td>\n",
       "      <td>Александр Гуляев</td>\n",
       "    </tr>\n",
       "    <tr>\n",
       "      <th>4</th>\n",
       "      <td>2.</td>\n",
       "      <td>ООО Пегаси Рус</td>\n",
       "      <td>2023-01-09 00:00:00</td>\n",
       "      <td>Импорт</td>\n",
       "      <td>Тел.: +7 909 915-50-72 (Вотсап)</td>\n",
       "    </tr>\n",
       "  </tbody>\n",
       "</table>\n",
       "</div>"
      ],
      "text/plain": [
       "  Unnamed: 0 Наименование компании       Дата обращения Тематика  \\\n",
       "0  1.                   \"Вило Рус\"  2023-01-09 00:00:00   Импорт   \n",
       "1  1.                   \"Вило Рус\"  2023-01-09 00:00:00   Импорт   \n",
       "2  1.                   \"Вило Рус\"  2023-01-09 00:00:00   Импорт   \n",
       "3  2.               ООО Пегаси Рус  2023-01-09 00:00:00   Импорт   \n",
       "4  2.               ООО Пегаси Рус  2023-01-09 00:00:00   Импорт   \n",
       "\n",
       "                   Контактное лицо  \n",
       "0                 Светлана Крылова  \n",
       "1         Тел.: +7 (496) 514-61-10  \n",
       "2             E-mail: wilo@wilo.ru  \n",
       "3                 Александр Гуляев  \n",
       "4  Тел.: +7 909 915-50-72 (Вотсап)  "
      ]
     },
     "execution_count": 193,
     "metadata": {},
     "output_type": "execute_result"
    }
   ],
   "source": [
    "test = test.fillna(method='ffill')\n",
    "test.head()"
   ]
  },
  {
   "cell_type": "code",
   "execution_count": 194,
   "metadata": {},
   "outputs": [
    {
     "data": {
      "text/plain": [
       "0                     Светлана Крылова\n",
       "1             Тел.: +7 (496) 514-61-10\n",
       "2                 E-mail: wilo@wilo.ru\n",
       "3                     Александр Гуляев\n",
       "4      Тел.: +7 909 915-50-72 (Вотсап)\n",
       "                    ...               \n",
       "632          Тел.:  +7 (905) 254-19-06\n",
       "633            E-mail: muravev@gaga.ru\n",
       "634                    Елена Поглазова\n",
       "635           Тел.:  +7(8332) 21-24-30\n",
       "636               E-mail: vcpe@mail.ru\n",
       "Name: Контактное лицо, Length: 637, dtype: object"
      ]
     },
     "metadata": {},
     "output_type": "display_data"
    }
   ],
   "source": [
    "display(test['Контактное лицо'])\n",
    "test.to_excel(excel_writer='write.xlsx')"
   ]
  },
  {
   "cell_type": "code",
   "execution_count": 211,
   "metadata": {},
   "outputs": [
    {
     "name": "stderr",
     "output_type": "stream",
     "text": [
      "C:\\Users\\qwert\\AppData\\Local\\Temp\\ipykernel_9368\\942373957.py:8: FutureWarning: Passing 'suffixes' which cause duplicate columns {'Контактное лицо_x'} in the result is deprecated and will raise a MergeError in a future version.\n",
      "  df_final = df_final.merge(df_name[['Наименование компании', 'Контактное лицо']], on = 'Наименование компании', how='left')\n"
     ]
    }
   ],
   "source": [
    "df = pd.read_excel('data/входящие.xlsx')\n",
    "\n",
    "df = df.fillna(method='ffill')\n",
    "\n",
    "df_mail = df[df['Контактное лицо'].str.contains('E-mail') == True]\n",
    "df_tel = df[df['Контактное лицо'].str.contains('Тел.') == True]\n",
    "df_name = df[df['Контактное лицо'].str.contains('Тел.' or 'E-mail')==False]\n",
    "df_final = df.merge(df_mail[['Наименование компании', 'Контактное лицо']], on = 'Наименование компании', how='left')\n",
    "df_final = df_final.merge(df_tel[['Наименование компании', 'Контактное лицо']], on = 'Наименование компании', how='left')\n",
    "df_final = df_final.merge(df_name[['Наименование компании', 'Контактное лицо']], on = 'Наименование компании', how='left')\n",
    "\n",
    "df_final = df_final.drop_duplicates(subset='Наименование компании')\n",
    "df_final.to_excel(excel_writer='new.xlsx')"
   ]
  },
  {
   "cell_type": "code",
   "execution_count": 214,
   "metadata": {},
   "outputs": [
    {
     "data": {
      "text/plain": [
       "(188, 8)"
      ]
     },
     "metadata": {},
     "output_type": "display_data"
    }
   ],
   "source": [
    "df_final = df_final.drop_duplicates(subset='Наименование компании')\n",
    "display(df_final.shape)\n",
    "df_final.to_excel(excel_writer='new.xlsx')"
   ]
  },
  {
   "cell_type": "code",
   "execution_count": null,
   "metadata": {},
   "outputs": [
    {
     "name": "stdout",
     "output_type": "stream",
     "text": [
      "<class 'pandas.core.frame.DataFrame'>\n",
      "RangeIndex: 637 entries, 0 to 636\n",
      "Data columns (total 5 columns):\n",
      " #   Column                 Non-Null Count  Dtype \n",
      "---  ------                 --------------  ----- \n",
      " 0   Unnamed: 0             637 non-null    object\n",
      " 1   Наименование компании  637 non-null    object\n",
      " 2   Дата обращения         637 non-null    object\n",
      " 3   Тематика               637 non-null    object\n",
      " 4   Контактное лицо        637 non-null    object\n",
      "dtypes: object(5)\n",
      "memory usage: 25.0+ KB\n"
     ]
    }
   ],
   "source": [
    "df = pd.read_excel('data/входящие.xlsx')\n",
    "df = df.fillna(method='ffill')\n",
    "df['Контактное лицо'] = df['Контактное лицо'].astype(str)\n",
    "df.info()"
   ]
  }
 ],
 "metadata": {
  "kernelspec": {
   "display_name": "Python 3",
   "language": "python",
   "name": "python3"
  },
  "language_info": {
   "codemirror_mode": {
    "name": "ipython",
    "version": 3
   },
   "file_extension": ".py",
   "mimetype": "text/x-python",
   "name": "python",
   "nbconvert_exporter": "python",
   "pygments_lexer": "ipython3",
   "version": "3.9.10"
  },
  "orig_nbformat": 4
 },
 "nbformat": 4,
 "nbformat_minor": 2
}
