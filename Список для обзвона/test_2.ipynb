{
 "cells": [
  {
   "cell_type": "code",
   "execution_count": 191,
   "metadata": {},
   "outputs": [],
   "source": [
    "import pandas as pd\n",
    "import numpy as np"
   ]
  },
  {
   "cell_type": "code",
   "execution_count": 211,
   "metadata": {},
   "outputs": [
    {
     "name": "stderr",
     "output_type": "stream",
     "text": [
      "C:\\Users\\qwert\\AppData\\Local\\Temp\\ipykernel_9368\\942373957.py:8: FutureWarning: Passing 'suffixes' which cause duplicate columns {'Контактное лицо_x'} in the result is deprecated and will raise a MergeError in a future version.\n",
      "  df_final = df_final.merge(df_name[['Наименование компании', 'Контактное лицо']], on = 'Наименование компании', how='left')\n"
     ]
    }
   ],
   "source": [
    "df = pd.read_excel('data/входящие.xlsx')\n",
    "\n",
    "df = df.fillna(method='ffill')\n",
    "\n",
    "df_mail = df[df['Контактное лицо'].str.contains('E-mail') == True]\n",
    "df_tel = df[df['Контактное лицо'].str.contains('Тел.') == True]\n",
    "df_name = df[df['Контактное лицо'].str.contains('Тел.' or 'E-mail')==False]\n",
    "df_final = df.merge(df_mail[['Наименование компании', 'Контактное лицо']], on = 'Наименование компании', how='left')\n",
    "df_final = df_final.merge(df_tel[['Наименование компании', 'Контактное лицо']], on = 'Наименование компании', how='left')\n",
    "df_final = df_final.merge(df_name[['Наименование компании', 'Контактное лицо']], on = 'Наименование компании', how='left')\n",
    "\n",
    "df_final = df_final.drop_duplicates(subset='Наименование компании')\n",
    "df_final.to_excel(excel_writer='new.xlsx')"
   ]
  },
  {
   "cell_type": "code",
   "execution_count": 214,
   "metadata": {},
   "outputs": [
    {
     "data": {
      "text/plain": [
       "(188, 8)"
      ]
     },
     "metadata": {},
     "output_type": "display_data"
    }
   ],
   "source": [
    "df_final = df_final.drop_duplicates(subset='Наименование компании')\n",
    "display(df_final.shape)\n",
    "df_final.to_excel(excel_writer='new.xlsx')"
   ]
  },
  {
   "cell_type": "code",
   "execution_count": null,
   "metadata": {},
   "outputs": [
    {
     "name": "stdout",
     "output_type": "stream",
     "text": [
      "<class 'pandas.core.frame.DataFrame'>\n",
      "RangeIndex: 637 entries, 0 to 636\n",
      "Data columns (total 5 columns):\n",
      " #   Column                 Non-Null Count  Dtype \n",
      "---  ------                 --------------  ----- \n",
      " 0   Unnamed: 0             637 non-null    object\n",
      " 1   Наименование компании  637 non-null    object\n",
      " 2   Дата обращения         637 non-null    object\n",
      " 3   Тематика               637 non-null    object\n",
      " 4   Контактное лицо        637 non-null    object\n",
      "dtypes: object(5)\n",
      "memory usage: 25.0+ KB\n"
     ]
    }
   ],
   "source": [
    "df = pd.read_excel('data/входящие.xlsx')\n",
    "df = df.fillna(method='ffill')\n",
    "df['Контактное лицо'] = df['Контактное лицо'].astype(str)\n",
    "df.info()"
   ]
  }
 ],
 "metadata": {
  "kernelspec": {
   "display_name": "Python 3",
   "language": "python",
   "name": "python3"
  },
  "language_info": {
   "codemirror_mode": {
    "name": "ipython",
    "version": 3
   },
   "file_extension": ".py",
   "mimetype": "text/x-python",
   "name": "python",
   "nbconvert_exporter": "python",
   "pygments_lexer": "ipython3",
   "version": "3.9.10"
  },
  "orig_nbformat": 4
 },
 "nbformat": 4,
 "nbformat_minor": 2
}
