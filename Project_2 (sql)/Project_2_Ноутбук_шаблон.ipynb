{
  "cells": [
    {
      "cell_type": "markdown",
      "id": "42289889-bd57-434e-9637-d3e354756316",
      "metadata": {
        "id": "42289889-bd57-434e-9637-d3e354756316"
      },
      "source": [
        "<center> <img src = https://raw.githubusercontent.com/AndreyRysistov/DatasetsForPandas/main/hh%20label.jpg alt=\"drawing\" style=\"width:400px;\">"
      ]
    },
    {
      "cell_type": "markdown",
      "id": "829cb75b-f14e-4ba8-9195-7ba929a7d656",
      "metadata": {
        "id": "829cb75b-f14e-4ba8-9195-7ba929a7d656",
        "tags": []
      },
      "source": [
        "# <center> Проект: Анализ вакансий из HeadHunter\n",
        "   "
      ]
    },
    {
      "cell_type": "code",
      "execution_count": 103,
      "id": "dccfde33-2452-43fb-a8a5-5c6ebc02a71d",
      "metadata": {
        "id": "dccfde33-2452-43fb-a8a5-5c6ebc02a71d"
      },
      "outputs": [],
      "source": [
        "import pandas as pd\n",
        "import psycopg2"
      ]
    },
    {
      "cell_type": "code",
      "execution_count": 104,
      "id": "oVKH4ehvf8Ay",
      "metadata": {
        "id": "oVKH4ehvf8Ay"
      },
      "outputs": [],
      "source": [
        "DBNAME = 'project_sql'\n",
        "USER = 'skillfactory'\n",
        "PASSWORD = 'cCkxxLVrDE8EbvjueeMedPKt'\n",
        "HOST = '84.201.134.129'\n",
        "PORT = 5432"
      ]
    },
    {
      "cell_type": "code",
      "execution_count": 105,
      "id": "G4X_q8KBf7SF",
      "metadata": {
        "id": "G4X_q8KBf7SF"
      },
      "outputs": [],
      "source": [
        "connection = psycopg2.connect(\n",
        "    dbname=DBNAME,\n",
        "    user=USER,\n",
        "    host=HOST,\n",
        "    password=PASSWORD,\n",
        "    port=PORT\n",
        ")"
      ]
    },
    {
      "cell_type": "markdown",
      "id": "0dc6476b-7a00-44f1-ac93-6e3baed33a29",
      "metadata": {
        "id": "0dc6476b-7a00-44f1-ac93-6e3baed33a29"
      },
      "source": [
        "# Юнит 3. Предварительный анализ данных"
      ]
    },
    {
      "cell_type": "markdown",
      "id": "7919ba27",
      "metadata": {},
      "source": [
        "0. Выведем структуру БД для понимания, какие таблицы присутствуют"
      ]
    },
    {
      "cell_type": "code",
      "execution_count": 106,
      "id": "43e10cba",
      "metadata": {},
      "outputs": [
        {
          "name": "stderr",
          "output_type": "stream",
          "text": [
            "C:\\Users\\qwert\\AppData\\Local\\Temp\\ipykernel_8248\\1121355407.py:5: UserWarning: pandas only supports SQLAlchemy connectable (engine/connection) or database string URI or sqlite3 DBAPI2 connection. Other DBAPI2 objects are not tested. Please consider using SQLAlchemy.\n",
            "  total_df = pd.read_sql_query(sql=query_0, con=connection)\n"
          ]
        },
        {
          "data": {
            "text/html": [
              "<div>\n",
              "<style scoped>\n",
              "    .dataframe tbody tr th:only-of-type {\n",
              "        vertical-align: middle;\n",
              "    }\n",
              "\n",
              "    .dataframe tbody tr th {\n",
              "        vertical-align: top;\n",
              "    }\n",
              "\n",
              "    .dataframe thead th {\n",
              "        text-align: right;\n",
              "    }\n",
              "</style>\n",
              "<table border=\"1\" class=\"dataframe\">\n",
              "  <thead>\n",
              "    <tr style=\"text-align: right;\">\n",
              "      <th></th>\n",
              "      <th>table_catalog</th>\n",
              "      <th>table_schema</th>\n",
              "      <th>table_name</th>\n",
              "      <th>table_type</th>\n",
              "      <th>self_referencing_column_name</th>\n",
              "      <th>reference_generation</th>\n",
              "      <th>user_defined_type_catalog</th>\n",
              "      <th>user_defined_type_schema</th>\n",
              "      <th>user_defined_type_name</th>\n",
              "      <th>is_insertable_into</th>\n",
              "      <th>is_typed</th>\n",
              "      <th>commit_action</th>\n",
              "    </tr>\n",
              "  </thead>\n",
              "  <tbody>\n",
              "    <tr>\n",
              "      <th>0</th>\n",
              "      <td>project_sql</td>\n",
              "      <td>public</td>\n",
              "      <td>test</td>\n",
              "      <td>BASE TABLE</td>\n",
              "      <td>None</td>\n",
              "      <td>None</td>\n",
              "      <td>None</td>\n",
              "      <td>None</td>\n",
              "      <td>None</td>\n",
              "      <td>YES</td>\n",
              "      <td>NO</td>\n",
              "      <td>None</td>\n",
              "    </tr>\n",
              "    <tr>\n",
              "      <th>1</th>\n",
              "      <td>project_sql</td>\n",
              "      <td>public</td>\n",
              "      <td>t_tab1</td>\n",
              "      <td>BASE TABLE</td>\n",
              "      <td>None</td>\n",
              "      <td>None</td>\n",
              "      <td>None</td>\n",
              "      <td>None</td>\n",
              "      <td>None</td>\n",
              "      <td>YES</td>\n",
              "      <td>NO</td>\n",
              "      <td>None</td>\n",
              "    </tr>\n",
              "    <tr>\n",
              "      <th>2</th>\n",
              "      <td>project_sql</td>\n",
              "      <td>public</td>\n",
              "      <td>t_tab2</td>\n",
              "      <td>BASE TABLE</td>\n",
              "      <td>None</td>\n",
              "      <td>None</td>\n",
              "      <td>None</td>\n",
              "      <td>None</td>\n",
              "      <td>None</td>\n",
              "      <td>YES</td>\n",
              "      <td>NO</td>\n",
              "      <td>None</td>\n",
              "    </tr>\n",
              "    <tr>\n",
              "      <th>3</th>\n",
              "      <td>project_sql</td>\n",
              "      <td>public</td>\n",
              "      <td>operations</td>\n",
              "      <td>BASE TABLE</td>\n",
              "      <td>None</td>\n",
              "      <td>None</td>\n",
              "      <td>None</td>\n",
              "      <td>None</td>\n",
              "      <td>None</td>\n",
              "      <td>YES</td>\n",
              "      <td>NO</td>\n",
              "      <td>None</td>\n",
              "    </tr>\n",
              "    <tr>\n",
              "      <th>4</th>\n",
              "      <td>project_sql</td>\n",
              "      <td>public</td>\n",
              "      <td>table_1</td>\n",
              "      <td>BASE TABLE</td>\n",
              "      <td>None</td>\n",
              "      <td>None</td>\n",
              "      <td>None</td>\n",
              "      <td>None</td>\n",
              "      <td>None</td>\n",
              "      <td>YES</td>\n",
              "      <td>NO</td>\n",
              "      <td>None</td>\n",
              "    </tr>\n",
              "    <tr>\n",
              "      <th>...</th>\n",
              "      <td>...</td>\n",
              "      <td>...</td>\n",
              "      <td>...</td>\n",
              "      <td>...</td>\n",
              "      <td>...</td>\n",
              "      <td>...</td>\n",
              "      <td>...</td>\n",
              "      <td>...</td>\n",
              "      <td>...</td>\n",
              "      <td>...</td>\n",
              "      <td>...</td>\n",
              "      <td>...</td>\n",
              "    </tr>\n",
              "    <tr>\n",
              "      <th>180</th>\n",
              "      <td>project_sql</td>\n",
              "      <td>information_schema</td>\n",
              "      <td>foreign_data_wrappers</td>\n",
              "      <td>VIEW</td>\n",
              "      <td>None</td>\n",
              "      <td>None</td>\n",
              "      <td>None</td>\n",
              "      <td>None</td>\n",
              "      <td>None</td>\n",
              "      <td>NO</td>\n",
              "      <td>NO</td>\n",
              "      <td>None</td>\n",
              "    </tr>\n",
              "    <tr>\n",
              "      <th>181</th>\n",
              "      <td>project_sql</td>\n",
              "      <td>information_schema</td>\n",
              "      <td>foreign_server_options</td>\n",
              "      <td>VIEW</td>\n",
              "      <td>None</td>\n",
              "      <td>None</td>\n",
              "      <td>None</td>\n",
              "      <td>None</td>\n",
              "      <td>None</td>\n",
              "      <td>NO</td>\n",
              "      <td>NO</td>\n",
              "      <td>None</td>\n",
              "    </tr>\n",
              "    <tr>\n",
              "      <th>182</th>\n",
              "      <td>project_sql</td>\n",
              "      <td>information_schema</td>\n",
              "      <td>foreign_servers</td>\n",
              "      <td>VIEW</td>\n",
              "      <td>None</td>\n",
              "      <td>None</td>\n",
              "      <td>None</td>\n",
              "      <td>None</td>\n",
              "      <td>None</td>\n",
              "      <td>NO</td>\n",
              "      <td>NO</td>\n",
              "      <td>None</td>\n",
              "    </tr>\n",
              "    <tr>\n",
              "      <th>183</th>\n",
              "      <td>project_sql</td>\n",
              "      <td>information_schema</td>\n",
              "      <td>foreign_table_options</td>\n",
              "      <td>VIEW</td>\n",
              "      <td>None</td>\n",
              "      <td>None</td>\n",
              "      <td>None</td>\n",
              "      <td>None</td>\n",
              "      <td>None</td>\n",
              "      <td>NO</td>\n",
              "      <td>NO</td>\n",
              "      <td>None</td>\n",
              "    </tr>\n",
              "    <tr>\n",
              "      <th>184</th>\n",
              "      <td>project_sql</td>\n",
              "      <td>information_schema</td>\n",
              "      <td>foreign_tables</td>\n",
              "      <td>VIEW</td>\n",
              "      <td>None</td>\n",
              "      <td>None</td>\n",
              "      <td>None</td>\n",
              "      <td>None</td>\n",
              "      <td>None</td>\n",
              "      <td>NO</td>\n",
              "      <td>NO</td>\n",
              "      <td>None</td>\n",
              "    </tr>\n",
              "  </tbody>\n",
              "</table>\n",
              "<p>185 rows × 12 columns</p>\n",
              "</div>"
            ],
            "text/plain": [
              "    table_catalog        table_schema              table_name  table_type  \\\n",
              "0     project_sql              public                    test  BASE TABLE   \n",
              "1     project_sql              public                  t_tab1  BASE TABLE   \n",
              "2     project_sql              public                  t_tab2  BASE TABLE   \n",
              "3     project_sql              public              operations  BASE TABLE   \n",
              "4     project_sql              public                 table_1  BASE TABLE   \n",
              "..            ...                 ...                     ...         ...   \n",
              "180   project_sql  information_schema   foreign_data_wrappers        VIEW   \n",
              "181   project_sql  information_schema  foreign_server_options        VIEW   \n",
              "182   project_sql  information_schema         foreign_servers        VIEW   \n",
              "183   project_sql  information_schema   foreign_table_options        VIEW   \n",
              "184   project_sql  information_schema          foreign_tables        VIEW   \n",
              "\n",
              "    self_referencing_column_name reference_generation  \\\n",
              "0                           None                 None   \n",
              "1                           None                 None   \n",
              "2                           None                 None   \n",
              "3                           None                 None   \n",
              "4                           None                 None   \n",
              "..                           ...                  ...   \n",
              "180                         None                 None   \n",
              "181                         None                 None   \n",
              "182                         None                 None   \n",
              "183                         None                 None   \n",
              "184                         None                 None   \n",
              "\n",
              "    user_defined_type_catalog user_defined_type_schema user_defined_type_name  \\\n",
              "0                        None                     None                   None   \n",
              "1                        None                     None                   None   \n",
              "2                        None                     None                   None   \n",
              "3                        None                     None                   None   \n",
              "4                        None                     None                   None   \n",
              "..                        ...                      ...                    ...   \n",
              "180                      None                     None                   None   \n",
              "181                      None                     None                   None   \n",
              "182                      None                     None                   None   \n",
              "183                      None                     None                   None   \n",
              "184                      None                     None                   None   \n",
              "\n",
              "    is_insertable_into is_typed commit_action  \n",
              "0                  YES       NO          None  \n",
              "1                  YES       NO          None  \n",
              "2                  YES       NO          None  \n",
              "3                  YES       NO          None  \n",
              "4                  YES       NO          None  \n",
              "..                 ...      ...           ...  \n",
              "180                 NO       NO          None  \n",
              "181                 NO       NO          None  \n",
              "182                 NO       NO          None  \n",
              "183                 NO       NO          None  \n",
              "184                 NO       NO          None  \n",
              "\n",
              "[185 rows x 12 columns]"
            ]
          },
          "metadata": {},
          "output_type": "display_data"
        }
      ],
      "source": [
        "query_0 = f'''\n",
        "select *\n",
        "from information_schema.tables t\n",
        "''' \n",
        "total_df = pd.read_sql_query(sql=query_0, con=connection)\n",
        "display(total_df)\n",
        "\n",
        "# Для удобство создадим файл xlsx в сторонней папке\n",
        "total_df.to_excel(excel_writer='Not_important/total_sql_base.xlsx', sheet_name='total_base')"
      ]
    },
    {
      "cell_type": "markdown",
      "id": "889782b6-8d1c-410e-8920-e57f27917c64",
      "metadata": {
        "id": "889782b6-8d1c-410e-8920-e57f27917c64"
      },
      "source": [
        "1. Напишите запрос, который посчитает количество вакансий в нашей базе (вакансии находятся в таблице vacancies). "
      ]
    },
    {
      "cell_type": "code",
      "execution_count": 107,
      "id": "bc39e68e-ed02-4ee2-9235-7258a2f867a8",
      "metadata": {
        "id": "bc39e68e-ed02-4ee2-9235-7258a2f867a8"
      },
      "outputs": [],
      "source": [
        "# текст запроса\n",
        "# Посчитаем количество вакансий в базе данных\n",
        "# Запрос в sql\n",
        "\n",
        "query_3_1 = f'''\n",
        "select count(*) \n",
        "from vacancies\n",
        "'''"
      ]
    },
    {
      "cell_type": "code",
      "execution_count": 108,
      "id": "7mAwtsk4hEHY",
      "metadata": {
        "id": "7mAwtsk4hEHY"
      },
      "outputs": [
        {
          "name": "stdout",
          "output_type": "stream",
          "text": [
            "Количество вакансий в базе данных - 49197\n",
            "\n"
          ]
        },
        {
          "name": "stderr",
          "output_type": "stream",
          "text": [
            "C:\\Users\\qwert\\AppData\\Local\\Temp\\ipykernel_8248\\1825579212.py:3: UserWarning: pandas only supports SQLAlchemy connectable (engine/connection) or database string URI or sqlite3 DBAPI2 connection. Other DBAPI2 objects are not tested. Please consider using SQLAlchemy.\n",
            "  total_vacancies = pd.read_sql_query(sql=query_3_1, con=connection)\n"
          ]
        }
      ],
      "source": [
        "# Вывод расчетов \n",
        "\n",
        "total_vacancies = pd.read_sql_query(sql=query_3_1, con=connection)\n",
        "print(f'Количество вакансий в базе данных - {total_vacancies.iloc[0][0]}')\n",
        "print()"
      ]
    },
    {
      "cell_type": "markdown",
      "id": "b583485d-1f9e-494e-ada4-80ffff7c53d6",
      "metadata": {
        "id": "b583485d-1f9e-494e-ada4-80ffff7c53d6"
      },
      "source": [
        "2. Напишите запрос, который посчитает количество работодателей (таблица employers). "
      ]
    },
    {
      "cell_type": "code",
      "execution_count": 109,
      "id": "5408c52c-3407-4a63-b25b-1aafa2322d28",
      "metadata": {
        "id": "5408c52c-3407-4a63-b25b-1aafa2322d28"
      },
      "outputs": [],
      "source": [
        "# текст запроса\n",
        "# Посчитаем количество работодателей.\n",
        "# Запрос в sql\n",
        "\n",
        "query_3_2 = f'''\n",
        "select count(*)\n",
        "from employers\n",
        "'''"
      ]
    },
    {
      "cell_type": "code",
      "execution_count": 110,
      "id": "jVL4eshKhdqc",
      "metadata": {
        "id": "jVL4eshKhdqc"
      },
      "outputs": [
        {
          "name": "stdout",
          "output_type": "stream",
          "text": [
            "Количество работодателей в базе данных - 23501\n",
            "\n"
          ]
        },
        {
          "name": "stderr",
          "output_type": "stream",
          "text": [
            "C:\\Users\\qwert\\AppData\\Local\\Temp\\ipykernel_8248\\3344910275.py:4: UserWarning: pandas only supports SQLAlchemy connectable (engine/connection) or database string URI or sqlite3 DBAPI2 connection. Other DBAPI2 objects are not tested. Please consider using SQLAlchemy.\n",
            "  count_employers = pd.read_sql_query(sql=query_3_2, con=connection)\n"
          ]
        }
      ],
      "source": [
        "# результат запроса\n",
        "# Выводим результат на экран\n",
        "\n",
        "count_employers = pd.read_sql_query(sql=query_3_2, con=connection)\n",
        "print(f'Количество работодателей в базе данных - {count_employers.iloc[0][0]}')\n",
        "print()"
      ]
    },
    {
      "cell_type": "markdown",
      "id": "a2bfff1f-c975-4bf6-84be-2185d79dcb76",
      "metadata": {
        "id": "a2bfff1f-c975-4bf6-84be-2185d79dcb76"
      },
      "source": [
        "3. Посчитате с помощью запроса количество регионов (таблица areas)."
      ]
    },
    {
      "cell_type": "code",
      "execution_count": 111,
      "id": "1m8QJwBYhey6",
      "metadata": {
        "id": "1m8QJwBYhey6"
      },
      "outputs": [],
      "source": [
        "# текст запроса\n",
        "# Посчитаем количество регионов.\n",
        "# Запрос в sql\n",
        "\n",
        "query_3_3 = f''' \n",
        "select count(*)\n",
        "from areas\n",
        "'''"
      ]
    },
    {
      "cell_type": "code",
      "execution_count": 112,
      "id": "EZsn9tlfhe7f",
      "metadata": {
        "id": "EZsn9tlfhe7f"
      },
      "outputs": [
        {
          "name": "stdout",
          "output_type": "stream",
          "text": [
            "Количество регионов - 1362\n",
            "\n"
          ]
        },
        {
          "name": "stderr",
          "output_type": "stream",
          "text": [
            "C:\\Users\\qwert\\AppData\\Local\\Temp\\ipykernel_8248\\2516431766.py:4: UserWarning: pandas only supports SQLAlchemy connectable (engine/connection) or database string URI or sqlite3 DBAPI2 connection. Other DBAPI2 objects are not tested. Please consider using SQLAlchemy.\n",
            "  total_regions = pd.read_sql_query(sql=query_3_3, con=connection)\n"
          ]
        }
      ],
      "source": [
        "# результат запроса\n",
        "# Выводим результат на экран\n",
        "\n",
        "total_regions = pd.read_sql_query(sql=query_3_3, con=connection)\n",
        "print(f'Количество регионов - {total_regions.iloc[0][0]}')\n",
        "print()"
      ]
    },
    {
      "cell_type": "markdown",
      "id": "41bb59f3-53cc-4a67-a5bc-bedf573955e4",
      "metadata": {
        "id": "41bb59f3-53cc-4a67-a5bc-bedf573955e4"
      },
      "source": [
        "4. Посчитате с помощью запроса количество сфер деятельности в базе (таблица industries)."
      ]
    },
    {
      "cell_type": "code",
      "execution_count": 113,
      "id": "d286cf4c-707b-4cd2-9190-7ab3587d04a1",
      "metadata": {
        "id": "d286cf4c-707b-4cd2-9190-7ab3587d04a1"
      },
      "outputs": [],
      "source": [
        "# текст запроса\n",
        "# Посчитаем количество сфер деятельности.\n",
        "# Запрос в sql\n",
        "\n",
        "query_3_4 = f''' \n",
        "select count(*)\n",
        "from industries\n",
        "''' "
      ]
    },
    {
      "cell_type": "code",
      "execution_count": 114,
      "id": "JYAaoZ4qhfzW",
      "metadata": {
        "id": "JYAaoZ4qhfzW"
      },
      "outputs": [
        {
          "name": "stdout",
          "output_type": "stream",
          "text": [
            "Количество представленных сфер деятельности - 294\n",
            "\n"
          ]
        },
        {
          "name": "stderr",
          "output_type": "stream",
          "text": [
            "C:\\Users\\qwert\\AppData\\Local\\Temp\\ipykernel_8248\\3427149412.py:4: UserWarning: pandas only supports SQLAlchemy connectable (engine/connection) or database string URI or sqlite3 DBAPI2 connection. Other DBAPI2 objects are not tested. Please consider using SQLAlchemy.\n",
            "  total_industries = pd.read_sql_query(sql=query_3_4, con=connection)\n"
          ]
        }
      ],
      "source": [
        "# результат запроса\n",
        "# Выводим результат на экран\n",
        "\n",
        "total_industries = pd.read_sql_query(sql=query_3_4, con=connection)\n",
        "print(f'Количество представленных сфер деятельности - {total_industries.iloc[0][0]}')\n",
        "print()"
      ]
    },
    {
      "cell_type": "markdown",
      "id": "9a8a2181-6914-448b-85f1-38f5f18b8a93",
      "metadata": {
        "id": "9a8a2181-6914-448b-85f1-38f5f18b8a93"
      },
      "source": [
        "***"
      ]
    },
    {
      "cell_type": "markdown",
      "id": "e6d3467a",
      "metadata": {},
      "source": [
        "**Вывод 1:** 23,5 тысячи работодателей предоставляют 49 тысяч вакансий (в среднем по 2 вакансии на работодателя). Возможно в базе не представлены крупные компании с 100+ вакансиями или много работодателей выставляют только 1 вакансию или не выставляют вакансии вовсе.\n",
        "\n",
        "**Вывод 2:** Все участники рынка рабочей силы сосредоточены в 1362 регионах. Это значит, что вакансии приходят из абсолютно разных регионов со всей России и ближайшего зарубежья.\n",
        "\n",
        "**Вывод 3** Количество представленых сфер крайне мало для такой выборки (в среднем 167 вакансий на отрасль). Это модет говорить о специализации базы данных. "
      ]
    },
    {
      "cell_type": "markdown",
      "id": "8d62a9f3-f64e-4fe7-bdac-c4dffa16155e",
      "metadata": {
        "id": "8d62a9f3-f64e-4fe7-bdac-c4dffa16155e"
      },
      "source": [
        "# Юнит 4. Детальный анализ вакансий"
      ]
    },
    {
      "cell_type": "markdown",
      "id": "93053d3d-b284-481a-9cf7-012d7014c0e0",
      "metadata": {
        "id": "93053d3d-b284-481a-9cf7-012d7014c0e0"
      },
      "source": [
        "1. Напишите запрос, который позволит узнать, сколько (cnt) вакансий в каждом регионе (area).\n",
        "Отсортируйте по количеству вакансий в порядке убывания."
      ]
    },
    {
      "cell_type": "code",
      "execution_count": 115,
      "id": "3f069da6-fdc9-4ae7-b514-fafe2675efd3",
      "metadata": {
        "id": "3f069da6-fdc9-4ae7-b514-fafe2675efd3"
      },
      "outputs": [],
      "source": [
        "# текст запроса\n",
        "# Напишем sql-запрос для определения количества вакансий в регионах\n",
        "# Сразу применем лимитирующее условие из задания 4.1 (пятерка лидеров)\n",
        "\n",
        "query_4_1 = f''' \n",
        "select\n",
        "    ar.name \"Регион\",\n",
        "    count(v.*) \"Количество вакансий\"\n",
        "from areas as ar\n",
        "left join vacancies as v on ar.id=v.area_id\n",
        "group by Регион\n",
        "order by 2 desc\n",
        "limit 5\n",
        "'''"
      ]
    },
    {
      "cell_type": "code",
      "execution_count": 116,
      "id": "P7QL86hrjhRJ",
      "metadata": {
        "id": "P7QL86hrjhRJ"
      },
      "outputs": [
        {
          "name": "stderr",
          "output_type": "stream",
          "text": [
            "C:\\Users\\qwert\\AppData\\Local\\Temp\\ipykernel_8248\\3089418932.py:4: UserWarning: pandas only supports SQLAlchemy connectable (engine/connection) or database string URI or sqlite3 DBAPI2 connection. Other DBAPI2 objects are not tested. Please consider using SQLAlchemy.\n",
            "  area_vacancies = pd.read_sql_query(sql=query_4_1, con=connection)\n"
          ]
        },
        {
          "data": {
            "text/html": [
              "<div>\n",
              "<style scoped>\n",
              "    .dataframe tbody tr th:only-of-type {\n",
              "        vertical-align: middle;\n",
              "    }\n",
              "\n",
              "    .dataframe tbody tr th {\n",
              "        vertical-align: top;\n",
              "    }\n",
              "\n",
              "    .dataframe thead th {\n",
              "        text-align: right;\n",
              "    }\n",
              "</style>\n",
              "<table border=\"1\" class=\"dataframe\">\n",
              "  <thead>\n",
              "    <tr style=\"text-align: right;\">\n",
              "      <th></th>\n",
              "      <th>Регион</th>\n",
              "      <th>Количество вакансий</th>\n",
              "    </tr>\n",
              "  </thead>\n",
              "  <tbody>\n",
              "    <tr>\n",
              "      <th>0</th>\n",
              "      <td>Москва</td>\n",
              "      <td>5333</td>\n",
              "    </tr>\n",
              "    <tr>\n",
              "      <th>1</th>\n",
              "      <td>Санкт-Петербург</td>\n",
              "      <td>2851</td>\n",
              "    </tr>\n",
              "    <tr>\n",
              "      <th>2</th>\n",
              "      <td>Минск</td>\n",
              "      <td>2112</td>\n",
              "    </tr>\n",
              "    <tr>\n",
              "      <th>3</th>\n",
              "      <td>Новосибирск</td>\n",
              "      <td>2006</td>\n",
              "    </tr>\n",
              "    <tr>\n",
              "      <th>4</th>\n",
              "      <td>Алматы</td>\n",
              "      <td>1892</td>\n",
              "    </tr>\n",
              "  </tbody>\n",
              "</table>\n",
              "</div>"
            ],
            "text/plain": [
              "            Регион  Количество вакансий\n",
              "0           Москва                 5333\n",
              "1  Санкт-Петербург                 2851\n",
              "2            Минск                 2112\n",
              "3      Новосибирск                 2006\n",
              "4           Алматы                 1892"
            ]
          },
          "metadata": {},
          "output_type": "display_data"
        },
        {
          "name": "stdout",
          "output_type": "stream",
          "text": [
            "\n",
            "Список регионов с максимальным количеством вакансий: ['Москва', 'Санкт-Петербург', 'Минск', 'Новосибирск', 'Алматы']\n"
          ]
        }
      ],
      "source": [
        "# результат запроса\n",
        "# Выведем результат в виде таблицы в excel\n",
        "\n",
        "area_vacancies = pd.read_sql_query(sql=query_4_1, con=connection)\n",
        "display(area_vacancies)\n",
        "print()\n",
        "\n",
        "# Ответ на вопрос\n",
        "print(f\"Список регионов с максимальным количеством вакансий: {list(area_vacancies['Регион'])}\")"
      ]
    },
    {
      "cell_type": "markdown",
      "id": "4266f0b6-1646-492a-88b4-2f6a46502135",
      "metadata": {
        "id": "4266f0b6-1646-492a-88b4-2f6a46502135"
      },
      "source": [
        "2. Напишите запрос, чтобы определить у какого количества вакансий заполнено хотя бы одно из двух полей с зарплатой."
      ]
    },
    {
      "cell_type": "code",
      "execution_count": 117,
      "id": "0c44b350-72eb-4d65-8b54-a1fc449ba9fd",
      "metadata": {
        "id": "0c44b350-72eb-4d65-8b54-a1fc449ba9fd"
      },
      "outputs": [],
      "source": [
        "# текст запроса\n",
        "# Напишем запрос в sql\n",
        "\n",
        "query_4_2 = f''' \n",
        "select count(*)\n",
        "from vacancies\n",
        "where (salary_from is not null) or (salary_to is not null)\n",
        "'''"
      ]
    },
    {
      "cell_type": "code",
      "execution_count": 118,
      "id": "rhvwaMDkoWTi",
      "metadata": {
        "id": "rhvwaMDkoWTi"
      },
      "outputs": [
        {
          "name": "stdout",
          "output_type": "stream",
          "text": [
            "Количество вакансий, у которых заполнено хотя бы одно из двух полей с зарплатой - 24073\n",
            "\n"
          ]
        },
        {
          "name": "stderr",
          "output_type": "stream",
          "text": [
            "C:\\Users\\qwert\\AppData\\Local\\Temp\\ipykernel_8248\\107331342.py:4: UserWarning: pandas only supports SQLAlchemy connectable (engine/connection) or database string URI or sqlite3 DBAPI2 connection. Other DBAPI2 objects are not tested. Please consider using SQLAlchemy.\n",
            "  salary_completed = pd.read_sql_query(sql=query_4_2, con=connection)\n"
          ]
        }
      ],
      "source": [
        "# результат запроса\n",
        "# Выведем на экран ответ\n",
        "\n",
        "salary_completed = pd.read_sql_query(sql=query_4_2, con=connection)\n",
        "\n",
        "# Ответ на вопрос\n",
        "print(f'Количество вакансий, у которых заполнено хотя бы одно из двух полей с зарплатой - {salary_completed.iloc[0][0]}')\n",
        "print()"
      ]
    },
    {
      "cell_type": "markdown",
      "id": "635c4d5d-f323-4c66-b428-50a088120aa0",
      "metadata": {
        "id": "635c4d5d-f323-4c66-b428-50a088120aa0"
      },
      "source": [
        "3. Найдите средние значения для нижней и верхней границы зарплатной вилки. Округлите значения до целого."
      ]
    },
    {
      "cell_type": "code",
      "execution_count": 119,
      "id": "603cdbe4-0ec3-4106-8eaf-c73fcdd29165",
      "metadata": {
        "id": "603cdbe4-0ec3-4106-8eaf-c73fcdd29165"
      },
      "outputs": [],
      "source": [
        "# текст запроса\n",
        "# Запрос в sql\n",
        "\n",
        "query_4_3 = f''' \n",
        "select \n",
        "    round(avg(v.salary_from)) \"Нижняя граница\",\n",
        "    round(avg(v.salary_to)) \"Верхняя граница\" \n",
        "from vacancies as v\n",
        "'''  "
      ]
    },
    {
      "cell_type": "code",
      "execution_count": 120,
      "id": "pswpAb66ovZZ",
      "metadata": {
        "id": "pswpAb66ovZZ"
      },
      "outputs": [
        {
          "name": "stderr",
          "output_type": "stream",
          "text": [
            "C:\\Users\\qwert\\AppData\\Local\\Temp\\ipykernel_8248\\3159638449.py:4: UserWarning: pandas only supports SQLAlchemy connectable (engine/connection) or database string URI or sqlite3 DBAPI2 connection. Other DBAPI2 objects are not tested. Please consider using SQLAlchemy.\n",
            "  mean_salary_boarders = pd.read_sql_query(sql=query_4_3, con=connection)\n"
          ]
        },
        {
          "data": {
            "text/html": [
              "<div>\n",
              "<style scoped>\n",
              "    .dataframe tbody tr th:only-of-type {\n",
              "        vertical-align: middle;\n",
              "    }\n",
              "\n",
              "    .dataframe tbody tr th {\n",
              "        vertical-align: top;\n",
              "    }\n",
              "\n",
              "    .dataframe thead th {\n",
              "        text-align: right;\n",
              "    }\n",
              "</style>\n",
              "<table border=\"1\" class=\"dataframe\">\n",
              "  <thead>\n",
              "    <tr style=\"text-align: right;\">\n",
              "      <th></th>\n",
              "      <th>Нижняя граница</th>\n",
              "      <th>Верхняя граница</th>\n",
              "    </tr>\n",
              "  </thead>\n",
              "  <tbody>\n",
              "    <tr>\n",
              "      <th>0</th>\n",
              "      <td>71065.0</td>\n",
              "      <td>110537.0</td>\n",
              "    </tr>\n",
              "  </tbody>\n",
              "</table>\n",
              "</div>"
            ],
            "text/plain": [
              "   Нижняя граница  Верхняя граница\n",
              "0         71065.0         110537.0"
            ]
          },
          "metadata": {},
          "output_type": "display_data"
        },
        {
          "name": "stdout",
          "output_type": "stream",
          "text": [
            "\n",
            "Среднее значение нижнего порога зарплаты в вакансиях - 71065\n",
            "\n",
            "Среднее значение верхнего порога зарплаты в вакансиях - 110537\n"
          ]
        }
      ],
      "source": [
        "# результат запроса\n",
        "# Веведем результат на экран\n",
        "\n",
        "mean_salary_boarders = pd.read_sql_query(sql=query_4_3, con=connection)\n",
        "display(mean_salary_boarders)\n",
        "print()\n",
        "\n",
        "# Ответы на вопросы\n",
        "print(f\"Среднее значение нижнего порога зарплаты в вакансиях - {int(mean_salary_boarders['Нижняя граница'].loc[0])}\")\n",
        "print()\n",
        "print(f\"Среднее значение верхнего порога зарплаты в вакансиях - {int(mean_salary_boarders['Верхняя граница'].loc[0])}\")\n"
      ]
    },
    {
      "cell_type": "markdown",
      "id": "f3fdaec9-5fd3-4260-9cf5-1d7406b628a5",
      "metadata": {
        "id": "f3fdaec9-5fd3-4260-9cf5-1d7406b628a5"
      },
      "source": [
        "4. Напишите запрос, который выведет количество вакансий для каждого сочетания типа рабочего графика (schedule) и типа трудоустройства (employment), используемого в вакансиях. Результат отсортируйте по убыванию количества.\n"
      ]
    },
    {
      "cell_type": "code",
      "execution_count": 121,
      "id": "1ea710ec-871b-431e-9462-c7d0fd87011b",
      "metadata": {
        "id": "1ea710ec-871b-431e-9462-c7d0fd87011b"
      },
      "outputs": [],
      "source": [
        "# текст запроса\n",
        "# Напишем sql-запрос для выведения количества вакансий для каждого сочетания типа рабочего графика и типа трудоустройства\n",
        "\n",
        "query_4_4 = f''' \n",
        "select \n",
        "    v.schedule График,\n",
        "    v.employment \"Тип трудоустройства\",\n",
        "    count(v.*)\n",
        "from vacancies as v\n",
        "group by 1, 2\n",
        "order by 3 desc\n",
        "'''"
      ]
    },
    {
      "cell_type": "code",
      "execution_count": 122,
      "id": "lGUVqavdo4JQ",
      "metadata": {
        "id": "lGUVqavdo4JQ"
      },
      "outputs": [
        {
          "name": "stderr",
          "output_type": "stream",
          "text": [
            "C:\\Users\\qwert\\AppData\\Local\\Temp\\ipykernel_8248\\1739767337.py:4: UserWarning: pandas only supports SQLAlchemy connectable (engine/connection) or database string URI or sqlite3 DBAPI2 connection. Other DBAPI2 objects are not tested. Please consider using SQLAlchemy.\n",
            "  schedule_employment_number = pd.read_sql_query(sql=query_4_4, con=connection)\n"
          ]
        },
        {
          "data": {
            "text/html": [
              "<div>\n",
              "<style scoped>\n",
              "    .dataframe tbody tr th:only-of-type {\n",
              "        vertical-align: middle;\n",
              "    }\n",
              "\n",
              "    .dataframe tbody tr th {\n",
              "        vertical-align: top;\n",
              "    }\n",
              "\n",
              "    .dataframe thead th {\n",
              "        text-align: right;\n",
              "    }\n",
              "</style>\n",
              "<table border=\"1\" class=\"dataframe\">\n",
              "  <thead>\n",
              "    <tr style=\"text-align: right;\">\n",
              "      <th></th>\n",
              "      <th>График</th>\n",
              "      <th>Тип трудоустройства</th>\n",
              "      <th>count</th>\n",
              "    </tr>\n",
              "  </thead>\n",
              "  <tbody>\n",
              "    <tr>\n",
              "      <th>0</th>\n",
              "      <td>Полный день</td>\n",
              "      <td>Полная занятость</td>\n",
              "      <td>35367</td>\n",
              "    </tr>\n",
              "    <tr>\n",
              "      <th>1</th>\n",
              "      <td>Удаленная работа</td>\n",
              "      <td>Полная занятость</td>\n",
              "      <td>7802</td>\n",
              "    </tr>\n",
              "    <tr>\n",
              "      <th>2</th>\n",
              "      <td>Гибкий график</td>\n",
              "      <td>Полная занятость</td>\n",
              "      <td>1593</td>\n",
              "    </tr>\n",
              "    <tr>\n",
              "      <th>3</th>\n",
              "      <td>Удаленная работа</td>\n",
              "      <td>Частичная занятость</td>\n",
              "      <td>1312</td>\n",
              "    </tr>\n",
              "    <tr>\n",
              "      <th>4</th>\n",
              "      <td>Сменный график</td>\n",
              "      <td>Полная занятость</td>\n",
              "      <td>940</td>\n",
              "    </tr>\n",
              "    <tr>\n",
              "      <th>5</th>\n",
              "      <td>Полный день</td>\n",
              "      <td>Стажировка</td>\n",
              "      <td>569</td>\n",
              "    </tr>\n",
              "    <tr>\n",
              "      <th>6</th>\n",
              "      <td>Вахтовый метод</td>\n",
              "      <td>Полная занятость</td>\n",
              "      <td>367</td>\n",
              "    </tr>\n",
              "    <tr>\n",
              "      <th>7</th>\n",
              "      <td>Полный день</td>\n",
              "      <td>Частичная занятость</td>\n",
              "      <td>347</td>\n",
              "    </tr>\n",
              "    <tr>\n",
              "      <th>8</th>\n",
              "      <td>Гибкий график</td>\n",
              "      <td>Частичная занятость</td>\n",
              "      <td>312</td>\n",
              "    </tr>\n",
              "    <tr>\n",
              "      <th>9</th>\n",
              "      <td>Полный день</td>\n",
              "      <td>Проектная работа</td>\n",
              "      <td>141</td>\n",
              "    </tr>\n",
              "    <tr>\n",
              "      <th>10</th>\n",
              "      <td>Удаленная работа</td>\n",
              "      <td>Проектная работа</td>\n",
              "      <td>133</td>\n",
              "    </tr>\n",
              "    <tr>\n",
              "      <th>11</th>\n",
              "      <td>Гибкий график</td>\n",
              "      <td>Стажировка</td>\n",
              "      <td>116</td>\n",
              "    </tr>\n",
              "    <tr>\n",
              "      <th>12</th>\n",
              "      <td>Сменный график</td>\n",
              "      <td>Частичная занятость</td>\n",
              "      <td>101</td>\n",
              "    </tr>\n",
              "    <tr>\n",
              "      <th>13</th>\n",
              "      <td>Удаленная работа</td>\n",
              "      <td>Стажировка</td>\n",
              "      <td>64</td>\n",
              "    </tr>\n",
              "    <tr>\n",
              "      <th>14</th>\n",
              "      <td>Гибкий график</td>\n",
              "      <td>Проектная работа</td>\n",
              "      <td>18</td>\n",
              "    </tr>\n",
              "    <tr>\n",
              "      <th>15</th>\n",
              "      <td>Сменный график</td>\n",
              "      <td>Стажировка</td>\n",
              "      <td>12</td>\n",
              "    </tr>\n",
              "    <tr>\n",
              "      <th>16</th>\n",
              "      <td>Вахтовый метод</td>\n",
              "      <td>Проектная работа</td>\n",
              "      <td>2</td>\n",
              "    </tr>\n",
              "    <tr>\n",
              "      <th>17</th>\n",
              "      <td>Сменный график</td>\n",
              "      <td>Проектная работа</td>\n",
              "      <td>1</td>\n",
              "    </tr>\n",
              "  </tbody>\n",
              "</table>\n",
              "</div>"
            ],
            "text/plain": [
              "              График  Тип трудоустройства  count\n",
              "0        Полный день     Полная занятость  35367\n",
              "1   Удаленная работа     Полная занятость   7802\n",
              "2      Гибкий график     Полная занятость   1593\n",
              "3   Удаленная работа  Частичная занятость   1312\n",
              "4     Сменный график     Полная занятость    940\n",
              "5        Полный день           Стажировка    569\n",
              "6     Вахтовый метод     Полная занятость    367\n",
              "7        Полный день  Частичная занятость    347\n",
              "8      Гибкий график  Частичная занятость    312\n",
              "9        Полный день     Проектная работа    141\n",
              "10  Удаленная работа     Проектная работа    133\n",
              "11     Гибкий график           Стажировка    116\n",
              "12    Сменный график  Частичная занятость    101\n",
              "13  Удаленная работа           Стажировка     64\n",
              "14     Гибкий график     Проектная работа     18\n",
              "15    Сменный график           Стажировка     12\n",
              "16    Вахтовый метод     Проектная работа      2\n",
              "17    Сменный график     Проектная работа      1"
            ]
          },
          "metadata": {},
          "output_type": "display_data"
        },
        {
          "name": "stdout",
          "output_type": "stream",
          "text": [
            "\n",
            "На втором месте по популярности находится пара Удаленная работа - Полная занятость\n"
          ]
        }
      ],
      "source": [
        "# результат запроса\n",
        "# Выведем результат запроса\n",
        "\n",
        "schedule_employment_number = pd.read_sql_query(sql=query_4_4, con=connection)\n",
        "display(schedule_employment_number)\n",
        "print()\n",
        "\n",
        "# Ответ на вопрос\n",
        "print(f\"На втором месте по популярности находится пара {schedule_employment_number['График'][1]} - {schedule_employment_number['Тип трудоустройства'][1]}\")"
      ]
    },
    {
      "cell_type": "markdown",
      "id": "0136ffee-0ead-4a6b-b608-61d1c753a438",
      "metadata": {
        "id": "0136ffee-0ead-4a6b-b608-61d1c753a438"
      },
      "source": [
        "5. Напишите запрос, выводящий значения поля Требуемый опыт работы (experience) в порядке возрастания количества вакансий, в которых указан данный вариант опыта. "
      ]
    },
    {
      "cell_type": "code",
      "execution_count": 123,
      "id": "5b3a8e79-f7ab-4008-b767-12aea3a205ea",
      "metadata": {
        "id": "5b3a8e79-f7ab-4008-b767-12aea3a205ea"
      },
      "outputs": [],
      "source": [
        "# текст запроса\n",
        "# Напишем запрос в sql\n",
        "\n",
        "query_4_5 = f''' \n",
        "select  \n",
        "    v.experience \"Требуемый опыт\",\n",
        "    count(v.*) \"Количество вакансий\"\n",
        "from vacancies v\n",
        "group by v.experience\n",
        "order by  count(v.*) asc\n",
        "'''"
      ]
    },
    {
      "cell_type": "code",
      "execution_count": 124,
      "id": "3Is64Y-hpDpq",
      "metadata": {
        "id": "3Is64Y-hpDpq"
      },
      "outputs": [
        {
          "name": "stderr",
          "output_type": "stream",
          "text": [
            "C:\\Users\\qwert\\AppData\\Local\\Temp\\ipykernel_8248\\1456543215.py:3: UserWarning: pandas only supports SQLAlchemy connectable (engine/connection) or database string URI or sqlite3 DBAPI2 connection. Other DBAPI2 objects are not tested. Please consider using SQLAlchemy.\n",
            "  experience_vacancies = pd.read_sql_query(sql=query_4_5, con=connection)\n"
          ]
        },
        {
          "data": {
            "text/html": [
              "<div>\n",
              "<style scoped>\n",
              "    .dataframe tbody tr th:only-of-type {\n",
              "        vertical-align: middle;\n",
              "    }\n",
              "\n",
              "    .dataframe tbody tr th {\n",
              "        vertical-align: top;\n",
              "    }\n",
              "\n",
              "    .dataframe thead th {\n",
              "        text-align: right;\n",
              "    }\n",
              "</style>\n",
              "<table border=\"1\" class=\"dataframe\">\n",
              "  <thead>\n",
              "    <tr style=\"text-align: right;\">\n",
              "      <th></th>\n",
              "      <th>Требуемый опыт</th>\n",
              "      <th>Количество вакансий</th>\n",
              "    </tr>\n",
              "  </thead>\n",
              "  <tbody>\n",
              "    <tr>\n",
              "      <th>0</th>\n",
              "      <td>Более 6 лет</td>\n",
              "      <td>1337</td>\n",
              "    </tr>\n",
              "    <tr>\n",
              "      <th>1</th>\n",
              "      <td>Нет опыта</td>\n",
              "      <td>7197</td>\n",
              "    </tr>\n",
              "    <tr>\n",
              "      <th>2</th>\n",
              "      <td>От 3 до 6 лет</td>\n",
              "      <td>14511</td>\n",
              "    </tr>\n",
              "    <tr>\n",
              "      <th>3</th>\n",
              "      <td>От 1 года до 3 лет</td>\n",
              "      <td>26152</td>\n",
              "    </tr>\n",
              "  </tbody>\n",
              "</table>\n",
              "</div>"
            ],
            "text/plain": [
              "       Требуемый опыт  Количество вакансий\n",
              "0         Более 6 лет                 1337\n",
              "1           Нет опыта                 7197\n",
              "2       От 3 до 6 лет                14511\n",
              "3  От 1 года до 3 лет                26152"
            ]
          },
          "metadata": {},
          "output_type": "display_data"
        },
        {
          "name": "stdout",
          "output_type": "stream",
          "text": [
            "\n",
            "Опыт работы в порядке возрастания количества вакансий - ('Более 6 лет', 'Нет опыта', 'От 3 до 6 лет', 'От 1 года до 3 лет')\n"
          ]
        }
      ],
      "source": [
        "# результат запроса\n",
        "\n",
        "experience_vacancies = pd.read_sql_query(sql=query_4_5, con=connection)\n",
        "display(experience_vacancies)\n",
        "print()\n",
        "\n",
        "# Ответ на вопрос\n",
        "print(f\"Опыт работы в порядке возрастания количества вакансий - {tuple(experience_vacancies['Требуемый опыт'])}\")"
      ]
    },
    {
      "cell_type": "markdown",
      "id": "oq2b7n1QpIka",
      "metadata": {
        "id": "oq2b7n1QpIka"
      },
      "source": [
        "***"
      ]
    },
    {
      "cell_type": "markdown",
      "id": "e639fcc7",
      "metadata": {},
      "source": [
        "**Вывод 1:** Больше всего вакансий размещается в крупных городах (преимущественно столицах): Москва, Санкт-Петербург, Минск, Новосибирск, Алматы.\n",
        "\n",
        "**Вывод 2:** Зарплата указана только в половине вакансий (в 24 073 из 49 197).\n",
        "\n",
        "**Вывод 3:** В среднем нижняя граница зарплат по вакансиям составляет 71 тыс. рублей, верхняя- 110,5 тыс. рублей.\n",
        "\n",
        "**Вывод 4:** Большинство вакансий (72%) предусматривают полный день и полную занятость. Затем идут варианты графиков, но сохраняется режим полной занятости. Меньше вакансий предусматривают иные варианты работы.\n",
        "\n",
        "**Вывод 5:** Наиболее востребованы специалисты с опытом работы от 1 до 3 лет (53%) и от 3 до 6 лет (29%)."
      ]
    },
    {
      "cell_type": "markdown",
      "id": "7ea20ab6-04a7-40a0-adec-443a0e5a42c3",
      "metadata": {
        "id": "7ea20ab6-04a7-40a0-adec-443a0e5a42c3"
      },
      "source": [
        "# Юнит 5. Анализ работодателей"
      ]
    },
    {
      "cell_type": "markdown",
      "id": "968aed80-74ef-4ffb-b5bf-c65b84e9caea",
      "metadata": {
        "id": "968aed80-74ef-4ffb-b5bf-c65b84e9caea"
      },
      "source": [
        "1. Напишите запрос, который позволит узнать, какие работодатели находятся на первом и пятом месте по количеству вакансий."
      ]
    },
    {
      "cell_type": "code",
      "execution_count": 125,
      "id": "f2d62796-d400-4ec1-a675-88112739a50e",
      "metadata": {
        "id": "f2d62796-d400-4ec1-a675-88112739a50e"
      },
      "outputs": [],
      "source": [
        "# текст запроса\n",
        "# Напишем запрос в sql\n",
        "\n",
        "query_5_1 = f''' \n",
        "(select \n",
        "    emp.name \"Работодатель\",\n",
        "    count(v.*) \"Количество вакансий\"\n",
        "from employers as emp\n",
        "left join vacancies as v on emp.id=v.employer_id\n",
        "group by Работодатель\n",
        "order by 2 desc\n",
        "limit 1)\n",
        "\n",
        "union\n",
        "\n",
        "(select \n",
        "    emp.name \"Работодатель\",\n",
        "    count(v.*) \"Количество вакансий\"\n",
        "from employers as emp\n",
        "left join vacancies as v on emp.id=v.employer_id\n",
        "group by Работодатель\n",
        "order by 2 desc\n",
        "limit 1 offset 4)\n",
        "\n",
        "order by 2 desc\n",
        "''' "
      ]
    },
    {
      "cell_type": "code",
      "execution_count": 126,
      "id": "64tOMkAxqkQk",
      "metadata": {
        "id": "64tOMkAxqkQk"
      },
      "outputs": [
        {
          "name": "stderr",
          "output_type": "stream",
          "text": [
            "C:\\Users\\qwert\\AppData\\Local\\Temp\\ipykernel_8248\\3889031087.py:4: UserWarning: pandas only supports SQLAlchemy connectable (engine/connection) or database string URI or sqlite3 DBAPI2 connection. Other DBAPI2 objects are not tested. Please consider using SQLAlchemy.\n",
            "  employer_vacancies = pd.read_sql_query(sql=query_5_1, con=connection)\n"
          ]
        },
        {
          "data": {
            "text/html": [
              "<div>\n",
              "<style scoped>\n",
              "    .dataframe tbody tr th:only-of-type {\n",
              "        vertical-align: middle;\n",
              "    }\n",
              "\n",
              "    .dataframe tbody tr th {\n",
              "        vertical-align: top;\n",
              "    }\n",
              "\n",
              "    .dataframe thead th {\n",
              "        text-align: right;\n",
              "    }\n",
              "</style>\n",
              "<table border=\"1\" class=\"dataframe\">\n",
              "  <thead>\n",
              "    <tr style=\"text-align: right;\">\n",
              "      <th></th>\n",
              "      <th>Работодатель</th>\n",
              "      <th>Количество вакансий</th>\n",
              "    </tr>\n",
              "  </thead>\n",
              "  <tbody>\n",
              "    <tr>\n",
              "      <th>0</th>\n",
              "      <td>Яндекс</td>\n",
              "      <td>1933</td>\n",
              "    </tr>\n",
              "    <tr>\n",
              "      <th>1</th>\n",
              "      <td>Газпром нефть</td>\n",
              "      <td>331</td>\n",
              "    </tr>\n",
              "  </tbody>\n",
              "</table>\n",
              "</div>"
            ],
            "text/plain": [
              "    Работодатель  Количество вакансий\n",
              "0         Яндекс                 1933\n",
              "1  Газпром нефть                  331"
            ]
          },
          "metadata": {},
          "output_type": "display_data"
        },
        {
          "name": "stdout",
          "output_type": "stream",
          "text": [
            "\n",
            "На первом и пятом месте в списке работодателей находятся Яндекс и Газпром нефть\n"
          ]
        }
      ],
      "source": [
        "# результат запроса\n",
        "# Выведем результат\n",
        "\n",
        "employer_vacancies = pd.read_sql_query(sql=query_5_1, con=connection)\n",
        "display(employer_vacancies)\n",
        "print()\n",
        "\n",
        "# Ответ на вопрос\n",
        "print(f\"На первом и пятом месте в списке работодателей находятся {employer_vacancies['Работодатель'].iloc[0]} и {employer_vacancies['Работодатель'].iloc[1]}\")"
      ]
    },
    {
      "cell_type": "markdown",
      "id": "68377cfc-b378-43dc-ab7d-1195abf2c515",
      "metadata": {
        "id": "68377cfc-b378-43dc-ab7d-1195abf2c515"
      },
      "source": [
        "2. Напишите запрос, который для каждого региона выведет количество работодателей и вакансий в нём.\n",
        "Среди регионов, в которых нет вакансий, найдите тот, в котором наибольшее количество работодателей.\n"
      ]
    },
    {
      "cell_type": "code",
      "execution_count": 134,
      "id": "dd7df27a-e3e8-412e-a21a-5d389b71e891",
      "metadata": {
        "id": "dd7df27a-e3e8-412e-a21a-5d389b71e891"
      },
      "outputs": [],
      "source": [
        "# текст запроса\n",
        "# Напишем запрос в sql\n",
        "\n",
        "query_5_2 = f''' \n",
        "select \n",
        "    ar.name Регион,\n",
        "    count(emp.*) \"Количество работодателей\",\n",
        "    count(vac.*) \"Количество вакансий\" \n",
        "from areas as ar\n",
        "left join employers as emp on emp.area=ar.id\n",
        "full join vacancies as vac on ar.id=vac.area_id\n",
        "group by Регион\n",
        "having count(vac.*)=0\n",
        "order by 2 desc\n",
        "limit 1\n",
        "''' "
      ]
    },
    {
      "cell_type": "code",
      "execution_count": 136,
      "id": "x1ikWbydrbf6",
      "metadata": {
        "id": "x1ikWbydrbf6"
      },
      "outputs": [
        {
          "name": "stderr",
          "output_type": "stream",
          "text": [
            "C:\\Users\\qwert\\AppData\\Local\\Temp\\ipykernel_8248\\3670957950.py:4: UserWarning: pandas only supports SQLAlchemy connectable (engine/connection) or database string URI or sqlite3 DBAPI2 connection. Other DBAPI2 objects are not tested. Please consider using SQLAlchemy.\n",
            "  regions_employers_vacs = pd.read_sql_query(sql=query_5_2, con=connection)\n"
          ]
        },
        {
          "data": {
            "text/html": [
              "<div>\n",
              "<style scoped>\n",
              "    .dataframe tbody tr th:only-of-type {\n",
              "        vertical-align: middle;\n",
              "    }\n",
              "\n",
              "    .dataframe tbody tr th {\n",
              "        vertical-align: top;\n",
              "    }\n",
              "\n",
              "    .dataframe thead th {\n",
              "        text-align: right;\n",
              "    }\n",
              "</style>\n",
              "<table border=\"1\" class=\"dataframe\">\n",
              "  <thead>\n",
              "    <tr style=\"text-align: right;\">\n",
              "      <th></th>\n",
              "      <th>Регион</th>\n",
              "      <th>Количество работодателей</th>\n",
              "      <th>Количество вакансий</th>\n",
              "    </tr>\n",
              "  </thead>\n",
              "  <tbody>\n",
              "    <tr>\n",
              "      <th>0</th>\n",
              "      <td>Россия</td>\n",
              "      <td>410</td>\n",
              "      <td>0</td>\n",
              "    </tr>\n",
              "  </tbody>\n",
              "</table>\n",
              "</div>"
            ],
            "text/plain": [
              "   Регион  Количество работодателей  Количество вакансий\n",
              "0  Россия                       410                    0"
            ]
          },
          "metadata": {},
          "output_type": "display_data"
        },
        {
          "name": "stdout",
          "output_type": "stream",
          "text": [
            "\n",
            "Регион с наибольшим количеством работодателей - Россия\n"
          ]
        }
      ],
      "source": [
        "# результат запроса\n",
        "# Выведем получившуюся таблицу на экран\n",
        "\n",
        "regions_employers_vacs = pd.read_sql_query(sql=query_5_2, con=connection)\n",
        "display(regions_employers_vacs)\n",
        "print()\n",
        "\n",
        "# Ответ на вопрос\n",
        "print(f\"Регион с наибольшим количеством работодателей - {regions_employers_vacs['Регион'].iloc[0]}.\")"
      ]
    },
    {
      "cell_type": "markdown",
      "id": "f2fe0acb-ab1a-4e15-9326-2560e22d73c1",
      "metadata": {
        "id": "f2fe0acb-ab1a-4e15-9326-2560e22d73c1"
      },
      "source": [
        "3. Для каждого работодателя посчитайте количество регионов, в которых он публикует свои вакансии. Отсортируйте результат по убыванию количества.\n"
      ]
    },
    {
      "cell_type": "code",
      "execution_count": 145,
      "id": "6271f8ad-bd2e-4196-ae4a-5b39c4c1010e",
      "metadata": {
        "id": "6271f8ad-bd2e-4196-ae4a-5b39c4c1010e"
      },
      "outputs": [],
      "source": [
        "# текст запроса\n",
        "query_5_3 = f''' \n",
        "select \n",
        "    emp.name Работодатель,\n",
        "    count(distinct vac.area_id) \"Количество регионов\" \n",
        "from employers as emp\n",
        "left join vacancies as vac on vac.employer_id=emp.id \n",
        "group by Работодатель\n",
        "order by 2 desc\n",
        "'''"
      ]
    },
    {
      "cell_type": "code",
      "execution_count": 148,
      "id": "1EIvX3HasH4F",
      "metadata": {
        "id": "1EIvX3HasH4F"
      },
      "outputs": [
        {
          "name": "stderr",
          "output_type": "stream",
          "text": [
            "C:\\Users\\qwert\\AppData\\Local\\Temp\\ipykernel_8248\\3979372856.py:2: UserWarning: pandas only supports SQLAlchemy connectable (engine/connection) or database string URI or sqlite3 DBAPI2 connection. Other DBAPI2 objects are not tested. Please consider using SQLAlchemy.\n",
            "  employer_regions = pd.read_sql_query(sql=query_5_3, con=connection)\n"
          ]
        },
        {
          "data": {
            "text/html": [
              "<div>\n",
              "<style scoped>\n",
              "    .dataframe tbody tr th:only-of-type {\n",
              "        vertical-align: middle;\n",
              "    }\n",
              "\n",
              "    .dataframe tbody tr th {\n",
              "        vertical-align: top;\n",
              "    }\n",
              "\n",
              "    .dataframe thead th {\n",
              "        text-align: right;\n",
              "    }\n",
              "</style>\n",
              "<table border=\"1\" class=\"dataframe\">\n",
              "  <thead>\n",
              "    <tr style=\"text-align: right;\">\n",
              "      <th></th>\n",
              "      <th>Работодатель</th>\n",
              "      <th>Количество регионов</th>\n",
              "    </tr>\n",
              "  </thead>\n",
              "  <tbody>\n",
              "    <tr>\n",
              "      <th>0</th>\n",
              "      <td>Яндекс</td>\n",
              "      <td>181</td>\n",
              "    </tr>\n",
              "    <tr>\n",
              "      <th>1</th>\n",
              "      <td>Ростелеком</td>\n",
              "      <td>152</td>\n",
              "    </tr>\n",
              "    <tr>\n",
              "      <th>2</th>\n",
              "      <td>Спецремонт</td>\n",
              "      <td>116</td>\n",
              "    </tr>\n",
              "    <tr>\n",
              "      <th>3</th>\n",
              "      <td>Поляков Денис Иванович</td>\n",
              "      <td>88</td>\n",
              "    </tr>\n",
              "    <tr>\n",
              "      <th>4</th>\n",
              "      <td>ООО ЕФИН</td>\n",
              "      <td>71</td>\n",
              "    </tr>\n",
              "    <tr>\n",
              "      <th>...</th>\n",
              "      <td>...</td>\n",
              "      <td>...</td>\n",
              "    </tr>\n",
              "    <tr>\n",
              "      <th>23170</th>\n",
              "      <td>СДЕЛКА</td>\n",
              "      <td>0</td>\n",
              "    </tr>\n",
              "    <tr>\n",
              "      <th>23171</th>\n",
              "      <td>Alandr Group</td>\n",
              "      <td>0</td>\n",
              "    </tr>\n",
              "    <tr>\n",
              "      <th>23172</th>\n",
              "      <td>СДК</td>\n",
              "      <td>0</td>\n",
              "    </tr>\n",
              "    <tr>\n",
              "      <th>23173</th>\n",
              "      <td>Lemon Land Lombard</td>\n",
              "      <td>0</td>\n",
              "    </tr>\n",
              "    <tr>\n",
              "      <th>23174</th>\n",
              "      <td>Махина</td>\n",
              "      <td>0</td>\n",
              "    </tr>\n",
              "  </tbody>\n",
              "</table>\n",
              "<p>23175 rows × 2 columns</p>\n",
              "</div>"
            ],
            "text/plain": [
              "                 Работодатель  Количество регионов\n",
              "0                      Яндекс                  181\n",
              "1                  Ростелеком                  152\n",
              "2                  Спецремонт                  116\n",
              "3      Поляков Денис Иванович                   88\n",
              "4                   ООО ЕФИН                    71\n",
              "...                       ...                  ...\n",
              "23170                  СДЕЛКА                    0\n",
              "23171            Alandr Group                    0\n",
              "23172                     СДК                    0\n",
              "23173      Lemon Land Lombard                    0\n",
              "23174                  Махина                    0\n",
              "\n",
              "[23175 rows x 2 columns]"
            ]
          },
          "metadata": {},
          "output_type": "display_data"
        },
        {
          "name": "stdout",
          "output_type": "stream",
          "text": [
            "Наибольшее количество вакансий на 1 работодателя - 181 (у Яндекс)\n"
          ]
        }
      ],
      "source": [
        "# результат запроса\n",
        "employer_regions = pd.read_sql_query(sql=query_5_3, con=connection)\n",
        "display(employer_regions)\n",
        "\n",
        "# Ответ на вопрос\n",
        "print(f\"Наибольшее количество вакансий на 1 работодателя - {employer_regions['Количество регионов'].iloc[0]} (у {employer_regions['Работодатель'].iloc[0]})\")"
      ]
    },
    {
      "cell_type": "markdown",
      "id": "eab2206d-d95b-468b-8e5f-34381abf0ce7",
      "metadata": {
        "id": "eab2206d-d95b-468b-8e5f-34381abf0ce7"
      },
      "source": [
        "4. Напишите запрос для подсчёта количества работодателей, у которых не указана сфера деятельности. "
      ]
    },
    {
      "cell_type": "code",
      "execution_count": 150,
      "id": "80defb23-bfb1-4a18-8be6-bf36aa7165d5",
      "metadata": {
        "id": "80defb23-bfb1-4a18-8be6-bf36aa7165d5"
      },
      "outputs": [],
      "source": [
        "# текст запроса\n",
        "# Запрос sql\n",
        "\n",
        "query_5_4 = f''' \n",
        "select \n",
        "    count(emp.*)\n",
        "from employers as emp\n",
        "left join employers_industries as ei on emp.id=ei.employer_id\n",
        "where ei.industry_id is null\n",
        "''' "
      ]
    },
    {
      "cell_type": "code",
      "execution_count": 153,
      "id": "Dp_yCx6ysQSu",
      "metadata": {
        "id": "Dp_yCx6ysQSu"
      },
      "outputs": [
        {
          "name": "stdout",
          "output_type": "stream",
          "text": [
            "Количество работодателей с неуказанной отраслью - 8419\n",
            "\n"
          ]
        },
        {
          "name": "stderr",
          "output_type": "stream",
          "text": [
            "C:\\Users\\qwert\\AppData\\Local\\Temp\\ipykernel_8248\\2689251978.py:2: UserWarning: pandas only supports SQLAlchemy connectable (engine/connection) or database string URI or sqlite3 DBAPI2 connection. Other DBAPI2 objects are not tested. Please consider using SQLAlchemy.\n",
            "  count_employers_industries = pd.read_sql_query(sql=query_5_4, con=connection)\n"
          ]
        }
      ],
      "source": [
        "# результат запроса\n",
        "count_employers_industries = pd.read_sql_query(sql=query_5_4, con=connection)\n",
        "\n",
        "# Ответ на вопрос\n",
        "print(f'Количество работодателей с неуказанной отраслью - {count_employers_industries.iloc[0][0]}')\n",
        "print()"
      ]
    },
    {
      "cell_type": "markdown",
      "id": "0112af31-f6b0-4e3b-82ab-71296e752e5e",
      "metadata": {
        "id": "0112af31-f6b0-4e3b-82ab-71296e752e5e"
      },
      "source": [
        "5. Напишите запрос, чтобы узнать название компании, находящейся на третьем месте в алфавитном списке (по названию) компаний, у которых указано четыре сферы деятельности. "
      ]
    },
    {
      "cell_type": "code",
      "execution_count": 161,
      "id": "973b0cfc-a972-470a-8b4a-68744ef220c4",
      "metadata": {
        "id": "973b0cfc-a972-470a-8b4a-68744ef220c4"
      },
      "outputs": [],
      "source": [
        "# текст запроса\n",
        "# Запрос sql\n",
        "\n",
        "query_5_5 = f''' \n",
        "select \n",
        "    emp.name Работодатель,\n",
        "    count(distinct ei.industry_id) \"Количество сфер деятельности\"\n",
        "from employers as emp\n",
        "left join employers_industries as ei on emp.id=ei.employer_id\n",
        "group by Работодатель\n",
        "having count(distinct ei.industry_id) = 4\n",
        "order by 1\n",
        "offset 2 limit 1\n",
        "''' "
      ]
    },
    {
      "cell_type": "code",
      "execution_count": 164,
      "id": "xsPtpp8EsaED",
      "metadata": {
        "id": "xsPtpp8EsaED"
      },
      "outputs": [
        {
          "name": "stderr",
          "output_type": "stream",
          "text": [
            "C:\\Users\\qwert\\AppData\\Local\\Temp\\ipykernel_8248\\1637652806.py:2: UserWarning: pandas only supports SQLAlchemy connectable (engine/connection) or database string URI or sqlite3 DBAPI2 connection. Other DBAPI2 objects are not tested. Please consider using SQLAlchemy.\n",
            "  employer_industries = pd.read_sql_query(sql=query_5_5, con=connection)\n"
          ]
        },
        {
          "data": {
            "text/html": [
              "<div>\n",
              "<style scoped>\n",
              "    .dataframe tbody tr th:only-of-type {\n",
              "        vertical-align: middle;\n",
              "    }\n",
              "\n",
              "    .dataframe tbody tr th {\n",
              "        vertical-align: top;\n",
              "    }\n",
              "\n",
              "    .dataframe thead th {\n",
              "        text-align: right;\n",
              "    }\n",
              "</style>\n",
              "<table border=\"1\" class=\"dataframe\">\n",
              "  <thead>\n",
              "    <tr style=\"text-align: right;\">\n",
              "      <th></th>\n",
              "      <th>Работодатель</th>\n",
              "      <th>Количество сфер деятельности</th>\n",
              "    </tr>\n",
              "  </thead>\n",
              "  <tbody>\n",
              "    <tr>\n",
              "      <th>0</th>\n",
              "      <td>2ГИС</td>\n",
              "      <td>4</td>\n",
              "    </tr>\n",
              "  </tbody>\n",
              "</table>\n",
              "</div>"
            ],
            "text/plain": [
              "  Работодатель  Количество сфер деятельности\n",
              "0         2ГИС                             4"
            ]
          },
          "metadata": {},
          "output_type": "display_data"
        },
        {
          "name": "stdout",
          "output_type": "stream",
          "text": [
            "\n",
            "Третья в спсике компания с 4 сферами деятельности - 2ГИС\n"
          ]
        }
      ],
      "source": [
        "# результат запроса\n",
        "employer_industries = pd.read_sql_query(sql=query_5_5, con=connection)\n",
        "display(employer_industries)\n",
        "print()\n",
        "\n",
        "# Ответ на вопрос\n",
        "print(f\"Третья в спсике компания с 4 сферами деятельности - {employer_industries['Работодатель'].iloc[0]}\")"
      ]
    },
    {
      "cell_type": "markdown",
      "id": "3bfcfdaf-755d-4d2b-8ed8-326201dc07ab",
      "metadata": {
        "id": "3bfcfdaf-755d-4d2b-8ed8-326201dc07ab"
      },
      "source": [
        "6. С помощью запроса выясните, у какого количества работодателей в качестве сферы деятельности указана Разработка программного обеспечения.\n"
      ]
    },
    {
      "cell_type": "code",
      "execution_count": 165,
      "id": "ad3f270f-2991-47eb-929b-e8f88a55b0d1",
      "metadata": {
        "id": "ad3f270f-2991-47eb-929b-e8f88a55b0d1"
      },
      "outputs": [],
      "source": [
        "# текст запроса\n",
        "# Запрос в sql\n",
        "\n",
        "query_5_6 = f''' \n",
        "select count(distinct ei.employer_id)\n",
        "from employers_industries as ei\n",
        "left join industries as ind on ei.industry_id=ind.id\n",
        "where ind.name like 'Разработка программного обеспечения'\n",
        "''' "
      ]
    },
    {
      "cell_type": "code",
      "execution_count": 168,
      "id": "H72qxWM0shPR",
      "metadata": {
        "id": "H72qxWM0shPR"
      },
      "outputs": [
        {
          "name": "stdout",
          "output_type": "stream",
          "text": [
            "Количество работодателей-разработчиков програмного обеспечения - 3553\n",
            "\n"
          ]
        },
        {
          "name": "stderr",
          "output_type": "stream",
          "text": [
            "C:\\Users\\qwert\\AppData\\Local\\Temp\\ipykernel_8248\\3469826474.py:3: UserWarning: pandas only supports SQLAlchemy connectable (engine/connection) or database string URI or sqlite3 DBAPI2 connection. Other DBAPI2 objects are not tested. Please consider using SQLAlchemy.\n",
            "  software_development = pd.read_sql_query(sql=query_5_6, con=connection)\n"
          ]
        }
      ],
      "source": [
        "# результат запроса\n",
        "\n",
        "software_development = pd.read_sql_query(sql=query_5_6, con=connection)\n",
        "\n",
        "# Ответ на вопрос\n",
        "print(f'Количество работодателей-разработчиков програмного обеспечения - {software_development.iloc[0][0]}')\n",
        "print()"
      ]
    },
    {
      "cell_type": "markdown",
      "id": "7b02bb86-0546-40fb-94a4-242f050a5c57",
      "metadata": {
        "id": "7b02bb86-0546-40fb-94a4-242f050a5c57"
      },
      "source": [
        "7. Для компании «Яндекс» выведите список регионов-миллионников, в которых представлены вакансии компании, вместе с количеством вакансий в этих регионах. Также добавьте строку Total с общим количеством вакансий компании. Результат отсортируйте по возрастанию количества.\n",
        "\n",
        "Список городов-милионников надо взять [отсюда](https://ru.wikipedia.org/wiki/%D0%93%D0%BE%D1%80%D0%BE%D0%B4%D0%B0-%D0%BC%D0%B8%D0%BB%D0%BB%D0%B8%D0%BE%D0%BD%D0%B5%D1%80%D1%8B_%D0%A0%D0%BE%D1%81%D1%81%D0%B8%D0%B8). \n",
        "\n",
        "Если возникнут трудности с этим задание посмотрите материалы модуля  PYTHON-17. Как получать данные из веб-источников и API. "
      ]
    },
    {
      "cell_type": "code",
      "execution_count": 178,
      "id": "ZdfrL6gIs1Pn",
      "metadata": {
        "id": "ZdfrL6gIs1Pn"
      },
      "outputs": [
        {
          "data": {
            "text/plain": [
              "'<!DOCTYPE html>\\n<html class=\"client-nojs\" lang=\"ru\" dir=\"ltr\">\\n<head>\\n<meta charset=\"UTF-8\">\\n<title>Города-миллионеры России — Википедия</title>\\n<script>document.documentElement.className=\"client-js\";RLCONF={\"wgBreakFrames\":false,\"wgSeparatorTransformTable\":[\",\\\\t.\",\"\\xa0\\\\t,\"],\"wgDigitTransformTable\":[\"\",\"\"],\"wgDefaultDateFormat\":\"dmy\",\"wgMonthNames\":[\"\",\"январь\",\"февраль\",\"март\",\"апрель\",\"май\",\"июнь\",\"июль\",\"август\",\"сентябрь\",\"октябрь\",\"ноябрь\",\"декабрь\"],\"wgRequestId\":\"ec3d5c1e-5690-427c-a756-316e3cdf55dd\",\"wgCanonicalNamespace\":\"\",\"wgCanonicalSpecialPageName\":false,\"wgNamespaceNumber\":0,\"wgPageName\":\"Города-миллионеры_России\",\"wgTitle\":\"Города-миллионеры России\",\"wgCurRevisionId\":132167311,\"wgRevisionId\":132167311,\"wgArticleId\":756937,\"wgIsArticle\":true,\"wgIsRedirect\":false,\"wgAction\":\"view\",\"wgUserName\":null,\"wgUserGroups\":[\"*\"],\"wgCategories\":[\"Википедия:Cite web (заменить webcitation-архив: deadlink yes)\",\"Википедия:Статьи с нерабочими ссылками\",\\n\"Википедия:Статьи для обновления\",\"Википедия:Статьи с шаблонами недостатков по алфавиту\",\"Википедия:Статьи с разделами без ссылок на источники с сентября 2022 года\",\"Википедия:Статьи без источников (страна: Россия)\",\"Википедия:Статьи без источников (тип: статья-список в проекте Викимедиа)\",\"Википедия:Статьи с разделами без ссылок на источники с апреля 2022 года\",\"Википедия:Нет источников с апреля 2021\",\"Википедия:Статьи с утверждениями без источников более 14 дней\",\"Википедия:Статьи, требующие конкретизации\",\"Население России\",\\n\"Города-миллионеры России\",\"Население по городам России\",\"Списки городов России\"],\"wgPageViewLanguage\":\"ru\",\"wgPageContentLanguage\":\"ru\",\"wgPageContentModel\":\"wikitext\",\"wgRelevantPageName\":\"Города-миллионеры_России\",\"wgRelevantArticleId\":756937,\"wgIsProbablyEditable\":true,\"wgRelevantPageIsProbablyEditable\":true,\"wgRestrictionEdit\":[],\"wgRestrictionMove\":[],\"wgVisualEditor\":{\"pageLanguageCode\":\"ru\",\"pageLanguageDir\":\"ltr\",\"pageVariantFallbacks\":\"ru\"},\"wgMFDisplayWikibaseDescriptions\":{\"search\":true,\"watchlist\":true,\"tagline\":false,\"nearby\":true},\"wgWMESchemaEditAttemptStepOversample\":false,\"wgWMEPageLength\":60000,\"wgNoticeProject\":\"wikipedia\",\"wgFlaggedRevsParams\":{\"tags\":{\"accuracy\":{\"levels\":1}}},\"wgStableRevisionId\":129870936,\"wgMediaViewerOnClick\":true,\"wgMediaViewerEnabledByDefault\":true,\"wgPopupsFlags\":10,\"wgULSCurrentAutonym\":\"русский\",\"wgEditSubmitButtonLabelPublish\":true,\\n\"wgCentralAuthMobileDomain\":false,\"wgULSPosition\":\"interlanguage\",\"wgULSisCompactLinksEnabled\":true,\"wgULSisLanguageSelectorEmpty\":false,\"wgWikibaseItemId\":\"Q1987543\",\"wgCheckUserClientHintsHeadersJsApi\":[\"architecture\",\"bitness\",\"brands\",\"fullVersionList\",\"mobile\",\"model\",\"platform\",\"platformVersion\"],\"GEHomepageSuggestedEditsEnableTopics\":true,\"wgGETopicsMatchModeEnabled\":false,\"wgGEStructuredTaskRejectionReasonTextInputEnabled\":false,\"wgGELevelingUpEnabledForUser\":false};RLSTATE={\"ext.globalCssJs.user.styles\":\"ready\",\"site.styles\":\"ready\",\"user.styles\":\"ready\",\"ext.globalCssJs.user\":\"ready\",\"user\":\"ready\",\"user.options\":\"loading\",\"ext.flaggedRevs.icons\":\"ready\",\"oojs-ui-core.styles\":\"ready\",\"oojs-ui.styles.indicators\":\"ready\",\"mediawiki.widgets.styles\":\"ready\",\"oojs-ui-core.icons\":\"ready\",\"ext.cite.styles\":\"ready\",\"skins.vector.styles.legacy\":\"ready\",\"jquery.tablesorter.styles\":\"ready\",\"ext.visualEditor.desktopArticleTarget.noscript\":\"ready\",\"ext.wikimediaBadges\":\"ready\",\\n\"ext.flaggedRevs.basic\":\"ready\",\"codex-styles\":\"ready\",\"ext.uls.interlanguage\":\"ready\",\"wikibase.client.init\":\"ready\"};RLPAGEMODULES=[\"ext.cite.ux-enhancements\",\"mediawiki.page.media\",\"site\",\"mediawiki.page.ready\",\"jquery.tablesorter\",\"mediawiki.toc\",\"skins.vector.legacy.js\",\"ext.visualEditor.desktopArticleTarget.init\",\"ext.visualEditor.targetLoader\",\"ext.eventLogging\",\"ext.wikimediaEvents\",\"ext.navigationTiming\",\"ext.cx.eventlogging.campaigns\",\"ext.quicksurveys.init\",\"oojs-ui.styles.icons-media\",\"oojs-ui-core.icons\",\"ext.centralNotice.geoIP\",\"ext.centralNotice.startUp\",\"ext.flaggedRevs.advanced\",\"ext.gadget.collapserefs\",\"ext.gadget.directLinkToCommons\",\"ext.gadget.referenceTooltips\",\"ext.gadget.logo\",\"ext.gadget.edittop\",\"ext.gadget.blpEditNotice\",\"ext.gadget.wikibugs\",\"ext.gadget.sidebarRelated\",\"ext.gadget.navboxNavigation\",\"ext.centralauth.centralautologin\",\"mmv.head\",\"mmv.bootstrap.autostart\",\"ext.popups\",\"ext.echo.centralauth\",\"ext.uls.compactlinks\",\"ext.uls.interface\",\\n\"ext.checkUser.clientHints\",\"ext.growthExperiments.SuggestedEditSession\"];</script>\\n<script>(RLQ=window.RLQ||[]).push(function(){mw.loader.impl(function(){return[\"user.options@12s5i\",function($,jQuery,require,module){mw.user.tokens.set({\"patrolToken\":\"+\\\\\\\\\",\"watchToken\":\"+\\\\\\\\\",\"csrfToken\":\"+\\\\\\\\\"});}];});});</script>\\n<link rel=\"stylesheet\" href=\"/w/load.php?lang=ru&amp;modules=codex-styles%7Cext.cite.styles%7Cext.flaggedRevs.basic%2Cicons%7Cext.uls.interlanguage%7Cext.visualEditor.desktopArticleTarget.noscript%7Cext.wikimediaBadges%7Cjquery.tablesorter.styles%7Cmediawiki.widgets.styles%7Coojs-ui-core.icons%2Cstyles%7Coojs-ui.styles.indicators%7Cskins.vector.styles.legacy%7Cwikibase.client.init&amp;only=styles&amp;skin=vector\">\\n<script async=\"\" src=\"/w/load.php?lang=ru&amp;modules=startup&amp;only=scripts&amp;raw=1&amp;skin=vector\"></script>\\n<meta name=\"ResourceLoaderDynamicStyles\" content=\"\">\\n<link rel=\"stylesheet\" href=\"/w/load.php?lang=ru&amp;modules=site.styles&amp;only=styles&amp;skin=vector\">\\n<noscript><link rel=\"stylesheet\" href=\"/w/load.php?lang=ru&amp;modules=noscript&amp;only=styles&amp;skin=vector\"></noscript>\\n<meta name=\"generator\" content=\"MediaWiki 1.41.0-wmf.23\">\\n<meta name=\"referrer\" content=\"origin\">\\n<meta name=\"referrer\" content=\"origin-when-crossorigin\">\\n<meta name=\"referrer\" content=\"origin-when-cross-origin\">\\n<meta name=\"robots\" content=\"max-image-preview:standard\">\\n<meta name=\"format-detection\" content=\"telephone=no\">\\n<meta name=\"viewport\" content=\"width=1000\">\\n<meta property=\"og:title\" content=\"Города-миллионеры России — Википедия\">\\n<meta property=\"og:type\" content=\"website\">\\n<link rel=\"preconnect\" href=\"//upload.wikimedia.org\">\\n<link rel=\"alternate\" media=\"only screen and (max-width: 720px)\" href=\"//ru.m.wikipedia.org/wiki/%D0%93%D0%BE%D1%80%D0%BE%D0%B4%D0%B0-%D0%BC%D0%B8%D0%BB%D0%BB%D0%B8%D0%BE%D0%BD%D0%B5%D1%80%D1%8B_%D0%A0%D0%BE%D1%81%D1%81%D0%B8%D0%B8\">\\n<link rel=\"alternate\" type=\"application/x-wiki\" title=\"Править\" href=\"/w/index.php?title=%D0%93%D0%BE%D1%80%D0%BE%D0%B4%D0%B0-%D0%BC%D0%B8%D0%BB%D0%BB%D0%B8%D0%BE%D0%BD%D0%B5%D1%80%D1%8B_%D0%A0%D0%BE%D1%81%D1%81%D0%B8%D0%B8&amp;action=edit\">\\n<link rel=\"apple-touch-icon\" href=\"/static/apple-touch/wikipedia.png\">\\n<link rel=\"icon\" href=\"/static/favicon/wikipedia.ico\">\\n<link rel=\"search\" type=\"application/opensearchdescription+xml\" href=\"/w/opensearch_desc.php\" title=\"Википедия (ru)\">\\n<link rel=\"EditURI\" type=\"application/rsd+xml\" href=\"//ru.wikipedia.org/w/api.php?action=rsd\">\\n<link rel=\"canonical\" href=\"https://ru.wikipedia.org/wiki/%D0%93%D0%BE%D1%80%D0%BE%D0%B4%D0%B0-%D0%BC%D0%B8%D0%BB%D0%BB%D0%B8%D0%BE%D0%BD%D0%B5%D1%80%D1%8B_%D0%A0%D0%BE%D1%81%D1%81%D0%B8%D0%B8\">\\n<link rel=\"license\" href=\"https://creativecommons.org/licenses/by-sa/4.0/deed.ru\">\\n<link rel=\"alternate\" type=\"application/atom+xml\" title=\"Википедия\\xa0— Atom-лента\" href=\"/w/index.php?title=%D0%A1%D0%BB%D1%83%D0%B6%D0%B5%D0%B1%D0%BD%D0%B0%D1%8F:%D0%A1%D0%B2%D0%B5%D0%B6%D0%B8%D0%B5_%D0%BF%D1%80%D0%B0%D0%B2%D0%BA%D0%B8&amp;feed=atom\">\\n<link rel=\"dns-prefetch\" href=\"//meta.wikimedia.org\" />\\n<link rel=\"dns-prefetch\" href=\"//login.wikimedia.org\">\\n</head>\\n<body class=\"skin-vector-legacy mediawiki ltr sitedir-ltr mw-hide-empty-elt ns-0 ns-subject mw-editable page-Города-миллионеры_России rootpage-Города-миллионеры_России skin-vector action-view\"><div id=\"mw-page-base\" class=\"noprint\"></div>\\n<div id=\"mw-head-base\" class=\"noprint\"></div>\\n<div id=\"content\" class=\"mw-body\" role=\"main\">\\n\\t<a id=\"top\"></a>\\n\\t<div id=\"siteNotice\"><!-- CentralNotice --></div>\\n\\t<div class=\"mw-indicators\">\\n\\t</div>\\n\\t<h1 id=\"firstHeading\" class=\"firstHeading mw-first-heading\"><span class=\"mw-page-title-main\">Города-миллионеры России</span></h1>\\n\\t<div id=\"bodyContent\" class=\"vector-body\">\\n\\t\\t<div id=\"siteSub\" class=\"noprint\">Материал из Википедии — свободной энциклопедии</div>\\n\\t\\t<div id=\"contentSub\"><div id=\"mw-content-subtitle\"><div id=\\'mw-fr-reviewnotice\\' class=\\'plainlinks flaggedrevs_preview\\'>Текущая версия страницы пока <a href=\"/wiki/%D0%92%D0%B8%D0%BA%D0%B8%D0%BF%D0%B5%D0%B4%D0%B8%D1%8F:%D0%9F%D1%80%D0%BE%D0%B2%D0%B5%D1%80%D0%BA%D0%B0_%D1%81%D1%82%D0%B0%D1%82%D0%B5%D0%B9/%D0%9F%D0%BE%D1%8F%D1%81%D0%BD%D0%B5%D0%BD%D0%B8%D0%B5_%D0%B4%D0%BB%D1%8F_%D1%87%D0%B8%D1%82%D0%B0%D1%82%D0%B5%D0%BB%D0%B5%D0%B9\" title=\"Википедия:Проверка статей/Пояснение для читателей\">не проверялась</a> опытными участниками и может значительно отличаться от <a class=\"external text\" href=\"https://ru.wikipedia.org/w/index.php?title=%D0%93%D0%BE%D1%80%D0%BE%D0%B4%D0%B0-%D0%BC%D0%B8%D0%BB%D0%BB%D0%B8%D0%BE%D0%BD%D0%B5%D1%80%D1%8B_%D0%A0%D0%BE%D1%81%D1%81%D0%B8%D0%B8&amp;stable=1\">версии</a>, проверенной 10 августа 2023 года; проверки требуют <a class=\"external text\" href=\"https://ru.wikipedia.org/w/index.php?title=%D0%93%D0%BE%D1%80%D0%BE%D0%B4%D0%B0-%D0%BC%D0%B8%D0%BB%D0%BB%D0%B8%D0%BE%D0%BD%D0%B5%D1%80%D1%8B_%D0%A0%D0%BE%D1%81%D1%81%D0%B8%D0%B8&amp;oldid=129870936&amp;diff=cur&amp;diffonly=0\">17 правок</a>.</div><div id=\"mw-fr-revisiontag\" class=\"flaggedrevs_short flaggedrevs_draft_notsynced plainlinks noprint\"><div class=\"flaggedrevs_short_basic\"><span title=\\'Текущая версия\\' class=\\'flaggedrevs-icon oo-ui-widget oo-ui-widget-enabled oo-ui-iconElement-icon oo-ui-icon-block oo-ui-iconElement oo-ui-labelElement-invisible oo-ui-iconWidget\\'></span><span id=\\'mw-fr-revisiontoggle\\' title=\\'показать/скрыть подробности\\' class=\\'fr-toggle-arrow oo-ui-widget oo-ui-widget-enabled oo-ui-indicatorElement-indicator oo-ui-indicator-down oo-ui-indicatorElement oo-ui-labelElement-invisible oo-ui-indicatorWidget\\'></span></div>\\n<div id=\"mw-fr-revisiondetails-wrapper\" style=\"position:relative;\"><div id=\"mw-fr-revisiondetails\" class=\"flaggedrevs_short_details\" style=\"display:none\">Текущая версия страницы пока <a href=\"/wiki/%D0%92%D0%B8%D0%BA%D0%B8%D0%BF%D0%B5%D0%B4%D0%B8%D1%8F:%D0%9F%D1%80%D0%BE%D0%B2%D0%B5%D1%80%D0%BA%D0%B0_%D1%81%D1%82%D0%B0%D1%82%D0%B5%D0%B9/%D0%9F%D0%BE%D1%8F%D1%81%D0%BD%D0%B5%D0%BD%D0%B8%D0%B5_%D0%B4%D0%BB%D1%8F_%D1%87%D0%B8%D1%82%D0%B0%D1%82%D0%B5%D0%BB%D0%B5%D0%B9\" title=\"Википедия:Проверка статей/Пояснение для читателей\">не проверялась</a> опытными участниками и может значительно отличаться от <a class=\"external text\" href=\"https://ru.wikipedia.org/w/index.php?title=%D0%93%D0%BE%D1%80%D0%BE%D0%B4%D0%B0-%D0%BC%D0%B8%D0%BB%D0%BB%D0%B8%D0%BE%D0%BD%D0%B5%D1%80%D1%8B_%D0%A0%D0%BE%D1%81%D1%81%D0%B8%D0%B8&amp;stable=1\">версии</a>, проверенной 10 августа 2023 года; проверки требуют <a class=\"external text\" href=\"https://ru.wikipedia.org/w/index.php?title=%D0%93%D0%BE%D1%80%D0%BE%D0%B4%D0%B0-%D0%BC%D0%B8%D0%BB%D0%BB%D0%B8%D0%BE%D0%BD%D0%B5%D1%80%D1%8B_%D0%A0%D0%BE%D1%81%D1%81%D0%B8%D0%B8&amp;oldid=129870936&amp;diff=cur&amp;diffonly=0\">17 правок</a>.</div>\\n</div>\\n</div>\\n</div></div>\\n\\t\\t<div id=\"contentSub2\"></div>\\n\\t\\t\\n\\t\\t<div id=\"jump-to-nav\"></div>\\n\\t\\t<a class=\"mw-jump-link\" href=\"#mw-head\">Перейти к навигации</a>\\n\\t\\t<a class=\"mw-jump-link\" href=\"#searchInput\">Перейти к поиску</a>\\n\\t\\t<div id=\"mw-content-text\" class=\"mw-body-content mw-content-ltr\" lang=\"ru\" dir=\"ltr\"><div class=\"mw-parser-output\"><p><b>Города-миллионе́ры</b>&#160;(<a href=\"/wiki/%D0%A0%D0%B0%D0%B7%D0%B3%D0%BE%D0%B2%D0%BE%D1%80%D0%BD%D1%8B%D0%B9_%D1%81%D1%82%D0%B8%D0%BB%D1%8C\" title=\"Разговорный стиль\">разг</a>. <i>города-миллио́нники</i>) — категория <a href=\"/wiki/%D0%93%D0%BE%D1%80%D0%BE%D0%B4%D0%B0_%D0%A0%D0%BE%D1%81%D1%81%D0%B8%D0%B8\" title=\"Города России\">городов России</a>, в каждом из которых численность населения в пределах городской черты превышает один миллион человек.\\n</p>\\n<div id=\"toc\" class=\"toc\" role=\"navigation\" aria-labelledby=\"mw-toc-heading\"><input type=\"checkbox\" role=\"button\" id=\"toctogglecheckbox\" class=\"toctogglecheckbox\" style=\"display:none\" /><div class=\"toctitle\" lang=\"ru\" dir=\"ltr\"><h2 id=\"mw-toc-heading\">Содержание</h2><span class=\"toctogglespan\"><label class=\"toctogglelabel\" for=\"toctogglecheckbox\"></label></span></div>\\n<ul>\\n<li class=\"toclevel-1 tocsection-1\"><a href=\"#Основные_сведения\"><span class=\"tocnumber\">1</span> <span class=\"toctext\">Основные сведения</span></a>\\n<ul>\\n<li class=\"toclevel-2 tocsection-2\"><a href=\"#Список_городов-миллионеров\"><span class=\"tocnumber\">1.1</span> <span class=\"toctext\">Список городов-миллионеров</span></a>\\n<ul>\\n<li class=\"toclevel-3 tocsection-3\"><a href=\"#Позиционная_карта\"><span class=\"tocnumber\">1.1.1</span> <span class=\"toctext\">Позиционная карта</span></a></li>\\n</ul>\\n</li>\\n<li class=\"toclevel-2 tocsection-4\"><a href=\"#Субмиллионеры\"><span class=\"tocnumber\">1.2</span> <span class=\"toctext\">Субмиллионеры</span></a></li>\\n<li class=\"toclevel-2 tocsection-5\"><a href=\"#Крупнейшие_города_суммарно\"><span class=\"tocnumber\">1.3</span> <span class=\"toctext\">Крупнейшие города суммарно</span></a></li>\\n</ul>\\n</li>\\n<li class=\"toclevel-1 tocsection-6\"><a href=\"#Агломерации\"><span class=\"tocnumber\">2</span> <span class=\"toctext\">Агломерации</span></a></li>\\n<li class=\"toclevel-1 tocsection-7\"><a href=\"#Предыстория\"><span class=\"tocnumber\">3</span> <span class=\"toctext\">Предыстория</span></a></li>\\n<li class=\"toclevel-1 tocsection-8\"><a href=\"#Становление_первых_городов-миллионеров_и_города-мультимиллионеры\"><span class=\"tocnumber\">4</span> <span class=\"toctext\">Становление первых городов-миллионеров и города-мультимиллионеры</span></a>\\n<ul>\\n<li class=\"toclevel-2 tocsection-9\"><a href=\"#Санкт-Петербург\"><span class=\"tocnumber\">4.1</span> <span class=\"toctext\">Санкт-Петербург</span></a></li>\\n<li class=\"toclevel-2 tocsection-10\"><a href=\"#Москва\"><span class=\"tocnumber\">4.2</span> <span class=\"toctext\">Москва</span></a></li>\\n</ul>\\n</li>\\n<li class=\"toclevel-1 tocsection-11\"><a href=\"#Особенности_развития\"><span class=\"tocnumber\">5</span> <span class=\"toctext\">Особенности развития</span></a>\\n<ul>\\n<li class=\"toclevel-2 tocsection-12\"><a href=\"#Рост_и_развитие_в_эпоху_СССР\"><span class=\"tocnumber\">5.1</span> <span class=\"toctext\">Рост и развитие в эпоху СССР</span></a></li>\\n<li class=\"toclevel-2 tocsection-13\"><a href=\"#Города-миллионеры_в_современной_России\"><span class=\"tocnumber\">5.2</span> <span class=\"toctext\">Города-миллионеры в современной России</span></a></li>\\n</ul>\\n</li>\\n<li class=\"toclevel-1 tocsection-14\"><a href=\"#См._также\"><span class=\"tocnumber\">6</span> <span class=\"toctext\">См. также</span></a></li>\\n<li class=\"toclevel-1 tocsection-15\"><a href=\"#Примечания\"><span class=\"tocnumber\">7</span> <span class=\"toctext\">Примечания</span></a></li>\\n<li class=\"toclevel-1 tocsection-16\"><a href=\"#Ссылки\"><span class=\"tocnumber\">8</span> <span class=\"toctext\">Ссылки</span></a></li>\\n</ul>\\n</div>\\n\\n<h2><span id=\".D0.9E.D1.81.D0.BD.D0.BE.D0.B2.D0.BD.D1.8B.D0.B5_.D1.81.D0.B2.D0.B5.D0.B4.D0.B5.D0.BD.D0.B8.D1.8F\"></span><span class=\"mw-headline\" id=\"Основные_сведения\">Основные сведения</span><span class=\"mw-editsection\"><span class=\"mw-editsection-bracket\">[</span><a href=\"/w/index.php?title=%D0%93%D0%BE%D1%80%D0%BE%D0%B4%D0%B0-%D0%BC%D0%B8%D0%BB%D0%BB%D0%B8%D0%BE%D0%BD%D0%B5%D1%80%D1%8B_%D0%A0%D0%BE%D1%81%D1%81%D0%B8%D0%B8&amp;veaction=edit&amp;section=1\" class=\"mw-editsection-visualeditor\" title=\"Редактировать раздел «Основные сведения»\">править</a><span class=\"mw-editsection-divider\"> | </span><a href=\"/w/index.php?title=%D0%93%D0%BE%D1%80%D0%BE%D0%B4%D0%B0-%D0%BC%D0%B8%D0%BB%D0%BB%D0%B8%D0%BE%D0%BD%D0%B5%D1%80%D1%8B_%D0%A0%D0%BE%D1%81%D1%81%D0%B8%D0%B8&amp;action=edit&amp;section=1\" title=\"Edit section&#039;s source code: Основные сведения\">править код</a><span class=\"mw-editsection-bracket\">]</span></span></h2>\\n<table class=\"mbox-Обновить plainlinks metadata ambox ambox-content\" role=\"presentation\"><tbody><tr><td class=\"mbox-image\"><div style=\"width:52px\"><span typeof=\"mw:File\"><span><img alt=\"\" src=\"//upload.wikimedia.org/wikipedia/commons/thumb/8/8f/Ambox_outdated_serious.svg/40px-Ambox_outdated_serious.svg.png\" decoding=\"async\" width=\"40\" height=\"40\" class=\"mw-file-element\" srcset=\"//upload.wikimedia.org/wikipedia/commons/thumb/8/8f/Ambox_outdated_serious.svg/60px-Ambox_outdated_serious.svg.png 1.5x, //upload.wikimedia.org/wikipedia/commons/thumb/8/8f/Ambox_outdated_serious.svg/80px-Ambox_outdated_serious.svg.png 2x\" data-file-width=\"620\" data-file-height=\"620\" /></span></span></div></td><td class=\"mbox-text\"><div class=\"mbox-text-div\">Информация в этой статье или некоторых её разделах <b>устарела</b>.</div><div class=\"mbox-textsmall-div hide-when-compact\" style=\"font-size:85%\"><span class=\"hide-when-compact\"> Вы можете помочь проекту, <a class=\"external text\" href=\"https://ru.wikipedia.org/w/index.php?title=%D0%93%D0%BE%D1%80%D0%BE%D0%B4%D0%B0-%D0%BC%D0%B8%D0%BB%D0%BB%D0%B8%D0%BE%D0%BD%D0%B5%D1%80%D1%8B_%D0%A0%D0%BE%D1%81%D1%81%D0%B8%D0%B8&amp;action=edit\">обновив её</a> и убрав после этого данный шаблон.</span></div></td></tr></tbody></table>\\n<div class=\"hatnote navigation-not-searchable\">Основные статьи: <b><a href=\"/wiki/%D0%93%D0%BE%D1%80%D0%BE%D0%B4%D0%B0_%D0%A0%D0%BE%D1%81%D1%81%D0%B8%D0%B8_%D1%81_%D0%BD%D0%B0%D1%81%D0%B5%D0%BB%D0%B5%D0%BD%D0%B8%D0%B5%D0%BC_%D0%B1%D0%BE%D0%BB%D0%B5%D0%B5_500_%D1%82%D1%8B%D1%81%D1%8F%D1%87_%D1%87%D0%B5%D0%BB%D0%BE%D0%B2%D0%B5%D0%BA\" title=\"Города России с населением более 500 тысяч человек\">Города России с населением более 500 тысяч человек</a></b> и <b><a href=\"/wiki/%D0%A1%D0%BF%D0%B8%D1%81%D0%BE%D0%BA_%D0%B3%D0%BE%D1%80%D0%BE%D0%B4%D0%BE%D0%B2_%D0%A0%D0%BE%D1%81%D1%81%D0%B8%D0%B8_%D1%81_%D0%BD%D0%B0%D1%81%D0%B5%D0%BB%D0%B5%D0%BD%D0%B8%D0%B5%D0%BC_%D0%B1%D0%BE%D0%BB%D0%B5%D0%B5_100_%D1%82%D1%8B%D1%81%D1%8F%D1%87_%D0%B6%D0%B8%D1%82%D0%B5%D0%BB%D0%B5%D0%B9\" title=\"Список городов России с населением более 100 тысяч жителей\">Список городов России с населением более 100 тысяч жителей</a></b></div>\\n<p>Города-миллионеры в России являются важнейшими местами сосредоточения и притяжения человеческих, трудовых, промышленных, культурных, экологических, экономических ресурсов и центрами социально-экономического развития как для своего региона, так и обычно сразу для нескольких окружающих регионов, а некоторые из них (Москва и расположенные близко к границам)&#160;— также для стран <a href=\"/wiki/%D0%A1%D0%BE%D0%B4%D1%80%D1%83%D0%B6%D0%B5%D1%81%D1%82%D0%B2%D0%BE_%D0%9D%D0%B5%D0%B7%D0%B0%D0%B2%D0%B8%D1%81%D0%B8%D0%BC%D1%8B%D1%85_%D0%93%D0%BE%D1%81%D1%83%D0%B4%D0%B0%D1%80%D1%81%D1%82%D0%B2\" title=\"Содружество Независимых Государств\">СНГ</a> и <a href=\"/wiki/%D0%90%D0%B7%D0%B8%D1%8F\" title=\"Азия\">Азии</a>. Их значимость в этом качестве зависит не только от числа жителей, но и от ряда других факторов, важнейшими из которых являются уровень доходов населения, накопленный экономический и культурный потенциал, а также специфика соседних регионов, для которых города-миллионеры являются центрами транспорта, высшего образования, торговли, логистики, культуры и&#160;т.&#160;п.\\n</p><p>Распространено мнение о том, что во времена <a href=\"/wiki/%D0%A1%D0%BE%D1%8E%D0%B7_%D0%A1%D0%BE%D0%B2%D0%B5%D1%82%D1%81%D0%BA%D0%B8%D1%85_%D0%A1%D0%BE%D1%86%D0%B8%D0%B0%D0%BB%D0%B8%D1%81%D1%82%D0%B8%D1%87%D0%B5%D1%81%D0%BA%D0%B8%D1%85_%D0%A0%D0%B5%D1%81%D0%BF%D1%83%D0%B1%D0%BB%D0%B8%D0%BA\" title=\"Союз Советских Социалистических Республик\">СССР</a> города-миллионеры имели право на обладание <a href=\"/wiki/%D0%9C%D0%B5%D1%82%D1%80%D0%BE%D0%BF%D0%BE%D0%BB%D0%B8%D1%82%D0%B5%D0%BD\" title=\"Метрополитен\">метрополитеном</a> и некоторыми другими нормативно распределяемыми ресурсами и общественными благами, однако вероятность и очерёдность их получения определялась как нормативами <a href=\"/wiki/%D0%93%D0%BE%D1%81%D0%BF%D0%BB%D0%B0%D0%BD_%D0%A1%D0%A1%D0%A1%D0%A0\" title=\"Госплан СССР\">Госплана СССР</a>, так и в значительной степени неформальными отношениями глав соответствующих регионов с центральными властями. Принято считать, что и в постсоветское время города-миллионеры также выделяются особым отношением со стороны правительства (то же включение в госпрограмму метростроения, поддержка развития дорожной инфраструктуры с 2006 года и&#160;т.&#160;п.) и, являясь крупными рынками как для себя, так и для окружающих территорий, привлекают инвестиции, связанные с производством потребительских товаров, торговлей и сферой услуг (дилерские, сервисные и операторские центры, банковские отделения, пункты федеральных и международных торговых сетей).\\n</p><p>Если рассматривать с точки зрения текущего статистического учёта, в настоящее время (начиная с декабря 2012 года) на территории России насчитывается 16 городов-миллионеров, Россия делит 3—4-е места с <a href=\"/wiki/%D0%91%D1%80%D0%B0%D0%B7%D0%B8%D0%BB%D0%B8%D1%8F\" title=\"Бразилия\">Бразилией</a> <a href=\"/wiki/%D0%A1%D0%BF%D0%B8%D1%81%D0%BE%D0%BA_%D1%81%D1%82%D1%80%D0%B0%D0%BD_%D0%BF%D0%BE_%D0%BA%D0%BE%D0%BB%D0%B8%D1%87%D0%B5%D1%81%D1%82%D0%B2%D1%83_%D0%B3%D0%BE%D1%80%D0%BE%D0%B4%D0%BE%D0%B2-%D0%BC%D0%B8%D0%BB%D0%BB%D0%B8%D0%BE%D0%BD%D0%B5%D1%80%D0%BE%D0%B2\" title=\"Список стран по количеству городов-миллионеров\">по числу городов-миллионеров среди всех стран мира</a>. <a href=\"/wiki/%D0%92%D0%BE%D0%BB%D0%B3%D0%BE%D0%B3%D1%80%D0%B0%D0%B4\" title=\"Волгоград\">Волгоград</a> был городом-миллионером до 1999&#160;года, в 2002—2005&#160;годах и вновь является таковым с 2010&#160;года, <a href=\"/wiki/%D0%9F%D0%B5%D1%80%D0%BC%D1%8C\" title=\"Пермь\">Пермь</a> была городом-миллионером до 2004&#160;года<sup id=\"cite_ref-autogenerated3_1-0\" class=\"reference\"><a href=\"#cite_note-autogenerated3-1\">&#91;1&#93;</a></sup>, но 1 января 2012 года вернула себе этот статус<sup id=\"cite_ref-2\" class=\"reference\"><a href=\"#cite_note-2\">&#91;2&#93;</a></sup>, <a href=\"/wiki/%D0%9A%D1%80%D0%B0%D1%81%D0%BD%D0%BE%D1%8F%D1%80%D1%81%D0%BA\" title=\"Красноярск\">Красноярск</a> стал городом-миллионером впервые в 2012 году<sup id=\"cite_ref-3\" class=\"reference\"><a href=\"#cite_note-3\">&#91;3&#93;</a></sup>. Воронеж стал городом-миллионером 17 декабря 2012 года<sup id=\"cite_ref-autogenerated2_4-0\" class=\"reference\"><a href=\"#cite_note-autogenerated2-4\">&#91;4&#93;</a></sup>.\\n</p>\\n<h3><span id=\".D0.A1.D0.BF.D0.B8.D1.81.D0.BE.D0.BA_.D0.B3.D0.BE.D1.80.D0.BE.D0.B4.D0.BE.D0.B2-.D0.BC.D0.B8.D0.BB.D0.BB.D0.B8.D0.BE.D0.BD.D0.B5.D1.80.D0.BE.D0.B2\"></span><span class=\"mw-headline\" id=\"Список_городов-миллионеров\">Список городов-миллионеров</span><span class=\"mw-editsection\"><span class=\"mw-editsection-bracket\">[</span><a href=\"/w/index.php?title=%D0%93%D0%BE%D1%80%D0%BE%D0%B4%D0%B0-%D0%BC%D0%B8%D0%BB%D0%BB%D0%B8%D0%BE%D0%BD%D0%B5%D1%80%D1%8B_%D0%A0%D0%BE%D1%81%D1%81%D0%B8%D0%B8&amp;veaction=edit&amp;section=2\" class=\"mw-editsection-visualeditor\" title=\"Редактировать раздел «Список городов-миллионеров»\">править</a><span class=\"mw-editsection-divider\"> | </span><a href=\"/w/index.php?title=%D0%93%D0%BE%D1%80%D0%BE%D0%B4%D0%B0-%D0%BC%D0%B8%D0%BB%D0%BB%D0%B8%D0%BE%D0%BD%D0%B5%D1%80%D1%8B_%D0%A0%D0%BE%D1%81%D1%81%D0%B8%D0%B8&amp;action=edit&amp;section=2\" title=\"Edit section&#039;s source code: Список городов-миллионеров\">править код</a><span class=\"mw-editsection-bracket\">]</span></span></h3>\\n<style data-mw-deduplicate=\"TemplateStyles:r130061598\">.mw-parser-output tr.shadow th,.mw-parser-output tr.shadow td,.mw-parser-output table tr th.shadow,.mw-parser-output table tr td.shadow{background:#f0f0f0}.mw-parser-output tr.bright td,.mw-parser-output table tr td.bright{background:#fec}.mw-parser-output tr.dark th,.mw-parser-output tr.dark td,.mw-parser-output table tr th.dark,.mw-parser-output table tr td.dark{background:#ccc}</style><table class=\"standard sortable\"><tbody><tr><th scope=\"col\">№</th><th scope=\"col\">Город</th><th scope=\"col\" data-sort-type=\"number\">Население, <br /> тыс. чел.<br /><small>  (на 1 января 2023 года)</small></th><th scope=\"col\" data-sort-type=\"number\">Население, <br /> тыс. чел.<br /><small> (итоги <a href=\"/wiki/%D0%92%D1%81%D0%B5%D1%80%D0%BE%D1%81%D1%81%D0%B8%D0%B9%D1%81%D0%BA%D0%B0%D1%8F_%D0%BF%D0%B5%D1%80%D0%B5%D0%BF%D0%B8%D1%81%D1%8C_%D0%BD%D0%B0%D1%81%D0%B5%D0%BB%D0%B5%D0%BD%D0%B8%D1%8F_(2020%E2%80%942021)\" title=\"Всероссийская перепись населения (2020—2021)\">переписи<br /> 2021 года</a>)<sup id=\"cite_ref-ofperep21_5-0\" class=\"reference\"><a href=\"#cite_note-ofperep21-5\">&#91;5&#93;</a></sup></small></th><th scope=\"col\" data-sort-type=\"number\">Прирост<br /> относительно<br />  переписи-2010</th><th scope=\"col\" data-sort-type=\"number\">Население, <br /> тыс. чел.<br /><small>(итоги <a href=\"/wiki/%D0%92%D1%81%D0%B5%D1%80%D0%BE%D1%81%D1%81%D0%B8%D0%B9%D1%81%D0%BA%D0%B0%D1%8F_%D0%BF%D0%B5%D1%80%D0%B5%D0%BF%D0%B8%D1%81%D1%8C_%D0%BD%D0%B0%D1%81%D0%B5%D0%BB%D0%B5%D0%BD%D0%B8%D1%8F_(2010)\" title=\"Всероссийская перепись населения (2010)\">переписи<br /> 2010 года</a>)<sup id=\"cite_ref-GKS_100_6-0\" class=\"reference\"><a href=\"#cite_note-GKS_100-6\">&#91;6&#93;</a></sup></small></th></tr><tr><td style=\"text-align:center\">1</td><td><a href=\"/wiki/%D0%9C%D0%BE%D1%81%D0%BA%D0%B2%D0%B0\" title=\"Москва\">Москва</a></td><td data-sort-value=\"13098\" style=\"text-align:right\">13 098</td><td data-sort-value=\"13010\" style=\"text-align:right\">13 010</td><td data-sort-value=\"13.1\" style=\"text-align:right\">13,1&#160;%</td><td data-sort-value=\"11504\" style=\"text-align:right\">11 504</td></tr><tr><td style=\"text-align:center\">2</td><td><a href=\"/wiki/%D0%A1%D0%B0%D0%BD%D0%BA%D1%82-%D0%9F%D0%B5%D1%82%D0%B5%D1%80%D0%B1%D1%83%D1%80%D0%B3\" title=\"Санкт-Петербург\">Санкт-Петербург</a></td><td data-sort-value=\"5598\" style=\"text-align:right\">5 598</td><td data-sort-value=\"5602\" style=\"text-align:right\">5 602</td><td data-sort-value=\"14.8\" style=\"text-align:right\">14,8&#160;%</td><td data-sort-value=\"4880\" style=\"text-align:right\">4 880</td></tr><tr><td style=\"text-align:center\">3</td><td><a href=\"/wiki/%D0%9D%D0%BE%D0%B2%D0%BE%D1%81%D0%B8%D0%B1%D0%B8%D1%80%D1%81%D0%BA\" title=\"Новосибирск\">Новосибирск</a></td><td data-sort-value=\"1635\" style=\"text-align:right\">1 635</td><td data-sort-value=\"1634\" style=\"text-align:right\">1 634</td><td data-sort-value=\"10.9\" style=\"text-align:right\">10,9&#160;%</td><td data-sort-value=\"1474\" style=\"text-align:right\">1 474</td></tr><tr><td style=\"text-align:center\">4</td><td><a href=\"/wiki/%D0%95%D0%BA%D0%B0%D1%82%D0%B5%D1%80%D0%B8%D0%BD%D0%B1%D1%83%D1%80%D0%B3\" title=\"Екатеринбург\">Екатеринбург</a></td><td data-sort-value=\"1539\" style=\"text-align:right\">1 539</td><td data-sort-value=\"1544\" style=\"text-align:right\">1 544</td><td data-sort-value=\"14.4\" style=\"text-align:right\">14,4&#160;%</td><td data-sort-value=\"1350\" style=\"text-align:right\">1 350</td></tr><tr><td style=\"text-align:center\">5</td><td><a href=\"/wiki/%D0%9A%D0%B0%D0%B7%D0%B0%D0%BD%D1%8C\" title=\"Казань\">Казань</a></td><td data-sort-value=\"1315\" style=\"text-align:right\">1 315</td><td data-sort-value=\"1309\" style=\"text-align:right\">1 309</td><td data-sort-value=\"14.4\" style=\"text-align:right\">14,4&#160;%</td><td data-sort-value=\"1144\" style=\"text-align:right\">1 144</td></tr><tr><td style=\"text-align:center\">6</td><td><a href=\"/wiki/%D0%9D%D0%B8%D0%B6%D0%BD%D0%B8%D0%B9_%D0%9D%D0%BE%D0%B2%D0%B3%D0%BE%D1%80%D0%BE%D0%B4\" title=\"Нижний Новгород\">Нижний Новгород</a></td><td data-sort-value=\"1213\" style=\"text-align:right\">1 213</td><td data-sort-value=\"1226\" style=\"text-align:right\">1 226</td><td data-sort-value=\"0.2\" style=\"text-align:right\"><span style=\"display: none;\" class=\"noprint\">0,2</span>−2,0&#160;%</td><td data-sort-value=\"1251\" style=\"text-align:right\">1 251</td></tr><tr><td style=\"text-align:center\">7</td><td><a href=\"/wiki/%D0%9A%D1%80%D0%B0%D1%81%D0%BD%D0%BE%D1%8F%D1%80%D1%81%D0%BA\" title=\"Красноярск\">Красноярск</a></td><td data-sort-value=\"1197\" style=\"text-align:right\">1 197</td><td data-sort-value=\"1188\" style=\"text-align:right\">1 188</td><td data-sort-value=\"21.6\" style=\"text-align:right\">21,6&#160;%</td><td data-sort-value=\"977\" style=\"text-align:right\">977</td></tr><tr><td style=\"text-align:center\">8</td><td><a href=\"/wiki/%D0%A7%D0%B5%D0%BB%D1%8F%D0%B1%D0%B8%D0%BD%D1%81%D0%BA\" title=\"Челябинск\">Челябинск</a></td><td data-sort-value=\"1183\" style=\"text-align:right\">1 183</td><td data-sort-value=\"1190\" style=\"text-align:right\">1 190</td><td data-sort-value=\"5.3\" style=\"text-align:right\">5,3&#160;%</td><td data-sort-value=\"1130\" style=\"text-align:right\">1 130</td></tr><tr><td style=\"text-align:center\">9</td><td><a href=\"/wiki/%D0%A1%D0%B0%D0%BC%D0%B0%D1%80%D0%B0\" title=\"Самара\">Самара</a></td><td data-sort-value=\"1164\" style=\"text-align:right\">1 164</td><td data-sort-value=\"1173\" style=\"text-align:right\">1 173</td><td data-sort-value=\"0.3\" style=\"text-align:right\">0,3&#160;%</td><td data-sort-value=\"1169\" style=\"text-align:right\">1 169</td></tr><tr><td style=\"text-align:center\">10</td><td><a href=\"/wiki/%D0%A3%D1%84%D0%B0\" title=\"Уфа\">Уфа</a></td><td data-sort-value=\"1158\" style=\"text-align:right\">1 158</td><td data-sort-value=\"1145\" style=\"text-align:right\">1 145</td><td data-sort-value=\"7.8\" style=\"text-align:right\">7,8&#160;%</td><td data-sort-value=\"1062\" style=\"text-align:right\">1 062</td></tr><tr><td style=\"text-align:center\">11</td><td><a href=\"/wiki/%D0%A0%D0%BE%D1%81%D1%82%D0%BE%D0%B2-%D0%BD%D0%B0-%D0%94%D0%BE%D0%BD%D1%83\" title=\"Ростов-на-Дону\">Ростов-на-Дону</a></td><td data-sort-value=\"1136\" style=\"text-align:right\">1 136</td><td data-sort-value=\"1142\" style=\"text-align:right\">1 142</td><td data-sort-value=\"4.9\" style=\"text-align:right\">4,9&#160;%</td><td data-sort-value=\"1089\" style=\"text-align:right\">1 089</td></tr><tr><td style=\"text-align:center\">12</td><td><a href=\"/wiki/%D0%9A%D1%80%D0%B0%D1%81%D0%BD%D0%BE%D0%B4%D0%B0%D1%80\" title=\"Краснодар\">Краснодар</a></td><td data-sort-value=\"1121\" style=\"text-align:right\">1 121</td><td data-sort-value=\"1099\" style=\"text-align:right\">1 099</td><td data-sort-value=\"43.8\" style=\"text-align:right\">43,8&#160;%</td><td data-sort-value=\"764\" style=\"text-align:right\">764</td></tr><tr><td style=\"text-align:center\">13</td><td><a href=\"/wiki/%D0%9E%D0%BC%D1%81%D0%BA\" title=\"Омск\">Омск</a></td><td data-sort-value=\"1111\" style=\"text-align:right\">1 111</td><td data-sort-value=\"1126\" style=\"text-align:right\">1 126</td><td data-sort-value=\"0.1\" style=\"text-align:right\"><span style=\"display: none;\" class=\"noprint\">0,1</span>−3,4&#160;%</td><td data-sort-value=\"1166\" style=\"text-align:right\">1 166</td></tr><tr><td style=\"text-align:center\">14</td><td><a href=\"/wiki/%D0%92%D0%BE%D1%80%D0%BE%D0%BD%D0%B5%D0%B6\" title=\"Воронеж\">Воронеж</a></td><td data-sort-value=\"1052\" style=\"text-align:right\">1 052</td><td data-sort-value=\"1058\" style=\"text-align:right\">1 058</td><td data-sort-value=\"18.9\" style=\"text-align:right\">18,9&#160;%</td><td data-sort-value=\"890\" style=\"text-align:right\">890</td></tr><tr><td style=\"text-align:center\">15</td><td><a href=\"/wiki/%D0%9F%D0%B5%D1%80%D0%BC%D1%8C\" title=\"Пермь\">Пермь</a></td><td data-sort-value=\"1027\" style=\"text-align:right\">1 027</td><td data-sort-value=\"1034\" style=\"text-align:right\">1 034</td><td data-sort-value=\"4.3\" style=\"text-align:right\">4,3&#160;%</td><td data-sort-value=\"991\" style=\"text-align:right\">991</td></tr><tr><td style=\"text-align:center\">16</td><td><a href=\"/wiki/%D0%92%D0%BE%D0%BB%D0%B3%D0%BE%D0%B3%D1%80%D0%B0%D0%B4\" title=\"Волгоград\">Волгоград</a></td><td data-sort-value=\"1026\" style=\"text-align:right\">1 026</td><td data-sort-value=\"1028\" style=\"text-align:right\">1 028</td><td data-sort-value=\"0.7\" style=\"text-align:right\">0,7&#160;%</td><td data-sort-value=\"1021\" style=\"text-align:right\">1 021</td></tr></tbody></table>\\n<p>Таким образом, два <i>города-мультимиллионера</i> (Москва и Санкт-Петербург) имеют численность населения более 5&#160;млн человек, а один&#160;— Москва&#160;— более 10&#160;млн. Два города&#160;— Новосибирск&#160;и Екатеринбург&#160;— согласно данным Всероссийской переписи населения имеют население более 1,5&#160;млн человек<sup id=\"cite_ref-nsk_7-0\" class=\"reference\"><a href=\"#cite_note-nsk-7\">&#91;7&#93;</a></sup>.\\n</p><p>Среди <a href=\"/wiki/%D0%AD%D0%BA%D0%BE%D0%BD%D0%BE%D0%BC%D0%B8%D1%87%D0%B5%D1%81%D0%BA%D0%BE%D0%B5_%D1%80%D0%B0%D0%B9%D0%BE%D0%BD%D0%B8%D1%80%D0%BE%D0%B2%D0%B0%D0%BD%D0%B8%D0%B5_%D0%A0%D0%BE%D1%81%D1%81%D0%B8%D0%B8\" title=\"Экономическое районирование России\">экономических районов России</a> больше всего городов-миллионеров в <a href=\"/wiki/%D0%A3%D1%80%D0%B0%D0%BB%D1%8C%D1%81%D0%BA%D0%B8%D0%B9_%D1%8D%D0%BA%D0%BE%D0%BD%D0%BE%D0%BC%D0%B8%D1%87%D0%B5%D1%81%D0%BA%D0%B8%D0%B9_%D1%80%D0%B0%D0%B9%D0%BE%D0%BD\" title=\"Уральский экономический район\">Уральском экономическом районе</a> (Екатеринбург, Челябинск, Уфа, Пермь). В соответствии с политико-административным макрорайонированием больше всего городов-миллионеров в <a href=\"/wiki/%D0%9F%D1%80%D0%B8%D0%B2%D0%BE%D0%BB%D0%B6%D1%81%D0%BA%D0%B8%D0%B9_%D1%84%D0%B5%D0%B4%D0%B5%D1%80%D0%B0%D0%BB%D1%8C%D0%BD%D1%8B%D0%B9_%D0%BE%D0%BA%D1%80%D1%83%D0%B3\" title=\"Приволжский федеральный округ\">Приволжском федеральном округе</a> (Нижний Новгород, Самара, Казань, Уфа, Пермь).\\n</p><p>Структура экономических районов России по количеству городов-миллионеров выглядит следующим образом:\\n</p>\\n<ul><li><a href=\"/wiki/%D0%A3%D1%80%D0%B0%D0%BB%D1%8C%D1%81%D0%BA%D0%B8%D0%B9_%D1%8D%D0%BA%D0%BE%D0%BD%D0%BE%D0%BC%D0%B8%D1%87%D0%B5%D1%81%D0%BA%D0%B8%D0%B9_%D1%80%D0%B0%D0%B9%D0%BE%D0%BD\" title=\"Уральский экономический район\">Уральский экономический район</a>&#160;— 4 города,</li>\\n<li><a href=\"/wiki/%D0%9F%D0%BE%D0%B2%D0%BE%D0%BB%D0%B6%D1%81%D0%BA%D0%B8%D0%B9_%D1%8D%D0%BA%D0%BE%D0%BD%D0%BE%D0%BC%D0%B8%D1%87%D0%B5%D1%81%D0%BA%D0%B8%D0%B9_%D1%80%D0%B0%D0%B9%D0%BE%D0%BD\" title=\"Поволжский экономический район\">Поволжский экономический район</a>&#160;— 3 города,</li>\\n<li><a href=\"/wiki/%D0%97%D0%B0%D0%BF%D0%B0%D0%B4%D0%BD%D0%BE-%D0%A1%D0%B8%D0%B1%D0%B8%D1%80%D1%81%D0%BA%D0%B8%D0%B9_%D1%8D%D0%BA%D0%BE%D0%BD%D0%BE%D0%BC%D0%B8%D1%87%D0%B5%D1%81%D0%BA%D0%B8%D0%B9_%D1%80%D0%B0%D0%B9%D0%BE%D0%BD\" title=\"Западно-Сибирский экономический район\">Западно-Сибирский экономический район</a>&#160;— 2 города,</li>\\n<li><a href=\"/wiki/%D0%A1%D0%B5%D0%B2%D0%B5%D1%80%D0%BE-%D0%9A%D0%B0%D0%B2%D0%BA%D0%B0%D0%B7%D1%81%D0%BA%D0%B8%D0%B9_%D1%8D%D0%BA%D0%BE%D0%BD%D0%BE%D0%BC%D0%B8%D1%87%D0%B5%D1%81%D0%BA%D0%B8%D0%B9_%D1%80%D0%B0%D0%B9%D0%BE%D0%BD\" title=\"Северо-Кавказский экономический район\">Северо-Кавказский экономический район</a>&#160;— 2 города,</li>\\n<li><a href=\"/wiki/%D0%A6%D0%B5%D0%BD%D1%82%D1%80%D0%B0%D0%BB%D1%8C%D0%BD%D1%8B%D0%B9_%D1%8D%D0%BA%D0%BE%D0%BD%D0%BE%D0%BC%D0%B8%D1%87%D0%B5%D1%81%D0%BA%D0%B8%D0%B9_%D1%80%D0%B0%D0%B9%D0%BE%D0%BD\" title=\"Центральный экономический район\">Центральный экономический район</a>&#160;— 1 город,</li>\\n<li><a href=\"/wiki/%D0%A1%D0%B5%D0%B2%D0%B5%D1%80%D0%BE-%D0%97%D0%B0%D0%BF%D0%B0%D0%B4%D0%BD%D1%8B%D0%B9_%D1%8D%D0%BA%D0%BE%D0%BD%D0%BE%D0%BC%D0%B8%D1%87%D0%B5%D1%81%D0%BA%D0%B8%D0%B9_%D1%80%D0%B0%D0%B9%D0%BE%D0%BD\" title=\"Северо-Западный экономический район\">Северо-Западный экономический район</a>&#160;— 1 город,</li>\\n<li><a href=\"/wiki/%D0%92%D0%BE%D0%BB%D0%B3%D0%BE-%D0%92%D1%8F%D1%82%D1%81%D0%BA%D0%B8%D0%B9_%D1%8D%D0%BA%D0%BE%D0%BD%D0%BE%D0%BC%D0%B8%D1%87%D0%B5%D1%81%D0%BA%D0%B8%D0%B9_%D1%80%D0%B0%D0%B9%D0%BE%D0%BD\" title=\"Волго-Вятский экономический район\">Волго-Вятский экономический район</a>&#160;— 1 город,</li>\\n<li><a href=\"/wiki/%D0%92%D0%BE%D1%81%D1%82%D0%BE%D1%87%D0%BD%D0%BE-%D0%A1%D0%B8%D0%B1%D0%B8%D1%80%D1%81%D0%BA%D0%B8%D0%B9_%D1%8D%D0%BA%D0%BE%D0%BD%D0%BE%D0%BC%D0%B8%D1%87%D0%B5%D1%81%D0%BA%D0%B8%D0%B9_%D1%80%D0%B0%D0%B9%D0%BE%D0%BD\" title=\"Восточно-Сибирский экономический район\">Восточно-Сибирский экономический район</a>&#160;— 1 город,</li>\\n<li><a href=\"/wiki/%D0%A6%D0%B5%D0%BD%D1%82%D1%80%D0%B0%D0%BB%D1%8C%D0%BD%D0%BE-%D0%A7%D0%B5%D1%80%D0%BD%D0%BE%D0%B7%D1%91%D0%BC%D0%BD%D1%8B%D0%B9_%D1%8D%D0%BA%D0%BE%D0%BD%D0%BE%D0%BC%D0%B8%D1%87%D0%B5%D1%81%D0%BA%D0%B8%D0%B9_%D1%80%D0%B0%D0%B9%D0%BE%D0%BD\" title=\"Центрально-Чернозёмный экономический район\">Центрально-Чернозёмный экономический район</a>&#160;— 1 город,</li>\\n<li><a href=\"/wiki/%D0%94%D0%B0%D0%BB%D1%8C%D0%BD%D0%B5%D0%B2%D0%BE%D1%81%D1%82%D0%BE%D1%87%D0%BD%D1%8B%D0%B9_%D1%8D%D0%BA%D0%BE%D0%BD%D0%BE%D0%BC%D0%B8%D1%87%D0%B5%D1%81%D0%BA%D0%B8%D0%B9_%D1%80%D0%B0%D0%B9%D0%BE%D0%BD\" title=\"Дальневосточный экономический район\">Дальневосточный экономический район</a>&#160;— нет,</li>\\n<li><a href=\"/wiki/%D0%A1%D0%B5%D0%B2%D0%B5%D1%80%D0%BD%D1%8B%D0%B9_%D1%8D%D0%BA%D0%BE%D0%BD%D0%BE%D0%BC%D0%B8%D1%87%D0%B5%D1%81%D0%BA%D0%B8%D0%B9_%D1%80%D0%B0%D0%B9%D0%BE%D0%BD\" title=\"Северный экономический район\">Северный экономический район</a>&#160;— нет,</li>\\n<li><a href=\"/wiki/%D0%9A%D0%B0%D0%BB%D0%B8%D0%BD%D0%B8%D0%BD%D0%B3%D1%80%D0%B0%D0%B4%D1%81%D0%BA%D0%B8%D0%B9_%D1%8D%D0%BA%D0%BE%D0%BD%D0%BE%D0%BC%D0%B8%D1%87%D0%B5%D1%81%D0%BA%D0%B8%D0%B9_%D1%80%D0%B0%D0%B9%D0%BE%D0%BD\" class=\"mw-redirect\" title=\"Калининградский экономический район\">Калининградский экономический район</a>&#160;— нет.</li></ul>\\n<p>Структура <a href=\"/wiki/%D0%A4%D0%B5%D0%B4%D0%B5%D1%80%D0%B0%D0%BB%D1%8C%D0%BD%D1%8B%D0%B5_%D0%BE%D0%BA%D1%80%D1%83%D0%B3%D0%B0_%D0%A0%D0%BE%D1%81%D1%81%D0%B8%D0%B9%D1%81%D0%BA%D0%BE%D0%B9_%D0%A4%D0%B5%D0%B4%D0%B5%D1%80%D0%B0%D1%86%D0%B8%D0%B8\" title=\"Федеральные округа Российской Федерации\">федеральных округов России</a> по количеству городов-миллионеров выглядит следующим образом:\\n</p>\\n<ul><li><a href=\"/wiki/%D0%9F%D1%80%D0%B8%D0%B2%D0%BE%D0%BB%D0%B6%D1%81%D0%BA%D0%B8%D0%B9_%D1%84%D0%B5%D0%B4%D0%B5%D1%80%D0%B0%D0%BB%D1%8C%D0%BD%D1%8B%D0%B9_%D0%BE%D0%BA%D1%80%D1%83%D0%B3\" title=\"Приволжский федеральный округ\">Приволжский федеральный округ</a>&#160;— 5 городов,</li>\\n<li><a href=\"/wiki/%D0%A1%D0%B8%D0%B1%D0%B8%D1%80%D1%81%D0%BA%D0%B8%D0%B9_%D1%84%D0%B5%D0%B4%D0%B5%D1%80%D0%B0%D0%BB%D1%8C%D0%BD%D1%8B%D0%B9_%D0%BE%D0%BA%D1%80%D1%83%D0%B3\" title=\"Сибирский федеральный округ\">Сибирский федеральный округ</a>&#160;— 3 города,</li>\\n<li><a href=\"/wiki/%D0%AE%D0%B6%D0%BD%D1%8B%D0%B9_%D1%84%D0%B5%D0%B4%D0%B5%D1%80%D0%B0%D0%BB%D1%8C%D0%BD%D1%8B%D0%B9_%D0%BE%D0%BA%D1%80%D1%83%D0%B3\" title=\"Южный федеральный округ\">Южный федеральный округ</a>&#160;— 3 города,</li>\\n<li><a href=\"/wiki/%D0%A3%D1%80%D0%B0%D0%BB%D1%8C%D1%81%D0%BA%D0%B8%D0%B9_%D1%84%D0%B5%D0%B4%D0%B5%D1%80%D0%B0%D0%BB%D1%8C%D0%BD%D1%8B%D0%B9_%D0%BE%D0%BA%D1%80%D1%83%D0%B3\" title=\"Уральский федеральный округ\">Уральский федеральный округ</a>&#160;— 2 города,</li>\\n<li><a href=\"/wiki/%D0%A6%D0%B5%D0%BD%D1%82%D1%80%D0%B0%D0%BB%D1%8C%D0%BD%D1%8B%D0%B9_%D1%84%D0%B5%D0%B4%D0%B5%D1%80%D0%B0%D0%BB%D1%8C%D0%BD%D1%8B%D0%B9_%D0%BE%D0%BA%D1%80%D1%83%D0%B3\" title=\"Центральный федеральный округ\">Центральный федеральный округ</a>&#160;— 2 города,</li>\\n<li><a href=\"/wiki/%D0%A1%D0%B5%D0%B2%D0%B5%D1%80%D0%BE-%D0%97%D0%B0%D0%BF%D0%B0%D0%B4%D0%BD%D1%8B%D0%B9_%D1%84%D0%B5%D0%B4%D0%B5%D1%80%D0%B0%D0%BB%D1%8C%D0%BD%D1%8B%D0%B9_%D0%BE%D0%BA%D1%80%D1%83%D0%B3\" title=\"Северо-Западный федеральный округ\">Северо-Западный федеральный округ</a>&#160;— 1 город,</li>\\n<li><a href=\"/wiki/%D0%A1%D0%B5%D0%B2%D0%B5%D1%80%D0%BE-%D0%9A%D0%B0%D0%B2%D0%BA%D0%B0%D0%B7%D1%81%D0%BA%D0%B8%D0%B9_%D1%84%D0%B5%D0%B4%D0%B5%D1%80%D0%B0%D0%BB%D1%8C%D0%BD%D1%8B%D0%B9_%D0%BE%D0%BA%D1%80%D1%83%D0%B3\" title=\"Северо-Кавказский федеральный округ\">Северо-Кавказский федеральный округ</a>&#160;— нет,</li>\\n<li><a href=\"/wiki/%D0%94%D0%B0%D0%BB%D1%8C%D0%BD%D0%B5%D0%B2%D0%BE%D1%81%D1%82%D0%BE%D1%87%D0%BD%D1%8B%D0%B9_%D1%84%D0%B5%D0%B4%D0%B5%D1%80%D0%B0%D0%BB%D1%8C%D0%BD%D1%8B%D0%B9_%D0%BE%D0%BA%D1%80%D1%83%D0%B3\" title=\"Дальневосточный федеральный округ\">Дальневосточный федеральный округ</a>&#160;— нет.</li></ul>\\n<h4><span id=\".D0.9F.D0.BE.D0.B7.D0.B8.D1.86.D0.B8.D0.BE.D0.BD.D0.BD.D0.B0.D1.8F_.D0.BA.D0.B0.D1.80.D1.82.D0.B0\"></span><span class=\"mw-headline\" id=\"Позиционная_карта\">Позиционная карта</span><span class=\"mw-editsection\"><span class=\"mw-editsection-bracket\">[</span><a href=\"/w/index.php?title=%D0%93%D0%BE%D1%80%D0%BE%D0%B4%D0%B0-%D0%BC%D0%B8%D0%BB%D0%BB%D0%B8%D0%BE%D0%BD%D0%B5%D1%80%D1%8B_%D0%A0%D0%BE%D1%81%D1%81%D0%B8%D0%B8&amp;veaction=edit&amp;section=3\" class=\"mw-editsection-visualeditor\" title=\"Редактировать раздел «Позиционная карта»\">править</a><span class=\"mw-editsection-divider\"> | </span><a href=\"/w/index.php?title=%D0%93%D0%BE%D1%80%D0%BE%D0%B4%D0%B0-%D0%BC%D0%B8%D0%BB%D0%BB%D0%B8%D0%BE%D0%BD%D0%B5%D1%80%D1%8B_%D0%A0%D0%BE%D1%81%D1%81%D0%B8%D0%B8&amp;action=edit&amp;section=3\" title=\"Edit section&#039;s source code: Позиционная карта\">править код</a><span class=\"mw-editsection-bracket\">]</span></span></h4>\\n<style data-mw-deduplicate=\"TemplateStyles:r117334243\">.mw-parser-output .ts-ПозКарта-метка{font-size:88%;line-height:1.2em;position:absolute;z-index:2}.mw-parser-output .ts-ПозКарта-метка-точка{position:relative;float:left;line-height:0}.mw-parser-output .ts-ПозКарта-метка-ссылка{position:absolute;width:156px;top:-0.5em}</style><div class=\"location-map thumb\" style=\"width:860px; ;;\"><div class=\"thumbinner\"><div class=\"thumbimage\" style=\"overflow:hidden;max-width:100%;width:850px;position:relative; ;\"><span class=\"notpageimage\" typeof=\"mw:File\"><a href=\"/wiki/%D0%A4%D0%B0%D0%B9%D0%BB:Russia_political_location_map_(Crimea_disputed).svg\" class=\"mw-file-description\" title=\"Города-миллионеры России (Россия)\"><img alt=\"Города-миллионеры России (Россия)\" src=\"//upload.wikimedia.org/wikipedia/commons/thumb/d/d0/Russia_political_location_map_%28Crimea_disputed%29.svg/850px-Russia_political_location_map_%28Crimea_disputed%29.svg.png\" decoding=\"async\" width=\"850\" height=\"480\" class=\"mw-file-element\" srcset=\"//upload.wikimedia.org/wikipedia/commons/thumb/d/d0/Russia_political_location_map_%28Crimea_disputed%29.svg/1275px-Russia_political_location_map_%28Crimea_disputed%29.svg.png 1.5x, //upload.wikimedia.org/wikipedia/commons/thumb/d/d0/Russia_political_location_map_%28Crimea_disputed%29.svg/1700px-Russia_political_location_map_%28Crimea_disputed%29.svg.png 2x\" data-file-width=\"2136\" data-file-height=\"1205\" /></a></span><div class=\"ts-ПозКарта-метка\" style=\"left:16.45%; top:48.58%\"><div class=\"ts-ПозКарта-метка-точка\" style=\"left:-4px; top:-4px;\"><span typeof=\"mw:File\"><span title=\"Красная точка\"><img alt=\"Красная точка\" src=\"//upload.wikimedia.org/wikipedia/commons/thumb/0/0c/Red_pog.svg/9px-Red_pog.svg.png\" decoding=\"async\" width=\"9\" height=\"9\" class=\"mw-file-element\" srcset=\"//upload.wikimedia.org/wikipedia/commons/thumb/0/0c/Red_pog.svg/14px-Red_pog.svg.png 1.5x, //upload.wikimedia.org/wikipedia/commons/thumb/0/0c/Red_pog.svg/18px-Red_pog.svg.png 2x\" data-file-width=\"64\" data-file-height=\"64\" /></span></span></div><div class=\"ts-ПозКарта-метка-ссылка\" style=\"text-align: center; left: -78px; top: -1.8em;\"><b><a href=\"/wiki/%D0%9C%D0%BE%D1%81%D0%BA%D0%B2%D0%B0\" title=\"Москва\">Москва</a></b></div></div>\\n  <div class=\"ts-ПозКарта-метка\" style=\"left:17.47%; top:35.98%\"><div class=\"ts-ПозКарта-метка-точка\" style=\"left:-4px; top:-4px;\"><span typeof=\"mw:File\"><span title=\"Красная точка\"><img alt=\"Красная точка\" src=\"//upload.wikimedia.org/wikipedia/commons/thumb/0/0c/Red_pog.svg/9px-Red_pog.svg.png\" decoding=\"async\" width=\"9\" height=\"9\" class=\"mw-file-element\" srcset=\"//upload.wikimedia.org/wikipedia/commons/thumb/0/0c/Red_pog.svg/14px-Red_pog.svg.png 1.5x, //upload.wikimedia.org/wikipedia/commons/thumb/0/0c/Red_pog.svg/18px-Red_pog.svg.png 2x\" data-file-width=\"64\" data-file-height=\"64\" /></span></span></div><div class=\"ts-ПозКарта-метка-ссылка\" style=\"text-align: left; left: 6.5px\"><b><a href=\"/wiki/%D0%A1%D0%B0%D0%BD%D0%BA%D1%82-%D0%9F%D0%B5%D1%82%D0%B5%D1%80%D0%B1%D1%83%D1%80%D0%B3\" title=\"Санкт-Петербург\">Санкт-Петербург</a></b></div></div>\\n  <div class=\"ts-ПозКарта-метка\" style=\"left:43.56%; top:77.72%\"><div class=\"ts-ПозКарта-метка-точка\" style=\"left:-4px; top:-4px;\"><span typeof=\"mw:File\"><span title=\"Красная точка\"><img alt=\"Красная точка\" src=\"//upload.wikimedia.org/wikipedia/commons/thumb/0/0c/Red_pog.svg/9px-Red_pog.svg.png\" decoding=\"async\" width=\"9\" height=\"9\" class=\"mw-file-element\" srcset=\"//upload.wikimedia.org/wikipedia/commons/thumb/0/0c/Red_pog.svg/14px-Red_pog.svg.png 1.5x, //upload.wikimedia.org/wikipedia/commons/thumb/0/0c/Red_pog.svg/18px-Red_pog.svg.png 2x\" data-file-width=\"64\" data-file-height=\"64\" /></span></span></div><div class=\"ts-ПозКарта-метка-ссылка\" style=\"text-align: center; left: -78px; top: 7.5px\"><b><a href=\"/wiki/%D0%9D%D0%BE%D0%B2%D0%BE%D1%81%D0%B8%D0%B1%D0%B8%D1%80%D1%81%D0%BA\" title=\"Новосибирск\">Новосибирск</a></b></div></div>\\n  <div class=\"ts-ПозКарта-метка\" style=\"left:50.72%; top:77.15%\"><div class=\"ts-ПозКарта-метка-точка\" style=\"left:-4px; top:-4px;\"><span typeof=\"mw:File\"><span title=\"Красная точка\"><img alt=\"Красная точка\" src=\"//upload.wikimedia.org/wikipedia/commons/thumb/0/0c/Red_pog.svg/9px-Red_pog.svg.png\" decoding=\"async\" width=\"9\" height=\"9\" class=\"mw-file-element\" srcset=\"//upload.wikimedia.org/wikipedia/commons/thumb/0/0c/Red_pog.svg/14px-Red_pog.svg.png 1.5x, //upload.wikimedia.org/wikipedia/commons/thumb/0/0c/Red_pog.svg/18px-Red_pog.svg.png 2x\" data-file-width=\"64\" data-file-height=\"64\" /></span></span></div><div class=\"ts-ПозКарта-метка-ссылка\" style=\"text-align: left; left: 6.5px\"><b><a href=\"/wiki/%D0%9A%D1%80%D0%B0%D1%81%D0%BD%D0%BE%D1%8F%D1%80%D1%81%D0%BA\" title=\"Красноярск\">Красноярск</a></b></div></div>\\n  <div class=\"ts-ПозКарта-метка\" style=\"left:29.71%; top:64.36%\"><div class=\"ts-ПозКарта-метка-точка\" style=\"left:-4px; top:-4px;\"><span typeof=\"mw:File\"><span title=\"Красная точка\"><img alt=\"Красная точка\" src=\"//upload.wikimedia.org/wikipedia/commons/thumb/0/0c/Red_pog.svg/9px-Red_pog.svg.png\" decoding=\"async\" width=\"9\" height=\"9\" class=\"mw-file-element\" srcset=\"//upload.wikimedia.org/wikipedia/commons/thumb/0/0c/Red_pog.svg/14px-Red_pog.svg.png 1.5x, //upload.wikimedia.org/wikipedia/commons/thumb/0/0c/Red_pog.svg/18px-Red_pog.svg.png 2x\" data-file-width=\"64\" data-file-height=\"64\" /></span></span></div><div class=\"ts-ПозКарта-метка-ссылка\" style=\"text-align: left; left: 6.5px\"><b><a href=\"/wiki/%D0%95%D0%BA%D0%B0%D1%82%D0%B5%D1%80%D0%B8%D0%BD%D0%B1%D1%83%D1%80%D0%B3\" title=\"Екатеринбург\">Екатеринбург</a></b></div></div>\\n  <div class=\"ts-ПозКарта-метка\" style=\"left:20.1%; top:53.34%\"><div class=\"ts-ПозКарта-метка-точка\" style=\"left:-4px; top:-4px;\"><span typeof=\"mw:File\"><span title=\"Красная точка\"><img alt=\"Красная точка\" src=\"//upload.wikimedia.org/wikipedia/commons/thumb/0/0c/Red_pog.svg/9px-Red_pog.svg.png\" decoding=\"async\" width=\"9\" height=\"9\" class=\"mw-file-element\" srcset=\"//upload.wikimedia.org/wikipedia/commons/thumb/0/0c/Red_pog.svg/14px-Red_pog.svg.png 1.5x, //upload.wikimedia.org/wikipedia/commons/thumb/0/0c/Red_pog.svg/18px-Red_pog.svg.png 2x\" data-file-width=\"64\" data-file-height=\"64\" /></span></span></div><div class=\"ts-ПозКарта-метка-ссылка\" style=\"text-align: left; left: 6.5px\"><b><a href=\"/wiki/%D0%9D%D0%B8%D0%B6%D0%BD%D0%B8%D0%B9_%D0%9D%D0%BE%D0%B2%D0%B3%D0%BE%D1%80%D0%BE%D0%B4\" title=\"Нижний Новгород\">Нижний Новгород</a></b></div></div>\\n  <div class=\"ts-ПозКарта-метка\" style=\"left:20.92%; top:63.73%\"><div class=\"ts-ПозКарта-метка-точка\" style=\"left:-4px; top:-4px;\"><span typeof=\"mw:File\"><span title=\"Красная точка\"><img alt=\"Красная точка\" src=\"//upload.wikimedia.org/wikipedia/commons/thumb/0/0c/Red_pog.svg/9px-Red_pog.svg.png\" decoding=\"async\" width=\"9\" height=\"9\" class=\"mw-file-element\" srcset=\"//upload.wikimedia.org/wikipedia/commons/thumb/0/0c/Red_pog.svg/14px-Red_pog.svg.png 1.5x, //upload.wikimedia.org/wikipedia/commons/thumb/0/0c/Red_pog.svg/18px-Red_pog.svg.png 2x\" data-file-width=\"64\" data-file-height=\"64\" /></span></span></div><div class=\"ts-ПозКарта-метка-ссылка\" style=\"text-align: center; left: -78px; top: 7.5px\"><b><a href=\"/wiki/%D0%A1%D0%B0%D0%BC%D0%B0%D1%80%D0%B0\" title=\"Самара\">Самара</a></b></div></div>\\n  <div class=\"ts-ПозКарта-метка\" style=\"left:22.37%; top:58.38%\"><div class=\"ts-ПозКарта-метка-точка\" style=\"left:-4px; top:-4px;\"><span typeof=\"mw:File\"><span title=\"Красная точка\"><img alt=\"Красная точка\" src=\"//upload.wikimedia.org/wikipedia/commons/thumb/0/0c/Red_pog.svg/9px-Red_pog.svg.png\" decoding=\"async\" width=\"9\" height=\"9\" class=\"mw-file-element\" srcset=\"//upload.wikimedia.org/wikipedia/commons/thumb/0/0c/Red_pog.svg/14px-Red_pog.svg.png 1.5x, //upload.wikimedia.org/wikipedia/commons/thumb/0/0c/Red_pog.svg/18px-Red_pog.svg.png 2x\" data-file-width=\"64\" data-file-height=\"64\" /></span></span></div><div class=\"ts-ПозКарта-метка-ссылка\" style=\"text-align: right; left: -162.5px\"><b><a href=\"/wiki/%D0%9A%D0%B0%D0%B7%D0%B0%D0%BD%D1%8C\" title=\"Казань\">Казань</a></b></div></div>\\n  <div class=\"ts-ПозКарта-метка\" style=\"left:27.97%; top:59.41%\"><div class=\"ts-ПозКарта-метка-точка\" style=\"left:-4px; top:-4px;\"><span typeof=\"mw:File\"><span title=\"Красная точка\"><img alt=\"Красная точка\" src=\"//upload.wikimedia.org/wikipedia/commons/thumb/0/0c/Red_pog.svg/9px-Red_pog.svg.png\" decoding=\"async\" width=\"9\" height=\"9\" class=\"mw-file-element\" srcset=\"//upload.wikimedia.org/wikipedia/commons/thumb/0/0c/Red_pog.svg/14px-Red_pog.svg.png 1.5x, //upload.wikimedia.org/wikipedia/commons/thumb/0/0c/Red_pog.svg/18px-Red_pog.svg.png 2x\" data-file-width=\"64\" data-file-height=\"64\" /></span></span></div><div class=\"ts-ПозКарта-метка-ссылка\" style=\"text-align: left; left: 6.5px\"><b><a href=\"/wiki/%D0%9F%D0%B5%D1%80%D0%BC%D1%8C\" title=\"Пермь\">Пермь</a></b></div></div>\\n  <div class=\"ts-ПозКарта-метка\" style=\"left:36.94%; top:74.68%\"><div class=\"ts-ПозКарта-метка-точка\" style=\"left:-4px; top:-4px;\"><span typeof=\"mw:File\"><span title=\"Красная точка\"><img alt=\"Красная точка\" src=\"//upload.wikimedia.org/wikipedia/commons/thumb/0/0c/Red_pog.svg/9px-Red_pog.svg.png\" decoding=\"async\" width=\"9\" height=\"9\" class=\"mw-file-element\" srcset=\"//upload.wikimedia.org/wikipedia/commons/thumb/0/0c/Red_pog.svg/14px-Red_pog.svg.png 1.5x, //upload.wikimedia.org/wikipedia/commons/thumb/0/0c/Red_pog.svg/18px-Red_pog.svg.png 2x\" data-file-width=\"64\" data-file-height=\"64\" /></span></span></div><div class=\"ts-ПозКарта-метка-ссылка\" style=\"text-align: left; left: 6.5px\"><b><a href=\"/wiki/%D0%9E%D0%BC%D1%81%D0%BA\" title=\"Омск\">Омск</a></b></div></div>\\n  <div class=\"ts-ПозКарта-метка\" style=\"left:29.18%; top:68.13%\"><div class=\"ts-ПозКарта-метка-точка\" style=\"left:-4px; top:-4px;\"><span typeof=\"mw:File\"><span title=\"Красная точка\"><img alt=\"Красная точка\" src=\"//upload.wikimedia.org/wikipedia/commons/thumb/0/0c/Red_pog.svg/9px-Red_pog.svg.png\" decoding=\"async\" width=\"9\" height=\"9\" class=\"mw-file-element\" srcset=\"//upload.wikimedia.org/wikipedia/commons/thumb/0/0c/Red_pog.svg/14px-Red_pog.svg.png 1.5x, //upload.wikimedia.org/wikipedia/commons/thumb/0/0c/Red_pog.svg/18px-Red_pog.svg.png 2x\" data-file-width=\"64\" data-file-height=\"64\" /></span></span></div><div class=\"ts-ПозКарта-метка-ссылка\" style=\"text-align: left; left: 6.5px\"><b><a href=\"/wiki/%D0%A7%D0%B5%D0%BB%D1%8F%D0%B1%D0%B8%D0%BD%D1%81%D0%BA\" title=\"Челябинск\">Челябинск</a></b></div></div>\\n  <div class=\"ts-ПозКарта-метка\" style=\"left:9.72%; top:63.63%\"><div class=\"ts-ПозКарта-метка-точка\" style=\"left:-4px; top:-4px;\"><span typeof=\"mw:File\"><span title=\"Красная точка\"><img alt=\"Красная точка\" src=\"//upload.wikimedia.org/wikipedia/commons/thumb/0/0c/Red_pog.svg/9px-Red_pog.svg.png\" decoding=\"async\" width=\"9\" height=\"9\" class=\"mw-file-element\" srcset=\"//upload.wikimedia.org/wikipedia/commons/thumb/0/0c/Red_pog.svg/14px-Red_pog.svg.png 1.5x, //upload.wikimedia.org/wikipedia/commons/thumb/0/0c/Red_pog.svg/18px-Red_pog.svg.png 2x\" data-file-width=\"64\" data-file-height=\"64\" /></span></span></div><div class=\"ts-ПозКарта-метка-ссылка\" style=\"text-align: center; left: -78px; top: -1.8em;\"><b><a href=\"/wiki/%D0%A0%D0%BE%D1%81%D1%82%D0%BE%D0%B2-%D0%BD%D0%B0-%D0%94%D0%BE%D0%BD%D1%83\" title=\"Ростов-на-Дону\">Ростов-на-Дону</a></b></div></div>\\n  <div class=\"ts-ПозКарта-метка\" style=\"left:13.88%; top:66.27%\"><div class=\"ts-ПозКарта-метка-точка\" style=\"left:-4px; top:-4px;\"><span typeof=\"mw:File\"><span title=\"Красная точка\"><img alt=\"Красная точка\" src=\"//upload.wikimedia.org/wikipedia/commons/thumb/0/0c/Red_pog.svg/9px-Red_pog.svg.png\" decoding=\"async\" width=\"9\" height=\"9\" class=\"mw-file-element\" srcset=\"//upload.wikimedia.org/wikipedia/commons/thumb/0/0c/Red_pog.svg/14px-Red_pog.svg.png 1.5x, //upload.wikimedia.org/wikipedia/commons/thumb/0/0c/Red_pog.svg/18px-Red_pog.svg.png 2x\" data-file-width=\"64\" data-file-height=\"64\" /></span></span></div><div class=\"ts-ПозКарта-метка-ссылка\" style=\"text-align: center; left: -78px; top: -1.8em;\"><b><a href=\"/wiki/%D0%92%D0%BE%D0%BB%D0%B3%D0%BE%D0%B3%D1%80%D0%B0%D0%B4\" title=\"Волгоград\">Волгоград</a></b></div></div>\\n  <div class=\"ts-ПозКарта-метка\" style=\"left:25.56%; top:65.36%\"><div class=\"ts-ПозКарта-метка-точка\" style=\"left:-4px; top:-4px;\"><span typeof=\"mw:File\"><span title=\"Красная точка\"><img alt=\"Красная точка\" src=\"//upload.wikimedia.org/wikipedia/commons/thumb/0/0c/Red_pog.svg/9px-Red_pog.svg.png\" decoding=\"async\" width=\"9\" height=\"9\" class=\"mw-file-element\" srcset=\"//upload.wikimedia.org/wikipedia/commons/thumb/0/0c/Red_pog.svg/14px-Red_pog.svg.png 1.5x, //upload.wikimedia.org/wikipedia/commons/thumb/0/0c/Red_pog.svg/18px-Red_pog.svg.png 2x\" data-file-width=\"64\" data-file-height=\"64\" /></span></span></div><div class=\"ts-ПозКарта-метка-ссылка\" style=\"text-align: center; left: -78px; top: 7.5px\"><b><a href=\"/wiki/%D0%A3%D1%84%D0%B0\" title=\"Уфа\">Уфа</a></b></div></div>\\n  <div class=\"ts-ПозКарта-метка\" style=\"left:13.47%; top:56.28%\"><div class=\"ts-ПозКарта-метка-точка\" style=\"left:-4px; top:-4px;\"><span typeof=\"mw:File\"><span title=\"Красная точка\"><img alt=\"Красная точка\" src=\"//upload.wikimedia.org/wikipedia/commons/thumb/0/0c/Red_pog.svg/9px-Red_pog.svg.png\" decoding=\"async\" width=\"9\" height=\"9\" class=\"mw-file-element\" srcset=\"//upload.wikimedia.org/wikipedia/commons/thumb/0/0c/Red_pog.svg/14px-Red_pog.svg.png 1.5x, //upload.wikimedia.org/wikipedia/commons/thumb/0/0c/Red_pog.svg/18px-Red_pog.svg.png 2x\" data-file-width=\"64\" data-file-height=\"64\" /></span></span></div><div class=\"ts-ПозКарта-метка-ссылка\" style=\"text-align: center; left: -78px; top: -1.8em;\"><b><a href=\"/wiki/%D0%92%D0%BE%D1%80%D0%BE%D0%BD%D0%B5%D0%B6\" title=\"Воронеж\">Воронеж</a></b></div></div>\\n  <div class=\"ts-ПозКарта-метка\" style=\"left:7.26%; top:66.17%\"><div class=\"ts-ПозКарта-метка-точка\" style=\"left:-4px; top:-4px;\"><span typeof=\"mw:File\"><span title=\"Красная точка\"><img alt=\"Красная точка\" src=\"//upload.wikimedia.org/wikipedia/commons/thumb/0/0c/Red_pog.svg/9px-Red_pog.svg.png\" decoding=\"async\" width=\"9\" height=\"9\" class=\"mw-file-element\" srcset=\"//upload.wikimedia.org/wikipedia/commons/thumb/0/0c/Red_pog.svg/14px-Red_pog.svg.png 1.5x, //upload.wikimedia.org/wikipedia/commons/thumb/0/0c/Red_pog.svg/18px-Red_pog.svg.png 2x\" data-file-width=\"64\" data-file-height=\"64\" /></span></span></div><div class=\"ts-ПозКарта-метка-ссылка\" style=\"text-align: center; left: -78px; top: 7.5px\"><b><a href=\"/wiki/%D0%9A%D1%80%D0%B0%D1%81%D0%BD%D0%BE%D0%B4%D0%B0%D1%80\" title=\"Краснодар\">Краснодар</a></b></div></div></div><div class=\"thumbcaption\">Города-миллионеры России (по переписи населения на 2021 год)</div></div></div>\\n<h3><span id=\".D0.A1.D1.83.D0.B1.D0.BC.D0.B8.D0.BB.D0.BB.D0.B8.D0.BE.D0.BD.D0.B5.D1.80.D1.8B\"></span><span class=\"mw-headline\" id=\"Субмиллионеры\">Субмиллионеры</span><span class=\"mw-editsection\"><span class=\"mw-editsection-bracket\">[</span><a href=\"/w/index.php?title=%D0%93%D0%BE%D1%80%D0%BE%D0%B4%D0%B0-%D0%BC%D0%B8%D0%BB%D0%BB%D0%B8%D0%BE%D0%BD%D0%B5%D1%80%D1%8B_%D0%A0%D0%BE%D1%81%D1%81%D0%B8%D0%B8&amp;veaction=edit&amp;section=4\" class=\"mw-editsection-visualeditor\" title=\"Редактировать раздел «Субмиллионеры»\">править</a><span class=\"mw-editsection-divider\"> | </span><a href=\"/w/index.php?title=%D0%93%D0%BE%D1%80%D0%BE%D0%B4%D0%B0-%D0%BC%D0%B8%D0%BB%D0%BB%D0%B8%D0%BE%D0%BD%D0%B5%D1%80%D1%8B_%D0%A0%D0%BE%D1%81%D1%81%D0%B8%D0%B8&amp;action=edit&amp;section=4\" title=\"Edit section&#039;s source code: Субмиллионеры\">править код</a><span class=\"mw-editsection-bracket\">]</span></span></h3>\\n<p>Двое из <a href=\"/wiki/%D0%93%D0%BE%D1%80%D0%BE%D0%B4%D0%B0_%D0%A0%D0%BE%D1%81%D1%81%D0%B8%D0%B8_%D0%BF%D0%BE_%D1%87%D0%B8%D1%81%D0%BB%D0%B5%D0%BD%D0%BD%D0%BE%D1%81%D1%82%D0%B8_%D0%BD%D0%B0%D1%81%D0%B5%D0%BB%D0%B5%D0%BD%D0%B8%D1%8F\" class=\"mw-redirect\" title=\"Города России по численности населения\">крупнейших городов России</a>, имеющих численность населения более 800 тыс., но менее 1 млн&#160;— <a href=\"/wiki/%D0%A1%D0%B0%D1%80%D0%B0%D1%82%D0%BE%D0%B2\" title=\"Саратов\">Саратов</a> и <a href=\"/wiki/%D0%A2%D1%8E%D0%BC%D0%B5%D0%BD%D1%8C\" title=\"Тюмень\">Тюмень</a>&#160;— иногда именуются <i>городами-субмиллионерами</i>.\\n</p>\\n<table class=\"standard\">\\n\\n<tbody><tr>\\n<th>Место\\n</th>\\n<th>Город\\n</th>\\n<th>Население, тыс. чел.<br /><small>(перепись-2021)<sup id=\"cite_ref-ofperep21_5-1\" class=\"reference\"><a href=\"#cite_note-ofperep21-5\">&#91;5&#93;</a></sup></small>\\n</th>\\n<th>Прирост относительно переписи-2010\\n</th>\\n<th>Население, тыс. чел.<br /><small>(перепись-2010)<sup id=\"cite_ref-GKS_100_6-1\" class=\"reference\"><a href=\"#cite_note-GKS_100-6\">&#91;6&#93;</a></sup></small>\\n</th></tr>\\n<tr>\\n<td>17\\n</td>\\n<td><a href=\"/wiki/%D0%A1%D0%B0%D1%80%D0%B0%D1%82%D0%BE%D0%B2\" title=\"Саратов\">Саратов</a>\\n</td>\\n<td>901\\n</td>\\n<td>7,5&#160;%\\n</td>\\n<td>838\\n</td></tr>\\n<tr>\\n<td>18\\n</td>\\n<td><a href=\"/wiki/%D0%A2%D1%8E%D0%BC%D0%B5%D0%BD%D1%8C\" title=\"Тюмень\">Тюмень</a>\\n</td>\\n<td>847\\n</td>\\n<td>45,5&#160;%\\n</td>\\n<td>582\\n</td></tr>\\n</tbody></table>\\n<h3><span id=\".D0.9A.D1.80.D1.83.D0.BF.D0.BD.D0.B5.D0.B9.D1.88.D0.B8.D0.B5_.D0.B3.D0.BE.D1.80.D0.BE.D0.B4.D0.B0_.D1.81.D1.83.D0.BC.D0.BC.D0.B0.D1.80.D0.BD.D0.BE\"></span><span class=\"mw-headline\" id=\"Крупнейшие_города_суммарно\">Крупнейшие города суммарно</span><span class=\"mw-editsection\"><span class=\"mw-editsection-bracket\">[</span><a href=\"/w/index.php?title=%D0%93%D0%BE%D1%80%D0%BE%D0%B4%D0%B0-%D0%BC%D0%B8%D0%BB%D0%BB%D0%B8%D0%BE%D0%BD%D0%B5%D1%80%D1%8B_%D0%A0%D0%BE%D1%81%D1%81%D0%B8%D0%B8&amp;veaction=edit&amp;section=5\" class=\"mw-editsection-visualeditor\" title=\"Редактировать раздел «Крупнейшие города суммарно»\">править</a><span class=\"mw-editsection-divider\"> | </span><a href=\"/w/index.php?title=%D0%93%D0%BE%D1%80%D0%BE%D0%B4%D0%B0-%D0%BC%D0%B8%D0%BB%D0%BB%D0%B8%D0%BE%D0%BD%D0%B5%D1%80%D1%8B_%D0%A0%D0%BE%D1%81%D1%81%D0%B8%D0%B8&amp;action=edit&amp;section=5\" title=\"Edit section&#039;s source code: Крупнейшие города суммарно\">править код</a><span class=\"mw-editsection-bracket\">]</span></span></h3>\\n<p>Большинство этих городов-миллионеров и субмиллионеров (кроме Саратова) являются межрегиональными центрами социально-экономического развития и притяжения, которые в то же время существуют и среди городов с меньшей численностью населения (<a href=\"/wiki/%D0%A5%D0%B0%D0%B1%D0%B0%D1%80%D0%BE%D0%B2%D1%81%D0%BA\" title=\"Хабаровск\">Хабаровск</a> и <a href=\"/wiki/%D0%92%D0%BB%D0%B0%D0%B4%D0%B8%D0%B2%D0%BE%D1%81%D1%82%D0%BE%D0%BA\" title=\"Владивосток\">Владивосток</a> для <a href=\"/wiki/%D0%94%D0%B0%D0%BB%D1%8C%D0%BD%D0%B8%D0%B9_%D0%92%D0%BE%D1%81%D1%82%D0%BE%D0%BA_%D0%A0%D0%BE%D1%81%D1%81%D0%B8%D0%B8\" title=\"Дальний Восток России\">Дальнего Востока</a>).\\n</p><p>Четверть населения России (25,31&#160;%) проживает в 18 крупнейших городах (-мультимиллионерах, -миллионерах и -субмиллионерах). В них сосредоточена треть (33,85&#160;%) городского населения России. Крупнейшие города являются центрами <a href=\"/wiki/%D0%93%D0%BE%D1%80%D0%BE%D0%B4%D1%81%D0%BA%D0%B0%D1%8F_%D0%B0%D0%B3%D0%BB%D0%BE%D0%BC%D0%B5%D1%80%D0%B0%D1%86%D0%B8%D1%8F\" title=\"Городская агломерация\">городских агломераций</a>.\\n</p>\\n<table class=\"standard\">\\n\\n<tbody><tr>\\n<th>Место\\n</th>\\n<th>Город\\n</th>\\n<th>Год достижения<br />численности<br />1&#160;млн жителей\\n</th>\\n<th>Население,<br />тыс. чел.<br /><small>(перепись-2021)<sup id=\"cite_ref-ofperep21_5-2\" class=\"reference\"><a href=\"#cite_note-ofperep21-5\">&#91;5&#93;</a></sup></small>\\n</th>\\n<th><a href=\"/wiki/%D0%AD%D0%BA%D0%BE%D0%BD%D0%BE%D0%BC%D0%B8%D1%87%D0%B5%D1%81%D0%BA%D0%B8%D0%B9_%D1%80%D0%B0%D0%B9%D0%BE%D0%BD\" title=\"Экономический район\">Экономический<br />район</a>\\n</th>\\n<th><a href=\"/wiki/%D0%A4%D0%B5%D0%B4%D0%B5%D1%80%D0%B0%D0%BB%D1%8C%D0%BD%D1%8B%D0%B5_%D0%BE%D0%BA%D1%80%D1%83%D0%B3%D0%B0_%D0%A0%D0%BE%D1%81%D1%81%D0%B8%D0%B9%D1%81%D0%BA%D0%BE%D0%B9_%D0%A4%D0%B5%D0%B4%D0%B5%D1%80%D0%B0%D1%86%D0%B8%D0%B8\" title=\"Федеральные округа Российской Федерации\">Федеральный<br />округ</a>\\n</th></tr>\\n<tr>\\n<th>\\n</th>\\n<th><small>Города-мультимиллионеры<br />(свыше 2&#160;млн жителей)</small>\\n</th>\\n<th>\\n</th>\\n<th>\\n</th>\\n<th>\\n</th>\\n<th>\\n</th></tr>\\n<tr>\\n<td>1\\n</td>\\n<td><a href=\"/wiki/%D0%9C%D0%BE%D1%81%D0%BA%D0%B2%D0%B0\" title=\"Москва\">Москва</a>\\n</td>\\n<td>1897\\n</td>\\n<td>13&#160;010\\n</td>\\n<td><a href=\"/wiki/%D0%A6%D0%B5%D0%BD%D1%82%D1%80%D0%B0%D0%BB%D1%8C%D0%BD%D1%8B%D0%B9_%D1%8D%D0%BA%D0%BE%D0%BD%D0%BE%D0%BC%D0%B8%D1%87%D0%B5%D1%81%D0%BA%D0%B8%D0%B9_%D1%80%D0%B0%D0%B9%D0%BE%D0%BD\" title=\"Центральный экономический район\">Центральный</a>\\n</td>\\n<td><a href=\"/wiki/%D0%A6%D0%B5%D0%BD%D1%82%D1%80%D0%B0%D0%BB%D1%8C%D0%BD%D1%8B%D0%B9_%D1%84%D0%B5%D0%B4%D0%B5%D1%80%D0%B0%D0%BB%D1%8C%D0%BD%D1%8B%D0%B9_%D0%BE%D0%BA%D1%80%D1%83%D0%B3\" title=\"Центральный федеральный округ\">Центральный</a>\\n</td></tr>\\n<tr>\\n<td>2\\n</td>\\n<td><a href=\"/wiki/%D0%A1%D0%B0%D0%BD%D0%BA%D1%82-%D0%9F%D0%B5%D1%82%D0%B5%D1%80%D0%B1%D1%83%D1%80%D0%B3\" title=\"Санкт-Петербург\">Санкт-Петербург</a>\\n</td>\\n<td>1890 (до 1919),<br />1922 (до 1943),<br />1945\\n</td>\\n<td>5602\\n</td>\\n<td><a href=\"/wiki/%D0%A1%D0%B5%D0%B2%D0%B5%D1%80%D0%BE-%D0%97%D0%B0%D0%BF%D0%B0%D0%B4%D0%BD%D1%8B%D0%B9_%D1%8D%D0%BA%D0%BE%D0%BD%D0%BE%D0%BC%D0%B8%D1%87%D0%B5%D1%81%D0%BA%D0%B8%D0%B9_%D1%80%D0%B0%D0%B9%D0%BE%D0%BD\" title=\"Северо-Западный экономический район\">Северо-Западный</a>\\n</td>\\n<td><a href=\"/wiki/%D0%A1%D0%B5%D0%B2%D0%B5%D1%80%D0%BE-%D0%97%D0%B0%D0%BF%D0%B0%D0%B4%D0%BD%D1%8B%D0%B9_%D1%84%D0%B5%D0%B4%D0%B5%D1%80%D0%B0%D0%BB%D1%8C%D0%BD%D1%8B%D0%B9_%D0%BE%D0%BA%D1%80%D1%83%D0%B3\" title=\"Северо-Западный федеральный округ\">Северо-Западный</a>\\n</td></tr>\\n<tr>\\n<th>\\n</th>\\n<th><small>Города-миллионеры<br />(1—2&#160;млн жителей)</small>\\n</th>\\n<th>\\n</th>\\n<th>\\n</th>\\n<th>\\n</th>\\n<th>\\n</th></tr>\\n<tr>\\n<td>3\\n</td>\\n<td><a href=\"/wiki/%D0%9D%D0%BE%D0%B2%D0%BE%D1%81%D0%B8%D0%B1%D0%B8%D1%80%D1%81%D0%BA\" title=\"Новосибирск\">Новосибирск</a>\\n</td>\\n<td>1962\\n</td>\\n<td>1634\\n</td>\\n<td><a href=\"/wiki/%D0%97%D0%B0%D0%BF%D0%B0%D0%B4%D0%BD%D0%BE-%D0%A1%D0%B8%D0%B1%D0%B8%D1%80%D1%81%D0%BA%D0%B8%D0%B9_%D1%8D%D0%BA%D0%BE%D0%BD%D0%BE%D0%BC%D0%B8%D1%87%D0%B5%D1%81%D0%BA%D0%B8%D0%B9_%D1%80%D0%B0%D0%B9%D0%BE%D0%BD\" title=\"Западно-Сибирский экономический район\">Западно-Сибирский</a>\\n</td>\\n<td><a href=\"/wiki/%D0%A1%D0%B8%D0%B1%D0%B8%D1%80%D1%81%D0%BA%D0%B8%D0%B9_%D1%84%D0%B5%D0%B4%D0%B5%D1%80%D0%B0%D0%BB%D1%8C%D0%BD%D1%8B%D0%B9_%D0%BE%D0%BA%D1%80%D1%83%D0%B3\" title=\"Сибирский федеральный округ\">Сибирский</a>\\n</td></tr>\\n<tr>\\n<td>4\\n</td>\\n<td><a href=\"/wiki/%D0%95%D0%BA%D0%B0%D1%82%D0%B5%D1%80%D0%B8%D0%BD%D0%B1%D1%83%D1%80%D0%B3\" title=\"Екатеринбург\">Екатеринбург</a>\\n</td>\\n<td>1967\\n</td>\\n<td>1544\\n</td>\\n<td><a href=\"/wiki/%D0%A3%D1%80%D0%B0%D0%BB%D1%8C%D1%81%D0%BA%D0%B8%D0%B9_%D1%8D%D0%BA%D0%BE%D0%BD%D0%BE%D0%BC%D0%B8%D1%87%D0%B5%D1%81%D0%BA%D0%B8%D0%B9_%D1%80%D0%B0%D0%B9%D0%BE%D0%BD\" title=\"Уральский экономический район\">Уральский</a>\\n</td>\\n<td><a href=\"/wiki/%D0%A3%D1%80%D0%B0%D0%BB%D1%8C%D1%81%D0%BA%D0%B8%D0%B9_%D1%84%D0%B5%D0%B4%D0%B5%D1%80%D0%B0%D0%BB%D1%8C%D0%BD%D1%8B%D0%B9_%D0%BE%D0%BA%D1%80%D1%83%D0%B3\" title=\"Уральский федеральный округ\">Уральский</a>\\n</td></tr>\\n<tr>\\n<td>5\\n</td>\\n<td><a href=\"/wiki/%D0%9A%D0%B0%D0%B7%D0%B0%D0%BD%D1%8C\" title=\"Казань\">Казань</a>\\n</td>\\n<td>1979\\n</td>\\n<td>1309\\n</td>\\n<td><a href=\"/wiki/%D0%9F%D0%BE%D0%B2%D0%BE%D0%BB%D0%B6%D1%81%D0%BA%D0%B8%D0%B9_%D1%8D%D0%BA%D0%BE%D0%BD%D0%BE%D0%BC%D0%B8%D1%87%D0%B5%D1%81%D0%BA%D0%B8%D0%B9_%D1%80%D0%B0%D0%B9%D0%BE%D0%BD\" title=\"Поволжский экономический район\">Поволжский</a>\\n</td>\\n<td><a href=\"/wiki/%D0%9F%D1%80%D0%B8%D0%B2%D0%BE%D0%BB%D0%B6%D1%81%D0%BA%D0%B8%D0%B9_%D1%84%D0%B5%D0%B4%D0%B5%D1%80%D0%B0%D0%BB%D1%8C%D0%BD%D1%8B%D0%B9_%D0%BE%D0%BA%D1%80%D1%83%D0%B3\" title=\"Приволжский федеральный округ\">Приволжский</a>\\n</td></tr>\\n<tr>\\n<td>6\\n</td>\\n<td><a href=\"/wiki/%D0%9D%D0%B8%D0%B6%D0%BD%D0%B8%D0%B9_%D0%9D%D0%BE%D0%B2%D0%B3%D0%BE%D1%80%D0%BE%D0%B4\" title=\"Нижний Новгород\">Нижний Новгород</a>\\n</td>\\n<td>1962\\n</td>\\n<td>1226\\n</td>\\n<td><a href=\"/wiki/%D0%92%D0%BE%D0%BB%D0%B3%D0%BE-%D0%92%D1%8F%D1%82%D1%81%D0%BA%D0%B8%D0%B9_%D1%8D%D0%BA%D0%BE%D0%BD%D0%BE%D0%BC%D0%B8%D1%87%D0%B5%D1%81%D0%BA%D0%B8%D0%B9_%D1%80%D0%B0%D0%B9%D0%BE%D0%BD\" title=\"Волго-Вятский экономический район\">Волго-Вятский</a>\\n</td>\\n<td><a href=\"/wiki/%D0%9F%D1%80%D0%B8%D0%B2%D0%BE%D0%BB%D0%B6%D1%81%D0%BA%D0%B8%D0%B9_%D1%84%D0%B5%D0%B4%D0%B5%D1%80%D0%B0%D0%BB%D1%8C%D0%BD%D1%8B%D0%B9_%D0%BE%D0%BA%D1%80%D1%83%D0%B3\" title=\"Приволжский федеральный округ\">Приволжский</a>\\n</td></tr>\\n<tr>\\n<td>7\\n</td>\\n<td><a href=\"/wiki/%D0%A7%D0%B5%D0%BB%D1%8F%D0%B1%D0%B8%D0%BD%D1%81%D0%BA\" title=\"Челябинск\">Челябинск</a>\\n</td>\\n<td>1976\\n</td>\\n<td>1190\\n</td>\\n<td><a href=\"/wiki/%D0%A3%D1%80%D0%B0%D0%BB%D1%8C%D1%81%D0%BA%D0%B8%D0%B9_%D1%8D%D0%BA%D0%BE%D0%BD%D0%BE%D0%BC%D0%B8%D1%87%D0%B5%D1%81%D0%BA%D0%B8%D0%B9_%D1%80%D0%B0%D0%B9%D0%BE%D0%BD\" title=\"Уральский экономический район\">Уральский</a>\\n</td>\\n<td><a href=\"/wiki/%D0%A3%D1%80%D0%B0%D0%BB%D1%8C%D1%81%D0%BA%D0%B8%D0%B9_%D1%84%D0%B5%D0%B4%D0%B5%D1%80%D0%B0%D0%BB%D1%8C%D0%BD%D1%8B%D0%B9_%D0%BE%D0%BA%D1%80%D1%83%D0%B3\" title=\"Уральский федеральный округ\">Уральский</a>\\n</td></tr>\\n<tr>\\n<td>8\\n</td>\\n<td><a href=\"/wiki/%D0%9A%D1%80%D0%B0%D1%81%D0%BD%D0%BE%D1%8F%D1%80%D1%81%D0%BA\" title=\"Красноярск\">Красноярск</a>\\n</td>\\n<td>2012\\n</td>\\n<td>1188\\n</td>\\n<td><a href=\"/wiki/%D0%92%D0%BE%D1%81%D1%82%D0%BE%D1%87%D0%BD%D0%BE-%D0%A1%D0%B8%D0%B1%D0%B8%D1%80%D1%81%D0%BA%D0%B8%D0%B9_%D1%8D%D0%BA%D0%BE%D0%BD%D0%BE%D0%BC%D0%B8%D1%87%D0%B5%D1%81%D0%BA%D0%B8%D0%B9_%D1%80%D0%B0%D0%B9%D0%BE%D0%BD\" title=\"Восточно-Сибирский экономический район\">Восточно-Сибирский</a>\\n</td>\\n<td><a href=\"/wiki/%D0%A1%D0%B8%D0%B1%D0%B8%D1%80%D1%81%D0%BA%D0%B8%D0%B9_%D1%84%D0%B5%D0%B4%D0%B5%D1%80%D0%B0%D0%BB%D1%8C%D0%BD%D1%8B%D0%B9_%D0%BE%D0%BA%D1%80%D1%83%D0%B3\" title=\"Сибирский федеральный округ\">Сибирский</a>\\n</td></tr>\\n<tr>\\n<td>9\\n</td>\\n<td><a href=\"/wiki/%D0%A1%D0%B0%D0%BC%D0%B0%D1%80%D0%B0\" title=\"Самара\">Самара</a>\\n</td>\\n<td>1967\\n</td>\\n<td>1173\\n</td>\\n<td><a href=\"/wiki/%D0%9F%D0%BE%D0%B2%D0%BE%D0%BB%D0%B6%D1%81%D0%BA%D0%B8%D0%B9_%D1%8D%D0%BA%D0%BE%D0%BD%D0%BE%D0%BC%D0%B8%D1%87%D0%B5%D1%81%D0%BA%D0%B8%D0%B9_%D1%80%D0%B0%D0%B9%D0%BE%D0%BD\" title=\"Поволжский экономический район\">Поволжский</a>\\n</td>\\n<td><a href=\"/wiki/%D0%9F%D1%80%D0%B8%D0%B2%D0%BE%D0%BB%D0%B6%D1%81%D0%BA%D0%B8%D0%B9_%D1%84%D0%B5%D0%B4%D0%B5%D1%80%D0%B0%D0%BB%D1%8C%D0%BD%D1%8B%D0%B9_%D0%BE%D0%BA%D1%80%D1%83%D0%B3\" title=\"Приволжский федеральный округ\">Приволжский</a>\\n</td></tr>\\n<tr>\\n<td>10\\n</td>\\n<td><a href=\"/wiki/%D0%A3%D1%84%D0%B0\" title=\"Уфа\">Уфа</a>\\n</td>\\n<td>1980\\n</td>\\n<td>1145\\n</td>\\n<td><a href=\"/wiki/%D0%A3%D1%80%D0%B0%D0%BB%D1%8C%D1%81%D0%BA%D0%B8%D0%B9_%D1%8D%D0%BA%D0%BE%D0%BD%D0%BE%D0%BC%D0%B8%D1%87%D0%B5%D1%81%D0%BA%D0%B8%D0%B9_%D1%80%D0%B0%D0%B9%D0%BE%D0%BD\" title=\"Уральский экономический район\">Уральский</a>\\n</td>\\n<td><a href=\"/wiki/%D0%9F%D1%80%D0%B8%D0%B2%D0%BE%D0%BB%D0%B6%D1%81%D0%BA%D0%B8%D0%B9_%D1%84%D0%B5%D0%B4%D0%B5%D1%80%D0%B0%D0%BB%D1%8C%D0%BD%D1%8B%D0%B9_%D0%BE%D0%BA%D1%80%D1%83%D0%B3\" title=\"Приволжский федеральный округ\">Приволжский</a>\\n</td></tr>\\n<tr>\\n<td>11\\n</td>\\n<td><a href=\"/wiki/%D0%A0%D0%BE%D1%81%D1%82%D0%BE%D0%B2-%D0%BD%D0%B0-%D0%94%D0%BE%D0%BD%D1%83\" title=\"Ростов-на-Дону\">Ростов-на-Дону</a>\\n</td>\\n<td>1987\\n</td>\\n<td>1142\\n</td>\\n<td><a href=\"/wiki/%D0%A1%D0%B5%D0%B2%D0%B5%D1%80%D0%BE-%D0%9A%D0%B0%D0%B2%D0%BA%D0%B0%D0%B7%D1%81%D0%BA%D0%B8%D0%B9_%D1%8D%D0%BA%D0%BE%D0%BD%D0%BE%D0%BC%D0%B8%D1%87%D0%B5%D1%81%D0%BA%D0%B8%D0%B9_%D1%80%D0%B0%D0%B9%D0%BE%D0%BD\" title=\"Северо-Кавказский экономический район\">Северо-Кавказский</a>\\n</td>\\n<td><a href=\"/wiki/%D0%AE%D0%B6%D0%BD%D1%8B%D0%B9_%D1%84%D0%B5%D0%B4%D0%B5%D1%80%D0%B0%D0%BB%D1%8C%D0%BD%D1%8B%D0%B9_%D0%BE%D0%BA%D1%80%D1%83%D0%B3\" title=\"Южный федеральный округ\">Южный</a>\\n</td></tr>\\n<tr>\\n<td>12\\n</td>\\n<td><a href=\"/wiki/%D0%9E%D0%BC%D1%81%D0%BA\" title=\"Омск\">Омск</a>\\n</td>\\n<td>1978\\n</td>\\n<td>1126\\n</td>\\n<td><a href=\"/wiki/%D0%97%D0%B0%D0%BF%D0%B0%D0%B4%D0%BD%D0%BE-%D0%A1%D0%B8%D0%B1%D0%B8%D1%80%D1%81%D0%BA%D0%B8%D0%B9_%D1%8D%D0%BA%D0%BE%D0%BD%D0%BE%D0%BC%D0%B8%D1%87%D0%B5%D1%81%D0%BA%D0%B8%D0%B9_%D1%80%D0%B0%D0%B9%D0%BE%D0%BD\" title=\"Западно-Сибирский экономический район\">Западно-Сибирский</a>\\n</td>\\n<td><a href=\"/wiki/%D0%A1%D0%B8%D0%B1%D0%B8%D1%80%D1%81%D0%BA%D0%B8%D0%B9_%D1%84%D0%B5%D0%B4%D0%B5%D1%80%D0%B0%D0%BB%D1%8C%D0%BD%D1%8B%D0%B9_%D0%BE%D0%BA%D1%80%D1%83%D0%B3\" title=\"Сибирский федеральный округ\">Сибирский</a>\\n</td></tr>\\n<tr>\\n<td>13\\n</td>\\n<td><a href=\"/wiki/%D0%9A%D1%80%D0%B0%D1%81%D0%BD%D0%BE%D0%B4%D0%B0%D1%80\" title=\"Краснодар\">Краснодар</a>\\n</td>\\n<td><i>2018</i><sup id=\"cite_ref-9\" class=\"reference\"><a href=\"#cite_note-9\">&#91;a&#93;</a></sup>\\n</td>\\n<td>1099\\n</td>\\n<td><a href=\"/wiki/%D0%A1%D0%B5%D0%B2%D0%B5%D1%80%D0%BE-%D0%9A%D0%B0%D0%B2%D0%BA%D0%B0%D0%B7%D1%81%D0%BA%D0%B8%D0%B9_%D1%8D%D0%BA%D0%BE%D0%BD%D0%BE%D0%BC%D0%B8%D1%87%D0%B5%D1%81%D0%BA%D0%B8%D0%B9_%D1%80%D0%B0%D0%B9%D0%BE%D0%BD\" title=\"Северо-Кавказский экономический район\">Северо-Кавказский</a>\\n</td>\\n<td><a href=\"/wiki/%D0%AE%D0%B6%D0%BD%D1%8B%D0%B9_%D1%84%D0%B5%D0%B4%D0%B5%D1%80%D0%B0%D0%BB%D1%8C%D0%BD%D1%8B%D0%B9_%D0%BE%D0%BA%D1%80%D1%83%D0%B3\" title=\"Южный федеральный округ\">Южный</a>\\n</td></tr>\\n<tr>\\n<td>14\\n</td>\\n<td><a href=\"/wiki/%D0%92%D0%BE%D1%80%D0%BE%D0%BD%D0%B5%D0%B6\" title=\"Воронеж\">Воронеж</a>\\n</td>\\n<td>2012\\n</td>\\n<td>1058\\n</td>\\n<td><a href=\"/wiki/%D0%A6%D0%B5%D0%BD%D1%82%D1%80%D0%B0%D0%BB%D1%8C%D0%BD%D0%BE-%D0%A7%D0%B5%D1%80%D0%BD%D0%BE%D0%B7%D1%91%D0%BC%D0%BD%D1%8B%D0%B9_%D1%8D%D0%BA%D0%BE%D0%BD%D0%BE%D0%BC%D0%B8%D1%87%D0%B5%D1%81%D0%BA%D0%B8%D0%B9_%D1%80%D0%B0%D0%B9%D0%BE%D0%BD\" title=\"Центрально-Чернозёмный экономический район\">Центрально-Чернозёмный</a>\\n</td>\\n<td><a href=\"/wiki/%D0%A6%D0%B5%D0%BD%D1%82%D1%80%D0%B0%D0%BB%D1%8C%D0%BD%D1%8B%D0%B9_%D1%84%D0%B5%D0%B4%D0%B5%D1%80%D0%B0%D0%BB%D1%8C%D0%BD%D1%8B%D0%B9_%D0%BE%D0%BA%D1%80%D1%83%D0%B3\" title=\"Центральный федеральный округ\">Центральный</a>\\n</td></tr>\\n<tr>\\n<td>15\\n</td>\\n<td><a href=\"/wiki/%D0%9F%D0%B5%D1%80%D0%BC%D1%8C\" title=\"Пермь\">Пермь</a>\\n</td>\\n<td>1979 (до 2004),<br />2011\\n</td>\\n<td>1034\\n</td>\\n<td><a href=\"/wiki/%D0%A3%D1%80%D0%B0%D0%BB%D1%8C%D1%81%D0%BA%D0%B8%D0%B9_%D1%8D%D0%BA%D0%BE%D0%BD%D0%BE%D0%BC%D0%B8%D1%87%D0%B5%D1%81%D0%BA%D0%B8%D0%B9_%D1%80%D0%B0%D0%B9%D0%BE%D0%BD\" title=\"Уральский экономический район\">Уральский</a>\\n</td>\\n<td><a href=\"/wiki/%D0%9F%D1%80%D0%B8%D0%B2%D0%BE%D0%BB%D0%B6%D1%81%D0%BA%D0%B8%D0%B9_%D1%84%D0%B5%D0%B4%D0%B5%D1%80%D0%B0%D0%BB%D1%8C%D0%BD%D1%8B%D0%B9_%D0%BE%D0%BA%D1%80%D1%83%D0%B3\" title=\"Приволжский федеральный округ\">Приволжский</a>\\n</td></tr>\\n<tr>\\n<td>16\\n</td>\\n<td><a href=\"/wiki/%D0%92%D0%BE%D0%BB%D0%B3%D0%BE%D0%B3%D1%80%D0%B0%D0%B4\" title=\"Волгоград\">Волгоград</a>\\n</td>\\n<td>1989 (до 1999),<br />2002 (до 2005),<br />2010\\n</td>\\n<td>1028\\n</td>\\n<td><a href=\"/wiki/%D0%9F%D0%BE%D0%B2%D0%BE%D0%BB%D0%B6%D1%81%D0%BA%D0%B8%D0%B9_%D1%8D%D0%BA%D0%BE%D0%BD%D0%BE%D0%BC%D0%B8%D1%87%D0%B5%D1%81%D0%BA%D0%B8%D0%B9_%D1%80%D0%B0%D0%B9%D0%BE%D0%BD\" title=\"Поволжский экономический район\">Поволжский</a>\\n</td>\\n<td><a href=\"/wiki/%D0%AE%D0%B6%D0%BD%D1%8B%D0%B9_%D1%84%D0%B5%D0%B4%D0%B5%D1%80%D0%B0%D0%BB%D1%8C%D0%BD%D1%8B%D0%B9_%D0%BE%D0%BA%D1%80%D1%83%D0%B3\" title=\"Южный федеральный округ\">Южный</a>\\n</td></tr>\\n<tr>\\n<th>\\n</th>\\n<th><small>Города-субмиллионеры<br />(800—999 тыс. жителей)</small>\\n</th>\\n<th>\\n</th>\\n<th>\\n</th>\\n<th>\\n</th>\\n<th>\\n</th></tr>\\n<tr>\\n<td>17\\n</td>\\n<td><a href=\"/wiki/%D0%A1%D0%B0%D1%80%D0%B0%D1%82%D0%BE%D0%B2\" title=\"Саратов\">Саратов</a>\\n</td>\\n<td>—\\n</td>\\n<td>901\\n</td>\\n<td><a href=\"/wiki/%D0%9F%D0%BE%D0%B2%D0%BE%D0%BB%D0%B6%D1%81%D0%BA%D0%B8%D0%B9_%D1%8D%D0%BA%D0%BE%D0%BD%D0%BE%D0%BC%D0%B8%D1%87%D0%B5%D1%81%D0%BA%D0%B8%D0%B9_%D1%80%D0%B0%D0%B9%D0%BE%D0%BD\" title=\"Поволжский экономический район\">Поволжский</a>\\n</td>\\n<td><a href=\"/wiki/%D0%9F%D1%80%D0%B8%D0%B2%D0%BE%D0%BB%D0%B6%D1%81%D0%BA%D0%B8%D0%B9_%D1%84%D0%B5%D0%B4%D0%B5%D1%80%D0%B0%D0%BB%D1%8C%D0%BD%D1%8B%D0%B9_%D0%BE%D0%BA%D1%80%D1%83%D0%B3\" title=\"Приволжский федеральный округ\">Приволжский</a>\\n</td></tr>\\n<tr>\\n<td>18\\n</td>\\n<td><a href=\"/wiki/%D0%A2%D1%8E%D0%BC%D0%B5%D0%BD%D1%8C\" title=\"Тюмень\">Тюмень</a>\\n</td>\\n<td>—\\n</td>\\n<td>847\\n</td>\\n<td><a href=\"/wiki/%D0%97%D0%B0%D0%BF%D0%B0%D0%B4%D0%BD%D0%BE-%D0%A1%D0%B8%D0%B1%D0%B8%D1%80%D1%81%D0%BA%D0%B8%D0%B9_%D1%8D%D0%BA%D0%BE%D0%BD%D0%BE%D0%BC%D0%B8%D1%87%D0%B5%D1%81%D0%BA%D0%B8%D0%B9_%D1%80%D0%B0%D0%B9%D0%BE%D0%BD\" title=\"Западно-Сибирский экономический район\">Западно-Сибирский</a>\\n</td>\\n<td><a href=\"/wiki/%D0%A3%D1%80%D0%B0%D0%BB%D1%8C%D1%81%D0%BA%D0%B8%D0%B9_%D1%84%D0%B5%D0%B4%D0%B5%D1%80%D0%B0%D0%BB%D1%8C%D0%BD%D1%8B%D0%B9_%D0%BE%D0%BA%D1%80%D1%83%D0%B3\" title=\"Уральский федеральный округ\">Уральский</a>\\n</td></tr>\\n<tr>\\n<th>\\n</th>\\n<th><small>Итого численность<br />населения крупнейших<br />городов:</small>\\n</th>\\n<th>—\\n</th>\\n<th>37&#160;256\\n</th>\\n<th>\\n</th>\\n<th>\\n</th></tr>\\n<tr>\\n<th>\\n</th>\\n<th><small>Доля численности<br />населения крупнейших<br />городов в общей численности<br />населения России,&#160;%</small>\\n</th>\\n<th>—\\n</th>\\n<th>25,31&#160;%\\n</th>\\n<th>\\n</th>\\n<th>\\n</th></tr>\\n<tr>\\n<th>\\n</th>\\n<th><small>Доля численности<br />населения крупнейших<br />городов в общей численности<br />городского населения России,&#160;%</small>\\n</th>\\n<th>—\\n</th>\\n<th>33,85&#160;%\\n</th>\\n<th>\\n</th>\\n<th>\\n</th></tr>\\n</tbody></table>\\n<h2><span id=\".D0.90.D0.B3.D0.BB.D0.BE.D0.BC.D0.B5.D1.80.D0.B0.D1.86.D0.B8.D0.B8\"></span><span class=\"mw-headline\" id=\"Агломерации\">Агломерации</span><span class=\"mw-editsection\"><span class=\"mw-editsection-bracket\">[</span><a href=\"/w/index.php?title=%D0%93%D0%BE%D1%80%D0%BE%D0%B4%D0%B0-%D0%BC%D0%B8%D0%BB%D0%BB%D0%B8%D0%BE%D0%BD%D0%B5%D1%80%D1%8B_%D0%A0%D0%BE%D1%81%D1%81%D0%B8%D0%B8&amp;veaction=edit&amp;section=6\" class=\"mw-editsection-visualeditor\" title=\"Редактировать раздел «Агломерации»\">править</a><span class=\"mw-editsection-divider\"> | </span><a href=\"/w/index.php?title=%D0%93%D0%BE%D1%80%D0%BE%D0%B4%D0%B0-%D0%BC%D0%B8%D0%BB%D0%BB%D0%B8%D0%BE%D0%BD%D0%B5%D1%80%D1%8B_%D0%A0%D0%BE%D1%81%D1%81%D0%B8%D0%B8&amp;action=edit&amp;section=6\" title=\"Edit section&#039;s source code: Агломерации\">править код</a><span class=\"mw-editsection-bracket\">]</span></span></h2>\\n<p>Среди <a href=\"/wiki/%D0%90%D0%B3%D0%BB%D0%BE%D0%BC%D0%B5%D1%80%D0%B0%D1%86%D0%B8%D0%B8_%D0%A0%D0%BE%D1%81%D1%81%D0%B8%D0%B8\" title=\"Агломерации России\">агломераций России</a> насчитывается 23 имеющих численность населения более 1 млн <small>(разнящиеся ввиду отсутствия официального учёта источники оценок численности помимо базового<sup id=\"cite_ref-ved2010_10-0\" class=\"reference\"><a href=\"#cite_note-ved2010-10\">&#91;9&#93;</a></sup> см. также в общей и отдельных статьях)</small>:\\n</p>\\n<table class=\"standard\">\\n\\n<tbody><tr>\\n<th>Место\\n</th>\\n<th>Агломерация\\n</th>\\n<th>Население,<br />урбанизированное/субурбанизированное-тяготеющее,<br />тыс. чел.<br />(2010)<sup id=\"cite_ref-ved2010_10-1\" class=\"reference\"><a href=\"#cite_note-ved2010-10\">&#91;9&#93;</a></sup>\\n</th></tr>\\n<tr>\\n<td>1\\n</td>\\n<td><a href=\"/wiki/%D0%9C%D0%BE%D1%81%D0%BA%D0%BE%D0%B2%D1%81%D0%BA%D0%B0%D1%8F_%D0%B0%D0%B3%D0%BB%D0%BE%D0%BC%D0%B5%D1%80%D0%B0%D1%86%D0%B8%D1%8F\" title=\"Московская агломерация\">Московская</a>\\n</td>\\n<td>16&#160;023 (14&#160;700<sup id=\"cite_ref-dr_11-0\" class=\"reference\"><a href=\"#cite_note-dr-11\">&#91;b&#93;</a></sup>)/17&#160;316\\n</td></tr>\\n<tr>\\n<td>2\\n</td>\\n<td><a href=\"/wiki/%D0%A1%D0%B0%D0%BD%D0%BA%D1%82-%D0%9F%D0%B5%D1%82%D0%B5%D1%80%D0%B1%D1%83%D1%80%D0%B3%D1%81%D0%BA%D0%B0%D1%8F_%D0%B0%D0%B3%D0%BB%D0%BE%D0%BC%D0%B5%D1%80%D0%B0%D1%86%D0%B8%D1%8F\" title=\"Санкт-Петербургская агломерация\">Санкт-Петербургская</a>\\n</td>\\n<td>5681 (5400<sup id=\"cite_ref-dr_11-1\" class=\"reference\"><a href=\"#cite_note-dr-11\">&#91;b&#93;</a></sup>)/6230\\n</td></tr>\\n<tr>\\n<td>3\\n</td>\\n<td><a href=\"/wiki/%D0%A1%D0%B0%D0%BC%D0%B0%D1%80%D1%81%D0%BA%D0%BE-%D0%A2%D0%BE%D0%BB%D1%8C%D1%8F%D1%82%D1%82%D0%B8%D0%BD%D1%81%D0%BA%D0%B0%D1%8F_%D0%B0%D0%B3%D0%BB%D0%BE%D0%BC%D0%B5%D1%80%D0%B0%D1%86%D0%B8%D1%8F\" title=\"Самарско-Тольяттинская агломерация\">Самарско-Тольяттинская</a><sup id=\"cite_ref-poly_12-0\" class=\"reference\"><a href=\"#cite_note-poly-12\">&#91;c&#93;</a></sup>\\n</td>\\n<td>2300<sup id=\"cite_ref-dr_11-2\" class=\"reference\"><a href=\"#cite_note-dr-11\">&#91;b&#93;</a></sup>; 2555/3170<sup id=\"cite_ref-13\" class=\"reference\"><a href=\"#cite_note-13\">&#91;d&#93;</a></sup>\\n</td></tr>\\n<tr>\\n<td>4\\n</td>\\n<td><a href=\"/wiki/%D0%95%D0%BA%D0%B0%D1%82%D0%B5%D1%80%D0%B8%D0%BD%D0%B1%D1%83%D1%80%D0%B3%D1%81%D0%BA%D0%B0%D1%8F_%D0%B0%D0%B3%D0%BB%D0%BE%D0%BC%D0%B5%D1%80%D0%B0%D1%86%D0%B8%D1%8F\" title=\"Екатеринбургская агломерация\">Екатеринбургская</a>\\n</td>\\n<td>2054/2054\\n</td></tr>\\n<tr>\\n<td>5\\n</td>\\n<td><a href=\"/wiki/%D0%9D%D0%B8%D0%B6%D0%B5%D0%B3%D0%BE%D1%80%D0%BE%D0%B4%D1%81%D0%BA%D0%B0%D1%8F_%D0%B0%D0%B3%D0%BB%D0%BE%D0%BC%D0%B5%D1%80%D0%B0%D1%86%D0%B8%D1%8F\" title=\"Нижегородская агломерация\">Нижегородская</a>\\n</td>\\n<td>1928/2097\\n</td></tr>\\n<tr>\\n<td>6\\n</td>\\n<td><a href=\"/wiki/%D0%A0%D0%BE%D1%81%D1%82%D0%BE%D0%B2%D1%81%D0%BA%D0%B0%D1%8F_%D0%B0%D0%B3%D0%BB%D0%BE%D0%BC%D0%B5%D1%80%D0%B0%D1%86%D0%B8%D1%8F\" title=\"Ростовская агломерация\">Ростовская</a>\\n</td>\\n<td>1714/2096; 2570<sup id=\"cite_ref-14\" class=\"reference\"><a href=\"#cite_note-14\">&#91;e&#93;</a></sup>\\n</td></tr>\\n<tr>\\n<td>7\\n</td>\\n<td><a href=\"/wiki/%D0%9D%D0%BE%D0%B2%D0%BE%D1%81%D0%B8%D0%B1%D0%B8%D1%80%D1%81%D0%BA%D0%B0%D1%8F_%D0%B0%D0%B3%D0%BB%D0%BE%D0%BC%D0%B5%D1%80%D0%B0%D1%86%D0%B8%D1%8F\" title=\"Новосибирская агломерация\">Новосибирская</a>\\n</td>\\n<td>1736/(1928) 1997; 1645/2070; 1887/2050\\n</td></tr>\\n<tr>\\n<td>8—10\\n</td>\\n<td><a href=\"/wiki/%D0%92%D0%BE%D0%BB%D0%B3%D0%BE%D0%B3%D1%80%D0%B0%D0%B4%D1%81%D0%BA%D0%B0%D1%8F_%D0%B0%D0%B3%D0%BB%D0%BE%D0%BC%D0%B5%D1%80%D0%B0%D1%86%D0%B8%D1%8F\" title=\"Волгоградская агломерация\">Волгоградская</a>\\n</td>\\n<td>1416/1517\\n</td></tr>\\n<tr>\\n<td>8—10\\n</td>\\n<td><a href=\"/wiki/%D0%9A%D0%B0%D0%B7%D0%B0%D0%BD%D1%81%D0%BA%D0%B0%D1%8F_%D0%B0%D0%B3%D0%BB%D0%BE%D0%BC%D0%B5%D1%80%D0%B0%D1%86%D0%B8%D1%8F\" title=\"Казанская агломерация\">Казанская</a>\\n</td>\\n<td>1352/1560\\n</td></tr>\\n<tr>\\n<td>8—10\\n</td>\\n<td><a href=\"/wiki/%D0%A7%D0%B5%D0%BB%D1%8F%D0%B1%D0%B8%D0%BD%D1%81%D0%BA%D0%B0%D1%8F_%D0%B0%D0%B3%D0%BB%D0%BE%D0%BC%D0%B5%D1%80%D0%B0%D1%86%D0%B8%D1%8F\" title=\"Челябинская агломерация\">Челябинская</a>\\n</td>\\n<td>1322/1535\\n</td></tr>\\n<tr>\\n<td>11\\n</td>\\n<td><a href=\"/wiki/%D0%9E%D0%BC%D1%81%D0%BA%D0%B0%D1%8F_%D0%B0%D0%B3%D0%BB%D0%BE%D0%BC%D0%B5%D1%80%D0%B0%D1%86%D0%B8%D1%8F\" title=\"Омская агломерация\">Омская</a>\\n</td>\\n<td>1182/1261\\n</td></tr>\\n<tr>\\n<td>12—14\\n</td>\\n<td><a href=\"/wiki/%D0%9A%D1%80%D0%B0%D1%81%D0%BD%D0%BE%D0%B4%D0%B0%D1%80%D1%81%D0%BA%D0%B0%D1%8F_%D0%B0%D0%B3%D0%BB%D0%BE%D0%BC%D0%B5%D1%80%D0%B0%D1%86%D0%B8%D1%8F\" title=\"Краснодарская агломерация\">Краснодарская</a>\\n</td>\\n<td>1046/1344\\n</td></tr>\\n<tr>\\n<td>12—14\\n</td>\\n<td><a href=\"/wiki/%D0%A3%D1%84%D0%B8%D0%BC%D1%81%D0%BA%D0%B0%D1%8F_%D0%B0%D0%B3%D0%BB%D0%BE%D0%BC%D0%B5%D1%80%D0%B0%D1%86%D0%B8%D1%8F\" title=\"Уфимская агломерация\">Уфимская</a>\\n</td>\\n<td>1087/1235\\n</td></tr>\\n<tr>\\n<td>12—14\\n</td>\\n<td><a href=\"/wiki/%D0%9D%D0%BE%D0%B2%D0%BE%D0%BA%D1%83%D0%B7%D0%BD%D0%B5%D1%86%D0%BA%D0%B0%D1%8F_%D0%B0%D0%B3%D0%BB%D0%BE%D0%BC%D0%B5%D1%80%D0%B0%D1%86%D0%B8%D1%8F\" title=\"Новокузнецкая агломерация\">Новокузнецкая (Кузбасская)</a>*<sup id=\"cite_ref-poly_12-1\" class=\"reference\"><a href=\"#cite_note-poly-12\">&#91;c&#93;</a></sup>\\n</td>\\n<td>1096/1206\\n</td></tr>\\n<tr>\\n<td>15—18\\n</td>\\n<td><a href=\"/wiki/%D0%9A%D1%80%D0%B0%D1%81%D0%BD%D0%BE%D1%8F%D1%80%D1%81%D0%BA%D0%B0%D1%8F_%D0%B0%D0%B3%D0%BB%D0%BE%D0%BC%D0%B5%D1%80%D0%B0%D1%86%D0%B8%D1%8F\" title=\"Красноярская агломерация\">Красноярская</a>\\n</td>\\n<td>1061/1155\\n</td></tr>\\n<tr>\\n<td>15—18\\n</td>\\n<td><a href=\"/wiki/%D0%9F%D0%B5%D1%80%D0%BC%D1%81%D0%BA%D0%B0%D1%8F_%D0%B0%D0%B3%D0%BB%D0%BE%D0%BC%D0%B5%D1%80%D0%B0%D1%86%D0%B8%D1%8F\" title=\"Пермская агломерация\">Пермская</a>\\n</td>\\n<td>1044/1144\\n</td></tr>\\n<tr>\\n<td>15—18\\n</td>\\n<td><a href=\"/wiki/%D0%A1%D0%B0%D1%80%D0%B0%D1%82%D0%BE%D0%B2%D1%81%D0%BA%D0%B0%D1%8F_%D0%B0%D0%B3%D0%BB%D0%BE%D0%BC%D0%B5%D1%80%D0%B0%D1%86%D0%B8%D1%8F\" title=\"Саратовская агломерация\">Саратовская</a>*\\n</td>\\n<td>1070/1117\\n</td></tr>\\n<tr>\\n<td>15—18\\n</td>\\n<td><a href=\"/wiki/%D0%92%D0%BE%D1%80%D0%BE%D0%BD%D0%B5%D0%B6%D1%81%D0%BA%D0%B0%D1%8F_%D0%B0%D0%B3%D0%BB%D0%BE%D0%BC%D0%B5%D1%80%D0%B0%D1%86%D0%B8%D1%8F\" title=\"Воронежская агломерация\">Воронежская</a>\\n</td>\\n<td>1015/1360\\n</td></tr>\\n<tr>\\n<td>19—22\\n</td>\\n<td><a href=\"/wiki/%D0%98%D1%80%D0%BA%D1%83%D1%82%D1%81%D0%BA%D0%B0%D1%8F_%D0%B0%D0%B3%D0%BB%D0%BE%D0%BC%D0%B5%D1%80%D0%B0%D1%86%D0%B8%D1%8F\" title=\"Иркутская агломерация\">Иркутская (Иркутско-Черемховская)</a>*<sup id=\"cite_ref-poly_12-2\" class=\"reference\"><a href=\"#cite_note-poly-12\">&#91;c&#93;</a></sup>\\n</td>\\n<td>1041/1081\\n</td></tr>\\n<tr>\\n<td>19—22\\n</td>\\n<td><a href=\"/wiki/%D0%9D%D0%B0%D0%B1%D0%B5%D1%80%D0%B5%D0%B6%D0%BD%D0%BE%D1%87%D0%B5%D0%BB%D0%BD%D0%B8%D0%BD%D1%81%D0%BA%D0%B0%D1%8F_%D0%B0%D0%B3%D0%BB%D0%BE%D0%BC%D0%B5%D1%80%D0%B0%D1%86%D0%B8%D1%8F\" title=\"Набережночелнинская агломерация\">Набережночелнинская (Нижне-Камская)</a>*<sup id=\"cite_ref-poly_12-3\" class=\"reference\"><a href=\"#cite_note-poly-12\">&#91;c&#93;</a></sup>\\n</td>\\n<td>1010/1125<sup id=\"cite_ref-dr_11-3\" class=\"reference\"><a href=\"#cite_note-dr-11\">&#91;b&#93;</a></sup>\\n</td></tr>\\n<tr>\\n<td>19—22\\n</td>\\n<td><a href=\"/wiki/%D0%91%D0%BE%D0%BB%D1%8C%D1%88%D0%BE%D0%B9_%D0%92%D0%BB%D0%B0%D0%B4%D0%B8%D0%B2%D0%BE%D1%81%D1%82%D0%BE%D0%BA\" title=\"Большой Владивосток\">Владивостокская</a>*<sup id=\"cite_ref-poly_12-4\" class=\"reference\"><a href=\"#cite_note-poly-12\">&#91;c&#93;</a></sup>\\n</td>\\n<td>1010<sup id=\"cite_ref-dr_11-4\" class=\"reference\"><a href=\"#cite_note-dr-11\">&#91;b&#93;</a></sup>; 1125/1199<sup id=\"cite_ref-15\" class=\"reference\"><a href=\"#cite_note-15\">&#91;f&#93;</a></sup>\\n</td></tr>\\n<tr>\\n<td>19—22\\n</td>\\n<td><a href=\"/wiki/%D0%A2%D1%83%D0%BB%D1%8C%D1%81%D0%BA%D0%BE-%D0%9D%D0%BE%D0%B2%D0%BE%D0%BC%D0%BE%D1%81%D0%BA%D0%BE%D0%B2%D1%81%D0%BA%D0%B0%D1%8F_%D0%B0%D0%B3%D0%BB%D0%BE%D0%BC%D0%B5%D1%80%D0%B0%D1%86%D0%B8%D1%8F\" title=\"Тульско-Новомосковская агломерация\">Тульско-Новомосковская</a>*<sup id=\"cite_ref-poly_12-5\" class=\"reference\"><a href=\"#cite_note-poly-12\">&#91;c&#93;</a></sup>\\n</td>\\n<td>1030<sup id=\"cite_ref-dr_11-5\" class=\"reference\"><a href=\"#cite_note-dr-11\">&#91;b&#93;</a></sup>\\n</td></tr>\\n<tr>\\n<td>23\\n</td>\\n<td><a href=\"/w/index.php?title=%D0%A3%D0%BB%D1%8C%D1%8F%D0%BD%D0%BE%D0%B2%D1%81%D0%BA%D0%B0%D1%8F_%D0%B0%D0%B3%D0%BB%D0%BE%D0%BC%D0%B5%D1%80%D0%B0%D1%86%D0%B8%D1%8F&amp;action=edit&amp;redlink=1\" class=\"new\" title=\"Ульяновская агломерация (страница отсутствует)\">Ульяновская агломерация</a>\\n</td>\\n<td>1008<sup id=\"cite_ref-dr_11-6\" class=\"reference\"><a href=\"#cite_note-dr-11\">&#91;b&#93;</a></sup>\\n</td></tr>\\n</tbody></table>\\n<p>Таким образом, семь агломераций* образованы городами, которые не являются городами-миллионерами: <a href=\"/wiki/%D0%92%D0%BB%D0%B0%D0%B4%D0%B8%D0%B2%D0%BE%D1%81%D1%82%D0%BE%D0%BA\" title=\"Владивосток\">Владивосток</a>, <a href=\"/wiki/%D0%98%D1%80%D0%BA%D1%83%D1%82%D1%81%D0%BA\" title=\"Иркутск\">Иркутск</a>, <a href=\"/wiki/%D0%9D%D0%B0%D0%B1%D0%B5%D1%80%D0%B5%D0%B6%D0%BD%D1%8B%D0%B5_%D0%A7%D0%B5%D0%BB%D0%BD%D1%8B\" title=\"Набережные Челны\">Набережные Челны</a>, <a href=\"/wiki/%D0%9D%D0%BE%D0%B2%D0%BE%D0%BA%D1%83%D0%B7%D0%BD%D0%B5%D1%86%D0%BA\" title=\"Новокузнецк\">Новокузнецк</a>, <a href=\"/wiki/%D0%A1%D0%B0%D1%80%D0%B0%D1%82%D0%BE%D0%B2\" title=\"Саратов\">Саратов</a>, <a href=\"/wiki/%D0%A2%D1%83%D0%BB%D0%B0\" title=\"Тула\">Тула</a>, <a href=\"/wiki/%D0%A3%D0%BB%D1%8C%D1%8F%D0%BD%D0%BE%D0%B2%D1%81%D0%BA\" title=\"Ульяновск\">Ульяновск</a>. Однако далеко не все среди них являются межрегиональными центрами социально-экономического развития и притяжения для окружающих регионов или хотя бы претендуют на этот статус.\\n</p>\\n<h2><span id=\".D0.9F.D1.80.D0.B5.D0.B4.D1.8B.D1.81.D1.82.D0.BE.D1.80.D0.B8.D1.8F\"></span><span class=\"mw-headline\" id=\"Предыстория\">Предыстория</span><span class=\"mw-editsection\"><span class=\"mw-editsection-bracket\">[</span><a href=\"/w/index.php?title=%D0%93%D0%BE%D1%80%D0%BE%D0%B4%D0%B0-%D0%BC%D0%B8%D0%BB%D0%BB%D0%B8%D0%BE%D0%BD%D0%B5%D1%80%D1%8B_%D0%A0%D0%BE%D1%81%D1%81%D0%B8%D0%B8&amp;veaction=edit&amp;section=7\" class=\"mw-editsection-visualeditor\" title=\"Редактировать раздел «Предыстория»\">править</a><span class=\"mw-editsection-divider\"> | </span><a href=\"/w/index.php?title=%D0%93%D0%BE%D1%80%D0%BE%D0%B4%D0%B0-%D0%BC%D0%B8%D0%BB%D0%BB%D0%B8%D0%BE%D0%BD%D0%B5%D1%80%D1%8B_%D0%A0%D0%BE%D1%81%D1%81%D0%B8%D0%B8&amp;action=edit&amp;section=7\" title=\"Edit section&#039;s source code: Предыстория\">править код</a><span class=\"mw-editsection-bracket\">]</span></span></h2>\\n<table class=\"mbox-Нет_ссылок plainlinks metadata ambox ambox-content\" role=\"presentation\"><tbody><tr><td class=\"mbox-image\"><div style=\"width:52px\"><span typeof=\"mw:File\"><span><img alt=\"\" src=\"//upload.wikimedia.org/wikipedia/commons/thumb/6/64/Question_book-4.svg/48px-Question_book-4.svg.png\" decoding=\"async\" width=\"48\" height=\"37\" class=\"mw-file-element\" srcset=\"//upload.wikimedia.org/wikipedia/commons/thumb/6/64/Question_book-4.svg/72px-Question_book-4.svg.png 1.5x, //upload.wikimedia.org/wikipedia/commons/thumb/6/64/Question_book-4.svg/96px-Question_book-4.svg.png 2x\" data-file-width=\"262\" data-file-height=\"204\" /></span></span></div></td><td class=\"mbox-text\"><div class=\"mbox-text-div\">В разделе <b>не хватает <a href=\"/wiki/%D0%92%D0%B8%D0%BA%D0%B8%D0%BF%D0%B5%D0%B4%D0%B8%D1%8F:%D0%A1%D1%81%D1%8B%D0%BB%D0%BA%D0%B8_%D0%BD%D0%B0_%D0%B8%D1%81%D1%82%D0%BE%D1%87%D0%BD%D0%B8%D0%BA%D0%B8\" title=\"Википедия:Ссылки на источники\">ссылок на источники</a></b> (см. <a href=\"/wiki/%D0%92%D0%B8%D0%BA%D0%B8%D0%BF%D0%B5%D0%B4%D0%B8%D1%8F:%D0%9F%D0%BE%D0%B8%D1%81%D0%BA_%D0%B8%D1%81%D1%82%D0%BE%D1%87%D0%BD%D0%B8%D0%BA%D0%BE%D0%B2\" title=\"Википедия:Поиск источников\">рекомендации по поиску</a>).</div><div class=\"mbox-textsmall-div hide-when-compact\" style=\"font-size:85%\"><span class=\"hide-when-compact\"> Информация должна быть <a href=\"/wiki/%D0%92%D0%B8%D0%BA%D0%B8%D0%BF%D0%B5%D0%B4%D0%B8%D1%8F:%D0%9F%D1%80%D0%BE%D0%B2%D0%B5%D1%80%D1%8F%D0%B5%D0%BC%D0%BE%D1%81%D1%82%D1%8C\" title=\"Википедия:Проверяемость\">проверяема</a>, иначе она может быть удалена. Вы можете <a class=\"external text\" href=\"https://ru.wikipedia.org/w/index.php?title=%D0%93%D0%BE%D1%80%D0%BE%D0%B4%D0%B0-%D0%BC%D0%B8%D0%BB%D0%BB%D0%B8%D0%BE%D0%BD%D0%B5%D1%80%D1%8B_%D0%A0%D0%BE%D1%81%D1%81%D0%B8%D0%B8&amp;action=edit\">отредактировать</a> статью, добавив ссылки на <a href=\"/wiki/%D0%92%D0%B8%D0%BA%D0%B8%D0%BF%D0%B5%D0%B4%D0%B8%D1%8F:%D0%90%D0%B2%D1%82%D0%BE%D1%80%D0%B8%D1%82%D0%B5%D1%82%D0%BD%D1%8B%D0%B5_%D0%B8%D1%81%D1%82%D0%BE%D1%87%D0%BD%D0%B8%D0%BA%D0%B8\" title=\"Википедия:Авторитетные источники\">авторитетные источники</a> в виде <a href=\"/wiki/%D0%92%D0%B8%D0%BA%D0%B8%D0%BF%D0%B5%D0%B4%D0%B8%D1%8F:%D0%A1%D0%BD%D0%BE%D1%81%D0%BA%D0%B8\" title=\"Википедия:Сноски\">сносок</a>.</span>  <span class=\"mbox-date\"><i>(<span class=\"date\">5 сентября 2022</span>)</i></span></div></td></tr></tbody></table>\\n<p>Население крупнейших городов Киевской Руси (Киева, Новгорода, Чернигова и Владимира), согласно оценкам, не превышало 100 тыс. человек.\\n</p><p>В Российской империи, несмотря на рост численности городского населения, его доля оставалась очень низкой, поскольку естественный прирост сельского населения был выше. Большую часть городского населения составляли жители небольших городков, которые нередко мало чем отличались от крупных сельских поселений.\\n</p><p><a href=\"/wiki/%D0%A3%D1%80%D0%B1%D0%B0%D0%BD%D0%B8%D0%B7%D0%B0%D1%86%D0%B8%D1%8F\" title=\"Урбанизация\">Урбанизация</a> в России началась только в середине XIX века в связи с развитием промышленности, транспорта и торговли, отменой крепостного права и массовой миграцией сельских жителей в города.\\n</p>\\n<h2><span id=\".D0.A1.D1.82.D0.B0.D0.BD.D0.BE.D0.B2.D0.BB.D0.B5.D0.BD.D0.B8.D0.B5_.D0.BF.D0.B5.D1.80.D0.B2.D1.8B.D1.85_.D0.B3.D0.BE.D1.80.D0.BE.D0.B4.D0.BE.D0.B2-.D0.BC.D0.B8.D0.BB.D0.BB.D0.B8.D0.BE.D0.BD.D0.B5.D1.80.D0.BE.D0.B2_.D0.B8_.D0.B3.D0.BE.D1.80.D0.BE.D0.B4.D0.B0-.D0.BC.D1.83.D0.BB.D1.8C.D1.82.D0.B8.D0.BC.D0.B8.D0.BB.D0.BB.D0.B8.D0.BE.D0.BD.D0.B5.D1.80.D1.8B\"></span><span class=\"mw-headline\" id=\"Становление_первых_городов-миллионеров_и_города-мультимиллионеры\">Становление первых городов-миллионеров и города-мультимиллионеры</span><span class=\"mw-editsection\"><span class=\"mw-editsection-bracket\">[</span><a href=\"/w/index.php?title=%D0%93%D0%BE%D1%80%D0%BE%D0%B4%D0%B0-%D0%BC%D0%B8%D0%BB%D0%BB%D0%B8%D0%BE%D0%BD%D0%B5%D1%80%D1%8B_%D0%A0%D0%BE%D1%81%D1%81%D0%B8%D0%B8&amp;veaction=edit&amp;section=8\" class=\"mw-editsection-visualeditor\" title=\"Редактировать раздел «Становление первых городов-миллионеров и города-мультимиллионеры»\">править</a><span class=\"mw-editsection-divider\"> | </span><a href=\"/w/index.php?title=%D0%93%D0%BE%D1%80%D0%BE%D0%B4%D0%B0-%D0%BC%D0%B8%D0%BB%D0%BB%D0%B8%D0%BE%D0%BD%D0%B5%D1%80%D1%8B_%D0%A0%D0%BE%D1%81%D1%81%D0%B8%D0%B8&amp;action=edit&amp;section=8\" title=\"Edit section&#039;s source code: Становление первых городов-миллионеров и города-мультимиллионеры\">править код</a><span class=\"mw-editsection-bracket\">]</span></span></h2>\\n<table class=\"mbox-Нет_ссылок plainlinks metadata ambox ambox-content\" role=\"presentation\"><tbody><tr><td class=\"mbox-image\"><div style=\"width:52px\"><span typeof=\"mw:File\"><span><img alt=\"\" src=\"//upload.wikimedia.org/wikipedia/commons/thumb/6/64/Question_book-4.svg/48px-Question_book-4.svg.png\" decoding=\"async\" width=\"48\" height=\"37\" class=\"mw-file-element\" srcset=\"//upload.wikimedia.org/wikipedia/commons/thumb/6/64/Question_book-4.svg/72px-Question_book-4.svg.png 1.5x, //upload.wikimedia.org/wikipedia/commons/thumb/6/64/Question_book-4.svg/96px-Question_book-4.svg.png 2x\" data-file-width=\"262\" data-file-height=\"204\" /></span></span></div></td><td class=\"mbox-text\"><div class=\"mbox-text-div\">В разделе <b>не хватает <a href=\"/wiki/%D0%92%D0%B8%D0%BA%D0%B8%D0%BF%D0%B5%D0%B4%D0%B8%D1%8F:%D0%A1%D1%81%D1%8B%D0%BB%D0%BA%D0%B8_%D0%BD%D0%B0_%D0%B8%D1%81%D1%82%D0%BE%D1%87%D0%BD%D0%B8%D0%BA%D0%B8\" title=\"Википедия:Ссылки на источники\">ссылок на источники</a></b> (см. <a href=\"/wiki/%D0%92%D0%B8%D0%BA%D0%B8%D0%BF%D0%B5%D0%B4%D0%B8%D1%8F:%D0%9F%D0%BE%D0%B8%D1%81%D0%BA_%D0%B8%D1%81%D1%82%D0%BE%D1%87%D0%BD%D0%B8%D0%BA%D0%BE%D0%B2\" title=\"Википедия:Поиск источников\">рекомендации по поиску</a>).</div><div class=\"mbox-textsmall-div hide-when-compact\" style=\"font-size:85%\"><span class=\"hide-when-compact\"> Информация должна быть <a href=\"/wiki/%D0%92%D0%B8%D0%BA%D0%B8%D0%BF%D0%B5%D0%B4%D0%B8%D1%8F:%D0%9F%D1%80%D0%BE%D0%B2%D0%B5%D1%80%D1%8F%D0%B5%D0%BC%D0%BE%D1%81%D1%82%D1%8C\" title=\"Википедия:Проверяемость\">проверяема</a>, иначе она может быть удалена. Вы можете <a class=\"external text\" href=\"https://ru.wikipedia.org/w/index.php?title=%D0%93%D0%BE%D1%80%D0%BE%D0%B4%D0%B0-%D0%BC%D0%B8%D0%BB%D0%BB%D0%B8%D0%BE%D0%BD%D0%B5%D1%80%D1%8B_%D0%A0%D0%BE%D1%81%D1%81%D0%B8%D0%B8&amp;action=edit\">отредактировать</a> статью, добавив ссылки на <a href=\"/wiki/%D0%92%D0%B8%D0%BA%D0%B8%D0%BF%D0%B5%D0%B4%D0%B8%D1%8F:%D0%90%D0%B2%D1%82%D0%BE%D1%80%D0%B8%D1%82%D0%B5%D1%82%D0%BD%D1%8B%D0%B5_%D0%B8%D1%81%D1%82%D0%BE%D1%87%D0%BD%D0%B8%D0%BA%D0%B8\" title=\"Википедия:Авторитетные источники\">авторитетные источники</a> в виде <a href=\"/wiki/%D0%92%D0%B8%D0%BA%D0%B8%D0%BF%D0%B5%D0%B4%D0%B8%D1%8F:%D0%A1%D0%BD%D0%BE%D1%81%D0%BA%D0%B8\" title=\"Википедия:Сноски\">сносок</a>.</span>  <span class=\"mbox-date\"><i>(<span class=\"date\">24 апреля 2022</span>)</i></span></div></td></tr></tbody></table>\\n<figure class=\"mw-halign-right\" typeof=\"mw:File/Thumb\"><a href=\"/wiki/%D0%A4%D0%B0%D0%B9%D0%BB:Moscow_and_St.Petersburg_population.png\" class=\"mw-file-description\"><img src=\"//upload.wikimedia.org/wikipedia/ru/thumb/9/9f/Moscow_and_St.Petersburg_population.png/350px-Moscow_and_St.Petersburg_population.png\" decoding=\"async\" width=\"350\" height=\"263\" class=\"mw-file-element\" srcset=\"//upload.wikimedia.org/wikipedia/ru/thumb/9/9f/Moscow_and_St.Petersburg_population.png/525px-Moscow_and_St.Petersburg_population.png 1.5x, //upload.wikimedia.org/wikipedia/ru/thumb/9/9f/Moscow_and_St.Petersburg_population.png/700px-Moscow_and_St.Petersburg_population.png 2x\" data-file-width=\"951\" data-file-height=\"714\" /></a><figcaption>Население <a href=\"/wiki/%D0%9C%D0%BE%D1%81%D0%BA%D0%B2%D0%B0\" title=\"Москва\">Москвы</a> и <a href=\"/wiki/%D0%A1%D0%B0%D0%BD%D0%BA%D1%82-%D0%9F%D0%B5%D1%82%D0%B5%D1%80%D0%B1%D1%83%D1%80%D0%B3\" title=\"Санкт-Петербург\">Санкт-Петербурга</a>.</figcaption></figure>\\n<p>Статус городов-миллионеров <a href=\"/wiki/%D0%A1%D0%B0%D0%BD%D0%BA%D1%82-%D0%9F%D0%B5%D1%82%D0%B5%D1%80%D0%B1%D1%83%D1%80%D0%B3\" title=\"Санкт-Петербург\">Санкт-Петербург</a>, а за ним и <a href=\"/wiki/%D0%9C%D0%BE%D1%81%D0%BA%D0%B2%D0%B0\" title=\"Москва\">Москва</a> приобрели в конце XIX века.\\n</p>\\n<h3><span id=\".D0.A1.D0.B0.D0.BD.D0.BA.D1.82-.D0.9F.D0.B5.D1.82.D0.B5.D1.80.D0.B1.D1.83.D1.80.D0.B3\"></span><span class=\"mw-headline\" id=\"Санкт-Петербург\">Санкт-Петербург</span><span class=\"mw-editsection\"><span class=\"mw-editsection-bracket\">[</span><a href=\"/w/index.php?title=%D0%93%D0%BE%D1%80%D0%BE%D0%B4%D0%B0-%D0%BC%D0%B8%D0%BB%D0%BB%D0%B8%D0%BE%D0%BD%D0%B5%D1%80%D1%8B_%D0%A0%D0%BE%D1%81%D1%81%D0%B8%D0%B8&amp;veaction=edit&amp;section=9\" class=\"mw-editsection-visualeditor\" title=\"Редактировать раздел «Санкт-Петербург»\">править</a><span class=\"mw-editsection-divider\"> | </span><a href=\"/w/index.php?title=%D0%93%D0%BE%D1%80%D0%BE%D0%B4%D0%B0-%D0%BC%D0%B8%D0%BB%D0%BB%D0%B8%D0%BE%D0%BD%D0%B5%D1%80%D1%8B_%D0%A0%D0%BE%D1%81%D1%81%D0%B8%D0%B8&amp;action=edit&amp;section=9\" title=\"Edit section&#039;s source code: Санкт-Петербург\">править код</a><span class=\"mw-editsection-bracket\">]</span></span></h3>\\n<div class=\"hatnote navigation-not-searchable\">Основная статья: <b><a href=\"/wiki/%D0%9D%D0%B0%D1%81%D0%B5%D0%BB%D0%B5%D0%BD%D0%B8%D0%B5_%D0%A1%D0%B0%D0%BD%D0%BA%D1%82-%D0%9F%D0%B5%D1%82%D0%B5%D1%80%D0%B1%D1%83%D1%80%D0%B3%D0%B0\" title=\"Население Санкт-Петербурга\">Население Санкт-Петербурга</a></b></div>\\n<p>История российских городов-миллионеров и крупных городских агломераций началась около <a href=\"/wiki/1890_%D0%B3%D0%BE%D0%B4\" title=\"1890 год\">1890 года</a>, когда население <a href=\"/wiki/%D0%A1%D1%82%D0%BE%D0%BB%D0%B8%D1%86%D1%8B_%D0%A0%D0%BE%D1%81%D1%81%D0%B8%D0%B8\" title=\"Столицы России\">столицы</a> Санкт-Петербурга перешагнуло миллионную отметку (в <a href=\"/wiki/1858_%D0%B3%D0%BE%D0%B4\" title=\"1858 год\">1858 году</a> до отмены крепостного права в городе насчитывалось 520,1 тыс. жителей). Бурный рост его населения продолжался до революции 1917 года, когда в городе насчитывалось порядка 2,4&#160;млн жителей.\\n</p><p>Потрясения времён Гражданской войны привели к сильной <a href=\"/wiki/%D0%94%D0%B5%D0%BF%D0%BE%D0%BF%D1%83%D0%BB%D1%8F%D1%86%D0%B8%D1%8F\" title=\"Депопуляция\">депопуляции</a> Петрограда, перенос столицы в Москву также имел негативные последствия для численности населения города. В <a href=\"/wiki/1920_%D0%B3%D0%BE%D0%B4\" title=\"1920 год\">1920 году</a> в городе осталось лишь 722 тыс. жителей.\\n</p><p>Стабилизация обстановки в стране и <a href=\"/wiki/%D0%9D%D0%BE%D0%B2%D0%B0%D1%8F_%D1%8D%D0%BA%D0%BE%D0%BD%D0%BE%D0%BC%D0%B8%D1%87%D0%B5%D1%81%D0%BA%D0%B0%D1%8F_%D0%BF%D0%BE%D0%BB%D0%B8%D1%82%D0%B8%D0%BA%D0%B0\" title=\"Новая экономическая политика\">НЭП</a> способствовали некоторому экономическому оживлению, повлёкшими второй этап роста населения Ленинграда&#160;— до 3,25&#160;млн человек перед <a href=\"/wiki/%D0%92%D0%B5%D0%BB%D0%B8%D0%BA%D0%B0%D1%8F_%D0%9E%D1%82%D0%B5%D1%87%D0%B5%D1%81%D1%82%D0%B2%D0%B5%D0%BD%D0%BD%D0%B0%D1%8F_%D0%B2%D0%BE%D0%B9%D0%BD%D0%B0\" title=\"Великая Отечественная война\">Великой Отечественной войной</a>. С середины 1930-х советским правительством и ленинградской администрацией предпринимались безуспешные попытки <a href=\"/wiki/%D0%9B%D0%B8%D0%BC%D0%B8%D1%82%D1%87%D0%B8%D0%BA%D0%B8\" class=\"mw-redirect\" title=\"Лимитчики\">ограничить</a> рост населения города: возник типично советский институт <a href=\"/wiki/%D0%9F%D1%80%D0%BE%D0%BF%D0%B8%D1%81%D0%BA%D0%B0\" title=\"Прописка\">прописки</a>.\\n</p><p><a href=\"/wiki/%D0%91%D0%BB%D0%BE%D0%BA%D0%B0%D0%B4%D0%B0_%D0%9B%D0%B5%D0%BD%D0%B8%D0%BD%D0%B3%D1%80%D0%B0%D0%B4%D0%B0\" title=\"Блокада Ленинграда\">Блокада Ленинграда</a>, активные военные действия и эвакуация привели к сокращению гражданского населения в 1944 году до 0,5&#160;млн человек.\\n</p><p>Третий этап роста начался после <a href=\"/wiki/%D0%AF%D0%BD%D0%B2%D0%B0%D1%80%D1%81%D0%BA%D0%B8%D0%B9_%D0%B3%D1%80%D0%BE%D0%BC\" title=\"Январский гром\">снятия блокады в 1944 году</a>, когда в город вернулись эвакуированные и усилился приток населения из соседних аграрных областей. К <a href=\"/wiki/1988_%D0%B3%D0%BE%D0%B4\" title=\"1988 год\">1988 году</a> население города достигло отметки в 5&#160;млн жителей.\\n</p><p>С начала 1990-х в связи с <a href=\"/wiki/%D0%94%D0%B5%D0%BC%D0%BE%D0%B3%D1%80%D0%B0%D1%84%D0%B8%D1%87%D0%B5%D1%81%D0%BA%D0%B8%D0%B9_%D0%BA%D1%80%D0%B8%D0%B7%D0%B8%D1%81_%D0%B2_%D0%A0%D0%BE%D1%81%D1%81%D0%B8%D0%B9%D1%81%D0%BA%D0%BE%D0%B9_%D0%A4%D0%B5%D0%B4%D0%B5%D1%80%D0%B0%D1%86%D0%B8%D0%B8\" title=\"Демографический кризис в Российской Федерации\">ухудшением демографической ситуации</a> (а также эмиграцией до середины 1990-х) население города начало уменьшаться и к 2008 году оно составило чуть более 4,5&#160;млн человек. В сентябре 2012 года население вновь преодолело отметку в 5&#160;млн человек. По состоянию на 2022 год население составляет 5,2&#160;млн человек.\\n</p>\\n<table class=\"standard\"><caption style=\"background-color:#ebf3ff;border:1px solid #d6dadd\">Численность населения</caption><tbody><tr class=\"bright\"><th scope=\"col\">1764<sup id=\"cite_ref-1764A_16-0\" class=\"reference\"><a href=\"#cite_note-1764A-16\">&#91;10&#93;</a></sup></th><th scope=\"col\">1765<sup id=\"cite_ref-1765BA_17-0\" class=\"reference\"><a href=\"#cite_note-1765BA-17\">&#91;11&#93;</a></sup></th><th scope=\"col\">1780<sup id=\"cite_ref-1765BA_17-1\" class=\"reference\"><a href=\"#cite_note-1765BA-17\">&#91;11&#93;</a></sup></th><th scope=\"col\">1789<sup id=\"cite_ref-1765BA_17-2\" class=\"reference\"><a href=\"#cite_note-1765BA-17\">&#91;11&#93;</a></sup></th><th scope=\"col\">1800<sup id=\"cite_ref-1764A_16-1\" class=\"reference\"><a href=\"#cite_note-1764A-16\">&#91;10&#93;</a></sup></th><th scope=\"col\">1811<sup id=\"cite_ref-1765BA_17-3\" class=\"reference\"><a href=\"#cite_note-1765BA-17\">&#91;11&#93;</a></sup></th><th scope=\"col\">1817<sup id=\"cite_ref-1765BA_17-4\" class=\"reference\"><a href=\"#cite_note-1765BA-17\">&#91;11&#93;</a></sup></th></tr><tr style=\"text-align:center\"><td>149&#160;700</td><td><span style=\"color: #0c0; font-weight:bold; font-size: larger;\">↗</span>150&#160;300</td><td><span style=\"color: #0c0; font-weight:bold; font-size: larger;\">↗</span>174&#160;800</td><td><span style=\"color: #0c0; font-weight:bold; font-size: larger;\">↗</span>217&#160;900</td><td><span style=\"color: #0c0; font-weight:bold; font-size: larger;\">↗</span>220&#160;200</td><td><span style=\"color: #0c0; font-weight:bold; font-size: larger;\">↗</span>335&#160;600</td><td><span style=\"color: #0c0; font-weight:bold; font-size: larger;\">↗</span>363&#160;900</td></tr><tr class=\"bright\"><th scope=\"col\">1825<sup id=\"cite_ref-1765BA_17-5\" class=\"reference\"><a href=\"#cite_note-1765BA-17\">&#91;11&#93;</a></sup></th><th scope=\"col\">1833<sup id=\"cite_ref-1765BA_17-6\" class=\"reference\"><a href=\"#cite_note-1765BA-17\">&#91;11&#93;</a></sup></th><th scope=\"col\">1837<sup id=\"cite_ref-1765BA_17-7\" class=\"reference\"><a href=\"#cite_note-1765BA-17\">&#91;11&#93;</a></sup></th><th scope=\"col\">1840<sup id=\"cite_ref-1765BA_17-8\" class=\"reference\"><a href=\"#cite_note-1765BA-17\">&#91;11&#93;</a></sup></th><th scope=\"col\">1850<sup id=\"cite_ref-1764A_16-2\" class=\"reference\"><a href=\"#cite_note-1764A-16\">&#91;10&#93;</a></sup></th><th scope=\"col\">1852<sup id=\"cite_ref-1765BA_17-9\" class=\"reference\"><a href=\"#cite_note-1765BA-17\">&#91;11&#93;</a></sup></th><th scope=\"col\">1863<sup id=\"cite_ref-1765BA_17-10\" class=\"reference\"><a href=\"#cite_note-1765BA-17\">&#91;11&#93;</a></sup></th></tr><tr style=\"text-align:center\"><td><span style=\"color: #0c0; font-weight:bold; font-size: larger;\">↗</span>424&#160;700</td><td><span style=\"color: #0c0; font-weight:bold; font-size: larger;\">↗</span>442&#160;900</td><td><span style=\"color: #0c0; font-weight:bold; font-size: larger;\">↗</span>468&#160;800</td><td><span style=\"color: #0c0; font-weight:bold; font-size: larger;\">↗</span>470&#160;200</td><td><span style=\"color: #0c0; font-weight:bold; font-size: larger;\">↗</span>487&#160;300</td><td><span style=\"color: #0c0; font-weight:bold; font-size: larger;\">↗</span>532&#160;200</td><td><span style=\"color: #0c0; font-weight:bold; font-size: larger;\">↗</span>539&#160;500</td></tr><tr class=\"bright\"><th scope=\"col\">1870<sup id=\"cite_ref-1765BA_17-11\" class=\"reference\"><a href=\"#cite_note-1765BA-17\">&#91;11&#93;</a></sup></th><th scope=\"col\">1882<sup id=\"cite_ref-1765BA_17-12\" class=\"reference\"><a href=\"#cite_note-1765BA-17\">&#91;11&#93;</a></sup></th><th scope=\"col\">1891<sup id=\"cite_ref-1765BA_17-13\" class=\"reference\"><a href=\"#cite_note-1765BA-17\">&#91;11&#93;</a></sup></th><th scope=\"col\">1897<sup id=\"cite_ref-1897X_18-0\" class=\"reference\"><a href=\"#cite_note-1897X-18\">&#91;12&#93;</a></sup></th><th scope=\"col\">1900<sup id=\"cite_ref-1764A_16-3\" class=\"reference\"><a href=\"#cite_note-1764A-16\">&#91;10&#93;</a></sup></th><th scope=\"col\">1901<sup id=\"cite_ref-1765BA_17-14\" class=\"reference\"><a href=\"#cite_note-1765BA-17\">&#91;11&#93;</a></sup></th><th scope=\"col\">1910<sup id=\"cite_ref-1765BA_17-15\" class=\"reference\"><a href=\"#cite_note-1765BA-17\">&#91;11&#93;</a></sup></th></tr><tr style=\"text-align:center\"><td><span style=\"color: #0c0; font-weight:bold; font-size: larger;\">↗</span>668&#160;000</td><td><span style=\"color: #0c0; font-weight:bold; font-size: larger;\">↗</span>928&#160;000</td><td><span style=\"color: #0c0; font-weight:bold; font-size: larger;\">↗</span>1&#160;033&#160;600</td><td><span style=\"color: #0c0; font-weight:bold; font-size: larger;\">↗</span>1&#160;264&#160;920</td><td><span style=\"color: #0c0; font-weight:bold; font-size: larger;\">↗</span>1&#160;418&#160;000</td><td><span style=\"color: #0c0; font-weight:bold; font-size: larger;\">↗</span>1&#160;439&#160;600</td><td><span style=\"color: #0c0; font-weight:bold; font-size: larger;\">↗</span>1&#160;905&#160;600</td></tr><tr class=\"bright\"><th scope=\"col\">1914<sup id=\"cite_ref-1765BA_17-16\" class=\"reference\"><a href=\"#cite_note-1765BA-17\">&#91;11&#93;</a></sup></th><th scope=\"col\">1915<sup id=\"cite_ref-1764A_16-4\" class=\"reference\"><a href=\"#cite_note-1764A-16\">&#91;10&#93;</a></sup></th><th scope=\"col\">1916<sup id=\"cite_ref-1764A_16-5\" class=\"reference\"><a href=\"#cite_note-1764A-16\">&#91;10&#93;</a></sup></th><th scope=\"col\">1917<sup id=\"cite_ref-1764A_16-6\" class=\"reference\"><a href=\"#cite_note-1764A-16\">&#91;10&#93;</a></sup></th><th scope=\"col\">1918<sup id=\"cite_ref-1764A_16-7\" class=\"reference\"><a href=\"#cite_note-1764A-16\">&#91;10&#93;</a></sup></th><th scope=\"col\">1919<sup id=\"cite_ref-1764A_16-8\" class=\"reference\"><a href=\"#cite_note-1764A-16\">&#91;10&#93;</a></sup></th><th scope=\"col\">1920<sup id=\"cite_ref-1764A_16-9\" class=\"reference\"><a href=\"#cite_note-1764A-16\">&#91;10&#93;</a></sup></th></tr><tr style=\"text-align:center\"><td><span style=\"color: #0c0; font-weight:bold; font-size: larger;\">↗</span>2&#160;118&#160;500</td><td><span style=\"color: #0c0; font-weight:bold; font-size: larger;\">↗</span>2&#160;314&#160;500</td><td><span style=\"color: #0c0; font-weight:bold; font-size: larger;\">↗</span>2&#160;415&#160;700</td><td><span style=\"color: red; font-weight:bold; font-size: larger;\">↘</span>2&#160;300&#160;000</td><td><span style=\"color: red; font-weight:bold; font-size: larger;\">↘</span>1&#160;469&#160;000</td><td><span style=\"color: red; font-weight:bold; font-size: larger;\">↘</span>900&#160;000</td><td><span style=\"color: red; font-weight:bold; font-size: larger;\">↘</span>740&#160;000</td></tr><tr class=\"bright\"><th scope=\"col\">1921<sup id=\"cite_ref-1764A_16-10\" class=\"reference\"><a href=\"#cite_note-1764A-16\">&#91;10&#93;</a></sup></th><th scope=\"col\">1922<sup id=\"cite_ref-1764A_16-11\" class=\"reference\"><a href=\"#cite_note-1764A-16\">&#91;10&#93;</a></sup></th><th scope=\"col\">1923<sup id=\"cite_ref-1764A_16-12\" class=\"reference\"><a href=\"#cite_note-1764A-16\">&#91;10&#93;</a></sup></th><th scope=\"col\">1924<sup id=\"cite_ref-1764A_16-13\" class=\"reference\"><a href=\"#cite_note-1764A-16\">&#91;10&#93;</a></sup></th><th scope=\"col\">1925<sup id=\"cite_ref-1764A_16-14\" class=\"reference\"><a href=\"#cite_note-1764A-16\">&#91;10&#93;</a></sup></th><th scope=\"col\">1926<sup id=\"cite_ref-1937PER_19-0\" class=\"reference\"><a href=\"#cite_note-1937PER-19\">&#91;13&#93;</a></sup></th><th scope=\"col\">1928<sup id=\"cite_ref-20\" class=\"reference\"><a href=\"#cite_note-20\">&#91;14&#93;</a></sup></th></tr><tr style=\"text-align:center\"><td><span style=\"color: #0c0; font-weight:bold; font-size: larger;\">↗</span>830&#160;000</td><td><span style=\"color: #0c0; font-weight:bold; font-size: larger;\">↗</span>960&#160;000</td><td><span style=\"color: #0c0; font-weight:bold; font-size: larger;\">↗</span>1&#160;093&#160;000</td><td><span style=\"color: #0c0; font-weight:bold; font-size: larger;\">↗</span>1&#160;221&#160;000</td><td><span style=\"color: #0c0; font-weight:bold; font-size: larger;\">↗</span>1&#160;379&#160;000</td><td><span style=\"color: #0c0; font-weight:bold; font-size: larger;\">↗</span>1&#160;560&#160;122</td><td><span style=\"color: #0c0; font-weight:bold; font-size: larger;\">↗</span>1&#160;688&#160;300</td></tr><tr class=\"bright\"><th scope=\"col\">1930<sup id=\"cite_ref-1764A_16-15\" class=\"reference\"><a href=\"#cite_note-1764A-16\">&#91;10&#93;</a></sup></th><th scope=\"col\">1931<sup id=\"cite_ref-1931AD_21-0\" class=\"reference\"><a href=\"#cite_note-1931AD-21\">&#91;15&#93;</a></sup></th><th scope=\"col\">1935<sup id=\"cite_ref-1764A_16-16\" class=\"reference\"><a href=\"#cite_note-1764A-16\">&#91;10&#93;</a></sup></th><th scope=\"col\">1937<sup id=\"cite_ref-1937PER_19-1\" class=\"reference\"><a href=\"#cite_note-1937PER-19\">&#91;13&#93;</a></sup></th><th scope=\"col\">1939<sup id=\"cite_ref-1939AG_22-0\" class=\"reference\"><a href=\"#cite_note-1939AG-22\">&#91;16&#93;</a></sup></th><th scope=\"col\">1940<sup id=\"cite_ref-1764A_16-17\" class=\"reference\"><a href=\"#cite_note-1764A-16\">&#91;10&#93;</a></sup></th><th scope=\"col\">1941<sup id=\"cite_ref-1764A_16-18\" class=\"reference\"><a href=\"#cite_note-1764A-16\">&#91;10&#93;</a></sup></th></tr><tr style=\"text-align:center\"><td><span style=\"color: #0c0; font-weight:bold; font-size: larger;\">↗</span>2&#160;009&#160;500</td><td><span style=\"color: #0c0; font-weight:bold; font-size: larger;\">↗</span>2&#160;236&#160;515</td><td><span style=\"color: #0c0; font-weight:bold; font-size: larger;\">↗</span>2&#160;715&#160;700</td><td><span style=\"color: #0c0; font-weight:bold; font-size: larger;\">↗</span>2&#160;814&#160;474</td><td><span style=\"color: #0c0; font-weight:bold; font-size: larger;\">↗</span>3&#160;191&#160;304</td><td><span style=\"color: red; font-weight:bold; font-size: larger;\">↘</span>2&#160;920&#160;000</td><td><span style=\"color: #0c0; font-weight:bold; font-size: larger;\">↗</span>2&#160;992&#160;000</td></tr><tr class=\"bright\"><th scope=\"col\">1942<sup id=\"cite_ref-1764A_16-19\" class=\"reference\"><a href=\"#cite_note-1764A-16\">&#91;10&#93;</a></sup></th><th scope=\"col\">1943<sup id=\"cite_ref-1764A_16-20\" class=\"reference\"><a href=\"#cite_note-1764A-16\">&#91;10&#93;</a></sup></th><th scope=\"col\">1944<sup id=\"cite_ref-1764A_16-21\" class=\"reference\"><a href=\"#cite_note-1764A-16\">&#91;10&#93;</a></sup></th><th scope=\"col\">1945<sup id=\"cite_ref-1764A_16-22\" class=\"reference\"><a href=\"#cite_note-1764A-16\">&#91;10&#93;</a></sup></th><th scope=\"col\">1946<sup id=\"cite_ref-1764A_16-23\" class=\"reference\"><a href=\"#cite_note-1764A-16\">&#91;10&#93;</a></sup></th><th scope=\"col\">1947<sup id=\"cite_ref-1764A_16-24\" class=\"reference\"><a href=\"#cite_note-1764A-16\">&#91;10&#93;</a></sup></th><th scope=\"col\">1948<sup id=\"cite_ref-1764A_16-25\" class=\"reference\"><a href=\"#cite_note-1764A-16\">&#91;10&#93;</a></sup></th></tr><tr style=\"text-align:center\"><td><span style=\"color: red; font-weight:bold; font-size: larger;\">↘</span>2&#160;432&#160;000</td><td><span style=\"color: red; font-weight:bold; font-size: larger;\">↘</span>622&#160;000</td><td><span style=\"color: red; font-weight:bold; font-size: larger;\">↘</span>546&#160;000</td><td><span style=\"color: #0c0; font-weight:bold; font-size: larger;\">↗</span>927&#160;000</td><td><span style=\"color: #0c0; font-weight:bold; font-size: larger;\">↗</span>1&#160;541&#160;000</td><td><span style=\"color: #0c0; font-weight:bold; font-size: larger;\">↗</span>1&#160;920&#160;000</td><td><span style=\"color: #0c0; font-weight:bold; font-size: larger;\">↗</span>1&#160;998&#160;000</td></tr><tr class=\"bright\"><th scope=\"col\">1949<sup id=\"cite_ref-1764A_16-26\" class=\"reference\"><a href=\"#cite_note-1764A-16\">&#91;10&#93;</a></sup></th><th scope=\"col\">1950<sup id=\"cite_ref-1764A_16-27\" class=\"reference\"><a href=\"#cite_note-1764A-16\">&#91;10&#93;</a></sup></th><th scope=\"col\">1955<sup id=\"cite_ref-1764A_16-28\" class=\"reference\"><a href=\"#cite_note-1764A-16\">&#91;10&#93;</a></sup></th><th scope=\"col\">1956<sup id=\"cite_ref-1956A_23-0\" class=\"reference\"><a href=\"#cite_note-1956A-23\">&#91;17&#93;</a></sup></th><th scope=\"col\">1959<sup id=\"cite_ref-1959B_24-0\" class=\"reference\"><a href=\"#cite_note-1959B-24\">&#91;18&#93;</a></sup></th><th scope=\"col\">1960<sup id=\"cite_ref-1764A_16-29\" class=\"reference\"><a href=\"#cite_note-1764A-16\">&#91;10&#93;</a></sup></th><th scope=\"col\">1962<sup id=\"cite_ref-1765BA_17-17\" class=\"reference\"><a href=\"#cite_note-1765BA-17\">&#91;11&#93;</a></sup></th></tr><tr style=\"text-align:center\"><td><span style=\"color: #0c0; font-weight:bold; font-size: larger;\">↗</span>2&#160;218&#160;000</td><td><span style=\"color: #0c0; font-weight:bold; font-size: larger;\">↗</span>2&#160;258&#160;000</td><td><span style=\"color: #0c0; font-weight:bold; font-size: larger;\">↗</span>2&#160;797&#160;000</td><td><span style=\"color: #0c0; font-weight:bold; font-size: larger;\">↗</span>2&#160;814&#160;000</td><td><span style=\"color: #0c0; font-weight:bold; font-size: larger;\">↗</span>3&#160;321&#160;196</td><td><span style=\"color: #0c0; font-weight:bold; font-size: larger;\">↗</span>3&#160;432&#160;000</td><td><span style=\"color: red; font-weight:bold; font-size: larger;\">↘</span>3&#160;036&#160;000</td></tr><tr class=\"bright\"><th scope=\"col\">1965<sup id=\"cite_ref-1764A_16-30\" class=\"reference\"><a href=\"#cite_note-1764A-16\">&#91;10&#93;</a></sup></th><th scope=\"col\">1967<sup id=\"cite_ref-1765BA_17-18\" class=\"reference\"><a href=\"#cite_note-1765BA-17\">&#91;11&#93;</a></sup></th><th scope=\"col\">1970<sup id=\"cite_ref-1970B_25-0\" class=\"reference\"><a href=\"#cite_note-1970B-25\">&#91;19&#93;</a></sup></th><th scope=\"col\">1973<sup id=\"cite_ref-1765BA_17-19\" class=\"reference\"><a href=\"#cite_note-1765BA-17\">&#91;11&#93;</a></sup></th><th scope=\"col\">1975<sup id=\"cite_ref-1998C_26-0\" class=\"reference\"><a href=\"#cite_note-1998C-26\">&#91;20&#93;</a></sup></th><th scope=\"col\">1976<sup id=\"cite_ref-1765BA_17-20\" class=\"reference\"><a href=\"#cite_note-1765BA-17\">&#91;11&#93;</a></sup></th><th scope=\"col\">1979<sup id=\"cite_ref-1979B_27-0\" class=\"reference\"><a href=\"#cite_note-1979B-27\">&#91;21&#93;</a></sup></th></tr><tr style=\"text-align:center\"><td><span style=\"color: #0c0; font-weight:bold; font-size: larger;\">↗</span>3&#160;777&#160;200</td><td><span style=\"color: red; font-weight:bold; font-size: larger;\">↘</span>3&#160;296&#160;000</td><td><span style=\"color: #0c0; font-weight:bold; font-size: larger;\">↗</span>3&#160;949&#160;501</td><td><span style=\"color: red; font-weight:bold; font-size: larger;\">↘</span>3&#160;679&#160;000</td><td><span style=\"color: #0c0; font-weight:bold; font-size: larger;\">↗</span>4&#160;418&#160;000</td><td><span style=\"color: red; font-weight:bold; font-size: larger;\">↘</span>3&#160;915&#160;000</td><td><span style=\"color: #0c0; font-weight:bold; font-size: larger;\">↗</span>4&#160;588&#160;183</td></tr><tr class=\"bright\"><th scope=\"col\">1980<sup id=\"cite_ref-1764A_16-31\" class=\"reference\"><a href=\"#cite_note-1764A-16\">&#91;10&#93;</a></sup></th><th scope=\"col\">1981<sup id=\"cite_ref-1764A_16-32\" class=\"reference\"><a href=\"#cite_note-1764A-16\">&#91;10&#93;</a></sup></th><th scope=\"col\">1982<sup id=\"cite_ref-1764A_16-33\" class=\"reference\"><a href=\"#cite_note-1764A-16\">&#91;10&#93;</a></sup></th><th scope=\"col\">1983<sup id=\"cite_ref-1764A_16-34\" class=\"reference\"><a href=\"#cite_note-1764A-16\">&#91;10&#93;</a></sup></th><th scope=\"col\">1984<sup id=\"cite_ref-1764A_16-35\" class=\"reference\"><a href=\"#cite_note-1764A-16\">&#91;10&#93;</a></sup></th><th scope=\"col\">1985<sup id=\"cite_ref-1764A_16-36\" class=\"reference\"><a href=\"#cite_note-1764A-16\">&#91;10&#93;</a></sup></th><th scope=\"col\">1986<sup id=\"cite_ref-1764A_16-37\" class=\"reference\"><a href=\"#cite_note-1764A-16\">&#91;10&#93;</a></sup></th></tr><tr style=\"text-align:center\"><td><span style=\"color: #0c0; font-weight:bold; font-size: larger;\">↗</span>4&#160;635&#160;200</td><td><span style=\"color: #0c0; font-weight:bold; font-size: larger;\">↗</span>4&#160;669&#160;400</td><td><span style=\"color: #0c0; font-weight:bold; font-size: larger;\">↗</span>4&#160;711&#160;200</td><td><span style=\"color: #0c0; font-weight:bold; font-size: larger;\">↗</span>4&#160;762&#160;100</td><td><span style=\"color: #0c0; font-weight:bold; font-size: larger;\">↗</span>4&#160;806&#160;400</td><td><span style=\"color: #0c0; font-weight:bold; font-size: larger;\">↗</span>4&#160;844&#160;200</td><td><span style=\"color: #0c0; font-weight:bold; font-size: larger;\">↗</span>4&#160;882&#160;200</td></tr><tr class=\"bright\"><th scope=\"col\">1987<sup id=\"cite_ref-1764A_16-38\" class=\"reference\"><a href=\"#cite_note-1764A-16\">&#91;10&#93;</a></sup></th><th scope=\"col\">1988<sup id=\"cite_ref-1764A_16-39\" class=\"reference\"><a href=\"#cite_note-1764A-16\">&#91;10&#93;</a></sup></th><th scope=\"col\">1989<sup id=\"cite_ref-1989A_28-0\" class=\"reference\"><a href=\"#cite_note-1989A-28\">&#91;22&#93;</a></sup></th><th scope=\"col\">1990<sup id=\"cite_ref-1990A_29-0\" class=\"reference\"><a href=\"#cite_note-1990A-29\">&#91;23&#93;</a></sup></th><th scope=\"col\">1991<sup id=\"cite_ref-1990A_29-1\" class=\"reference\"><a href=\"#cite_note-1990A-29\">&#91;23&#93;</a></sup></th><th scope=\"col\">1992<sup id=\"cite_ref-1990A_29-2\" class=\"reference\"><a href=\"#cite_note-1990A-29\">&#91;23&#93;</a></sup></th><th scope=\"col\">1993<sup id=\"cite_ref-1990A_29-3\" class=\"reference\"><a href=\"#cite_note-1990A-29\">&#91;23&#93;</a></sup></th></tr><tr style=\"text-align:center\"><td><span style=\"color: #0c0; font-weight:bold; font-size: larger;\">↗</span>4&#160;931&#160;200</td><td><span style=\"color: #0c0; font-weight:bold; font-size: larger;\">↗</span>4&#160;986&#160;900</td><td><span style=\"color: #0c0; font-weight:bold; font-size: larger;\">↗</span>5&#160;023&#160;506</td><td><span style=\"color: red; font-weight:bold; font-size: larger;\">↘</span>5&#160;002&#160;444</td><td><span style=\"color: #0c0; font-weight:bold; font-size: larger;\">↗</span>5&#160;007&#160;469</td><td><span style=\"color: red; font-weight:bold; font-size: larger;\">↘</span>4&#160;986&#160;405</td><td><span style=\"color: red; font-weight:bold; font-size: larger;\">↘</span>4&#160;942&#160;891</td></tr><tr class=\"bright\"><th scope=\"col\">1994<sup id=\"cite_ref-1990A_29-4\" class=\"reference\"><a href=\"#cite_note-1990A-29\">&#91;23&#93;</a></sup></th><th scope=\"col\">1995<sup id=\"cite_ref-1990A_29-5\" class=\"reference\"><a href=\"#cite_note-1990A-29\">&#91;23&#93;</a></sup></th><th scope=\"col\">1996<sup id=\"cite_ref-1990A_29-6\" class=\"reference\"><a href=\"#cite_note-1990A-29\">&#91;23&#93;</a></sup></th><th scope=\"col\">1997<sup id=\"cite_ref-1990A_29-7\" class=\"reference\"><a href=\"#cite_note-1990A-29\">&#91;23&#93;</a></sup></th><th scope=\"col\">1998<sup id=\"cite_ref-1990A_29-8\" class=\"reference\"><a href=\"#cite_note-1990A-29\">&#91;23&#93;</a></sup></th><th scope=\"col\">1999<sup id=\"cite_ref-1990A_29-9\" class=\"reference\"><a href=\"#cite_note-1990A-29\">&#91;23&#93;</a></sup></th><th scope=\"col\">2000<sup id=\"cite_ref-1990A_29-10\" class=\"reference\"><a href=\"#cite_note-1990A-29\">&#91;23&#93;</a></sup></th></tr><tr style=\"text-align:center\"><td><span style=\"color: red; font-weight:bold; font-size: larger;\">↘</span>4&#160;881&#160;563</td><td><span style=\"color: red; font-weight:bold; font-size: larger;\">↘</span>4&#160;845&#160;407</td><td><span style=\"color: red; font-weight:bold; font-size: larger;\">↘</span>4&#160;820&#160;213</td><td><span style=\"color: red; font-weight:bold; font-size: larger;\">↘</span>4&#160;806&#160;641</td><td><span style=\"color: red; font-weight:bold; font-size: larger;\">↘</span>4&#160;783&#160;982</td><td><span style=\"color: red; font-weight:bold; font-size: larger;\">↘</span>4&#160;770&#160;897</td><td><span style=\"color: red; font-weight:bold; font-size: larger;\">↘</span>4&#160;741&#160;923</td></tr><tr class=\"bright\"><th scope=\"col\">2001<sup id=\"cite_ref-1990A_29-11\" class=\"reference\"><a href=\"#cite_note-1990A-29\">&#91;23&#93;</a></sup></th><th scope=\"col\">2002<sup id=\"cite_ref-2002B_30-0\" class=\"reference\"><a href=\"#cite_note-2002B-30\">&#91;24&#93;</a></sup></th><th scope=\"col\">2003<sup id=\"cite_ref-1990A_29-12\" class=\"reference\"><a href=\"#cite_note-1990A-29\">&#91;23&#93;</a></sup></th><th scope=\"col\">2004<sup id=\"cite_ref-1990A_29-13\" class=\"reference\"><a href=\"#cite_note-1990A-29\">&#91;23&#93;</a></sup></th><th scope=\"col\">2005<sup id=\"cite_ref-1990A_29-14\" class=\"reference\"><a href=\"#cite_note-1990A-29\">&#91;23&#93;</a></sup></th><th scope=\"col\">2006<sup id=\"cite_ref-1990A_29-15\" class=\"reference\"><a href=\"#cite_note-1990A-29\">&#91;23&#93;</a></sup></th><th scope=\"col\">2007<sup id=\"cite_ref-1990A_29-16\" class=\"reference\"><a href=\"#cite_note-1990A-29\">&#91;23&#93;</a></sup></th></tr><tr style=\"text-align:center\"><td><span style=\"color: red; font-weight:bold; font-size: larger;\">↘</span>4&#160;714&#160;844</td><td><span style=\"color: red; font-weight:bold; font-size: larger;\">↘</span>4&#160;661&#160;219</td><td><span style=\"color: red; font-weight:bold; font-size: larger;\">↘</span>4&#160;656&#160;474</td><td><span style=\"color: red; font-weight:bold; font-size: larger;\">↘</span>4&#160;624&#160;083</td><td><span style=\"color: red; font-weight:bold; font-size: larger;\">↘</span>4&#160;600&#160;000</td><td><span style=\"color: red; font-weight:bold; font-size: larger;\">↘</span>4&#160;580&#160;620</td><td><span style=\"color: red; font-weight:bold; font-size: larger;\">↘</span>4&#160;571&#160;184</td></tr><tr class=\"bright\"><th scope=\"col\">2008<sup id=\"cite_ref-1990A_29-17\" class=\"reference\"><a href=\"#cite_note-1990A-29\">&#91;23&#93;</a></sup></th><th scope=\"col\">2009<sup id=\"cite_ref-1990A_29-18\" class=\"reference\"><a href=\"#cite_note-1990A-29\">&#91;23&#93;</a></sup></th><th scope=\"col\">2010<sup id=\"cite_ref-2010W_31-0\" class=\"reference\"><a href=\"#cite_note-2010W-31\">&#91;25&#93;</a></sup></th><th scope=\"col\">2011<sup id=\"cite_ref-1990A_29-19\" class=\"reference\"><a href=\"#cite_note-1990A-29\">&#91;23&#93;</a></sup></th><th scope=\"col\">2012<sup id=\"cite_ref-2012A_32-0\" class=\"reference\"><a href=\"#cite_note-2012A-32\">&#91;26&#93;</a></sup></th><th scope=\"col\">2013<sup id=\"cite_ref-2013W_33-0\" class=\"reference\"><a href=\"#cite_note-2013W-33\">&#91;27&#93;</a></sup></th><th scope=\"col\">2014<sup id=\"cite_ref-2014CQ_34-0\" class=\"reference\"><a href=\"#cite_note-2014CQ-34\">&#91;28&#93;</a></sup></th></tr><tr style=\"text-align:center\"><td><span style=\"color: red; font-weight:bold; font-size: larger;\">↘</span>4&#160;568&#160;047</td><td><span style=\"color: #0c0; font-weight:bold; font-size: larger;\">↗</span>4&#160;581&#160;854</td><td><span style=\"color: #0c0; font-weight:bold; font-size: larger;\">↗</span>4&#160;879&#160;566</td><td><span style=\"color: #0c0; font-weight:bold; font-size: larger;\">↗</span>4&#160;899&#160;344</td><td><span style=\"color: #0c0; font-weight:bold; font-size: larger;\">↗</span>4&#160;953&#160;219</td><td><span style=\"color: #0c0; font-weight:bold; font-size: larger;\">↗</span>5&#160;028&#160;000</td><td><span style=\"color: #0c0; font-weight:bold; font-size: larger;\">↗</span>5&#160;131&#160;942</td></tr><tr class=\"bright\"><th scope=\"col\">2015<sup id=\"cite_ref-2015DS_35-0\" class=\"reference\"><a href=\"#cite_note-2015DS-35\">&#91;29&#93;</a></sup></th><th scope=\"col\">2016<sup id=\"cite_ref-2016AA_36-0\" class=\"reference\"><a href=\"#cite_note-2016AA-36\">&#91;30&#93;</a></sup></th><th scope=\"col\">2017<sup id=\"cite_ref-2017AA_37-0\" class=\"reference\"><a href=\"#cite_note-2017AA-37\">&#91;31&#93;</a></sup></th><th scope=\"col\">2018<sup id=\"cite_ref-2018AA_38-0\" class=\"reference\"><a href=\"#cite_note-2018AA-38\">&#91;32&#93;</a></sup></th><th scope=\"col\">2019<sup id=\"cite_ref-2019AA_39-0\" class=\"reference\"><a href=\"#cite_note-2019AA-39\">&#91;33&#93;</a></sup></th><th scope=\"col\">2020<sup id=\"cite_ref-2020AA_40-0\" class=\"reference\"><a href=\"#cite_note-2020AA-40\">&#91;34&#93;</a></sup></th><th scope=\"col\">2021<sup id=\"cite_ref-2021RU_41-0\" class=\"reference\"><a href=\"#cite_note-2021RU-41\">&#91;35&#93;</a></sup></th></tr><tr style=\"text-align:center\"><td><span style=\"color: #0c0; font-weight:bold; font-size: larger;\">↗</span>5&#160;191&#160;690</td><td><span style=\"color: #0c0; font-weight:bold; font-size: larger;\">↗</span>5&#160;225&#160;690</td><td><span style=\"color: #0c0; font-weight:bold; font-size: larger;\">↗</span>5&#160;281&#160;579</td><td><span style=\"color: #0c0; font-weight:bold; font-size: larger;\">↗</span>5&#160;351&#160;935</td><td><span style=\"color: #0c0; font-weight:bold; font-size: larger;\">↗</span>5&#160;383&#160;890</td><td><span style=\"color: #0c0; font-weight:bold; font-size: larger;\">↗</span>5&#160;398&#160;064</td><td><span style=\"color: #0c0; font-weight:bold; font-size: larger;\">↗</span>5&#160;601&#160;911</td></tr><tr class=\"bright\"><th scope=\"col\">2022<sup id=\"cite_ref-2022AB_42-0\" class=\"reference\"><a href=\"#cite_note-2022AB-42\">&#91;36&#93;</a></sup></th><th scope=\"col\">2023<sup id=\"cite_ref-2023AA_43-0\" class=\"reference\"><a href=\"#cite_note-2023AA-43\">&#91;37&#93;</a></sup></th><th scope=\"col\"></th><th scope=\"col\"></th><th scope=\"col\"></th><th scope=\"col\"></th><th scope=\"col\"></th></tr><tr style=\"text-align:center\"><td><span style=\"color: #0c0; font-weight:bold; font-size: larger;\">↗</span>5&#160;607&#160;916</td><td><span style=\"color: red; font-weight:bold; font-size: larger;\">↘</span>5&#160;600&#160;044</td><td></td><td></td><td></td><td></td><td></td></tr></tbody></table>\\n<p>Санкт-Петербург (59.95, 30,31666759°57′ с.&#160;ш. 30°19′ в.&#160;д. / 59,95° с.&#160;ш. 30,316667° в.&#160;д. (G)) является самым близким к географическому полюсу Земли из городов мира с населением свыше миллиона человек<style data-mw-deduplicate=\"TemplateStyles:r130921360\">.mw-parser-output .ts-fix-template{white-space:nowrap}.mw-parser-output .ts-fix-error{font-size:inherit}@media screen{.mw-parser-output .ts-fix-text{border:1px solid #a2a9b1;box-decoration-break:clone;margin:0 -0.1em;padding:0 0.1em;transition:background 0.1s}.mw-parser-output :hover .ts-fix-text{background:#fee7e6}}@media screen and (hover:hover){.mw-parser-output .ts-fix-comment,.mw-parser-output .ts-fix-commented>a:not(:hover){border-bottom:1px dotted;text-decoration:none}}</style><sup class=\"ts-fix-template noprint\">&#91;<i><a href=\"/wiki/%D0%92%D0%B8%D0%BA%D0%B8%D0%BF%D0%B5%D0%B4%D0%B8%D1%8F:%D0%A1%D1%81%D1%8B%D0%BB%D0%BA%D0%B8_%D0%BD%D0%B0_%D0%B8%D1%81%D1%82%D0%BE%D1%87%D0%BD%D0%B8%D0%BA%D0%B8\" title=\"Википедия:Ссылки на источники\"><span title=\"нет источника (12 апреля 2021)\">источник&#32;не указан 867 дней</span></a></i>&#93;</sup>.\\n</p>\\n<h3><span id=\".D0.9C.D0.BE.D1.81.D0.BA.D0.B2.D0.B0\"></span><span class=\"mw-headline\" id=\"Москва\">Москва</span><span class=\"mw-editsection\"><span class=\"mw-editsection-bracket\">[</span><a href=\"/w/index.php?title=%D0%93%D0%BE%D1%80%D0%BE%D0%B4%D0%B0-%D0%BC%D0%B8%D0%BB%D0%BB%D0%B8%D0%BE%D0%BD%D0%B5%D1%80%D1%8B_%D0%A0%D0%BE%D1%81%D1%81%D0%B8%D0%B8&amp;veaction=edit&amp;section=10\" class=\"mw-editsection-visualeditor\" title=\"Редактировать раздел «Москва»\">править</a><span class=\"mw-editsection-divider\"> | </span><a href=\"/w/index.php?title=%D0%93%D0%BE%D1%80%D0%BE%D0%B4%D0%B0-%D0%BC%D0%B8%D0%BB%D0%BB%D0%B8%D0%BE%D0%BD%D0%B5%D1%80%D1%8B_%D0%A0%D0%BE%D1%81%D1%81%D0%B8%D0%B8&amp;action=edit&amp;section=10\" title=\"Edit section&#039;s source code: Москва\">править код</a><span class=\"mw-editsection-bracket\">]</span></span></h3>\\n<div class=\"hatnote navigation-not-searchable\">Основная статья: <b><a href=\"/wiki/%D0%9D%D0%B0%D1%81%D0%B5%D0%BB%D0%B5%D0%BD%D0%B8%D0%B5_%D0%9C%D0%BE%D1%81%D0%BA%D0%B2%D1%8B\" title=\"Население Москвы\">Население Москвы</a></b></div>\\n<p>После <a href=\"/wiki/%D0%9F%D0%B5%D1%80%D0%B5%D0%BD%D0%BE%D1%81_%D1%81%D1%82%D0%BE%D0%BB%D0%B8%D1%86%D1%8B_%D0%A0%D0%BE%D1%81%D1%81%D0%B8%D0%B8_%D0%B8%D0%B7_%D0%9C%D0%BE%D1%81%D0%BA%D0%B2%D1%8B_%D0%B2_%D0%A1%D0%B0%D0%BD%D0%BA%D1%82-%D0%9F%D0%B5%D1%82%D0%B5%D1%80%D0%B1%D1%83%D1%80%D0%B3\" title=\"Перенос столицы России из Москвы в Санкт-Петербург\">переноса столицы из Москвы в Петербург</a> в <a href=\"/wiki/1712_%D0%B3%D0%BE%D0%B4\" title=\"1712 год\">1712 году</a> темпы роста и численность населения последнего немного превышали московские. Тем не менее после отмены крепостного права численность населения Москвы также начала быстро увеличиваться, и к 1897 году (год проведения первой и единственной <a href=\"/wiki/%D0%9F%D0%B5%D1%80%D0%B5%D0%BF%D0%B8%D1%81%D1%8C_%D0%BD%D0%B0%D1%81%D0%B5%D0%BB%D0%B5%D0%BD%D0%B8%D1%8F_%D0%A0%D0%BE%D1%81%D1%81%D0%B8%D0%B9%D1%81%D0%BA%D0%BE%D0%B9_%D0%B8%D0%BC%D0%BF%D0%B5%D1%80%D0%B8%D0%B8_(1897)\" title=\"Перепись населения Российской империи (1897)\">переписи населения Российской империи</a>) достигла 1,038&#160;млн человек, а к 1917 году&#160;— 1,9 млн (по-прежнему уступая Петербургу с его 2,4 млн).\\n</p><p>Как и в Петербурге, катаклизмы начала XX века отразились и на динамике роста московского населения, однако, во-первых, спады были более сглаженными, а во-вторых, вновь обретённый статус российской столицы сделал Москву более привлекательной для чиновничества и экономических мигрантов. Несмотря на жёсткий институт прописки, благодаря притоку работников, набираемых для предприятий и организаций (так называемые «<a href=\"/wiki/%D0%9B%D0%B8%D0%BC%D0%B8%D1%82_%D0%BF%D1%80%D0%BE%D0%BF%D0%B8%D1%81%D0%BA%D0%B8\" title=\"Лимит прописки\">лимитчики</a>»), а также росту центральных аппаратов госучреждений и организаций науки, образования и культуры всесоюзного и всероссийского уровня, официальным и фиктивным бракам приезжих с москвичами и пр., население города во второй половине XX века увеличивалось в среднем на 1&#160;млн за 10 лет.\\n</p><p>В связи с ещё более усилившимся превышением уровня доходов и развития столицы относительно аналогичных показателей остальной части страны приток переселяющихся ради бо́льших, нежели в своих регионах и странах, заработков, приобретающих жильё обеспеченных граждан и прочих экономических мигрантов позволил Москве продолжить увеличивать свою численность населения и в постсоветское время, несмотря на негативную динамику естественного прироста страны. Согласно <a href=\"/wiki/%D0%92%D1%81%D0%B5%D1%80%D0%BE%D1%81%D1%81%D0%B8%D0%B9%D1%81%D0%BA%D0%B0%D1%8F_%D0%BF%D0%B5%D1%80%D0%B5%D0%BF%D0%B8%D1%81%D1%8C_%D0%BD%D0%B0%D1%81%D0%B5%D0%BB%D0%B5%D0%BD%D0%B8%D1%8F_(2002)\" title=\"Всероссийская перепись населения (2002)\">переписи 2002 года</a>, население города составило около 10,5&#160;млн человек, по предварительным данным <a href=\"/wiki/%D0%92%D1%81%D0%B5%D1%80%D0%BE%D1%81%D1%81%D0%B8%D0%B9%D1%81%D0%BA%D0%B0%D1%8F_%D0%BF%D0%B5%D1%80%D0%B5%D0%BF%D0%B8%D1%81%D1%8C_%D0%BD%D0%B0%D1%81%D0%B5%D0%BB%D0%B5%D0%BD%D0%B8%D1%8F_(2010)\" title=\"Всероссийская перепись населения (2010)\">переписи 2010 года</a>&#160;— около 12&#160;млн человек.\\n</p>\\n<table class=\"standard\"><caption style=\"background-color:#ebf3ff;border:1px solid #d6dadd\">Численность населения</caption><tbody><tr class=\"bright\"><th scope=\"col\">1350</th><th scope=\"col\">1400</th><th scope=\"col\">1600</th><th scope=\"col\">1638</th><th scope=\"col\">1710</th><th scope=\"col\">1725</th><th scope=\"col\">1738</th></tr><tr style=\"text-align:center\"><td>30&#160;000</td><td><span style=\"color: #0c0; font-weight:bold; font-size: larger;\">↗</span>40&#160;000</td><td><span style=\"color: #0c0; font-weight:bold; font-size: larger;\">↗</span>100&#160;000</td><td><span style=\"color: #0c0; font-weight:bold; font-size: larger;\">↗</span>200&#160;000</td><td><span style=\"color: red; font-weight:bold; font-size: larger;\">↘</span>160&#160;000</td><td><span style=\"color: red; font-weight:bold; font-size: larger;\">↘</span>145&#160;000</td><td><span style=\"color: red; font-weight:bold; font-size: larger;\">↘</span>138&#160;400</td></tr><tr class=\"bright\"><th scope=\"col\">1750</th><th scope=\"col\">1775</th><th scope=\"col\">1785<sup id=\"cite_ref-1785BA_44-0\" class=\"reference\"><a href=\"#cite_note-1785BA-44\">&#91;38&#93;</a></sup></th><th scope=\"col\">1800</th><th scope=\"col\">1811<sup id=\"cite_ref-1785BA_44-1\" class=\"reference\"><a href=\"#cite_note-1785BA-44\">&#91;38&#93;</a></sup></th><th scope=\"col\">1813</th><th scope=\"col\">1825<sup id=\"cite_ref-1785BA_44-2\" class=\"reference\"><a href=\"#cite_note-1785BA-44\">&#91;38&#93;</a></sup></th></tr><tr style=\"text-align:center\"><td><span style=\"color: red; font-weight:bold; font-size: larger;\">↘</span>130&#160;000</td><td><span style=\"color: #0c0; font-weight:bold; font-size: larger;\">↗</span>161&#160;000</td><td><span style=\"color: #0c0; font-weight:bold; font-size: larger;\">↗</span>188&#160;700</td><td><span style=\"color: #0c0; font-weight:bold; font-size: larger;\">↗</span>250&#160;000</td><td><span style=\"color: #0c0; font-weight:bold; font-size: larger;\">↗</span>270&#160;200</td><td><span style=\"color: red; font-weight:bold; font-size: larger;\">↘</span>215&#160;000</td><td><span style=\"color: #0c0; font-weight:bold; font-size: larger;\">↗</span>241&#160;500</td></tr><tr class=\"bright\"><th scope=\"col\">1830<sup id=\"cite_ref-1785BA_44-3\" class=\"reference\"><a href=\"#cite_note-1785BA-44\">&#91;38&#93;</a></sup></th><th scope=\"col\">1835<sup id=\"cite_ref-1785BA_44-4\" class=\"reference\"><a href=\"#cite_note-1785BA-44\">&#91;38&#93;</a></sup></th><th scope=\"col\">1840<sup id=\"cite_ref-1785BA_44-5\" class=\"reference\"><a href=\"#cite_note-1785BA-44\">&#91;38&#93;</a></sup></th><th scope=\"col\">1847<sup id=\"cite_ref-1785BA_44-6\" class=\"reference\"><a href=\"#cite_note-1785BA-44\">&#91;38&#93;</a></sup></th><th scope=\"col\">1852</th><th scope=\"col\">1856<sup id=\"cite_ref-1785BA_44-7\" class=\"reference\"><a href=\"#cite_note-1785BA-44\">&#91;38&#93;</a></sup></th><th scope=\"col\">1858<sup id=\"cite_ref-1785BA_44-8\" class=\"reference\"><a href=\"#cite_note-1785BA-44\">&#91;38&#93;</a></sup></th></tr><tr style=\"text-align:center\"><td><span style=\"color: #0c0; font-weight:bold; font-size: larger;\">↗</span>305&#160;600</td><td><span style=\"color: #0c0; font-weight:bold; font-size: larger;\">↗</span>335&#160;800</td><td><span style=\"color: #0c0; font-weight:bold; font-size: larger;\">↗</span>349&#160;100</td><td><span style=\"color: #0c0; font-weight:bold; font-size: larger;\">↗</span>353&#160;300</td><td><span style=\"color: #0c0; font-weight:bold; font-size: larger;\">↗</span>373&#160;800</td><td><span style=\"color: red; font-weight:bold; font-size: larger;\">↘</span>368&#160;800</td><td><span style=\"color: #0c0; font-weight:bold; font-size: larger;\">↗</span>377&#160;800</td></tr><tr class=\"bright\"><th scope=\"col\">1859<sup id=\"cite_ref-1785BA_44-9\" class=\"reference\"><a href=\"#cite_note-1785BA-44\">&#91;38&#93;</a></sup></th><th scope=\"col\">1863<sup id=\"cite_ref-1785BA_44-10\" class=\"reference\"><a href=\"#cite_note-1785BA-44\">&#91;38&#93;</a></sup></th><th scope=\"col\">1864</th><th scope=\"col\">1868</th><th scope=\"col\">1871</th><th scope=\"col\">1882<sup id=\"cite_ref-1785BA_44-11\" class=\"reference\"><a href=\"#cite_note-1785BA-44\">&#91;38&#93;</a></sup></th><th scope=\"col\">1886</th></tr><tr style=\"text-align:center\"><td><span style=\"color: #0c0; font-weight:bold; font-size: larger;\">↗</span>379&#160;300</td><td><span style=\"color: #0c0; font-weight:bold; font-size: larger;\">↗</span>462&#160;500</td><td><span style=\"color: red; font-weight:bold; font-size: larger;\">↘</span>351&#160;600</td><td><span style=\"color: #0c0; font-weight:bold; font-size: larger;\">↗</span>416&#160;400</td><td><span style=\"color: #0c0; font-weight:bold; font-size: larger;\">↗</span>601&#160;969</td><td><span style=\"color: #0c0; font-weight:bold; font-size: larger;\">↗</span>753&#160;500</td><td><span style=\"color: red; font-weight:bold; font-size: larger;\">↘</span>753&#160;459</td></tr><tr class=\"bright\"><th scope=\"col\">1891</th><th scope=\"col\">1897<sup id=\"cite_ref-1897C_45-0\" class=\"reference\"><a href=\"#cite_note-1897C-45\">&#91;39&#93;</a></sup></th><th scope=\"col\">1900</th><th scope=\"col\">1902<sup id=\"cite_ref-1785BA_44-12\" class=\"reference\"><a href=\"#cite_note-1785BA-44\">&#91;38&#93;</a></sup></th><th scope=\"col\">1907<sup id=\"cite_ref-1785BA_44-13\" class=\"reference\"><a href=\"#cite_note-1785BA-44\">&#91;38&#93;</a></sup></th><th scope=\"col\">1908</th><th scope=\"col\">1912</th></tr><tr style=\"text-align:center\"><td><span style=\"color: #0c0; font-weight:bold; font-size: larger;\">↗</span>822&#160;400</td><td><span style=\"color: #0c0; font-weight:bold; font-size: larger;\">↗</span>1&#160;039&#160;000</td><td><span style=\"color: #0c0; font-weight:bold; font-size: larger;\">↗</span>1&#160;175&#160;000</td><td><span style=\"color: red; font-weight:bold; font-size: larger;\">↘</span>1&#160;174&#160;700</td><td><span style=\"color: #0c0; font-weight:bold; font-size: larger;\">↗</span>1&#160;345&#160;700</td><td><span style=\"color: #0c0; font-weight:bold; font-size: larger;\">↗</span>1&#160;359&#160;200</td><td><span style=\"color: #0c0; font-weight:bold; font-size: larger;\">↗</span>1&#160;617&#160;157</td></tr><tr class=\"bright\"><th scope=\"col\">1913<sup id=\"cite_ref-1785BA_44-14\" class=\"reference\"><a href=\"#cite_note-1785BA-44\">&#91;38&#93;</a></sup></th><th scope=\"col\">1914<sup id=\"cite_ref-1785BA_44-15\" class=\"reference\"><a href=\"#cite_note-1785BA-44\">&#91;38&#93;</a></sup></th><th scope=\"col\">1915</th><th scope=\"col\">1917<sup id=\"cite_ref-1785BA_44-16\" class=\"reference\"><a href=\"#cite_note-1785BA-44\">&#91;38&#93;</a></sup></th><th scope=\"col\">1920</th><th scope=\"col\">1923<sup id=\"cite_ref-1785BA_44-17\" class=\"reference\"><a href=\"#cite_note-1785BA-44\">&#91;38&#93;</a></sup></th><th scope=\"col\">1926<sup id=\"cite_ref-1937PER_19-2\" class=\"reference\"><a href=\"#cite_note-1937PER-19\">&#91;13&#93;</a></sup></th></tr><tr style=\"text-align:center\"><td><span style=\"color: red; font-weight:bold; font-size: larger;\">↘</span>1&#160;563&#160;100</td><td><span style=\"color: #0c0; font-weight:bold; font-size: larger;\">↗</span>1&#160;762&#160;700</td><td><span style=\"color: #0c0; font-weight:bold; font-size: larger;\">↗</span>1&#160;817&#160;000</td><td><span style=\"color: #0c0; font-weight:bold; font-size: larger;\">↗</span>1&#160;854&#160;400</td><td><span style=\"color: red; font-weight:bold; font-size: larger;\">↘</span>1&#160;028&#160;200</td><td><span style=\"color: #0c0; font-weight:bold; font-size: larger;\">↗</span>1&#160;542&#160;900</td><td><span style=\"color: #0c0; font-weight:bold; font-size: larger;\">↗</span>1&#160;995&#160;252</td></tr><tr class=\"bright\"><th scope=\"col\">1928<sup id=\"cite_ref-1928A_46-0\" class=\"reference\"><a href=\"#cite_note-1928A-46\">&#91;40&#93;</a></sup></th><th scope=\"col\">1931<sup id=\"cite_ref-1931AD_21-1\" class=\"reference\"><a href=\"#cite_note-1931AD-21\">&#91;15&#93;</a></sup></th><th scope=\"col\">1936</th><th scope=\"col\">1937<sup id=\"cite_ref-1937PER_19-3\" class=\"reference\"><a href=\"#cite_note-1937PER-19\">&#91;13&#93;</a></sup></th><th scope=\"col\">1939<sup id=\"cite_ref-1939AH_47-0\" class=\"reference\"><a href=\"#cite_note-1939AH-47\">&#91;41&#93;</a></sup></th><th scope=\"col\">1941<sup id=\"cite_ref-2020RAN_48-0\" class=\"reference\"><a href=\"#cite_note-2020RAN-48\">&#91;42&#93;</a></sup></th><th scope=\"col\">1942<sup id=\"cite_ref-2020RAN_48-1\" class=\"reference\"><a href=\"#cite_note-2020RAN-48\">&#91;42&#93;</a></sup></th></tr><tr style=\"text-align:center\"><td><span style=\"color: #0c0; font-weight:bold; font-size: larger;\">↗</span>2&#160;127&#160;200</td><td><span style=\"color: #0c0; font-weight:bold; font-size: larger;\">↗</span>2&#160;781&#160;340</td><td><span style=\"color: #0c0; font-weight:bold; font-size: larger;\">↗</span>3&#160;641&#160;500</td><td><span style=\"color: #0c0; font-weight:bold; font-size: larger;\">↗</span>3&#160;798&#160;078</td><td><span style=\"color: #0c0; font-weight:bold; font-size: larger;\">↗</span>4&#160;131&#160;633</td><td><span style=\"color: #0c0; font-weight:bold; font-size: larger;\">↗</span>4&#160;345&#160;400</td><td><span style=\"color: red; font-weight:bold; font-size: larger;\">↘</span>2&#160;361&#160;500</td></tr><tr class=\"bright\"><th scope=\"col\">1943<sup id=\"cite_ref-2020RAN_48-2\" class=\"reference\"><a href=\"#cite_note-2020RAN-48\">&#91;42&#93;</a></sup></th><th scope=\"col\">1945<sup id=\"cite_ref-2020RAN_48-3\" class=\"reference\"><a href=\"#cite_note-2020RAN-48\">&#91;42&#93;</a></sup></th><th scope=\"col\">1956<sup id=\"cite_ref-1956A_23-1\" class=\"reference\"><a href=\"#cite_note-1956A-23\">&#91;17&#93;</a></sup></th><th scope=\"col\">1959<sup id=\"cite_ref-1959C_49-0\" class=\"reference\"><a href=\"#cite_note-1959C-49\">&#91;43&#93;</a></sup></th><th scope=\"col\">1963<sup id=\"cite_ref-50\" class=\"reference\"><a href=\"#cite_note-50\">&#91;44&#93;</a></sup></th><th scope=\"col\">1967<sup id=\"cite_ref-1785BA_44-18\" class=\"reference\"><a href=\"#cite_note-1785BA-44\">&#91;38&#93;</a></sup></th><th scope=\"col\">1970<sup id=\"cite_ref-1970E_51-0\" class=\"reference\"><a href=\"#cite_note-1970E-51\">&#91;45&#93;</a></sup></th></tr><tr style=\"text-align:center\"><td><span style=\"color: #0c0; font-weight:bold; font-size: larger;\">↗</span>2&#160;743&#160;600</td><td><span style=\"color: #0c0; font-weight:bold; font-size: larger;\">↗</span>3&#160;361&#160;000</td><td><span style=\"color: #0c0; font-weight:bold; font-size: larger;\">↗</span>4&#160;839&#160;000</td><td><span style=\"color: #0c0; font-weight:bold; font-size: larger;\">↗</span>5&#160;045&#160;905</td><td><span style=\"color: #0c0; font-weight:bold; font-size: larger;\">↗</span>6&#160;354&#160;000</td><td><span style=\"color: #0c0; font-weight:bold; font-size: larger;\">↗</span>6&#160;422&#160;000</td><td><span style=\"color: #0c0; font-weight:bold; font-size: larger;\">↗</span>6&#160;941&#160;961</td></tr><tr class=\"bright\"><th scope=\"col\">1972<sup id=\"cite_ref-1785BA_44-19\" class=\"reference\"><a href=\"#cite_note-1785BA-44\">&#91;38&#93;</a></sup></th><th scope=\"col\">1973<sup id=\"cite_ref-1785BA_44-20\" class=\"reference\"><a href=\"#cite_note-1785BA-44\">&#91;38&#93;</a></sup></th><th scope=\"col\">1975<sup id=\"cite_ref-1998C_26-1\" class=\"reference\"><a href=\"#cite_note-1998C-26\">&#91;20&#93;</a></sup></th><th scope=\"col\">1976<sup id=\"cite_ref-52\" class=\"reference\"><a href=\"#cite_note-52\">&#91;46&#93;</a></sup></th><th scope=\"col\">1979<sup id=\"cite_ref-1979D_53-0\" class=\"reference\"><a href=\"#cite_note-1979D-53\">&#91;47&#93;</a></sup></th><th scope=\"col\">1982<sup id=\"cite_ref-1982A_54-0\" class=\"reference\"><a href=\"#cite_note-1982A-54\">&#91;48&#93;</a></sup></th><th scope=\"col\">1985<sup id=\"cite_ref-2001G_55-0\" class=\"reference\"><a href=\"#cite_note-2001G-55\">&#91;49&#93;</a></sup></th></tr><tr style=\"text-align:center\"><td><span style=\"color: #0c0; font-weight:bold; font-size: larger;\">↗</span>7&#160;151&#160;000</td><td><span style=\"color: #0c0; font-weight:bold; font-size: larger;\">↗</span>7&#160;255&#160;000</td><td><span style=\"color: #0c0; font-weight:bold; font-size: larger;\">↗</span>7&#160;862&#160;000</td><td><span style=\"color: red; font-weight:bold; font-size: larger;\">↘</span>7&#160;734&#160;000</td><td><span style=\"color: #0c0; font-weight:bold; font-size: larger;\">↗</span>7&#160;830&#160;509</td><td><span style=\"color: #0c0; font-weight:bold; font-size: larger;\">↗</span>8&#160;111&#160;000</td><td><span style=\"color: #0c0; font-weight:bold; font-size: larger;\">↗</span>8&#160;652&#160;000</td></tr><tr class=\"bright\"><th scope=\"col\">1986<sup id=\"cite_ref-1785BA_44-21\" class=\"reference\"><a href=\"#cite_note-1785BA-44\">&#91;38&#93;</a></sup></th><th scope=\"col\">1987<sup id=\"cite_ref-1987A_56-0\" class=\"reference\"><a href=\"#cite_note-1987A-56\">&#91;50&#93;</a></sup></th><th scope=\"col\">1989<sup id=\"cite_ref-1989C_57-0\" class=\"reference\"><a href=\"#cite_note-1989C-57\">&#91;51&#93;</a></sup></th><th scope=\"col\">1990<sup id=\"cite_ref-1990A_29-20\" class=\"reference\"><a href=\"#cite_note-1990A-29\">&#91;23&#93;</a></sup></th><th scope=\"col\">1991<sup id=\"cite_ref-1990A_29-21\" class=\"reference\"><a href=\"#cite_note-1990A-29\">&#91;23&#93;</a></sup></th><th scope=\"col\">1992<sup id=\"cite_ref-1990A_29-22\" class=\"reference\"><a href=\"#cite_note-1990A-29\">&#91;23&#93;</a></sup></th><th scope=\"col\">1993<sup id=\"cite_ref-1990A_29-23\" class=\"reference\"><a href=\"#cite_note-1990A-29\">&#91;23&#93;</a></sup></th></tr><tr style=\"text-align:center\"><td><span style=\"color: red; font-weight:bold; font-size: larger;\">↘</span>8&#160;527&#160;000</td><td><span style=\"color: #0c0; font-weight:bold; font-size: larger;\">↗</span>8&#160;815&#160;000</td><td><span style=\"color: red; font-weight:bold; font-size: larger;\">↘</span>8&#160;769&#160;117</td><td><span style=\"color: #0c0; font-weight:bold; font-size: larger;\">↗</span>8&#160;880&#160;124</td><td><span style=\"color: #0c0; font-weight:bold; font-size: larger;\">↗</span>9&#160;017&#160;415</td><td><span style=\"color: #0c0; font-weight:bold; font-size: larger;\">↗</span>9&#160;067&#160;808</td><td><span style=\"color: red; font-weight:bold; font-size: larger;\">↘</span>9&#160;066&#160;025</td></tr><tr class=\"bright\"><th scope=\"col\">1994<sup id=\"cite_ref-1990A_29-24\" class=\"reference\"><a href=\"#cite_note-1990A-29\">&#91;23&#93;</a></sup></th><th scope=\"col\">1995<sup id=\"cite_ref-1990A_29-25\" class=\"reference\"><a href=\"#cite_note-1990A-29\">&#91;23&#93;</a></sup></th><th scope=\"col\">1996<sup id=\"cite_ref-1990A_29-26\" class=\"reference\"><a href=\"#cite_note-1990A-29\">&#91;23&#93;</a></sup></th><th scope=\"col\">1997<sup id=\"cite_ref-1990A_29-27\" class=\"reference\"><a href=\"#cite_note-1990A-29\">&#91;23&#93;</a></sup></th><th scope=\"col\">1998<sup id=\"cite_ref-1990A_29-28\" class=\"reference\"><a href=\"#cite_note-1990A-29\">&#91;23&#93;</a></sup></th><th scope=\"col\">1999<sup id=\"cite_ref-1990A_29-29\" class=\"reference\"><a href=\"#cite_note-1990A-29\">&#91;23&#93;</a></sup></th><th scope=\"col\">2000<sup id=\"cite_ref-1990A_29-30\" class=\"reference\"><a href=\"#cite_note-1990A-29\">&#91;23&#93;</a></sup></th></tr><tr style=\"text-align:center\"><td><span style=\"color: #0c0; font-weight:bold; font-size: larger;\">↗</span>9&#160;066&#160;612</td><td><span style=\"color: #0c0; font-weight:bold; font-size: larger;\">↗</span>9&#160;085&#160;457</td><td><span style=\"color: #0c0; font-weight:bold; font-size: larger;\">↗</span>9&#160;246&#160;727</td><td><span style=\"color: #0c0; font-weight:bold; font-size: larger;\">↗</span>9&#160;411&#160;236</td><td><span style=\"color: #0c0; font-weight:bold; font-size: larger;\">↗</span>9&#160;604&#160;297</td><td><span style=\"color: #0c0; font-weight:bold; font-size: larger;\">↗</span>9&#160;783&#160;242</td><td><span style=\"color: #0c0; font-weight:bold; font-size: larger;\">↗</span>9&#160;932&#160;932</td></tr><tr class=\"bright\"><th scope=\"col\">2001<sup id=\"cite_ref-1990A_29-31\" class=\"reference\"><a href=\"#cite_note-1990A-29\">&#91;23&#93;</a></sup></th><th scope=\"col\">2002<sup id=\"cite_ref-2002B_30-1\" class=\"reference\"><a href=\"#cite_note-2002B-30\">&#91;24&#93;</a></sup></th><th scope=\"col\">2003<sup id=\"cite_ref-1990A_29-32\" class=\"reference\"><a href=\"#cite_note-1990A-29\">&#91;23&#93;</a></sup></th><th scope=\"col\">2004<sup id=\"cite_ref-1990A_29-33\" class=\"reference\"><a href=\"#cite_note-1990A-29\">&#91;23&#93;</a></sup></th><th scope=\"col\">2005<sup id=\"cite_ref-1990A_29-34\" class=\"reference\"><a href=\"#cite_note-1990A-29\">&#91;23&#93;</a></sup></th><th scope=\"col\">2006<sup id=\"cite_ref-1990A_29-35\" class=\"reference\"><a href=\"#cite_note-1990A-29\">&#91;23&#93;</a></sup></th><th scope=\"col\">2007<sup id=\"cite_ref-1990A_29-36\" class=\"reference\"><a href=\"#cite_note-1990A-29\">&#91;23&#93;</a></sup></th></tr><tr style=\"text-align:center\"><td><span style=\"color: #0c0; font-weight:bold; font-size: larger;\">↗</span>10&#160;114&#160;203</td><td><span style=\"color: #0c0; font-weight:bold; font-size: larger;\">↗</span>10&#160;382&#160;754</td><td><span style=\"color: #0c0; font-weight:bold; font-size: larger;\">↗</span>10&#160;386&#160;903</td><td><span style=\"color: #0c0; font-weight:bold; font-size: larger;\">↗</span>10&#160;535&#160;681</td><td><span style=\"color: #0c0; font-weight:bold; font-size: larger;\">↗</span>10&#160;726&#160;429</td><td><span style=\"color: #0c0; font-weight:bold; font-size: larger;\">↗</span>10&#160;923&#160;762</td><td><span style=\"color: #0c0; font-weight:bold; font-size: larger;\">↗</span>11&#160;091&#160;428</td></tr><tr class=\"bright\"><th scope=\"col\">2008<sup id=\"cite_ref-1990A_29-37\" class=\"reference\"><a href=\"#cite_note-1990A-29\">&#91;23&#93;</a></sup></th><th scope=\"col\">2009<sup id=\"cite_ref-1990A_29-38\" class=\"reference\"><a href=\"#cite_note-1990A-29\">&#91;23&#93;</a></sup></th><th scope=\"col\">2010<sup id=\"cite_ref-2010W_31-1\" class=\"reference\"><a href=\"#cite_note-2010W-31\">&#91;25&#93;</a></sup></th><th scope=\"col\">2011<sup id=\"cite_ref-1990A_29-39\" class=\"reference\"><a href=\"#cite_note-1990A-29\">&#91;23&#93;</a></sup></th><th scope=\"col\">2012<sup id=\"cite_ref-1990A_29-40\" class=\"reference\"><a href=\"#cite_note-1990A-29\">&#91;23&#93;</a></sup></th><th scope=\"col\">2013<sup id=\"cite_ref-2013W_33-1\" class=\"reference\"><a href=\"#cite_note-2013W-33\">&#91;27&#93;</a></sup></th><th scope=\"col\">2014<sup id=\"cite_ref-2014CQ_34-1\" class=\"reference\"><a href=\"#cite_note-2014CQ-34\">&#91;28&#93;</a></sup></th></tr><tr style=\"text-align:center\"><td><span style=\"color: #0c0; font-weight:bold; font-size: larger;\">↗</span>11&#160;186&#160;851</td><td><span style=\"color: #0c0; font-weight:bold; font-size: larger;\">↗</span>11&#160;281&#160;631</td><td><span style=\"color: #0c0; font-weight:bold; font-size: larger;\">↗</span>11&#160;503&#160;501</td><td><span style=\"color: #0c0; font-weight:bold; font-size: larger;\">↗</span>11&#160;776&#160;764</td><td><span style=\"color: #0c0; font-weight:bold; font-size: larger;\">↗</span>11&#160;856&#160;578</td><td><span style=\"color: #0c0; font-weight:bold; font-size: larger;\">↗</span>11&#160;979&#160;529</td><td><span style=\"color: #0c0; font-weight:bold; font-size: larger;\">↗</span>12&#160;108&#160;257</td></tr><tr class=\"bright\"><th scope=\"col\">2015<sup id=\"cite_ref-2015DS_35-1\" class=\"reference\"><a href=\"#cite_note-2015DS-35\">&#91;29&#93;</a></sup></th><th scope=\"col\">2016<sup id=\"cite_ref-2016AA_36-1\" class=\"reference\"><a href=\"#cite_note-2016AA-36\">&#91;30&#93;</a></sup></th><th scope=\"col\">2017<sup id=\"cite_ref-2017AA_37-1\" class=\"reference\"><a href=\"#cite_note-2017AA-37\">&#91;31&#93;</a></sup></th><th scope=\"col\">2018<sup id=\"cite_ref-2018AA_38-1\" class=\"reference\"><a href=\"#cite_note-2018AA-38\">&#91;32&#93;</a></sup></th><th scope=\"col\">2019<sup id=\"cite_ref-2019AA_39-1\" class=\"reference\"><a href=\"#cite_note-2019AA-39\">&#91;33&#93;</a></sup></th><th scope=\"col\">2020<sup id=\"cite_ref-2020AA_40-1\" class=\"reference\"><a href=\"#cite_note-2020AA-40\">&#91;34&#93;</a></sup></th><th scope=\"col\">2021<sup id=\"cite_ref-2021RU_41-1\" class=\"reference\"><a href=\"#cite_note-2021RU-41\">&#91;35&#93;</a></sup></th></tr><tr style=\"text-align:center\"><td><span style=\"color: #0c0; font-weight:bold; font-size: larger;\">↗</span>12&#160;197&#160;596</td><td><span style=\"color: #0c0; font-weight:bold; font-size: larger;\">↗</span>12&#160;330&#160;126</td><td><span style=\"color: #0c0; font-weight:bold; font-size: larger;\">↗</span>12&#160;380&#160;664</td><td><span style=\"color: #0c0; font-weight:bold; font-size: larger;\">↗</span>12&#160;506&#160;468</td><td><span style=\"color: #0c0; font-weight:bold; font-size: larger;\">↗</span>12&#160;615&#160;279</td><td><span style=\"color: #0c0; font-weight:bold; font-size: larger;\">↗</span>12&#160;678&#160;079</td><td><span style=\"color: #0c0; font-weight:bold; font-size: larger;\">↗</span>13&#160;010&#160;112</td></tr><tr class=\"bright\"><th scope=\"col\">2022<sup id=\"cite_ref-2022AB_42-1\" class=\"reference\"><a href=\"#cite_note-2022AB-42\">&#91;36&#93;</a></sup></th><th scope=\"col\">2023<sup id=\"cite_ref-2023AA_43-1\" class=\"reference\"><a href=\"#cite_note-2023AA-43\">&#91;37&#93;</a></sup></th><th scope=\"col\"></th><th scope=\"col\"></th><th scope=\"col\"></th><th scope=\"col\"></th><th scope=\"col\"></th></tr><tr style=\"text-align:center\"><td><span style=\"color: #0c0; font-weight:bold; font-size: larger;\">↗</span>13&#160;015&#160;126</td><td><span style=\"color: #0c0; font-weight:bold; font-size: larger;\">↗</span>13&#160;104&#160;177</td><td></td><td></td><td></td><td></td><td></td></tr></tbody></table>\\n<h2><span id=\".D0.9E.D1.81.D0.BE.D0.B1.D0.B5.D0.BD.D0.BD.D0.BE.D1.81.D1.82.D0.B8_.D1.80.D0.B0.D0.B7.D0.B2.D0.B8.D1.82.D0.B8.D1.8F\"></span><span class=\"mw-headline\" id=\"Особенности_развития\">Особенности развития</span><span class=\"mw-editsection\"><span class=\"mw-editsection-bracket\">[</span><a href=\"/w/index.php?title=%D0%93%D0%BE%D1%80%D0%BE%D0%B4%D0%B0-%D0%BC%D0%B8%D0%BB%D0%BB%D0%B8%D0%BE%D0%BD%D0%B5%D1%80%D1%8B_%D0%A0%D0%BE%D1%81%D1%81%D0%B8%D0%B8&amp;veaction=edit&amp;section=11\" class=\"mw-editsection-visualeditor\" title=\"Редактировать раздел «Особенности развития»\">править</a><span class=\"mw-editsection-divider\"> | </span><a href=\"/w/index.php?title=%D0%93%D0%BE%D1%80%D0%BE%D0%B4%D0%B0-%D0%BC%D0%B8%D0%BB%D0%BB%D0%B8%D0%BE%D0%BD%D0%B5%D1%80%D1%8B_%D0%A0%D0%BE%D1%81%D1%81%D0%B8%D0%B8&amp;action=edit&amp;section=11\" title=\"Edit section&#039;s source code: Особенности развития\">править код</a><span class=\"mw-editsection-bracket\">]</span></span></h2>\\n<h3><span id=\".D0.A0.D0.BE.D1.81.D1.82_.D0.B8_.D1.80.D0.B0.D0.B7.D0.B2.D0.B8.D1.82.D0.B8.D0.B5_.D0.B2_.D1.8D.D0.BF.D0.BE.D1.85.D1.83_.D0.A1.D0.A1.D0.A1.D0.A0\"></span><span class=\"mw-headline\" id=\"Рост_и_развитие_в_эпоху_СССР\">Рост и развитие в эпоху <a href=\"/wiki/%D0%A1%D0%BE%D1%8E%D0%B7_%D0%A1%D0%BE%D0%B2%D0%B5%D1%82%D1%81%D0%BA%D0%B8%D1%85_%D0%A1%D0%BE%D1%86%D0%B8%D0%B0%D0%BB%D0%B8%D1%81%D1%82%D0%B8%D1%87%D0%B5%D1%81%D0%BA%D0%B8%D1%85_%D0%A0%D0%B5%D1%81%D0%BF%D1%83%D0%B1%D0%BB%D0%B8%D0%BA\" title=\"Союз Советских Социалистических Республик\">СССР</a></span><span class=\"mw-editsection\"><span class=\"mw-editsection-bracket\">[</span><a href=\"/w/index.php?title=%D0%93%D0%BE%D1%80%D0%BE%D0%B4%D0%B0-%D0%BC%D0%B8%D0%BB%D0%BB%D0%B8%D0%BE%D0%BD%D0%B5%D1%80%D1%8B_%D0%A0%D0%BE%D1%81%D1%81%D0%B8%D0%B8&amp;veaction=edit&amp;section=12\" class=\"mw-editsection-visualeditor\" title=\"Редактировать раздел «Рост и развитие в эпоху СССР»\">править</a><span class=\"mw-editsection-divider\"> | </span><a href=\"/w/index.php?title=%D0%93%D0%BE%D1%80%D0%BE%D0%B4%D0%B0-%D0%BC%D0%B8%D0%BB%D0%BB%D0%B8%D0%BE%D0%BD%D0%B5%D1%80%D1%8B_%D0%A0%D0%BE%D1%81%D1%81%D0%B8%D0%B8&amp;action=edit&amp;section=12\" title=\"Edit section&#039;s source code: Рост и развитие в эпоху СССР\">править код</a><span class=\"mw-editsection-bracket\">]</span></span></h3>\\n<p>Максимальное количество городов-миллионеров в <a href=\"/wiki/%D0%A0%D0%BE%D1%81%D1%81%D0%B8%D0%B9%D1%81%D0%BA%D0%B0%D1%8F_%D0%A1%D0%BE%D0%B2%D0%B5%D1%82%D1%81%D0%BA%D0%B0%D1%8F_%D0%A4%D0%B5%D0%B4%D0%B5%D1%80%D0%B0%D1%82%D0%B8%D0%B2%D0%BD%D0%B0%D1%8F_%D0%A1%D0%BE%D1%86%D0%B8%D0%B0%D0%BB%D0%B8%D1%81%D1%82%D0%B8%D1%87%D0%B5%D1%81%D0%BA%D0%B0%D1%8F_%D0%A0%D0%B5%D1%81%D0%BF%D1%83%D0%B1%D0%BB%D0%B8%D0%BA%D0%B0\" title=\"Российская Советская Федеративная Социалистическая Республика\">РСФСР</a> достигало 13. Некоторые из таких городов ещё в начале века были малыми городами, но испытали бурный рост в связи с индустриализацией и по другим причинам. <a href=\"/wiki/%D0%9D%D0%BE%D0%B2%D0%BE%D1%81%D0%B8%D0%B1%D0%B8%D1%80%D1%81%D0%BA\" title=\"Новосибирск\">Новосибирск</a> оказался<link rel=\"mw-deduplicated-inline-style\" href=\"mw-data:TemplateStyles:r130921360\"><sup class=\"ts-fix-template\">&#91;<i><a href=\"/wiki/%D0%92%D0%B8%D0%BA%D0%B8%D0%BF%D0%B5%D0%B4%D0%B8%D1%8F:%D0%98%D0%B7%D0%B1%D0%B5%D0%B3%D0%B0%D0%B9%D1%82%D0%B5_%D0%BD%D0%B5%D0%BE%D0%BF%D1%80%D0%B5%D0%B4%D0%B5%D0%BB%D1%91%D0%BD%D0%BD%D1%8B%D1%85_%D0%B2%D1%8B%D1%80%D0%B0%D0%B6%D0%B5%D0%BD%D0%B8%D0%B9\" title=\"Википедия:Избегайте неопределённых выражений\">как?</a></i>&#93;</sup> одним из рекордсменов планеты по достижению миллионной численности населения<link rel=\"mw-deduplicated-inline-style\" href=\"mw-data:TemplateStyles:r130921360\"><sup class=\"ts-fix-template noprint\">&#91;<i><a href=\"/wiki/%D0%92%D0%B8%D0%BA%D0%B8%D0%BF%D0%B5%D0%B4%D0%B8%D1%8F:%D0%A1%D1%81%D1%8B%D0%BB%D0%BA%D0%B8_%D0%BD%D0%B0_%D0%B8%D1%81%D1%82%D0%BE%D1%87%D0%BD%D0%B8%D0%BA%D0%B8\" title=\"Википедия:Ссылки на источники\"><span title=\"нет источника (12 апреля 2021)\">источник&#32;не указан 867 дней</span></a></i>&#93;</sup>. Некоторые из городов своим скачкообразным ростом, приблизившим последующее становление в качестве городов-миллионеров, обязаны эвакуации людского и индустриального потенциала в годы <a href=\"/wiki/%D0%92%D0%B5%D0%BB%D0%B8%D0%BA%D0%B0%D1%8F_%D0%9E%D1%82%D0%B5%D1%87%D0%B5%D1%81%D1%82%D0%B2%D0%B5%D0%BD%D0%BD%D0%B0%D1%8F_%D0%B2%D0%BE%D0%B9%D0%BD%D0%B0\" title=\"Великая Отечественная война\">Великой Отечественной войны</a>. В дальнейшем высокий статус городов-миллионеров в рамках советской административной системы сделал их привлекательными для экономических мигрантов. С целью повышения собственного статуса власти некоторых городов СССР лоббировали включение в свой состав пригородов, многие из которых до сих пор слабо интегрированы в городскую среду из-за недостаточного развития инфраструктуры.\\n</p><p>Города из первой группы городов России, которые стали городами-миллионерами только спустя несколько десятилетий после Москвы и Санкт-Петербурга&#160;— в 60-х годах XX века:\\n</p>\\n<ul><li>1962&#160;— <a href=\"/wiki/%D0%9D%D0%BE%D0%B2%D0%BE%D1%81%D0%B8%D0%B1%D0%B8%D1%80%D1%81%D0%BA\" title=\"Новосибирск\">Новосибирск</a>, Горький (<a href=\"/wiki/%D0%9D%D0%B8%D0%B6%D0%BD%D0%B8%D0%B9_%D0%9D%D0%BE%D0%B2%D0%B3%D0%BE%D1%80%D0%BE%D0%B4\" title=\"Нижний Новгород\">Нижний Новгород</a>)</li>\\n<li>1967&#160;— Свердловск (<a href=\"/wiki/%D0%95%D0%BA%D0%B0%D1%82%D0%B5%D1%80%D0%B8%D0%BD%D0%B1%D1%83%D1%80%D0%B3\" title=\"Екатеринбург\">Екатеринбург</a>), Куйбышев (<a href=\"/wiki/%D0%A1%D0%B0%D0%BC%D0%B0%D1%80%D0%B0\" title=\"Самара\">Самара</a>)</li></ul>\\n<p>В 1970-е годы статус городов-миллионеров получили:\\n</p>\\n<ul><li>1976&#160;— <a href=\"/wiki/%D0%A7%D0%B5%D0%BB%D1%8F%D0%B1%D0%B8%D0%BD%D1%81%D0%BA\" title=\"Челябинск\">Челябинск</a></li>\\n<li>1978&#160;— <a href=\"/wiki/%D0%9E%D0%BC%D1%81%D0%BA\" title=\"Омск\">Омск</a></li>\\n<li>1979&#160;— <a href=\"/wiki/%D0%9F%D0%B5%D1%80%D0%BC%D1%8C\" title=\"Пермь\">Пермь</a>, <a href=\"/wiki/%D0%9A%D0%B0%D0%B7%D0%B0%D0%BD%D1%8C\" title=\"Казань\">Казань</a></li></ul>\\n<p>Последними в РСФСР и в XX веке получили данный статус в 1980-х годах:\\n</p>\\n<ul><li>1980&#160;— <a href=\"/wiki/%D0%A3%D1%84%D0%B0\" title=\"Уфа\">Уфа</a></li>\\n<li>1987&#160;— <a href=\"/wiki/%D0%A0%D0%BE%D1%81%D1%82%D0%BE%D0%B2-%D0%BD%D0%B0-%D0%94%D0%BE%D0%BD%D1%83\" title=\"Ростов-на-Дону\">Ростов-на-Дону</a></li>\\n<li>1989&#160;— <a href=\"/wiki/%D0%92%D0%BE%D0%BB%D0%B3%D0%BE%D0%B3%D1%80%D0%B0%D0%B4\" title=\"Волгоград\">Волгоград</a>.</li></ul>\\n<h3><span id=\".D0.93.D0.BE.D1.80.D0.BE.D0.B4.D0.B0-.D0.BC.D0.B8.D0.BB.D0.BB.D0.B8.D0.BE.D0.BD.D0.B5.D1.80.D1.8B_.D0.B2_.D1.81.D0.BE.D0.B2.D1.80.D0.B5.D0.BC.D0.B5.D0.BD.D0.BD.D0.BE.D0.B9_.D0.A0.D0.BE.D1.81.D1.81.D0.B8.D0.B8\"></span><span class=\"mw-headline\" id=\"Города-миллионеры_в_современной_России\">Города-миллионеры в современной России</span><span class=\"mw-editsection\"><span class=\"mw-editsection-bracket\">[</span><a href=\"/w/index.php?title=%D0%93%D0%BE%D1%80%D0%BE%D0%B4%D0%B0-%D0%BC%D0%B8%D0%BB%D0%BB%D0%B8%D0%BE%D0%BD%D0%B5%D1%80%D1%8B_%D0%A0%D0%BE%D1%81%D1%81%D0%B8%D0%B8&amp;veaction=edit&amp;section=13\" class=\"mw-editsection-visualeditor\" title=\"Редактировать раздел «Города-миллионеры в современной России»\">править</a><span class=\"mw-editsection-divider\"> | </span><a href=\"/w/index.php?title=%D0%93%D0%BE%D1%80%D0%BE%D0%B4%D0%B0-%D0%BC%D0%B8%D0%BB%D0%BB%D0%B8%D0%BE%D0%BD%D0%B5%D1%80%D1%8B_%D0%A0%D0%BE%D1%81%D1%81%D0%B8%D0%B8&amp;action=edit&amp;section=13\" title=\"Edit section&#039;s source code: Города-миллионеры в современной России\">править код</a><span class=\"mw-editsection-bracket\">]</span></span></h3>\\n<p>Как по стране в целом, так и среди её городского населения в частности, в постсоветское время почти во всех городах-миллионерах России имеет место отрицательный естественный прирост населения, не компенсируемый приточными миграционными процессами. При наличии общей тенденции к снижению численности населения темпы этой депопуляции (или отдельного роста) в каждом из городов-миллионеров несколько разнятся. В целом благополучие городов определяется уровнем развития сферы услуг и наличием или отсутствием поблизости конкурирующих межрегиональных центров развития и притяжения.\\n</p><p>За исключением Москвы, Казани и отчасти Омска, Екатеринбурга почти все города-миллионеры все годы с начала 90-х испытывали депопуляцию. Особенно значительно (до 100—150 тыс. человек за 15 лет) потеряли население Санкт-Петербург, Нижний Новгород, Самара, Пермь. По данным статистического учёта, за это время выбыли из категории городов-миллионеров два города России&#160;— Пермь в 2004&#160;г. и Волгоград в 1999, 2005—2010&#160;гг.&#160;— и возникла угроза для выбывания Уфы в случае сохранения тенденции отрицательного прироста.\\n</p><p>Лишь начиная с середины-конца 2000-х в ряде городов наблюдается рост населения. По итогам 2009 года, помимо Москвы, прирост населения продемонстрировали такие города, как Санкт-Петербург, Новосибирск, Екатеринбург, Казань, Уфа, Ростов-на-Дону и отчасти Челябинск, в то время как в Нижнем Новгороде, Самаре, Омске продолжился спад<sup id=\"cite_ref-58\" class=\"reference\"><a href=\"#cite_note-58\">&#91;52&#93;</a></sup>. Согласно текущему статучёту, значительный миграционный приток и некоторый естественный прирост населения позволили Новосибирску первым преодолеть отметку в 1,5&#160;млн человек в I квартале 2012 года<sup id=\"cite_ref-nsk_7-1\" class=\"reference\"><a href=\"#cite_note-nsk-7\">&#91;7&#93;</a></sup>.\\n</p><p>Согласно предварительным итогам <a href=\"/wiki/%D0%92%D1%81%D0%B5%D1%80%D0%BE%D1%81%D1%81%D0%B8%D0%B9%D1%81%D0%BA%D0%B0%D1%8F_%D0%BF%D0%B5%D1%80%D0%B5%D0%BF%D0%B8%D1%81%D1%8C_%D0%BD%D0%B0%D1%81%D0%B5%D0%BB%D0%B5%D0%BD%D0%B8%D1%8F_(2010)\" title=\"Всероссийская перепись населения (2010)\">Всероссийской переписи 2010 года</a>, <a href=\"/wiki/%D0%A3%D1%84%D0%B0\" title=\"Уфа\">Уфа</a> и <a href=\"/wiki/%D0%92%D0%BE%D0%BB%D0%B3%D0%BE%D0%B3%D1%80%D0%B0%D0%B4\" title=\"Волгоград\">Волгоград</a> остались в числе городов-миллионеров, <a href=\"/wiki/%D0%9F%D0%B5%D1%80%D0%BC%D1%8C\" title=\"Пермь\">Пермь</a> утратила этот статус, а <a href=\"/wiki/%D0%9A%D1%80%D0%B0%D1%81%D0%BD%D0%BE%D1%8F%D1%80%D1%81%D0%BA\" title=\"Красноярск\">Красноярск</a> и <a href=\"/wiki/%D0%92%D0%BE%D1%80%D0%BE%D0%BD%D0%B5%D0%B6\" title=\"Воронеж\">Воронеж</a> приблизились к нему.\\n</p><p><a href=\"/wiki/%D0%92%D0%BE%D0%BB%D0%B3%D0%BE%D0%B3%D1%80%D0%B0%D0%B4\" title=\"Волгоград\">Волгоград</a> утратил статус города-миллионера в 1999 году и приобрёл его вновь только с <a href=\"/wiki/%D0%92%D1%81%D0%B5%D1%80%D0%BE%D1%81%D1%81%D0%B8%D0%B9%D1%81%D0%BA%D0%B0%D1%8F_%D0%BF%D0%B5%D1%80%D0%B5%D0%BF%D0%B8%D1%81%D1%8C_%D0%BD%D0%B0%D1%81%D0%B5%D0%BB%D0%B5%D0%BD%D0%B8%D1%8F_(2002)\" title=\"Всероссийская перепись населения (2002)\">Всероссийской переписью 2002 года</a>. В 2005 году по данным текущего статистического учёта численность населения города вновь составила менее 1&#160;млн жителей. За полгода до переписи-2010 (в марте того же года) Волгоград вернул себе статус города-миллионера за счёт расширения городской черты.\\n</p><p>Аналогичная попытка <a href=\"/wiki/%D0%92%D0%BE%D1%80%D0%BE%D0%BD%D0%B5%D0%B6\" title=\"Воронеж\">Воронежа</a> впервые войти в число городов-миллионеров посредством присоединения в 2009—2010 годах очень большого количества близлежащих поселений (общей численностью около 86 тыс. человек) успехом не увенчалась&#160;— до этого статуса не хватило около 30 тыс. Численность населения Воронежа на 1 января 2011 года составляла 979,9 тысячи человек. В 2011 году естественная убыль населения города составила 2667 человек<sup id=\"cite_ref-Естприр2011_59-0\" class=\"reference\"><a href=\"#cite_note-Естприр2011-59\">&#91;53&#93;</a></sup>, а миграционный прирост в 2011 году составил 14358 человек<sup id=\"cite_ref-Миграц2011_60-0\" class=\"reference\"><a href=\"#cite_note-Миграц2011-60\">&#91;54&#93;</a></sup>, таким образом население города (по предварительным данным) достигло к 1 января 2012 года 991&#160;575 человек. В итоге город обрёл статус миллионера 17 декабря 2012 года, когда было объявлено о рождении миллионного жителя Воронежа<sup id=\"cite_ref-autogenerated2_4-1\" class=\"reference\"><a href=\"#cite_note-autogenerated2-4\">&#91;4&#93;</a></sup>.\\n</p><p>После того, как по оценке территориального органа Росстата по Пермскому краю население <a href=\"/wiki/%D0%9F%D0%B5%D1%80%D0%BC%D1%8C\" title=\"Пермь\">Перми</a> на 1 января 2011 года составляло 991&#160;889 человек<sup id=\"cite_ref-БД_ПМО_61-0\" class=\"reference\"><a href=\"#cite_note-БД_ПМО-61\">&#91;55&#93;</a></sup>, несмотря на малый естественный прирост в 2011 году (337 человек, хотя ещё в 2010 году отмечалась естественная убыль 287 человек), значительный миграционный прирост (8787 человек<sup id=\"cite_ref-autogenerated1_62-0\" class=\"reference\"><a href=\"#cite_note-autogenerated1-62\">&#91;56&#93;</a></sup>) обеспечил суммарный прирост населения Перми за 2011 год 9&#160;124 человека, и население города по текущему статучёту на 1 января 2012 года составило 1&#160;001&#160;013 человек. Таким образом, ориентировочно в ноябре 2011 года город вновь стал миллионером. Увеличение миграционного прироста в Перми и в России в целом связано с тем, что начиная с 1 января 2011 года Росстатом изменена методика статистического учёта <a href=\"/wiki/%D0%9C%D0%B8%D0%B3%D1%80%D0%B0%D0%BD%D1%82\" class=\"mw-redirect\" title=\"Мигрант\">мигрантов</a>. В число жителей России, а также её территориальных единиц стали включать лиц, временно зарегистрированных на срок от 9 месяцев и более<sup id=\"cite_ref-Демоскоп_63-0\" class=\"reference\"><a href=\"#cite_note-Демоскоп-63\">&#91;57&#93;</a></sup>.\\n</p><p>Ещё более значительный прирост (относительно скорректированных итогов переписи 2010 года) численности населения <a href=\"/wiki/%D0%9A%D1%80%D0%B0%D1%81%D0%BD%D0%BE%D1%8F%D1%80%D1%81%D0%BA\" title=\"Красноярск\">Красноярска</a> составил 16,2 тыс. человек в 2010 году и 17,1 тыс. человек в 2011 году. Красстат опубликовал сообщение, согласно которому население города на 1 января 2012 года составило 998 тысяч человек, увеличившись за время, прошедшее после переписи населения 2010 года на 23 тысячи человек. В этой цифре прироста 87,6&#160;%&#160;— это положительное сальдо миграции и 12,4&#160;%&#160;— естественный прирост<sup id=\"cite_ref-64\" class=\"reference\"><a href=\"#cite_note-64\">&#91;58&#93;</a></sup>. 10 апреля 2012 года текущим статучётом зарегистрирован миллионный житель города<sup id=\"cite_ref-65\" class=\"reference\"><a href=\"#cite_note-65\">&#91;59&#93;</a></sup>.\\n</p><p>В дальнейшем количество городов-миллионеров может возрасти: в ходе процесса укрупнения городов России в результате состоявшегося и планируемого включения местными властями в состав города части окружающих поселений агломерации при <a href=\"/wiki/%D0%9C%D1%83%D0%BD%D0%B8%D1%86%D0%B8%D0%BF%D0%B0%D0%BB%D1%8C%D0%BD%D0%B0%D1%8F_%D1%80%D0%B5%D1%84%D0%BE%D1%80%D0%BC%D0%B0_%D0%B2_%D0%A0%D0%BE%D1%81%D1%81%D0%B8%D0%B8_(2006)\" class=\"mw-redirect\" title=\"Муниципальная реформа в России (2006)\">формировании муниципальных образований</a>&#160;— <a href=\"/wiki/%D0%93%D0%BE%D1%80%D0%BE%D0%B4%D1%81%D0%BA%D0%BE%D0%B9_%D0%BE%D0%BA%D1%80%D1%83%D0%B3\" class=\"mw-redirect\" title=\"Городской округ\">городских округов</a> (планирующий присоединение <a href=\"/wiki/%D0%AD%D0%BD%D0%B3%D0%B5%D0%BB%D1%8C%D1%81_(%D0%B3%D0%BE%D1%80%D0%BE%D0%B4)\" title=\"Энгельс (город)\">Энгельса</a> <a href=\"/wiki/%D0%A1%D0%B0%D1%80%D0%B0%D1%82%D0%BE%D0%B2\" title=\"Саратов\">Саратов</a>, а также заявившие о цели стать агломерациями-миллионерами <a href=\"/wiki/%D0%98%D1%80%D0%BA%D1%83%D1%82%D1%81%D0%BA%D0%B0%D1%8F_%D0%B0%D0%B3%D0%BB%D0%BE%D0%BC%D0%B5%D1%80%D0%B0%D1%86%D0%B8%D1%8F\" title=\"Иркутская агломерация\">Иркутск</a> и <a href=\"/wiki/%D0%A2%D0%BE%D0%BC%D1%81%D0%BA%D0%B0%D1%8F_%D0%B0%D0%B3%D0%BB%D0%BE%D0%BC%D0%B5%D1%80%D0%B0%D1%86%D0%B8%D1%8F\" title=\"Томская агломерация\">Томск</a>), а в более отдалённой перспективе&#160;— в результате возможной реализации планируемых российским правительством (<a href=\"/wiki/%D0%9C%D0%B8%D0%BD%D0%B8%D1%81%D1%82%D0%B5%D1%80%D1%81%D1%82%D0%B2%D0%BE_%D1%80%D0%B5%D0%B3%D0%B8%D0%BE%D0%BD%D0%B0%D0%BB%D1%8C%D0%BD%D0%BE%D0%B3%D0%BE_%D1%80%D0%B0%D0%B7%D0%B2%D0%B8%D1%82%D0%B8%D1%8F_%D0%A0%D0%BE%D1%81%D1%81%D0%B8%D0%B9%D1%81%D0%BA%D0%BE%D0%B9_%D0%A4%D0%B5%D0%B4%D0%B5%D1%80%D0%B0%D1%86%D0%B8%D0%B8\" title=\"Министерство регионального развития Российской Федерации\">Минрегионразвития</a> и <a href=\"/wiki/%D0%9C%D0%B8%D0%BD%D0%B8%D1%81%D1%82%D0%B5%D1%80%D1%81%D1%82%D0%B2%D0%BE_%D1%8D%D0%BA%D0%BE%D0%BD%D0%BE%D0%BC%D0%B8%D1%87%D0%B5%D1%81%D0%BA%D0%BE%D0%B3%D0%BE_%D1%80%D0%B0%D0%B7%D0%B2%D0%B8%D1%82%D0%B8%D1%8F_%D0%A0%D0%BE%D1%81%D1%81%D0%B8%D0%B9%D1%81%D0%BA%D0%BE%D0%B9_%D0%A4%D0%B5%D0%B4%D0%B5%D1%80%D0%B0%D1%86%D0%B8%D0%B8\" title=\"Министерство экономического развития Российской Федерации\">Минэкономразвития</a>) программ создания так называемых «опорных городов» (также <a href=\"/wiki/%D0%92%D0%BB%D0%B0%D0%B4%D0%B8%D0%B2%D0%BE%D1%81%D1%82%D0%BE%D0%BA\" title=\"Владивосток\">Владивосток</a>, <a href=\"/wiki/%D0%A5%D0%B0%D0%B1%D0%B0%D1%80%D0%BE%D0%B2%D1%81%D0%BA\" title=\"Хабаровск\">Хабаровск</a>, <a href=\"/wiki/%D0%A2%D1%8E%D0%BC%D0%B5%D0%BD%D1%8C\" title=\"Тюмень\">Тюмень</a>) и новых <a href=\"/wiki/%D0%93%D0%BE%D1%80%D0%BE%D0%B4-%D1%81%D0%BF%D1%83%D1%82%D0%BD%D0%B8%D0%BA\" title=\"Город-спутник\">городов-спутников</a> (при <a href=\"/wiki/%D0%A7%D0%B5%D0%B1%D0%BE%D0%BA%D1%81%D0%B0%D1%80%D1%8B\" title=\"Чебоксары\">Чебоксарах</a>, <a href=\"/wiki/%D0%A3%D0%BB%D1%8C%D1%8F%D0%BD%D0%BE%D0%B2%D1%81%D0%BA\" title=\"Ульяновск\">Ульяновске</a>, <a href=\"/wiki/%D0%9F%D0%B5%D0%BD%D0%B7%D0%B0\" title=\"Пенза\">Пензе</a>, <a href=\"/wiki/%D0%9A%D0%B5%D0%BC%D0%B5%D1%80%D0%BE%D0%B2%D0%BE\" title=\"Кемерово\">Кемерове</a>, <a href=\"/wiki/%D0%9B%D0%B8%D0%BF%D0%B5%D1%86%D0%BA\" title=\"Липецк\">Липецке</a>)<sup id=\"cite_ref-66\" class=\"reference\"><a href=\"#cite_note-66\">&#91;60&#93;</a></sup><sup id=\"cite_ref-67\" class=\"reference\"><a href=\"#cite_note-67\">&#91;61&#93;</a></sup><sup id=\"cite_ref-68\" class=\"reference\"><a href=\"#cite_note-68\">&#91;62&#93;</a></sup><sup id=\"cite_ref-69\" class=\"reference\"><a href=\"#cite_note-69\">&#91;63&#93;</a></sup>. В настоящее время к миллионному рубежу приближаются Саратов и Тюмень (по прогнозам местных властей&#160;— может пересечь его в 2029 году)<sup id=\"cite_ref-70\" class=\"reference\"><a href=\"#cite_note-70\">&#91;64&#93;</a></sup>, чьё население по данным переписи 2021 года составляет 901 и 847 тысяч соответственно, при этом население Тюмени в последние 30 лет растёт значительно быстрее, чем Саратова.\\n</p>\\n<h2><span id=\".D0.A1.D0.BC._.D1.82.D0.B0.D0.BA.D0.B6.D0.B5\"></span><span class=\"mw-headline\" id=\"См._также\">См. также</span><span class=\"mw-editsection\"><span class=\"mw-editsection-bracket\">[</span><a href=\"/w/index.php?title=%D0%93%D0%BE%D1%80%D0%BE%D0%B4%D0%B0-%D0%BC%D0%B8%D0%BB%D0%BB%D0%B8%D0%BE%D0%BD%D0%B5%D1%80%D1%8B_%D0%A0%D0%BE%D1%81%D1%81%D0%B8%D0%B8&amp;veaction=edit&amp;section=14\" class=\"mw-editsection-visualeditor\" title=\"Редактировать раздел «См. также»\">править</a><span class=\"mw-editsection-divider\"> | </span><a href=\"/w/index.php?title=%D0%93%D0%BE%D1%80%D0%BE%D0%B4%D0%B0-%D0%BC%D0%B8%D0%BB%D0%BB%D0%B8%D0%BE%D0%BD%D0%B5%D1%80%D1%8B_%D0%A0%D0%BE%D1%81%D1%81%D0%B8%D0%B8&amp;action=edit&amp;section=14\" title=\"Edit section&#039;s source code: См. также\">править код</a><span class=\"mw-editsection-bracket\">]</span></span></h2>\\n<ul><li><a href=\"/wiki/%D0%A1%D0%BF%D0%B8%D1%81%D0%BE%D0%BA_%D0%B3%D0%BE%D1%80%D0%BE%D0%B4%D0%BE%D0%B2_%D0%A0%D0%BE%D1%81%D1%81%D0%B8%D0%B8_%D1%81_%D1%82%D0%B5%D1%80%D1%80%D0%B8%D1%82%D0%BE%D1%80%D0%B8%D0%B5%D0%B9_%D0%B1%D0%BE%D0%BB%D1%8C%D1%88%D0%B5_100_%D0%BA%D0%B2%D0%B0%D0%B4%D1%80%D0%B0%D1%82%D0%BD%D1%8B%D1%85_%D0%BA%D0%B8%D0%BB%D0%BE%D0%BC%D0%B5%D1%82%D1%80%D0%BE%D0%B2\" title=\"Список городов России с территорией больше 100 квадратных километров\">Список городов России с территорией больше 100 квадратных километров</a></li>\\n<li><a href=\"/wiki/%D0%A1%D0%BF%D0%B8%D1%81%D0%BE%D0%BA_%D0%B3%D0%BE%D1%80%D0%BE%D0%B4%D0%BE%D0%B2_%D0%A0%D0%BE%D1%81%D1%81%D0%B8%D0%B9%D1%81%D0%BA%D0%BE%D0%B9_%D0%B8%D0%BC%D0%BF%D0%B5%D1%80%D0%B8%D0%B8_%D0%B2_1897_%D0%B3%D0%BE%D0%B4%D1%83\" title=\"Список городов Российской империи в 1897 году\">Список городов Российской империи в 1897 году</a></li>\\n<li><a href=\"/wiki/%D0%9F%D0%B5%D1%80%D0%B5%D0%BF%D0%B8%D1%81%D1%8C_%D0%BD%D0%B0%D1%81%D0%B5%D0%BB%D0%B5%D0%BD%D0%B8%D1%8F_%D0%A0%D0%BE%D1%81%D1%81%D0%B8%D0%B9%D1%81%D0%BA%D0%BE%D0%B9_%D0%B8%D0%BC%D0%BF%D0%B5%D1%80%D0%B8%D0%B8_1897_%D0%B3%D0%BE%D0%B4%D0%B0#Крупнейшие_города_согласно_переписи\" class=\"mw-redirect\" title=\"Перепись населения Российской империи 1897 года\">Большие города Российской империи в 1897 году</a></li>\\n<li><a href=\"/wiki/%D0%92%D1%81%D0%B5%D1%81%D0%BE%D1%8E%D0%B7%D0%BD%D0%B0%D1%8F_%D0%BF%D0%B5%D1%80%D0%B5%D0%BF%D0%B8%D1%81%D1%8C_%D0%BD%D0%B0%D1%81%D0%B5%D0%BB%D0%B5%D0%BD%D0%B8%D1%8F_%D0%A1%D0%A1%D0%A1%D0%A0_1926_%D0%B3%D0%BE%D0%B4%D0%B0#Города\" class=\"mw-redirect\" title=\"Всесоюзная перепись населения СССР 1926 года\">Большие города СССР в 1926 году</a></li></ul>\\n<h2><span id=\".D0.9F.D1.80.D0.B8.D0.BC.D0.B5.D1.87.D0.B0.D0.BD.D0.B8.D1.8F\"></span><span class=\"mw-headline\" id=\"Примечания\">Примечания</span><span class=\"mw-editsection\"><span class=\"mw-editsection-bracket\">[</span><a href=\"/w/index.php?title=%D0%93%D0%BE%D1%80%D0%BE%D0%B4%D0%B0-%D0%BC%D0%B8%D0%BB%D0%BB%D0%B8%D0%BE%D0%BD%D0%B5%D1%80%D1%8B_%D0%A0%D0%BE%D1%81%D1%81%D0%B8%D0%B8&amp;veaction=edit&amp;section=15\" class=\"mw-editsection-visualeditor\" title=\"Редактировать раздел «Примечания»\">править</a><span class=\"mw-editsection-divider\"> | </span><a href=\"/w/index.php?title=%D0%93%D0%BE%D1%80%D0%BE%D0%B4%D0%B0-%D0%BC%D0%B8%D0%BB%D0%BB%D0%B8%D0%BE%D0%BD%D0%B5%D1%80%D1%8B_%D0%A0%D0%BE%D1%81%D1%81%D0%B8%D0%B8&amp;action=edit&amp;section=15\" title=\"Edit section&#039;s source code: Примечания\">править код</a><span class=\"mw-editsection-bracket\">]</span></span></h2>\\n<dl><dt>Комментарии</dt></dl>\\n<div class=\"reflist columns reflist-wide\" style=\"list-style-type: lower-alpha;\">\\n<div class=\"mw-references-wrap\"><ol class=\"references\">\\n<li id=\"cite_note-9\"><span class=\"mw-cite-backlink\"><a href=\"#cite_ref-9\">↑</a></span> <span class=\"reference-text\">Впервые было официально объявлено местным управлением Росстата, однако не было подтверждено центральным аппаратом<sup id=\"cite_ref-8\" class=\"reference\"><a href=\"#cite_note-8\">&#91;8&#93;</a></sup>. При этом по итогам переписи 2021 года численность населения была зафиксирована сразу на уровне 1,1 млн.</span>\\n</li>\\n<li id=\"cite_note-dr-11\"><span class=\"mw-cite-backlink\">↑ <a href=\"#cite_ref-dr_11-0\"><sup><i><b>1</b></i></sup></a> <a href=\"#cite_ref-dr_11-1\"><sup><i><b>2</b></i></sup></a> <a href=\"#cite_ref-dr_11-2\"><sup><i><b>3</b></i></sup></a> <a href=\"#cite_ref-dr_11-3\"><sup><i><b>4</b></i></sup></a> <a href=\"#cite_ref-dr_11-4\"><sup><i><b>5</b></i></sup></a> <a href=\"#cite_ref-dr_11-5\"><sup><i><b>6</b></i></sup></a> <a href=\"#cite_ref-dr_11-6\"><sup><i><b>7</b></i></sup></a></span> <span class=\"reference-text\">По другим данным.</span>\\n</li>\\n<li id=\"cite_note-poly-12\"><span class=\"mw-cite-backlink\">↑ <a href=\"#cite_ref-poly_12-0\"><sup><i><b>1</b></i></sup></a> <a href=\"#cite_ref-poly_12-1\"><sup><i><b>2</b></i></sup></a> <a href=\"#cite_ref-poly_12-2\"><sup><i><b>3</b></i></sup></a> <a href=\"#cite_ref-poly_12-3\"><sup><i><b>4</b></i></sup></a> <a href=\"#cite_ref-poly_12-4\"><sup><i><b>5</b></i></sup></a> <a href=\"#cite_ref-poly_12-5\"><sup><i><b>6</b></i></sup></a></span> <span class=\"reference-text\">Полицентрические агломерации.</span>\\n</li>\\n<li id=\"cite_note-13\"><span class=\"mw-cite-backlink\"><a href=\"#cite_ref-13\">↑</a></span> <span class=\"reference-text\">В Самарско-Тольяттинско-Сызранской <a href=\"/wiki/%D0%9A%D0%BE%D0%BD%D1%83%D1%80%D0%B1%D0%B0%D1%86%D0%B8%D1%8F\" title=\"Конурбация\">конурбации</a>.</span>\\n</li>\\n<li id=\"cite_note-14\"><span class=\"mw-cite-backlink\"><a href=\"#cite_ref-14\">↑</a></span> <span class=\"reference-text\">В Ростовско-Шахтинской <a href=\"/wiki/%D0%9A%D0%BE%D0%BD%D1%83%D1%80%D0%B1%D0%B0%D1%86%D0%B8%D1%8F\" title=\"Конурбация\">конурбации</a>.</span>\\n</li>\\n<li id=\"cite_note-15\"><span class=\"mw-cite-backlink\"><a href=\"#cite_ref-15\">↑</a></span> <span class=\"reference-text\">Во Владивосток-Находкинской <a href=\"/wiki/%D0%9A%D0%BE%D0%BD%D1%83%D1%80%D0%B1%D0%B0%D1%86%D0%B8%D1%8F\" title=\"Конурбация\">конурбации</a>.</span>\\n</li>\\n</ol></div></div>\\n<dl><dt>Источники</dt></dl>\\n<div class=\"reflist columns\" style=\"list-style-type: decimal;\">\\n<div class=\"mw-references-wrap mw-references-columns\"><ol class=\"references\">\\n<li id=\"cite_note-autogenerated3-1\"><span class=\"mw-cite-backlink\"><a href=\"#cite_ref-autogenerated3_1-0\">↑</a></span> <span class=\"reference-text\"><span class=\"citation\"><span lang=\"und\"><a rel=\"nofollow\" class=\"external text\" href=\"https://www.kommersant.ru/doc/1896928\">Пермьстат опроверг данные об увеличении численности жителей Перми до 1 млн человек</a></span><span class=\"hidden-ref\" style=\"display:none;\">&#160;&#160;<small class=\"ref-info\" style=\"cursor:help;\" title=\"на неопределённом языке\">(неопр.)</small></span>.&#32;// <a href=\"/wiki/%D0%9A%D0%BE%D0%BC%D0%BC%D0%B5%D1%80%D1%81%D0%B0%D0%BD%D1%82%D1%8A\" title=\"Коммерсантъ\">Коммерсантъ</a>&#32;(20 марта 2012).&#32;<small>Дата обращения: 4 ноября 2019.</small>&#32;<small><a rel=\"nofollow\" class=\"external text\" href=\"https://web.archive.org/web/20180309183055/https://www.kommersant.ru/doc/1896928\">Архивировано</a> 9 марта 2018 года.</small></span></span>\\n</li>\\n<li id=\"cite_note-2\"><span class=\"mw-cite-backlink\"><a href=\"#cite_ref-2\">↑</a></span> <span class=\"reference-text\"><span class=\"citation\"><span lang=\"und\"><a rel=\"nofollow\" class=\"external text\" href=\"https://rg.ru/2012/04/11/reg-pfo/perm-millionnik.html\">Пермь официально вернула себе статус города-миллионника</a></span><span class=\"hidden-ref\" style=\"display:none;\">&#160;&#160;<small class=\"ref-info\" style=\"cursor:help;\" title=\"на неопределённом языке\">(неопр.)</small></span>.&#32;<i>Российская газета</i>&#32;(11 апреля 2012).&#32;<small>Дата обращения: 28 марта 2023.</small>&#32;<small><a rel=\"nofollow\" class=\"external text\" href=\"https://web.archive.org/web/20230329084657/https://rg.ru/2012/04/11/reg-pfo/perm-millionnik.html\">Архивировано</a> 29 марта 2023 года.</small></span></span>\\n</li>\\n<li id=\"cite_note-3\"><span class=\"mw-cite-backlink\"><a href=\"#cite_ref-3\">↑</a></span> <span class=\"reference-text\"><span class=\"citation\"><span lang=\"und\"><a rel=\"nofollow\" class=\"external text\" href=\"https://www.1tv.ru/news/2012-04-11/99414-v_krasnoyarske_rodilsya_millionnyy_zhitel\">В Красноярске родился миллионный житель. Новости. Первый канал</a></span><span class=\"hidden-ref\" style=\"display:none;\">&#160;&#160;<small class=\"ref-info\" style=\"cursor:help;\" title=\"на неопределённом языке\">(неопр.)</small></span>.&#32;<small>Дата обращения: 4 ноября 2019.</small>&#32;<small><a rel=\"nofollow\" class=\"external text\" href=\"https://web.archive.org/web/20191104143127/https://www.1tv.ru/news/2012-04-11/99414-v_krasnoyarske_rodilsya_millionnyy_zhitel\">Архивировано</a> 4 ноября 2019 года.</small></span></span>\\n</li>\\n<li id=\"cite_note-autogenerated2-4\"><span class=\"mw-cite-backlink\">↑ <a href=\"#cite_ref-autogenerated2_4-0\"><sup><i><b>1</b></i></sup></a> <a href=\"#cite_ref-autogenerated2_4-1\"><sup><i><b>2</b></i></sup></a></span> <span class=\"reference-text\"><span class=\"citation\"><span lang=\"und\"><a rel=\"nofollow\" class=\"external text\" href=\"https://web.archive.org/web/20130305084646/http://top.rbc.ru/society/17/12/2012/836948.shtml\">В Воронеже родился миллионный житель</a></span><span class=\"hidden-ref\" style=\"display:none;\">&#160;&#160;<small class=\"ref-info\" style=\"cursor:help;\" title=\"на неопределённом языке\">(неопр.)</small></span>.&#32;// <a href=\"/wiki/%D0%A0%D0%91%D0%9A\" title=\"РБК\">РБК</a>.&#32;<small>Дата обращения: 17 декабря 2012.</small>&#32;<small>Архивировано из <a rel=\"nofollow\" class=\"external text\" href=\"http://top.rbc.ru/society/17/12/2012/836948.shtml\">оригинала</a> 5 марта 2013 года.</small></span></span>\\n</li>\\n<li id=\"cite_note-ofperep21-5\"><span class=\"mw-cite-backlink\">↑ <a href=\"#cite_ref-ofperep21_5-0\"><sup><i><b>1</b></i></sup></a> <a href=\"#cite_ref-ofperep21_5-1\"><sup><i><b>2</b></i></sup></a> <a href=\"#cite_ref-ofperep21_5-2\"><sup><i><b>3</b></i></sup></a></span> <span class=\"reference-text\"><span class=\"citation\"><span lang=\"ru\"><a rel=\"nofollow\" class=\"external text\" href=\"https://rosstat.gov.ru/storage/mediabank/tab-5_VPN-2020.xlsx\">Таблица 5. Численность населения России, федеральных округов, субъектов Российской Федерации, городских округов, муниципальных районов, муниципальных округов, городских и сельских поселений, городских населенных пунктов, сельских населенных пунктов с населением 3000 человек и более</a></span>.&#32;<small><a rel=\"nofollow\" class=\"external text\" href=\"https://rosstat.gov.ru/vpn_popul\">Итоги Всероссийской переписи населения 2020 года</a>. На 1 октября 2021 года. Том 1. Численность и размещения населения</small><span class=\"hidden-ref\" style=\"display:none;\">&#160;&#160;<span class=\"ref-info\" style=\"cursor:help;\" title=\"на русском языке\">(рус.)</span></span>&#32;(XLSX)<small>.</small>&#32;<small>Дата обращения: 1 сентября 2022.</small>&#32;<small><a rel=\"nofollow\" class=\"external text\" href=\"https://web.archive.org/web/20220901194902/https://rosstat.gov.ru/storage/mediabank/tab-5_VPN-2020.xlsx\">Архивировано</a> 1 сентября 2022 года.</small></span></span>\\n</li>\\n<li id=\"cite_note-GKS_100-6\"><span class=\"mw-cite-backlink\">↑ <a href=\"#cite_ref-GKS_100_6-0\"><sup><i><b>1</b></i></sup></a> <a href=\"#cite_ref-GKS_100_6-1\"><sup><i><b>2</b></i></sup></a></span> <span class=\"reference-text\"><span class=\"citation\"><span lang=\"und\"><a rel=\"nofollow\" class=\"external text\" href=\"http://www.gks.ru/free_doc/new_site/perepis2010/croc/Documents/Vol1/pub-01-05.xlsx\">Росстат. Федеральная служба Государственной статистики. Города с численностью населения 100 тысяч человек и более</a></span><span class=\"hidden-ref\" style=\"display:none;\">&#160;&#160;<small class=\"ref-info\" style=\"cursor:help;\" title=\"на неопределённом языке\">(неопр.)</small></span>.&#32;<small>Дата обращения: 4 июня 2012.</small>&#32;<small><a rel=\"nofollow\" class=\"external text\" href=\"https://web.archive.org/web/20130702213008/http://www.gks.ru/free_doc/new_site/perepis2010/croc/Documents/Vol1/pub-01-05.xlsx\">Архивировано</a> 2 июля 2013 года.</small></span></span>\\n</li>\\n<li id=\"cite_note-nsk-7\"><span class=\"mw-cite-backlink\">↑ <a href=\"#cite_ref-nsk_7-0\"><sup><i><b>1</b></i></sup></a> <a href=\"#cite_ref-nsk_7-1\"><sup><i><b>2</b></i></sup></a></span> <span class=\"reference-text\"><span class=\"citation\"><span lang=\"und\"><a rel=\"nofollow\" class=\"external text\" href=\"https://web.archive.org/web/20120918042238/http://www.novosibstat.ru/public/release/press57_2012.htm\">Новосибирск преодолел полуторамиллионный рубеж</a></span><span class=\"hidden-ref\" style=\"display:none;\">&#160;&#160;<small class=\"ref-info\" style=\"cursor:help;\" title=\"на неопределённом языке\">(неопр.)</small></span>.&#32;<small>Дата обращения: 11 апреля 2012.</small>&#32;<small>Архивировано из <a rel=\"nofollow\" class=\"external text\" href=\"http://www.novosibstat.ru/public/release/press57_2012.htm\">оригинала</a> 18 сентября 2012 года.</small></span></span>\\n</li>\\n<li id=\"cite_note-8\"><span class=\"mw-cite-backlink\"><a href=\"#cite_ref-8\">↑</a></span> <span class=\"reference-text\"><span class=\"citation\"><i>Лакстыгал И.;&#32;Казарновский П.:&#32;</i>&#32;<span lang=\"ru\"><a rel=\"nofollow\" class=\"external text\" href=\"https://www.rbc.ru/rbcfreenews/5ba6bf999a7947314f827076\">Краснодар официально признали городом-миллионником</a></span><span class=\"hidden-ref\" style=\"display:none;\">&#160;&#160;<span class=\"ref-info\" style=\"cursor:help;\" title=\"на русском языке\">(рус.)</span></span>.&#32;<a href=\"/wiki/%D0%A0%D0%91%D0%9A\" title=\"РБК\">РБК</a>&#32;(23 сентября 2018).&#32;<small>Дата обращения: 5 сентября 2022.</small>&#32;<small><a rel=\"nofollow\" class=\"external text\" href=\"https://web.archive.org/web/20220905094534/https://www.rbc.ru/rbcfreenews/5ba6bf999a7947314f827076\">Архивировано</a> 5 сентября 2022 года.</small></span></span>\\n</li>\\n<li id=\"cite_note-ved2010-10\"><span class=\"mw-cite-backlink\">↑ <a href=\"#cite_ref-ved2010_10-0\"><sup><i><b>1</b></i></sup></a> <a href=\"#cite_ref-ved2010_10-1\"><sup><i><b>2</b></i></sup></a></span> <span class=\"reference-text\"><a rel=\"nofollow\" class=\"external text\" href=\"http://www.vedomosti.ru/newspaper/article/249680/peredel_rossii#ixzz15t0W9e8n\">Согласно экспертам Президента и Правительства</a> <a rel=\"nofollow\" class=\"external text\" href=\"https://web.archive.org/web/20110101083706/http://www.vedomosti.ru/newspaper/article/249680/peredel_rossii#ixzz15t0W9e8n\">Архивная копия</a> от 1 января 2011 на <a href=\"/wiki/Wayback_Machine\" title=\"Wayback Machine\">Wayback Machine</a> // <a href=\"/wiki/%D0%92%D0%B5%D0%B4%D0%BE%D0%BC%D0%BE%D1%81%D1%82%D0%B8\" title=\"Ведомости\">Ведомости</a></span>\\n</li>\\n<li id=\"cite_note-1764A-16\"><span class=\"mw-cite-backlink\">↑ <a href=\"#cite_ref-1764A_16-0\"><sup><i><b>1</b></i></sup></a> <a href=\"#cite_ref-1764A_16-1\"><sup><i><b>2</b></i></sup></a> <a href=\"#cite_ref-1764A_16-2\"><sup><i><b>3</b></i></sup></a> <a href=\"#cite_ref-1764A_16-3\"><sup><i><b>4</b></i></sup></a> <a href=\"#cite_ref-1764A_16-4\"><sup><i><b>5</b></i></sup></a> <a href=\"#cite_ref-1764A_16-5\"><sup><i><b>6</b></i></sup></a> <a href=\"#cite_ref-1764A_16-6\"><sup><i><b>7</b></i></sup></a> <a href=\"#cite_ref-1764A_16-7\"><sup><i><b>8</b></i></sup></a> <a href=\"#cite_ref-1764A_16-8\"><sup><i><b>9</b></i></sup></a> <a href=\"#cite_ref-1764A_16-9\"><sup><i><b>10</b></i></sup></a> <a href=\"#cite_ref-1764A_16-10\"><sup><i><b>11</b></i></sup></a> <a href=\"#cite_ref-1764A_16-11\"><sup><i><b>12</b></i></sup></a> <a href=\"#cite_ref-1764A_16-12\"><sup><i><b>13</b></i></sup></a> <a href=\"#cite_ref-1764A_16-13\"><sup><i><b>14</b></i></sup></a> <a href=\"#cite_ref-1764A_16-14\"><sup><i><b>15</b></i></sup></a> <a href=\"#cite_ref-1764A_16-15\"><sup><i><b>16</b></i></sup></a> <a href=\"#cite_ref-1764A_16-16\"><sup><i><b>17</b></i></sup></a> <a href=\"#cite_ref-1764A_16-17\"><sup><i><b>18</b></i></sup></a> <a href=\"#cite_ref-1764A_16-18\"><sup><i><b>19</b></i></sup></a> <a href=\"#cite_ref-1764A_16-19\"><sup><i><b>20</b></i></sup></a> <a href=\"#cite_ref-1764A_16-20\"><sup><i><b>21</b></i></sup></a> <a href=\"#cite_ref-1764A_16-21\"><sup><i><b>22</b></i></sup></a> <a href=\"#cite_ref-1764A_16-22\"><sup><i><b>23</b></i></sup></a> <a href=\"#cite_ref-1764A_16-23\"><sup><i><b>24</b></i></sup></a> <a href=\"#cite_ref-1764A_16-24\"><sup><i><b>25</b></i></sup></a> <a href=\"#cite_ref-1764A_16-25\"><sup><i><b>26</b></i></sup></a> <a href=\"#cite_ref-1764A_16-26\"><sup><i><b>27</b></i></sup></a> <a href=\"#cite_ref-1764A_16-27\"><sup><i><b>28</b></i></sup></a> <a href=\"#cite_ref-1764A_16-28\"><sup><i><b>29</b></i></sup></a> <a href=\"#cite_ref-1764A_16-29\"><sup><i><b>30</b></i></sup></a> <a href=\"#cite_ref-1764A_16-30\"><sup><i><b>31</b></i></sup></a> <a href=\"#cite_ref-1764A_16-31\"><sup><i><b>32</b></i></sup></a> <a href=\"#cite_ref-1764A_16-32\"><sup><i><b>33</b></i></sup></a> <a href=\"#cite_ref-1764A_16-33\"><sup><i><b>34</b></i></sup></a> <a href=\"#cite_ref-1764A_16-34\"><sup><i><b>35</b></i></sup></a> <a href=\"#cite_ref-1764A_16-35\"><sup><i><b>36</b></i></sup></a> <a href=\"#cite_ref-1764A_16-36\"><sup><i><b>37</b></i></sup></a> <a href=\"#cite_ref-1764A_16-37\"><sup><i><b>38</b></i></sup></a> <a href=\"#cite_ref-1764A_16-38\"><sup><i><b>39</b></i></sup></a> <a href=\"#cite_ref-1764A_16-39\"><sup><i><b>40</b></i></sup></a></span> <span class=\"reference-text\"><span class=\"citation\"><span lang=\"ru\"><a rel=\"nofollow\" class=\"external text\" href=\"https://web.archive.org/web/20110728185425/http://demoscope.ru/weekly/2004/0163/tema01.php\">Санкт-Петербург. 1703-2003: Юбилейный статистический сборник</a></span><span class=\"hidden-ref\" style=\"display:none;\">&#160;&#160;<span class=\"ref-info\" style=\"cursor:help;\" title=\"на русском языке\">(рус.)</span></span>.&#32;<small>Дата обращения: 25 сентября 2013.</small>&#32;<small>Архивировано из <a rel=\"nofollow\" class=\"external text\" href=\"http://demoscope.ru/weekly/2004/0163/tema01.php\">оригинала</a> 28 июля 2011 года.</small></span></span>\\n</li>\\n<li id=\"cite_note-1765BA-17\"><span class=\"mw-cite-backlink\">↑ <a href=\"#cite_ref-1765BA_17-0\"><sup><i><b>1</b></i></sup></a> <a href=\"#cite_ref-1765BA_17-1\"><sup><i><b>2</b></i></sup></a> <a href=\"#cite_ref-1765BA_17-2\"><sup><i><b>3</b></i></sup></a> <a href=\"#cite_ref-1765BA_17-3\"><sup><i><b>4</b></i></sup></a> <a href=\"#cite_ref-1765BA_17-4\"><sup><i><b>5</b></i></sup></a> <a href=\"#cite_ref-1765BA_17-5\"><sup><i><b>6</b></i></sup></a> <a href=\"#cite_ref-1765BA_17-6\"><sup><i><b>7</b></i></sup></a> <a href=\"#cite_ref-1765BA_17-7\"><sup><i><b>8</b></i></sup></a> <a href=\"#cite_ref-1765BA_17-8\"><sup><i><b>9</b></i></sup></a> <a href=\"#cite_ref-1765BA_17-9\"><sup><i><b>10</b></i></sup></a> <a href=\"#cite_ref-1765BA_17-10\"><sup><i><b>11</b></i></sup></a> <a href=\"#cite_ref-1765BA_17-11\"><sup><i><b>12</b></i></sup></a> <a href=\"#cite_ref-1765BA_17-12\"><sup><i><b>13</b></i></sup></a> <a href=\"#cite_ref-1765BA_17-13\"><sup><i><b>14</b></i></sup></a> <a href=\"#cite_ref-1765BA_17-14\"><sup><i><b>15</b></i></sup></a> <a href=\"#cite_ref-1765BA_17-15\"><sup><i><b>16</b></i></sup></a> <a href=\"#cite_ref-1765BA_17-16\"><sup><i><b>17</b></i></sup></a> <a href=\"#cite_ref-1765BA_17-17\"><sup><i><b>18</b></i></sup></a> <a href=\"#cite_ref-1765BA_17-18\"><sup><i><b>19</b></i></sup></a> <a href=\"#cite_ref-1765BA_17-19\"><sup><i><b>20</b></i></sup></a> <a href=\"#cite_ref-1765BA_17-20\"><sup><i><b>21</b></i></sup></a></span> <span class=\"reference-text\"><span class=\"citation\"><span lang=\"ru\"><a rel=\"nofollow\" class=\"external text\" href=\"http://www.MojGorod.ru/gor_spb/spb/index.html\">Народная энциклопедия «Мой город». Санкт-Петербург</a></span><span class=\"hidden-ref\" style=\"display:none;\">&#160;&#160;<span class=\"ref-info\" style=\"cursor:help;\" title=\"на русском языке\">(рус.)</span></span>.&#32;<small>Дата обращения: 16 октября 2013.</small>&#32;<small><a rel=\"nofollow\" class=\"external text\" href=\"https://web.archive.org/web/20130823084420/http://www.mojgorod.ru/gor_spb/spb/index.html\">Архивировано</a> 23 августа 2013 года.</small></span></span>\\n</li>\\n<li id=\"cite_note-1897X-18\"><span class=\"mw-cite-backlink\"><a href=\"#cite_ref-1897X_18-0\">↑</a></span> <span class=\"reference-text\"><span class=\"citation\"><span lang=\"ru\"><a rel=\"nofollow\" class=\"external text\" href=\"https://web.archive.org/web/20140201213934/http://demoscope.ru/weekly/ssp/rus_gub_97.php?reg=37\">Первая Всеобщая перепись населения Российской империи 1897 года. Санкт-Петербургская губерния</a></span><span class=\"hidden-ref\" style=\"display:none;\">&#160;&#160;<span class=\"ref-info\" style=\"cursor:help;\" title=\"на русском языке\">(рус.)</span></span>.&#32;<small>Дата обращения: 26 октября 2013.</small>&#32;<small>Архивировано из <a rel=\"nofollow\" class=\"external text\" href=\"http://demoscope.ru/weekly/ssp/rus_gub_97.php?reg=37\">оригинала</a> 1 февраля 2014 года.</small></span></span>\\n</li>\\n<li id=\"cite_note-1937PER-19\"><span class=\"mw-cite-backlink\">↑ <a href=\"#cite_ref-1937PER_19-0\"><sup><i><b>1</b></i></sup></a> <a href=\"#cite_ref-1937PER_19-1\"><sup><i><b>2</b></i></sup></a> <a href=\"#cite_ref-1937PER_19-2\"><sup><i><b>3</b></i></sup></a> <a href=\"#cite_ref-1937PER_19-3\"><sup><i><b>4</b></i></sup></a></span> <span class=\"reference-text\"><a rel=\"nofollow\" class=\"external text\" href=\"http://docs.historyrussia.org/ru/nodes/47581-vsesoyuznaya-perepis-naseleniya-1937-goda-obschie-itogi#mode/inspect/page/64/zoom/4\">Всесоюзная перепись населения 1937 года: Общие итоги. Сборник документов и материалов / Сост. В.Б.Жиромская, Ю.А.Поляков. — М.: «Российская политическая энциклопедия» (РОССПЭН), 2007. — 320 с.; ISBN 5-8243-0337-1.</a></span>\\n</li>\\n<li id=\"cite_note-20\"><span class=\"mw-cite-backlink\"><a href=\"#cite_ref-20\">↑</a></span> <span class=\"reference-text\"><a rel=\"nofollow\" class=\"external text\" href=\"http://istmat.info/node/20228\">Статистический справочник СССР за 1928 г.</a></span>\\n</li>\\n<li id=\"cite_note-1931AD-21\"><span class=\"mw-cite-backlink\">↑ <a href=\"#cite_ref-1931AD_21-0\"><sup><i><b>1</b></i></sup></a> <a href=\"#cite_ref-1931AD_21-1\"><sup><i><b>2</b></i></sup></a></span> <span class=\"reference-text\"><span class=\"citation no-wikidata\" data-wikidata-property-id=\"P1343\"><a rel=\"nofollow\" class=\"external text\" href=\"http://istmat.info/files/uploads/17630/sssr_ad-ter_delenie_1931_rsfsr.pdf\">Административно-территориальное деление Союза ССР&#160;: [Районы и города СССР на 1931 год</a>]<span class=\"hidden-ref\" style=\"display:none\">&#160;<small class=\"ref-info\" style=\"cursor:help;\" title=\"на русском языке\">(рус.)</small></span>.&#160;— Москва: Власть советов, 1931.&#160;— XXX, 311&#160;с.</span></span>\\n</li>\\n<li id=\"cite_note-1939AG-22\"><span class=\"mw-cite-backlink\"><a href=\"#cite_ref-1939AG_22-0\">↑</a></span> <span class=\"reference-text\"><span class=\"citation\"><span lang=\"ru\"><a rel=\"nofollow\" class=\"external text\" href=\"http://demoscope.ru/weekly/ssp/rus_pop_39_2.php\">Всесоюзная перепись населения 1939 года. Численность наличного населения СССР по районам и городам</a></span><span class=\"hidden-ref\" style=\"display:none;\">&#160;&#160;<span class=\"ref-info\" style=\"cursor:help;\" title=\"на русском языке\">(рус.)</span></span>.&#32;<small>Дата обращения: 20 ноября 2013.</small>&#32;<small><a rel=\"nofollow\" class=\"external text\" href=\"https://web.archive.org/web/20131118162613/http://demoscope.ru:80/weekly/ssp/rus_pop_39_2.php\">Архивировано</a> 18 ноября 2013 года.</small></span></span>\\n</li>\\n<li id=\"cite_note-1956A-23\"><span class=\"mw-cite-backlink\">↑ <a href=\"#cite_ref-1956A_23-0\"><sup><i><b>1</b></i></sup></a> <a href=\"#cite_ref-1956A_23-1\"><sup><i><b>2</b></i></sup></a></span> <span class=\"reference-text\"><span class=\"citation\"><span lang=\"ru\"><a rel=\"nofollow\" class=\"external text\" href=\"https://web.archive.org/web/20140716031938/http://istmat.info/files/uploads/17165/narhoz_sssr_1956_svodnyy.pdf\">Народное хозяйство СССР в 1956 г. (Статистический сборник). Государственное статистическое издательство. Москва. 1956</a></span><span class=\"hidden-ref\" style=\"display:none;\">&#160;&#160;<span class=\"ref-info\" style=\"cursor:help;\" title=\"на русском языке\">(рус.)</span></span>.&#32;<small>Дата обращения: 26 октября 2013.</small>&#32;<small>Архивировано из <a rel=\"nofollow\" class=\"external text\" href=\"http://istmat.info/files/uploads/17165/narhoz_sssr_1956_svodnyy.pdf\">оригинала</a> 16 июля 2014 года.</small></span></span>\\n</li>\\n<li id=\"cite_note-1959B-24\"><span class=\"mw-cite-backlink\"><a href=\"#cite_ref-1959B_24-0\">↑</a></span> <span class=\"reference-text\"><span class=\"citation\"><span lang=\"ru\"><a rel=\"nofollow\" class=\"external text\" href=\"http://demoscope.ru/weekly/ssp/rus59_reg1.php\">Всесоюзная перепись населения 1959 года. Численность наличного населения городов и других поселений, районов, районных центров и крупных сельских населенных мест на 15 января 1959 года по республикам, краям и областям РСФСР</a></span><span class=\"hidden-ref\" style=\"display:none;\">&#160;&#160;<span class=\"ref-info\" style=\"cursor:help;\" title=\"на русском языке\">(рус.)</span></span>.&#32;<small>Дата обращения: 10 октября 2013.</small>&#32;<small><a rel=\"nofollow\" class=\"external text\" href=\"https://web.archive.org/web/20131019131830/http://demoscope.ru/weekly/ssp/rus59_reg1.php\">Архивировано</a> 19 октября 2013 года.</small></span></span>\\n</li>\\n<li id=\"cite_note-1970B-25\"><span class=\"mw-cite-backlink\"><a href=\"#cite_ref-1970B_25-0\">↑</a></span> <span class=\"reference-text\"><span class=\"citation\"><span lang=\"ru\"><a rel=\"nofollow\" class=\"external text\" href=\"http://demoscope.ru/weekly/ssp/rus70_reg1.php\">Всесоюзная перепись населения 1970 года. Численность наличного населения городов, поселков городского типа, районов и районных центров СССР по данным переписи на 15 января 1970 года по республикам, краям и областям</a></span><span class=\"hidden-ref\" style=\"display:none;\">&#160;&#160;<span class=\"ref-info\" style=\"cursor:help;\" title=\"на русском языке\">(рус.)</span></span>.&#32;<small>Дата обращения: 14 октября 2013.</small>&#32;<small><a rel=\"nofollow\" class=\"external text\" href=\"https://web.archive.org/web/20131019131839/http://demoscope.ru/weekly/ssp/rus70_reg1.php\">Архивировано</a> 19 октября 2013 года.</small></span></span>\\n</li>\\n<li id=\"cite_note-1998C-26\"><span class=\"mw-cite-backlink\">↑ <a href=\"#cite_ref-1998C_26-0\"><sup><i><b>1</b></i></sup></a> <a href=\"#cite_ref-1998C_26-1\"><sup><i><b>2</b></i></sup></a></span> <span class=\"reference-text\"><a rel=\"nofollow\" class=\"external text\" href=\"http://istmat.info/files/uploads/41385/rossiyskiy_statisticheskiy_ezhegodnik_1998_g.pdf\">Российский статистический ежегодник, 1998 год</a></span>\\n</li>\\n<li id=\"cite_note-1979B-27\"><span class=\"mw-cite-backlink\"><a href=\"#cite_ref-1979B_27-0\">↑</a></span> <span class=\"reference-text\"><span class=\"citation\"><span lang=\"ru\"><a rel=\"nofollow\" class=\"external text\" href=\"http://demoscope.ru/weekly/ssp/rus79_reg1.php\">Всесоюзная перепись населения 1979 года. Численность наличного населения РСФСР, автономных республик, автономных областей и округов, краев, областей, районов, городских поселений, сел-райцентров и сельских поселений с населением свыше 5000 человек</a></span><span class=\"hidden-ref\" style=\"display:none;\">&#160;&#160;<span class=\"ref-info\" style=\"cursor:help;\" title=\"на русском языке\">(рус.)</span></span>.</span>\\n</span>\\n</li>\\n<li id=\"cite_note-1989A-28\"><span class=\"mw-cite-backlink\"><a href=\"#cite_ref-1989A_28-0\">↑</a></span> <span class=\"reference-text\"><span class=\"citation\"><span lang=\"ru\"><a rel=\"nofollow\" class=\"external text\" href=\"http://demoscope.ru/weekly/ssp/rus89_reg1.php\">Всесоюзная перепись населения 1989 года. Численность населения СССР, РСФСР и ее территориальных единиц по полу</a></span><span class=\"hidden-ref\" style=\"display:none;\">&#160;&#160;<span class=\"ref-info\" style=\"cursor:help;\" title=\"на русском языке\">(рус.)</span></span>.&#32;<small><a rel=\"nofollow\" class=\"external text\" href=\"https://web.archive.org/web/20111010033657/http://demoscope.ru:80/weekly/ssp/rus89_reg1.php\">Архивировано</a> 10 октября 2011 года.</small></span></span>\\n</li>\\n<li id=\"cite_note-1990A-29\"><span class=\"mw-cite-backlink\">↑ <a href=\"#cite_ref-1990A_29-0\"><sup><i><b>1</b></i></sup></a> <a href=\"#cite_ref-1990A_29-1\"><sup><i><b>2</b></i></sup></a> <a href=\"#cite_ref-1990A_29-2\"><sup><i><b>3</b></i></sup></a> <a href=\"#cite_ref-1990A_29-3\"><sup><i><b>4</b></i></sup></a> <a href=\"#cite_ref-1990A_29-4\"><sup><i><b>5</b></i></sup></a> <a href=\"#cite_ref-1990A_29-5\"><sup><i><b>6</b></i></sup></a> <a href=\"#cite_ref-1990A_29-6\"><sup><i><b>7</b></i></sup></a> <a href=\"#cite_ref-1990A_29-7\"><sup><i><b>8</b></i></sup></a> <a href=\"#cite_ref-1990A_29-8\"><sup><i><b>9</b></i></sup></a> <a href=\"#cite_ref-1990A_29-9\"><sup><i><b>10</b></i></sup></a> <a href=\"#cite_ref-1990A_29-10\"><sup><i><b>11</b></i></sup></a> <a href=\"#cite_ref-1990A_29-11\"><sup><i><b>12</b></i></sup></a> <a href=\"#cite_ref-1990A_29-12\"><sup><i><b>13</b></i></sup></a> <a href=\"#cite_ref-1990A_29-13\"><sup><i><b>14</b></i></sup></a> <a href=\"#cite_ref-1990A_29-14\"><sup><i><b>15</b></i></sup></a> <a href=\"#cite_ref-1990A_29-15\"><sup><i><b>16</b></i></sup></a> <a href=\"#cite_ref-1990A_29-16\"><sup><i><b>17</b></i></sup></a> <a href=\"#cite_ref-1990A_29-17\"><sup><i><b>18</b></i></sup></a> <a href=\"#cite_ref-1990A_29-18\"><sup><i><b>19</b></i></sup></a> <a href=\"#cite_ref-1990A_29-19\"><sup><i><b>20</b></i></sup></a> <a href=\"#cite_ref-1990A_29-20\"><sup><i><b>21</b></i></sup></a> <a href=\"#cite_ref-1990A_29-21\"><sup><i><b>22</b></i></sup></a> <a href=\"#cite_ref-1990A_29-22\"><sup><i><b>23</b></i></sup></a> <a href=\"#cite_ref-1990A_29-23\"><sup><i><b>24</b></i></sup></a> <a href=\"#cite_ref-1990A_29-24\"><sup><i><b>25</b></i></sup></a> <a href=\"#cite_ref-1990A_29-25\"><sup><i><b>26</b></i></sup></a> <a href=\"#cite_ref-1990A_29-26\"><sup><i><b>27</b></i></sup></a> <a href=\"#cite_ref-1990A_29-27\"><sup><i><b>28</b></i></sup></a> <a href=\"#cite_ref-1990A_29-28\"><sup><i><b>29</b></i></sup></a> <a href=\"#cite_ref-1990A_29-29\"><sup><i><b>30</b></i></sup></a> <a href=\"#cite_ref-1990A_29-30\"><sup><i><b>31</b></i></sup></a> <a href=\"#cite_ref-1990A_29-31\"><sup><i><b>32</b></i></sup></a> <a href=\"#cite_ref-1990A_29-32\"><sup><i><b>33</b></i></sup></a> <a href=\"#cite_ref-1990A_29-33\"><sup><i><b>34</b></i></sup></a> <a href=\"#cite_ref-1990A_29-34\"><sup><i><b>35</b></i></sup></a> <a href=\"#cite_ref-1990A_29-35\"><sup><i><b>36</b></i></sup></a> <a href=\"#cite_ref-1990A_29-36\"><sup><i><b>37</b></i></sup></a> <a href=\"#cite_ref-1990A_29-37\"><sup><i><b>38</b></i></sup></a> <a href=\"#cite_ref-1990A_29-38\"><sup><i><b>39</b></i></sup></a> <a href=\"#cite_ref-1990A_29-39\"><sup><i><b>40</b></i></sup></a> <a href=\"#cite_ref-1990A_29-40\"><sup><i><b>41</b></i></sup></a></span> <span class=\"reference-text\"><a rel=\"nofollow\" class=\"external text\" href=\"http://www.fedstat.ru/indicator/data.do?id=31557\">Численность постоянного населения на 1 января (человек) 1990-2013 года</a></span>\\n</li>\\n<li id=\"cite_note-2002B-30\"><span class=\"mw-cite-backlink\">↑ <a href=\"#cite_ref-2002B_30-0\"><sup><i><b>1</b></i></sup></a> <a href=\"#cite_ref-2002B_30-1\"><sup><i><b>2</b></i></sup></a></span> <span class=\"reference-text\"><span class=\"citation\"><span lang=\"ru\"><a rel=\"nofollow\" class=\"external text\" href=\"http://www.perepis2002.ru/ct/doc/1_TOM_01_04.xls\">Всероссийская перепись населения 2002 года. Том. 1, таблица 4. Численность населения России, федеральных округов, субъектов Российской Федерации, районов, городских поселений, сельских населённых пунктов - райцентров и сельских населённых пунктов с населением 3 тысячи и более</a></span><span class=\"hidden-ref\" style=\"display:none;\">&#160;&#160;<span class=\"ref-info\" style=\"cursor:help;\" title=\"на русском языке\">(рус.)</span></span>.&#32;<small><a rel=\"nofollow\" class=\"external text\" href=\"https://web.archive.org/web/20120203125040/http://www.perepis2002.ru/ct/doc/1_TOM_01_04.xls\">Архивировано</a> 3 февраля 2012 года.</small></span></span>\\n</li>\\n<li id=\"cite_note-2010W-31\"><span class=\"mw-cite-backlink\">↑ <a href=\"#cite_ref-2010W_31-0\"><sup><i><b>1</b></i></sup></a> <a href=\"#cite_ref-2010W_31-1\"><sup><i><b>2</b></i></sup></a></span> <span class=\"reference-text\"><span class=\"citation\"><span lang=\"ru\"><a rel=\"nofollow\" class=\"external text\" href=\"http://www.gks.ru/free_doc/new_site/perepis2010/croc/Documents/Vol1/pub-01-11.xlsx\">Перепись населения 2010. Численность населения России, федеральных округов, субъектов Российской Федерации, городских округов, муниципальных районов, городских и сельских поселений</a></span><span class=\"hidden-ref\" style=\"display:none;\">&#160;&#160;<span class=\"ref-info\" style=\"cursor:help;\" title=\"на русском языке\">(рус.)</span></span>.&#32;Федеральная служба государственной статистики.&#32;<small>Дата обращения: 2013.</small>&#32;<small><a rel=\"nofollow\" class=\"external text\" href=\"https://web.archive.org/web/20130906112443/http://www.gks.ru/free_doc/new_site/perepis2010/croc/Documents/Vol1/pub-01-11.xlsx\">Архивировано</a> 6 сентября 2013 года.</small></span></span>\\n</li>\\n<li id=\"cite_note-2012A-32\"><span class=\"mw-cite-backlink\"><a href=\"#cite_ref-2012A_32-0\">↑</a></span> <span class=\"reference-text\"><span class=\"citation\"><span lang=\"ru\"><a rel=\"nofollow\" class=\"external text\" href=\"http://www.gks.ru/free_doc/doc_2012/bul_dr/mun_obr2012.rar\">Численность населения Российской Федерации по муниципальным образованиям. Таблица 35. Оценка численности постоянного населения на 1 января 2012 года</a></span><span class=\"hidden-ref\" style=\"display:none;\">&#160;&#160;<span class=\"ref-info\" style=\"cursor:help;\" title=\"на русском языке\">(рус.)</span></span>.&#32;<small>Дата обращения: 31 мая 2014.</small>&#32;<small><a rel=\"nofollow\" class=\"external text\" href=\"http://web.archive.org/web/20130516092833/http://www.gks.ru/free_doc/doc_2012/bul_dr/mun_obr2012.rar\">Архивировано</a> 16 мая 2013 года.</small></span></span>\\n</li>\\n<li id=\"cite_note-2013W-33\"><span class=\"mw-cite-backlink\">↑ <a href=\"#cite_ref-2013W_33-0\"><sup><i><b>1</b></i></sup></a> <a href=\"#cite_ref-2013W_33-1\"><sup><i><b>2</b></i></sup></a></span> <span class=\"reference-text\"><span class=\"citation\"><span lang=\"ru\"><a rel=\"nofollow\" class=\"external text\" href=\"https://web.archive.org/web/20131012013314/www.gks.ru/free_doc/doc_2013/bul_dr/mun_obr2013.rar\">Численность населения Российской Федерации по муниципальным образованиям на 1 января 2013 года</a></span><span class=\"hidden-ref\" style=\"display:none;\">&#160;&#160;<span class=\"ref-info\" style=\"cursor:help;\" title=\"на русском языке\">(рус.)</span></span>.&#32;<abbr title=\"Москва\">М.</abbr>:&#32;Федеральная служба государственной статистики Росстат&#32;(2013).&#160;— Табл. 33. Численность населения городских округов, муниципальных районов, городских и сельских поселений, городских населённых пунктов, сельских населённых пунктов<small>.</small>&#32;<small>Дата обращения: 16 ноября 2013.</small>&#32;<small>Архивировано из <a rel=\"nofollow\" class=\"external text\" href=\"http://www.gks.ru/free_doc/doc_2013/bul_dr/mun_obr2013.rar\">оригинала</a> 12 октября 2013 года.</small></span></span>\\n</li>\\n<li id=\"cite_note-2014CQ-34\"><span class=\"mw-cite-backlink\">↑ <a href=\"#cite_ref-2014CQ_34-0\"><sup><i><b>1</b></i></sup></a> <a href=\"#cite_ref-2014CQ_34-1\"><sup><i><b>2</b></i></sup></a></span> <span class=\"reference-text\"><span class=\"citation\"><span lang=\"ru\"><a rel=\"nofollow\" class=\"external text\" href=\"http://www.gks.ru/free_doc/doc_2014/bul_dr/mun_obr2014.rar\">Таблица 33. Численность населения Российской Федерации по муниципальным образованиям на 1 января 2014 года</a></span><span class=\"hidden-ref\" style=\"display:none;\">&#160;&#160;<span class=\"ref-info\" style=\"cursor:help;\" title=\"на русском языке\">(рус.)</span></span>.&#32;<small>Дата обращения: 2 августа 2014.</small>&#32;<small><a rel=\"nofollow\" class=\"external text\" href=\"https://web.archive.org/web/20140810202114/http://www.gks.ru/free_doc/doc_2014/bul_dr/mun_obr2014.rar\">Архивировано</a> 10 августа 2014 года.</small></span></span>\\n</li>\\n<li id=\"cite_note-2015DS-35\"><span class=\"mw-cite-backlink\">↑ <a href=\"#cite_ref-2015DS_35-0\"><sup><i><b>1</b></i></sup></a> <a href=\"#cite_ref-2015DS_35-1\"><sup><i><b>2</b></i></sup></a></span> <span class=\"reference-text\"><span class=\"citation\"><span lang=\"ru\"><a rel=\"nofollow\" class=\"external text\" href=\"http://www.gks.ru/free_doc/doc_2015/bul_dr/mun_obr2015.rar\">Численность населения Российской Федерации по муниципальным образованиям на 1 января 2015 года</a></span><span class=\"hidden-ref\" style=\"display:none;\">&#160;&#160;<span class=\"ref-info\" style=\"cursor:help;\" title=\"на русском языке\">(рус.)</span></span>.&#32;<small>Дата обращения: 6 августа 2015.</small>&#32;<small><a rel=\"nofollow\" class=\"external text\" href=\"https://web.archive.org/web/20150923180801/http://www.gks.ru/free_doc/doc_2015/bul_dr/mun_obr2015.rar\">Архивировано</a> 23 сентября 2015 года.</small></span></span>\\n</li>\\n<li id=\"cite_note-2016AA-36\"><span class=\"mw-cite-backlink\">↑ <a href=\"#cite_ref-2016AA_36-0\"><sup><i><b>1</b></i></sup></a> <a href=\"#cite_ref-2016AA_36-1\"><sup><i><b>2</b></i></sup></a></span> <span class=\"reference-text\"><span class=\"citation\"><span lang=\"ru\"><a rel=\"nofollow\" class=\"external text\" href=\"http://www.gks.ru/free_doc/doc_2016/bul_dr/mun_obr2016.rar\">Численность населения Российской Федерации по муниципальным образованиям на 1 января 2016 года</a></span><span class=\"hidden-ref\" style=\"display:none;\">&#160;&#160;<span class=\"ref-info\" style=\"cursor:help;\" title=\"на русском языке\">(рус.)</span></span>&#32;(5 октября 2018).&#32;<small>Дата обращения: 15 мая 2021.</small>&#32;<small><a rel=\"nofollow\" class=\"external text\" href=\"http://web.archive.org/web/20210508043701/http://www.gks.ru/free_doc/doc_2016/bul_dr/mun_obr2016.rar\">Архивировано</a> 8 мая 2021 года.</small></span></span>\\n</li>\\n<li id=\"cite_note-2017AA-37\"><span class=\"mw-cite-backlink\">↑ <a href=\"#cite_ref-2017AA_37-0\"><sup><i><b>1</b></i></sup></a> <a href=\"#cite_ref-2017AA_37-1\"><sup><i><b>2</b></i></sup></a></span> <span class=\"reference-text\"><span class=\"citation\"><span lang=\"ru\"><a rel=\"nofollow\" class=\"external text\" href=\"http://www.gks.ru/free_doc/doc_2017/bul_dr/mun_obr2017.rar\">Численность населения Российской Федерации по муниципальным образованиям на 1 января 2017 года</a></span><span class=\"hidden-ref\" style=\"display:none;\">&#160;&#160;<span class=\"ref-info\" style=\"cursor:help;\" title=\"на русском языке\">(рус.)</span></span>&#32;(31 июля 2017).&#32;<small>Дата обращения: 31 июля 2017.</small>&#32;<small><a rel=\"nofollow\" class=\"external text\" href=\"http://web.archive.org/web/20170731141731/http://www.gks.ru/free_doc/doc_2017/bul_dr/mun_obr2017.rar\">Архивировано</a> 31 июля 2017 года.</small></span></span>\\n</li>\\n<li id=\"cite_note-2018AA-38\"><span class=\"mw-cite-backlink\">↑ <a href=\"#cite_ref-2018AA_38-0\"><sup><i><b>1</b></i></sup></a> <a href=\"#cite_ref-2018AA_38-1\"><sup><i><b>2</b></i></sup></a></span> <span class=\"reference-text\"><span class=\"citation\"><span lang=\"ru\"><a rel=\"nofollow\" class=\"external text\" href=\"http://www.gks.ru/free_doc/doc_2018/bul_dr/mun_obr2018.rar\">Численность населения Российской Федерации по муниципальным образованиям на 1 января 2018 года</a></span><span class=\"hidden-ref\" style=\"display:none;\">&#160;&#160;<span class=\"ref-info\" style=\"cursor:help;\" title=\"на русском языке\">(рус.)</span></span>.&#32;<small>Дата обращения: 25 июля 2018.</small>&#32;<small><a rel=\"nofollow\" class=\"external text\" href=\"http://web.archive.org/web/20180726010024/http://www.gks.ru/free_doc/doc_2018/bul_dr/mun_obr2018.rar\">Архивировано</a> 26 июля 2018 года.</small></span></span>\\n</li>\\n<li id=\"cite_note-2019AA-39\"><span class=\"mw-cite-backlink\">↑ <a href=\"#cite_ref-2019AA_39-0\"><sup><i><b>1</b></i></sup></a> <a href=\"#cite_ref-2019AA_39-1\"><sup><i><b>2</b></i></sup></a></span> <span class=\"reference-text\"><span class=\"citation\"><span lang=\"ru\"><a rel=\"nofollow\" class=\"external text\" href=\"http://www.gks.ru/free_doc/doc_2019/bul_dr/mun_obr2019.rar\">Численность населения Российской Федерации по муниципальным образованиям на 1 января 2019 года</a></span><span class=\"hidden-ref\" style=\"display:none;\">&#160;&#160;<span class=\"ref-info\" style=\"cursor:help;\" title=\"на русском языке\">(рус.)</span></span>.&#32;<small>Дата обращения: 31 июля 2019.</small>&#32;<small><a rel=\"nofollow\" class=\"external text\" href=\"https://web.archive.org/web/20210502132133/http://www.gks.ru/free_doc/doc_2019/bul_dr/mun_obr2019.rar\">Архивировано</a> 2 мая 2021 года.</small></span></span>\\n</li>\\n<li id=\"cite_note-2020AA-40\"><span class=\"mw-cite-backlink\">↑ <a href=\"#cite_ref-2020AA_40-0\"><sup><i><b>1</b></i></sup></a> <a href=\"#cite_ref-2020AA_40-1\"><sup><i><b>2</b></i></sup></a></span> <span class=\"reference-text\"><span class=\"citation\"><span lang=\"ru\"><a rel=\"nofollow\" class=\"external text\" href=\"https://rosstat.gov.ru/storage/mediabank/CcG8qBhP/mun_obr2020.rar\">Численность населения Российской Федерации по муниципальным образованиям на 1 января 2020 года</a></span><span class=\"hidden-ref\" style=\"display:none;\">&#160;&#160;<span class=\"ref-info\" style=\"cursor:help;\" title=\"на русском языке\">(рус.)</span></span>.&#32;<small>Дата обращения: 17 октября 2020.</small>&#32;<small><a rel=\"nofollow\" class=\"external text\" href=\"https://web.archive.org/web/20200822004543/https://rosstat.gov.ru/storage/mediabank/CcG8qBhP/mun_obr2020.rar\">Архивировано</a> 17 октября 2020 года.</small></span></span>\\n</li>\\n<li id=\"cite_note-2021RU-41\"><span class=\"mw-cite-backlink\">↑ <a href=\"#cite_ref-2021RU_41-0\"><sup><i><b>1</b></i></sup></a> <a href=\"#cite_ref-2021RU_41-1\"><sup><i><b>2</b></i></sup></a></span> <span class=\"reference-text\"><span class=\"citation\"><span lang=\"ru\"><a rel=\"nofollow\" class=\"external text\" href=\"https://rosstat.gov.ru/storage/mediabank/tab-5_VPN-2020.xlsx\">Таблица 5. Численность населения России, федеральных округов, субъектов Российской Федерации, городских округов, муниципальных районов, муниципальных округов, городских и сельских поселений, городских населенных пунктов, сельских населенных пунктов с населением 3000 человек и более</a></span>.&#32;<small><a rel=\"nofollow\" class=\"external text\" href=\"https://rosstat.gov.ru/vpn_popul\">Итоги Всероссийской переписи населения 2020 года</a>. На 1 октября 2021 года. Том 1. Численность и размещения населения</small><span class=\"hidden-ref\" style=\"display:none;\">&#160;&#160;<span class=\"ref-info\" style=\"cursor:help;\" title=\"на русском языке\">(рус.)</span></span>&#32;(XLSX)<small>.</small>&#32;<small>Дата обращения: 1 сентября 2022.</small>&#32;<small><a rel=\"nofollow\" class=\"external text\" href=\"https://web.archive.org/web/20220901194902/https://rosstat.gov.ru/storage/mediabank/tab-5_VPN-2020.xlsx\">Архивировано</a> 1 сентября 2022 года.</small></span></span>\\n</li>\\n<li id=\"cite_note-2022AB-42\"><span class=\"mw-cite-backlink\">↑ <a href=\"#cite_ref-2022AB_42-0\"><sup><i><b>1</b></i></sup></a> <a href=\"#cite_ref-2022AB_42-1\"><sup><i><b>2</b></i></sup></a></span> <span class=\"reference-text\"><span class=\"citation\"><span lang=\"ru\"><a rel=\"nofollow\" class=\"external text\" href=\"https://rosstat.gov.ru/storage/mediabank/chisl_RF_01-01-2022_VPN-2020.xls\">Численность населения по полу по субъектам Российской Федерации на 1 января 2022 года (с учётом итогов Всероссийской переписи населения 2020 г.)</a></span>.&#32;<small>Федеральная служба государственной статистики</small><span class=\"hidden-ref\" style=\"display:none;\">&#160;&#160;<span class=\"ref-info\" style=\"cursor:help;\" title=\"на русском языке\">(рус.)</span></span>&#32;(30 декабря 2022)<small>.</small>&#32;<small>Дата обращения: 16 января 2023.</small></span></span>\\n</li>\\n<li id=\"cite_note-2023AA-43\"><span class=\"mw-cite-backlink\">↑ <a href=\"#cite_ref-2023AA_43-0\"><sup><i><b>1</b></i></sup></a> <a href=\"#cite_ref-2023AA_43-1\"><sup><i><b>2</b></i></sup></a></span> <span class=\"reference-text\"><span class=\"citation\"><span lang=\"ru\"><a rel=\"nofollow\" class=\"external text\" href=\"https://rosstat.gov.ru/storage/mediabank/Bul_MO_2023.xlsx\">Численность постоянного населения Российской Федерации по муниципальным образованиям на 1 января 2023 года (с учётом итогов Всероссийской переписи населения 2020 г.)</a></span>.&#32;<small>Федеральная служба государственной статистики</small><span class=\"hidden-ref\" style=\"display:none;\">&#160;&#160;<span class=\"ref-info\" style=\"cursor:help;\" title=\"на русском языке\">(рус.)</span></span>&#32;(18 августа 2023)<small>.</small>&#32;<small>Дата обращения: 23 августа 2023.</small></span></span>\\n</li>\\n<li id=\"cite_note-1785BA-44\"><span class=\"mw-cite-backlink\">↑ <a href=\"#cite_ref-1785BA_44-0\"><sup><i><b>1</b></i></sup></a> <a href=\"#cite_ref-1785BA_44-1\"><sup><i><b>2</b></i></sup></a> <a href=\"#cite_ref-1785BA_44-2\"><sup><i><b>3</b></i></sup></a> <a href=\"#cite_ref-1785BA_44-3\"><sup><i><b>4</b></i></sup></a> <a href=\"#cite_ref-1785BA_44-4\"><sup><i><b>5</b></i></sup></a> <a href=\"#cite_ref-1785BA_44-5\"><sup><i><b>6</b></i></sup></a> <a href=\"#cite_ref-1785BA_44-6\"><sup><i><b>7</b></i></sup></a> <a href=\"#cite_ref-1785BA_44-7\"><sup><i><b>8</b></i></sup></a> <a href=\"#cite_ref-1785BA_44-8\"><sup><i><b>9</b></i></sup></a> <a href=\"#cite_ref-1785BA_44-9\"><sup><i><b>10</b></i></sup></a> <a href=\"#cite_ref-1785BA_44-10\"><sup><i><b>11</b></i></sup></a> <a href=\"#cite_ref-1785BA_44-11\"><sup><i><b>12</b></i></sup></a> <a href=\"#cite_ref-1785BA_44-12\"><sup><i><b>13</b></i></sup></a> <a href=\"#cite_ref-1785BA_44-13\"><sup><i><b>14</b></i></sup></a> <a href=\"#cite_ref-1785BA_44-14\"><sup><i><b>15</b></i></sup></a> <a href=\"#cite_ref-1785BA_44-15\"><sup><i><b>16</b></i></sup></a> <a href=\"#cite_ref-1785BA_44-16\"><sup><i><b>17</b></i></sup></a> <a href=\"#cite_ref-1785BA_44-17\"><sup><i><b>18</b></i></sup></a> <a href=\"#cite_ref-1785BA_44-18\"><sup><i><b>19</b></i></sup></a> <a href=\"#cite_ref-1785BA_44-19\"><sup><i><b>20</b></i></sup></a> <a href=\"#cite_ref-1785BA_44-20\"><sup><i><b>21</b></i></sup></a> <a href=\"#cite_ref-1785BA_44-21\"><sup><i><b>22</b></i></sup></a></span> <span class=\"reference-text\"><span class=\"citation\"><span lang=\"ru\"><a rel=\"nofollow\" class=\"external text\" href=\"http://www.MojGorod.ru/gor_moskva/moskva/index.html\">Народная энциклопедия «Мой город». Москва</a></span><span class=\"hidden-ref\" style=\"display:none;\">&#160;&#160;<span class=\"ref-info\" style=\"cursor:help;\" title=\"на русском языке\">(рус.)</span></span>.&#32;<small>Дата обращения: 16 октября 2013.</small>&#32;<small><a rel=\"nofollow\" class=\"external text\" href=\"https://web.archive.org/web/20131005034927/http://www.mojgorod.ru/gor_moskva/moskva/index.html\">Архивировано</a> 5 октября 2013 года.</small></span></span>\\n</li>\\n<li id=\"cite_note-1897C-45\"><span class=\"mw-cite-backlink\"><a href=\"#cite_ref-1897C_45-0\">↑</a></span> <span class=\"reference-text\"><span class=\"citation\"><span lang=\"ru\"><a rel=\"nofollow\" class=\"external text\" href=\"http://www.gks.ru/free_doc/doc_2011/year/year2011.rar\">Города с численностью населения 100 тысяч и более человек</a></span><span class=\"hidden-ref\" style=\"display:none;\">&#160;&#160;<span class=\"ref-info\" style=\"cursor:help;\" title=\"на русском языке\">(рус.)</span></span>.&#32;<small>Дата обращения: 17 августа 2013.</small>&#32;<small><a rel=\"nofollow\" class=\"external text\" href=\"https://web.archive.org/web/20131110040429/http://www.gks.ru/free_doc/doc_2011/year/year2011.rar\">Архивировано</a> 10 ноября 2013 года.</small></span></span>\\n</li>\\n<li id=\"cite_note-1928A-46\"><span class=\"mw-cite-backlink\"><a href=\"#cite_ref-1928A_46-0\">↑</a></span> <span class=\"reference-text\"><a rel=\"nofollow\" class=\"external text\" href=\"http://istmat.info/node/20228\">Статистический справочник СССР за 1928 г.</a></span>\\n</li>\\n<li id=\"cite_note-1939AH-47\"><span class=\"mw-cite-backlink\"><a href=\"#cite_ref-1939AH_47-0\">↑</a></span> <span class=\"reference-text\"><span class=\"citation\"><span lang=\"ru\"><a rel=\"nofollow\" class=\"external text\" href=\"http://demoscope.ru/weekly/ssp/rus_pop_39_3.php\">Всесоюзная перепись населения 1939 года. Численность городского населения СССР по городским поселениям и внутригородским районам</a></span><span class=\"hidden-ref\" style=\"display:none;\">&#160;&#160;<span class=\"ref-info\" style=\"cursor:help;\" title=\"на русском языке\">(рус.)</span></span>.&#32;<small>Дата обращения: 30 ноября 2013.</small>&#32;<small><a rel=\"nofollow\" class=\"external text\" href=\"https://web.archive.org/web/20131224034020/http://demoscope.ru/weekly/ssp/rus_pop_39_3.php\">Архивировано</a> 24 декабря 2013 года.</small></span></span>\\n</li>\\n<li id=\"cite_note-2020RAN-48\"><span class=\"mw-cite-backlink\">↑ <a href=\"#cite_ref-2020RAN_48-0\"><sup><i><b>1</b></i></sup></a> <a href=\"#cite_ref-2020RAN_48-1\"><sup><i><b>2</b></i></sup></a> <a href=\"#cite_ref-2020RAN_48-2\"><sup><i><b>3</b></i></sup></a> <a href=\"#cite_ref-2020RAN_48-3\"><sup><i><b>4</b></i></sup></a></span> <span class=\"reference-text\"><a rel=\"nofollow\" class=\"external text\" href=\"https://sciencejournals.ru/view-article/?j=vestnik&amp;y=2020&amp;v=90&amp;n=9&amp;a=Vestnik2009008Zhiromskaya\">Население России 1939-1945 (Вестник РАН, 2020, T. 90, № 9, стр. 845-857)</a></span>\\n</li>\\n<li id=\"cite_note-1959C-49\"><span class=\"mw-cite-backlink\"><a href=\"#cite_ref-1959C_49-0\">↑</a></span> <span class=\"reference-text\"><span class=\"citation\"><span lang=\"ru\"><a rel=\"nofollow\" class=\"external text\" href=\"http://demoscope.ru/weekly/ssp/rus59_reg2.php\">Всесоюзная перепись населения 1959 года. Численность городского населения РСФСР, её территориальных единиц, городских поселений и городских районов по полу</a></span><span class=\"hidden-ref\" style=\"display:none;\">&#160;&#160;<span class=\"ref-info\" style=\"cursor:help;\" title=\"на русском языке\">(рус.)</span></span>.&#32;Демоскоп Weekly.&#32;<small>Дата обращения: 25 сентября 2013.</small>&#32;<small><a rel=\"nofollow\" class=\"external text\" href=\"https://web.archive.org/web/20130528132740/http://demoscope.ru/weekly/ssp/rus59_reg2.php\">Архивировано</a> 28 мая 2013 года.</small></span></span>\\n</li>\\n<li id=\"cite_note-50\"><span class=\"mw-cite-backlink\"><a href=\"#cite_ref-50\">↑</a></span> <span class=\"reference-text\">Атлас Московской области (1964)</span>\\n</li>\\n<li id=\"cite_note-1970E-51\"><span class=\"mw-cite-backlink\"><a href=\"#cite_ref-1970E_51-0\">↑</a></span> <span class=\"reference-text\"><span class=\"citation\"><span lang=\"ru\"><a rel=\"nofollow\" class=\"external text\" href=\"http://demoscope.ru/weekly/ssp/rus70_reg2.php\">Всесоюзная перепись населения 1970 года Численность городского населения РСФСР, ее территориальных единиц, городских поселений и городских районов по полу.</a></span><span class=\"hidden-ref\" style=\"display:none;\">&#160;&#160;<span class=\"ref-info\" style=\"cursor:help;\" title=\"на русском языке\">(рус.)</span></span>&#32;Демоскоп Weekly.&#32;<small>Дата обращения: 25 сентября 2013.</small>&#32;<small><a rel=\"nofollow\" class=\"external text\" href=\"https://web.archive.org/web/20130929064431/http://demoscope.ru/weekly/ssp/rus70_reg2.php\">Архивировано</a> 29 сентября 2013 года.</small></span></span>\\n</li>\\n<li id=\"cite_note-52\"><span class=\"mw-cite-backlink\"><a href=\"#cite_ref-52\">↑</a></span> <span class=\"reference-text\">Атлас Московской области (1978)</span>\\n</li>\\n<li id=\"cite_note-1979D-53\"><span class=\"mw-cite-backlink\"><a href=\"#cite_ref-1979D_53-0\">↑</a></span> <span class=\"reference-text\"><span class=\"citation\"><span lang=\"ru\"><a rel=\"nofollow\" class=\"external text\" href=\"http://demoscope.ru/weekly/ssp/rus79_reg2.php\">Всесоюзная перепись населения 1979 года Численность городского населения РСФСР, ее территориальных единиц, городских поселений и городских районов по полу.</a></span><span class=\"hidden-ref\" style=\"display:none;\">&#160;&#160;<span class=\"ref-info\" style=\"cursor:help;\" title=\"на русском языке\">(рус.)</span></span>&#32;Демоскоп Weekly.&#32;<small>Дата обращения: 25 сентября 2013.</small>&#32;<small><a rel=\"nofollow\" class=\"external text\" href=\"https://web.archive.org/web/20211107083940/http://www.demoscope.ru/weekly/ssp/rus79_reg2.php\">Архивировано</a> 7 ноября 2021 года.</small></span></span>\\n</li>\\n<li id=\"cite_note-1982A-54\"><span class=\"mw-cite-backlink\"><a href=\"#cite_ref-1982A_54-0\">↑</a></span> <span class=\"reference-text\"><a rel=\"nofollow\" class=\"external text\" href=\"http://istmat.info/files/uploads/15623/narodnoe_hozyaystvo_sssr_1922-1982.pdf\">Народное хозяйство СССР 1922-1982 (Юбилейный статистический ежегодник)</a></span>\\n</li>\\n<li id=\"cite_note-2001G-55\"><span class=\"mw-cite-backlink\"><a href=\"#cite_ref-2001G_55-0\">↑</a></span> <span class=\"reference-text\"><span class=\"citation\"><span lang=\"ru\"><a rel=\"nofollow\" class=\"external text\" href=\"https://web.archive.org/web/20141116000850/http://istmat.info/files/uploads/21317/nx_5.pdf\">Российский статистический ежегодник. Госкомстат, Москва, 2001</a></span><span class=\"hidden-ref\" style=\"display:none;\">&#160;&#160;<span class=\"ref-info\" style=\"cursor:help;\" title=\"на русском языке\">(рус.)</span></span>.&#32;<small>Дата обращения: 12 мая 2015.</small>&#32;<small>Архивировано из <a rel=\"nofollow\" class=\"external text\" href=\"http://istmat.info/files/uploads/21317/nx_5.pdf\">оригинала</a> 16 ноября 2014 года.</small></span></span>\\n</li>\\n<li id=\"cite_note-1987A-56\"><span class=\"mw-cite-backlink\"><a href=\"#cite_ref-1987A_56-0\">↑</a></span> <span class=\"reference-text\"><span class=\"citation\"><a rel=\"nofollow\" class=\"external text\" href=\"http://alcdata.narod.ru/USSR_70_1987\">Народное хозяйство СССР за 70 лет</a>&#160;: юбилейный статистический ежегодник&#160;: [<span title=\"архивировано из первоисточника\"><a rel=\"nofollow\" class=\"external text\" href=\"https://www.webcitation.org/6ibsmTCzx\">арх.</a> 28 июня 2016</span>]&#160;/ <a href=\"/wiki/%D0%A6%D0%B5%D0%BD%D1%82%D1%80%D0%B0%D0%BB%D1%8C%D0%BD%D0%BE%D0%B5_%D1%81%D1%82%D0%B0%D1%82%D0%B8%D1%81%D1%82%D0%B8%D1%87%D0%B5%D1%81%D0%BA%D0%BE%D0%B5_%D1%83%D0%BF%D1%80%D0%B0%D0%B2%D0%BB%D0%B5%D0%BD%D0%B8%D0%B5\" title=\"Центральное статистическое управление\">Государственный комитет СССР по статистике</a>.&#160;— Москва&#160;: Финансы и статистика, 1987.&#160;— 766&#160;с.</span></span>\\n</li>\\n<li id=\"cite_note-1989C-57\"><span class=\"mw-cite-backlink\"><a href=\"#cite_ref-1989C_57-0\">↑</a></span> <span class=\"reference-text\"><span class=\"citation\"><span lang=\"ru\"><a rel=\"nofollow\" class=\"external text\" href=\"http://demoscope.ru/weekly/ssp/rus89_reg2.php\">Всесоюзная перепись населения 1989 г. Численность городского населения РСФСР, ее территориальных единиц, городских поселений и городских районов по полу</a></span><span class=\"hidden-ref\" style=\"display:none;\">&#160;&#160;<span class=\"ref-info\" style=\"cursor:help;\" title=\"на русском языке\">(рус.)</span></span>.&#32;<small><a rel=\"nofollow\" class=\"external text\" href=\"https://web.archive.org/web/20110926215253/http://demoscope.ru/weekly/ssp/rus89_reg2.php\">Архивировано</a> 26 сентября 2011 года.</small></span></span>\\n</li>\\n<li id=\"cite_note-58\"><span class=\"mw-cite-backlink\"><a href=\"#cite_ref-58\">↑</a></span> <span class=\"reference-text\"><span class=\"citation\"><span lang=\"und\"><a rel=\"nofollow\" class=\"external text\" href=\"http://www.gks.ru/bgd/regl/b10_109/Main.htm\">Численность населения Российской Федерации по городам, посёлкам городского типа и районам на 1 января 2010 года</a></span><span class=\"hidden-ref\" style=\"display:none;\">&#160;&#160;<small class=\"ref-info\" style=\"cursor:help;\" title=\"на неопределённом языке\">(неопр.)</small></span>&#160;<small class=\"ref-info\">(недоступная ссылка&#160;— <a rel=\"nofollow\" class=\"external text\" href=\"//web.archive.org/web/*/http://www.gks.ru/bgd/regl/b10_109/Main.htm\"><i>история</i></a>)</small>.&#32;<small>Дата обращения: 22 сентября 2010.</small>&#32;<small><a rel=\"nofollow\" class=\"external text\" href=\"https://www.webcitation.org/616KjoKcC?url=http://www.gks.ru/bgd/regl/b10_109/Main.htm\">Архивировано</a> 21 августа 2011 года.</small></span></span>\\n</li>\\n<li id=\"cite_note-Естприр2011-59\"><span class=\"mw-cite-backlink\"><a href=\"#cite_ref-Естприр2011_59-0\">↑</a></span> <span class=\"reference-text\"><a rel=\"nofollow\" class=\"external text\" href=\"http://voronezhstat.gks.ru/public/release/Показатели%20естественного%20движения%20населения%20по%20районам%20области%20за%20январь-декабрь%202011%20года.pdf\">Показатели естественного движения населения по районам области за январь-декабрь 2011 года</a>&#160;<small class=\"ref-info\">(недоступная ссылка)</small></span>\\n</li>\\n<li id=\"cite_note-Миграц2011-60\"><span class=\"mw-cite-backlink\"><a href=\"#cite_ref-Миграц2011_60-0\">↑</a></span> <span class=\"reference-text\"><a rel=\"nofollow\" class=\"external text\" href=\"http://voronezhstat.gks.ru/public/release/Показатели%20механического%20движения%20населения%20по%20районам%20области%20за%20январь-декабрь%202011%20года.pdf\">Показатели механического движения населения по районам области за январь-декабрь 2011 года</a>&#160;<small class=\"ref-info\">(недоступная ссылка)</small></span>\\n</li>\\n<li id=\"cite_note-БД_ПМО-61\"><span class=\"mw-cite-backlink\"><a href=\"#cite_ref-БД_ПМО_61-0\">↑</a></span> <span class=\"reference-text\"><a rel=\"nofollow\" class=\"external text\" href=\"http://www.gks.ru/scripts/db_inet2/passport/table.aspx?opt=577010002006200720082009201020112012\">База данных показателей муниципальных образований. Город Пермь</a> <a rel=\"nofollow\" class=\"external text\" href=\"https://web.archive.org/web/20130618231359/http://www.gks.ru/scripts/db_inet2/passport/table.aspx?opt=577010002006200720082009201020112012\">Архивная копия</a> от 18 июня 2013 на <a href=\"/wiki/Wayback_Machine\" title=\"Wayback Machine\">Wayback Machine</a> // <a href=\"/wiki/%D0%A4%D0%B5%D0%B4%D0%B5%D1%80%D0%B0%D0%BB%D1%8C%D0%BD%D0%B0%D1%8F_%D1%81%D0%BB%D1%83%D0%B6%D0%B1%D0%B0_%D0%B3%D0%BE%D1%81%D1%83%D0%B4%D0%B0%D1%80%D1%81%D1%82%D0%B2%D0%B5%D0%BD%D0%BD%D0%BE%D0%B9_%D1%81%D1%82%D0%B0%D1%82%D0%B8%D1%81%D1%82%D0%B8%D0%BA%D0%B8\" title=\"Федеральная служба государственной статистики\">Росстат</a></span>\\n</li>\\n<li id=\"cite_note-autogenerated1-62\"><span class=\"mw-cite-backlink\"><a href=\"#cite_ref-autogenerated1_62-0\">↑</a></span> <span class=\"reference-text\"><a rel=\"nofollow\" class=\"external text\" href=\"http://permstat.gks.ru/public/20121/Демография/001-01-2012.doc\">О демографической ситуации в городе Перми за 2011 год (предварительные итоги)</a>&#160;<small class=\"ref-info\">(недоступная ссылка)</small></span>\\n</li>\\n<li id=\"cite_note-Демоскоп-63\"><span class=\"mw-cite-backlink\"><a href=\"#cite_ref-Демоскоп_63-0\">↑</a></span> <span class=\"reference-text\"><i>Екатерина Щербакова.</i> <a rel=\"nofollow\" class=\"external text\" href=\"http://demoscope.ru/weekly/2012/0501/barom01.php\">Миграционный прирост населения России за 2011 год по новым правилам учёта составил 320 тысяч человек, а по прежним&#160;— 107</a> <a rel=\"nofollow\" class=\"external text\" href=\"https://web.archive.org/web/20120328143638/http://demoscope.ru/weekly/2012/0501/barom01.php\">Архивная копия</a> от 28 марта 2012 на <a href=\"/wiki/Wayback_Machine\" title=\"Wayback Machine\">Wayback Machine</a> // <a href=\"/wiki/%D0%94%D0%B5%D0%BC%D0%BE%D1%81%D0%BA%D0%BE%D0%BF_Weekly\" title=\"Демоскоп Weekly\">Демоскоп Weekly</a>, №&#160;501—502, 5&#160;— 18 марта 2012&#160;г.</span>\\n</li>\\n<li id=\"cite_note-64\"><span class=\"mw-cite-backlink\"><a href=\"#cite_ref-64\">↑</a></span> <span class=\"reference-text\"><i>Антон Андреев.</i> <a rel=\"nofollow\" class=\"external text\" href=\"http://ria.ru/society/20120321/601606317.html\">Красноярск в апреле станет городом-миллионером</a> <a rel=\"nofollow\" class=\"external text\" href=\"https://web.archive.org/web/20120413020419/http://ria.ru/society/20120321/601606317.html\">Архивная копия</a> от 13 апреля 2012 на <a href=\"/wiki/Wayback_Machine\" title=\"Wayback Machine\">Wayback Machine</a> // <a href=\"/wiki/%D0%A0%D0%98%D0%90_%D0%9D%D0%BE%D0%B2%D0%BE%D1%81%D1%82%D0%B8\" title=\"РИА Новости\">РИА Новости</a>, 21.03.2012.</span>\\n</li>\\n<li id=\"cite_note-65\"><span class=\"mw-cite-backlink\"><a href=\"#cite_ref-65\">↑</a></span> <span class=\"reference-text\"><span class=\"citation\"><span lang=\"und\"><a rel=\"nofollow\" class=\"external text\" href=\"https://web.archive.org/web/20120412192910/http://top.rbc.ru/society/10/04/2012/645690.shtml\">В России появился ещё один город-миллионник</a></span><span class=\"hidden-ref\" style=\"display:none;\">&#160;&#160;<small class=\"ref-info\" style=\"cursor:help;\" title=\"на неопределённом языке\">(неопр.)</small></span>.&#32;// <a href=\"/wiki/%D0%A0%D0%91%D0%9A\" title=\"РБК\">РБК</a>.&#32;<small>Дата обращения: 10 апреля 2012.</small>&#32;<small>Архивировано из <a rel=\"nofollow\" class=\"external text\" href=\"http://top.rbc.ru/society/10/04/2012/645690.shtml\">оригинала</a> 12 апреля 2012 года.</small></span></span>\\n</li>\\n<li id=\"cite_note-66\"><span class=\"mw-cite-backlink\"><a href=\"#cite_ref-66\">↑</a></span> <span class=\"reference-text\"><i>Ольга Вандышева.</i> <a rel=\"nofollow\" class=\"external text\" href=\"http://www.kp.by/daily/23876/65105/\">В России появятся 14 денежных супергородов</a>&#160;<small class=\"ref-info\">(недоступная ссылка)</small> // <a href=\"/wiki/%D0%9A%D0%BE%D0%BC%D1%81%D0%BE%D0%BC%D0%BE%D0%BB%D1%8C%D1%81%D0%BA%D0%B0%D1%8F_%D0%BF%D1%80%D0%B0%D0%B2%D0%B4%D0%B0\" title=\"Комсомольская правда\">Комсомольская правда</a>, 14 марта 2007.</span>\\n</li>\\n<li id=\"cite_note-67\"><span class=\"mw-cite-backlink\"><a href=\"#cite_ref-67\">↑</a></span> <span class=\"reference-text\"><i>Елена Шишкунова, Олег Жунусов.</i> <a rel=\"nofollow\" class=\"external text\" href=\"https://archive.is/20120803172250/www.izvestia.ru/economic/article3102524/\">На месте российских городов вырастут мегаполисы</a> // <a href=\"/wiki/%D0%98%D0%B7%D0%B2%D0%B5%D1%81%D1%82%D0%B8%D1%8F\" title=\"Известия\">Известия</a>, 28 марта 2007.</span>\\n</li>\\n<li id=\"cite_note-68\"><span class=\"mw-cite-backlink\"><a href=\"#cite_ref-68\">↑</a></span> <span class=\"reference-text\"><a rel=\"nofollow\" class=\"external text\" href=\"https://regnum.ru/news/808993.html\">«Новосибирск исчезнет с карты России»: обзор новосибирских СМИ</a> <a rel=\"nofollow\" class=\"external text\" href=\"https://web.archive.org/web/20190822010243/https://regnum.ru/news/808993.html\">Архивная копия</a> от 22 августа 2019 на <a href=\"/wiki/Wayback_Machine\" title=\"Wayback Machine\">Wayback Machine</a> // <a href=\"/wiki/Regnum\" title=\"Regnum\">Regnum</a>, 6 апреля 2007.</span>\\n</li>\\n<li id=\"cite_note-69\"><span class=\"mw-cite-backlink\"><a href=\"#cite_ref-69\">↑</a></span> <span class=\"reference-text\"><i>Марина Селина.</i> <a rel=\"nofollow\" class=\"external text\" href=\"https://archive.is/20120911153345/www.rbcdaily.ru/2007/03/26/focus/269510\">Все в город!</a> // <a href=\"/wiki/%D0%A0%D0%91%D0%9A_(%D0%B3%D0%B0%D0%B7%D0%B5%D1%82%D0%B0)\" title=\"РБК (газета)\">РБК Daily</a>, 26 марта 2007.</span>\\n</li>\\n<li id=\"cite_note-70\"><span class=\"mw-cite-backlink\"><a href=\"#cite_ref-70\">↑</a></span> <span class=\"reference-text\"><span class=\"citation\"><span lang=\"und\"><a rel=\"nofollow\" class=\"external text\" href=\"https://72.ru/text/gorod/69308725/\">В городской администрации подсчитали, когда Тюмень станет миллионником</a></span><span class=\"hidden-ref\" style=\"display:none;\">&#160;&#160;<small class=\"ref-info\" style=\"cursor:help;\" title=\"на неопределённом языке\">(неопр.)</small></span>.&#32;<small>Дата обращения: 22 августа 2020.</small>&#32;<small><a rel=\"nofollow\" class=\"external text\" href=\"https://web.archive.org/web/20200717063743/https://72.ru/text/gorod/69308725/\">Архивировано</a> 17 июля 2020 года.</small></span></span>\\n</li>\\n</ol></div></div>\\n<h2><span id=\".D0.A1.D1.81.D1.8B.D0.BB.D0.BA.D0.B8\"></span><span class=\"mw-headline\" id=\"Ссылки\">Ссылки</span><span class=\"mw-editsection\"><span class=\"mw-editsection-bracket\">[</span><a href=\"/w/index.php?title=%D0%93%D0%BE%D1%80%D0%BE%D0%B4%D0%B0-%D0%BC%D0%B8%D0%BB%D0%BB%D0%B8%D0%BE%D0%BD%D0%B5%D1%80%D1%8B_%D0%A0%D0%BE%D1%81%D1%81%D0%B8%D0%B8&amp;veaction=edit&amp;section=16\" class=\"mw-editsection-visualeditor\" title=\"Редактировать раздел «Ссылки»\">править</a><span class=\"mw-editsection-divider\"> | </span><a href=\"/w/index.php?title=%D0%93%D0%BE%D1%80%D0%BE%D0%B4%D0%B0-%D0%BC%D0%B8%D0%BB%D0%BB%D0%B8%D0%BE%D0%BD%D0%B5%D1%80%D1%8B_%D0%A0%D0%BE%D1%81%D1%81%D0%B8%D0%B8&amp;action=edit&amp;section=16\" title=\"Edit section&#039;s source code: Ссылки\">править код</a><span class=\"mw-editsection-bracket\">]</span></span></h2>\\n<ul><li><i>Елена Строителева.</i> <a rel=\"nofollow\" class=\"external text\" href=\"https://iz.ru/news/267909\">Перепись может уменьшить число миллионеров</a> // <a href=\"/wiki/%D0%98%D0%B7%D0%B2%D0%B5%D1%81%D1%82%D0%B8%D1%8F\" title=\"Известия\">Известия</a>, 2 октября 2002.</li>\\n<li><i>Леонид Смирнягин.</i> <a rel=\"nofollow\" class=\"external text\" href=\"http://www.demoscope.ru/weekly/2007/0307/analit01.php\">Трудное будущее российских городов</a> // <a href=\"/wiki/%D0%94%D0%B5%D0%BC%D0%BE%D1%81%D0%BA%D0%BE%D0%BF_Weekly\" title=\"Демоскоп Weekly\">Демоскоп Weekly</a>, №&#160;307—308, 29 октября&#160;— 11 ноября 2007.</li>\\n<li><i>Денис Визгалов.</i> <a rel=\"nofollow\" class=\"external text\" href=\"https://www.ng.ru/economics/2005-05-16/5_city.html\">Города-миллионеры заглядывают в своё будущее</a> // <a href=\"/wiki/%D0%9D%D0%B5%D0%B7%D0%B0%D0%B2%D0%B8%D1%81%D0%B8%D0%BC%D0%B0%D1%8F_%D0%B3%D0%B0%D0%B7%D0%B5%D1%82%D0%B0\" title=\"Независимая газета\">Независимая газета</a>, 16.05.2005.</li>\\n<li><a rel=\"nofollow\" class=\"external text\" href=\"http://www.demoscope.ru/weekly/ssp/rus_urban100.php\">Города с численностью населения 100 тыс. человек и более</a> // Демоскоп Weekly, №&#160;833—834, 4&#160;— 17 ноября 2019.</li></ul>\\n<div role=\"navigation\" class=\"navbox\" aria-labelledby=\"Города_России\" data-name=\"Города России\"><table class=\"nowraplinks collapsible autocollapse navbox-inner\" style=\"border-spacing:0;background:transparent;color:inherit\"><tbody><tr><th scope=\"colgroup\" class=\"navbox-title\" colspan=\"2\"><span class=\"navbox-gear\" style=\"float:left;text-align:left;width:5em;margin-right:0.5em\"><span class=\"noprint\" typeof=\"mw:File\"><a href=\"/wiki/%D0%A8%D0%B0%D0%B1%D0%BB%D0%BE%D0%BD:%D0%93%D0%BE%D1%80%D0%BE%D0%B4%D0%B0_%D0%A0%D0%BE%D1%81%D1%81%D0%B8%D0%B8\" title=\"Перейти к шаблону «Города России»\"><img alt=\"Перейти к шаблону «Города России»\" src=\"//upload.wikimedia.org/wikipedia/commons/thumb/c/c9/Wikipedia_interwiki_section_gear_icon.svg/14px-Wikipedia_interwiki_section_gear_icon.svg.png\" decoding=\"async\" width=\"14\" height=\"14\" class=\"mw-file-element\" srcset=\"//upload.wikimedia.org/wikipedia/commons/thumb/c/c9/Wikipedia_interwiki_section_gear_icon.svg/21px-Wikipedia_interwiki_section_gear_icon.svg.png 1.5x, //upload.wikimedia.org/wikipedia/commons/thumb/c/c9/Wikipedia_interwiki_section_gear_icon.svg/28px-Wikipedia_interwiki_section_gear_icon.svg.png 2x\" data-file-width=\"14\" data-file-height=\"14\" /></a></span>&#160;</span><div id=\"Города_России\" style=\"font-size:114%;margin:0 5em\"><a href=\"/wiki/%D0%93%D0%BE%D1%80%D0%BE%D0%B4%D0%B0_%D0%A0%D0%BE%D1%81%D1%81%D0%B8%D0%B8\" title=\"Города России\">Города России</a></div></th></tr><tr><td class=\"navbox-list navbox-odd hlist\" style=\"width:100%;padding:0px\"><div style=\"padding:0em 0.25em\"><div class=\"NavContent\">\\n<dl><dt><a href=\"/wiki/%D0%A1%D0%BF%D0%B8%D1%81%D0%BE%D0%BA_%D0%B3%D0%BE%D1%80%D0%BE%D0%B4%D0%BE%D0%B2_%D0%A0%D0%BE%D1%81%D1%81%D0%B8%D0%B8\" title=\"Список городов России\">Список городов России</a></dt></dl>\\n<dl><dd><a class=\"mw-selflink selflink\">с населением более 1 млн чел.</a></dd>\\n<dd><a href=\"/wiki/%D0%93%D0%BE%D1%80%D0%BE%D0%B4%D0%B0_%D0%A0%D0%BE%D1%81%D1%81%D0%B8%D0%B8_%D1%81_%D0%BD%D0%B0%D1%81%D0%B5%D0%BB%D0%B5%D0%BD%D0%B8%D0%B5%D0%BC_%D0%B1%D0%BE%D0%BB%D0%B5%D0%B5_500_%D1%82%D1%8B%D1%81%D1%8F%D1%87_%D1%87%D0%B5%D0%BB%D0%BE%D0%B2%D0%B5%D0%BA\" title=\"Города России с населением более 500 тысяч человек\">с населением более 500 тыс. чел.</a></dd>\\n<dd><a href=\"/wiki/%D0%A1%D0%BF%D0%B8%D1%81%D0%BE%D0%BA_%D0%B3%D0%BE%D1%80%D0%BE%D0%B4%D0%BE%D0%B2_%D0%A0%D0%BE%D1%81%D1%81%D0%B8%D0%B8_%D1%81_%D0%BD%D0%B0%D1%81%D0%B5%D0%BB%D0%B5%D0%BD%D0%B8%D0%B5%D0%BC_%D0%B1%D0%BE%D0%BB%D0%B5%D0%B5_100_%D1%82%D1%8B%D1%81%D1%8F%D1%87_%D0%B6%D0%B8%D1%82%D0%B5%D0%BB%D0%B5%D0%B9\" title=\"Список городов России с населением более 100 тысяч жителей\">с населением более 100 тыс. чел.</a></dd>\\n<dd><a href=\"/wiki/%D0%A1%D0%BF%D0%B8%D1%81%D0%BE%D0%BA_%D0%B3%D0%BE%D1%80%D0%BE%D0%B4%D0%BE%D0%B2_%D0%A0%D0%BE%D1%81%D1%81%D0%B8%D0%B8_%D1%81_%D0%BD%D0%B0%D1%81%D0%B5%D0%BB%D0%B5%D0%BD%D0%B8%D0%B5%D0%BC_%D0%BC%D0%B5%D0%BD%D0%B5%D0%B5_50_%D1%82%D1%8B%D1%81%D1%8F%D1%87_%D0%B6%D0%B8%D1%82%D0%B5%D0%BB%D0%B5%D0%B9\" title=\"Список городов России с населением менее 50 тысяч жителей\">с населением менее 50 тыс. чел.</a></dd></dl>\\n<dl><dd><a href=\"/wiki/%D0%A1%D0%BF%D0%B8%D1%81%D0%BE%D0%BA_%D0%B3%D0%BE%D1%80%D0%BE%D0%B4%D0%BE%D0%B2_%D0%A0%D0%BE%D1%81%D1%81%D0%B8%D0%B8_%D1%81_%D1%82%D0%B5%D1%80%D1%80%D0%B8%D1%82%D0%BE%D1%80%D0%B8%D0%B5%D0%B9_%D0%B1%D0%BE%D0%BB%D1%8C%D1%88%D0%B5_100_%D0%BA%D0%B2%D0%B0%D0%B4%D1%80%D0%B0%D1%82%D0%BD%D1%8B%D1%85_%D0%BA%D0%B8%D0%BB%D0%BE%D0%BC%D0%B5%D1%82%D1%80%D0%BE%D0%B2\" title=\"Список городов России с территорией больше 100 квадратных километров\">с территорией более 100 кв. км</a></dd></dl>\\n<dl><dd><a href=\"/wiki/%D0%93%D0%BE%D1%80%D0%BE%D0%B4%D0%B0_%D0%A6%D0%B5%D0%BD%D1%82%D1%80%D0%B0%D0%BB%D1%8C%D0%BD%D0%BE%D0%B3%D0%BE_%D1%84%D0%B5%D0%B4%D0%B5%D1%80%D0%B0%D0%BB%D1%8C%D0%BD%D0%BE%D0%B3%D0%BE_%D0%BE%D0%BA%D1%80%D1%83%D0%B3%D0%B0\" title=\"Города Центрального федерального округа\">ЦФО</a></dd>\\n<dd><a href=\"/wiki/%D0%93%D0%BE%D1%80%D0%BE%D0%B4%D0%B0_%D0%AE%D0%B6%D0%BD%D0%BE%D0%B3%D0%BE_%D1%84%D0%B5%D0%B4%D0%B5%D1%80%D0%B0%D0%BB%D1%8C%D0%BD%D0%BE%D0%B3%D0%BE_%D0%BE%D0%BA%D1%80%D1%83%D0%B3%D0%B0\" title=\"Города Южного федерального округа\">ЮФО</a></dd>\\n<dd><a href=\"/wiki/%D0%93%D0%BE%D1%80%D0%BE%D0%B4%D0%B0_%D0%A1%D0%B5%D0%B2%D0%B5%D1%80%D0%BE-%D0%97%D0%B0%D0%BF%D0%B0%D0%B4%D0%BD%D0%BE%D0%B3%D0%BE_%D1%84%D0%B5%D0%B4%D0%B5%D1%80%D0%B0%D0%BB%D1%8C%D0%BD%D0%BE%D0%B3%D0%BE_%D0%BE%D0%BA%D1%80%D1%83%D0%B3%D0%B0\" title=\"Города Северо-Западного федерального округа\">СЗФО</a></dd>\\n<dd><a href=\"/wiki/%D0%93%D0%BE%D1%80%D0%BE%D0%B4%D0%B0_%D0%94%D0%B0%D0%BB%D1%8C%D0%BD%D0%B5%D0%B2%D0%BE%D1%81%D1%82%D0%BE%D1%87%D0%BD%D0%BE%D0%B3%D0%BE_%D1%84%D0%B5%D0%B4%D0%B5%D1%80%D0%B0%D0%BB%D1%8C%D0%BD%D0%BE%D0%B3%D0%BE_%D0%BE%D0%BA%D1%80%D1%83%D0%B3%D0%B0\" title=\"Города Дальневосточного федерального округа\">ДВФО</a></dd>\\n<dd><a href=\"/wiki/%D0%93%D0%BE%D1%80%D0%BE%D0%B4%D0%B0_%D0%A1%D0%B8%D0%B1%D0%B8%D1%80%D1%81%D0%BA%D0%BE%D0%B3%D0%BE_%D1%84%D0%B5%D0%B4%D0%B5%D1%80%D0%B0%D0%BB%D1%8C%D0%BD%D0%BE%D0%B3%D0%BE_%D0%BE%D0%BA%D1%80%D1%83%D0%B3%D0%B0\" title=\"Города Сибирского федерального округа\">СФО</a></dd>\\n<dd><a href=\"/wiki/%D0%93%D0%BE%D1%80%D0%BE%D0%B4%D0%B0_%D0%A3%D1%80%D0%B0%D0%BB%D1%8C%D1%81%D0%BA%D0%BE%D0%B3%D0%BE_%D1%84%D0%B5%D0%B4%D0%B5%D1%80%D0%B0%D0%BB%D1%8C%D0%BD%D0%BE%D0%B3%D0%BE_%D0%BE%D0%BA%D1%80%D1%83%D0%B3%D0%B0\" title=\"Города Уральского федерального округа\">УФО</a></dd>\\n<dd><a href=\"/wiki/%D0%93%D0%BE%D1%80%D0%BE%D0%B4%D0%B0_%D0%9F%D1%80%D0%B8%D0%B2%D0%BE%D0%BB%D0%B6%D1%81%D0%BA%D0%BE%D0%B3%D0%BE_%D1%84%D0%B5%D0%B4%D0%B5%D1%80%D0%B0%D0%BB%D1%8C%D0%BD%D0%BE%D0%B3%D0%BE_%D0%BE%D0%BA%D1%80%D1%83%D0%B3%D0%B0\" title=\"Города Приволжского федерального округа\">ПФО</a></dd>\\n<dd><a href=\"/wiki/%D0%93%D0%BE%D1%80%D0%BE%D0%B4%D0%B0_%D0%A1%D0%B5%D0%B2%D0%B5%D1%80%D0%BE-%D0%9A%D0%B0%D0%B2%D0%BA%D0%B0%D0%B7%D1%81%D0%BA%D0%BE%D0%B3%D0%BE_%D1%84%D0%B5%D0%B4%D0%B5%D1%80%D0%B0%D0%BB%D1%8C%D0%BD%D0%BE%D0%B3%D0%BE_%D0%BE%D0%BA%D1%80%D1%83%D0%B3%D0%B0\" title=\"Города Северо-Кавказского федерального округа\">СКФО</a></dd></dl>\\n</div></div></td></tr></tbody></table></div>\\n<div role=\"navigation\" class=\"navbox\" aria-labelledby=\"Города-миллионеры_России\" data-name=\"Города-миллионеры России\"><table class=\"nowraplinks collapsible autocollapse navbox-inner\" style=\"border-spacing:0;background:transparent;color:inherit\"><tbody><tr><th scope=\"colgroup\" class=\"navbox-title\" colspan=\"2\"><span class=\"navbox-gear\" style=\"float:left;text-align:left;width:5em;margin-right:0.5em\"><span class=\"noprint\" typeof=\"mw:File\"><a href=\"/wiki/%D0%A8%D0%B0%D0%B1%D0%BB%D0%BE%D0%BD:%D0%93%D0%BE%D1%80%D0%BE%D0%B4%D0%B0-%D0%BC%D0%B8%D0%BB%D0%BB%D0%B8%D0%BE%D0%BD%D0%B5%D1%80%D1%8B_%D0%A0%D0%BE%D1%81%D1%81%D0%B8%D0%B8\" title=\"Перейти к шаблону «Города-миллионеры России»\"><img alt=\"Перейти к шаблону «Города-миллионеры России»\" src=\"//upload.wikimedia.org/wikipedia/commons/thumb/c/c9/Wikipedia_interwiki_section_gear_icon.svg/14px-Wikipedia_interwiki_section_gear_icon.svg.png\" decoding=\"async\" width=\"14\" height=\"14\" class=\"mw-file-element\" srcset=\"//upload.wikimedia.org/wikipedia/commons/thumb/c/c9/Wikipedia_interwiki_section_gear_icon.svg/21px-Wikipedia_interwiki_section_gear_icon.svg.png 1.5x, //upload.wikimedia.org/wikipedia/commons/thumb/c/c9/Wikipedia_interwiki_section_gear_icon.svg/28px-Wikipedia_interwiki_section_gear_icon.svg.png 2x\" data-file-width=\"14\" data-file-height=\"14\" /></a></span>&#160;</span><div id=\"Города-миллионеры_России\" style=\"font-size:114%;margin:0 5em\"><a class=\"mw-selflink selflink\">Города-миллионеры России</a></div></th></tr><tr><td class=\"navbox-list navbox-odd hlist\" style=\"width:100%;padding:0px\"><div style=\"padding:0em 0.25em\"><div class=\"NavContent\">\\n<ul><li><span style=\"font-size:85%;\">1</span> <a href=\"/wiki/%D0%9C%D0%BE%D1%81%D0%BA%D0%B2%D0%B0\" title=\"Москва\">Москва</a></li>\\n<li><span style=\"font-size:85%;\">2</span> <a href=\"/wiki/%D0%A1%D0%B0%D0%BD%D0%BA%D1%82-%D0%9F%D0%B5%D1%82%D0%B5%D1%80%D0%B1%D1%83%D1%80%D0%B3\" title=\"Санкт-Петербург\">Санкт-Петербург</a></li>\\n<li><span style=\"font-size:85%;\">3</span> <a href=\"/wiki/%D0%9D%D0%BE%D0%B2%D0%BE%D1%81%D0%B8%D0%B1%D0%B8%D1%80%D1%81%D0%BA\" title=\"Новосибирск\">Новосибирск</a></li>\\n<li><span style=\"font-size:85%;\">4</span> <a href=\"/wiki/%D0%95%D0%BA%D0%B0%D1%82%D0%B5%D1%80%D0%B8%D0%BD%D0%B1%D1%83%D1%80%D0%B3\" title=\"Екатеринбург\">Екатеринбург</a></li>\\n<li><span style=\"font-size:85%;\">5</span> <a href=\"/wiki/%D0%9A%D0%B0%D0%B7%D0%B0%D0%BD%D1%8C\" title=\"Казань\">Казань</a></li>\\n<li><span style=\"font-size:85%;\">6</span> <a href=\"/wiki/%D0%9D%D0%B8%D0%B6%D0%BD%D0%B8%D0%B9_%D0%9D%D0%BE%D0%B2%D0%B3%D0%BE%D1%80%D0%BE%D0%B4\" title=\"Нижний Новгород\">Нижний Новгород</a></li>\\n<li><span style=\"font-size:85%;\">7</span> <a href=\"/wiki/%D0%9A%D1%80%D0%B0%D1%81%D0%BD%D0%BE%D1%8F%D1%80%D1%81%D0%BA\" title=\"Красноярск\">Красноярск</a></li>\\n<li><span style=\"font-size:85%;\">8</span> <a href=\"/wiki/%D0%A7%D0%B5%D0%BB%D1%8F%D0%B1%D0%B8%D0%BD%D1%81%D0%BA\" title=\"Челябинск\">Челябинск</a></li>\\n<li><span style=\"font-size:85%;\">9</span> <a href=\"/wiki/%D0%A1%D0%B0%D0%BC%D0%B0%D1%80%D0%B0\" title=\"Самара\">Самара</a></li>\\n<li><span style=\"font-size:85%;\">10</span> <a href=\"/wiki/%D0%A3%D1%84%D0%B0\" title=\"Уфа\">Уфа</a></li>\\n<li><span style=\"font-size:85%;\">11</span> <a href=\"/wiki/%D0%A0%D0%BE%D1%81%D1%82%D0%BE%D0%B2-%D0%BD%D0%B0-%D0%94%D0%BE%D0%BD%D1%83\" title=\"Ростов-на-Дону\">Ростов-на-Дону</a></li>\\n<li><span style=\"font-size:85%;\">12</span> <a href=\"/wiki/%D0%9A%D1%80%D0%B0%D1%81%D0%BD%D0%BE%D0%B4%D0%B0%D1%80\" title=\"Краснодар\">Краснодар</a></li>\\n<li><span style=\"font-size:85%;\">13</span> <a href=\"/wiki/%D0%9E%D0%BC%D1%81%D0%BA\" title=\"Омск\">Омск</a></li>\\n<li><span style=\"font-size:85%;\">14</span> <a href=\"/wiki/%D0%92%D0%BE%D1%80%D0%BE%D0%BD%D0%B5%D0%B6\" title=\"Воронеж\">Воронеж</a></li>\\n<li><span style=\"font-size:85%;\">15</span> <a href=\"/wiki/%D0%9F%D0%B5%D1%80%D0%BC%D1%8C\" title=\"Пермь\">Пермь</a></li>\\n<li><span style=\"font-size:85%;\">16</span> <a href=\"/wiki/%D0%92%D0%BE%D0%BB%D0%B3%D0%BE%D0%B3%D1%80%D0%B0%D0%B4\" title=\"Волгоград\">Волгоград</a></li></ul>\\n</div></div></td></tr><tr><td class=\"navbox-abovebelow hlist\" colspan=\"2\"><div>Порядковые места распределены по численности населения согласно <a href=\"/wiki/%D0%A1%D0%BF%D0%B8%D1%81%D0%BE%D0%BA_%D0%B3%D0%BE%D1%80%D0%BE%D0%B4%D0%BE%D0%B2_%D0%A0%D0%BE%D1%81%D1%81%D0%B8%D0%B8_%D1%81_%D0%BD%D0%B0%D1%81%D0%B5%D0%BB%D0%B5%D0%BD%D0%B8%D0%B5%D0%BC_%D0%B1%D0%BE%D0%BB%D0%B5%D0%B5_100_%D1%82%D1%8B%D1%81%D1%8F%D1%87_%D0%B6%D0%B8%D1%82%D0%B5%D0%BB%D0%B5%D0%B9\" title=\"Список городов России с населением более 100 тысяч жителей\">текущим данным</a>.</div></td></tr></tbody></table></div>\\n<div role=\"navigation\" class=\"navbox\" aria-labelledby=\"Городские_агломерации-миллионеры_России\" data-name=\"Городские агломерации-миллионеры России\"><table class=\"nowraplinks collapsible autocollapse navbox-inner\" style=\"border-spacing:0;background:transparent;color:inherit\"><tbody><tr><th scope=\"colgroup\" class=\"navbox-title\" colspan=\"2\"><span class=\"navbox-gear\" style=\"float:left;text-align:left;width:5em;margin-right:0.5em\"><span class=\"noprint\" typeof=\"mw:File\"><a href=\"/wiki/%D0%A8%D0%B0%D0%B1%D0%BB%D0%BE%D0%BD:%D0%93%D0%BE%D1%80%D0%BE%D0%B4%D1%81%D0%BA%D0%B8%D0%B5_%D0%B0%D0%B3%D0%BB%D0%BE%D0%BC%D0%B5%D1%80%D0%B0%D1%86%D0%B8%D0%B8-%D0%BC%D0%B8%D0%BB%D0%BB%D0%B8%D0%BE%D0%BD%D0%B5%D1%80%D1%8B_%D0%A0%D0%BE%D1%81%D1%81%D0%B8%D0%B8\" title=\"Перейти к шаблону «Городские агломерации-миллионеры России»\"><img alt=\"Перейти к шаблону «Городские агломерации-миллионеры России»\" src=\"//upload.wikimedia.org/wikipedia/commons/thumb/c/c9/Wikipedia_interwiki_section_gear_icon.svg/14px-Wikipedia_interwiki_section_gear_icon.svg.png\" decoding=\"async\" width=\"14\" height=\"14\" class=\"mw-file-element\" srcset=\"//upload.wikimedia.org/wikipedia/commons/thumb/c/c9/Wikipedia_interwiki_section_gear_icon.svg/21px-Wikipedia_interwiki_section_gear_icon.svg.png 1.5x, //upload.wikimedia.org/wikipedia/commons/thumb/c/c9/Wikipedia_interwiki_section_gear_icon.svg/28px-Wikipedia_interwiki_section_gear_icon.svg.png 2x\" data-file-width=\"14\" data-file-height=\"14\" /></a></span>&#160;</span><div id=\"Городские_агломерации-миллионеры_России\" style=\"font-size:114%;margin:0 5em\"><a href=\"/wiki/%D0%90%D0%B3%D0%BB%D0%BE%D0%BC%D0%B5%D1%80%D0%B0%D1%86%D0%B8%D0%B8_%D0%A0%D0%BE%D1%81%D1%81%D0%B8%D0%B8\" title=\"Агломерации России\">Городские агломерации-миллионеры России</a></div></th></tr><tr><td class=\"navbox-list navbox-odd hlist\" style=\"width:100%;padding:0px\"><div style=\"padding:0em 0.25em\"><div class=\"NavContent\">\\n<ul><li><a href=\"/wiki/%D0%9C%D0%BE%D1%81%D0%BA%D0%BE%D0%B2%D1%81%D0%BA%D0%B0%D1%8F_%D0%B0%D0%B3%D0%BB%D0%BE%D0%BC%D0%B5%D1%80%D0%B0%D1%86%D0%B8%D1%8F\" title=\"Московская агломерация\">Московская</a></li>\\n<li><a href=\"/wiki/%D0%A1%D0%B0%D0%BD%D0%BA%D1%82-%D0%9F%D0%B5%D1%82%D0%B5%D1%80%D0%B1%D1%83%D1%80%D0%B3%D1%81%D0%BA%D0%B0%D1%8F_%D0%B0%D0%B3%D0%BB%D0%BE%D0%BC%D0%B5%D1%80%D0%B0%D1%86%D0%B8%D1%8F\" title=\"Санкт-Петербургская агломерация\">Санкт-Петербургская</a></li>\\n<li><a href=\"/wiki/%D0%A1%D0%B0%D0%BC%D0%B0%D1%80%D1%81%D0%BA%D0%BE-%D0%A2%D0%BE%D0%BB%D1%8C%D1%8F%D1%82%D1%82%D0%B8%D0%BD%D1%81%D0%BA%D0%B0%D1%8F_%D0%B0%D0%B3%D0%BB%D0%BE%D0%BC%D0%B5%D1%80%D0%B0%D1%86%D0%B8%D1%8F\" title=\"Самарско-Тольяттинская агломерация\">Самарско-Тольяттинская</a></li>\\n<li><a href=\"/wiki/%D0%95%D0%BA%D0%B0%D1%82%D0%B5%D1%80%D0%B8%D0%BD%D0%B1%D1%83%D1%80%D0%B3%D1%81%D0%BA%D0%B0%D1%8F_%D0%B0%D0%B3%D0%BB%D0%BE%D0%BC%D0%B5%D1%80%D0%B0%D1%86%D0%B8%D1%8F\" title=\"Екатеринбургская агломерация\">Екатеринбургская (Большой Екатеринбург)</a></li>\\n<li><a href=\"/wiki/%D0%A0%D0%BE%D1%81%D1%82%D0%BE%D0%B2%D1%81%D0%BA%D0%B0%D1%8F_%D0%B0%D0%B3%D0%BB%D0%BE%D0%BC%D0%B5%D1%80%D0%B0%D1%86%D0%B8%D1%8F\" title=\"Ростовская агломерация\">Ростовская (Большой Ростов)</a></li>\\n<li><a href=\"/wiki/%D0%9D%D0%B8%D0%B6%D0%B5%D0%B3%D0%BE%D1%80%D0%BE%D0%B4%D1%81%D0%BA%D0%B0%D1%8F_%D0%B0%D0%B3%D0%BB%D0%BE%D0%BC%D0%B5%D1%80%D0%B0%D1%86%D0%B8%D1%8F\" title=\"Нижегородская агломерация\">Нижегородская</a></li>\\n<li><a href=\"/wiki/%D0%9D%D0%BE%D0%B2%D0%BE%D1%81%D0%B8%D0%B1%D0%B8%D1%80%D1%81%D0%BA%D0%B0%D1%8F_%D0%B0%D0%B3%D0%BB%D0%BE%D0%BC%D0%B5%D1%80%D0%B0%D1%86%D0%B8%D1%8F\" title=\"Новосибирская агломерация\">Новосибирская (Большой Новосибирск)</a></li>\\n<li><a href=\"/wiki/%D0%9A%D0%B0%D0%B7%D0%B0%D0%BD%D1%81%D0%BA%D0%B0%D1%8F_%D0%B0%D0%B3%D0%BB%D0%BE%D0%BC%D0%B5%D1%80%D0%B0%D1%86%D0%B8%D1%8F\" title=\"Казанская агломерация\">Казанская</a></li>\\n<li><a href=\"/wiki/%D0%A7%D0%B5%D0%BB%D1%8F%D0%B1%D0%B8%D0%BD%D1%81%D0%BA%D0%B0%D1%8F_%D0%B0%D0%B3%D0%BB%D0%BE%D0%BC%D0%B5%D1%80%D0%B0%D1%86%D0%B8%D1%8F\" title=\"Челябинская агломерация\">Челябинская (Большой Челябинск)</a></li>\\n<li><a href=\"/wiki/%D0%92%D0%BE%D0%BB%D0%B3%D0%BE%D0%B3%D1%80%D0%B0%D0%B4%D1%81%D0%BA%D0%B0%D1%8F_%D0%B0%D0%B3%D0%BB%D0%BE%D0%BC%D0%B5%D1%80%D0%B0%D1%86%D0%B8%D1%8F\" title=\"Волгоградская агломерация\">Волгоградская</a></li>\\n<li><a href=\"/wiki/%D0%A3%D1%84%D0%B8%D0%BC%D1%81%D0%BA%D0%B0%D1%8F_%D0%B0%D0%B3%D0%BB%D0%BE%D0%BC%D0%B5%D1%80%D0%B0%D1%86%D0%B8%D1%8F\" title=\"Уфимская агломерация\">Уфимская</a></li>\\n<li><a href=\"/wiki/%D0%9A%D1%80%D0%B0%D1%81%D0%BD%D0%BE%D0%B4%D0%B0%D1%80%D1%81%D0%BA%D0%B0%D1%8F_%D0%B0%D0%B3%D0%BB%D0%BE%D0%BC%D0%B5%D1%80%D0%B0%D1%86%D0%B8%D1%8F\" title=\"Краснодарская агломерация\">Краснодарская</a></li>\\n<li><a href=\"/wiki/%D0%9E%D0%BC%D1%81%D0%BA%D0%B0%D1%8F_%D0%B0%D0%B3%D0%BB%D0%BE%D0%BC%D0%B5%D1%80%D0%B0%D1%86%D0%B8%D1%8F\" title=\"Омская агломерация\">Омская</a></li>\\n<li><a href=\"/wiki/%D0%9D%D0%BE%D0%B2%D0%BE%D0%BA%D1%83%D0%B7%D0%BD%D0%B5%D1%86%D0%BA%D0%B0%D1%8F_%D0%B0%D0%B3%D0%BB%D0%BE%D0%BC%D0%B5%D1%80%D0%B0%D1%86%D0%B8%D1%8F\" title=\"Новокузнецкая агломерация\">Новокузнецкая</a>*</li>\\n<li><a href=\"/wiki/%D0%92%D0%BE%D1%80%D0%BE%D0%BD%D0%B5%D0%B6%D1%81%D0%BA%D0%B0%D1%8F_%D0%B0%D0%B3%D0%BB%D0%BE%D0%BC%D0%B5%D1%80%D0%B0%D1%86%D0%B8%D1%8F\" title=\"Воронежская агломерация\">Воронежская</a></li>\\n<li><a href=\"/wiki/%D0%91%D0%BE%D0%BB%D1%8C%D1%88%D0%BE%D0%B9_%D0%92%D0%BB%D0%B0%D0%B4%D0%B8%D0%B2%D0%BE%D1%81%D1%82%D0%BE%D0%BA\" title=\"Большой Владивосток\">Владивостокская (Большой Владивосток)</a>*</li>\\n<li><a href=\"/wiki/%D0%9A%D1%80%D0%B0%D1%81%D0%BD%D0%BE%D1%8F%D1%80%D1%81%D0%BA%D0%B0%D1%8F_%D0%B0%D0%B3%D0%BB%D0%BE%D0%BC%D0%B5%D1%80%D0%B0%D1%86%D0%B8%D1%8F\" title=\"Красноярская агломерация\">Красноярская (Большой Красноярск)</a></li>\\n<li><a href=\"/wiki/%D0%9F%D0%B5%D1%80%D0%BC%D1%81%D0%BA%D0%B0%D1%8F_%D0%B0%D0%B3%D0%BB%D0%BE%D0%BC%D0%B5%D1%80%D0%B0%D1%86%D0%B8%D1%8F\" title=\"Пермская агломерация\">Пермская</a></li>\\n<li><a href=\"/wiki/%D0%A1%D0%B0%D1%80%D0%B0%D1%82%D0%BE%D0%B2%D1%81%D0%BA%D0%B0%D1%8F_%D0%B0%D0%B3%D0%BB%D0%BE%D0%BC%D0%B5%D1%80%D0%B0%D1%86%D0%B8%D1%8F\" title=\"Саратовская агломерация\">Саратовская (Саратовско-Энгельсская)</a>*</li>\\n<li><a href=\"/wiki/%D0%9D%D0%B0%D0%B1%D0%B5%D1%80%D0%B5%D0%B6%D0%BD%D0%BE%D1%87%D0%B5%D0%BB%D0%BD%D0%B8%D0%BD%D1%81%D0%BA%D0%B0%D1%8F_%D0%B0%D0%B3%D0%BB%D0%BE%D0%BC%D0%B5%D1%80%D0%B0%D1%86%D0%B8%D1%8F\" title=\"Набережночелнинская агломерация\">Набережночелнинская (Нижне-Камская)</a>*</li>\\n<li><a href=\"/wiki/%D0%98%D1%80%D0%BA%D1%83%D1%82%D1%81%D0%BA%D0%B0%D1%8F_%D0%B0%D0%B3%D0%BB%D0%BE%D0%BC%D0%B5%D1%80%D0%B0%D1%86%D0%B8%D1%8F\" title=\"Иркутская агломерация\">Иркутская (Большой Иркутск)</a>*</li>\\n<li><a href=\"/wiki/%D0%A2%D1%83%D0%BB%D1%8C%D1%81%D0%BA%D0%BE-%D0%9D%D0%BE%D0%B2%D0%BE%D0%BC%D0%BE%D1%81%D0%BA%D0%BE%D0%B2%D1%81%D0%BA%D0%B0%D1%8F_%D0%B0%D0%B3%D0%BB%D0%BE%D0%BC%D0%B5%D1%80%D0%B0%D1%86%D0%B8%D1%8F\" title=\"Тульско-Новомосковская агломерация\">Тульско-Новомосковская</a>*</li>\\n<li><a href=\"/wiki/%D0%91%D1%80%D1%8F%D0%BD%D1%81%D0%BA%D0%BE-%D0%9B%D1%8E%D0%B4%D0%B8%D0%BD%D0%BE%D0%B2%D1%81%D0%BA%D0%B0%D1%8F_%D0%B0%D0%B3%D0%BB%D0%BE%D0%BC%D0%B5%D1%80%D0%B0%D1%86%D0%B8%D1%8F\" title=\"Брянско-Людиновская агломерация\"><i>Брянско-Людиновская</i></a>*</li>\\n<li><a href=\"/wiki/%D0%AF%D1%80%D0%BE%D1%81%D0%BB%D0%B0%D0%B2%D1%81%D0%BA%D0%B0%D1%8F_%D0%B0%D0%B3%D0%BB%D0%BE%D0%BC%D0%B5%D1%80%D0%B0%D1%86%D0%B8%D1%8F\" title=\"Ярославская агломерация\"><i>Ярославско-Костромская</i></a>*</li></ul>\\n<ul><li>* — при городах-немиллионерах; <i>курсивом</i> — оспариваемые как миллионные</li></ul>\\n</div></div></td></tr></tbody></table></div>\\n<!-- \\nNewPP limit report\\nParsed by mw1410\\nCached time: 20230827193348\\nCache expiry: 1814400\\nReduced expiry: false\\nComplications: [show‐toc]\\nCPU time usage: 0.722 seconds\\nReal time usage: 0.856 seconds\\nPreprocessor visited node count: 12333/1000000\\nPost‐expand include size: 284125/2097152 bytes\\nTemplate argument size: 21909/2097152 bytes\\nHighest expansion depth: 17/100\\nExpensive parser function count: 7/500\\nUnstrip recursion depth: 1/20\\nUnstrip post‐expand size: 92429/5000000 bytes\\nLua time usage: 0.318/10.000 seconds\\nLua memory usage: 10499576/52428800 bytes\\nNumber of Wikibase entities loaded: 1/400\\n-->\\n<!--\\nTransclusion expansion time report (%,ms,calls,template)\\n100.00%  696.249      1 -total\\n 36.20%  252.049      2 Шаблон:Примечания\\n 23.06%  160.530      2 Шаблон:Население\\n 16.55%  115.261     41 Шаблон:Cite_web\\n  7.97%   55.510      1 Шаблон:Обновить\\n  7.26%   50.571      2 Шаблон:Нет_ссылок_в_разделе\\n  6.68%   46.516      2 Шаблон:Нет_источников\\n  6.59%   45.889      1 Шаблон:ПозКарта+\\n  6.12%   42.608      4 Шаблон:Сортировка:_статьи_без_источников\\n  5.49%   38.216      1 Шаблон:Mbox\\n-->\\n\\n<!-- Saved in parser cache with key ruwiki:pcache:idhash:756937-0!canonical and timestamp 20230827193347 and revision id 132167311. Rendering was triggered because: api-parse\\n -->\\n</div><!--esi <esi:include src=\"/esitest-fa8a495983347898/content\" /> --><noscript><img src=\"//ru.wikipedia.org/wiki/Special:CentralAutoLogin/start?type=1x1\" alt=\"\" title=\"\" width=\"1\" height=\"1\" style=\"border: none; position: absolute;\" /></noscript>\\n<div class=\"printfooter\" data-nosnippet=\"\">Источник — <a dir=\"ltr\" href=\"https://ru.wikipedia.org/w/index.php?title=Города-миллионеры_России&amp;oldid=132167311\">https://ru.wikipedia.org/w/index.php?title=Города-миллионеры_России&amp;oldid=132167311</a></div></div>\\n\\t\\t<div id=\"catlinks\" class=\"catlinks\" data-mw=\"interface\"><div id=\"mw-normal-catlinks\" class=\"mw-normal-catlinks\"><a href=\"/wiki/%D0%A1%D0%BB%D1%83%D0%B6%D0%B5%D0%B1%D0%BD%D0%B0%D1%8F:%D0%9A%D0%B0%D1%82%D0%B5%D0%B3%D0%BE%D1%80%D0%B8%D0%B8\" title=\"Служебная:Категории\">Категории</a>: <ul><li><a href=\"/wiki/%D0%9A%D0%B0%D1%82%D0%B5%D0%B3%D0%BE%D1%80%D0%B8%D1%8F:%D0%9D%D0%B0%D1%81%D0%B5%D0%BB%D0%B5%D0%BD%D0%B8%D0%B5_%D0%A0%D0%BE%D1%81%D1%81%D0%B8%D0%B8\" title=\"Категория:Население России\">Население России</a></li><li><a href=\"/wiki/%D0%9A%D0%B0%D1%82%D0%B5%D0%B3%D0%BE%D1%80%D0%B8%D1%8F:%D0%93%D0%BE%D1%80%D0%BE%D0%B4%D0%B0-%D0%BC%D0%B8%D0%BB%D0%BB%D0%B8%D0%BE%D0%BD%D0%B5%D1%80%D1%8B_%D0%A0%D0%BE%D1%81%D1%81%D0%B8%D0%B8\" title=\"Категория:Города-миллионеры России\">Города-миллионеры России</a></li><li><a href=\"/wiki/%D0%9A%D0%B0%D1%82%D0%B5%D0%B3%D0%BE%D1%80%D0%B8%D1%8F:%D0%9D%D0%B0%D1%81%D0%B5%D0%BB%D0%B5%D0%BD%D0%B8%D0%B5_%D0%BF%D0%BE_%D0%B3%D0%BE%D1%80%D0%BE%D0%B4%D0%B0%D0%BC_%D0%A0%D0%BE%D1%81%D1%81%D0%B8%D0%B8\" title=\"Категория:Население по городам России\">Население по городам России</a></li><li><a href=\"/wiki/%D0%9A%D0%B0%D1%82%D0%B5%D0%B3%D0%BE%D1%80%D0%B8%D1%8F:%D0%A1%D0%BF%D0%B8%D1%81%D0%BA%D0%B8_%D0%B3%D0%BE%D1%80%D0%BE%D0%B4%D0%BE%D0%B2_%D0%A0%D0%BE%D1%81%D1%81%D0%B8%D0%B8\" title=\"Категория:Списки городов России\">Списки городов России</a></li></ul></div><div id=\"mw-hidden-catlinks\" class=\"mw-hidden-catlinks mw-hidden-cats-hidden\">Скрытые категории: <ul><li><a href=\"/wiki/%D0%9A%D0%B0%D1%82%D0%B5%D0%B3%D0%BE%D1%80%D0%B8%D1%8F:%D0%92%D0%B8%D0%BA%D0%B8%D0%BF%D0%B5%D0%B4%D0%B8%D1%8F:Cite_web_(%D0%B7%D0%B0%D0%BC%D0%B5%D0%BD%D0%B8%D1%82%D1%8C_webcitation-%D0%B0%D1%80%D1%85%D0%B8%D0%B2:_deadlink_yes)\" title=\"Категория:Википедия:Cite web (заменить webcitation-архив: deadlink yes)\">Википедия:Cite web (заменить webcitation-архив: deadlink yes)</a></li><li><a href=\"/wiki/%D0%9A%D0%B0%D1%82%D0%B5%D0%B3%D0%BE%D1%80%D0%B8%D1%8F:%D0%92%D0%B8%D0%BA%D0%B8%D0%BF%D0%B5%D0%B4%D0%B8%D1%8F:%D0%A1%D1%82%D0%B0%D1%82%D1%8C%D0%B8_%D1%81_%D0%BD%D0%B5%D1%80%D0%B0%D0%B1%D0%BE%D1%87%D0%B8%D0%BC%D0%B8_%D1%81%D1%81%D1%8B%D0%BB%D0%BA%D0%B0%D0%BC%D0%B8\" title=\"Категория:Википедия:Статьи с нерабочими ссылками\">Википедия:Статьи с нерабочими ссылками</a></li><li><a href=\"/wiki/%D0%9A%D0%B0%D1%82%D0%B5%D0%B3%D0%BE%D1%80%D0%B8%D1%8F:%D0%92%D0%B8%D0%BA%D0%B8%D0%BF%D0%B5%D0%B4%D0%B8%D1%8F:%D0%A1%D1%82%D0%B0%D1%82%D1%8C%D0%B8_%D0%B4%D0%BB%D1%8F_%D0%BE%D0%B1%D0%BD%D0%BE%D0%B2%D0%BB%D0%B5%D0%BD%D0%B8%D1%8F\" title=\"Категория:Википедия:Статьи для обновления\">Википедия:Статьи для обновления</a></li><li><a href=\"/wiki/%D0%9A%D0%B0%D1%82%D0%B5%D0%B3%D0%BE%D1%80%D0%B8%D1%8F:%D0%92%D0%B8%D0%BA%D0%B8%D0%BF%D0%B5%D0%B4%D0%B8%D1%8F:%D0%A1%D1%82%D0%B0%D1%82%D1%8C%D0%B8_%D1%81_%D1%88%D0%B0%D0%B1%D0%BB%D0%BE%D0%BD%D0%B0%D0%BC%D0%B8_%D0%BD%D0%B5%D0%B4%D0%BE%D1%81%D1%82%D0%B0%D1%82%D0%BA%D0%BE%D0%B2_%D0%BF%D0%BE_%D0%B0%D0%BB%D1%84%D0%B0%D0%B2%D0%B8%D1%82%D1%83\" title=\"Категория:Википедия:Статьи с шаблонами недостатков по алфавиту\">Википедия:Статьи с шаблонами недостатков по алфавиту</a></li><li><a href=\"/wiki/%D0%9A%D0%B0%D1%82%D0%B5%D0%B3%D0%BE%D1%80%D0%B8%D1%8F:%D0%92%D0%B8%D0%BA%D0%B8%D0%BF%D0%B5%D0%B4%D0%B8%D1%8F:%D0%A1%D1%82%D0%B0%D1%82%D1%8C%D0%B8_%D1%81_%D1%80%D0%B0%D0%B7%D0%B4%D0%B5%D0%BB%D0%B0%D0%BC%D0%B8_%D0%B1%D0%B5%D0%B7_%D1%81%D1%81%D1%8B%D0%BB%D0%BE%D0%BA_%D0%BD%D0%B0_%D0%B8%D1%81%D1%82%D0%BE%D1%87%D0%BD%D0%B8%D0%BA%D0%B8_%D1%81_%D1%81%D0%B5%D0%BD%D1%82%D1%8F%D0%B1%D1%80%D1%8F_2022_%D0%B3%D0%BE%D0%B4%D0%B0\" title=\"Категория:Википедия:Статьи с разделами без ссылок на источники с сентября 2022 года\">Википедия:Статьи с разделами без ссылок на источники с сентября 2022 года</a></li><li><a href=\"/wiki/%D0%9A%D0%B0%D1%82%D0%B5%D0%B3%D0%BE%D1%80%D0%B8%D1%8F:%D0%92%D0%B8%D0%BA%D0%B8%D0%BF%D0%B5%D0%B4%D0%B8%D1%8F:%D0%A1%D1%82%D0%B0%D1%82%D1%8C%D0%B8_%D0%B1%D0%B5%D0%B7_%D0%B8%D1%81%D1%82%D0%BE%D1%87%D0%BD%D0%B8%D0%BA%D0%BE%D0%B2_(%D1%81%D1%82%D1%80%D0%B0%D0%BD%D0%B0:_%D0%A0%D0%BE%D1%81%D1%81%D0%B8%D1%8F)\" title=\"Категория:Википедия:Статьи без источников (страна: Россия)\">Википедия:Статьи без источников (страна: Россия)</a></li><li><a href=\"/wiki/%D0%9A%D0%B0%D1%82%D0%B5%D0%B3%D0%BE%D1%80%D0%B8%D1%8F:%D0%92%D0%B8%D0%BA%D0%B8%D0%BF%D0%B5%D0%B4%D0%B8%D1%8F:%D0%A1%D1%82%D0%B0%D1%82%D1%8C%D0%B8_%D0%B1%D0%B5%D0%B7_%D0%B8%D1%81%D1%82%D0%BE%D1%87%D0%BD%D0%B8%D0%BA%D0%BE%D0%B2_(%D1%82%D0%B8%D0%BF:_%D1%81%D1%82%D0%B0%D1%82%D1%8C%D1%8F-%D1%81%D0%BF%D0%B8%D1%81%D0%BE%D0%BA_%D0%B2_%D0%BF%D1%80%D0%BE%D0%B5%D0%BA%D1%82%D0%B5_%D0%92%D0%B8%D0%BA%D0%B8%D0%BC%D0%B5%D0%B4%D0%B8%D0%B0)\" title=\"Категория:Википедия:Статьи без источников (тип: статья-список в проекте Викимедиа)\">Википедия:Статьи без источников (тип: статья-список в проекте Викимедиа)</a></li><li><a href=\"/wiki/%D0%9A%D0%B0%D1%82%D0%B5%D0%B3%D0%BE%D1%80%D0%B8%D1%8F:%D0%92%D0%B8%D0%BA%D0%B8%D0%BF%D0%B5%D0%B4%D0%B8%D1%8F:%D0%A1%D1%82%D0%B0%D1%82%D1%8C%D0%B8_%D1%81_%D1%80%D0%B0%D0%B7%D0%B4%D0%B5%D0%BB%D0%B0%D0%BC%D0%B8_%D0%B1%D0%B5%D0%B7_%D1%81%D1%81%D1%8B%D0%BB%D0%BE%D0%BA_%D0%BD%D0%B0_%D0%B8%D1%81%D1%82%D0%BE%D1%87%D0%BD%D0%B8%D0%BA%D0%B8_%D1%81_%D0%B0%D0%BF%D1%80%D0%B5%D0%BB%D1%8F_2022_%D0%B3%D0%BE%D0%B4%D0%B0\" title=\"Категория:Википедия:Статьи с разделами без ссылок на источники с апреля 2022 года\">Википедия:Статьи с разделами без ссылок на источники с апреля 2022 года</a></li><li><a href=\"/wiki/%D0%9A%D0%B0%D1%82%D0%B5%D0%B3%D0%BE%D1%80%D0%B8%D1%8F:%D0%92%D0%B8%D0%BA%D0%B8%D0%BF%D0%B5%D0%B4%D0%B8%D1%8F:%D0%9D%D0%B5%D1%82_%D0%B8%D1%81%D1%82%D0%BE%D1%87%D0%BD%D0%B8%D0%BA%D0%BE%D0%B2_%D1%81_%D0%B0%D0%BF%D1%80%D0%B5%D0%BB%D1%8F_2021\" title=\"Категория:Википедия:Нет источников с апреля 2021\">Википедия:Нет источников с апреля 2021</a></li><li><a href=\"/wiki/%D0%9A%D0%B0%D1%82%D0%B5%D0%B3%D0%BE%D1%80%D0%B8%D1%8F:%D0%92%D0%B8%D0%BA%D0%B8%D0%BF%D0%B5%D0%B4%D0%B8%D1%8F:%D0%A1%D1%82%D0%B0%D1%82%D1%8C%D0%B8_%D1%81_%D1%83%D1%82%D0%B2%D0%B5%D1%80%D0%B6%D0%B4%D0%B5%D0%BD%D0%B8%D1%8F%D0%BC%D0%B8_%D0%B1%D0%B5%D0%B7_%D0%B8%D1%81%D1%82%D0%BE%D1%87%D0%BD%D0%B8%D0%BA%D0%BE%D0%B2_%D0%B1%D0%BE%D0%BB%D0%B5%D0%B5_14_%D0%B4%D0%BD%D0%B5%D0%B9\" title=\"Категория:Википедия:Статьи с утверждениями без источников более 14 дней\">Википедия:Статьи с утверждениями без источников более 14 дней</a></li><li><a href=\"/wiki/%D0%9A%D0%B0%D1%82%D0%B5%D0%B3%D0%BE%D1%80%D0%B8%D1%8F:%D0%92%D0%B8%D0%BA%D0%B8%D0%BF%D0%B5%D0%B4%D0%B8%D1%8F:%D0%A1%D1%82%D0%B0%D1%82%D1%8C%D0%B8,_%D1%82%D1%80%D0%B5%D0%B1%D1%83%D1%8E%D1%89%D0%B8%D0%B5_%D0%BA%D0%BE%D0%BD%D0%BA%D1%80%D0%B5%D1%82%D0%B8%D0%B7%D0%B0%D1%86%D0%B8%D0%B8\" title=\"Категория:Википедия:Статьи, требующие конкретизации\">Википедия:Статьи, требующие конкретизации</a></li></ul></div></div>\\n\\t</div>\\n</div>\\n\\n<div id=\"mw-navigation\">\\n\\t<h2>Навигация</h2>\\n\\t<div id=\"mw-head\">\\n\\t\\t\\n<nav id=\"p-personal\" class=\"vector-menu mw-portlet mw-portlet-personal vector-user-menu-legacy\" aria-labelledby=\"p-personal-label\" role=\"navigation\"  >\\n\\t<h3\\n\\t\\tid=\"p-personal-label\"\\n\\t\\t\\n\\t\\tclass=\"vector-menu-heading \"\\n\\t>\\n\\t\\t<span class=\"vector-menu-heading-label\">Персональные инструменты</span>\\n\\t</h3>\\n\\t<div class=\"vector-menu-content\">\\n\\t\\t\\n\\t\\t<ul class=\"vector-menu-content-list\">\\n\\t\\t\\t\\n\\t\\t\\t<li id=\"pt-anonuserpage\" class=\"mw-list-item\"><span title=\"Страница участника для моего IP\">Вы не представились системе</span></li><li id=\"pt-anontalk\" class=\"mw-list-item\"><a href=\"/wiki/%D0%A1%D0%BB%D1%83%D0%B6%D0%B5%D0%B1%D0%BD%D0%B0%D1%8F:%D0%9C%D0%BE%D1%91_%D0%BE%D0%B1%D1%81%D1%83%D0%B6%D0%B4%D0%B5%D0%BD%D0%B8%D0%B5\" title=\"Страница обсуждений для моего IP [n]\" accesskey=\"n\"><span>Обсуждение</span></a></li><li id=\"pt-anoncontribs\" class=\"mw-list-item\"><a href=\"/wiki/%D0%A1%D0%BB%D1%83%D0%B6%D0%B5%D0%B1%D0%BD%D0%B0%D1%8F:%D0%9C%D0%BE%D0%B9_%D0%B2%D0%BA%D0%BB%D0%B0%D0%B4\" title=\"Список правок, сделанных с этого IP-адреса [y]\" accesskey=\"y\"><span>Вклад</span></a></li><li id=\"pt-createaccount\" class=\"mw-list-item\"><a href=\"/w/index.php?title=%D0%A1%D0%BB%D1%83%D0%B6%D0%B5%D0%B1%D0%BD%D0%B0%D1%8F:%D0%A1%D0%BE%D0%B7%D0%B4%D0%B0%D1%82%D1%8C_%D1%83%D1%87%D1%91%D1%82%D0%BD%D1%83%D1%8E_%D0%B7%D0%B0%D0%BF%D0%B8%D1%81%D1%8C&amp;returnto=%D0%93%D0%BE%D1%80%D0%BE%D0%B4%D0%B0-%D0%BC%D0%B8%D0%BB%D0%BB%D0%B8%D0%BE%D0%BD%D0%B5%D1%80%D1%8B+%D0%A0%D0%BE%D1%81%D1%81%D0%B8%D0%B8\" title=\"Мы предлагаем вам создать учётную запись и войти в систему, хотя это и не обязательно.\"><span>Создать учётную запись</span></a></li><li id=\"pt-login\" class=\"mw-list-item\"><a href=\"/w/index.php?title=%D0%A1%D0%BB%D1%83%D0%B6%D0%B5%D0%B1%D0%BD%D0%B0%D1%8F:%D0%92%D1%85%D0%BE%D0%B4&amp;returnto=%D0%93%D0%BE%D1%80%D0%BE%D0%B4%D0%B0-%D0%BC%D0%B8%D0%BB%D0%BB%D0%B8%D0%BE%D0%BD%D0%B5%D1%80%D1%8B+%D0%A0%D0%BE%D1%81%D1%81%D0%B8%D0%B8\" title=\"Здесь можно зарегистрироваться в системе, но это необязательно. [o]\" accesskey=\"o\"><span>Войти</span></a></li>\\n\\t\\t</ul>\\n\\t\\t\\n\\t</div>\\n</nav>\\n\\n\\t\\t<div id=\"left-navigation\">\\n\\t\\t\\t\\n<nav id=\"p-namespaces\" class=\"vector-menu mw-portlet mw-portlet-namespaces vector-menu-tabs vector-menu-tabs-legacy\" aria-labelledby=\"p-namespaces-label\" role=\"navigation\"  >\\n\\t<h3\\n\\t\\tid=\"p-namespaces-label\"\\n\\t\\t\\n\\t\\tclass=\"vector-menu-heading \"\\n\\t>\\n\\t\\t<span class=\"vector-menu-heading-label\">Пространства имён</span>\\n\\t</h3>\\n\\t<div class=\"vector-menu-content\">\\n\\t\\t\\n\\t\\t<ul class=\"vector-menu-content-list\">\\n\\t\\t\\t\\n\\t\\t\\t<li id=\"ca-nstab-main\" class=\"selected mw-list-item\"><a href=\"/wiki/%D0%93%D0%BE%D1%80%D0%BE%D0%B4%D0%B0-%D0%BC%D0%B8%D0%BB%D0%BB%D0%B8%D0%BE%D0%BD%D0%B5%D1%80%D1%8B_%D0%A0%D0%BE%D1%81%D1%81%D0%B8%D0%B8\" title=\"Просмотреть контентную страницу [c]\" accesskey=\"c\"><span>Статья</span></a></li><li id=\"ca-talk\" class=\"mw-list-item\"><a href=\"/wiki/%D0%9E%D0%B1%D1%81%D1%83%D0%B6%D0%B4%D0%B5%D0%BD%D0%B8%D0%B5:%D0%93%D0%BE%D1%80%D0%BE%D0%B4%D0%B0-%D0%BC%D0%B8%D0%BB%D0%BB%D0%B8%D0%BE%D0%BD%D0%B5%D1%80%D1%8B_%D0%A0%D0%BE%D1%81%D1%81%D0%B8%D0%B8\" rel=\"discussion\" title=\"Обсуждение основной страницы [t]\" accesskey=\"t\"><span>Обсуждение</span></a></li>\\n\\t\\t</ul>\\n\\t\\t\\n\\t</div>\\n</nav>\\n\\n\\t\\t\\t\\n<nav id=\"p-variants\" class=\"vector-menu mw-portlet mw-portlet-variants emptyPortlet vector-menu-dropdown\" aria-labelledby=\"p-variants-label\" role=\"navigation\"  >\\n\\t<input type=\"checkbox\"\\n\\t\\tid=\"p-variants-checkbox\"\\n\\t\\trole=\"button\"\\n\\t\\taria-haspopup=\"true\"\\n\\t\\tdata-event-name=\"ui.dropdown-p-variants\"\\n\\t\\tclass=\"vector-menu-checkbox\"\\n\\t\\taria-labelledby=\"p-variants-label\"\\n\\t/>\\n\\t<label\\n\\t\\tid=\"p-variants-label\"\\n\\t\\t\\n\\t\\tclass=\"vector-menu-heading \"\\n\\t>\\n\\t\\t<span class=\"vector-menu-heading-label\">русский</span>\\n\\t</label>\\n\\t<div class=\"vector-menu-content\">\\n\\t\\t\\n\\t\\t<ul class=\"vector-menu-content-list\">\\n\\t\\t\\t\\n\\t\\t\\t\\n\\t\\t</ul>\\n\\t\\t\\n\\t</div>\\n</nav>\\n\\n\\t\\t</div>\\n\\t\\t<div id=\"right-navigation\">\\n\\t\\t\\t\\n<nav id=\"p-views\" class=\"vector-menu mw-portlet mw-portlet-views vector-menu-tabs vector-menu-tabs-legacy\" aria-labelledby=\"p-views-label\" role=\"navigation\"  >\\n\\t<h3\\n\\t\\tid=\"p-views-label\"\\n\\t\\t\\n\\t\\tclass=\"vector-menu-heading \"\\n\\t>\\n\\t\\t<span class=\"vector-menu-heading-label\">Просмотры</span>\\n\\t</h3>\\n\\t<div class=\"vector-menu-content\">\\n\\t\\t\\n\\t\\t<ul class=\"vector-menu-content-list\">\\n\\t\\t\\t\\n\\t\\t\\t<li id=\"ca-view\" class=\"mw-list-item\"><a href=\"/w/index.php?title=%D0%93%D0%BE%D1%80%D0%BE%D0%B4%D0%B0-%D0%BC%D0%B8%D0%BB%D0%BB%D0%B8%D0%BE%D0%BD%D0%B5%D1%80%D1%8B_%D0%A0%D0%BE%D1%81%D1%81%D0%B8%D0%B8&amp;stable=1\"><span>Читать</span></a></li><li id=\"ca-current\" class=\"collapsible selected mw-list-item\"><a href=\"/w/index.php?title=%D0%93%D0%BE%D1%80%D0%BE%D0%B4%D0%B0-%D0%BC%D0%B8%D0%BB%D0%BB%D0%B8%D0%BE%D0%BD%D0%B5%D1%80%D1%8B_%D0%A0%D0%BE%D1%81%D1%81%D0%B8%D0%B8&amp;stable=0&amp;redirect=no\" title=\"Показать текущую версию этой страницы [v]\" accesskey=\"v\"><span>Текущая версия</span></a></li><li id=\"ca-ve-edit\" class=\"mw-list-item\"><a href=\"/w/index.php?title=%D0%93%D0%BE%D1%80%D0%BE%D0%B4%D0%B0-%D0%BC%D0%B8%D0%BB%D0%BB%D0%B8%D0%BE%D0%BD%D0%B5%D1%80%D1%8B_%D0%A0%D0%BE%D1%81%D1%81%D0%B8%D0%B8&amp;veaction=edit\" title=\"Редактировать данную страницу [v]\" accesskey=\"v\"><span>Править</span></a></li><li id=\"ca-edit\" class=\"collapsible mw-list-item\"><a href=\"/w/index.php?title=%D0%93%D0%BE%D1%80%D0%BE%D0%B4%D0%B0-%D0%BC%D0%B8%D0%BB%D0%BB%D0%B8%D0%BE%D0%BD%D0%B5%D1%80%D1%8B_%D0%A0%D0%BE%D1%81%D1%81%D0%B8%D0%B8&amp;action=edit\" title=\"Править исходный текст этой страницы [e]\" accesskey=\"e\"><span>Править код</span></a></li><li id=\"ca-history\" class=\"mw-list-item\"><a href=\"/w/index.php?title=%D0%93%D0%BE%D1%80%D0%BE%D0%B4%D0%B0-%D0%BC%D0%B8%D0%BB%D0%BB%D0%B8%D0%BE%D0%BD%D0%B5%D1%80%D1%8B_%D0%A0%D0%BE%D1%81%D1%81%D0%B8%D0%B8&amp;action=history\" title=\"Журнал изменений страницы [h]\" accesskey=\"h\"><span>История</span></a></li>\\n\\t\\t</ul>\\n\\t\\t\\n\\t</div>\\n</nav>\\n\\n\\t\\t\\t\\n<nav id=\"p-cactions\" class=\"vector-menu mw-portlet mw-portlet-cactions emptyPortlet vector-menu-dropdown\" aria-labelledby=\"p-cactions-label\" role=\"navigation\"  title=\"Больше возможностей\" >\\n\\t<input type=\"checkbox\"\\n\\t\\tid=\"p-cactions-checkbox\"\\n\\t\\trole=\"button\"\\n\\t\\taria-haspopup=\"true\"\\n\\t\\tdata-event-name=\"ui.dropdown-p-cactions\"\\n\\t\\tclass=\"vector-menu-checkbox\"\\n\\t\\taria-labelledby=\"p-cactions-label\"\\n\\t/>\\n\\t<label\\n\\t\\tid=\"p-cactions-label\"\\n\\t\\t\\n\\t\\tclass=\"vector-menu-heading \"\\n\\t>\\n\\t\\t<span class=\"vector-menu-heading-label\">Ещё</span>\\n\\t</label>\\n\\t<div class=\"vector-menu-content\">\\n\\t\\t\\n\\t\\t<ul class=\"vector-menu-content-list\">\\n\\t\\t\\t\\n\\t\\t\\t\\n\\t\\t</ul>\\n\\t\\t\\n\\t</div>\\n</nav>\\n\\n\\t\\t\\t\\n<div id=\"p-search\" role=\"search\" class=\"vector-search-box-vue  vector-search-box-show-thumbnail vector-search-box-auto-expand-width vector-search-box\">\\n\\t<h3 >Поиск</h3>\\n\\t<form action=\"/w/index.php\" id=\"searchform\" class=\"vector-search-box-form\">\\n\\t\\t<div id=\"simpleSearch\"\\n\\t\\t\\tclass=\"vector-search-box-inner\"\\n\\t\\t\\t data-search-loc=\"header-navigation\">\\n\\t\\t\\t<input class=\"vector-search-box-input\"\\n\\t\\t\\t\\t type=\"search\" name=\"search\" placeholder=\"Искать в Википедии\" aria-label=\"Искать в Википедии\" autocapitalize=\"sentences\" title=\"Искать в Википедии [f]\" accesskey=\"f\" id=\"searchInput\"\\n\\t\\t\\t>\\n\\t\\t\\t<input type=\"hidden\" name=\"title\" value=\"Служебная:Поиск\">\\n\\t\\t\\t<input id=\"mw-searchButton\"\\n\\t\\t\\t\\t class=\"searchButton mw-fallbackSearchButton\" type=\"submit\" name=\"fulltext\" title=\"Найти страницы, содержащие указанный текст\" value=\"Найти\">\\n\\t\\t\\t<input id=\"searchButton\"\\n\\t\\t\\t\\t class=\"searchButton\" type=\"submit\" name=\"go\" title=\"Перейти к странице, имеющей в точности такое название\" value=\"Перейти\">\\n\\t\\t</div>\\n\\t</form>\\n</div>\\n\\n\\t\\t</div>\\n\\t</div>\\n\\t\\n<div id=\"mw-panel\" class=\"vector-legacy-sidebar\">\\n\\t<div id=\"p-logo\" role=\"banner\">\\n\\t\\t<a class=\"mw-wiki-logo\" href=\"/wiki/%D0%97%D0%B0%D0%B3%D0%BB%D0%B0%D0%B2%D0%BD%D0%B0%D1%8F_%D1%81%D1%82%D1%80%D0%B0%D0%BD%D0%B8%D1%86%D0%B0\"\\n\\t\\t\\ttitle=\"Перейти на заглавную страницу\"></a>\\n\\t</div>\\n\\t\\n<nav id=\"p-navigation\" class=\"vector-menu mw-portlet mw-portlet-navigation vector-menu-portal portal\" aria-labelledby=\"p-navigation-label\" role=\"navigation\"  >\\n\\t<h3\\n\\t\\tid=\"p-navigation-label\"\\n\\t\\t\\n\\t\\tclass=\"vector-menu-heading \"\\n\\t>\\n\\t\\t<span class=\"vector-menu-heading-label\">Навигация</span>\\n\\t</h3>\\n\\t<div class=\"vector-menu-content\">\\n\\t\\t\\n\\t\\t<ul class=\"vector-menu-content-list\">\\n\\t\\t\\t\\n\\t\\t\\t<li id=\"n-mainpage-description\" class=\"mw-list-item\"><a href=\"/wiki/%D0%97%D0%B0%D0%B3%D0%BB%D0%B0%D0%B2%D0%BD%D0%B0%D1%8F_%D1%81%D1%82%D1%80%D0%B0%D0%BD%D0%B8%D1%86%D0%B0\" title=\"Перейти на заглавную страницу [z]\" accesskey=\"z\"><span>Заглавная страница</span></a></li><li id=\"n-content\" class=\"mw-list-item\"><a href=\"/wiki/%D0%92%D0%B8%D0%BA%D0%B8%D0%BF%D0%B5%D0%B4%D0%B8%D1%8F:%D0%A1%D0%BE%D0%B4%D0%B5%D1%80%D0%B6%D0%B0%D0%BD%D0%B8%D0%B5\"><span>Содержание</span></a></li><li id=\"n-featured\" class=\"mw-list-item\"><a href=\"/wiki/%D0%92%D0%B8%D0%BA%D0%B8%D0%BF%D0%B5%D0%B4%D0%B8%D1%8F:%D0%98%D0%B7%D0%B1%D1%80%D0%B0%D0%BD%D0%BD%D1%8B%D0%B5_%D1%81%D1%82%D0%B0%D1%82%D1%8C%D0%B8\" title=\"Статьи, считающиеся лучшими статьями проекта\"><span>Избранные статьи</span></a></li><li id=\"n-randompage\" class=\"mw-list-item\"><a href=\"/wiki/%D0%A1%D0%BB%D1%83%D0%B6%D0%B5%D0%B1%D0%BD%D0%B0%D1%8F:%D0%A1%D0%BB%D1%83%D1%87%D0%B0%D0%B9%D0%BD%D0%B0%D1%8F_%D1%81%D1%82%D1%80%D0%B0%D0%BD%D0%B8%D1%86%D0%B0\" title=\"Посмотреть случайно выбранную страницу [x]\" accesskey=\"x\"><span>Случайная статья</span></a></li><li id=\"n-currentevents\" class=\"mw-list-item\"><a href=\"/wiki/%D0%9F%D0%BE%D1%80%D1%82%D0%B0%D0%BB:%D0%A2%D0%B5%D0%BA%D1%83%D1%89%D0%B8%D0%B5_%D1%81%D0%BE%D0%B1%D1%8B%D1%82%D0%B8%D1%8F\" title=\"Статьи о текущих событиях в мире\"><span>Текущие события</span></a></li><li id=\"n-sitesupport\" class=\"mw-list-item\"><a href=\"//donate.wikimedia.org/wiki/Special:FundraiserRedirector?utm_source=donate&amp;utm_medium=sidebar&amp;utm_campaign=C13_ru.wikipedia.org&amp;uselang=ru\" title=\"Поддержите нас\"><span>Пожертвовать</span></a></li>\\n\\t\\t</ul>\\n\\t\\t\\n\\t</div>\\n</nav>\\n\\n\\t\\n<nav id=\"p-participation\" class=\"vector-menu mw-portlet mw-portlet-participation vector-menu-portal portal\" aria-labelledby=\"p-participation-label\" role=\"navigation\"  >\\n\\t<h3\\n\\t\\tid=\"p-participation-label\"\\n\\t\\t\\n\\t\\tclass=\"vector-menu-heading \"\\n\\t>\\n\\t\\t<span class=\"vector-menu-heading-label\">Участие</span>\\n\\t</h3>\\n\\t<div class=\"vector-menu-content\">\\n\\t\\t\\n\\t\\t<ul class=\"vector-menu-content-list\">\\n\\t\\t\\t\\n\\t\\t\\t<li id=\"n-bug_in_article\" class=\"mw-list-item\"><a href=\"/wiki/%D0%92%D0%B8%D0%BA%D0%B8%D0%BF%D0%B5%D0%B4%D0%B8%D1%8F:%D0%A1%D0%BE%D0%BE%D0%B1%D1%89%D0%B5%D0%BD%D0%B8%D1%8F_%D0%BE%D0%B1_%D0%BE%D1%88%D0%B8%D0%B1%D0%BA%D0%B0%D1%85\" title=\"Сообщить об ошибке в этой статье\"><span>Сообщить об\\xa0ошибке</span></a></li><li id=\"n-introduction\" class=\"mw-list-item\"><a href=\"/wiki/%D0%A1%D0%BF%D1%80%D0%B0%D0%B2%D0%BA%D0%B0:%D0%92%D0%B2%D0%B5%D0%B4%D0%B5%D0%BD%D0%B8%D0%B5\"><span>Как править статьи</span></a></li><li id=\"n-portal\" class=\"mw-list-item\"><a href=\"/wiki/%D0%92%D0%B8%D0%BA%D0%B8%D0%BF%D0%B5%D0%B4%D0%B8%D1%8F:%D0%A1%D0%BE%D0%BE%D0%B1%D1%89%D0%B5%D1%81%D1%82%D0%B2%D0%BE\" title=\"О проекте, о том, чем здесь можно заниматься, а также — где что находится\"><span>Сообщество</span></a></li><li id=\"n-forum\" class=\"mw-list-item\"><a href=\"/wiki/%D0%92%D0%B8%D0%BA%D0%B8%D0%BF%D0%B5%D0%B4%D0%B8%D1%8F:%D0%A4%D0%BE%D1%80%D1%83%D0%BC\" title=\"Форум участников Википедии\"><span>Форум</span></a></li><li id=\"n-recentchanges\" class=\"mw-list-item\"><a href=\"/wiki/%D0%A1%D0%BB%D1%83%D0%B6%D0%B5%D0%B1%D0%BD%D0%B0%D1%8F:%D0%A1%D0%B2%D0%B5%D0%B6%D0%B8%D0%B5_%D0%BF%D1%80%D0%B0%D0%B2%D0%BA%D0%B8\" title=\"Список последних изменений [r]\" accesskey=\"r\"><span>Свежие правки</span></a></li><li id=\"n-newpages\" class=\"mw-list-item\"><a href=\"/wiki/%D0%A1%D0%BB%D1%83%D0%B6%D0%B5%D0%B1%D0%BD%D0%B0%D1%8F:%D0%9D%D0%BE%D0%B2%D1%8B%D0%B5_%D1%81%D1%82%D1%80%D0%B0%D0%BD%D0%B8%D1%86%D1%8B\" title=\"Список недавно созданных страниц\"><span>Новые страницы</span></a></li><li id=\"n-help\" class=\"mw-list-item\"><a href=\"/wiki/%D0%92%D0%B8%D0%BA%D0%B8%D0%BF%D0%B5%D0%B4%D0%B8%D1%8F:%D0%A1%D0%BF%D1%80%D0%B0%D0%B2%D0%BA%D0%B0\" title=\"Место расположения Справки\"><span>Справка</span></a></li>\\n\\t\\t</ul>\\n\\t\\t\\n\\t</div>\\n</nav>\\n\\n<nav id=\"p-tb\" class=\"vector-menu mw-portlet mw-portlet-tb vector-menu-portal portal\" aria-labelledby=\"p-tb-label\" role=\"navigation\"  >\\n\\t<h3\\n\\t\\tid=\"p-tb-label\"\\n\\t\\t\\n\\t\\tclass=\"vector-menu-heading \"\\n\\t>\\n\\t\\t<span class=\"vector-menu-heading-label\">Инструменты</span>\\n\\t</h3>\\n\\t<div class=\"vector-menu-content\">\\n\\t\\t\\n\\t\\t<ul class=\"vector-menu-content-list\">\\n\\t\\t\\t\\n\\t\\t\\t<li id=\"t-whatlinkshere\" class=\"mw-list-item\"><a href=\"/wiki/%D0%A1%D0%BB%D1%83%D0%B6%D0%B5%D0%B1%D0%BD%D0%B0%D1%8F:%D0%A1%D1%81%D1%8B%D0%BB%D0%BA%D0%B8_%D1%81%D1%8E%D0%B4%D0%B0/%D0%93%D0%BE%D1%80%D0%BE%D0%B4%D0%B0-%D0%BC%D0%B8%D0%BB%D0%BB%D0%B8%D0%BE%D0%BD%D0%B5%D1%80%D1%8B_%D0%A0%D0%BE%D1%81%D1%81%D0%B8%D0%B8\" title=\"Список всех страниц, ссылающихся на данную [j]\" accesskey=\"j\"><span>Ссылки сюда</span></a></li><li id=\"t-recentchangeslinked\" class=\"mw-list-item\"><a href=\"/wiki/%D0%A1%D0%BB%D1%83%D0%B6%D0%B5%D0%B1%D0%BD%D0%B0%D1%8F:%D0%A1%D0%B2%D1%8F%D0%B7%D0%B0%D0%BD%D0%BD%D1%8B%D0%B5_%D0%BF%D1%80%D0%B0%D0%B2%D0%BA%D0%B8/%D0%93%D0%BE%D1%80%D0%BE%D0%B4%D0%B0-%D0%BC%D0%B8%D0%BB%D0%BB%D0%B8%D0%BE%D0%BD%D0%B5%D1%80%D1%8B_%D0%A0%D0%BE%D1%81%D1%81%D0%B8%D0%B8\" rel=\"nofollow\" title=\"Последние изменения в страницах, на которые ссылается эта страница [k]\" accesskey=\"k\"><span>Связанные правки</span></a></li><li id=\"t-specialpages\" class=\"mw-list-item\"><a href=\"/wiki/%D0%A1%D0%BB%D1%83%D0%B6%D0%B5%D0%B1%D0%BD%D0%B0%D1%8F:%D0%A1%D0%BF%D0%B5%D1%86%D1%81%D1%82%D1%80%D0%B0%D0%BD%D0%B8%D1%86%D1%8B\" title=\"Список служебных страниц [q]\" accesskey=\"q\"><span>Служебные страницы</span></a></li><li id=\"t-permalink\" class=\"mw-list-item\"><a href=\"/w/index.php?title=%D0%93%D0%BE%D1%80%D0%BE%D0%B4%D0%B0-%D0%BC%D0%B8%D0%BB%D0%BB%D0%B8%D0%BE%D0%BD%D0%B5%D1%80%D1%8B_%D0%A0%D0%BE%D1%81%D1%81%D0%B8%D0%B8&amp;oldid=132167311\" title=\"Постоянная ссылка на эту версию страницы\"><span>Постоянная ссылка</span></a></li><li id=\"t-info\" class=\"mw-list-item\"><a href=\"/w/index.php?title=%D0%93%D0%BE%D1%80%D0%BE%D0%B4%D0%B0-%D0%BC%D0%B8%D0%BB%D0%BB%D0%B8%D0%BE%D0%BD%D0%B5%D1%80%D1%8B_%D0%A0%D0%BE%D1%81%D1%81%D0%B8%D0%B8&amp;action=info\" title=\"Подробнее об этой странице\"><span>Сведения о\\xa0странице</span></a></li><li id=\"t-cite\" class=\"mw-list-item\"><a href=\"/w/index.php?title=%D0%A1%D0%BB%D1%83%D0%B6%D0%B5%D0%B1%D0%BD%D0%B0%D1%8F:%D0%A6%D0%B8%D1%82%D0%B0%D1%82%D0%B0&amp;page=%D0%93%D0%BE%D1%80%D0%BE%D0%B4%D0%B0-%D0%BC%D0%B8%D0%BB%D0%BB%D0%B8%D0%BE%D0%BD%D0%B5%D1%80%D1%8B_%D0%A0%D0%BE%D1%81%D1%81%D0%B8%D0%B8&amp;id=132167311&amp;wpFormIdentifier=titleform\" title=\"Информация о том, как цитировать эту страницу\"><span>Цитировать страницу</span></a></li><li id=\"t-wikibase\" class=\"mw-list-item\"><a href=\"https://www.wikidata.org/wiki/Special:EntityPage/Q1987543\" title=\"Ссылка на связанный элемент репозитория данных [g]\" accesskey=\"g\"><span>Элемент Викиданных</span></a></li>\\n\\t\\t</ul>\\n\\t\\t\\n\\t</div>\\n</nav>\\n\\n<nav id=\"p-coll-print_export\" class=\"vector-menu mw-portlet mw-portlet-coll-print_export vector-menu-portal portal\" aria-labelledby=\"p-coll-print_export-label\" role=\"navigation\"  >\\n\\t<h3\\n\\t\\tid=\"p-coll-print_export-label\"\\n\\t\\t\\n\\t\\tclass=\"vector-menu-heading \"\\n\\t>\\n\\t\\t<span class=\"vector-menu-heading-label\">Печать/экспорт</span>\\n\\t</h3>\\n\\t<div class=\"vector-menu-content\">\\n\\t\\t\\n\\t\\t<ul class=\"vector-menu-content-list\">\\n\\t\\t\\t\\n\\t\\t\\t<li id=\"coll-download-as-rl\" class=\"mw-list-item\"><a href=\"/w/index.php?title=%D0%A1%D0%BB%D1%83%D0%B6%D0%B5%D0%B1%D0%BD%D0%B0%D1%8F:DownloadAsPdf&amp;page=%D0%93%D0%BE%D1%80%D0%BE%D0%B4%D0%B0-%D0%BC%D0%B8%D0%BB%D0%BB%D0%B8%D0%BE%D0%BD%D0%B5%D1%80%D1%8B_%D0%A0%D0%BE%D1%81%D1%81%D0%B8%D0%B8&amp;action=show-download-screen\" title=\"Скачать эту страницу как файл PDF\"><span>Скачать как PDF</span></a></li><li id=\"t-print\" class=\"mw-list-item\"><a href=\"/w/index.php?title=%D0%93%D0%BE%D1%80%D0%BE%D0%B4%D0%B0-%D0%BC%D0%B8%D0%BB%D0%BB%D0%B8%D0%BE%D0%BD%D0%B5%D1%80%D1%8B_%D0%A0%D0%BE%D1%81%D1%81%D0%B8%D0%B8&amp;printable=yes\" title=\"Версия этой страницы для печати [p]\" accesskey=\"p\"><span>Версия для печати</span></a></li>\\n\\t\\t</ul>\\n\\t\\t\\n\\t</div>\\n</nav>\\n\\n<nav id=\"p-wikibase-otherprojects\" class=\"vector-menu mw-portlet mw-portlet-wikibase-otherprojects vector-menu-portal portal\" aria-labelledby=\"p-wikibase-otherprojects-label\" role=\"navigation\"  >\\n\\t<h3\\n\\t\\tid=\"p-wikibase-otherprojects-label\"\\n\\t\\t\\n\\t\\tclass=\"vector-menu-heading \"\\n\\t>\\n\\t\\t<span class=\"vector-menu-heading-label\">В других проектах</span>\\n\\t</h3>\\n\\t<div class=\"vector-menu-content\">\\n\\t\\t\\n\\t\\t<ul class=\"vector-menu-content-list\">\\n\\t\\t\\t\\n\\t\\t\\t<li class=\"wb-otherproject-link wb-otherproject-commons mw-list-item\"><a href=\"https://commons.wikimedia.org/wiki/Category:Million_cities_in_Russia\" hreflang=\"en\"><span>Викисклад</span></a></li><li class=\"wb-otherproject-link wb-otherproject-wikinews mw-list-item\"><a href=\"https://ru.wikinews.org/wiki/%D0%9A%D0%B0%D1%82%D0%B5%D0%B3%D0%BE%D1%80%D0%B8%D1%8F:%D0%93%D0%BE%D1%80%D0%BE%D0%B4%D0%B0-%D0%BC%D0%B8%D0%BB%D0%BB%D0%B8%D0%BE%D0%BD%D0%B5%D1%80%D1%8B_%D0%A0%D0%BE%D1%81%D1%81%D0%B8%D0%B8\" hreflang=\"ru\"><span>Викиновости</span></a></li>\\n\\t\\t</ul>\\n\\t\\t\\n\\t</div>\\n</nav>\\n\\n\\t\\n<nav id=\"p-lang\" class=\"vector-menu mw-portlet mw-portlet-lang vector-menu-portal portal\" aria-labelledby=\"p-lang-label\" role=\"navigation\"  >\\n\\t<h3\\n\\t\\tid=\"p-lang-label\"\\n\\t\\t\\n\\t\\tclass=\"vector-menu-heading \"\\n\\t>\\n\\t\\t<span class=\"vector-menu-heading-label\">На других языках</span>\\n\\t</h3>\\n\\t<div class=\"vector-menu-content\">\\n\\t\\t\\n\\t\\t<ul class=\"vector-menu-content-list\">\\n\\t\\t\\t\\n\\t\\t\\t<li class=\"interlanguage-link interwiki-be mw-list-item\"><a href=\"https://be.wikipedia.org/wiki/%D0%93%D0%B0%D1%80%D0%B0%D0%B4%D1%8B-%D0%BC%D1%96%D0%BB%D1%96%D1%8F%D0%BD%D0%B5%D1%80%D1%8B_%D0%A0%D0%B0%D1%81%D1%96%D1%96\" title=\"Гарады-міліянеры Расіі — белорусский\" lang=\"be\" hreflang=\"be\" class=\"interlanguage-link-target\"><span>Беларуская</span></a></li><li class=\"interlanguage-link interwiki-cv mw-list-item\"><a href=\"https://cv.wikipedia.org/wiki/%D0%A0%D0%B0%C3%A7%C3%A7%D0%B5%D0%B9%D1%80%D0%B8_%D0%BC%D0%B8%D0%BB%D0%BB%D0%B8%D0%BE%D0%BD%D0%BB%C4%83_%D1%85%D1%83%D0%BB%D0%B0%D1%81%D0%B5%D0%BC\" title=\"Раççейри миллионлă хуласем — чувашский\" lang=\"cv\" hreflang=\"cv\" class=\"interlanguage-link-target\"><span>Чӑвашла</span></a></li><li class=\"interlanguage-link interwiki-rue mw-list-item\"><a href=\"https://rue.wikipedia.org/wiki/%D0%93%D0%BE%D1%80%D0%BE%D0%B4%D1%8B-%D0%BC%D0%B8%D0%BB%D0%BB%D0%B8%D0%BE%D0%BD%D0%BD%D0%B8%D0%BA%D1%8B_%D0%A0%D0%BE%D1%81%D1%81%D0%B8%D0%B8\" title=\"Городы-миллионникы России — Rusyn\" lang=\"rue\" hreflang=\"rue\" class=\"interlanguage-link-target\"><span>Русиньскый</span></a></li><li class=\"interlanguage-link interwiki-tt mw-list-item\"><a href=\"https://tt.wikipedia.org/wiki/%D0%A0%D0%BE%D1%81%D1%81%D0%B8%D1%8F%D0%BD%D0%B5%D2%A3_%D0%BC%D0%B8%D0%BB%D0%BB%D0%B8%D0%BE%D0%BD%D0%BB%D1%8B_%D1%88%D3%99%D2%BB%D3%99%D1%80%D0%BB%D3%99%D1%80%D0%B5\" title=\"Россиянең миллионлы шәһәрләре — татарский\" lang=\"tt\" hreflang=\"tt\" class=\"interlanguage-link-target\"><span>Татарча / tatarça</span></a></li><li class=\"interlanguage-link interwiki-uk mw-list-item\"><a href=\"https://uk.wikipedia.org/wiki/%D0%9C%D1%96%D1%81%D1%82%D0%B0-%D0%BC%D1%96%D0%BB%D1%8C%D0%B9%D0%BE%D0%BD%D0%BD%D0%B8%D0%BA%D0%B8_%D0%A0%D0%BE%D1%81%D1%96%D1%97\" title=\"Міста-мільйонники Росії — украинский\" lang=\"uk\" hreflang=\"uk\" class=\"interlanguage-link-target\"><span>Українська</span></a></li><li class=\"interlanguage-link interwiki-vep mw-list-item\"><a href=\"https://vep.wikipedia.org/wiki/Ven%C3%A4man_millionerlidnad\" title=\"Venäman millionerlidnad — Veps\" lang=\"vep\" hreflang=\"vep\" class=\"interlanguage-link-target\"><span>Vepsän kel’</span></a></li>\\n\\t\\t</ul>\\n\\t\\t<div class=\"after-portlet after-portlet-lang\"><span class=\"wb-langlinks-edit wb-langlinks-link\"><a href=\"https://www.wikidata.org/wiki/Special:EntityPage/Q1987543#sitelinks-wikipedia\" title=\"Править ссылки на\\xa0другие языки\" class=\"wbc-editpage\">Править ссылки</a></span></div>\\n\\t</div>\\n</nav>\\n\\n</div>\\n\\n</div>\\n\\n<footer id=\"footer\" class=\"mw-footer\" role=\"contentinfo\" >\\n\\t<ul id=\"footer-info\">\\n\\t<li id=\"footer-info-lastmod\"> Эта страница в последний раз была отредактирована 6 августа 2023 в 06:12.</li>\\n\\t<li id=\"footer-info-copyright\">Текст доступен по <a rel=\"license\" href=\"https://creativecommons.org/licenses/by-sa/4.0/deed.ru\">лицензии Creative Commons «С указанием авторства — С сохранением условий» (CC BY-SA)</a><a rel=\"license\" href=\"//creativecommons.org/licenses/by-sa/4.0/\" style=\"display:none;\"></a>; в отдельных случаях могут действовать дополнительные условия.\\n<span class=\"noprint\">Подробнее см. <a href=\"//foundation.wikimedia.org/wiki/Terms_of_Use/ru\">Условия использования</a>.</span><br>\\nWikipedia®\\xa0— зарегистрированный товарный знак некоммерческой организации <a href=\"//wikimediafoundation.org/ru/\">Фонд Викимедиа (Wikimedia Foundation, Inc.)</a></li>\\n</ul>\\n\\n\\t<ul id=\"footer-places\">\\n\\t<li id=\"footer-places-privacy\"><a href=\"https://foundation.wikimedia.org/wiki/Special:MyLanguage/Policy:Privacy_policy/ru\">Политика конфиденциальности</a></li>\\n\\t<li id=\"footer-places-about\"><a href=\"/wiki/%D0%92%D0%B8%D0%BA%D0%B8%D0%BF%D0%B5%D0%B4%D0%B8%D1%8F:%D0%9E%D0%BF%D0%B8%D1%81%D0%B0%D0%BD%D0%B8%D0%B5\">Описание Википедии</a></li>\\n\\t<li id=\"footer-places-disclaimers\"><a href=\"/wiki/%D0%92%D0%B8%D0%BA%D0%B8%D0%BF%D0%B5%D0%B4%D0%B8%D1%8F:%D0%9E%D1%82%D0%BA%D0%B0%D0%B7_%D0%BE%D1%82_%D0%BE%D1%82%D0%B2%D0%B5%D1%82%D1%81%D1%82%D0%B2%D0%B5%D0%BD%D0%BD%D0%BE%D1%81%D1%82%D0%B8\">Отказ от ответственности</a></li>\\n\\t<li id=\"footer-places-contact\"><a href=\"//ru.wikipedia.org/wiki/Википедия:Контакты\">Свяжитесь с нами</a></li>\\n\\t<li id=\"footer-places-wm-codeofconduct\"><a href=\"https://foundation.wikimedia.org/wiki/Special:MyLanguage/Universal_Code_of_Conduct\">Кодекс поведения</a></li>\\n\\t<li id=\"footer-places-mobileview\"><a href=\"//ru.m.wikipedia.org/w/index.php?title=%D0%93%D0%BE%D1%80%D0%BE%D0%B4%D0%B0-%D0%BC%D0%B8%D0%BB%D0%BB%D0%B8%D0%BE%D0%BD%D0%B5%D1%80%D1%8B_%D0%A0%D0%BE%D1%81%D1%81%D0%B8%D0%B8&amp;mobileaction=toggle_view_mobile\" class=\"noprint stopMobileRedirectToggle\">Мобильная версия</a></li>\\n\\t<li id=\"footer-places-developers\"><a href=\"https://developer.wikimedia.org\">Разработчики</a></li>\\n\\t<li id=\"footer-places-statslink\"><a href=\"https://stats.wikimedia.org/#/ru.wikipedia.org\">Статистика</a></li>\\n\\t<li id=\"footer-places-cookiestatement\"><a href=\"https://foundation.wikimedia.org/wiki/Special:MyLanguage/Policy:Cookie_statement\">Заявление о куки</a></li>\\n</ul>\\n\\n\\t<ul id=\"footer-icons\" class=\"noprint\">\\n\\t<li id=\"footer-copyrightico\"><a href=\"https://wikimediafoundation.org/\"><img src=\"/static/images/footer/wikimedia-button.png\" srcset=\"/static/images/footer/wikimedia-button-1.5x.png 1.5x, /static/images/footer/wikimedia-button-2x.png 2x\" width=\"88\" height=\"31\" alt=\"Wikimedia Foundation\" loading=\"lazy\" /></a></li>\\n\\t<li id=\"footer-poweredbyico\"><a href=\"https://www.mediawiki.org/\"><img src=\"/static/images/footer/poweredby_mediawiki_88x31.png\" alt=\"Powered by MediaWiki\" srcset=\"/static/images/footer/poweredby_mediawiki_132x47.png 1.5x, /static/images/footer/poweredby_mediawiki_176x62.png 2x\" width=\"88\" height=\"31\" loading=\"lazy\"></a></li>\\n</ul>\\n\\n</footer>\\n\\n<script>(RLQ=window.RLQ||[]).push(function(){mw.config.set({\"wgHostname\":\"mw1451\",\"wgBackendResponseTime\":101,\"wgPageParseReport\":{\"limitreport\":{\"cputime\":\"0.722\",\"walltime\":\"0.856\",\"ppvisitednodes\":{\"value\":12333,\"limit\":1000000},\"postexpandincludesize\":{\"value\":284125,\"limit\":2097152},\"templateargumentsize\":{\"value\":21909,\"limit\":2097152},\"expansiondepth\":{\"value\":17,\"limit\":100},\"expensivefunctioncount\":{\"value\":7,\"limit\":500},\"unstrip-depth\":{\"value\":1,\"limit\":20},\"unstrip-size\":{\"value\":92429,\"limit\":5000000},\"entityaccesscount\":{\"value\":1,\"limit\":400},\"timingprofile\":[\"100.00%  696.249      1 -total\",\" 36.20%  252.049      2 Шаблон:Примечания\",\" 23.06%  160.530      2 Шаблон:Население\",\" 16.55%  115.261     41 Шаблон:Cite_web\",\"  7.97%   55.510      1 Шаблон:Обновить\",\"  7.26%   50.571      2 Шаблон:Нет_ссылок_в_разделе\",\"  6.68%   46.516      2 Шаблон:Нет_источников\",\"  6.59%   45.889      1 Шаблон:ПозКарта+\",\"  6.12%   42.608      4 Шаблон:Сортировка:_статьи_без_источников\",\"  5.49%   38.216      1 Шаблон:Mbox\"]},\"scribunto\":{\"limitreport-timeusage\":{\"value\":\"0.318\",\"limit\":\"10.000\"},\"limitreport-memusage\":{\"value\":10499576,\"limit\":52428800}},\"cachereport\":{\"origin\":\"mw1410\",\"timestamp\":\"20230827193348\",\"ttl\":1814400,\"transientcontent\":false}}});});</script>\\n<script type=\"application/ld+json\">{\"@context\":\"https:\\\\/\\\\/schema.org\",\"@type\":\"Article\",\"name\":\"\\\\u0413\\\\u043e\\\\u0440\\\\u043e\\\\u0434\\\\u0430-\\\\u043c\\\\u0438\\\\u043b\\\\u043b\\\\u0438\\\\u043e\\\\u043d\\\\u0435\\\\u0440\\\\u044b \\\\u0420\\\\u043e\\\\u0441\\\\u0441\\\\u0438\\\\u0438\",\"url\":\"https:\\\\/\\\\/ru.wikipedia.org\\\\/wiki\\\\/%D0%93%D0%BE%D1%80%D0%BE%D0%B4%D0%B0-%D0%BC%D0%B8%D0%BB%D0%BB%D0%B8%D0%BE%D0%BD%D0%B5%D1%80%D1%8B_%D0%A0%D0%BE%D1%81%D1%81%D0%B8%D0%B8\",\"sameAs\":\"http:\\\\/\\\\/www.wikidata.org\\\\/entity\\\\/Q1987543\",\"mainEntity\":\"http:\\\\/\\\\/www.wikidata.org\\\\/entity\\\\/Q1987543\",\"author\":{\"@type\":\"Organization\",\"name\":\"Contributors to Wikimedia projects\"},\"publisher\":{\"@type\":\"Organization\",\"name\":\"\\\\u0424\\\\u043e\\\\u043d\\\\u0434 \\\\u0412\\\\u0438\\\\u043a\\\\u0438\\\\u043c\\\\u0435\\\\u0434\\\\u0438\\\\u0430\",\"logo\":{\"@type\":\"ImageObject\",\"url\":\"https:\\\\/\\\\/www.wikimedia.org\\\\/static\\\\/images\\\\/wmf-hor-googpub.png\"}},\"datePublished\":\"2007-08-08T18:27:16Z\",\"dateModified\":\"2023-08-06T06:12:27Z\",\"headline\":\"\\\\u043a\\\\u0430\\\\u0442\\\\u0435\\\\u0433\\\\u043e\\\\u0440\\\\u0438\\\\u044f \\\\u0433\\\\u043e\\\\u0440\\\\u043e\\\\u0434\\\\u043e\\\\u0432 \\\\u0420\\\\u043e\\\\u0441\\\\u0441\\\\u0438\\\\u0438, \\\\u0432 \\\\u043a\\\\u0430\\\\u0436\\\\u0434\\\\u043e\\\\u043c \\\\u0438\\\\u0437 \\\\u043a\\\\u043e\\\\u0442\\\\u043e\\\\u0440\\\\u044b\\\\u0445 \\\\u0447\\\\u0438\\\\u0441\\\\u043b\\\\u0435\\\\u043d\\\\u043d\\\\u043e\\\\u0441\\\\u0442\\\\u044c \\\\u043d\\\\u0430\\\\u0441\\\\u0435\\\\u043b\\\\u0435\\\\u043d\\\\u0438\\\\u044f \\\\u0432 \\\\u043f\\\\u0440\\\\u0435\\\\u0434\\\\u0435\\\\u043b\\\\u0430\\\\u0445 \\\\u0433\\\\u043e\\\\u0440\\\\u043e\\\\u0434\\\\u0441\\\\u043a\\\\u043e\\\\u0439 \\\\u0447\\\\u0435\\\\u0440\\\\u0442\\\\u044b \\\\u043f\\\\u0440\\\\u0435\\\\u0432\\\\u044b\\\\u0448\\\\u0430\\\\u0435\\\\u0442 \\\\u043e\\\\u0434\\\\u0438\\\\u043d \\\\u043c\\\\u0438\\\\u043b\\\\u043b\\\\u0438\\\\u043e\\\\u043d \\\\u0447\\\\u0435\\\\u043b\\\\u043e\\\\u0432\\\\u0435\\\\u043a\"}</script><script type=\"application/ld+json\">{\"@context\":\"https:\\\\/\\\\/schema.org\",\"@type\":\"Article\",\"name\":\"\\\\u0413\\\\u043e\\\\u0440\\\\u043e\\\\u0434\\\\u0430-\\\\u043c\\\\u0438\\\\u043b\\\\u043b\\\\u0438\\\\u043e\\\\u043d\\\\u0435\\\\u0440\\\\u044b \\\\u0420\\\\u043e\\\\u0441\\\\u0441\\\\u0438\\\\u0438\",\"url\":\"https:\\\\/\\\\/ru.wikipedia.org\\\\/wiki\\\\/%D0%93%D0%BE%D1%80%D0%BE%D0%B4%D0%B0-%D0%BC%D0%B8%D0%BB%D0%BB%D0%B8%D0%BE%D0%BD%D0%B5%D1%80%D1%8B_%D0%A0%D0%BE%D1%81%D1%81%D0%B8%D0%B8\",\"sameAs\":\"http:\\\\/\\\\/www.wikidata.org\\\\/entity\\\\/Q1987543\",\"mainEntity\":\"http:\\\\/\\\\/www.wikidata.org\\\\/entity\\\\/Q1987543\",\"author\":{\"@type\":\"Organization\",\"name\":\"Contributors to Wikimedia projects\"},\"publisher\":{\"@type\":\"Organization\",\"name\":\"\\\\u0424\\\\u043e\\\\u043d\\\\u0434 \\\\u0412\\\\u0438\\\\u043a\\\\u0438\\\\u043c\\\\u0435\\\\u0434\\\\u0438\\\\u0430\",\"logo\":{\"@type\":\"ImageObject\",\"url\":\"https:\\\\/\\\\/www.wikimedia.org\\\\/static\\\\/images\\\\/wmf-hor-googpub.png\"}},\"datePublished\":\"2007-08-08T18:27:16Z\",\"dateModified\":\"2023-08-06T06:12:27Z\",\"headline\":\"\\\\u043a\\\\u0430\\\\u0442\\\\u0435\\\\u0433\\\\u043e\\\\u0440\\\\u0438\\\\u044f \\\\u0433\\\\u043e\\\\u0440\\\\u043e\\\\u0434\\\\u043e\\\\u0432 \\\\u0420\\\\u043e\\\\u0441\\\\u0441\\\\u0438\\\\u0438, \\\\u0432 \\\\u043a\\\\u0430\\\\u0436\\\\u0434\\\\u043e\\\\u043c \\\\u0438\\\\u0437 \\\\u043a\\\\u043e\\\\u0442\\\\u043e\\\\u0440\\\\u044b\\\\u0445 \\\\u0447\\\\u0438\\\\u0441\\\\u043b\\\\u0435\\\\u043d\\\\u043d\\\\u043e\\\\u0441\\\\u0442\\\\u044c \\\\u043d\\\\u0430\\\\u0441\\\\u0435\\\\u043b\\\\u0435\\\\u043d\\\\u0438\\\\u044f \\\\u0432 \\\\u043f\\\\u0440\\\\u0435\\\\u0434\\\\u0435\\\\u043b\\\\u0430\\\\u0445 \\\\u0433\\\\u043e\\\\u0440\\\\u043e\\\\u0434\\\\u0441\\\\u043a\\\\u043e\\\\u0439 \\\\u0447\\\\u0435\\\\u0440\\\\u0442\\\\u044b \\\\u043f\\\\u0440\\\\u0435\\\\u0432\\\\u044b\\\\u0448\\\\u0430\\\\u0435\\\\u0442 \\\\u043e\\\\u0434\\\\u0438\\\\u043d \\\\u043c\\\\u0438\\\\u043b\\\\u043b\\\\u0438\\\\u043e\\\\u043d \\\\u0447\\\\u0435\\\\u043b\\\\u043e\\\\u0432\\\\u0435\\\\u043a\"}</script>\\n</body>\\n</html>'"
            ]
          },
          "metadata": {},
          "output_type": "display_data"
        },
        {
          "data": {
            "text/plain": [
              "[<tr><td class=\"mbox-image\"><div style=\"width:52px\"><span typeof=\"mw:File\"><span><img alt=\"\" class=\"mw-file-element\" data-file-height=\"620\" data-file-width=\"620\" decoding=\"async\" height=\"40\" src=\"//upload.wikimedia.org/wikipedia/commons/thumb/8/8f/Ambox_outdated_serious.svg/40px-Ambox_outdated_serious.svg.png\" srcset=\"//upload.wikimedia.org/wikipedia/commons/thumb/8/8f/Ambox_outdated_serious.svg/60px-Ambox_outdated_serious.svg.png 1.5x, //upload.wikimedia.org/wikipedia/commons/thumb/8/8f/Ambox_outdated_serious.svg/80px-Ambox_outdated_serious.svg.png 2x\" width=\"40\"/></span></span></div></td><td class=\"mbox-text\"><div class=\"mbox-text-div\">Информация в этой статье или некоторых её разделах <b>устарела</b>.</div><div class=\"mbox-textsmall-div hide-when-compact\" style=\"font-size:85%\"><span class=\"hide-when-compact\"> Вы можете помочь проекту, <a class=\"external text\" href=\"https://ru.wikipedia.org/w/index.php?title=%D0%93%D0%BE%D1%80%D0%BE%D0%B4%D0%B0-%D0%BC%D0%B8%D0%BB%D0%BB%D0%B8%D0%BE%D0%BD%D0%B5%D1%80%D1%8B_%D0%A0%D0%BE%D1%81%D1%81%D0%B8%D0%B8&amp;action=edit\">обновив её</a> и убрав после этого данный шаблон.</span></div></td></tr>,\n",
              " <tr><th scope=\"col\">№</th><th scope=\"col\">Город</th><th data-sort-type=\"number\" scope=\"col\">Население, <br/> тыс. чел.<br/><small>  (на 1 января 2023 года)</small></th><th data-sort-type=\"number\" scope=\"col\">Население, <br/> тыс. чел.<br/><small> (итоги <a href=\"/wiki/%D0%92%D1%81%D0%B5%D1%80%D0%BE%D1%81%D1%81%D0%B8%D0%B9%D1%81%D0%BA%D0%B0%D1%8F_%D0%BF%D0%B5%D1%80%D0%B5%D0%BF%D0%B8%D1%81%D1%8C_%D0%BD%D0%B0%D1%81%D0%B5%D0%BB%D0%B5%D0%BD%D0%B8%D1%8F_(2020%E2%80%942021)\" title=\"Всероссийская перепись населения (2020—2021)\">переписи<br/> 2021 года</a>)<sup class=\"reference\" id=\"cite_ref-ofperep21_5-0\"><a href=\"#cite_note-ofperep21-5\">[5]</a></sup></small></th><th data-sort-type=\"number\" scope=\"col\">Прирост<br/> относительно<br/>  переписи-2010</th><th data-sort-type=\"number\" scope=\"col\">Население, <br/> тыс. чел.<br/><small>(итоги <a href=\"/wiki/%D0%92%D1%81%D0%B5%D1%80%D0%BE%D1%81%D1%81%D0%B8%D0%B9%D1%81%D0%BA%D0%B0%D1%8F_%D0%BF%D0%B5%D1%80%D0%B5%D0%BF%D0%B8%D1%81%D1%8C_%D0%BD%D0%B0%D1%81%D0%B5%D0%BB%D0%B5%D0%BD%D0%B8%D1%8F_(2010)\" title=\"Всероссийская перепись населения (2010)\">переписи<br/> 2010 года</a>)<sup class=\"reference\" id=\"cite_ref-GKS_100_6-0\"><a href=\"#cite_note-GKS_100-6\">[6]</a></sup></small></th></tr>,\n",
              " <tr><td style=\"text-align:center\">1</td><td><a href=\"/wiki/%D0%9C%D0%BE%D1%81%D0%BA%D0%B2%D0%B0\" title=\"Москва\">Москва</a></td><td data-sort-value=\"13098\" style=\"text-align:right\">13 098</td><td data-sort-value=\"13010\" style=\"text-align:right\">13 010</td><td data-sort-value=\"13.1\" style=\"text-align:right\">13,1 %</td><td data-sort-value=\"11504\" style=\"text-align:right\">11 504</td></tr>,\n",
              " <tr><td style=\"text-align:center\">2</td><td><a href=\"/wiki/%D0%A1%D0%B0%D0%BD%D0%BA%D1%82-%D0%9F%D0%B5%D1%82%D0%B5%D1%80%D0%B1%D1%83%D1%80%D0%B3\" title=\"Санкт-Петербург\">Санкт-Петербург</a></td><td data-sort-value=\"5598\" style=\"text-align:right\">5 598</td><td data-sort-value=\"5602\" style=\"text-align:right\">5 602</td><td data-sort-value=\"14.8\" style=\"text-align:right\">14,8 %</td><td data-sort-value=\"4880\" style=\"text-align:right\">4 880</td></tr>,\n",
              " <tr><td style=\"text-align:center\">3</td><td><a href=\"/wiki/%D0%9D%D0%BE%D0%B2%D0%BE%D1%81%D0%B8%D0%B1%D0%B8%D1%80%D1%81%D0%BA\" title=\"Новосибирск\">Новосибирск</a></td><td data-sort-value=\"1635\" style=\"text-align:right\">1 635</td><td data-sort-value=\"1634\" style=\"text-align:right\">1 634</td><td data-sort-value=\"10.9\" style=\"text-align:right\">10,9 %</td><td data-sort-value=\"1474\" style=\"text-align:right\">1 474</td></tr>,\n",
              " <tr><td style=\"text-align:center\">4</td><td><a href=\"/wiki/%D0%95%D0%BA%D0%B0%D1%82%D0%B5%D1%80%D0%B8%D0%BD%D0%B1%D1%83%D1%80%D0%B3\" title=\"Екатеринбург\">Екатеринбург</a></td><td data-sort-value=\"1539\" style=\"text-align:right\">1 539</td><td data-sort-value=\"1544\" style=\"text-align:right\">1 544</td><td data-sort-value=\"14.4\" style=\"text-align:right\">14,4 %</td><td data-sort-value=\"1350\" style=\"text-align:right\">1 350</td></tr>,\n",
              " <tr><td style=\"text-align:center\">5</td><td><a href=\"/wiki/%D0%9A%D0%B0%D0%B7%D0%B0%D0%BD%D1%8C\" title=\"Казань\">Казань</a></td><td data-sort-value=\"1315\" style=\"text-align:right\">1 315</td><td data-sort-value=\"1309\" style=\"text-align:right\">1 309</td><td data-sort-value=\"14.4\" style=\"text-align:right\">14,4 %</td><td data-sort-value=\"1144\" style=\"text-align:right\">1 144</td></tr>,\n",
              " <tr><td style=\"text-align:center\">6</td><td><a href=\"/wiki/%D0%9D%D0%B8%D0%B6%D0%BD%D0%B8%D0%B9_%D0%9D%D0%BE%D0%B2%D0%B3%D0%BE%D1%80%D0%BE%D0%B4\" title=\"Нижний Новгород\">Нижний Новгород</a></td><td data-sort-value=\"1213\" style=\"text-align:right\">1 213</td><td data-sort-value=\"1226\" style=\"text-align:right\">1 226</td><td data-sort-value=\"0.2\" style=\"text-align:right\"><span class=\"noprint\" style=\"display: none;\">0,2</span>−2,0 %</td><td data-sort-value=\"1251\" style=\"text-align:right\">1 251</td></tr>,\n",
              " <tr><td style=\"text-align:center\">7</td><td><a href=\"/wiki/%D0%9A%D1%80%D0%B0%D1%81%D0%BD%D0%BE%D1%8F%D1%80%D1%81%D0%BA\" title=\"Красноярск\">Красноярск</a></td><td data-sort-value=\"1197\" style=\"text-align:right\">1 197</td><td data-sort-value=\"1188\" style=\"text-align:right\">1 188</td><td data-sort-value=\"21.6\" style=\"text-align:right\">21,6 %</td><td data-sort-value=\"977\" style=\"text-align:right\">977</td></tr>,\n",
              " <tr><td style=\"text-align:center\">8</td><td><a href=\"/wiki/%D0%A7%D0%B5%D0%BB%D1%8F%D0%B1%D0%B8%D0%BD%D1%81%D0%BA\" title=\"Челябинск\">Челябинск</a></td><td data-sort-value=\"1183\" style=\"text-align:right\">1 183</td><td data-sort-value=\"1190\" style=\"text-align:right\">1 190</td><td data-sort-value=\"5.3\" style=\"text-align:right\">5,3 %</td><td data-sort-value=\"1130\" style=\"text-align:right\">1 130</td></tr>,\n",
              " <tr><td style=\"text-align:center\">9</td><td><a href=\"/wiki/%D0%A1%D0%B0%D0%BC%D0%B0%D1%80%D0%B0\" title=\"Самара\">Самара</a></td><td data-sort-value=\"1164\" style=\"text-align:right\">1 164</td><td data-sort-value=\"1173\" style=\"text-align:right\">1 173</td><td data-sort-value=\"0.3\" style=\"text-align:right\">0,3 %</td><td data-sort-value=\"1169\" style=\"text-align:right\">1 169</td></tr>,\n",
              " <tr><td style=\"text-align:center\">10</td><td><a href=\"/wiki/%D0%A3%D1%84%D0%B0\" title=\"Уфа\">Уфа</a></td><td data-sort-value=\"1158\" style=\"text-align:right\">1 158</td><td data-sort-value=\"1145\" style=\"text-align:right\">1 145</td><td data-sort-value=\"7.8\" style=\"text-align:right\">7,8 %</td><td data-sort-value=\"1062\" style=\"text-align:right\">1 062</td></tr>,\n",
              " <tr><td style=\"text-align:center\">11</td><td><a href=\"/wiki/%D0%A0%D0%BE%D1%81%D1%82%D0%BE%D0%B2-%D0%BD%D0%B0-%D0%94%D0%BE%D0%BD%D1%83\" title=\"Ростов-на-Дону\">Ростов-на-Дону</a></td><td data-sort-value=\"1136\" style=\"text-align:right\">1 136</td><td data-sort-value=\"1142\" style=\"text-align:right\">1 142</td><td data-sort-value=\"4.9\" style=\"text-align:right\">4,9 %</td><td data-sort-value=\"1089\" style=\"text-align:right\">1 089</td></tr>,\n",
              " <tr><td style=\"text-align:center\">12</td><td><a href=\"/wiki/%D0%9A%D1%80%D0%B0%D1%81%D0%BD%D0%BE%D0%B4%D0%B0%D1%80\" title=\"Краснодар\">Краснодар</a></td><td data-sort-value=\"1121\" style=\"text-align:right\">1 121</td><td data-sort-value=\"1099\" style=\"text-align:right\">1 099</td><td data-sort-value=\"43.8\" style=\"text-align:right\">43,8 %</td><td data-sort-value=\"764\" style=\"text-align:right\">764</td></tr>,\n",
              " <tr><td style=\"text-align:center\">13</td><td><a href=\"/wiki/%D0%9E%D0%BC%D1%81%D0%BA\" title=\"Омск\">Омск</a></td><td data-sort-value=\"1111\" style=\"text-align:right\">1 111</td><td data-sort-value=\"1126\" style=\"text-align:right\">1 126</td><td data-sort-value=\"0.1\" style=\"text-align:right\"><span class=\"noprint\" style=\"display: none;\">0,1</span>−3,4 %</td><td data-sort-value=\"1166\" style=\"text-align:right\">1 166</td></tr>,\n",
              " <tr><td style=\"text-align:center\">14</td><td><a href=\"/wiki/%D0%92%D0%BE%D1%80%D0%BE%D0%BD%D0%B5%D0%B6\" title=\"Воронеж\">Воронеж</a></td><td data-sort-value=\"1052\" style=\"text-align:right\">1 052</td><td data-sort-value=\"1058\" style=\"text-align:right\">1 058</td><td data-sort-value=\"18.9\" style=\"text-align:right\">18,9 %</td><td data-sort-value=\"890\" style=\"text-align:right\">890</td></tr>,\n",
              " <tr><td style=\"text-align:center\">15</td><td><a href=\"/wiki/%D0%9F%D0%B5%D1%80%D0%BC%D1%8C\" title=\"Пермь\">Пермь</a></td><td data-sort-value=\"1027\" style=\"text-align:right\">1 027</td><td data-sort-value=\"1034\" style=\"text-align:right\">1 034</td><td data-sort-value=\"4.3\" style=\"text-align:right\">4,3 %</td><td data-sort-value=\"991\" style=\"text-align:right\">991</td></tr>,\n",
              " <tr><td style=\"text-align:center\">16</td><td><a href=\"/wiki/%D0%92%D0%BE%D0%BB%D0%B3%D0%BE%D0%B3%D1%80%D0%B0%D0%B4\" title=\"Волгоград\">Волгоград</a></td><td data-sort-value=\"1026\" style=\"text-align:right\">1 026</td><td data-sort-value=\"1028\" style=\"text-align:right\">1 028</td><td data-sort-value=\"0.7\" style=\"text-align:right\">0,7 %</td><td data-sort-value=\"1021\" style=\"text-align:right\">1 021</td></tr>,\n",
              " <tr>\n",
              " <th>Место\n",
              " </th>\n",
              " <th>Город\n",
              " </th>\n",
              " <th>Население, тыс. чел.<br/><small>(перепись-2021)<sup class=\"reference\" id=\"cite_ref-ofperep21_5-1\"><a href=\"#cite_note-ofperep21-5\">[5]</a></sup></small>\n",
              " </th>\n",
              " <th>Прирост относительно переписи-2010\n",
              " </th>\n",
              " <th>Население, тыс. чел.<br/><small>(перепись-2010)<sup class=\"reference\" id=\"cite_ref-GKS_100_6-1\"><a href=\"#cite_note-GKS_100-6\">[6]</a></sup></small>\n",
              " </th></tr>,\n",
              " <tr>\n",
              " <td>17\n",
              " </td>\n",
              " <td><a href=\"/wiki/%D0%A1%D0%B0%D1%80%D0%B0%D1%82%D0%BE%D0%B2\" title=\"Саратов\">Саратов</a>\n",
              " </td>\n",
              " <td>901\n",
              " </td>\n",
              " <td>7,5 %\n",
              " </td>\n",
              " <td>838\n",
              " </td></tr>,\n",
              " <tr>\n",
              " <td>18\n",
              " </td>\n",
              " <td><a href=\"/wiki/%D0%A2%D1%8E%D0%BC%D0%B5%D0%BD%D1%8C\" title=\"Тюмень\">Тюмень</a>\n",
              " </td>\n",
              " <td>847\n",
              " </td>\n",
              " <td>45,5 %\n",
              " </td>\n",
              " <td>582\n",
              " </td></tr>,\n",
              " <tr>\n",
              " <th>Место\n",
              " </th>\n",
              " <th>Город\n",
              " </th>\n",
              " <th>Год достижения<br/>численности<br/>1 млн жителей\n",
              " </th>\n",
              " <th>Население,<br/>тыс. чел.<br/><small>(перепись-2021)<sup class=\"reference\" id=\"cite_ref-ofperep21_5-2\"><a href=\"#cite_note-ofperep21-5\">[5]</a></sup></small>\n",
              " </th>\n",
              " <th><a href=\"/wiki/%D0%AD%D0%BA%D0%BE%D0%BD%D0%BE%D0%BC%D0%B8%D1%87%D0%B5%D1%81%D0%BA%D0%B8%D0%B9_%D1%80%D0%B0%D0%B9%D0%BE%D0%BD\" title=\"Экономический район\">Экономический<br/>район</a>\n",
              " </th>\n",
              " <th><a href=\"/wiki/%D0%A4%D0%B5%D0%B4%D0%B5%D1%80%D0%B0%D0%BB%D1%8C%D0%BD%D1%8B%D0%B5_%D0%BE%D0%BA%D1%80%D1%83%D0%B3%D0%B0_%D0%A0%D0%BE%D1%81%D1%81%D0%B8%D0%B9%D1%81%D0%BA%D0%BE%D0%B9_%D0%A4%D0%B5%D0%B4%D0%B5%D1%80%D0%B0%D1%86%D0%B8%D0%B8\" title=\"Федеральные округа Российской Федерации\">Федеральный<br/>округ</a>\n",
              " </th></tr>,\n",
              " <tr>\n",
              " <th>\n",
              " </th>\n",
              " <th><small>Города-мультимиллионеры<br/>(свыше 2 млн жителей)</small>\n",
              " </th>\n",
              " <th>\n",
              " </th>\n",
              " <th>\n",
              " </th>\n",
              " <th>\n",
              " </th>\n",
              " <th>\n",
              " </th></tr>,\n",
              " <tr>\n",
              " <td>1\n",
              " </td>\n",
              " <td><a href=\"/wiki/%D0%9C%D0%BE%D1%81%D0%BA%D0%B2%D0%B0\" title=\"Москва\">Москва</a>\n",
              " </td>\n",
              " <td>1897\n",
              " </td>\n",
              " <td>13 010\n",
              " </td>\n",
              " <td><a href=\"/wiki/%D0%A6%D0%B5%D0%BD%D1%82%D1%80%D0%B0%D0%BB%D1%8C%D0%BD%D1%8B%D0%B9_%D1%8D%D0%BA%D0%BE%D0%BD%D0%BE%D0%BC%D0%B8%D1%87%D0%B5%D1%81%D0%BA%D0%B8%D0%B9_%D1%80%D0%B0%D0%B9%D0%BE%D0%BD\" title=\"Центральный экономический район\">Центральный</a>\n",
              " </td>\n",
              " <td><a href=\"/wiki/%D0%A6%D0%B5%D0%BD%D1%82%D1%80%D0%B0%D0%BB%D1%8C%D0%BD%D1%8B%D0%B9_%D1%84%D0%B5%D0%B4%D0%B5%D1%80%D0%B0%D0%BB%D1%8C%D0%BD%D1%8B%D0%B9_%D0%BE%D0%BA%D1%80%D1%83%D0%B3\" title=\"Центральный федеральный округ\">Центральный</a>\n",
              " </td></tr>,\n",
              " <tr>\n",
              " <td>2\n",
              " </td>\n",
              " <td><a href=\"/wiki/%D0%A1%D0%B0%D0%BD%D0%BA%D1%82-%D0%9F%D0%B5%D1%82%D0%B5%D1%80%D0%B1%D1%83%D1%80%D0%B3\" title=\"Санкт-Петербург\">Санкт-Петербург</a>\n",
              " </td>\n",
              " <td>1890 (до 1919),<br/>1922 (до 1943),<br/>1945\n",
              " </td>\n",
              " <td>5602\n",
              " </td>\n",
              " <td><a href=\"/wiki/%D0%A1%D0%B5%D0%B2%D0%B5%D1%80%D0%BE-%D0%97%D0%B0%D0%BF%D0%B0%D0%B4%D0%BD%D1%8B%D0%B9_%D1%8D%D0%BA%D0%BE%D0%BD%D0%BE%D0%BC%D0%B8%D1%87%D0%B5%D1%81%D0%BA%D0%B8%D0%B9_%D1%80%D0%B0%D0%B9%D0%BE%D0%BD\" title=\"Северо-Западный экономический район\">Северо-Западный</a>\n",
              " </td>\n",
              " <td><a href=\"/wiki/%D0%A1%D0%B5%D0%B2%D0%B5%D1%80%D0%BE-%D0%97%D0%B0%D0%BF%D0%B0%D0%B4%D0%BD%D1%8B%D0%B9_%D1%84%D0%B5%D0%B4%D0%B5%D1%80%D0%B0%D0%BB%D1%8C%D0%BD%D1%8B%D0%B9_%D0%BE%D0%BA%D1%80%D1%83%D0%B3\" title=\"Северо-Западный федеральный округ\">Северо-Западный</a>\n",
              " </td></tr>,\n",
              " <tr>\n",
              " <th>\n",
              " </th>\n",
              " <th><small>Города-миллионеры<br/>(1—2 млн жителей)</small>\n",
              " </th>\n",
              " <th>\n",
              " </th>\n",
              " <th>\n",
              " </th>\n",
              " <th>\n",
              " </th>\n",
              " <th>\n",
              " </th></tr>,\n",
              " <tr>\n",
              " <td>3\n",
              " </td>\n",
              " <td><a href=\"/wiki/%D0%9D%D0%BE%D0%B2%D0%BE%D1%81%D0%B8%D0%B1%D0%B8%D1%80%D1%81%D0%BA\" title=\"Новосибирск\">Новосибирск</a>\n",
              " </td>\n",
              " <td>1962\n",
              " </td>\n",
              " <td>1634\n",
              " </td>\n",
              " <td><a href=\"/wiki/%D0%97%D0%B0%D0%BF%D0%B0%D0%B4%D0%BD%D0%BE-%D0%A1%D0%B8%D0%B1%D0%B8%D1%80%D1%81%D0%BA%D0%B8%D0%B9_%D1%8D%D0%BA%D0%BE%D0%BD%D0%BE%D0%BC%D0%B8%D1%87%D0%B5%D1%81%D0%BA%D0%B8%D0%B9_%D1%80%D0%B0%D0%B9%D0%BE%D0%BD\" title=\"Западно-Сибирский экономический район\">Западно-Сибирский</a>\n",
              " </td>\n",
              " <td><a href=\"/wiki/%D0%A1%D0%B8%D0%B1%D0%B8%D1%80%D1%81%D0%BA%D0%B8%D0%B9_%D1%84%D0%B5%D0%B4%D0%B5%D1%80%D0%B0%D0%BB%D1%8C%D0%BD%D1%8B%D0%B9_%D0%BE%D0%BA%D1%80%D1%83%D0%B3\" title=\"Сибирский федеральный округ\">Сибирский</a>\n",
              " </td></tr>,\n",
              " <tr>\n",
              " <td>4\n",
              " </td>\n",
              " <td><a href=\"/wiki/%D0%95%D0%BA%D0%B0%D1%82%D0%B5%D1%80%D0%B8%D0%BD%D0%B1%D1%83%D1%80%D0%B3\" title=\"Екатеринбург\">Екатеринбург</a>\n",
              " </td>\n",
              " <td>1967\n",
              " </td>\n",
              " <td>1544\n",
              " </td>\n",
              " <td><a href=\"/wiki/%D0%A3%D1%80%D0%B0%D0%BB%D1%8C%D1%81%D0%BA%D0%B8%D0%B9_%D1%8D%D0%BA%D0%BE%D0%BD%D0%BE%D0%BC%D0%B8%D1%87%D0%B5%D1%81%D0%BA%D0%B8%D0%B9_%D1%80%D0%B0%D0%B9%D0%BE%D0%BD\" title=\"Уральский экономический район\">Уральский</a>\n",
              " </td>\n",
              " <td><a href=\"/wiki/%D0%A3%D1%80%D0%B0%D0%BB%D1%8C%D1%81%D0%BA%D0%B8%D0%B9_%D1%84%D0%B5%D0%B4%D0%B5%D1%80%D0%B0%D0%BB%D1%8C%D0%BD%D1%8B%D0%B9_%D0%BE%D0%BA%D1%80%D1%83%D0%B3\" title=\"Уральский федеральный округ\">Уральский</a>\n",
              " </td></tr>,\n",
              " <tr>\n",
              " <td>5\n",
              " </td>\n",
              " <td><a href=\"/wiki/%D0%9A%D0%B0%D0%B7%D0%B0%D0%BD%D1%8C\" title=\"Казань\">Казань</a>\n",
              " </td>\n",
              " <td>1979\n",
              " </td>\n",
              " <td>1309\n",
              " </td>\n",
              " <td><a href=\"/wiki/%D0%9F%D0%BE%D0%B2%D0%BE%D0%BB%D0%B6%D1%81%D0%BA%D0%B8%D0%B9_%D1%8D%D0%BA%D0%BE%D0%BD%D0%BE%D0%BC%D0%B8%D1%87%D0%B5%D1%81%D0%BA%D0%B8%D0%B9_%D1%80%D0%B0%D0%B9%D0%BE%D0%BD\" title=\"Поволжский экономический район\">Поволжский</a>\n",
              " </td>\n",
              " <td><a href=\"/wiki/%D0%9F%D1%80%D0%B8%D0%B2%D0%BE%D0%BB%D0%B6%D1%81%D0%BA%D0%B8%D0%B9_%D1%84%D0%B5%D0%B4%D0%B5%D1%80%D0%B0%D0%BB%D1%8C%D0%BD%D1%8B%D0%B9_%D0%BE%D0%BA%D1%80%D1%83%D0%B3\" title=\"Приволжский федеральный округ\">Приволжский</a>\n",
              " </td></tr>,\n",
              " <tr>\n",
              " <td>6\n",
              " </td>\n",
              " <td><a href=\"/wiki/%D0%9D%D0%B8%D0%B6%D0%BD%D0%B8%D0%B9_%D0%9D%D0%BE%D0%B2%D0%B3%D0%BE%D1%80%D0%BE%D0%B4\" title=\"Нижний Новгород\">Нижний Новгород</a>\n",
              " </td>\n",
              " <td>1962\n",
              " </td>\n",
              " <td>1226\n",
              " </td>\n",
              " <td><a href=\"/wiki/%D0%92%D0%BE%D0%BB%D0%B3%D0%BE-%D0%92%D1%8F%D1%82%D1%81%D0%BA%D0%B8%D0%B9_%D1%8D%D0%BA%D0%BE%D0%BD%D0%BE%D0%BC%D0%B8%D1%87%D0%B5%D1%81%D0%BA%D0%B8%D0%B9_%D1%80%D0%B0%D0%B9%D0%BE%D0%BD\" title=\"Волго-Вятский экономический район\">Волго-Вятский</a>\n",
              " </td>\n",
              " <td><a href=\"/wiki/%D0%9F%D1%80%D0%B8%D0%B2%D0%BE%D0%BB%D0%B6%D1%81%D0%BA%D0%B8%D0%B9_%D1%84%D0%B5%D0%B4%D0%B5%D1%80%D0%B0%D0%BB%D1%8C%D0%BD%D1%8B%D0%B9_%D0%BE%D0%BA%D1%80%D1%83%D0%B3\" title=\"Приволжский федеральный округ\">Приволжский</a>\n",
              " </td></tr>,\n",
              " <tr>\n",
              " <td>7\n",
              " </td>\n",
              " <td><a href=\"/wiki/%D0%A7%D0%B5%D0%BB%D1%8F%D0%B1%D0%B8%D0%BD%D1%81%D0%BA\" title=\"Челябинск\">Челябинск</a>\n",
              " </td>\n",
              " <td>1976\n",
              " </td>\n",
              " <td>1190\n",
              " </td>\n",
              " <td><a href=\"/wiki/%D0%A3%D1%80%D0%B0%D0%BB%D1%8C%D1%81%D0%BA%D0%B8%D0%B9_%D1%8D%D0%BA%D0%BE%D0%BD%D0%BE%D0%BC%D0%B8%D1%87%D0%B5%D1%81%D0%BA%D0%B8%D0%B9_%D1%80%D0%B0%D0%B9%D0%BE%D0%BD\" title=\"Уральский экономический район\">Уральский</a>\n",
              " </td>\n",
              " <td><a href=\"/wiki/%D0%A3%D1%80%D0%B0%D0%BB%D1%8C%D1%81%D0%BA%D0%B8%D0%B9_%D1%84%D0%B5%D0%B4%D0%B5%D1%80%D0%B0%D0%BB%D1%8C%D0%BD%D1%8B%D0%B9_%D0%BE%D0%BA%D1%80%D1%83%D0%B3\" title=\"Уральский федеральный округ\">Уральский</a>\n",
              " </td></tr>,\n",
              " <tr>\n",
              " <td>8\n",
              " </td>\n",
              " <td><a href=\"/wiki/%D0%9A%D1%80%D0%B0%D1%81%D0%BD%D0%BE%D1%8F%D1%80%D1%81%D0%BA\" title=\"Красноярск\">Красноярск</a>\n",
              " </td>\n",
              " <td>2012\n",
              " </td>\n",
              " <td>1188\n",
              " </td>\n",
              " <td><a href=\"/wiki/%D0%92%D0%BE%D1%81%D1%82%D0%BE%D1%87%D0%BD%D0%BE-%D0%A1%D0%B8%D0%B1%D0%B8%D1%80%D1%81%D0%BA%D0%B8%D0%B9_%D1%8D%D0%BA%D0%BE%D0%BD%D0%BE%D0%BC%D0%B8%D1%87%D0%B5%D1%81%D0%BA%D0%B8%D0%B9_%D1%80%D0%B0%D0%B9%D0%BE%D0%BD\" title=\"Восточно-Сибирский экономический район\">Восточно-Сибирский</a>\n",
              " </td>\n",
              " <td><a href=\"/wiki/%D0%A1%D0%B8%D0%B1%D0%B8%D1%80%D1%81%D0%BA%D0%B8%D0%B9_%D1%84%D0%B5%D0%B4%D0%B5%D1%80%D0%B0%D0%BB%D1%8C%D0%BD%D1%8B%D0%B9_%D0%BE%D0%BA%D1%80%D1%83%D0%B3\" title=\"Сибирский федеральный округ\">Сибирский</a>\n",
              " </td></tr>,\n",
              " <tr>\n",
              " <td>9\n",
              " </td>\n",
              " <td><a href=\"/wiki/%D0%A1%D0%B0%D0%BC%D0%B0%D1%80%D0%B0\" title=\"Самара\">Самара</a>\n",
              " </td>\n",
              " <td>1967\n",
              " </td>\n",
              " <td>1173\n",
              " </td>\n",
              " <td><a href=\"/wiki/%D0%9F%D0%BE%D0%B2%D0%BE%D0%BB%D0%B6%D1%81%D0%BA%D0%B8%D0%B9_%D1%8D%D0%BA%D0%BE%D0%BD%D0%BE%D0%BC%D0%B8%D1%87%D0%B5%D1%81%D0%BA%D0%B8%D0%B9_%D1%80%D0%B0%D0%B9%D0%BE%D0%BD\" title=\"Поволжский экономический район\">Поволжский</a>\n",
              " </td>\n",
              " <td><a href=\"/wiki/%D0%9F%D1%80%D0%B8%D0%B2%D0%BE%D0%BB%D0%B6%D1%81%D0%BA%D0%B8%D0%B9_%D1%84%D0%B5%D0%B4%D0%B5%D1%80%D0%B0%D0%BB%D1%8C%D0%BD%D1%8B%D0%B9_%D0%BE%D0%BA%D1%80%D1%83%D0%B3\" title=\"Приволжский федеральный округ\">Приволжский</a>\n",
              " </td></tr>,\n",
              " <tr>\n",
              " <td>10\n",
              " </td>\n",
              " <td><a href=\"/wiki/%D0%A3%D1%84%D0%B0\" title=\"Уфа\">Уфа</a>\n",
              " </td>\n",
              " <td>1980\n",
              " </td>\n",
              " <td>1145\n",
              " </td>\n",
              " <td><a href=\"/wiki/%D0%A3%D1%80%D0%B0%D0%BB%D1%8C%D1%81%D0%BA%D0%B8%D0%B9_%D1%8D%D0%BA%D0%BE%D0%BD%D0%BE%D0%BC%D0%B8%D1%87%D0%B5%D1%81%D0%BA%D0%B8%D0%B9_%D1%80%D0%B0%D0%B9%D0%BE%D0%BD\" title=\"Уральский экономический район\">Уральский</a>\n",
              " </td>\n",
              " <td><a href=\"/wiki/%D0%9F%D1%80%D0%B8%D0%B2%D0%BE%D0%BB%D0%B6%D1%81%D0%BA%D0%B8%D0%B9_%D1%84%D0%B5%D0%B4%D0%B5%D1%80%D0%B0%D0%BB%D1%8C%D0%BD%D1%8B%D0%B9_%D0%BE%D0%BA%D1%80%D1%83%D0%B3\" title=\"Приволжский федеральный округ\">Приволжский</a>\n",
              " </td></tr>,\n",
              " <tr>\n",
              " <td>11\n",
              " </td>\n",
              " <td><a href=\"/wiki/%D0%A0%D0%BE%D1%81%D1%82%D0%BE%D0%B2-%D0%BD%D0%B0-%D0%94%D0%BE%D0%BD%D1%83\" title=\"Ростов-на-Дону\">Ростов-на-Дону</a>\n",
              " </td>\n",
              " <td>1987\n",
              " </td>\n",
              " <td>1142\n",
              " </td>\n",
              " <td><a href=\"/wiki/%D0%A1%D0%B5%D0%B2%D0%B5%D1%80%D0%BE-%D0%9A%D0%B0%D0%B2%D0%BA%D0%B0%D0%B7%D1%81%D0%BA%D0%B8%D0%B9_%D1%8D%D0%BA%D0%BE%D0%BD%D0%BE%D0%BC%D0%B8%D1%87%D0%B5%D1%81%D0%BA%D0%B8%D0%B9_%D1%80%D0%B0%D0%B9%D0%BE%D0%BD\" title=\"Северо-Кавказский экономический район\">Северо-Кавказский</a>\n",
              " </td>\n",
              " <td><a href=\"/wiki/%D0%AE%D0%B6%D0%BD%D1%8B%D0%B9_%D1%84%D0%B5%D0%B4%D0%B5%D1%80%D0%B0%D0%BB%D1%8C%D0%BD%D1%8B%D0%B9_%D0%BE%D0%BA%D1%80%D1%83%D0%B3\" title=\"Южный федеральный округ\">Южный</a>\n",
              " </td></tr>,\n",
              " <tr>\n",
              " <td>12\n",
              " </td>\n",
              " <td><a href=\"/wiki/%D0%9E%D0%BC%D1%81%D0%BA\" title=\"Омск\">Омск</a>\n",
              " </td>\n",
              " <td>1978\n",
              " </td>\n",
              " <td>1126\n",
              " </td>\n",
              " <td><a href=\"/wiki/%D0%97%D0%B0%D0%BF%D0%B0%D0%B4%D0%BD%D0%BE-%D0%A1%D0%B8%D0%B1%D0%B8%D1%80%D1%81%D0%BA%D0%B8%D0%B9_%D1%8D%D0%BA%D0%BE%D0%BD%D0%BE%D0%BC%D0%B8%D1%87%D0%B5%D1%81%D0%BA%D0%B8%D0%B9_%D1%80%D0%B0%D0%B9%D0%BE%D0%BD\" title=\"Западно-Сибирский экономический район\">Западно-Сибирский</a>\n",
              " </td>\n",
              " <td><a href=\"/wiki/%D0%A1%D0%B8%D0%B1%D0%B8%D1%80%D1%81%D0%BA%D0%B8%D0%B9_%D1%84%D0%B5%D0%B4%D0%B5%D1%80%D0%B0%D0%BB%D1%8C%D0%BD%D1%8B%D0%B9_%D0%BE%D0%BA%D1%80%D1%83%D0%B3\" title=\"Сибирский федеральный округ\">Сибирский</a>\n",
              " </td></tr>,\n",
              " <tr>\n",
              " <td>13\n",
              " </td>\n",
              " <td><a href=\"/wiki/%D0%9A%D1%80%D0%B0%D1%81%D0%BD%D0%BE%D0%B4%D0%B0%D1%80\" title=\"Краснодар\">Краснодар</a>\n",
              " </td>\n",
              " <td><i>2018</i><sup class=\"reference\" id=\"cite_ref-9\"><a href=\"#cite_note-9\">[a]</a></sup>\n",
              " </td>\n",
              " <td>1099\n",
              " </td>\n",
              " <td><a href=\"/wiki/%D0%A1%D0%B5%D0%B2%D0%B5%D1%80%D0%BE-%D0%9A%D0%B0%D0%B2%D0%BA%D0%B0%D0%B7%D1%81%D0%BA%D0%B8%D0%B9_%D1%8D%D0%BA%D0%BE%D0%BD%D0%BE%D0%BC%D0%B8%D1%87%D0%B5%D1%81%D0%BA%D0%B8%D0%B9_%D1%80%D0%B0%D0%B9%D0%BE%D0%BD\" title=\"Северо-Кавказский экономический район\">Северо-Кавказский</a>\n",
              " </td>\n",
              " <td><a href=\"/wiki/%D0%AE%D0%B6%D0%BD%D1%8B%D0%B9_%D1%84%D0%B5%D0%B4%D0%B5%D1%80%D0%B0%D0%BB%D1%8C%D0%BD%D1%8B%D0%B9_%D0%BE%D0%BA%D1%80%D1%83%D0%B3\" title=\"Южный федеральный округ\">Южный</a>\n",
              " </td></tr>,\n",
              " <tr>\n",
              " <td>14\n",
              " </td>\n",
              " <td><a href=\"/wiki/%D0%92%D0%BE%D1%80%D0%BE%D0%BD%D0%B5%D0%B6\" title=\"Воронеж\">Воронеж</a>\n",
              " </td>\n",
              " <td>2012\n",
              " </td>\n",
              " <td>1058\n",
              " </td>\n",
              " <td><a href=\"/wiki/%D0%A6%D0%B5%D0%BD%D1%82%D1%80%D0%B0%D0%BB%D1%8C%D0%BD%D0%BE-%D0%A7%D0%B5%D1%80%D0%BD%D0%BE%D0%B7%D1%91%D0%BC%D0%BD%D1%8B%D0%B9_%D1%8D%D0%BA%D0%BE%D0%BD%D0%BE%D0%BC%D0%B8%D1%87%D0%B5%D1%81%D0%BA%D0%B8%D0%B9_%D1%80%D0%B0%D0%B9%D0%BE%D0%BD\" title=\"Центрально-Чернозёмный экономический район\">Центрально-Чернозёмный</a>\n",
              " </td>\n",
              " <td><a href=\"/wiki/%D0%A6%D0%B5%D0%BD%D1%82%D1%80%D0%B0%D0%BB%D1%8C%D0%BD%D1%8B%D0%B9_%D1%84%D0%B5%D0%B4%D0%B5%D1%80%D0%B0%D0%BB%D1%8C%D0%BD%D1%8B%D0%B9_%D0%BE%D0%BA%D1%80%D1%83%D0%B3\" title=\"Центральный федеральный округ\">Центральный</a>\n",
              " </td></tr>,\n",
              " <tr>\n",
              " <td>15\n",
              " </td>\n",
              " <td><a href=\"/wiki/%D0%9F%D0%B5%D1%80%D0%BC%D1%8C\" title=\"Пермь\">Пермь</a>\n",
              " </td>\n",
              " <td>1979 (до 2004),<br/>2011\n",
              " </td>\n",
              " <td>1034\n",
              " </td>\n",
              " <td><a href=\"/wiki/%D0%A3%D1%80%D0%B0%D0%BB%D1%8C%D1%81%D0%BA%D0%B8%D0%B9_%D1%8D%D0%BA%D0%BE%D0%BD%D0%BE%D0%BC%D0%B8%D1%87%D0%B5%D1%81%D0%BA%D0%B8%D0%B9_%D1%80%D0%B0%D0%B9%D0%BE%D0%BD\" title=\"Уральский экономический район\">Уральский</a>\n",
              " </td>\n",
              " <td><a href=\"/wiki/%D0%9F%D1%80%D0%B8%D0%B2%D0%BE%D0%BB%D0%B6%D1%81%D0%BA%D0%B8%D0%B9_%D1%84%D0%B5%D0%B4%D0%B5%D1%80%D0%B0%D0%BB%D1%8C%D0%BD%D1%8B%D0%B9_%D0%BE%D0%BA%D1%80%D1%83%D0%B3\" title=\"Приволжский федеральный округ\">Приволжский</a>\n",
              " </td></tr>,\n",
              " <tr>\n",
              " <td>16\n",
              " </td>\n",
              " <td><a href=\"/wiki/%D0%92%D0%BE%D0%BB%D0%B3%D0%BE%D0%B3%D1%80%D0%B0%D0%B4\" title=\"Волгоград\">Волгоград</a>\n",
              " </td>\n",
              " <td>1989 (до 1999),<br/>2002 (до 2005),<br/>2010\n",
              " </td>\n",
              " <td>1028\n",
              " </td>\n",
              " <td><a href=\"/wiki/%D0%9F%D0%BE%D0%B2%D0%BE%D0%BB%D0%B6%D1%81%D0%BA%D0%B8%D0%B9_%D1%8D%D0%BA%D0%BE%D0%BD%D0%BE%D0%BC%D0%B8%D1%87%D0%B5%D1%81%D0%BA%D0%B8%D0%B9_%D1%80%D0%B0%D0%B9%D0%BE%D0%BD\" title=\"Поволжский экономический район\">Поволжский</a>\n",
              " </td>\n",
              " <td><a href=\"/wiki/%D0%AE%D0%B6%D0%BD%D1%8B%D0%B9_%D1%84%D0%B5%D0%B4%D0%B5%D1%80%D0%B0%D0%BB%D1%8C%D0%BD%D1%8B%D0%B9_%D0%BE%D0%BA%D1%80%D1%83%D0%B3\" title=\"Южный федеральный округ\">Южный</a>\n",
              " </td></tr>,\n",
              " <tr>\n",
              " <th>\n",
              " </th>\n",
              " <th><small>Города-субмиллионеры<br/>(800—999 тыс. жителей)</small>\n",
              " </th>\n",
              " <th>\n",
              " </th>\n",
              " <th>\n",
              " </th>\n",
              " <th>\n",
              " </th>\n",
              " <th>\n",
              " </th></tr>,\n",
              " <tr>\n",
              " <td>17\n",
              " </td>\n",
              " <td><a href=\"/wiki/%D0%A1%D0%B0%D1%80%D0%B0%D1%82%D0%BE%D0%B2\" title=\"Саратов\">Саратов</a>\n",
              " </td>\n",
              " <td>—\n",
              " </td>\n",
              " <td>901\n",
              " </td>\n",
              " <td><a href=\"/wiki/%D0%9F%D0%BE%D0%B2%D0%BE%D0%BB%D0%B6%D1%81%D0%BA%D0%B8%D0%B9_%D1%8D%D0%BA%D0%BE%D0%BD%D0%BE%D0%BC%D0%B8%D1%87%D0%B5%D1%81%D0%BA%D0%B8%D0%B9_%D1%80%D0%B0%D0%B9%D0%BE%D0%BD\" title=\"Поволжский экономический район\">Поволжский</a>\n",
              " </td>\n",
              " <td><a href=\"/wiki/%D0%9F%D1%80%D0%B8%D0%B2%D0%BE%D0%BB%D0%B6%D1%81%D0%BA%D0%B8%D0%B9_%D1%84%D0%B5%D0%B4%D0%B5%D1%80%D0%B0%D0%BB%D1%8C%D0%BD%D1%8B%D0%B9_%D0%BE%D0%BA%D1%80%D1%83%D0%B3\" title=\"Приволжский федеральный округ\">Приволжский</a>\n",
              " </td></tr>,\n",
              " <tr>\n",
              " <td>18\n",
              " </td>\n",
              " <td><a href=\"/wiki/%D0%A2%D1%8E%D0%BC%D0%B5%D0%BD%D1%8C\" title=\"Тюмень\">Тюмень</a>\n",
              " </td>\n",
              " <td>—\n",
              " </td>\n",
              " <td>847\n",
              " </td>\n",
              " <td><a href=\"/wiki/%D0%97%D0%B0%D0%BF%D0%B0%D0%B4%D0%BD%D0%BE-%D0%A1%D0%B8%D0%B1%D0%B8%D1%80%D1%81%D0%BA%D0%B8%D0%B9_%D1%8D%D0%BA%D0%BE%D0%BD%D0%BE%D0%BC%D0%B8%D1%87%D0%B5%D1%81%D0%BA%D0%B8%D0%B9_%D1%80%D0%B0%D0%B9%D0%BE%D0%BD\" title=\"Западно-Сибирский экономический район\">Западно-Сибирский</a>\n",
              " </td>\n",
              " <td><a href=\"/wiki/%D0%A3%D1%80%D0%B0%D0%BB%D1%8C%D1%81%D0%BA%D0%B8%D0%B9_%D1%84%D0%B5%D0%B4%D0%B5%D1%80%D0%B0%D0%BB%D1%8C%D0%BD%D1%8B%D0%B9_%D0%BE%D0%BA%D1%80%D1%83%D0%B3\" title=\"Уральский федеральный округ\">Уральский</a>\n",
              " </td></tr>,\n",
              " <tr>\n",
              " <th>\n",
              " </th>\n",
              " <th><small>Итого численность<br/>населения крупнейших<br/>городов:</small>\n",
              " </th>\n",
              " <th>—\n",
              " </th>\n",
              " <th>37 256\n",
              " </th>\n",
              " <th>\n",
              " </th>\n",
              " <th>\n",
              " </th></tr>,\n",
              " <tr>\n",
              " <th>\n",
              " </th>\n",
              " <th><small>Доля численности<br/>населения крупнейших<br/>городов в общей численности<br/>населения России, %</small>\n",
              " </th>\n",
              " <th>—\n",
              " </th>\n",
              " <th>25,31 %\n",
              " </th>\n",
              " <th>\n",
              " </th>\n",
              " <th>\n",
              " </th></tr>,\n",
              " <tr>\n",
              " <th>\n",
              " </th>\n",
              " <th><small>Доля численности<br/>населения крупнейших<br/>городов в общей численности<br/>городского населения России, %</small>\n",
              " </th>\n",
              " <th>—\n",
              " </th>\n",
              " <th>33,85 %\n",
              " </th>\n",
              " <th>\n",
              " </th>\n",
              " <th>\n",
              " </th></tr>,\n",
              " <tr>\n",
              " <th>Место\n",
              " </th>\n",
              " <th>Агломерация\n",
              " </th>\n",
              " <th>Население,<br/>урбанизированное/субурбанизированное-тяготеющее,<br/>тыс. чел.<br/>(2010)<sup class=\"reference\" id=\"cite_ref-ved2010_10-1\"><a href=\"#cite_note-ved2010-10\">[9]</a></sup>\n",
              " </th></tr>,\n",
              " <tr>\n",
              " <td>1\n",
              " </td>\n",
              " <td><a href=\"/wiki/%D0%9C%D0%BE%D1%81%D0%BA%D0%BE%D0%B2%D1%81%D0%BA%D0%B0%D1%8F_%D0%B0%D0%B3%D0%BB%D0%BE%D0%BC%D0%B5%D1%80%D0%B0%D1%86%D0%B8%D1%8F\" title=\"Московская агломерация\">Московская</a>\n",
              " </td>\n",
              " <td>16 023 (14 700<sup class=\"reference\" id=\"cite_ref-dr_11-0\"><a href=\"#cite_note-dr-11\">[b]</a></sup>)/17 316\n",
              " </td></tr>,\n",
              " <tr>\n",
              " <td>2\n",
              " </td>\n",
              " <td><a href=\"/wiki/%D0%A1%D0%B0%D0%BD%D0%BA%D1%82-%D0%9F%D0%B5%D1%82%D0%B5%D1%80%D0%B1%D1%83%D1%80%D0%B3%D1%81%D0%BA%D0%B0%D1%8F_%D0%B0%D0%B3%D0%BB%D0%BE%D0%BC%D0%B5%D1%80%D0%B0%D1%86%D0%B8%D1%8F\" title=\"Санкт-Петербургская агломерация\">Санкт-Петербургская</a>\n",
              " </td>\n",
              " <td>5681 (5400<sup class=\"reference\" id=\"cite_ref-dr_11-1\"><a href=\"#cite_note-dr-11\">[b]</a></sup>)/6230\n",
              " </td></tr>,\n",
              " <tr>\n",
              " <td>3\n",
              " </td>\n",
              " <td><a href=\"/wiki/%D0%A1%D0%B0%D0%BC%D0%B0%D1%80%D1%81%D0%BA%D0%BE-%D0%A2%D0%BE%D0%BB%D1%8C%D1%8F%D1%82%D1%82%D0%B8%D0%BD%D1%81%D0%BA%D0%B0%D1%8F_%D0%B0%D0%B3%D0%BB%D0%BE%D0%BC%D0%B5%D1%80%D0%B0%D1%86%D0%B8%D1%8F\" title=\"Самарско-Тольяттинская агломерация\">Самарско-Тольяттинская</a><sup class=\"reference\" id=\"cite_ref-poly_12-0\"><a href=\"#cite_note-poly-12\">[c]</a></sup>\n",
              " </td>\n",
              " <td>2300<sup class=\"reference\" id=\"cite_ref-dr_11-2\"><a href=\"#cite_note-dr-11\">[b]</a></sup>; 2555/3170<sup class=\"reference\" id=\"cite_ref-13\"><a href=\"#cite_note-13\">[d]</a></sup>\n",
              " </td></tr>,\n",
              " <tr>\n",
              " <td>4\n",
              " </td>\n",
              " <td><a href=\"/wiki/%D0%95%D0%BA%D0%B0%D1%82%D0%B5%D1%80%D0%B8%D0%BD%D0%B1%D1%83%D1%80%D0%B3%D1%81%D0%BA%D0%B0%D1%8F_%D0%B0%D0%B3%D0%BB%D0%BE%D0%BC%D0%B5%D1%80%D0%B0%D1%86%D0%B8%D1%8F\" title=\"Екатеринбургская агломерация\">Екатеринбургская</a>\n",
              " </td>\n",
              " <td>2054/2054\n",
              " </td></tr>,\n",
              " <tr>\n",
              " <td>5\n",
              " </td>\n",
              " <td><a href=\"/wiki/%D0%9D%D0%B8%D0%B6%D0%B5%D0%B3%D0%BE%D1%80%D0%BE%D0%B4%D1%81%D0%BA%D0%B0%D1%8F_%D0%B0%D0%B3%D0%BB%D0%BE%D0%BC%D0%B5%D1%80%D0%B0%D1%86%D0%B8%D1%8F\" title=\"Нижегородская агломерация\">Нижегородская</a>\n",
              " </td>\n",
              " <td>1928/2097\n",
              " </td></tr>,\n",
              " <tr>\n",
              " <td>6\n",
              " </td>\n",
              " <td><a href=\"/wiki/%D0%A0%D0%BE%D1%81%D1%82%D0%BE%D0%B2%D1%81%D0%BA%D0%B0%D1%8F_%D0%B0%D0%B3%D0%BB%D0%BE%D0%BC%D0%B5%D1%80%D0%B0%D1%86%D0%B8%D1%8F\" title=\"Ростовская агломерация\">Ростовская</a>\n",
              " </td>\n",
              " <td>1714/2096; 2570<sup class=\"reference\" id=\"cite_ref-14\"><a href=\"#cite_note-14\">[e]</a></sup>\n",
              " </td></tr>,\n",
              " <tr>\n",
              " <td>7\n",
              " </td>\n",
              " <td><a href=\"/wiki/%D0%9D%D0%BE%D0%B2%D0%BE%D1%81%D0%B8%D0%B1%D0%B8%D1%80%D1%81%D0%BA%D0%B0%D1%8F_%D0%B0%D0%B3%D0%BB%D0%BE%D0%BC%D0%B5%D1%80%D0%B0%D1%86%D0%B8%D1%8F\" title=\"Новосибирская агломерация\">Новосибирская</a>\n",
              " </td>\n",
              " <td>1736/(1928) 1997; 1645/2070; 1887/2050\n",
              " </td></tr>,\n",
              " <tr>\n",
              " <td>8—10\n",
              " </td>\n",
              " <td><a href=\"/wiki/%D0%92%D0%BE%D0%BB%D0%B3%D0%BE%D0%B3%D1%80%D0%B0%D0%B4%D1%81%D0%BA%D0%B0%D1%8F_%D0%B0%D0%B3%D0%BB%D0%BE%D0%BC%D0%B5%D1%80%D0%B0%D1%86%D0%B8%D1%8F\" title=\"Волгоградская агломерация\">Волгоградская</a>\n",
              " </td>\n",
              " <td>1416/1517\n",
              " </td></tr>,\n",
              " <tr>\n",
              " <td>8—10\n",
              " </td>\n",
              " <td><a href=\"/wiki/%D0%9A%D0%B0%D0%B7%D0%B0%D0%BD%D1%81%D0%BA%D0%B0%D1%8F_%D0%B0%D0%B3%D0%BB%D0%BE%D0%BC%D0%B5%D1%80%D0%B0%D1%86%D0%B8%D1%8F\" title=\"Казанская агломерация\">Казанская</a>\n",
              " </td>\n",
              " <td>1352/1560\n",
              " </td></tr>,\n",
              " <tr>\n",
              " <td>8—10\n",
              " </td>\n",
              " <td><a href=\"/wiki/%D0%A7%D0%B5%D0%BB%D1%8F%D0%B1%D0%B8%D0%BD%D1%81%D0%BA%D0%B0%D1%8F_%D0%B0%D0%B3%D0%BB%D0%BE%D0%BC%D0%B5%D1%80%D0%B0%D1%86%D0%B8%D1%8F\" title=\"Челябинская агломерация\">Челябинская</a>\n",
              " </td>\n",
              " <td>1322/1535\n",
              " </td></tr>,\n",
              " <tr>\n",
              " <td>11\n",
              " </td>\n",
              " <td><a href=\"/wiki/%D0%9E%D0%BC%D1%81%D0%BA%D0%B0%D1%8F_%D0%B0%D0%B3%D0%BB%D0%BE%D0%BC%D0%B5%D1%80%D0%B0%D1%86%D0%B8%D1%8F\" title=\"Омская агломерация\">Омская</a>\n",
              " </td>\n",
              " <td>1182/1261\n",
              " </td></tr>,\n",
              " <tr>\n",
              " <td>12—14\n",
              " </td>\n",
              " <td><a href=\"/wiki/%D0%9A%D1%80%D0%B0%D1%81%D0%BD%D0%BE%D0%B4%D0%B0%D1%80%D1%81%D0%BA%D0%B0%D1%8F_%D0%B0%D0%B3%D0%BB%D0%BE%D0%BC%D0%B5%D1%80%D0%B0%D1%86%D0%B8%D1%8F\" title=\"Краснодарская агломерация\">Краснодарская</a>\n",
              " </td>\n",
              " <td>1046/1344\n",
              " </td></tr>,\n",
              " <tr>\n",
              " <td>12—14\n",
              " </td>\n",
              " <td><a href=\"/wiki/%D0%A3%D1%84%D0%B8%D0%BC%D1%81%D0%BA%D0%B0%D1%8F_%D0%B0%D0%B3%D0%BB%D0%BE%D0%BC%D0%B5%D1%80%D0%B0%D1%86%D0%B8%D1%8F\" title=\"Уфимская агломерация\">Уфимская</a>\n",
              " </td>\n",
              " <td>1087/1235\n",
              " </td></tr>,\n",
              " <tr>\n",
              " <td>12—14\n",
              " </td>\n",
              " <td><a href=\"/wiki/%D0%9D%D0%BE%D0%B2%D0%BE%D0%BA%D1%83%D0%B7%D0%BD%D0%B5%D1%86%D0%BA%D0%B0%D1%8F_%D0%B0%D0%B3%D0%BB%D0%BE%D0%BC%D0%B5%D1%80%D0%B0%D1%86%D0%B8%D1%8F\" title=\"Новокузнецкая агломерация\">Новокузнецкая (Кузбасская)</a>*<sup class=\"reference\" id=\"cite_ref-poly_12-1\"><a href=\"#cite_note-poly-12\">[c]</a></sup>\n",
              " </td>\n",
              " <td>1096/1206\n",
              " </td></tr>,\n",
              " <tr>\n",
              " <td>15—18\n",
              " </td>\n",
              " <td><a href=\"/wiki/%D0%9A%D1%80%D0%B0%D1%81%D0%BD%D0%BE%D1%8F%D1%80%D1%81%D0%BA%D0%B0%D1%8F_%D0%B0%D0%B3%D0%BB%D0%BE%D0%BC%D0%B5%D1%80%D0%B0%D1%86%D0%B8%D1%8F\" title=\"Красноярская агломерация\">Красноярская</a>\n",
              " </td>\n",
              " <td>1061/1155\n",
              " </td></tr>,\n",
              " <tr>\n",
              " <td>15—18\n",
              " </td>\n",
              " <td><a href=\"/wiki/%D0%9F%D0%B5%D1%80%D0%BC%D1%81%D0%BA%D0%B0%D1%8F_%D0%B0%D0%B3%D0%BB%D0%BE%D0%BC%D0%B5%D1%80%D0%B0%D1%86%D0%B8%D1%8F\" title=\"Пермская агломерация\">Пермская</a>\n",
              " </td>\n",
              " <td>1044/1144\n",
              " </td></tr>,\n",
              " <tr>\n",
              " <td>15—18\n",
              " </td>\n",
              " <td><a href=\"/wiki/%D0%A1%D0%B0%D1%80%D0%B0%D1%82%D0%BE%D0%B2%D1%81%D0%BA%D0%B0%D1%8F_%D0%B0%D0%B3%D0%BB%D0%BE%D0%BC%D0%B5%D1%80%D0%B0%D1%86%D0%B8%D1%8F\" title=\"Саратовская агломерация\">Саратовская</a>*\n",
              " </td>\n",
              " <td>1070/1117\n",
              " </td></tr>,\n",
              " <tr>\n",
              " <td>15—18\n",
              " </td>\n",
              " <td><a href=\"/wiki/%D0%92%D0%BE%D1%80%D0%BE%D0%BD%D0%B5%D0%B6%D1%81%D0%BA%D0%B0%D1%8F_%D0%B0%D0%B3%D0%BB%D0%BE%D0%BC%D0%B5%D1%80%D0%B0%D1%86%D0%B8%D1%8F\" title=\"Воронежская агломерация\">Воронежская</a>\n",
              " </td>\n",
              " <td>1015/1360\n",
              " </td></tr>,\n",
              " <tr>\n",
              " <td>19—22\n",
              " </td>\n",
              " <td><a href=\"/wiki/%D0%98%D1%80%D0%BA%D1%83%D1%82%D1%81%D0%BA%D0%B0%D1%8F_%D0%B0%D0%B3%D0%BB%D0%BE%D0%BC%D0%B5%D1%80%D0%B0%D1%86%D0%B8%D1%8F\" title=\"Иркутская агломерация\">Иркутская (Иркутско-Черемховская)</a>*<sup class=\"reference\" id=\"cite_ref-poly_12-2\"><a href=\"#cite_note-poly-12\">[c]</a></sup>\n",
              " </td>\n",
              " <td>1041/1081\n",
              " </td></tr>,\n",
              " <tr>\n",
              " <td>19—22\n",
              " </td>\n",
              " <td><a href=\"/wiki/%D0%9D%D0%B0%D0%B1%D0%B5%D1%80%D0%B5%D0%B6%D0%BD%D0%BE%D1%87%D0%B5%D0%BB%D0%BD%D0%B8%D0%BD%D1%81%D0%BA%D0%B0%D1%8F_%D0%B0%D0%B3%D0%BB%D0%BE%D0%BC%D0%B5%D1%80%D0%B0%D1%86%D0%B8%D1%8F\" title=\"Набережночелнинская агломерация\">Набережночелнинская (Нижне-Камская)</a>*<sup class=\"reference\" id=\"cite_ref-poly_12-3\"><a href=\"#cite_note-poly-12\">[c]</a></sup>\n",
              " </td>\n",
              " <td>1010/1125<sup class=\"reference\" id=\"cite_ref-dr_11-3\"><a href=\"#cite_note-dr-11\">[b]</a></sup>\n",
              " </td></tr>,\n",
              " <tr>\n",
              " <td>19—22\n",
              " </td>\n",
              " <td><a href=\"/wiki/%D0%91%D0%BE%D0%BB%D1%8C%D1%88%D0%BE%D0%B9_%D0%92%D0%BB%D0%B0%D0%B4%D0%B8%D0%B2%D0%BE%D1%81%D1%82%D0%BE%D0%BA\" title=\"Большой Владивосток\">Владивостокская</a>*<sup class=\"reference\" id=\"cite_ref-poly_12-4\"><a href=\"#cite_note-poly-12\">[c]</a></sup>\n",
              " </td>\n",
              " <td>1010<sup class=\"reference\" id=\"cite_ref-dr_11-4\"><a href=\"#cite_note-dr-11\">[b]</a></sup>; 1125/1199<sup class=\"reference\" id=\"cite_ref-15\"><a href=\"#cite_note-15\">[f]</a></sup>\n",
              " </td></tr>,\n",
              " <tr>\n",
              " <td>19—22\n",
              " </td>\n",
              " <td><a href=\"/wiki/%D0%A2%D1%83%D0%BB%D1%8C%D1%81%D0%BA%D0%BE-%D0%9D%D0%BE%D0%B2%D0%BE%D0%BC%D0%BE%D1%81%D0%BA%D0%BE%D0%B2%D1%81%D0%BA%D0%B0%D1%8F_%D0%B0%D0%B3%D0%BB%D0%BE%D0%BC%D0%B5%D1%80%D0%B0%D1%86%D0%B8%D1%8F\" title=\"Тульско-Новомосковская агломерация\">Тульско-Новомосковская</a>*<sup class=\"reference\" id=\"cite_ref-poly_12-5\"><a href=\"#cite_note-poly-12\">[c]</a></sup>\n",
              " </td>\n",
              " <td>1030<sup class=\"reference\" id=\"cite_ref-dr_11-5\"><a href=\"#cite_note-dr-11\">[b]</a></sup>\n",
              " </td></tr>,\n",
              " <tr>\n",
              " <td>23\n",
              " </td>\n",
              " <td><a class=\"new\" href=\"/w/index.php?title=%D0%A3%D0%BB%D1%8C%D1%8F%D0%BD%D0%BE%D0%B2%D1%81%D0%BA%D0%B0%D1%8F_%D0%B0%D0%B3%D0%BB%D0%BE%D0%BC%D0%B5%D1%80%D0%B0%D1%86%D0%B8%D1%8F&amp;action=edit&amp;redlink=1\" title=\"Ульяновская агломерация (страница отсутствует)\">Ульяновская агломерация</a>\n",
              " </td>\n",
              " <td>1008<sup class=\"reference\" id=\"cite_ref-dr_11-6\"><a href=\"#cite_note-dr-11\">[b]</a></sup>\n",
              " </td></tr>,\n",
              " <tr><td class=\"mbox-image\"><div style=\"width:52px\"><span typeof=\"mw:File\"><span><img alt=\"\" class=\"mw-file-element\" data-file-height=\"204\" data-file-width=\"262\" decoding=\"async\" height=\"37\" src=\"//upload.wikimedia.org/wikipedia/commons/thumb/6/64/Question_book-4.svg/48px-Question_book-4.svg.png\" srcset=\"//upload.wikimedia.org/wikipedia/commons/thumb/6/64/Question_book-4.svg/72px-Question_book-4.svg.png 1.5x, //upload.wikimedia.org/wikipedia/commons/thumb/6/64/Question_book-4.svg/96px-Question_book-4.svg.png 2x\" width=\"48\"/></span></span></div></td><td class=\"mbox-text\"><div class=\"mbox-text-div\">В разделе <b>не хватает <a href=\"/wiki/%D0%92%D0%B8%D0%BA%D0%B8%D0%BF%D0%B5%D0%B4%D0%B8%D1%8F:%D0%A1%D1%81%D1%8B%D0%BB%D0%BA%D0%B8_%D0%BD%D0%B0_%D0%B8%D1%81%D1%82%D0%BE%D1%87%D0%BD%D0%B8%D0%BA%D0%B8\" title=\"Википедия:Ссылки на источники\">ссылок на источники</a></b> (см. <a href=\"/wiki/%D0%92%D0%B8%D0%BA%D0%B8%D0%BF%D0%B5%D0%B4%D0%B8%D1%8F:%D0%9F%D0%BE%D0%B8%D1%81%D0%BA_%D0%B8%D1%81%D1%82%D0%BE%D1%87%D0%BD%D0%B8%D0%BA%D0%BE%D0%B2\" title=\"Википедия:Поиск источников\">рекомендации по поиску</a>).</div><div class=\"mbox-textsmall-div hide-when-compact\" style=\"font-size:85%\"><span class=\"hide-when-compact\"> Информация должна быть <a href=\"/wiki/%D0%92%D0%B8%D0%BA%D0%B8%D0%BF%D0%B5%D0%B4%D0%B8%D1%8F:%D0%9F%D1%80%D0%BE%D0%B2%D0%B5%D1%80%D1%8F%D0%B5%D0%BC%D0%BE%D1%81%D1%82%D1%8C\" title=\"Википедия:Проверяемость\">проверяема</a>, иначе она может быть удалена. Вы можете <a class=\"external text\" href=\"https://ru.wikipedia.org/w/index.php?title=%D0%93%D0%BE%D1%80%D0%BE%D0%B4%D0%B0-%D0%BC%D0%B8%D0%BB%D0%BB%D0%B8%D0%BE%D0%BD%D0%B5%D1%80%D1%8B_%D0%A0%D0%BE%D1%81%D1%81%D0%B8%D0%B8&amp;action=edit\">отредактировать</a> статью, добавив ссылки на <a href=\"/wiki/%D0%92%D0%B8%D0%BA%D0%B8%D0%BF%D0%B5%D0%B4%D0%B8%D1%8F:%D0%90%D0%B2%D1%82%D0%BE%D1%80%D0%B8%D1%82%D0%B5%D1%82%D0%BD%D1%8B%D0%B5_%D0%B8%D1%81%D1%82%D0%BE%D1%87%D0%BD%D0%B8%D0%BA%D0%B8\" title=\"Википедия:Авторитетные источники\">авторитетные источники</a> в виде <a href=\"/wiki/%D0%92%D0%B8%D0%BA%D0%B8%D0%BF%D0%B5%D0%B4%D0%B8%D1%8F:%D0%A1%D0%BD%D0%BE%D1%81%D0%BA%D0%B8\" title=\"Википедия:Сноски\">сносок</a>.</span> <span class=\"mbox-date\"><i>(<span class=\"date\">5 сентября 2022</span>)</i></span></div></td></tr>,\n",
              " <tr><td class=\"mbox-image\"><div style=\"width:52px\"><span typeof=\"mw:File\"><span><img alt=\"\" class=\"mw-file-element\" data-file-height=\"204\" data-file-width=\"262\" decoding=\"async\" height=\"37\" src=\"//upload.wikimedia.org/wikipedia/commons/thumb/6/64/Question_book-4.svg/48px-Question_book-4.svg.png\" srcset=\"//upload.wikimedia.org/wikipedia/commons/thumb/6/64/Question_book-4.svg/72px-Question_book-4.svg.png 1.5x, //upload.wikimedia.org/wikipedia/commons/thumb/6/64/Question_book-4.svg/96px-Question_book-4.svg.png 2x\" width=\"48\"/></span></span></div></td><td class=\"mbox-text\"><div class=\"mbox-text-div\">В разделе <b>не хватает <a href=\"/wiki/%D0%92%D0%B8%D0%BA%D0%B8%D0%BF%D0%B5%D0%B4%D0%B8%D1%8F:%D0%A1%D1%81%D1%8B%D0%BB%D0%BA%D0%B8_%D0%BD%D0%B0_%D0%B8%D1%81%D1%82%D0%BE%D1%87%D0%BD%D0%B8%D0%BA%D0%B8\" title=\"Википедия:Ссылки на источники\">ссылок на источники</a></b> (см. <a href=\"/wiki/%D0%92%D0%B8%D0%BA%D0%B8%D0%BF%D0%B5%D0%B4%D0%B8%D1%8F:%D0%9F%D0%BE%D0%B8%D1%81%D0%BA_%D0%B8%D1%81%D1%82%D0%BE%D1%87%D0%BD%D0%B8%D0%BA%D0%BE%D0%B2\" title=\"Википедия:Поиск источников\">рекомендации по поиску</a>).</div><div class=\"mbox-textsmall-div hide-when-compact\" style=\"font-size:85%\"><span class=\"hide-when-compact\"> Информация должна быть <a href=\"/wiki/%D0%92%D0%B8%D0%BA%D0%B8%D0%BF%D0%B5%D0%B4%D0%B8%D1%8F:%D0%9F%D1%80%D0%BE%D0%B2%D0%B5%D1%80%D1%8F%D0%B5%D0%BC%D0%BE%D1%81%D1%82%D1%8C\" title=\"Википедия:Проверяемость\">проверяема</a>, иначе она может быть удалена. Вы можете <a class=\"external text\" href=\"https://ru.wikipedia.org/w/index.php?title=%D0%93%D0%BE%D1%80%D0%BE%D0%B4%D0%B0-%D0%BC%D0%B8%D0%BB%D0%BB%D0%B8%D0%BE%D0%BD%D0%B5%D1%80%D1%8B_%D0%A0%D0%BE%D1%81%D1%81%D0%B8%D0%B8&amp;action=edit\">отредактировать</a> статью, добавив ссылки на <a href=\"/wiki/%D0%92%D0%B8%D0%BA%D0%B8%D0%BF%D0%B5%D0%B4%D0%B8%D1%8F:%D0%90%D0%B2%D1%82%D0%BE%D1%80%D0%B8%D1%82%D0%B5%D1%82%D0%BD%D1%8B%D0%B5_%D0%B8%D1%81%D1%82%D0%BE%D1%87%D0%BD%D0%B8%D0%BA%D0%B8\" title=\"Википедия:Авторитетные источники\">авторитетные источники</a> в виде <a href=\"/wiki/%D0%92%D0%B8%D0%BA%D0%B8%D0%BF%D0%B5%D0%B4%D0%B8%D1%8F:%D0%A1%D0%BD%D0%BE%D1%81%D0%BA%D0%B8\" title=\"Википедия:Сноски\">сносок</a>.</span> <span class=\"mbox-date\"><i>(<span class=\"date\">24 апреля 2022</span>)</i></span></div></td></tr>,\n",
              " <tr class=\"bright\"><th scope=\"col\">1764<sup class=\"reference\" id=\"cite_ref-1764A_16-0\"><a href=\"#cite_note-1764A-16\">[10]</a></sup></th><th scope=\"col\">1765<sup class=\"reference\" id=\"cite_ref-1765BA_17-0\"><a href=\"#cite_note-1765BA-17\">[11]</a></sup></th><th scope=\"col\">1780<sup class=\"reference\" id=\"cite_ref-1765BA_17-1\"><a href=\"#cite_note-1765BA-17\">[11]</a></sup></th><th scope=\"col\">1789<sup class=\"reference\" id=\"cite_ref-1765BA_17-2\"><a href=\"#cite_note-1765BA-17\">[11]</a></sup></th><th scope=\"col\">1800<sup class=\"reference\" id=\"cite_ref-1764A_16-1\"><a href=\"#cite_note-1764A-16\">[10]</a></sup></th><th scope=\"col\">1811<sup class=\"reference\" id=\"cite_ref-1765BA_17-3\"><a href=\"#cite_note-1765BA-17\">[11]</a></sup></th><th scope=\"col\">1817<sup class=\"reference\" id=\"cite_ref-1765BA_17-4\"><a href=\"#cite_note-1765BA-17\">[11]</a></sup></th></tr>,\n",
              " <tr style=\"text-align:center\"><td>149 700</td><td><span style=\"color: #0c0; font-weight:bold; font-size: larger;\">↗</span>150 300</td><td><span style=\"color: #0c0; font-weight:bold; font-size: larger;\">↗</span>174 800</td><td><span style=\"color: #0c0; font-weight:bold; font-size: larger;\">↗</span>217 900</td><td><span style=\"color: #0c0; font-weight:bold; font-size: larger;\">↗</span>220 200</td><td><span style=\"color: #0c0; font-weight:bold; font-size: larger;\">↗</span>335 600</td><td><span style=\"color: #0c0; font-weight:bold; font-size: larger;\">↗</span>363 900</td></tr>,\n",
              " <tr class=\"bright\"><th scope=\"col\">1825<sup class=\"reference\" id=\"cite_ref-1765BA_17-5\"><a href=\"#cite_note-1765BA-17\">[11]</a></sup></th><th scope=\"col\">1833<sup class=\"reference\" id=\"cite_ref-1765BA_17-6\"><a href=\"#cite_note-1765BA-17\">[11]</a></sup></th><th scope=\"col\">1837<sup class=\"reference\" id=\"cite_ref-1765BA_17-7\"><a href=\"#cite_note-1765BA-17\">[11]</a></sup></th><th scope=\"col\">1840<sup class=\"reference\" id=\"cite_ref-1765BA_17-8\"><a href=\"#cite_note-1765BA-17\">[11]</a></sup></th><th scope=\"col\">1850<sup class=\"reference\" id=\"cite_ref-1764A_16-2\"><a href=\"#cite_note-1764A-16\">[10]</a></sup></th><th scope=\"col\">1852<sup class=\"reference\" id=\"cite_ref-1765BA_17-9\"><a href=\"#cite_note-1765BA-17\">[11]</a></sup></th><th scope=\"col\">1863<sup class=\"reference\" id=\"cite_ref-1765BA_17-10\"><a href=\"#cite_note-1765BA-17\">[11]</a></sup></th></tr>,\n",
              " <tr style=\"text-align:center\"><td><span style=\"color: #0c0; font-weight:bold; font-size: larger;\">↗</span>424 700</td><td><span style=\"color: #0c0; font-weight:bold; font-size: larger;\">↗</span>442 900</td><td><span style=\"color: #0c0; font-weight:bold; font-size: larger;\">↗</span>468 800</td><td><span style=\"color: #0c0; font-weight:bold; font-size: larger;\">↗</span>470 200</td><td><span style=\"color: #0c0; font-weight:bold; font-size: larger;\">↗</span>487 300</td><td><span style=\"color: #0c0; font-weight:bold; font-size: larger;\">↗</span>532 200</td><td><span style=\"color: #0c0; font-weight:bold; font-size: larger;\">↗</span>539 500</td></tr>,\n",
              " <tr class=\"bright\"><th scope=\"col\">1870<sup class=\"reference\" id=\"cite_ref-1765BA_17-11\"><a href=\"#cite_note-1765BA-17\">[11]</a></sup></th><th scope=\"col\">1882<sup class=\"reference\" id=\"cite_ref-1765BA_17-12\"><a href=\"#cite_note-1765BA-17\">[11]</a></sup></th><th scope=\"col\">1891<sup class=\"reference\" id=\"cite_ref-1765BA_17-13\"><a href=\"#cite_note-1765BA-17\">[11]</a></sup></th><th scope=\"col\">1897<sup class=\"reference\" id=\"cite_ref-1897X_18-0\"><a href=\"#cite_note-1897X-18\">[12]</a></sup></th><th scope=\"col\">1900<sup class=\"reference\" id=\"cite_ref-1764A_16-3\"><a href=\"#cite_note-1764A-16\">[10]</a></sup></th><th scope=\"col\">1901<sup class=\"reference\" id=\"cite_ref-1765BA_17-14\"><a href=\"#cite_note-1765BA-17\">[11]</a></sup></th><th scope=\"col\">1910<sup class=\"reference\" id=\"cite_ref-1765BA_17-15\"><a href=\"#cite_note-1765BA-17\">[11]</a></sup></th></tr>,\n",
              " <tr style=\"text-align:center\"><td><span style=\"color: #0c0; font-weight:bold; font-size: larger;\">↗</span>668 000</td><td><span style=\"color: #0c0; font-weight:bold; font-size: larger;\">↗</span>928 000</td><td><span style=\"color: #0c0; font-weight:bold; font-size: larger;\">↗</span>1 033 600</td><td><span style=\"color: #0c0; font-weight:bold; font-size: larger;\">↗</span>1 264 920</td><td><span style=\"color: #0c0; font-weight:bold; font-size: larger;\">↗</span>1 418 000</td><td><span style=\"color: #0c0; font-weight:bold; font-size: larger;\">↗</span>1 439 600</td><td><span style=\"color: #0c0; font-weight:bold; font-size: larger;\">↗</span>1 905 600</td></tr>,\n",
              " <tr class=\"bright\"><th scope=\"col\">1914<sup class=\"reference\" id=\"cite_ref-1765BA_17-16\"><a href=\"#cite_note-1765BA-17\">[11]</a></sup></th><th scope=\"col\">1915<sup class=\"reference\" id=\"cite_ref-1764A_16-4\"><a href=\"#cite_note-1764A-16\">[10]</a></sup></th><th scope=\"col\">1916<sup class=\"reference\" id=\"cite_ref-1764A_16-5\"><a href=\"#cite_note-1764A-16\">[10]</a></sup></th><th scope=\"col\">1917<sup class=\"reference\" id=\"cite_ref-1764A_16-6\"><a href=\"#cite_note-1764A-16\">[10]</a></sup></th><th scope=\"col\">1918<sup class=\"reference\" id=\"cite_ref-1764A_16-7\"><a href=\"#cite_note-1764A-16\">[10]</a></sup></th><th scope=\"col\">1919<sup class=\"reference\" id=\"cite_ref-1764A_16-8\"><a href=\"#cite_note-1764A-16\">[10]</a></sup></th><th scope=\"col\">1920<sup class=\"reference\" id=\"cite_ref-1764A_16-9\"><a href=\"#cite_note-1764A-16\">[10]</a></sup></th></tr>,\n",
              " <tr style=\"text-align:center\"><td><span style=\"color: #0c0; font-weight:bold; font-size: larger;\">↗</span>2 118 500</td><td><span style=\"color: #0c0; font-weight:bold; font-size: larger;\">↗</span>2 314 500</td><td><span style=\"color: #0c0; font-weight:bold; font-size: larger;\">↗</span>2 415 700</td><td><span style=\"color: red; font-weight:bold; font-size: larger;\">↘</span>2 300 000</td><td><span style=\"color: red; font-weight:bold; font-size: larger;\">↘</span>1 469 000</td><td><span style=\"color: red; font-weight:bold; font-size: larger;\">↘</span>900 000</td><td><span style=\"color: red; font-weight:bold; font-size: larger;\">↘</span>740 000</td></tr>,\n",
              " <tr class=\"bright\"><th scope=\"col\">1921<sup class=\"reference\" id=\"cite_ref-1764A_16-10\"><a href=\"#cite_note-1764A-16\">[10]</a></sup></th><th scope=\"col\">1922<sup class=\"reference\" id=\"cite_ref-1764A_16-11\"><a href=\"#cite_note-1764A-16\">[10]</a></sup></th><th scope=\"col\">1923<sup class=\"reference\" id=\"cite_ref-1764A_16-12\"><a href=\"#cite_note-1764A-16\">[10]</a></sup></th><th scope=\"col\">1924<sup class=\"reference\" id=\"cite_ref-1764A_16-13\"><a href=\"#cite_note-1764A-16\">[10]</a></sup></th><th scope=\"col\">1925<sup class=\"reference\" id=\"cite_ref-1764A_16-14\"><a href=\"#cite_note-1764A-16\">[10]</a></sup></th><th scope=\"col\">1926<sup class=\"reference\" id=\"cite_ref-1937PER_19-0\"><a href=\"#cite_note-1937PER-19\">[13]</a></sup></th><th scope=\"col\">1928<sup class=\"reference\" id=\"cite_ref-20\"><a href=\"#cite_note-20\">[14]</a></sup></th></tr>,\n",
              " <tr style=\"text-align:center\"><td><span style=\"color: #0c0; font-weight:bold; font-size: larger;\">↗</span>830 000</td><td><span style=\"color: #0c0; font-weight:bold; font-size: larger;\">↗</span>960 000</td><td><span style=\"color: #0c0; font-weight:bold; font-size: larger;\">↗</span>1 093 000</td><td><span style=\"color: #0c0; font-weight:bold; font-size: larger;\">↗</span>1 221 000</td><td><span style=\"color: #0c0; font-weight:bold; font-size: larger;\">↗</span>1 379 000</td><td><span style=\"color: #0c0; font-weight:bold; font-size: larger;\">↗</span>1 560 122</td><td><span style=\"color: #0c0; font-weight:bold; font-size: larger;\">↗</span>1 688 300</td></tr>,\n",
              " <tr class=\"bright\"><th scope=\"col\">1930<sup class=\"reference\" id=\"cite_ref-1764A_16-15\"><a href=\"#cite_note-1764A-16\">[10]</a></sup></th><th scope=\"col\">1931<sup class=\"reference\" id=\"cite_ref-1931AD_21-0\"><a href=\"#cite_note-1931AD-21\">[15]</a></sup></th><th scope=\"col\">1935<sup class=\"reference\" id=\"cite_ref-1764A_16-16\"><a href=\"#cite_note-1764A-16\">[10]</a></sup></th><th scope=\"col\">1937<sup class=\"reference\" id=\"cite_ref-1937PER_19-1\"><a href=\"#cite_note-1937PER-19\">[13]</a></sup></th><th scope=\"col\">1939<sup class=\"reference\" id=\"cite_ref-1939AG_22-0\"><a href=\"#cite_note-1939AG-22\">[16]</a></sup></th><th scope=\"col\">1940<sup class=\"reference\" id=\"cite_ref-1764A_16-17\"><a href=\"#cite_note-1764A-16\">[10]</a></sup></th><th scope=\"col\">1941<sup class=\"reference\" id=\"cite_ref-1764A_16-18\"><a href=\"#cite_note-1764A-16\">[10]</a></sup></th></tr>,\n",
              " <tr style=\"text-align:center\"><td><span style=\"color: #0c0; font-weight:bold; font-size: larger;\">↗</span>2 009 500</td><td><span style=\"color: #0c0; font-weight:bold; font-size: larger;\">↗</span>2 236 515</td><td><span style=\"color: #0c0; font-weight:bold; font-size: larger;\">↗</span>2 715 700</td><td><span style=\"color: #0c0; font-weight:bold; font-size: larger;\">↗</span>2 814 474</td><td><span style=\"color: #0c0; font-weight:bold; font-size: larger;\">↗</span>3 191 304</td><td><span style=\"color: red; font-weight:bold; font-size: larger;\">↘</span>2 920 000</td><td><span style=\"color: #0c0; font-weight:bold; font-size: larger;\">↗</span>2 992 000</td></tr>,\n",
              " <tr class=\"bright\"><th scope=\"col\">1942<sup class=\"reference\" id=\"cite_ref-1764A_16-19\"><a href=\"#cite_note-1764A-16\">[10]</a></sup></th><th scope=\"col\">1943<sup class=\"reference\" id=\"cite_ref-1764A_16-20\"><a href=\"#cite_note-1764A-16\">[10]</a></sup></th><th scope=\"col\">1944<sup class=\"reference\" id=\"cite_ref-1764A_16-21\"><a href=\"#cite_note-1764A-16\">[10]</a></sup></th><th scope=\"col\">1945<sup class=\"reference\" id=\"cite_ref-1764A_16-22\"><a href=\"#cite_note-1764A-16\">[10]</a></sup></th><th scope=\"col\">1946<sup class=\"reference\" id=\"cite_ref-1764A_16-23\"><a href=\"#cite_note-1764A-16\">[10]</a></sup></th><th scope=\"col\">1947<sup class=\"reference\" id=\"cite_ref-1764A_16-24\"><a href=\"#cite_note-1764A-16\">[10]</a></sup></th><th scope=\"col\">1948<sup class=\"reference\" id=\"cite_ref-1764A_16-25\"><a href=\"#cite_note-1764A-16\">[10]</a></sup></th></tr>,\n",
              " <tr style=\"text-align:center\"><td><span style=\"color: red; font-weight:bold; font-size: larger;\">↘</span>2 432 000</td><td><span style=\"color: red; font-weight:bold; font-size: larger;\">↘</span>622 000</td><td><span style=\"color: red; font-weight:bold; font-size: larger;\">↘</span>546 000</td><td><span style=\"color: #0c0; font-weight:bold; font-size: larger;\">↗</span>927 000</td><td><span style=\"color: #0c0; font-weight:bold; font-size: larger;\">↗</span>1 541 000</td><td><span style=\"color: #0c0; font-weight:bold; font-size: larger;\">↗</span>1 920 000</td><td><span style=\"color: #0c0; font-weight:bold; font-size: larger;\">↗</span>1 998 000</td></tr>,\n",
              " <tr class=\"bright\"><th scope=\"col\">1949<sup class=\"reference\" id=\"cite_ref-1764A_16-26\"><a href=\"#cite_note-1764A-16\">[10]</a></sup></th><th scope=\"col\">1950<sup class=\"reference\" id=\"cite_ref-1764A_16-27\"><a href=\"#cite_note-1764A-16\">[10]</a></sup></th><th scope=\"col\">1955<sup class=\"reference\" id=\"cite_ref-1764A_16-28\"><a href=\"#cite_note-1764A-16\">[10]</a></sup></th><th scope=\"col\">1956<sup class=\"reference\" id=\"cite_ref-1956A_23-0\"><a href=\"#cite_note-1956A-23\">[17]</a></sup></th><th scope=\"col\">1959<sup class=\"reference\" id=\"cite_ref-1959B_24-0\"><a href=\"#cite_note-1959B-24\">[18]</a></sup></th><th scope=\"col\">1960<sup class=\"reference\" id=\"cite_ref-1764A_16-29\"><a href=\"#cite_note-1764A-16\">[10]</a></sup></th><th scope=\"col\">1962<sup class=\"reference\" id=\"cite_ref-1765BA_17-17\"><a href=\"#cite_note-1765BA-17\">[11]</a></sup></th></tr>,\n",
              " <tr style=\"text-align:center\"><td><span style=\"color: #0c0; font-weight:bold; font-size: larger;\">↗</span>2 218 000</td><td><span style=\"color: #0c0; font-weight:bold; font-size: larger;\">↗</span>2 258 000</td><td><span style=\"color: #0c0; font-weight:bold; font-size: larger;\">↗</span>2 797 000</td><td><span style=\"color: #0c0; font-weight:bold; font-size: larger;\">↗</span>2 814 000</td><td><span style=\"color: #0c0; font-weight:bold; font-size: larger;\">↗</span>3 321 196</td><td><span style=\"color: #0c0; font-weight:bold; font-size: larger;\">↗</span>3 432 000</td><td><span style=\"color: red; font-weight:bold; font-size: larger;\">↘</span>3 036 000</td></tr>,\n",
              " <tr class=\"bright\"><th scope=\"col\">1965<sup class=\"reference\" id=\"cite_ref-1764A_16-30\"><a href=\"#cite_note-1764A-16\">[10]</a></sup></th><th scope=\"col\">1967<sup class=\"reference\" id=\"cite_ref-1765BA_17-18\"><a href=\"#cite_note-1765BA-17\">[11]</a></sup></th><th scope=\"col\">1970<sup class=\"reference\" id=\"cite_ref-1970B_25-0\"><a href=\"#cite_note-1970B-25\">[19]</a></sup></th><th scope=\"col\">1973<sup class=\"reference\" id=\"cite_ref-1765BA_17-19\"><a href=\"#cite_note-1765BA-17\">[11]</a></sup></th><th scope=\"col\">1975<sup class=\"reference\" id=\"cite_ref-1998C_26-0\"><a href=\"#cite_note-1998C-26\">[20]</a></sup></th><th scope=\"col\">1976<sup class=\"reference\" id=\"cite_ref-1765BA_17-20\"><a href=\"#cite_note-1765BA-17\">[11]</a></sup></th><th scope=\"col\">1979<sup class=\"reference\" id=\"cite_ref-1979B_27-0\"><a href=\"#cite_note-1979B-27\">[21]</a></sup></th></tr>,\n",
              " <tr style=\"text-align:center\"><td><span style=\"color: #0c0; font-weight:bold; font-size: larger;\">↗</span>3 777 200</td><td><span style=\"color: red; font-weight:bold; font-size: larger;\">↘</span>3 296 000</td><td><span style=\"color: #0c0; font-weight:bold; font-size: larger;\">↗</span>3 949 501</td><td><span style=\"color: red; font-weight:bold; font-size: larger;\">↘</span>3 679 000</td><td><span style=\"color: #0c0; font-weight:bold; font-size: larger;\">↗</span>4 418 000</td><td><span style=\"color: red; font-weight:bold; font-size: larger;\">↘</span>3 915 000</td><td><span style=\"color: #0c0; font-weight:bold; font-size: larger;\">↗</span>4 588 183</td></tr>,\n",
              " <tr class=\"bright\"><th scope=\"col\">1980<sup class=\"reference\" id=\"cite_ref-1764A_16-31\"><a href=\"#cite_note-1764A-16\">[10]</a></sup></th><th scope=\"col\">1981<sup class=\"reference\" id=\"cite_ref-1764A_16-32\"><a href=\"#cite_note-1764A-16\">[10]</a></sup></th><th scope=\"col\">1982<sup class=\"reference\" id=\"cite_ref-1764A_16-33\"><a href=\"#cite_note-1764A-16\">[10]</a></sup></th><th scope=\"col\">1983<sup class=\"reference\" id=\"cite_ref-1764A_16-34\"><a href=\"#cite_note-1764A-16\">[10]</a></sup></th><th scope=\"col\">1984<sup class=\"reference\" id=\"cite_ref-1764A_16-35\"><a href=\"#cite_note-1764A-16\">[10]</a></sup></th><th scope=\"col\">1985<sup class=\"reference\" id=\"cite_ref-1764A_16-36\"><a href=\"#cite_note-1764A-16\">[10]</a></sup></th><th scope=\"col\">1986<sup class=\"reference\" id=\"cite_ref-1764A_16-37\"><a href=\"#cite_note-1764A-16\">[10]</a></sup></th></tr>,\n",
              " <tr style=\"text-align:center\"><td><span style=\"color: #0c0; font-weight:bold; font-size: larger;\">↗</span>4 635 200</td><td><span style=\"color: #0c0; font-weight:bold; font-size: larger;\">↗</span>4 669 400</td><td><span style=\"color: #0c0; font-weight:bold; font-size: larger;\">↗</span>4 711 200</td><td><span style=\"color: #0c0; font-weight:bold; font-size: larger;\">↗</span>4 762 100</td><td><span style=\"color: #0c0; font-weight:bold; font-size: larger;\">↗</span>4 806 400</td><td><span style=\"color: #0c0; font-weight:bold; font-size: larger;\">↗</span>4 844 200</td><td><span style=\"color: #0c0; font-weight:bold; font-size: larger;\">↗</span>4 882 200</td></tr>,\n",
              " <tr class=\"bright\"><th scope=\"col\">1987<sup class=\"reference\" id=\"cite_ref-1764A_16-38\"><a href=\"#cite_note-1764A-16\">[10]</a></sup></th><th scope=\"col\">1988<sup class=\"reference\" id=\"cite_ref-1764A_16-39\"><a href=\"#cite_note-1764A-16\">[10]</a></sup></th><th scope=\"col\">1989<sup class=\"reference\" id=\"cite_ref-1989A_28-0\"><a href=\"#cite_note-1989A-28\">[22]</a></sup></th><th scope=\"col\">1990<sup class=\"reference\" id=\"cite_ref-1990A_29-0\"><a href=\"#cite_note-1990A-29\">[23]</a></sup></th><th scope=\"col\">1991<sup class=\"reference\" id=\"cite_ref-1990A_29-1\"><a href=\"#cite_note-1990A-29\">[23]</a></sup></th><th scope=\"col\">1992<sup class=\"reference\" id=\"cite_ref-1990A_29-2\"><a href=\"#cite_note-1990A-29\">[23]</a></sup></th><th scope=\"col\">1993<sup class=\"reference\" id=\"cite_ref-1990A_29-3\"><a href=\"#cite_note-1990A-29\">[23]</a></sup></th></tr>,\n",
              " <tr style=\"text-align:center\"><td><span style=\"color: #0c0; font-weight:bold; font-size: larger;\">↗</span>4 931 200</td><td><span style=\"color: #0c0; font-weight:bold; font-size: larger;\">↗</span>4 986 900</td><td><span style=\"color: #0c0; font-weight:bold; font-size: larger;\">↗</span>5 023 506</td><td><span style=\"color: red; font-weight:bold; font-size: larger;\">↘</span>5 002 444</td><td><span style=\"color: #0c0; font-weight:bold; font-size: larger;\">↗</span>5 007 469</td><td><span style=\"color: red; font-weight:bold; font-size: larger;\">↘</span>4 986 405</td><td><span style=\"color: red; font-weight:bold; font-size: larger;\">↘</span>4 942 891</td></tr>,\n",
              " <tr class=\"bright\"><th scope=\"col\">1994<sup class=\"reference\" id=\"cite_ref-1990A_29-4\"><a href=\"#cite_note-1990A-29\">[23]</a></sup></th><th scope=\"col\">1995<sup class=\"reference\" id=\"cite_ref-1990A_29-5\"><a href=\"#cite_note-1990A-29\">[23]</a></sup></th><th scope=\"col\">1996<sup class=\"reference\" id=\"cite_ref-1990A_29-6\"><a href=\"#cite_note-1990A-29\">[23]</a></sup></th><th scope=\"col\">1997<sup class=\"reference\" id=\"cite_ref-1990A_29-7\"><a href=\"#cite_note-1990A-29\">[23]</a></sup></th><th scope=\"col\">1998<sup class=\"reference\" id=\"cite_ref-1990A_29-8\"><a href=\"#cite_note-1990A-29\">[23]</a></sup></th><th scope=\"col\">1999<sup class=\"reference\" id=\"cite_ref-1990A_29-9\"><a href=\"#cite_note-1990A-29\">[23]</a></sup></th><th scope=\"col\">2000<sup class=\"reference\" id=\"cite_ref-1990A_29-10\"><a href=\"#cite_note-1990A-29\">[23]</a></sup></th></tr>,\n",
              " <tr style=\"text-align:center\"><td><span style=\"color: red; font-weight:bold; font-size: larger;\">↘</span>4 881 563</td><td><span style=\"color: red; font-weight:bold; font-size: larger;\">↘</span>4 845 407</td><td><span style=\"color: red; font-weight:bold; font-size: larger;\">↘</span>4 820 213</td><td><span style=\"color: red; font-weight:bold; font-size: larger;\">↘</span>4 806 641</td><td><span style=\"color: red; font-weight:bold; font-size: larger;\">↘</span>4 783 982</td><td><span style=\"color: red; font-weight:bold; font-size: larger;\">↘</span>4 770 897</td><td><span style=\"color: red; font-weight:bold; font-size: larger;\">↘</span>4 741 923</td></tr>,\n",
              " <tr class=\"bright\"><th scope=\"col\">2001<sup class=\"reference\" id=\"cite_ref-1990A_29-11\"><a href=\"#cite_note-1990A-29\">[23]</a></sup></th><th scope=\"col\">2002<sup class=\"reference\" id=\"cite_ref-2002B_30-0\"><a href=\"#cite_note-2002B-30\">[24]</a></sup></th><th scope=\"col\">2003<sup class=\"reference\" id=\"cite_ref-1990A_29-12\"><a href=\"#cite_note-1990A-29\">[23]</a></sup></th><th scope=\"col\">2004<sup class=\"reference\" id=\"cite_ref-1990A_29-13\"><a href=\"#cite_note-1990A-29\">[23]</a></sup></th><th scope=\"col\">2005<sup class=\"reference\" id=\"cite_ref-1990A_29-14\"><a href=\"#cite_note-1990A-29\">[23]</a></sup></th><th scope=\"col\">2006<sup class=\"reference\" id=\"cite_ref-1990A_29-15\"><a href=\"#cite_note-1990A-29\">[23]</a></sup></th><th scope=\"col\">2007<sup class=\"reference\" id=\"cite_ref-1990A_29-16\"><a href=\"#cite_note-1990A-29\">[23]</a></sup></th></tr>,\n",
              " <tr style=\"text-align:center\"><td><span style=\"color: red; font-weight:bold; font-size: larger;\">↘</span>4 714 844</td><td><span style=\"color: red; font-weight:bold; font-size: larger;\">↘</span>4 661 219</td><td><span style=\"color: red; font-weight:bold; font-size: larger;\">↘</span>4 656 474</td><td><span style=\"color: red; font-weight:bold; font-size: larger;\">↘</span>4 624 083</td><td><span style=\"color: red; font-weight:bold; font-size: larger;\">↘</span>4 600 000</td><td><span style=\"color: red; font-weight:bold; font-size: larger;\">↘</span>4 580 620</td><td><span style=\"color: red; font-weight:bold; font-size: larger;\">↘</span>4 571 184</td></tr>,\n",
              " <tr class=\"bright\"><th scope=\"col\">2008<sup class=\"reference\" id=\"cite_ref-1990A_29-17\"><a href=\"#cite_note-1990A-29\">[23]</a></sup></th><th scope=\"col\">2009<sup class=\"reference\" id=\"cite_ref-1990A_29-18\"><a href=\"#cite_note-1990A-29\">[23]</a></sup></th><th scope=\"col\">2010<sup class=\"reference\" id=\"cite_ref-2010W_31-0\"><a href=\"#cite_note-2010W-31\">[25]</a></sup></th><th scope=\"col\">2011<sup class=\"reference\" id=\"cite_ref-1990A_29-19\"><a href=\"#cite_note-1990A-29\">[23]</a></sup></th><th scope=\"col\">2012<sup class=\"reference\" id=\"cite_ref-2012A_32-0\"><a href=\"#cite_note-2012A-32\">[26]</a></sup></th><th scope=\"col\">2013<sup class=\"reference\" id=\"cite_ref-2013W_33-0\"><a href=\"#cite_note-2013W-33\">[27]</a></sup></th><th scope=\"col\">2014<sup class=\"reference\" id=\"cite_ref-2014CQ_34-0\"><a href=\"#cite_note-2014CQ-34\">[28]</a></sup></th></tr>,\n",
              " <tr style=\"text-align:center\"><td><span style=\"color: red; font-weight:bold; font-size: larger;\">↘</span>4 568 047</td><td><span style=\"color: #0c0; font-weight:bold; font-size: larger;\">↗</span>4 581 854</td><td><span style=\"color: #0c0; font-weight:bold; font-size: larger;\">↗</span>4 879 566</td><td><span style=\"color: #0c0; font-weight:bold; font-size: larger;\">↗</span>4 899 344</td><td><span style=\"color: #0c0; font-weight:bold; font-size: larger;\">↗</span>4 953 219</td><td><span style=\"color: #0c0; font-weight:bold; font-size: larger;\">↗</span>5 028 000</td><td><span style=\"color: #0c0; font-weight:bold; font-size: larger;\">↗</span>5 131 942</td></tr>,\n",
              " <tr class=\"bright\"><th scope=\"col\">2015<sup class=\"reference\" id=\"cite_ref-2015DS_35-0\"><a href=\"#cite_note-2015DS-35\">[29]</a></sup></th><th scope=\"col\">2016<sup class=\"reference\" id=\"cite_ref-2016AA_36-0\"><a href=\"#cite_note-2016AA-36\">[30]</a></sup></th><th scope=\"col\">2017<sup class=\"reference\" id=\"cite_ref-2017AA_37-0\"><a href=\"#cite_note-2017AA-37\">[31]</a></sup></th><th scope=\"col\">2018<sup class=\"reference\" id=\"cite_ref-2018AA_38-0\"><a href=\"#cite_note-2018AA-38\">[32]</a></sup></th><th scope=\"col\">2019<sup class=\"reference\" id=\"cite_ref-2019AA_39-0\"><a href=\"#cite_note-2019AA-39\">[33]</a></sup></th><th scope=\"col\">2020<sup class=\"reference\" id=\"cite_ref-2020AA_40-0\"><a href=\"#cite_note-2020AA-40\">[34]</a></sup></th><th scope=\"col\">2021<sup class=\"reference\" id=\"cite_ref-2021RU_41-0\"><a href=\"#cite_note-2021RU-41\">[35]</a></sup></th></tr>,\n",
              " <tr style=\"text-align:center\"><td><span style=\"color: #0c0; font-weight:bold; font-size: larger;\">↗</span>5 191 690</td><td><span style=\"color: #0c0; font-weight:bold; font-size: larger;\">↗</span>5 225 690</td><td><span style=\"color: #0c0; font-weight:bold; font-size: larger;\">↗</span>5 281 579</td><td><span style=\"color: #0c0; font-weight:bold; font-size: larger;\">↗</span>5 351 935</td><td><span style=\"color: #0c0; font-weight:bold; font-size: larger;\">↗</span>5 383 890</td><td><span style=\"color: #0c0; font-weight:bold; font-size: larger;\">↗</span>5 398 064</td><td><span style=\"color: #0c0; font-weight:bold; font-size: larger;\">↗</span>5 601 911</td></tr>,\n",
              " <tr class=\"bright\"><th scope=\"col\">2022<sup class=\"reference\" id=\"cite_ref-2022AB_42-0\"><a href=\"#cite_note-2022AB-42\">[36]</a></sup></th><th scope=\"col\">2023<sup class=\"reference\" id=\"cite_ref-2023AA_43-0\"><a href=\"#cite_note-2023AA-43\">[37]</a></sup></th><th scope=\"col\"></th><th scope=\"col\"></th><th scope=\"col\"></th><th scope=\"col\"></th><th scope=\"col\"></th></tr>,\n",
              " <tr style=\"text-align:center\"><td><span style=\"color: #0c0; font-weight:bold; font-size: larger;\">↗</span>5 607 916</td><td><span style=\"color: red; font-weight:bold; font-size: larger;\">↘</span>5 600 044</td><td></td><td></td><td></td><td></td><td></td></tr>,\n",
              " <tr class=\"bright\"><th scope=\"col\">1350</th><th scope=\"col\">1400</th><th scope=\"col\">1600</th><th scope=\"col\">1638</th><th scope=\"col\">1710</th><th scope=\"col\">1725</th><th scope=\"col\">1738</th></tr>,\n",
              " <tr style=\"text-align:center\"><td>30 000</td><td><span style=\"color: #0c0; font-weight:bold; font-size: larger;\">↗</span>40 000</td><td><span style=\"color: #0c0; font-weight:bold; font-size: larger;\">↗</span>100 000</td><td><span style=\"color: #0c0; font-weight:bold; font-size: larger;\">↗</span>200 000</td><td><span style=\"color: red; font-weight:bold; font-size: larger;\">↘</span>160 000</td><td><span style=\"color: red; font-weight:bold; font-size: larger;\">↘</span>145 000</td><td><span style=\"color: red; font-weight:bold; font-size: larger;\">↘</span>138 400</td></tr>,\n",
              " <tr class=\"bright\"><th scope=\"col\">1750</th><th scope=\"col\">1775</th><th scope=\"col\">1785<sup class=\"reference\" id=\"cite_ref-1785BA_44-0\"><a href=\"#cite_note-1785BA-44\">[38]</a></sup></th><th scope=\"col\">1800</th><th scope=\"col\">1811<sup class=\"reference\" id=\"cite_ref-1785BA_44-1\"><a href=\"#cite_note-1785BA-44\">[38]</a></sup></th><th scope=\"col\">1813</th><th scope=\"col\">1825<sup class=\"reference\" id=\"cite_ref-1785BA_44-2\"><a href=\"#cite_note-1785BA-44\">[38]</a></sup></th></tr>,\n",
              " <tr style=\"text-align:center\"><td><span style=\"color: red; font-weight:bold; font-size: larger;\">↘</span>130 000</td><td><span style=\"color: #0c0; font-weight:bold; font-size: larger;\">↗</span>161 000</td><td><span style=\"color: #0c0; font-weight:bold; font-size: larger;\">↗</span>188 700</td><td><span style=\"color: #0c0; font-weight:bold; font-size: larger;\">↗</span>250 000</td><td><span style=\"color: #0c0; font-weight:bold; font-size: larger;\">↗</span>270 200</td><td><span style=\"color: red; font-weight:bold; font-size: larger;\">↘</span>215 000</td><td><span style=\"color: #0c0; font-weight:bold; font-size: larger;\">↗</span>241 500</td></tr>,\n",
              " <tr class=\"bright\"><th scope=\"col\">1830<sup class=\"reference\" id=\"cite_ref-1785BA_44-3\"><a href=\"#cite_note-1785BA-44\">[38]</a></sup></th><th scope=\"col\">1835<sup class=\"reference\" id=\"cite_ref-1785BA_44-4\"><a href=\"#cite_note-1785BA-44\">[38]</a></sup></th><th scope=\"col\">1840<sup class=\"reference\" id=\"cite_ref-1785BA_44-5\"><a href=\"#cite_note-1785BA-44\">[38]</a></sup></th><th scope=\"col\">1847<sup class=\"reference\" id=\"cite_ref-1785BA_44-6\"><a href=\"#cite_note-1785BA-44\">[38]</a></sup></th><th scope=\"col\">1852</th><th scope=\"col\">1856<sup class=\"reference\" id=\"cite_ref-1785BA_44-7\"><a href=\"#cite_note-1785BA-44\">[38]</a></sup></th><th scope=\"col\">1858<sup class=\"reference\" id=\"cite_ref-1785BA_44-8\"><a href=\"#cite_note-1785BA-44\">[38]</a></sup></th></tr>,\n",
              " <tr style=\"text-align:center\"><td><span style=\"color: #0c0; font-weight:bold; font-size: larger;\">↗</span>305 600</td><td><span style=\"color: #0c0; font-weight:bold; font-size: larger;\">↗</span>335 800</td><td><span style=\"color: #0c0; font-weight:bold; font-size: larger;\">↗</span>349 100</td><td><span style=\"color: #0c0; font-weight:bold; font-size: larger;\">↗</span>353 300</td><td><span style=\"color: #0c0; font-weight:bold; font-size: larger;\">↗</span>373 800</td><td><span style=\"color: red; font-weight:bold; font-size: larger;\">↘</span>368 800</td><td><span style=\"color: #0c0; font-weight:bold; font-size: larger;\">↗</span>377 800</td></tr>,\n",
              " <tr class=\"bright\"><th scope=\"col\">1859<sup class=\"reference\" id=\"cite_ref-1785BA_44-9\"><a href=\"#cite_note-1785BA-44\">[38]</a></sup></th><th scope=\"col\">1863<sup class=\"reference\" id=\"cite_ref-1785BA_44-10\"><a href=\"#cite_note-1785BA-44\">[38]</a></sup></th><th scope=\"col\">1864</th><th scope=\"col\">1868</th><th scope=\"col\">1871</th><th scope=\"col\">1882<sup class=\"reference\" id=\"cite_ref-1785BA_44-11\"><a href=\"#cite_note-1785BA-44\">[38]</a></sup></th><th scope=\"col\">1886</th></tr>,\n",
              " <tr style=\"text-align:center\"><td><span style=\"color: #0c0; font-weight:bold; font-size: larger;\">↗</span>379 300</td><td><span style=\"color: #0c0; font-weight:bold; font-size: larger;\">↗</span>462 500</td><td><span style=\"color: red; font-weight:bold; font-size: larger;\">↘</span>351 600</td><td><span style=\"color: #0c0; font-weight:bold; font-size: larger;\">↗</span>416 400</td><td><span style=\"color: #0c0; font-weight:bold; font-size: larger;\">↗</span>601 969</td><td><span style=\"color: #0c0; font-weight:bold; font-size: larger;\">↗</span>753 500</td><td><span style=\"color: red; font-weight:bold; font-size: larger;\">↘</span>753 459</td></tr>,\n",
              " <tr class=\"bright\"><th scope=\"col\">1891</th><th scope=\"col\">1897<sup class=\"reference\" id=\"cite_ref-1897C_45-0\"><a href=\"#cite_note-1897C-45\">[39]</a></sup></th><th scope=\"col\">1900</th><th scope=\"col\">1902<sup class=\"reference\" id=\"cite_ref-1785BA_44-12\"><a href=\"#cite_note-1785BA-44\">[38]</a></sup></th><th scope=\"col\">1907<sup class=\"reference\" id=\"cite_ref-1785BA_44-13\"><a href=\"#cite_note-1785BA-44\">[38]</a></sup></th><th scope=\"col\">1908</th><th scope=\"col\">1912</th></tr>,\n",
              " <tr style=\"text-align:center\"><td><span style=\"color: #0c0; font-weight:bold; font-size: larger;\">↗</span>822 400</td><td><span style=\"color: #0c0; font-weight:bold; font-size: larger;\">↗</span>1 039 000</td><td><span style=\"color: #0c0; font-weight:bold; font-size: larger;\">↗</span>1 175 000</td><td><span style=\"color: red; font-weight:bold; font-size: larger;\">↘</span>1 174 700</td><td><span style=\"color: #0c0; font-weight:bold; font-size: larger;\">↗</span>1 345 700</td><td><span style=\"color: #0c0; font-weight:bold; font-size: larger;\">↗</span>1 359 200</td><td><span style=\"color: #0c0; font-weight:bold; font-size: larger;\">↗</span>1 617 157</td></tr>,\n",
              " <tr class=\"bright\"><th scope=\"col\">1913<sup class=\"reference\" id=\"cite_ref-1785BA_44-14\"><a href=\"#cite_note-1785BA-44\">[38]</a></sup></th><th scope=\"col\">1914<sup class=\"reference\" id=\"cite_ref-1785BA_44-15\"><a href=\"#cite_note-1785BA-44\">[38]</a></sup></th><th scope=\"col\">1915</th><th scope=\"col\">1917<sup class=\"reference\" id=\"cite_ref-1785BA_44-16\"><a href=\"#cite_note-1785BA-44\">[38]</a></sup></th><th scope=\"col\">1920</th><th scope=\"col\">1923<sup class=\"reference\" id=\"cite_ref-1785BA_44-17\"><a href=\"#cite_note-1785BA-44\">[38]</a></sup></th><th scope=\"col\">1926<sup class=\"reference\" id=\"cite_ref-1937PER_19-2\"><a href=\"#cite_note-1937PER-19\">[13]</a></sup></th></tr>,\n",
              " <tr style=\"text-align:center\"><td><span style=\"color: red; font-weight:bold; font-size: larger;\">↘</span>1 563 100</td><td><span style=\"color: #0c0; font-weight:bold; font-size: larger;\">↗</span>1 762 700</td><td><span style=\"color: #0c0; font-weight:bold; font-size: larger;\">↗</span>1 817 000</td><td><span style=\"color: #0c0; font-weight:bold; font-size: larger;\">↗</span>1 854 400</td><td><span style=\"color: red; font-weight:bold; font-size: larger;\">↘</span>1 028 200</td><td><span style=\"color: #0c0; font-weight:bold; font-size: larger;\">↗</span>1 542 900</td><td><span style=\"color: #0c0; font-weight:bold; font-size: larger;\">↗</span>1 995 252</td></tr>,\n",
              " <tr class=\"bright\"><th scope=\"col\">1928<sup class=\"reference\" id=\"cite_ref-1928A_46-0\"><a href=\"#cite_note-1928A-46\">[40]</a></sup></th><th scope=\"col\">1931<sup class=\"reference\" id=\"cite_ref-1931AD_21-1\"><a href=\"#cite_note-1931AD-21\">[15]</a></sup></th><th scope=\"col\">1936</th><th scope=\"col\">1937<sup class=\"reference\" id=\"cite_ref-1937PER_19-3\"><a href=\"#cite_note-1937PER-19\">[13]</a></sup></th><th scope=\"col\">1939<sup class=\"reference\" id=\"cite_ref-1939AH_47-0\"><a href=\"#cite_note-1939AH-47\">[41]</a></sup></th><th scope=\"col\">1941<sup class=\"reference\" id=\"cite_ref-2020RAN_48-0\"><a href=\"#cite_note-2020RAN-48\">[42]</a></sup></th><th scope=\"col\">1942<sup class=\"reference\" id=\"cite_ref-2020RAN_48-1\"><a href=\"#cite_note-2020RAN-48\">[42]</a></sup></th></tr>,\n",
              " <tr style=\"text-align:center\"><td><span style=\"color: #0c0; font-weight:bold; font-size: larger;\">↗</span>2 127 200</td><td><span style=\"color: #0c0; font-weight:bold; font-size: larger;\">↗</span>2 781 340</td><td><span style=\"color: #0c0; font-weight:bold; font-size: larger;\">↗</span>3 641 500</td><td><span style=\"color: #0c0; font-weight:bold; font-size: larger;\">↗</span>3 798 078</td><td><span style=\"color: #0c0; font-weight:bold; font-size: larger;\">↗</span>4 131 633</td><td><span style=\"color: #0c0; font-weight:bold; font-size: larger;\">↗</span>4 345 400</td><td><span style=\"color: red; font-weight:bold; font-size: larger;\">↘</span>2 361 500</td></tr>,\n",
              " <tr class=\"bright\"><th scope=\"col\">1943<sup class=\"reference\" id=\"cite_ref-2020RAN_48-2\"><a href=\"#cite_note-2020RAN-48\">[42]</a></sup></th><th scope=\"col\">1945<sup class=\"reference\" id=\"cite_ref-2020RAN_48-3\"><a href=\"#cite_note-2020RAN-48\">[42]</a></sup></th><th scope=\"col\">1956<sup class=\"reference\" id=\"cite_ref-1956A_23-1\"><a href=\"#cite_note-1956A-23\">[17]</a></sup></th><th scope=\"col\">1959<sup class=\"reference\" id=\"cite_ref-1959C_49-0\"><a href=\"#cite_note-1959C-49\">[43]</a></sup></th><th scope=\"col\">1963<sup class=\"reference\" id=\"cite_ref-50\"><a href=\"#cite_note-50\">[44]</a></sup></th><th scope=\"col\">1967<sup class=\"reference\" id=\"cite_ref-1785BA_44-18\"><a href=\"#cite_note-1785BA-44\">[38]</a></sup></th><th scope=\"col\">1970<sup class=\"reference\" id=\"cite_ref-1970E_51-0\"><a href=\"#cite_note-1970E-51\">[45]</a></sup></th></tr>,\n",
              " <tr style=\"text-align:center\"><td><span style=\"color: #0c0; font-weight:bold; font-size: larger;\">↗</span>2 743 600</td><td><span style=\"color: #0c0; font-weight:bold; font-size: larger;\">↗</span>3 361 000</td><td><span style=\"color: #0c0; font-weight:bold; font-size: larger;\">↗</span>4 839 000</td><td><span style=\"color: #0c0; font-weight:bold; font-size: larger;\">↗</span>5 045 905</td><td><span style=\"color: #0c0; font-weight:bold; font-size: larger;\">↗</span>6 354 000</td><td><span style=\"color: #0c0; font-weight:bold; font-size: larger;\">↗</span>6 422 000</td><td><span style=\"color: #0c0; font-weight:bold; font-size: larger;\">↗</span>6 941 961</td></tr>,\n",
              " <tr class=\"bright\"><th scope=\"col\">1972<sup class=\"reference\" id=\"cite_ref-1785BA_44-19\"><a href=\"#cite_note-1785BA-44\">[38]</a></sup></th><th scope=\"col\">1973<sup class=\"reference\" id=\"cite_ref-1785BA_44-20\"><a href=\"#cite_note-1785BA-44\">[38]</a></sup></th><th scope=\"col\">1975<sup class=\"reference\" id=\"cite_ref-1998C_26-1\"><a href=\"#cite_note-1998C-26\">[20]</a></sup></th><th scope=\"col\">1976<sup class=\"reference\" id=\"cite_ref-52\"><a href=\"#cite_note-52\">[46]</a></sup></th><th scope=\"col\">1979<sup class=\"reference\" id=\"cite_ref-1979D_53-0\"><a href=\"#cite_note-1979D-53\">[47]</a></sup></th><th scope=\"col\">1982<sup class=\"reference\" id=\"cite_ref-1982A_54-0\"><a href=\"#cite_note-1982A-54\">[48]</a></sup></th><th scope=\"col\">1985<sup class=\"reference\" id=\"cite_ref-2001G_55-0\"><a href=\"#cite_note-2001G-55\">[49]</a></sup></th></tr>,\n",
              " <tr style=\"text-align:center\"><td><span style=\"color: #0c0; font-weight:bold; font-size: larger;\">↗</span>7 151 000</td><td><span style=\"color: #0c0; font-weight:bold; font-size: larger;\">↗</span>7 255 000</td><td><span style=\"color: #0c0; font-weight:bold; font-size: larger;\">↗</span>7 862 000</td><td><span style=\"color: red; font-weight:bold; font-size: larger;\">↘</span>7 734 000</td><td><span style=\"color: #0c0; font-weight:bold; font-size: larger;\">↗</span>7 830 509</td><td><span style=\"color: #0c0; font-weight:bold; font-size: larger;\">↗</span>8 111 000</td><td><span style=\"color: #0c0; font-weight:bold; font-size: larger;\">↗</span>8 652 000</td></tr>,\n",
              " <tr class=\"bright\"><th scope=\"col\">1986<sup class=\"reference\" id=\"cite_ref-1785BA_44-21\"><a href=\"#cite_note-1785BA-44\">[38]</a></sup></th><th scope=\"col\">1987<sup class=\"reference\" id=\"cite_ref-1987A_56-0\"><a href=\"#cite_note-1987A-56\">[50]</a></sup></th><th scope=\"col\">1989<sup class=\"reference\" id=\"cite_ref-1989C_57-0\"><a href=\"#cite_note-1989C-57\">[51]</a></sup></th><th scope=\"col\">1990<sup class=\"reference\" id=\"cite_ref-1990A_29-20\"><a href=\"#cite_note-1990A-29\">[23]</a></sup></th><th scope=\"col\">1991<sup class=\"reference\" id=\"cite_ref-1990A_29-21\"><a href=\"#cite_note-1990A-29\">[23]</a></sup></th><th scope=\"col\">1992<sup class=\"reference\" id=\"cite_ref-1990A_29-22\"><a href=\"#cite_note-1990A-29\">[23]</a></sup></th><th scope=\"col\">1993<sup class=\"reference\" id=\"cite_ref-1990A_29-23\"><a href=\"#cite_note-1990A-29\">[23]</a></sup></th></tr>,\n",
              " <tr style=\"text-align:center\"><td><span style=\"color: red; font-weight:bold; font-size: larger;\">↘</span>8 527 000</td><td><span style=\"color: #0c0; font-weight:bold; font-size: larger;\">↗</span>8 815 000</td><td><span style=\"color: red; font-weight:bold; font-size: larger;\">↘</span>8 769 117</td><td><span style=\"color: #0c0; font-weight:bold; font-size: larger;\">↗</span>8 880 124</td><td><span style=\"color: #0c0; font-weight:bold; font-size: larger;\">↗</span>9 017 415</td><td><span style=\"color: #0c0; font-weight:bold; font-size: larger;\">↗</span>9 067 808</td><td><span style=\"color: red; font-weight:bold; font-size: larger;\">↘</span>9 066 025</td></tr>,\n",
              " <tr class=\"bright\"><th scope=\"col\">1994<sup class=\"reference\" id=\"cite_ref-1990A_29-24\"><a href=\"#cite_note-1990A-29\">[23]</a></sup></th><th scope=\"col\">1995<sup class=\"reference\" id=\"cite_ref-1990A_29-25\"><a href=\"#cite_note-1990A-29\">[23]</a></sup></th><th scope=\"col\">1996<sup class=\"reference\" id=\"cite_ref-1990A_29-26\"><a href=\"#cite_note-1990A-29\">[23]</a></sup></th><th scope=\"col\">1997<sup class=\"reference\" id=\"cite_ref-1990A_29-27\"><a href=\"#cite_note-1990A-29\">[23]</a></sup></th><th scope=\"col\">1998<sup class=\"reference\" id=\"cite_ref-1990A_29-28\"><a href=\"#cite_note-1990A-29\">[23]</a></sup></th><th scope=\"col\">1999<sup class=\"reference\" id=\"cite_ref-1990A_29-29\"><a href=\"#cite_note-1990A-29\">[23]</a></sup></th><th scope=\"col\">2000<sup class=\"reference\" id=\"cite_ref-1990A_29-30\"><a href=\"#cite_note-1990A-29\">[23]</a></sup></th></tr>,\n",
              " <tr style=\"text-align:center\"><td><span style=\"color: #0c0; font-weight:bold; font-size: larger;\">↗</span>9 066 612</td><td><span style=\"color: #0c0; font-weight:bold; font-size: larger;\">↗</span>9 085 457</td><td><span style=\"color: #0c0; font-weight:bold; font-size: larger;\">↗</span>9 246 727</td><td><span style=\"color: #0c0; font-weight:bold; font-size: larger;\">↗</span>9 411 236</td><td><span style=\"color: #0c0; font-weight:bold; font-size: larger;\">↗</span>9 604 297</td><td><span style=\"color: #0c0; font-weight:bold; font-size: larger;\">↗</span>9 783 242</td><td><span style=\"color: #0c0; font-weight:bold; font-size: larger;\">↗</span>9 932 932</td></tr>,\n",
              " <tr class=\"bright\"><th scope=\"col\">2001<sup class=\"reference\" id=\"cite_ref-1990A_29-31\"><a href=\"#cite_note-1990A-29\">[23]</a></sup></th><th scope=\"col\">2002<sup class=\"reference\" id=\"cite_ref-2002B_30-1\"><a href=\"#cite_note-2002B-30\">[24]</a></sup></th><th scope=\"col\">2003<sup class=\"reference\" id=\"cite_ref-1990A_29-32\"><a href=\"#cite_note-1990A-29\">[23]</a></sup></th><th scope=\"col\">2004<sup class=\"reference\" id=\"cite_ref-1990A_29-33\"><a href=\"#cite_note-1990A-29\">[23]</a></sup></th><th scope=\"col\">2005<sup class=\"reference\" id=\"cite_ref-1990A_29-34\"><a href=\"#cite_note-1990A-29\">[23]</a></sup></th><th scope=\"col\">2006<sup class=\"reference\" id=\"cite_ref-1990A_29-35\"><a href=\"#cite_note-1990A-29\">[23]</a></sup></th><th scope=\"col\">2007<sup class=\"reference\" id=\"cite_ref-1990A_29-36\"><a href=\"#cite_note-1990A-29\">[23]</a></sup></th></tr>,\n",
              " <tr style=\"text-align:center\"><td><span style=\"color: #0c0; font-weight:bold; font-size: larger;\">↗</span>10 114 203</td><td><span style=\"color: #0c0; font-weight:bold; font-size: larger;\">↗</span>10 382 754</td><td><span style=\"color: #0c0; font-weight:bold; font-size: larger;\">↗</span>10 386 903</td><td><span style=\"color: #0c0; font-weight:bold; font-size: larger;\">↗</span>10 535 681</td><td><span style=\"color: #0c0; font-weight:bold; font-size: larger;\">↗</span>10 726 429</td><td><span style=\"color: #0c0; font-weight:bold; font-size: larger;\">↗</span>10 923 762</td><td><span style=\"color: #0c0; font-weight:bold; font-size: larger;\">↗</span>11 091 428</td></tr>,\n",
              " <tr class=\"bright\"><th scope=\"col\">2008<sup class=\"reference\" id=\"cite_ref-1990A_29-37\"><a href=\"#cite_note-1990A-29\">[23]</a></sup></th><th scope=\"col\">2009<sup class=\"reference\" id=\"cite_ref-1990A_29-38\"><a href=\"#cite_note-1990A-29\">[23]</a></sup></th><th scope=\"col\">2010<sup class=\"reference\" id=\"cite_ref-2010W_31-1\"><a href=\"#cite_note-2010W-31\">[25]</a></sup></th><th scope=\"col\">2011<sup class=\"reference\" id=\"cite_ref-1990A_29-39\"><a href=\"#cite_note-1990A-29\">[23]</a></sup></th><th scope=\"col\">2012<sup class=\"reference\" id=\"cite_ref-1990A_29-40\"><a href=\"#cite_note-1990A-29\">[23]</a></sup></th><th scope=\"col\">2013<sup class=\"reference\" id=\"cite_ref-2013W_33-1\"><a href=\"#cite_note-2013W-33\">[27]</a></sup></th><th scope=\"col\">2014<sup class=\"reference\" id=\"cite_ref-2014CQ_34-1\"><a href=\"#cite_note-2014CQ-34\">[28]</a></sup></th></tr>,\n",
              " <tr style=\"text-align:center\"><td><span style=\"color: #0c0; font-weight:bold; font-size: larger;\">↗</span>11 186 851</td><td><span style=\"color: #0c0; font-weight:bold; font-size: larger;\">↗</span>11 281 631</td><td><span style=\"color: #0c0; font-weight:bold; font-size: larger;\">↗</span>11 503 501</td><td><span style=\"color: #0c0; font-weight:bold; font-size: larger;\">↗</span>11 776 764</td><td><span style=\"color: #0c0; font-weight:bold; font-size: larger;\">↗</span>11 856 578</td><td><span style=\"color: #0c0; font-weight:bold; font-size: larger;\">↗</span>11 979 529</td><td><span style=\"color: #0c0; font-weight:bold; font-size: larger;\">↗</span>12 108 257</td></tr>,\n",
              " <tr class=\"bright\"><th scope=\"col\">2015<sup class=\"reference\" id=\"cite_ref-2015DS_35-1\"><a href=\"#cite_note-2015DS-35\">[29]</a></sup></th><th scope=\"col\">2016<sup class=\"reference\" id=\"cite_ref-2016AA_36-1\"><a href=\"#cite_note-2016AA-36\">[30]</a></sup></th><th scope=\"col\">2017<sup class=\"reference\" id=\"cite_ref-2017AA_37-1\"><a href=\"#cite_note-2017AA-37\">[31]</a></sup></th><th scope=\"col\">2018<sup class=\"reference\" id=\"cite_ref-2018AA_38-1\"><a href=\"#cite_note-2018AA-38\">[32]</a></sup></th><th scope=\"col\">2019<sup class=\"reference\" id=\"cite_ref-2019AA_39-1\"><a href=\"#cite_note-2019AA-39\">[33]</a></sup></th><th scope=\"col\">2020<sup class=\"reference\" id=\"cite_ref-2020AA_40-1\"><a href=\"#cite_note-2020AA-40\">[34]</a></sup></th><th scope=\"col\">2021<sup class=\"reference\" id=\"cite_ref-2021RU_41-1\"><a href=\"#cite_note-2021RU-41\">[35]</a></sup></th></tr>,\n",
              " <tr style=\"text-align:center\"><td><span style=\"color: #0c0; font-weight:bold; font-size: larger;\">↗</span>12 197 596</td><td><span style=\"color: #0c0; font-weight:bold; font-size: larger;\">↗</span>12 330 126</td><td><span style=\"color: #0c0; font-weight:bold; font-size: larger;\">↗</span>12 380 664</td><td><span style=\"color: #0c0; font-weight:bold; font-size: larger;\">↗</span>12 506 468</td><td><span style=\"color: #0c0; font-weight:bold; font-size: larger;\">↗</span>12 615 279</td><td><span style=\"color: #0c0; font-weight:bold; font-size: larger;\">↗</span>12 678 079</td><td><span style=\"color: #0c0; font-weight:bold; font-size: larger;\">↗</span>13 010 112</td></tr>,\n",
              " <tr class=\"bright\"><th scope=\"col\">2022<sup class=\"reference\" id=\"cite_ref-2022AB_42-1\"><a href=\"#cite_note-2022AB-42\">[36]</a></sup></th><th scope=\"col\">2023<sup class=\"reference\" id=\"cite_ref-2023AA_43-1\"><a href=\"#cite_note-2023AA-43\">[37]</a></sup></th><th scope=\"col\"></th><th scope=\"col\"></th><th scope=\"col\"></th><th scope=\"col\"></th><th scope=\"col\"></th></tr>,\n",
              " <tr style=\"text-align:center\"><td><span style=\"color: #0c0; font-weight:bold; font-size: larger;\">↗</span>13 015 126</td><td><span style=\"color: #0c0; font-weight:bold; font-size: larger;\">↗</span>13 104 177</td><td></td><td></td><td></td><td></td><td></td></tr>,\n",
              " <tr><th class=\"navbox-title\" colspan=\"2\" scope=\"colgroup\"><span class=\"navbox-gear\" style=\"float:left;text-align:left;width:5em;margin-right:0.5em\"><span class=\"noprint\" typeof=\"mw:File\"><a href=\"/wiki/%D0%A8%D0%B0%D0%B1%D0%BB%D0%BE%D0%BD:%D0%93%D0%BE%D1%80%D0%BE%D0%B4%D0%B0_%D0%A0%D0%BE%D1%81%D1%81%D0%B8%D0%B8\" title=\"Перейти к шаблону «Города России»\"><img alt=\"Перейти к шаблону «Города России»\" class=\"mw-file-element\" data-file-height=\"14\" data-file-width=\"14\" decoding=\"async\" height=\"14\" src=\"//upload.wikimedia.org/wikipedia/commons/thumb/c/c9/Wikipedia_interwiki_section_gear_icon.svg/14px-Wikipedia_interwiki_section_gear_icon.svg.png\" srcset=\"//upload.wikimedia.org/wikipedia/commons/thumb/c/c9/Wikipedia_interwiki_section_gear_icon.svg/21px-Wikipedia_interwiki_section_gear_icon.svg.png 1.5x, //upload.wikimedia.org/wikipedia/commons/thumb/c/c9/Wikipedia_interwiki_section_gear_icon.svg/28px-Wikipedia_interwiki_section_gear_icon.svg.png 2x\" width=\"14\"/></a></span> </span><div id=\"Города_России\" style=\"font-size:114%;margin:0 5em\"><a href=\"/wiki/%D0%93%D0%BE%D1%80%D0%BE%D0%B4%D0%B0_%D0%A0%D0%BE%D1%81%D1%81%D0%B8%D0%B8\" title=\"Города России\">Города России</a></div></th></tr>,\n",
              " <tr><td class=\"navbox-list navbox-odd hlist\" style=\"width:100%;padding:0px\"><div style=\"padding:0em 0.25em\"><div class=\"NavContent\">\n",
              " <dl><dt><a href=\"/wiki/%D0%A1%D0%BF%D0%B8%D1%81%D0%BE%D0%BA_%D0%B3%D0%BE%D1%80%D0%BE%D0%B4%D0%BE%D0%B2_%D0%A0%D0%BE%D1%81%D1%81%D0%B8%D0%B8\" title=\"Список городов России\">Список городов России</a></dt></dl>\n",
              " <dl><dd><a class=\"mw-selflink selflink\">с населением более 1 млн чел.</a></dd>\n",
              " <dd><a href=\"/wiki/%D0%93%D0%BE%D1%80%D0%BE%D0%B4%D0%B0_%D0%A0%D0%BE%D1%81%D1%81%D0%B8%D0%B8_%D1%81_%D0%BD%D0%B0%D1%81%D0%B5%D0%BB%D0%B5%D0%BD%D0%B8%D0%B5%D0%BC_%D0%B1%D0%BE%D0%BB%D0%B5%D0%B5_500_%D1%82%D1%8B%D1%81%D1%8F%D1%87_%D1%87%D0%B5%D0%BB%D0%BE%D0%B2%D0%B5%D0%BA\" title=\"Города России с населением более 500 тысяч человек\">с населением более 500 тыс. чел.</a></dd>\n",
              " <dd><a href=\"/wiki/%D0%A1%D0%BF%D0%B8%D1%81%D0%BE%D0%BA_%D0%B3%D0%BE%D1%80%D0%BE%D0%B4%D0%BE%D0%B2_%D0%A0%D0%BE%D1%81%D1%81%D0%B8%D0%B8_%D1%81_%D0%BD%D0%B0%D1%81%D0%B5%D0%BB%D0%B5%D0%BD%D0%B8%D0%B5%D0%BC_%D0%B1%D0%BE%D0%BB%D0%B5%D0%B5_100_%D1%82%D1%8B%D1%81%D1%8F%D1%87_%D0%B6%D0%B8%D1%82%D0%B5%D0%BB%D0%B5%D0%B9\" title=\"Список городов России с населением более 100 тысяч жителей\">с населением более 100 тыс. чел.</a></dd>\n",
              " <dd><a href=\"/wiki/%D0%A1%D0%BF%D0%B8%D1%81%D0%BE%D0%BA_%D0%B3%D0%BE%D1%80%D0%BE%D0%B4%D0%BE%D0%B2_%D0%A0%D0%BE%D1%81%D1%81%D0%B8%D0%B8_%D1%81_%D0%BD%D0%B0%D1%81%D0%B5%D0%BB%D0%B5%D0%BD%D0%B8%D0%B5%D0%BC_%D0%BC%D0%B5%D0%BD%D0%B5%D0%B5_50_%D1%82%D1%8B%D1%81%D1%8F%D1%87_%D0%B6%D0%B8%D1%82%D0%B5%D0%BB%D0%B5%D0%B9\" title=\"Список городов России с населением менее 50 тысяч жителей\">с населением менее 50 тыс. чел.</a></dd></dl>\n",
              " <dl><dd><a href=\"/wiki/%D0%A1%D0%BF%D0%B8%D1%81%D0%BE%D0%BA_%D0%B3%D0%BE%D1%80%D0%BE%D0%B4%D0%BE%D0%B2_%D0%A0%D0%BE%D1%81%D1%81%D0%B8%D0%B8_%D1%81_%D1%82%D0%B5%D1%80%D1%80%D0%B8%D1%82%D0%BE%D1%80%D0%B8%D0%B5%D0%B9_%D0%B1%D0%BE%D0%BB%D1%8C%D1%88%D0%B5_100_%D0%BA%D0%B2%D0%B0%D0%B4%D1%80%D0%B0%D1%82%D0%BD%D1%8B%D1%85_%D0%BA%D0%B8%D0%BB%D0%BE%D0%BC%D0%B5%D1%82%D1%80%D0%BE%D0%B2\" title=\"Список городов России с территорией больше 100 квадратных километров\">с территорией более 100 кв. км</a></dd></dl>\n",
              " <dl><dd><a href=\"/wiki/%D0%93%D0%BE%D1%80%D0%BE%D0%B4%D0%B0_%D0%A6%D0%B5%D0%BD%D1%82%D1%80%D0%B0%D0%BB%D1%8C%D0%BD%D0%BE%D0%B3%D0%BE_%D1%84%D0%B5%D0%B4%D0%B5%D1%80%D0%B0%D0%BB%D1%8C%D0%BD%D0%BE%D0%B3%D0%BE_%D0%BE%D0%BA%D1%80%D1%83%D0%B3%D0%B0\" title=\"Города Центрального федерального округа\">ЦФО</a></dd>\n",
              " <dd><a href=\"/wiki/%D0%93%D0%BE%D1%80%D0%BE%D0%B4%D0%B0_%D0%AE%D0%B6%D0%BD%D0%BE%D0%B3%D0%BE_%D1%84%D0%B5%D0%B4%D0%B5%D1%80%D0%B0%D0%BB%D1%8C%D0%BD%D0%BE%D0%B3%D0%BE_%D0%BE%D0%BA%D1%80%D1%83%D0%B3%D0%B0\" title=\"Города Южного федерального округа\">ЮФО</a></dd>\n",
              " <dd><a href=\"/wiki/%D0%93%D0%BE%D1%80%D0%BE%D0%B4%D0%B0_%D0%A1%D0%B5%D0%B2%D0%B5%D1%80%D0%BE-%D0%97%D0%B0%D0%BF%D0%B0%D0%B4%D0%BD%D0%BE%D0%B3%D0%BE_%D1%84%D0%B5%D0%B4%D0%B5%D1%80%D0%B0%D0%BB%D1%8C%D0%BD%D0%BE%D0%B3%D0%BE_%D0%BE%D0%BA%D1%80%D1%83%D0%B3%D0%B0\" title=\"Города Северо-Западного федерального округа\">СЗФО</a></dd>\n",
              " <dd><a href=\"/wiki/%D0%93%D0%BE%D1%80%D0%BE%D0%B4%D0%B0_%D0%94%D0%B0%D0%BB%D1%8C%D0%BD%D0%B5%D0%B2%D0%BE%D1%81%D1%82%D0%BE%D1%87%D0%BD%D0%BE%D0%B3%D0%BE_%D1%84%D0%B5%D0%B4%D0%B5%D1%80%D0%B0%D0%BB%D1%8C%D0%BD%D0%BE%D0%B3%D0%BE_%D0%BE%D0%BA%D1%80%D1%83%D0%B3%D0%B0\" title=\"Города Дальневосточного федерального округа\">ДВФО</a></dd>\n",
              " <dd><a href=\"/wiki/%D0%93%D0%BE%D1%80%D0%BE%D0%B4%D0%B0_%D0%A1%D0%B8%D0%B1%D0%B8%D1%80%D1%81%D0%BA%D0%BE%D0%B3%D0%BE_%D1%84%D0%B5%D0%B4%D0%B5%D1%80%D0%B0%D0%BB%D1%8C%D0%BD%D0%BE%D0%B3%D0%BE_%D0%BE%D0%BA%D1%80%D1%83%D0%B3%D0%B0\" title=\"Города Сибирского федерального округа\">СФО</a></dd>\n",
              " <dd><a href=\"/wiki/%D0%93%D0%BE%D1%80%D0%BE%D0%B4%D0%B0_%D0%A3%D1%80%D0%B0%D0%BB%D1%8C%D1%81%D0%BA%D0%BE%D0%B3%D0%BE_%D1%84%D0%B5%D0%B4%D0%B5%D1%80%D0%B0%D0%BB%D1%8C%D0%BD%D0%BE%D0%B3%D0%BE_%D0%BE%D0%BA%D1%80%D1%83%D0%B3%D0%B0\" title=\"Города Уральского федерального округа\">УФО</a></dd>\n",
              " <dd><a href=\"/wiki/%D0%93%D0%BE%D1%80%D0%BE%D0%B4%D0%B0_%D0%9F%D1%80%D0%B8%D0%B2%D0%BE%D0%BB%D0%B6%D1%81%D0%BA%D0%BE%D0%B3%D0%BE_%D1%84%D0%B5%D0%B4%D0%B5%D1%80%D0%B0%D0%BB%D1%8C%D0%BD%D0%BE%D0%B3%D0%BE_%D0%BE%D0%BA%D1%80%D1%83%D0%B3%D0%B0\" title=\"Города Приволжского федерального округа\">ПФО</a></dd>\n",
              " <dd><a href=\"/wiki/%D0%93%D0%BE%D1%80%D0%BE%D0%B4%D0%B0_%D0%A1%D0%B5%D0%B2%D0%B5%D1%80%D0%BE-%D0%9A%D0%B0%D0%B2%D0%BA%D0%B0%D0%B7%D1%81%D0%BA%D0%BE%D0%B3%D0%BE_%D1%84%D0%B5%D0%B4%D0%B5%D1%80%D0%B0%D0%BB%D1%8C%D0%BD%D0%BE%D0%B3%D0%BE_%D0%BE%D0%BA%D1%80%D1%83%D0%B3%D0%B0\" title=\"Города Северо-Кавказского федерального округа\">СКФО</a></dd></dl>\n",
              " </div></div></td></tr>,\n",
              " <tr><th class=\"navbox-title\" colspan=\"2\" scope=\"colgroup\"><span class=\"navbox-gear\" style=\"float:left;text-align:left;width:5em;margin-right:0.5em\"><span class=\"noprint\" typeof=\"mw:File\"><a href=\"/wiki/%D0%A8%D0%B0%D0%B1%D0%BB%D0%BE%D0%BD:%D0%93%D0%BE%D1%80%D0%BE%D0%B4%D0%B0-%D0%BC%D0%B8%D0%BB%D0%BB%D0%B8%D0%BE%D0%BD%D0%B5%D1%80%D1%8B_%D0%A0%D0%BE%D1%81%D1%81%D0%B8%D0%B8\" title=\"Перейти к шаблону «Города-миллионеры России»\"><img alt=\"Перейти к шаблону «Города-миллионеры России»\" class=\"mw-file-element\" data-file-height=\"14\" data-file-width=\"14\" decoding=\"async\" height=\"14\" src=\"//upload.wikimedia.org/wikipedia/commons/thumb/c/c9/Wikipedia_interwiki_section_gear_icon.svg/14px-Wikipedia_interwiki_section_gear_icon.svg.png\" srcset=\"//upload.wikimedia.org/wikipedia/commons/thumb/c/c9/Wikipedia_interwiki_section_gear_icon.svg/21px-Wikipedia_interwiki_section_gear_icon.svg.png 1.5x, //upload.wikimedia.org/wikipedia/commons/thumb/c/c9/Wikipedia_interwiki_section_gear_icon.svg/28px-Wikipedia_interwiki_section_gear_icon.svg.png 2x\" width=\"14\"/></a></span> </span><div id=\"Города-миллионеры_России\" style=\"font-size:114%;margin:0 5em\"><a class=\"mw-selflink selflink\">Города-миллионеры России</a></div></th></tr>,\n",
              " <tr><td class=\"navbox-list navbox-odd hlist\" style=\"width:100%;padding:0px\"><div style=\"padding:0em 0.25em\"><div class=\"NavContent\">\n",
              " <ul><li><span style=\"font-size:85%;\">1</span> <a href=\"/wiki/%D0%9C%D0%BE%D1%81%D0%BA%D0%B2%D0%B0\" title=\"Москва\">Москва</a></li>\n",
              " <li><span style=\"font-size:85%;\">2</span> <a href=\"/wiki/%D0%A1%D0%B0%D0%BD%D0%BA%D1%82-%D0%9F%D0%B5%D1%82%D0%B5%D1%80%D0%B1%D1%83%D1%80%D0%B3\" title=\"Санкт-Петербург\">Санкт-Петербург</a></li>\n",
              " <li><span style=\"font-size:85%;\">3</span> <a href=\"/wiki/%D0%9D%D0%BE%D0%B2%D0%BE%D1%81%D0%B8%D0%B1%D0%B8%D1%80%D1%81%D0%BA\" title=\"Новосибирск\">Новосибирск</a></li>\n",
              " <li><span style=\"font-size:85%;\">4</span> <a href=\"/wiki/%D0%95%D0%BA%D0%B0%D1%82%D0%B5%D1%80%D0%B8%D0%BD%D0%B1%D1%83%D1%80%D0%B3\" title=\"Екатеринбург\">Екатеринбург</a></li>\n",
              " <li><span style=\"font-size:85%;\">5</span> <a href=\"/wiki/%D0%9A%D0%B0%D0%B7%D0%B0%D0%BD%D1%8C\" title=\"Казань\">Казань</a></li>\n",
              " <li><span style=\"font-size:85%;\">6</span> <a href=\"/wiki/%D0%9D%D0%B8%D0%B6%D0%BD%D0%B8%D0%B9_%D0%9D%D0%BE%D0%B2%D0%B3%D0%BE%D1%80%D0%BE%D0%B4\" title=\"Нижний Новгород\">Нижний Новгород</a></li>\n",
              " <li><span style=\"font-size:85%;\">7</span> <a href=\"/wiki/%D0%9A%D1%80%D0%B0%D1%81%D0%BD%D0%BE%D1%8F%D1%80%D1%81%D0%BA\" title=\"Красноярск\">Красноярск</a></li>\n",
              " <li><span style=\"font-size:85%;\">8</span> <a href=\"/wiki/%D0%A7%D0%B5%D0%BB%D1%8F%D0%B1%D0%B8%D0%BD%D1%81%D0%BA\" title=\"Челябинск\">Челябинск</a></li>\n",
              " <li><span style=\"font-size:85%;\">9</span> <a href=\"/wiki/%D0%A1%D0%B0%D0%BC%D0%B0%D1%80%D0%B0\" title=\"Самара\">Самара</a></li>\n",
              " <li><span style=\"font-size:85%;\">10</span> <a href=\"/wiki/%D0%A3%D1%84%D0%B0\" title=\"Уфа\">Уфа</a></li>\n",
              " <li><span style=\"font-size:85%;\">11</span> <a href=\"/wiki/%D0%A0%D0%BE%D1%81%D1%82%D0%BE%D0%B2-%D0%BD%D0%B0-%D0%94%D0%BE%D0%BD%D1%83\" title=\"Ростов-на-Дону\">Ростов-на-Дону</a></li>\n",
              " <li><span style=\"font-size:85%;\">12</span> <a href=\"/wiki/%D0%9A%D1%80%D0%B0%D1%81%D0%BD%D0%BE%D0%B4%D0%B0%D1%80\" title=\"Краснодар\">Краснодар</a></li>\n",
              " <li><span style=\"font-size:85%;\">13</span> <a href=\"/wiki/%D0%9E%D0%BC%D1%81%D0%BA\" title=\"Омск\">Омск</a></li>\n",
              " <li><span style=\"font-size:85%;\">14</span> <a href=\"/wiki/%D0%92%D0%BE%D1%80%D0%BE%D0%BD%D0%B5%D0%B6\" title=\"Воронеж\">Воронеж</a></li>\n",
              " <li><span style=\"font-size:85%;\">15</span> <a href=\"/wiki/%D0%9F%D0%B5%D1%80%D0%BC%D1%8C\" title=\"Пермь\">Пермь</a></li>\n",
              " <li><span style=\"font-size:85%;\">16</span> <a href=\"/wiki/%D0%92%D0%BE%D0%BB%D0%B3%D0%BE%D0%B3%D1%80%D0%B0%D0%B4\" title=\"Волгоград\">Волгоград</a></li></ul>\n",
              " </div></div></td></tr>,\n",
              " <tr><td class=\"navbox-abovebelow hlist\" colspan=\"2\"><div>Порядковые места распределены по численности населения согласно <a href=\"/wiki/%D0%A1%D0%BF%D0%B8%D1%81%D0%BE%D0%BA_%D0%B3%D0%BE%D1%80%D0%BE%D0%B4%D0%BE%D0%B2_%D0%A0%D0%BE%D1%81%D1%81%D0%B8%D0%B8_%D1%81_%D0%BD%D0%B0%D1%81%D0%B5%D0%BB%D0%B5%D0%BD%D0%B8%D0%B5%D0%BC_%D0%B1%D0%BE%D0%BB%D0%B5%D0%B5_100_%D1%82%D1%8B%D1%81%D1%8F%D1%87_%D0%B6%D0%B8%D1%82%D0%B5%D0%BB%D0%B5%D0%B9\" title=\"Список городов России с населением более 100 тысяч жителей\">текущим данным</a>.</div></td></tr>,\n",
              " <tr><th class=\"navbox-title\" colspan=\"2\" scope=\"colgroup\"><span class=\"navbox-gear\" style=\"float:left;text-align:left;width:5em;margin-right:0.5em\"><span class=\"noprint\" typeof=\"mw:File\"><a href=\"/wiki/%D0%A8%D0%B0%D0%B1%D0%BB%D0%BE%D0%BD:%D0%93%D0%BE%D1%80%D0%BE%D0%B4%D1%81%D0%BA%D0%B8%D0%B5_%D0%B0%D0%B3%D0%BB%D0%BE%D0%BC%D0%B5%D1%80%D0%B0%D1%86%D0%B8%D0%B8-%D0%BC%D0%B8%D0%BB%D0%BB%D0%B8%D0%BE%D0%BD%D0%B5%D1%80%D1%8B_%D0%A0%D0%BE%D1%81%D1%81%D0%B8%D0%B8\" title=\"Перейти к шаблону «Городские агломерации-миллионеры России»\"><img alt=\"Перейти к шаблону «Городские агломерации-миллионеры России»\" class=\"mw-file-element\" data-file-height=\"14\" data-file-width=\"14\" decoding=\"async\" height=\"14\" src=\"//upload.wikimedia.org/wikipedia/commons/thumb/c/c9/Wikipedia_interwiki_section_gear_icon.svg/14px-Wikipedia_interwiki_section_gear_icon.svg.png\" srcset=\"//upload.wikimedia.org/wikipedia/commons/thumb/c/c9/Wikipedia_interwiki_section_gear_icon.svg/21px-Wikipedia_interwiki_section_gear_icon.svg.png 1.5x, //upload.wikimedia.org/wikipedia/commons/thumb/c/c9/Wikipedia_interwiki_section_gear_icon.svg/28px-Wikipedia_interwiki_section_gear_icon.svg.png 2x\" width=\"14\"/></a></span> </span><div id=\"Городские_агломерации-миллионеры_России\" style=\"font-size:114%;margin:0 5em\"><a href=\"/wiki/%D0%90%D0%B3%D0%BB%D0%BE%D0%BC%D0%B5%D1%80%D0%B0%D1%86%D0%B8%D0%B8_%D0%A0%D0%BE%D1%81%D1%81%D0%B8%D0%B8\" title=\"Агломерации России\">Городские агломерации-миллионеры России</a></div></th></tr>,\n",
              " <tr><td class=\"navbox-list navbox-odd hlist\" style=\"width:100%;padding:0px\"><div style=\"padding:0em 0.25em\"><div class=\"NavContent\">\n",
              " <ul><li><a href=\"/wiki/%D0%9C%D0%BE%D1%81%D0%BA%D0%BE%D0%B2%D1%81%D0%BA%D0%B0%D1%8F_%D0%B0%D0%B3%D0%BB%D0%BE%D0%BC%D0%B5%D1%80%D0%B0%D1%86%D0%B8%D1%8F\" title=\"Московская агломерация\">Московская</a></li>\n",
              " <li><a href=\"/wiki/%D0%A1%D0%B0%D0%BD%D0%BA%D1%82-%D0%9F%D0%B5%D1%82%D0%B5%D1%80%D0%B1%D1%83%D1%80%D0%B3%D1%81%D0%BA%D0%B0%D1%8F_%D0%B0%D0%B3%D0%BB%D0%BE%D0%BC%D0%B5%D1%80%D0%B0%D1%86%D0%B8%D1%8F\" title=\"Санкт-Петербургская агломерация\">Санкт-Петербургская</a></li>\n",
              " <li><a href=\"/wiki/%D0%A1%D0%B0%D0%BC%D0%B0%D1%80%D1%81%D0%BA%D0%BE-%D0%A2%D0%BE%D0%BB%D1%8C%D1%8F%D1%82%D1%82%D0%B8%D0%BD%D1%81%D0%BA%D0%B0%D1%8F_%D0%B0%D0%B3%D0%BB%D0%BE%D0%BC%D0%B5%D1%80%D0%B0%D1%86%D0%B8%D1%8F\" title=\"Самарско-Тольяттинская агломерация\">Самарско-Тольяттинская</a></li>\n",
              " <li><a href=\"/wiki/%D0%95%D0%BA%D0%B0%D1%82%D0%B5%D1%80%D0%B8%D0%BD%D0%B1%D1%83%D1%80%D0%B3%D1%81%D0%BA%D0%B0%D1%8F_%D0%B0%D0%B3%D0%BB%D0%BE%D0%BC%D0%B5%D1%80%D0%B0%D1%86%D0%B8%D1%8F\" title=\"Екатеринбургская агломерация\">Екатеринбургская (Большой Екатеринбург)</a></li>\n",
              " <li><a href=\"/wiki/%D0%A0%D0%BE%D1%81%D1%82%D0%BE%D0%B2%D1%81%D0%BA%D0%B0%D1%8F_%D0%B0%D0%B3%D0%BB%D0%BE%D0%BC%D0%B5%D1%80%D0%B0%D1%86%D0%B8%D1%8F\" title=\"Ростовская агломерация\">Ростовская (Большой Ростов)</a></li>\n",
              " <li><a href=\"/wiki/%D0%9D%D0%B8%D0%B6%D0%B5%D0%B3%D0%BE%D1%80%D0%BE%D0%B4%D1%81%D0%BA%D0%B0%D1%8F_%D0%B0%D0%B3%D0%BB%D0%BE%D0%BC%D0%B5%D1%80%D0%B0%D1%86%D0%B8%D1%8F\" title=\"Нижегородская агломерация\">Нижегородская</a></li>\n",
              " <li><a href=\"/wiki/%D0%9D%D0%BE%D0%B2%D0%BE%D1%81%D0%B8%D0%B1%D0%B8%D1%80%D1%81%D0%BA%D0%B0%D1%8F_%D0%B0%D0%B3%D0%BB%D0%BE%D0%BC%D0%B5%D1%80%D0%B0%D1%86%D0%B8%D1%8F\" title=\"Новосибирская агломерация\">Новосибирская (Большой Новосибирск)</a></li>\n",
              " <li><a href=\"/wiki/%D0%9A%D0%B0%D0%B7%D0%B0%D0%BD%D1%81%D0%BA%D0%B0%D1%8F_%D0%B0%D0%B3%D0%BB%D0%BE%D0%BC%D0%B5%D1%80%D0%B0%D1%86%D0%B8%D1%8F\" title=\"Казанская агломерация\">Казанская</a></li>\n",
              " <li><a href=\"/wiki/%D0%A7%D0%B5%D0%BB%D1%8F%D0%B1%D0%B8%D0%BD%D1%81%D0%BA%D0%B0%D1%8F_%D0%B0%D0%B3%D0%BB%D0%BE%D0%BC%D0%B5%D1%80%D0%B0%D1%86%D0%B8%D1%8F\" title=\"Челябинская агломерация\">Челябинская (Большой Челябинск)</a></li>\n",
              " <li><a href=\"/wiki/%D0%92%D0%BE%D0%BB%D0%B3%D0%BE%D0%B3%D1%80%D0%B0%D0%B4%D1%81%D0%BA%D0%B0%D1%8F_%D0%B0%D0%B3%D0%BB%D0%BE%D0%BC%D0%B5%D1%80%D0%B0%D1%86%D0%B8%D1%8F\" title=\"Волгоградская агломерация\">Волгоградская</a></li>\n",
              " <li><a href=\"/wiki/%D0%A3%D1%84%D0%B8%D0%BC%D1%81%D0%BA%D0%B0%D1%8F_%D0%B0%D0%B3%D0%BB%D0%BE%D0%BC%D0%B5%D1%80%D0%B0%D1%86%D0%B8%D1%8F\" title=\"Уфимская агломерация\">Уфимская</a></li>\n",
              " <li><a href=\"/wiki/%D0%9A%D1%80%D0%B0%D1%81%D0%BD%D0%BE%D0%B4%D0%B0%D1%80%D1%81%D0%BA%D0%B0%D1%8F_%D0%B0%D0%B3%D0%BB%D0%BE%D0%BC%D0%B5%D1%80%D0%B0%D1%86%D0%B8%D1%8F\" title=\"Краснодарская агломерация\">Краснодарская</a></li>\n",
              " <li><a href=\"/wiki/%D0%9E%D0%BC%D1%81%D0%BA%D0%B0%D1%8F_%D0%B0%D0%B3%D0%BB%D0%BE%D0%BC%D0%B5%D1%80%D0%B0%D1%86%D0%B8%D1%8F\" title=\"Омская агломерация\">Омская</a></li>\n",
              " <li><a href=\"/wiki/%D0%9D%D0%BE%D0%B2%D0%BE%D0%BA%D1%83%D0%B7%D0%BD%D0%B5%D1%86%D0%BA%D0%B0%D1%8F_%D0%B0%D0%B3%D0%BB%D0%BE%D0%BC%D0%B5%D1%80%D0%B0%D1%86%D0%B8%D1%8F\" title=\"Новокузнецкая агломерация\">Новокузнецкая</a>*</li>\n",
              " <li><a href=\"/wiki/%D0%92%D0%BE%D1%80%D0%BE%D0%BD%D0%B5%D0%B6%D1%81%D0%BA%D0%B0%D1%8F_%D0%B0%D0%B3%D0%BB%D0%BE%D0%BC%D0%B5%D1%80%D0%B0%D1%86%D0%B8%D1%8F\" title=\"Воронежская агломерация\">Воронежская</a></li>\n",
              " <li><a href=\"/wiki/%D0%91%D0%BE%D0%BB%D1%8C%D1%88%D0%BE%D0%B9_%D0%92%D0%BB%D0%B0%D0%B4%D0%B8%D0%B2%D0%BE%D1%81%D1%82%D0%BE%D0%BA\" title=\"Большой Владивосток\">Владивостокская (Большой Владивосток)</a>*</li>\n",
              " <li><a href=\"/wiki/%D0%9A%D1%80%D0%B0%D1%81%D0%BD%D0%BE%D1%8F%D1%80%D1%81%D0%BA%D0%B0%D1%8F_%D0%B0%D0%B3%D0%BB%D0%BE%D0%BC%D0%B5%D1%80%D0%B0%D1%86%D0%B8%D1%8F\" title=\"Красноярская агломерация\">Красноярская (Большой Красноярск)</a></li>\n",
              " <li><a href=\"/wiki/%D0%9F%D0%B5%D1%80%D0%BC%D1%81%D0%BA%D0%B0%D1%8F_%D0%B0%D0%B3%D0%BB%D0%BE%D0%BC%D0%B5%D1%80%D0%B0%D1%86%D0%B8%D1%8F\" title=\"Пермская агломерация\">Пермская</a></li>\n",
              " <li><a href=\"/wiki/%D0%A1%D0%B0%D1%80%D0%B0%D1%82%D0%BE%D0%B2%D1%81%D0%BA%D0%B0%D1%8F_%D0%B0%D0%B3%D0%BB%D0%BE%D0%BC%D0%B5%D1%80%D0%B0%D1%86%D0%B8%D1%8F\" title=\"Саратовская агломерация\">Саратовская (Саратовско-Энгельсская)</a>*</li>\n",
              " <li><a href=\"/wiki/%D0%9D%D0%B0%D0%B1%D0%B5%D1%80%D0%B5%D0%B6%D0%BD%D0%BE%D1%87%D0%B5%D0%BB%D0%BD%D0%B8%D0%BD%D1%81%D0%BA%D0%B0%D1%8F_%D0%B0%D0%B3%D0%BB%D0%BE%D0%BC%D0%B5%D1%80%D0%B0%D1%86%D0%B8%D1%8F\" title=\"Набережночелнинская агломерация\">Набережночелнинская (Нижне-Камская)</a>*</li>\n",
              " <li><a href=\"/wiki/%D0%98%D1%80%D0%BA%D1%83%D1%82%D1%81%D0%BA%D0%B0%D1%8F_%D0%B0%D0%B3%D0%BB%D0%BE%D0%BC%D0%B5%D1%80%D0%B0%D1%86%D0%B8%D1%8F\" title=\"Иркутская агломерация\">Иркутская (Большой Иркутск)</a>*</li>\n",
              " <li><a href=\"/wiki/%D0%A2%D1%83%D0%BB%D1%8C%D1%81%D0%BA%D0%BE-%D0%9D%D0%BE%D0%B2%D0%BE%D0%BC%D0%BE%D1%81%D0%BA%D0%BE%D0%B2%D1%81%D0%BA%D0%B0%D1%8F_%D0%B0%D0%B3%D0%BB%D0%BE%D0%BC%D0%B5%D1%80%D0%B0%D1%86%D0%B8%D1%8F\" title=\"Тульско-Новомосковская агломерация\">Тульско-Новомосковская</a>*</li>\n",
              " <li><a href=\"/wiki/%D0%91%D1%80%D1%8F%D0%BD%D1%81%D0%BA%D0%BE-%D0%9B%D1%8E%D0%B4%D0%B8%D0%BD%D0%BE%D0%B2%D1%81%D0%BA%D0%B0%D1%8F_%D0%B0%D0%B3%D0%BB%D0%BE%D0%BC%D0%B5%D1%80%D0%B0%D1%86%D0%B8%D1%8F\" title=\"Брянско-Людиновская агломерация\"><i>Брянско-Людиновская</i></a>*</li>\n",
              " <li><a href=\"/wiki/%D0%AF%D1%80%D0%BE%D1%81%D0%BB%D0%B0%D0%B2%D1%81%D0%BA%D0%B0%D1%8F_%D0%B0%D0%B3%D0%BB%D0%BE%D0%BC%D0%B5%D1%80%D0%B0%D1%86%D0%B8%D1%8F\" title=\"Ярославская агломерация\"><i>Ярославско-Костромская</i></a>*</li></ul>\n",
              " <ul><li>* — при городах-немиллионерах; <i>курсивом</i> — оспариваемые как миллионные</li></ul>\n",
              " </div></div></td></tr>]"
            ]
          },
          "metadata": {},
          "output_type": "display_data"
        }
      ],
      "source": [
        "# код для получения списка городов-милионников\n",
        "import requests\n",
        "import xml.etree.ElementTree as ET \n",
        "from pprint import pprint\n",
        "from bs4 import BeautifulSoup\n",
        "\n",
        "response =requests.get('https://ru.wikipedia.org/wiki/%D0%93%D0%BE%D1%80%D0%BE%D0%B4%D0%B0-%D0%BC%D0%B8%D0%BB%D0%BB%D0%B8%D0%BE%D0%BD%D0%B5%D1%80%D1%8B_%D0%A0%D0%BE%D1%81%D1%81%D0%B8%D0%B8#%D0%93%D0%BE%D1%80%D0%BE%D0%B4%D0%B0-%D0%BC%D0%B8%D0%BB%D0%BB%D0%B8%D0%BE%D0%BD%D0%B5%D1%80%D1%8B_%D0%B2_%D1%81%D0%BE%D0%B2%D1%80%D0%B5%D0%BC%D0%B5%D0%BD%D0%BD%D0%BE%D0%B9_%D0%A0%D0%BE%D1%81%D1%81%D0%B8%D0%B8')\n",
        "display(response.text)\n",
        "\n",
        "page = BeautifulSoup(response.text, 'html.parser')\n",
        "display(page.findAll('tr'))"
      ]
    },
    {
      "cell_type": "code",
      "execution_count": null,
      "id": "5a0e32a4-e68a-4365-8a39-2fe24c542c36",
      "metadata": {
        "id": "5a0e32a4-e68a-4365-8a39-2fe24c542c36"
      },
      "outputs": [],
      "source": [
        "# текст запроса"
      ]
    },
    {
      "cell_type": "code",
      "execution_count": null,
      "id": "ttPhiO1rsvPq",
      "metadata": {
        "id": "ttPhiO1rsvPq"
      },
      "outputs": [],
      "source": [
        "# результат запроса"
      ]
    },
    {
      "cell_type": "markdown",
      "id": "04966e40-3bc3-4dc8-9ba2-e80580ce3abc",
      "metadata": {
        "id": "04966e40-3bc3-4dc8-9ba2-e80580ce3abc"
      },
      "source": [
        "***"
      ]
    },
    {
      "cell_type": "code",
      "execution_count": null,
      "id": "aGGyER-yt4SR",
      "metadata": {
        "id": "aGGyER-yt4SR"
      },
      "outputs": [],
      "source": [
        "# выводы по анализу работодателей"
      ]
    },
    {
      "cell_type": "markdown",
      "id": "b1ef156a-efcb-49ce-bb23-90763e7f35b2",
      "metadata": {
        "id": "b1ef156a-efcb-49ce-bb23-90763e7f35b2",
        "tags": []
      },
      "source": [
        "# Юнит 6. Предметный анализ"
      ]
    },
    {
      "cell_type": "markdown",
      "id": "b9cd50a0-992d-4988-8463-2b2b1c4629b4",
      "metadata": {
        "id": "b9cd50a0-992d-4988-8463-2b2b1c4629b4"
      },
      "source": [
        "1. Сколько вакансий имеет отношение к данным?\n",
        "\n",
        "Считаем, что вакансия имеет отношение к данным, если в её названии содержатся слова 'data' или 'данн'.\n",
        "\n",
        "*Подсказка: Обратите внимание, что названия вакансий могут быть написаны в любом регистре.* \n"
      ]
    },
    {
      "cell_type": "code",
      "execution_count": null,
      "id": "54ab0e50-c0f1-47cc-a54b-bc5c8bc363f9",
      "metadata": {
        "id": "54ab0e50-c0f1-47cc-a54b-bc5c8bc363f9"
      },
      "outputs": [],
      "source": [
        "# текст запроса"
      ]
    },
    {
      "cell_type": "code",
      "execution_count": null,
      "id": "9F1meAqsuUjd",
      "metadata": {
        "id": "9F1meAqsuUjd"
      },
      "outputs": [],
      "source": [
        "# результат запроса"
      ]
    },
    {
      "cell_type": "markdown",
      "id": "4dea20cb-a36b-474a-a0b9-e08e8e3857a5",
      "metadata": {
        "id": "4dea20cb-a36b-474a-a0b9-e08e8e3857a5"
      },
      "source": [
        "2. Сколько есть подходящих вакансий для начинающего дата-сайентиста? \n",
        "Будем считать вакансиями для дата-сайентистов такие, в названии которых есть хотя бы одно из следующих сочетаний:\n",
        "* 'data scientist'\n",
        "* 'data science'\n",
        "* 'исследователь данных'\n",
        "* 'ML' (здесь не нужно брать вакансии по HTML)\n",
        "* 'machine learning'\n",
        "* 'машинн%обучен%'\n",
        "\n",
        "** В следующих заданиях мы продолжим работать с вакансиями по этому условию.*\n",
        "\n",
        "Считаем вакансиями для специалистов уровня Junior следующие:\n",
        "* в названии есть слово 'junior' *или*\n",
        "* требуемый опыт — Нет опыта *или*\n",
        "* тип трудоустройства — Стажировка.\n",
        " "
      ]
    },
    {
      "cell_type": "code",
      "execution_count": null,
      "id": "9c61b3c0-bb66-46c9-ae1e-81d3f5752b4a",
      "metadata": {
        "id": "9c61b3c0-bb66-46c9-ae1e-81d3f5752b4a"
      },
      "outputs": [],
      "source": [
        "# текст запроса"
      ]
    },
    {
      "cell_type": "code",
      "execution_count": null,
      "id": "ZNM-LLYuu1dj",
      "metadata": {
        "id": "ZNM-LLYuu1dj"
      },
      "outputs": [],
      "source": [
        "# результат запроса"
      ]
    },
    {
      "cell_type": "markdown",
      "id": "eedceb80-c5ca-480e-b27a-278dfb8b4438",
      "metadata": {
        "id": "eedceb80-c5ca-480e-b27a-278dfb8b4438"
      },
      "source": [
        "3. Сколько есть вакансий для DS, в которых в качестве ключевого навыка указан SQL или postgres?\n",
        "\n",
        "** Критерии для отнесения вакансии к DS указаны в предыдущем задании.*"
      ]
    },
    {
      "cell_type": "code",
      "execution_count": null,
      "id": "69621713-0cc5-4f1b-a1d7-bb144fa6148c",
      "metadata": {
        "id": "69621713-0cc5-4f1b-a1d7-bb144fa6148c"
      },
      "outputs": [],
      "source": [
        "# текст запроса"
      ]
    },
    {
      "cell_type": "code",
      "execution_count": null,
      "id": "alA8WEAAvGdf",
      "metadata": {
        "id": "alA8WEAAvGdf"
      },
      "outputs": [],
      "source": [
        "# результат запроса"
      ]
    },
    {
      "cell_type": "markdown",
      "id": "1be1e9c6-37cf-4a5f-bfeb-04cab799dc80",
      "metadata": {
        "id": "1be1e9c6-37cf-4a5f-bfeb-04cab799dc80"
      },
      "source": [
        "4. Проверьте, насколько популярен Python в требованиях работодателей к DS.Для этого вычислите количество вакансий, в которых в качестве ключевого навыка указан Python.\n",
        "\n",
        "** Это можно сделать помощью запроса, аналогичного предыдущему.*"
      ]
    },
    {
      "cell_type": "code",
      "execution_count": null,
      "id": "0036a355-9ccf-4564-8b01-73d8194297e7",
      "metadata": {
        "id": "0036a355-9ccf-4564-8b01-73d8194297e7"
      },
      "outputs": [],
      "source": [
        "# текст запроса"
      ]
    },
    {
      "cell_type": "code",
      "execution_count": null,
      "id": "1i-5WyucvQ6v",
      "metadata": {
        "id": "1i-5WyucvQ6v"
      },
      "outputs": [],
      "source": [
        "# результат запроса"
      ]
    },
    {
      "cell_type": "markdown",
      "id": "ec3c8db7-fa21-4a41-a994-1af63742a642",
      "metadata": {
        "id": "ec3c8db7-fa21-4a41-a994-1af63742a642"
      },
      "source": [
        "5. Сколько ключевых навыков в среднем указывают в вакансиях для DS?\n",
        "Ответ округлите до двух знаков после точки-разделителя."
      ]
    },
    {
      "cell_type": "code",
      "execution_count": null,
      "id": "949132bc-d5b6-4611-8218-0b9a504d74f4",
      "metadata": {
        "id": "949132bc-d5b6-4611-8218-0b9a504d74f4"
      },
      "outputs": [],
      "source": [
        "# текст запроса"
      ]
    },
    {
      "cell_type": "code",
      "execution_count": null,
      "id": "a3V24Tvmviqk",
      "metadata": {
        "id": "a3V24Tvmviqk"
      },
      "outputs": [],
      "source": [
        "# результат запроса"
      ]
    },
    {
      "cell_type": "markdown",
      "id": "1041c17a-ca8f-4543-a0ca-32778914fb00",
      "metadata": {
        "id": "1041c17a-ca8f-4543-a0ca-32778914fb00"
      },
      "source": [
        "6. Напишите запрос, позволяющий вычислить, какую зарплату для DS в **среднем** указывают для каждого типа требуемого опыта (уникальное значение из поля *experience*). \n",
        "\n",
        "При решении задачи примите во внимание следующее:\n",
        "1. Рассматриваем только вакансии, у которых заполнено хотя бы одно из двух полей с зарплатой.\n",
        "2. Если заполнены оба поля с зарплатой, то считаем зарплату по каждой вакансии как сумму двух полей, делённую на 2. Если заполнено только одно из полей, то его и считаем зарплатой по вакансии.\n",
        "3. Если в расчётах участвует null, в результате он тоже даст null (посмотрите, что возвращает запрос select 1 + null). Чтобы избежать этой ситуацию, мы воспользуемся функцией [coalesce](https://postgrespro.ru/docs/postgresql/9.5/functions-conditional#functions-coalesce-nvl-ifnull), которая заменит null на значение, которое мы передадим. Например, посмотрите, что возвращает запрос `select 1 + coalesce(null, 0)`\n",
        "\n",
        "Выясните, на какую зарплату в среднем может рассчитывать дата-сайентист с опытом работы от 3 до 6 лет. Результат округлите до целого числа. "
      ]
    },
    {
      "cell_type": "code",
      "execution_count": null,
      "id": "6a743d39-5204-48d3-8271-b9f88e68d40e",
      "metadata": {
        "id": "6a743d39-5204-48d3-8271-b9f88e68d40e"
      },
      "outputs": [],
      "source": [
        "# текст запроса"
      ]
    },
    {
      "cell_type": "code",
      "execution_count": null,
      "id": "aRIJ0mZEwU1_",
      "metadata": {
        "id": "aRIJ0mZEwU1_"
      },
      "outputs": [],
      "source": [
        "# результат запроса"
      ]
    },
    {
      "cell_type": "markdown",
      "id": "6a7892b4-4113-4746-adce-18aa2844f18e",
      "metadata": {
        "id": "6a7892b4-4113-4746-adce-18aa2844f18e"
      },
      "source": [
        "***"
      ]
    },
    {
      "cell_type": "code",
      "execution_count": null,
      "id": "UjLWUptVwY1o",
      "metadata": {
        "id": "UjLWUptVwY1o"
      },
      "outputs": [],
      "source": [
        "# выводы по предметному анализу"
      ]
    },
    {
      "cell_type": "markdown",
      "id": "c0ED6fh7wiBT",
      "metadata": {
        "id": "c0ED6fh7wiBT"
      },
      "source": [
        "# Общий вывод по проекту"
      ]
    },
    {
      "cell_type": "code",
      "execution_count": null,
      "id": "h9B3BL-wwj18",
      "metadata": {
        "id": "h9B3BL-wwj18"
      },
      "outputs": [],
      "source": [
        "# подведем итог исследования, обобщите выводы\n",
        "# здесь можно (это будет плюсом) провести дополнительные исследования данных, сделать прогнозы, продумать варианты продолжения исследования"
      ]
    }
  ],
  "metadata": {
    "colab": {
      "collapsed_sections": [
        "8d62a9f3-f64e-4fe7-bdac-c4dffa16155e"
      ],
      "provenance": []
    },
    "kernelspec": {
      "display_name": "Python 3 (ipykernel)",
      "language": "python",
      "name": "python3"
    },
    "language_info": {
      "codemirror_mode": {
        "name": "ipython",
        "version": 3
      },
      "file_extension": ".py",
      "mimetype": "text/x-python",
      "name": "python",
      "nbconvert_exporter": "python",
      "pygments_lexer": "ipython3",
      "version": "3.9.10"
    }
  },
  "nbformat": 4,
  "nbformat_minor": 5
}
