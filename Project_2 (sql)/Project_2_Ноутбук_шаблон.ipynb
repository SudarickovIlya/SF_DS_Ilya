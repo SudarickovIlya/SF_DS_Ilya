{
  "cells": [
    {
      "cell_type": "markdown",
      "id": "42289889-bd57-434e-9637-d3e354756316",
      "metadata": {
        "id": "42289889-bd57-434e-9637-d3e354756316"
      },
      "source": [
        "<center> <img src = https://raw.githubusercontent.com/AndreyRysistov/DatasetsForPandas/main/hh%20label.jpg alt=\"drawing\" style=\"width:400px;\">"
      ]
    },
    {
      "cell_type": "markdown",
      "id": "829cb75b-f14e-4ba8-9195-7ba929a7d656",
      "metadata": {
        "id": "829cb75b-f14e-4ba8-9195-7ba929a7d656",
        "tags": []
      },
      "source": [
        "# <center> Проект: Анализ вакансий из HeadHunter\n",
        "   "
      ]
    },
    {
      "cell_type": "code",
      "execution_count": 132,
      "id": "dccfde33-2452-43fb-a8a5-5c6ebc02a71d",
      "metadata": {
        "id": "dccfde33-2452-43fb-a8a5-5c6ebc02a71d"
      },
      "outputs": [],
      "source": [
        "import pandas as pd\n",
        "import psycopg2"
      ]
    },
    {
      "cell_type": "code",
      "execution_count": 133,
      "id": "oVKH4ehvf8Ay",
      "metadata": {
        "id": "oVKH4ehvf8Ay"
      },
      "outputs": [],
      "source": [
        "DBNAME = 'project_sql'\n",
        "USER = 'skillfactory'\n",
        "PASSWORD = 'cCkxxLVrDE8EbvjueeMedPKt'\n",
        "HOST = '84.201.134.129'\n",
        "PORT = 5432"
      ]
    },
    {
      "cell_type": "code",
      "execution_count": 134,
      "id": "G4X_q8KBf7SF",
      "metadata": {
        "id": "G4X_q8KBf7SF"
      },
      "outputs": [],
      "source": [
        "connection = psycopg2.connect(\n",
        "    dbname=DBNAME,\n",
        "    user=USER,\n",
        "    host=HOST,\n",
        "    password=PASSWORD,\n",
        "    port=PORT\n",
        ")"
      ]
    },
    {
      "cell_type": "markdown",
      "id": "0dc6476b-7a00-44f1-ac93-6e3baed33a29",
      "metadata": {
        "id": "0dc6476b-7a00-44f1-ac93-6e3baed33a29"
      },
      "source": [
        "# Юнит 3. Предварительный анализ данных"
      ]
    },
    {
      "cell_type": "markdown",
      "id": "7919ba27",
      "metadata": {},
      "source": [
        "0. Выведем структуру БД для понимания, какие таблицы присутствуют"
      ]
    },
    {
      "cell_type": "code",
      "execution_count": 135,
      "id": "43e10cba",
      "metadata": {},
      "outputs": [
        {
          "name": "stderr",
          "output_type": "stream",
          "text": [
            "C:\\Users\\qwert\\AppData\\Local\\Temp\\ipykernel_19216\\1121355407.py:5: UserWarning: pandas only supports SQLAlchemy connectable (engine/connection) or database string URI or sqlite3 DBAPI2 connection. Other DBAPI2 objects are not tested. Please consider using SQLAlchemy.\n",
            "  total_df = pd.read_sql_query(sql=query_0, con=connection)\n"
          ]
        },
        {
          "data": {
            "text/html": [
              "<div>\n",
              "<style scoped>\n",
              "    .dataframe tbody tr th:only-of-type {\n",
              "        vertical-align: middle;\n",
              "    }\n",
              "\n",
              "    .dataframe tbody tr th {\n",
              "        vertical-align: top;\n",
              "    }\n",
              "\n",
              "    .dataframe thead th {\n",
              "        text-align: right;\n",
              "    }\n",
              "</style>\n",
              "<table border=\"1\" class=\"dataframe\">\n",
              "  <thead>\n",
              "    <tr style=\"text-align: right;\">\n",
              "      <th></th>\n",
              "      <th>table_catalog</th>\n",
              "      <th>table_schema</th>\n",
              "      <th>table_name</th>\n",
              "      <th>table_type</th>\n",
              "      <th>self_referencing_column_name</th>\n",
              "      <th>reference_generation</th>\n",
              "      <th>user_defined_type_catalog</th>\n",
              "      <th>user_defined_type_schema</th>\n",
              "      <th>user_defined_type_name</th>\n",
              "      <th>is_insertable_into</th>\n",
              "      <th>is_typed</th>\n",
              "      <th>commit_action</th>\n",
              "    </tr>\n",
              "  </thead>\n",
              "  <tbody>\n",
              "    <tr>\n",
              "      <th>0</th>\n",
              "      <td>project_sql</td>\n",
              "      <td>public</td>\n",
              "      <td>test</td>\n",
              "      <td>BASE TABLE</td>\n",
              "      <td>None</td>\n",
              "      <td>None</td>\n",
              "      <td>None</td>\n",
              "      <td>None</td>\n",
              "      <td>None</td>\n",
              "      <td>YES</td>\n",
              "      <td>NO</td>\n",
              "      <td>None</td>\n",
              "    </tr>\n",
              "    <tr>\n",
              "      <th>1</th>\n",
              "      <td>project_sql</td>\n",
              "      <td>public</td>\n",
              "      <td>t_tab1</td>\n",
              "      <td>BASE TABLE</td>\n",
              "      <td>None</td>\n",
              "      <td>None</td>\n",
              "      <td>None</td>\n",
              "      <td>None</td>\n",
              "      <td>None</td>\n",
              "      <td>YES</td>\n",
              "      <td>NO</td>\n",
              "      <td>None</td>\n",
              "    </tr>\n",
              "    <tr>\n",
              "      <th>2</th>\n",
              "      <td>project_sql</td>\n",
              "      <td>public</td>\n",
              "      <td>t_tab2</td>\n",
              "      <td>BASE TABLE</td>\n",
              "      <td>None</td>\n",
              "      <td>None</td>\n",
              "      <td>None</td>\n",
              "      <td>None</td>\n",
              "      <td>None</td>\n",
              "      <td>YES</td>\n",
              "      <td>NO</td>\n",
              "      <td>None</td>\n",
              "    </tr>\n",
              "    <tr>\n",
              "      <th>3</th>\n",
              "      <td>project_sql</td>\n",
              "      <td>public</td>\n",
              "      <td>operations</td>\n",
              "      <td>BASE TABLE</td>\n",
              "      <td>None</td>\n",
              "      <td>None</td>\n",
              "      <td>None</td>\n",
              "      <td>None</td>\n",
              "      <td>None</td>\n",
              "      <td>YES</td>\n",
              "      <td>NO</td>\n",
              "      <td>None</td>\n",
              "    </tr>\n",
              "    <tr>\n",
              "      <th>4</th>\n",
              "      <td>project_sql</td>\n",
              "      <td>public</td>\n",
              "      <td>table_1</td>\n",
              "      <td>BASE TABLE</td>\n",
              "      <td>None</td>\n",
              "      <td>None</td>\n",
              "      <td>None</td>\n",
              "      <td>None</td>\n",
              "      <td>None</td>\n",
              "      <td>YES</td>\n",
              "      <td>NO</td>\n",
              "      <td>None</td>\n",
              "    </tr>\n",
              "    <tr>\n",
              "      <th>...</th>\n",
              "      <td>...</td>\n",
              "      <td>...</td>\n",
              "      <td>...</td>\n",
              "      <td>...</td>\n",
              "      <td>...</td>\n",
              "      <td>...</td>\n",
              "      <td>...</td>\n",
              "      <td>...</td>\n",
              "      <td>...</td>\n",
              "      <td>...</td>\n",
              "      <td>...</td>\n",
              "      <td>...</td>\n",
              "    </tr>\n",
              "    <tr>\n",
              "      <th>180</th>\n",
              "      <td>project_sql</td>\n",
              "      <td>information_schema</td>\n",
              "      <td>foreign_data_wrappers</td>\n",
              "      <td>VIEW</td>\n",
              "      <td>None</td>\n",
              "      <td>None</td>\n",
              "      <td>None</td>\n",
              "      <td>None</td>\n",
              "      <td>None</td>\n",
              "      <td>NO</td>\n",
              "      <td>NO</td>\n",
              "      <td>None</td>\n",
              "    </tr>\n",
              "    <tr>\n",
              "      <th>181</th>\n",
              "      <td>project_sql</td>\n",
              "      <td>information_schema</td>\n",
              "      <td>foreign_server_options</td>\n",
              "      <td>VIEW</td>\n",
              "      <td>None</td>\n",
              "      <td>None</td>\n",
              "      <td>None</td>\n",
              "      <td>None</td>\n",
              "      <td>None</td>\n",
              "      <td>NO</td>\n",
              "      <td>NO</td>\n",
              "      <td>None</td>\n",
              "    </tr>\n",
              "    <tr>\n",
              "      <th>182</th>\n",
              "      <td>project_sql</td>\n",
              "      <td>information_schema</td>\n",
              "      <td>foreign_servers</td>\n",
              "      <td>VIEW</td>\n",
              "      <td>None</td>\n",
              "      <td>None</td>\n",
              "      <td>None</td>\n",
              "      <td>None</td>\n",
              "      <td>None</td>\n",
              "      <td>NO</td>\n",
              "      <td>NO</td>\n",
              "      <td>None</td>\n",
              "    </tr>\n",
              "    <tr>\n",
              "      <th>183</th>\n",
              "      <td>project_sql</td>\n",
              "      <td>information_schema</td>\n",
              "      <td>foreign_table_options</td>\n",
              "      <td>VIEW</td>\n",
              "      <td>None</td>\n",
              "      <td>None</td>\n",
              "      <td>None</td>\n",
              "      <td>None</td>\n",
              "      <td>None</td>\n",
              "      <td>NO</td>\n",
              "      <td>NO</td>\n",
              "      <td>None</td>\n",
              "    </tr>\n",
              "    <tr>\n",
              "      <th>184</th>\n",
              "      <td>project_sql</td>\n",
              "      <td>information_schema</td>\n",
              "      <td>foreign_tables</td>\n",
              "      <td>VIEW</td>\n",
              "      <td>None</td>\n",
              "      <td>None</td>\n",
              "      <td>None</td>\n",
              "      <td>None</td>\n",
              "      <td>None</td>\n",
              "      <td>NO</td>\n",
              "      <td>NO</td>\n",
              "      <td>None</td>\n",
              "    </tr>\n",
              "  </tbody>\n",
              "</table>\n",
              "<p>185 rows × 12 columns</p>\n",
              "</div>"
            ],
            "text/plain": [
              "    table_catalog        table_schema              table_name  table_type  \\\n",
              "0     project_sql              public                    test  BASE TABLE   \n",
              "1     project_sql              public                  t_tab1  BASE TABLE   \n",
              "2     project_sql              public                  t_tab2  BASE TABLE   \n",
              "3     project_sql              public              operations  BASE TABLE   \n",
              "4     project_sql              public                 table_1  BASE TABLE   \n",
              "..            ...                 ...                     ...         ...   \n",
              "180   project_sql  information_schema   foreign_data_wrappers        VIEW   \n",
              "181   project_sql  information_schema  foreign_server_options        VIEW   \n",
              "182   project_sql  information_schema         foreign_servers        VIEW   \n",
              "183   project_sql  information_schema   foreign_table_options        VIEW   \n",
              "184   project_sql  information_schema          foreign_tables        VIEW   \n",
              "\n",
              "    self_referencing_column_name reference_generation  \\\n",
              "0                           None                 None   \n",
              "1                           None                 None   \n",
              "2                           None                 None   \n",
              "3                           None                 None   \n",
              "4                           None                 None   \n",
              "..                           ...                  ...   \n",
              "180                         None                 None   \n",
              "181                         None                 None   \n",
              "182                         None                 None   \n",
              "183                         None                 None   \n",
              "184                         None                 None   \n",
              "\n",
              "    user_defined_type_catalog user_defined_type_schema user_defined_type_name  \\\n",
              "0                        None                     None                   None   \n",
              "1                        None                     None                   None   \n",
              "2                        None                     None                   None   \n",
              "3                        None                     None                   None   \n",
              "4                        None                     None                   None   \n",
              "..                        ...                      ...                    ...   \n",
              "180                      None                     None                   None   \n",
              "181                      None                     None                   None   \n",
              "182                      None                     None                   None   \n",
              "183                      None                     None                   None   \n",
              "184                      None                     None                   None   \n",
              "\n",
              "    is_insertable_into is_typed commit_action  \n",
              "0                  YES       NO          None  \n",
              "1                  YES       NO          None  \n",
              "2                  YES       NO          None  \n",
              "3                  YES       NO          None  \n",
              "4                  YES       NO          None  \n",
              "..                 ...      ...           ...  \n",
              "180                 NO       NO          None  \n",
              "181                 NO       NO          None  \n",
              "182                 NO       NO          None  \n",
              "183                 NO       NO          None  \n",
              "184                 NO       NO          None  \n",
              "\n",
              "[185 rows x 12 columns]"
            ]
          },
          "metadata": {},
          "output_type": "display_data"
        }
      ],
      "source": [
        "query_0 = f'''\n",
        "select *\n",
        "from information_schema.tables t\n",
        "''' \n",
        "total_df = pd.read_sql_query(sql=query_0, con=connection)\n",
        "display(total_df)\n",
        "\n",
        "# Для удобство создадим файл xlsx в сторонней папке\n",
        "total_df.to_excel(excel_writer='Not_important/total_sql_base.xlsx', sheet_name='total_base')"
      ]
    },
    {
      "cell_type": "markdown",
      "id": "889782b6-8d1c-410e-8920-e57f27917c64",
      "metadata": {
        "id": "889782b6-8d1c-410e-8920-e57f27917c64"
      },
      "source": [
        "1. Напишите запрос, который посчитает количество вакансий в нашей базе (вакансии находятся в таблице vacancies). "
      ]
    },
    {
      "cell_type": "code",
      "execution_count": 136,
      "id": "bc39e68e-ed02-4ee2-9235-7258a2f867a8",
      "metadata": {
        "id": "bc39e68e-ed02-4ee2-9235-7258a2f867a8"
      },
      "outputs": [],
      "source": [
        "# текст запроса\n",
        "# Посчитаем количество вакансий в базе данных\n",
        "# Запрос в sql\n",
        "\n",
        "query_3_1 = f'''\n",
        "select count(*) \n",
        "from vacancies\n",
        "'''"
      ]
    },
    {
      "cell_type": "code",
      "execution_count": 137,
      "id": "7mAwtsk4hEHY",
      "metadata": {
        "id": "7mAwtsk4hEHY"
      },
      "outputs": [
        {
          "name": "stdout",
          "output_type": "stream",
          "text": [
            "Количество вакансий в базе данных - 49197\n",
            "\n"
          ]
        },
        {
          "name": "stderr",
          "output_type": "stream",
          "text": [
            "C:\\Users\\qwert\\AppData\\Local\\Temp\\ipykernel_19216\\1825579212.py:3: UserWarning: pandas only supports SQLAlchemy connectable (engine/connection) or database string URI or sqlite3 DBAPI2 connection. Other DBAPI2 objects are not tested. Please consider using SQLAlchemy.\n",
            "  total_vacancies = pd.read_sql_query(sql=query_3_1, con=connection)\n"
          ]
        }
      ],
      "source": [
        "# Вывод расчетов \n",
        "\n",
        "total_vacancies = pd.read_sql_query(sql=query_3_1, con=connection)\n",
        "print(f'Количество вакансий в базе данных - {total_vacancies.iloc[0][0]}')\n",
        "print()"
      ]
    },
    {
      "cell_type": "markdown",
      "id": "b583485d-1f9e-494e-ada4-80ffff7c53d6",
      "metadata": {
        "id": "b583485d-1f9e-494e-ada4-80ffff7c53d6"
      },
      "source": [
        "2. Напишите запрос, который посчитает количество работодателей (таблица employers). "
      ]
    },
    {
      "cell_type": "code",
      "execution_count": 138,
      "id": "5408c52c-3407-4a63-b25b-1aafa2322d28",
      "metadata": {
        "id": "5408c52c-3407-4a63-b25b-1aafa2322d28"
      },
      "outputs": [],
      "source": [
        "# текст запроса\n",
        "# Посчитаем количество работодателей.\n",
        "# Запрос в sql\n",
        "\n",
        "query_3_2 = f'''\n",
        "select count(*)\n",
        "from employers\n",
        "'''"
      ]
    },
    {
      "cell_type": "code",
      "execution_count": 139,
      "id": "jVL4eshKhdqc",
      "metadata": {
        "id": "jVL4eshKhdqc"
      },
      "outputs": [
        {
          "name": "stdout",
          "output_type": "stream",
          "text": [
            "Количество работодателей в базе данных - 23501\n",
            "\n"
          ]
        },
        {
          "name": "stderr",
          "output_type": "stream",
          "text": [
            "C:\\Users\\qwert\\AppData\\Local\\Temp\\ipykernel_19216\\3344910275.py:4: UserWarning: pandas only supports SQLAlchemy connectable (engine/connection) or database string URI or sqlite3 DBAPI2 connection. Other DBAPI2 objects are not tested. Please consider using SQLAlchemy.\n",
            "  count_employers = pd.read_sql_query(sql=query_3_2, con=connection)\n"
          ]
        }
      ],
      "source": [
        "# результат запроса\n",
        "# Выводим результат на экран\n",
        "\n",
        "count_employers = pd.read_sql_query(sql=query_3_2, con=connection)\n",
        "print(f'Количество работодателей в базе данных - {count_employers.iloc[0][0]}')\n",
        "print()"
      ]
    },
    {
      "cell_type": "markdown",
      "id": "a2bfff1f-c975-4bf6-84be-2185d79dcb76",
      "metadata": {
        "id": "a2bfff1f-c975-4bf6-84be-2185d79dcb76"
      },
      "source": [
        "3. Посчитате с помощью запроса количество регионов (таблица areas)."
      ]
    },
    {
      "cell_type": "code",
      "execution_count": 140,
      "id": "1m8QJwBYhey6",
      "metadata": {
        "id": "1m8QJwBYhey6"
      },
      "outputs": [],
      "source": [
        "# текст запроса\n",
        "# Посчитаем количество регионов.\n",
        "# Запрос в sql\n",
        "\n",
        "query_3_3 = f''' \n",
        "select count(*)\n",
        "from areas\n",
        "'''"
      ]
    },
    {
      "cell_type": "code",
      "execution_count": 141,
      "id": "EZsn9tlfhe7f",
      "metadata": {
        "id": "EZsn9tlfhe7f"
      },
      "outputs": [
        {
          "name": "stdout",
          "output_type": "stream",
          "text": [
            "Количество регионов - 1362\n",
            "\n"
          ]
        },
        {
          "name": "stderr",
          "output_type": "stream",
          "text": [
            "C:\\Users\\qwert\\AppData\\Local\\Temp\\ipykernel_19216\\2516431766.py:4: UserWarning: pandas only supports SQLAlchemy connectable (engine/connection) or database string URI or sqlite3 DBAPI2 connection. Other DBAPI2 objects are not tested. Please consider using SQLAlchemy.\n",
            "  total_regions = pd.read_sql_query(sql=query_3_3, con=connection)\n"
          ]
        }
      ],
      "source": [
        "# результат запроса\n",
        "# Выводим результат на экран\n",
        "\n",
        "total_regions = pd.read_sql_query(sql=query_3_3, con=connection)\n",
        "print(f'Количество регионов - {total_regions.iloc[0][0]}')\n",
        "print()"
      ]
    },
    {
      "cell_type": "markdown",
      "id": "41bb59f3-53cc-4a67-a5bc-bedf573955e4",
      "metadata": {
        "id": "41bb59f3-53cc-4a67-a5bc-bedf573955e4"
      },
      "source": [
        "4. Посчитате с помощью запроса количество сфер деятельности в базе (таблица industries)."
      ]
    },
    {
      "cell_type": "code",
      "execution_count": 142,
      "id": "d286cf4c-707b-4cd2-9190-7ab3587d04a1",
      "metadata": {
        "id": "d286cf4c-707b-4cd2-9190-7ab3587d04a1"
      },
      "outputs": [],
      "source": [
        "# текст запроса\n",
        "# Посчитаем количество сфер деятельности.\n",
        "# Запрос в sql\n",
        "\n",
        "query_3_4 = f''' \n",
        "select count(*)\n",
        "from industries\n",
        "''' "
      ]
    },
    {
      "cell_type": "code",
      "execution_count": 143,
      "id": "JYAaoZ4qhfzW",
      "metadata": {
        "id": "JYAaoZ4qhfzW"
      },
      "outputs": [
        {
          "name": "stdout",
          "output_type": "stream",
          "text": [
            "Количество представленных сфер деятельности - 294\n",
            "\n"
          ]
        },
        {
          "name": "stderr",
          "output_type": "stream",
          "text": [
            "C:\\Users\\qwert\\AppData\\Local\\Temp\\ipykernel_19216\\3427149412.py:4: UserWarning: pandas only supports SQLAlchemy connectable (engine/connection) or database string URI or sqlite3 DBAPI2 connection. Other DBAPI2 objects are not tested. Please consider using SQLAlchemy.\n",
            "  total_industries = pd.read_sql_query(sql=query_3_4, con=connection)\n"
          ]
        }
      ],
      "source": [
        "# результат запроса\n",
        "# Выводим результат на экран\n",
        "\n",
        "total_industries = pd.read_sql_query(sql=query_3_4, con=connection)\n",
        "print(f'Количество представленных сфер деятельности - {total_industries.iloc[0][0]}')\n",
        "print()"
      ]
    },
    {
      "cell_type": "markdown",
      "id": "9a8a2181-6914-448b-85f1-38f5f18b8a93",
      "metadata": {
        "id": "9a8a2181-6914-448b-85f1-38f5f18b8a93"
      },
      "source": [
        "***"
      ]
    },
    {
      "cell_type": "markdown",
      "id": "e6d3467a",
      "metadata": {},
      "source": [
        "**Вывод 1:** 23,5 тысячи работодателей предоставляют 49 тысяч вакансий (в среднем по 2 вакансии на работодателя). Возможно в базе не представлены крупные компании с 100+ вакансиями или много работодателей выставляют только 1 вакансию или не выставляют вакансии вовсе.\n",
        "\n",
        "**Вывод 2:** Все участники рынка рабочей силы сосредоточены в 1362 регионах. Это значит, что вакансии приходят из абсолютно разных регионов со всей России и ближайшего зарубежья.\n",
        "\n",
        "**Вывод 3** Количество представленых сфер крайне мало для такой выборки (в среднем 167 вакансий на отрасль). Это модет говорить о специализации базы данных. "
      ]
    },
    {
      "cell_type": "markdown",
      "id": "8d62a9f3-f64e-4fe7-bdac-c4dffa16155e",
      "metadata": {
        "id": "8d62a9f3-f64e-4fe7-bdac-c4dffa16155e"
      },
      "source": [
        "# Юнит 4. Детальный анализ вакансий"
      ]
    },
    {
      "cell_type": "markdown",
      "id": "93053d3d-b284-481a-9cf7-012d7014c0e0",
      "metadata": {
        "id": "93053d3d-b284-481a-9cf7-012d7014c0e0"
      },
      "source": [
        "1. Напишите запрос, который позволит узнать, сколько (cnt) вакансий в каждом регионе (area).\n",
        "Отсортируйте по количеству вакансий в порядке убывания."
      ]
    },
    {
      "cell_type": "code",
      "execution_count": 144,
      "id": "3f069da6-fdc9-4ae7-b514-fafe2675efd3",
      "metadata": {
        "id": "3f069da6-fdc9-4ae7-b514-fafe2675efd3"
      },
      "outputs": [],
      "source": [
        "# текст запроса\n",
        "# Напишем sql-запрос для определения количества вакансий в регионах\n",
        "# Сразу применем лимитирующее условие из задания 4.1 (пятерка лидеров)\n",
        "\n",
        "query_4_1 = f''' \n",
        "select\n",
        "    ar.name \"Регион\",\n",
        "    count(v.*) \"Количество вакансий\"\n",
        "from areas as ar\n",
        "left join vacancies as v on ar.id=v.area_id\n",
        "group by Регион\n",
        "order by 2 desc\n",
        "limit 5\n",
        "'''"
      ]
    },
    {
      "cell_type": "code",
      "execution_count": 145,
      "id": "P7QL86hrjhRJ",
      "metadata": {
        "id": "P7QL86hrjhRJ"
      },
      "outputs": [
        {
          "name": "stderr",
          "output_type": "stream",
          "text": [
            "C:\\Users\\qwert\\AppData\\Local\\Temp\\ipykernel_19216\\3089418932.py:4: UserWarning: pandas only supports SQLAlchemy connectable (engine/connection) or database string URI or sqlite3 DBAPI2 connection. Other DBAPI2 objects are not tested. Please consider using SQLAlchemy.\n",
            "  area_vacancies = pd.read_sql_query(sql=query_4_1, con=connection)\n"
          ]
        },
        {
          "data": {
            "text/html": [
              "<div>\n",
              "<style scoped>\n",
              "    .dataframe tbody tr th:only-of-type {\n",
              "        vertical-align: middle;\n",
              "    }\n",
              "\n",
              "    .dataframe tbody tr th {\n",
              "        vertical-align: top;\n",
              "    }\n",
              "\n",
              "    .dataframe thead th {\n",
              "        text-align: right;\n",
              "    }\n",
              "</style>\n",
              "<table border=\"1\" class=\"dataframe\">\n",
              "  <thead>\n",
              "    <tr style=\"text-align: right;\">\n",
              "      <th></th>\n",
              "      <th>Регион</th>\n",
              "      <th>Количество вакансий</th>\n",
              "    </tr>\n",
              "  </thead>\n",
              "  <tbody>\n",
              "    <tr>\n",
              "      <th>0</th>\n",
              "      <td>Москва</td>\n",
              "      <td>5333</td>\n",
              "    </tr>\n",
              "    <tr>\n",
              "      <th>1</th>\n",
              "      <td>Санкт-Петербург</td>\n",
              "      <td>2851</td>\n",
              "    </tr>\n",
              "    <tr>\n",
              "      <th>2</th>\n",
              "      <td>Минск</td>\n",
              "      <td>2112</td>\n",
              "    </tr>\n",
              "    <tr>\n",
              "      <th>3</th>\n",
              "      <td>Новосибирск</td>\n",
              "      <td>2006</td>\n",
              "    </tr>\n",
              "    <tr>\n",
              "      <th>4</th>\n",
              "      <td>Алматы</td>\n",
              "      <td>1892</td>\n",
              "    </tr>\n",
              "  </tbody>\n",
              "</table>\n",
              "</div>"
            ],
            "text/plain": [
              "            Регион  Количество вакансий\n",
              "0           Москва                 5333\n",
              "1  Санкт-Петербург                 2851\n",
              "2            Минск                 2112\n",
              "3      Новосибирск                 2006\n",
              "4           Алматы                 1892"
            ]
          },
          "metadata": {},
          "output_type": "display_data"
        },
        {
          "name": "stdout",
          "output_type": "stream",
          "text": [
            "\n",
            "Список регионов с максимальным количеством вакансий: ['Москва', 'Санкт-Петербург', 'Минск', 'Новосибирск', 'Алматы']\n"
          ]
        }
      ],
      "source": [
        "# результат запроса\n",
        "# Выведем результат в виде таблицы в excel\n",
        "\n",
        "area_vacancies = pd.read_sql_query(sql=query_4_1, con=connection)\n",
        "display(area_vacancies)\n",
        "print()\n",
        "\n",
        "# Ответ на вопрос\n",
        "print(f\"Список регионов с максимальным количеством вакансий: {list(area_vacancies['Регион'])}\")"
      ]
    },
    {
      "cell_type": "markdown",
      "id": "4266f0b6-1646-492a-88b4-2f6a46502135",
      "metadata": {
        "id": "4266f0b6-1646-492a-88b4-2f6a46502135"
      },
      "source": [
        "2. Напишите запрос, чтобы определить у какого количества вакансий заполнено хотя бы одно из двух полей с зарплатой."
      ]
    },
    {
      "cell_type": "code",
      "execution_count": 146,
      "id": "0c44b350-72eb-4d65-8b54-a1fc449ba9fd",
      "metadata": {
        "id": "0c44b350-72eb-4d65-8b54-a1fc449ba9fd"
      },
      "outputs": [],
      "source": [
        "# текст запроса\n",
        "# Напишем запрос в sql\n",
        "\n",
        "query_4_2 = f''' \n",
        "select count(*)\n",
        "from vacancies\n",
        "where (salary_from is not null) or (salary_to is not null)\n",
        "'''"
      ]
    },
    {
      "cell_type": "code",
      "execution_count": 147,
      "id": "rhvwaMDkoWTi",
      "metadata": {
        "id": "rhvwaMDkoWTi"
      },
      "outputs": [
        {
          "name": "stdout",
          "output_type": "stream",
          "text": [
            "Количество вакансий, у которых заполнено хотя бы одно из двух полей с зарплатой - 24073\n",
            "\n"
          ]
        },
        {
          "name": "stderr",
          "output_type": "stream",
          "text": [
            "C:\\Users\\qwert\\AppData\\Local\\Temp\\ipykernel_19216\\107331342.py:4: UserWarning: pandas only supports SQLAlchemy connectable (engine/connection) or database string URI or sqlite3 DBAPI2 connection. Other DBAPI2 objects are not tested. Please consider using SQLAlchemy.\n",
            "  salary_completed = pd.read_sql_query(sql=query_4_2, con=connection)\n"
          ]
        }
      ],
      "source": [
        "# результат запроса\n",
        "# Выведем на экран ответ\n",
        "\n",
        "salary_completed = pd.read_sql_query(sql=query_4_2, con=connection)\n",
        "\n",
        "# Ответ на вопрос\n",
        "print(f'Количество вакансий, у которых заполнено хотя бы одно из двух полей с зарплатой - {salary_completed.iloc[0][0]}')\n",
        "print()"
      ]
    },
    {
      "cell_type": "markdown",
      "id": "635c4d5d-f323-4c66-b428-50a088120aa0",
      "metadata": {
        "id": "635c4d5d-f323-4c66-b428-50a088120aa0"
      },
      "source": [
        "3. Найдите средние значения для нижней и верхней границы зарплатной вилки. Округлите значения до целого."
      ]
    },
    {
      "cell_type": "code",
      "execution_count": 148,
      "id": "603cdbe4-0ec3-4106-8eaf-c73fcdd29165",
      "metadata": {
        "id": "603cdbe4-0ec3-4106-8eaf-c73fcdd29165"
      },
      "outputs": [],
      "source": [
        "# текст запроса\n",
        "# Запрос в sql\n",
        "\n",
        "query_4_3 = f''' \n",
        "select \n",
        "    round(avg(v.salary_from)) \"Нижняя граница\",\n",
        "    round(avg(v.salary_to)) \"Верхняя граница\" \n",
        "from vacancies as v\n",
        "'''  "
      ]
    },
    {
      "cell_type": "code",
      "execution_count": 149,
      "id": "pswpAb66ovZZ",
      "metadata": {
        "id": "pswpAb66ovZZ"
      },
      "outputs": [
        {
          "name": "stderr",
          "output_type": "stream",
          "text": [
            "C:\\Users\\qwert\\AppData\\Local\\Temp\\ipykernel_19216\\3159638449.py:4: UserWarning: pandas only supports SQLAlchemy connectable (engine/connection) or database string URI or sqlite3 DBAPI2 connection. Other DBAPI2 objects are not tested. Please consider using SQLAlchemy.\n",
            "  mean_salary_boarders = pd.read_sql_query(sql=query_4_3, con=connection)\n"
          ]
        },
        {
          "data": {
            "text/html": [
              "<div>\n",
              "<style scoped>\n",
              "    .dataframe tbody tr th:only-of-type {\n",
              "        vertical-align: middle;\n",
              "    }\n",
              "\n",
              "    .dataframe tbody tr th {\n",
              "        vertical-align: top;\n",
              "    }\n",
              "\n",
              "    .dataframe thead th {\n",
              "        text-align: right;\n",
              "    }\n",
              "</style>\n",
              "<table border=\"1\" class=\"dataframe\">\n",
              "  <thead>\n",
              "    <tr style=\"text-align: right;\">\n",
              "      <th></th>\n",
              "      <th>Нижняя граница</th>\n",
              "      <th>Верхняя граница</th>\n",
              "    </tr>\n",
              "  </thead>\n",
              "  <tbody>\n",
              "    <tr>\n",
              "      <th>0</th>\n",
              "      <td>71065.0</td>\n",
              "      <td>110537.0</td>\n",
              "    </tr>\n",
              "  </tbody>\n",
              "</table>\n",
              "</div>"
            ],
            "text/plain": [
              "   Нижняя граница  Верхняя граница\n",
              "0         71065.0         110537.0"
            ]
          },
          "metadata": {},
          "output_type": "display_data"
        },
        {
          "name": "stdout",
          "output_type": "stream",
          "text": [
            "\n",
            "Среднее значение нижнего порога зарплаты в вакансиях - 71065\n",
            "\n",
            "Среднее значение верхнего порога зарплаты в вакансиях - 110537\n"
          ]
        }
      ],
      "source": [
        "# результат запроса\n",
        "# Веведем результат на экран\n",
        "\n",
        "mean_salary_boarders = pd.read_sql_query(sql=query_4_3, con=connection)\n",
        "display(mean_salary_boarders)\n",
        "print()\n",
        "\n",
        "# Ответы на вопросы\n",
        "print(f\"Среднее значение нижнего порога зарплаты в вакансиях - {int(mean_salary_boarders['Нижняя граница'].loc[0])}\")\n",
        "print()\n",
        "print(f\"Среднее значение верхнего порога зарплаты в вакансиях - {int(mean_salary_boarders['Верхняя граница'].loc[0])}\")\n"
      ]
    },
    {
      "cell_type": "markdown",
      "id": "f3fdaec9-5fd3-4260-9cf5-1d7406b628a5",
      "metadata": {
        "id": "f3fdaec9-5fd3-4260-9cf5-1d7406b628a5"
      },
      "source": [
        "4. Напишите запрос, который выведет количество вакансий для каждого сочетания типа рабочего графика (schedule) и типа трудоустройства (employment), используемого в вакансиях. Результат отсортируйте по убыванию количества.\n"
      ]
    },
    {
      "cell_type": "code",
      "execution_count": 150,
      "id": "1ea710ec-871b-431e-9462-c7d0fd87011b",
      "metadata": {
        "id": "1ea710ec-871b-431e-9462-c7d0fd87011b"
      },
      "outputs": [],
      "source": [
        "# текст запроса\n",
        "# Напишем sql-запрос для выведения количества вакансий для каждого сочетания типа рабочего графика и типа трудоустройства\n",
        "\n",
        "query_4_4 = f''' \n",
        "select \n",
        "    v.schedule График,\n",
        "    v.employment \"Тип трудоустройства\",\n",
        "    count(v.*)\n",
        "from vacancies as v\n",
        "group by 1, 2\n",
        "order by 3 desc\n",
        "'''"
      ]
    },
    {
      "cell_type": "code",
      "execution_count": 151,
      "id": "lGUVqavdo4JQ",
      "metadata": {
        "id": "lGUVqavdo4JQ"
      },
      "outputs": [
        {
          "name": "stderr",
          "output_type": "stream",
          "text": [
            "C:\\Users\\qwert\\AppData\\Local\\Temp\\ipykernel_19216\\1739767337.py:4: UserWarning: pandas only supports SQLAlchemy connectable (engine/connection) or database string URI or sqlite3 DBAPI2 connection. Other DBAPI2 objects are not tested. Please consider using SQLAlchemy.\n",
            "  schedule_employment_number = pd.read_sql_query(sql=query_4_4, con=connection)\n"
          ]
        },
        {
          "data": {
            "text/html": [
              "<div>\n",
              "<style scoped>\n",
              "    .dataframe tbody tr th:only-of-type {\n",
              "        vertical-align: middle;\n",
              "    }\n",
              "\n",
              "    .dataframe tbody tr th {\n",
              "        vertical-align: top;\n",
              "    }\n",
              "\n",
              "    .dataframe thead th {\n",
              "        text-align: right;\n",
              "    }\n",
              "</style>\n",
              "<table border=\"1\" class=\"dataframe\">\n",
              "  <thead>\n",
              "    <tr style=\"text-align: right;\">\n",
              "      <th></th>\n",
              "      <th>График</th>\n",
              "      <th>Тип трудоустройства</th>\n",
              "      <th>count</th>\n",
              "    </tr>\n",
              "  </thead>\n",
              "  <tbody>\n",
              "    <tr>\n",
              "      <th>0</th>\n",
              "      <td>Полный день</td>\n",
              "      <td>Полная занятость</td>\n",
              "      <td>35367</td>\n",
              "    </tr>\n",
              "    <tr>\n",
              "      <th>1</th>\n",
              "      <td>Удаленная работа</td>\n",
              "      <td>Полная занятость</td>\n",
              "      <td>7802</td>\n",
              "    </tr>\n",
              "    <tr>\n",
              "      <th>2</th>\n",
              "      <td>Гибкий график</td>\n",
              "      <td>Полная занятость</td>\n",
              "      <td>1593</td>\n",
              "    </tr>\n",
              "    <tr>\n",
              "      <th>3</th>\n",
              "      <td>Удаленная работа</td>\n",
              "      <td>Частичная занятость</td>\n",
              "      <td>1312</td>\n",
              "    </tr>\n",
              "    <tr>\n",
              "      <th>4</th>\n",
              "      <td>Сменный график</td>\n",
              "      <td>Полная занятость</td>\n",
              "      <td>940</td>\n",
              "    </tr>\n",
              "    <tr>\n",
              "      <th>5</th>\n",
              "      <td>Полный день</td>\n",
              "      <td>Стажировка</td>\n",
              "      <td>569</td>\n",
              "    </tr>\n",
              "    <tr>\n",
              "      <th>6</th>\n",
              "      <td>Вахтовый метод</td>\n",
              "      <td>Полная занятость</td>\n",
              "      <td>367</td>\n",
              "    </tr>\n",
              "    <tr>\n",
              "      <th>7</th>\n",
              "      <td>Полный день</td>\n",
              "      <td>Частичная занятость</td>\n",
              "      <td>347</td>\n",
              "    </tr>\n",
              "    <tr>\n",
              "      <th>8</th>\n",
              "      <td>Гибкий график</td>\n",
              "      <td>Частичная занятость</td>\n",
              "      <td>312</td>\n",
              "    </tr>\n",
              "    <tr>\n",
              "      <th>9</th>\n",
              "      <td>Полный день</td>\n",
              "      <td>Проектная работа</td>\n",
              "      <td>141</td>\n",
              "    </tr>\n",
              "    <tr>\n",
              "      <th>10</th>\n",
              "      <td>Удаленная работа</td>\n",
              "      <td>Проектная работа</td>\n",
              "      <td>133</td>\n",
              "    </tr>\n",
              "    <tr>\n",
              "      <th>11</th>\n",
              "      <td>Гибкий график</td>\n",
              "      <td>Стажировка</td>\n",
              "      <td>116</td>\n",
              "    </tr>\n",
              "    <tr>\n",
              "      <th>12</th>\n",
              "      <td>Сменный график</td>\n",
              "      <td>Частичная занятость</td>\n",
              "      <td>101</td>\n",
              "    </tr>\n",
              "    <tr>\n",
              "      <th>13</th>\n",
              "      <td>Удаленная работа</td>\n",
              "      <td>Стажировка</td>\n",
              "      <td>64</td>\n",
              "    </tr>\n",
              "    <tr>\n",
              "      <th>14</th>\n",
              "      <td>Гибкий график</td>\n",
              "      <td>Проектная работа</td>\n",
              "      <td>18</td>\n",
              "    </tr>\n",
              "    <tr>\n",
              "      <th>15</th>\n",
              "      <td>Сменный график</td>\n",
              "      <td>Стажировка</td>\n",
              "      <td>12</td>\n",
              "    </tr>\n",
              "    <tr>\n",
              "      <th>16</th>\n",
              "      <td>Вахтовый метод</td>\n",
              "      <td>Проектная работа</td>\n",
              "      <td>2</td>\n",
              "    </tr>\n",
              "    <tr>\n",
              "      <th>17</th>\n",
              "      <td>Сменный график</td>\n",
              "      <td>Проектная работа</td>\n",
              "      <td>1</td>\n",
              "    </tr>\n",
              "  </tbody>\n",
              "</table>\n",
              "</div>"
            ],
            "text/plain": [
              "              График  Тип трудоустройства  count\n",
              "0        Полный день     Полная занятость  35367\n",
              "1   Удаленная работа     Полная занятость   7802\n",
              "2      Гибкий график     Полная занятость   1593\n",
              "3   Удаленная работа  Частичная занятость   1312\n",
              "4     Сменный график     Полная занятость    940\n",
              "5        Полный день           Стажировка    569\n",
              "6     Вахтовый метод     Полная занятость    367\n",
              "7        Полный день  Частичная занятость    347\n",
              "8      Гибкий график  Частичная занятость    312\n",
              "9        Полный день     Проектная работа    141\n",
              "10  Удаленная работа     Проектная работа    133\n",
              "11     Гибкий график           Стажировка    116\n",
              "12    Сменный график  Частичная занятость    101\n",
              "13  Удаленная работа           Стажировка     64\n",
              "14     Гибкий график     Проектная работа     18\n",
              "15    Сменный график           Стажировка     12\n",
              "16    Вахтовый метод     Проектная работа      2\n",
              "17    Сменный график     Проектная работа      1"
            ]
          },
          "metadata": {},
          "output_type": "display_data"
        },
        {
          "name": "stdout",
          "output_type": "stream",
          "text": [
            "\n",
            "На втором месте по популярности находится пара Удаленная работа - Полная занятость\n"
          ]
        }
      ],
      "source": [
        "# результат запроса\n",
        "# Выведем результат запроса\n",
        "\n",
        "schedule_employment_number = pd.read_sql_query(sql=query_4_4, con=connection)\n",
        "display(schedule_employment_number)\n",
        "print()\n",
        "\n",
        "# Ответ на вопрос\n",
        "print(f\"На втором месте по популярности находится пара {schedule_employment_number['График'][1]} - {schedule_employment_number['Тип трудоустройства'][1]}\")"
      ]
    },
    {
      "cell_type": "markdown",
      "id": "0136ffee-0ead-4a6b-b608-61d1c753a438",
      "metadata": {
        "id": "0136ffee-0ead-4a6b-b608-61d1c753a438"
      },
      "source": [
        "5. Напишите запрос, выводящий значения поля Требуемый опыт работы (experience) в порядке возрастания количества вакансий, в которых указан данный вариант опыта. "
      ]
    },
    {
      "cell_type": "code",
      "execution_count": 152,
      "id": "5b3a8e79-f7ab-4008-b767-12aea3a205ea",
      "metadata": {
        "id": "5b3a8e79-f7ab-4008-b767-12aea3a205ea"
      },
      "outputs": [],
      "source": [
        "# текст запроса\n",
        "# Напишем запрос в sql\n",
        "\n",
        "query_4_5 = f''' \n",
        "select  \n",
        "    v.experience \"Требуемый опыт\",\n",
        "    count(v.*) \"Количество вакансий\"\n",
        "from vacancies v\n",
        "group by v.experience\n",
        "order by  count(v.*) asc\n",
        "'''"
      ]
    },
    {
      "cell_type": "code",
      "execution_count": 153,
      "id": "3Is64Y-hpDpq",
      "metadata": {
        "id": "3Is64Y-hpDpq"
      },
      "outputs": [
        {
          "name": "stderr",
          "output_type": "stream",
          "text": [
            "C:\\Users\\qwert\\AppData\\Local\\Temp\\ipykernel_19216\\1456543215.py:3: UserWarning: pandas only supports SQLAlchemy connectable (engine/connection) or database string URI or sqlite3 DBAPI2 connection. Other DBAPI2 objects are not tested. Please consider using SQLAlchemy.\n",
            "  experience_vacancies = pd.read_sql_query(sql=query_4_5, con=connection)\n"
          ]
        },
        {
          "data": {
            "text/html": [
              "<div>\n",
              "<style scoped>\n",
              "    .dataframe tbody tr th:only-of-type {\n",
              "        vertical-align: middle;\n",
              "    }\n",
              "\n",
              "    .dataframe tbody tr th {\n",
              "        vertical-align: top;\n",
              "    }\n",
              "\n",
              "    .dataframe thead th {\n",
              "        text-align: right;\n",
              "    }\n",
              "</style>\n",
              "<table border=\"1\" class=\"dataframe\">\n",
              "  <thead>\n",
              "    <tr style=\"text-align: right;\">\n",
              "      <th></th>\n",
              "      <th>Требуемый опыт</th>\n",
              "      <th>Количество вакансий</th>\n",
              "    </tr>\n",
              "  </thead>\n",
              "  <tbody>\n",
              "    <tr>\n",
              "      <th>0</th>\n",
              "      <td>Более 6 лет</td>\n",
              "      <td>1337</td>\n",
              "    </tr>\n",
              "    <tr>\n",
              "      <th>1</th>\n",
              "      <td>Нет опыта</td>\n",
              "      <td>7197</td>\n",
              "    </tr>\n",
              "    <tr>\n",
              "      <th>2</th>\n",
              "      <td>От 3 до 6 лет</td>\n",
              "      <td>14511</td>\n",
              "    </tr>\n",
              "    <tr>\n",
              "      <th>3</th>\n",
              "      <td>От 1 года до 3 лет</td>\n",
              "      <td>26152</td>\n",
              "    </tr>\n",
              "  </tbody>\n",
              "</table>\n",
              "</div>"
            ],
            "text/plain": [
              "       Требуемый опыт  Количество вакансий\n",
              "0         Более 6 лет                 1337\n",
              "1           Нет опыта                 7197\n",
              "2       От 3 до 6 лет                14511\n",
              "3  От 1 года до 3 лет                26152"
            ]
          },
          "metadata": {},
          "output_type": "display_data"
        },
        {
          "name": "stdout",
          "output_type": "stream",
          "text": [
            "\n",
            "Опыт работы в порядке возрастания количества вакансий - ('Более 6 лет', 'Нет опыта', 'От 3 до 6 лет', 'От 1 года до 3 лет')\n"
          ]
        }
      ],
      "source": [
        "# результат запроса\n",
        "\n",
        "experience_vacancies = pd.read_sql_query(sql=query_4_5, con=connection)\n",
        "display(experience_vacancies)\n",
        "print()\n",
        "\n",
        "# Ответ на вопрос\n",
        "print(f\"Опыт работы в порядке возрастания количества вакансий - {tuple(experience_vacancies['Требуемый опыт'])}\")"
      ]
    },
    {
      "cell_type": "markdown",
      "id": "oq2b7n1QpIka",
      "metadata": {
        "id": "oq2b7n1QpIka"
      },
      "source": [
        "***"
      ]
    },
    {
      "cell_type": "markdown",
      "id": "e639fcc7",
      "metadata": {},
      "source": [
        "**Вывод 1:** Больше всего вакансий размещается в крупных городах (преимущественно столицах): Москва, Санкт-Петербург, Минск, Новосибирск, Алматы.\n",
        "\n",
        "**Вывод 2:** Зарплата указана только в половине вакансий (в 24 073 из 49 197).\n",
        "\n",
        "**Вывод 3:** В среднем нижняя граница зарплат по вакансиям составляет 71 тыс. рублей, верхняя- 110,5 тыс. рублей.\n",
        "\n",
        "**Вывод 4:** Большинство вакансий (72%) предусматривают полный день и полную занятость. Затем идут варианты графиков, но сохраняется режим полной занятости. Меньше вакансий предусматривают иные варианты работы.\n",
        "\n",
        "**Вывод 5:** Наиболее востребованы специалисты с опытом работы от 1 до 3 лет (53%) и от 3 до 6 лет (29%)."
      ]
    },
    {
      "cell_type": "markdown",
      "id": "7ea20ab6-04a7-40a0-adec-443a0e5a42c3",
      "metadata": {
        "id": "7ea20ab6-04a7-40a0-adec-443a0e5a42c3"
      },
      "source": [
        "# Юнит 5. Анализ работодателей"
      ]
    },
    {
      "cell_type": "markdown",
      "id": "968aed80-74ef-4ffb-b5bf-c65b84e9caea",
      "metadata": {
        "id": "968aed80-74ef-4ffb-b5bf-c65b84e9caea"
      },
      "source": [
        "1. Напишите запрос, который позволит узнать, какие работодатели находятся на первом и пятом месте по количеству вакансий."
      ]
    },
    {
      "cell_type": "code",
      "execution_count": 154,
      "id": "f2d62796-d400-4ec1-a675-88112739a50e",
      "metadata": {
        "id": "f2d62796-d400-4ec1-a675-88112739a50e"
      },
      "outputs": [],
      "source": [
        "# текст запроса\n",
        "# Напишем запрос в sql\n",
        "\n",
        "query_5_1 = f''' \n",
        "(select \n",
        "    emp.name \"Работодатель\",\n",
        "    count(v.*) \"Количество вакансий\"\n",
        "from employers as emp\n",
        "left join vacancies as v on emp.id=v.employer_id\n",
        "group by Работодатель\n",
        "order by 2 desc\n",
        "limit 1)\n",
        "\n",
        "union\n",
        "\n",
        "(select \n",
        "    emp.name \"Работодатель\",\n",
        "    count(v.*) \"Количество вакансий\"\n",
        "from employers as emp\n",
        "left join vacancies as v on emp.id=v.employer_id\n",
        "group by Работодатель\n",
        "order by 2 desc\n",
        "limit 1 offset 4)\n",
        "\n",
        "order by 2 desc\n",
        "''' "
      ]
    },
    {
      "cell_type": "code",
      "execution_count": 155,
      "id": "64tOMkAxqkQk",
      "metadata": {
        "id": "64tOMkAxqkQk"
      },
      "outputs": [
        {
          "name": "stderr",
          "output_type": "stream",
          "text": [
            "C:\\Users\\qwert\\AppData\\Local\\Temp\\ipykernel_19216\\3889031087.py:4: UserWarning: pandas only supports SQLAlchemy connectable (engine/connection) or database string URI or sqlite3 DBAPI2 connection. Other DBAPI2 objects are not tested. Please consider using SQLAlchemy.\n",
            "  employer_vacancies = pd.read_sql_query(sql=query_5_1, con=connection)\n"
          ]
        },
        {
          "data": {
            "text/html": [
              "<div>\n",
              "<style scoped>\n",
              "    .dataframe tbody tr th:only-of-type {\n",
              "        vertical-align: middle;\n",
              "    }\n",
              "\n",
              "    .dataframe tbody tr th {\n",
              "        vertical-align: top;\n",
              "    }\n",
              "\n",
              "    .dataframe thead th {\n",
              "        text-align: right;\n",
              "    }\n",
              "</style>\n",
              "<table border=\"1\" class=\"dataframe\">\n",
              "  <thead>\n",
              "    <tr style=\"text-align: right;\">\n",
              "      <th></th>\n",
              "      <th>Работодатель</th>\n",
              "      <th>Количество вакансий</th>\n",
              "    </tr>\n",
              "  </thead>\n",
              "  <tbody>\n",
              "    <tr>\n",
              "      <th>0</th>\n",
              "      <td>Яндекс</td>\n",
              "      <td>1933</td>\n",
              "    </tr>\n",
              "    <tr>\n",
              "      <th>1</th>\n",
              "      <td>Газпром нефть</td>\n",
              "      <td>331</td>\n",
              "    </tr>\n",
              "  </tbody>\n",
              "</table>\n",
              "</div>"
            ],
            "text/plain": [
              "    Работодатель  Количество вакансий\n",
              "0         Яндекс                 1933\n",
              "1  Газпром нефть                  331"
            ]
          },
          "metadata": {},
          "output_type": "display_data"
        },
        {
          "name": "stdout",
          "output_type": "stream",
          "text": [
            "\n",
            "На первом и пятом месте в списке работодателей находятся Яндекс и Газпром нефть\n"
          ]
        }
      ],
      "source": [
        "# результат запроса\n",
        "# Выведем результат\n",
        "\n",
        "employer_vacancies = pd.read_sql_query(sql=query_5_1, con=connection)\n",
        "display(employer_vacancies)\n",
        "print()\n",
        "\n",
        "# Ответ на вопрос\n",
        "print(f\"На первом и пятом месте в списке работодателей находятся {employer_vacancies['Работодатель'].iloc[0]} и {employer_vacancies['Работодатель'].iloc[1]}\")"
      ]
    },
    {
      "cell_type": "markdown",
      "id": "68377cfc-b378-43dc-ab7d-1195abf2c515",
      "metadata": {
        "id": "68377cfc-b378-43dc-ab7d-1195abf2c515"
      },
      "source": [
        "2. Напишите запрос, который для каждого региона выведет количество работодателей и вакансий в нём.\n",
        "Среди регионов, в которых нет вакансий, найдите тот, в котором наибольшее количество работодателей.\n"
      ]
    },
    {
      "cell_type": "code",
      "execution_count": 156,
      "id": "dd7df27a-e3e8-412e-a21a-5d389b71e891",
      "metadata": {
        "id": "dd7df27a-e3e8-412e-a21a-5d389b71e891"
      },
      "outputs": [],
      "source": [
        "# текст запроса\n",
        "# Напишем запрос в sql\n",
        "\n",
        "query_5_2 = f''' \n",
        "select \n",
        "    ar.name Регион,\n",
        "    count(emp.*) \"Количество работодателей\",\n",
        "    count(vac.*) \"Количество вакансий\" \n",
        "from areas as ar\n",
        "left join employers as emp on emp.area=ar.id\n",
        "full join vacancies as vac on ar.id=vac.area_id\n",
        "group by Регион\n",
        "having count(vac.*)=0\n",
        "order by 2 desc\n",
        "limit 1\n",
        "''' "
      ]
    },
    {
      "cell_type": "code",
      "execution_count": 157,
      "id": "x1ikWbydrbf6",
      "metadata": {
        "id": "x1ikWbydrbf6"
      },
      "outputs": [
        {
          "name": "stderr",
          "output_type": "stream",
          "text": [
            "C:\\Users\\qwert\\AppData\\Local\\Temp\\ipykernel_19216\\2737541066.py:4: UserWarning: pandas only supports SQLAlchemy connectable (engine/connection) or database string URI or sqlite3 DBAPI2 connection. Other DBAPI2 objects are not tested. Please consider using SQLAlchemy.\n",
            "  regions_employers_vacs = pd.read_sql_query(sql=query_5_2, con=connection)\n"
          ]
        },
        {
          "data": {
            "text/html": [
              "<div>\n",
              "<style scoped>\n",
              "    .dataframe tbody tr th:only-of-type {\n",
              "        vertical-align: middle;\n",
              "    }\n",
              "\n",
              "    .dataframe tbody tr th {\n",
              "        vertical-align: top;\n",
              "    }\n",
              "\n",
              "    .dataframe thead th {\n",
              "        text-align: right;\n",
              "    }\n",
              "</style>\n",
              "<table border=\"1\" class=\"dataframe\">\n",
              "  <thead>\n",
              "    <tr style=\"text-align: right;\">\n",
              "      <th></th>\n",
              "      <th>Регион</th>\n",
              "      <th>Количество работодателей</th>\n",
              "      <th>Количество вакансий</th>\n",
              "    </tr>\n",
              "  </thead>\n",
              "  <tbody>\n",
              "    <tr>\n",
              "      <th>0</th>\n",
              "      <td>Россия</td>\n",
              "      <td>410</td>\n",
              "      <td>0</td>\n",
              "    </tr>\n",
              "  </tbody>\n",
              "</table>\n",
              "</div>"
            ],
            "text/plain": [
              "   Регион  Количество работодателей  Количество вакансий\n",
              "0  Россия                       410                    0"
            ]
          },
          "metadata": {},
          "output_type": "display_data"
        },
        {
          "name": "stdout",
          "output_type": "stream",
          "text": [
            "\n",
            "Регион с наибольшим количеством работодателей - Россия.\n"
          ]
        }
      ],
      "source": [
        "# результат запроса\n",
        "# Выведем получившуюся таблицу на экран\n",
        "\n",
        "regions_employers_vacs = pd.read_sql_query(sql=query_5_2, con=connection)\n",
        "display(regions_employers_vacs)\n",
        "print()\n",
        "\n",
        "# Ответ на вопрос\n",
        "print(f\"Регион с наибольшим количеством работодателей - {regions_employers_vacs['Регион'].iloc[0]}.\")"
      ]
    },
    {
      "cell_type": "markdown",
      "id": "f2fe0acb-ab1a-4e15-9326-2560e22d73c1",
      "metadata": {
        "id": "f2fe0acb-ab1a-4e15-9326-2560e22d73c1"
      },
      "source": [
        "3. Для каждого работодателя посчитайте количество регионов, в которых он публикует свои вакансии. Отсортируйте результат по убыванию количества.\n"
      ]
    },
    {
      "cell_type": "code",
      "execution_count": 158,
      "id": "6271f8ad-bd2e-4196-ae4a-5b39c4c1010e",
      "metadata": {
        "id": "6271f8ad-bd2e-4196-ae4a-5b39c4c1010e"
      },
      "outputs": [],
      "source": [
        "# текст запроса\n",
        "query_5_3 = f''' \n",
        "select \n",
        "    emp.name Работодатель,\n",
        "    count(distinct vac.area_id) \"Количество регионов\" \n",
        "from employers as emp\n",
        "left join vacancies as vac on vac.employer_id=emp.id \n",
        "group by Работодатель\n",
        "order by 2 desc\n",
        "'''"
      ]
    },
    {
      "cell_type": "code",
      "execution_count": 159,
      "id": "1EIvX3HasH4F",
      "metadata": {
        "id": "1EIvX3HasH4F"
      },
      "outputs": [
        {
          "name": "stderr",
          "output_type": "stream",
          "text": [
            "C:\\Users\\qwert\\AppData\\Local\\Temp\\ipykernel_19216\\3979372856.py:2: UserWarning: pandas only supports SQLAlchemy connectable (engine/connection) or database string URI or sqlite3 DBAPI2 connection. Other DBAPI2 objects are not tested. Please consider using SQLAlchemy.\n",
            "  employer_regions = pd.read_sql_query(sql=query_5_3, con=connection)\n"
          ]
        },
        {
          "data": {
            "text/html": [
              "<div>\n",
              "<style scoped>\n",
              "    .dataframe tbody tr th:only-of-type {\n",
              "        vertical-align: middle;\n",
              "    }\n",
              "\n",
              "    .dataframe tbody tr th {\n",
              "        vertical-align: top;\n",
              "    }\n",
              "\n",
              "    .dataframe thead th {\n",
              "        text-align: right;\n",
              "    }\n",
              "</style>\n",
              "<table border=\"1\" class=\"dataframe\">\n",
              "  <thead>\n",
              "    <tr style=\"text-align: right;\">\n",
              "      <th></th>\n",
              "      <th>Работодатель</th>\n",
              "      <th>Количество регионов</th>\n",
              "    </tr>\n",
              "  </thead>\n",
              "  <tbody>\n",
              "    <tr>\n",
              "      <th>0</th>\n",
              "      <td>Яндекс</td>\n",
              "      <td>181</td>\n",
              "    </tr>\n",
              "    <tr>\n",
              "      <th>1</th>\n",
              "      <td>Ростелеком</td>\n",
              "      <td>152</td>\n",
              "    </tr>\n",
              "    <tr>\n",
              "      <th>2</th>\n",
              "      <td>Спецремонт</td>\n",
              "      <td>116</td>\n",
              "    </tr>\n",
              "    <tr>\n",
              "      <th>3</th>\n",
              "      <td>Поляков Денис Иванович</td>\n",
              "      <td>88</td>\n",
              "    </tr>\n",
              "    <tr>\n",
              "      <th>4</th>\n",
              "      <td>ООО ЕФИН</td>\n",
              "      <td>71</td>\n",
              "    </tr>\n",
              "    <tr>\n",
              "      <th>...</th>\n",
              "      <td>...</td>\n",
              "      <td>...</td>\n",
              "    </tr>\n",
              "    <tr>\n",
              "      <th>23170</th>\n",
              "      <td>СДЕЛКА</td>\n",
              "      <td>0</td>\n",
              "    </tr>\n",
              "    <tr>\n",
              "      <th>23171</th>\n",
              "      <td>Alandr Group</td>\n",
              "      <td>0</td>\n",
              "    </tr>\n",
              "    <tr>\n",
              "      <th>23172</th>\n",
              "      <td>СДК</td>\n",
              "      <td>0</td>\n",
              "    </tr>\n",
              "    <tr>\n",
              "      <th>23173</th>\n",
              "      <td>Lemon Land Lombard</td>\n",
              "      <td>0</td>\n",
              "    </tr>\n",
              "    <tr>\n",
              "      <th>23174</th>\n",
              "      <td>Махина</td>\n",
              "      <td>0</td>\n",
              "    </tr>\n",
              "  </tbody>\n",
              "</table>\n",
              "<p>23175 rows × 2 columns</p>\n",
              "</div>"
            ],
            "text/plain": [
              "                 Работодатель  Количество регионов\n",
              "0                      Яндекс                  181\n",
              "1                  Ростелеком                  152\n",
              "2                  Спецремонт                  116\n",
              "3      Поляков Денис Иванович                   88\n",
              "4                   ООО ЕФИН                    71\n",
              "...                       ...                  ...\n",
              "23170                  СДЕЛКА                    0\n",
              "23171            Alandr Group                    0\n",
              "23172                     СДК                    0\n",
              "23173      Lemon Land Lombard                    0\n",
              "23174                  Махина                    0\n",
              "\n",
              "[23175 rows x 2 columns]"
            ]
          },
          "metadata": {},
          "output_type": "display_data"
        },
        {
          "name": "stdout",
          "output_type": "stream",
          "text": [
            "Наибольшее количество вакансий на 1 работодателя - 181 (у Яндекс)\n"
          ]
        }
      ],
      "source": [
        "# результат запроса\n",
        "employer_regions = pd.read_sql_query(sql=query_5_3, con=connection)\n",
        "display(employer_regions)\n",
        "\n",
        "# Ответ на вопрос\n",
        "print(f\"Наибольшее количество вакансий на 1 работодателя - {employer_regions['Количество регионов'].iloc[0]} (у {employer_regions['Работодатель'].iloc[0]})\")"
      ]
    },
    {
      "cell_type": "markdown",
      "id": "eab2206d-d95b-468b-8e5f-34381abf0ce7",
      "metadata": {
        "id": "eab2206d-d95b-468b-8e5f-34381abf0ce7"
      },
      "source": [
        "4. Напишите запрос для подсчёта количества работодателей, у которых не указана сфера деятельности. "
      ]
    },
    {
      "cell_type": "code",
      "execution_count": 160,
      "id": "80defb23-bfb1-4a18-8be6-bf36aa7165d5",
      "metadata": {
        "id": "80defb23-bfb1-4a18-8be6-bf36aa7165d5"
      },
      "outputs": [],
      "source": [
        "# текст запроса\n",
        "# Запрос sql\n",
        "\n",
        "query_5_4 = f''' \n",
        "select \n",
        "    count(emp.*)\n",
        "from employers as emp\n",
        "left join employers_industries as ei on emp.id=ei.employer_id\n",
        "where ei.industry_id is null\n",
        "''' "
      ]
    },
    {
      "cell_type": "code",
      "execution_count": 161,
      "id": "Dp_yCx6ysQSu",
      "metadata": {
        "id": "Dp_yCx6ysQSu"
      },
      "outputs": [
        {
          "name": "stdout",
          "output_type": "stream",
          "text": [
            "Количество работодателей с неуказанной отраслью - 8419\n",
            "\n"
          ]
        },
        {
          "name": "stderr",
          "output_type": "stream",
          "text": [
            "C:\\Users\\qwert\\AppData\\Local\\Temp\\ipykernel_19216\\2689251978.py:2: UserWarning: pandas only supports SQLAlchemy connectable (engine/connection) or database string URI or sqlite3 DBAPI2 connection. Other DBAPI2 objects are not tested. Please consider using SQLAlchemy.\n",
            "  count_employers_industries = pd.read_sql_query(sql=query_5_4, con=connection)\n"
          ]
        }
      ],
      "source": [
        "# результат запроса\n",
        "count_employers_industries = pd.read_sql_query(sql=query_5_4, con=connection)\n",
        "\n",
        "# Ответ на вопрос\n",
        "print(f'Количество работодателей с неуказанной отраслью - {count_employers_industries.iloc[0][0]}')\n",
        "print()"
      ]
    },
    {
      "cell_type": "markdown",
      "id": "0112af31-f6b0-4e3b-82ab-71296e752e5e",
      "metadata": {
        "id": "0112af31-f6b0-4e3b-82ab-71296e752e5e"
      },
      "source": [
        "5. Напишите запрос, чтобы узнать название компании, находящейся на третьем месте в алфавитном списке (по названию) компаний, у которых указано четыре сферы деятельности. "
      ]
    },
    {
      "cell_type": "code",
      "execution_count": 162,
      "id": "973b0cfc-a972-470a-8b4a-68744ef220c4",
      "metadata": {
        "id": "973b0cfc-a972-470a-8b4a-68744ef220c4"
      },
      "outputs": [],
      "source": [
        "# текст запроса\n",
        "# Запрос sql\n",
        "\n",
        "query_5_5 = f''' \n",
        "select \n",
        "    emp.name Работодатель,\n",
        "    count(distinct ei.industry_id) \"Количество сфер деятельности\"\n",
        "from employers as emp\n",
        "left join employers_industries as ei on emp.id=ei.employer_id\n",
        "group by Работодатель\n",
        "having count(distinct ei.industry_id) = 4\n",
        "order by 1\n",
        "offset 2 limit 1\n",
        "''' "
      ]
    },
    {
      "cell_type": "code",
      "execution_count": 163,
      "id": "xsPtpp8EsaED",
      "metadata": {
        "id": "xsPtpp8EsaED"
      },
      "outputs": [
        {
          "name": "stderr",
          "output_type": "stream",
          "text": [
            "C:\\Users\\qwert\\AppData\\Local\\Temp\\ipykernel_19216\\1637652806.py:2: UserWarning: pandas only supports SQLAlchemy connectable (engine/connection) or database string URI or sqlite3 DBAPI2 connection. Other DBAPI2 objects are not tested. Please consider using SQLAlchemy.\n",
            "  employer_industries = pd.read_sql_query(sql=query_5_5, con=connection)\n"
          ]
        },
        {
          "data": {
            "text/html": [
              "<div>\n",
              "<style scoped>\n",
              "    .dataframe tbody tr th:only-of-type {\n",
              "        vertical-align: middle;\n",
              "    }\n",
              "\n",
              "    .dataframe tbody tr th {\n",
              "        vertical-align: top;\n",
              "    }\n",
              "\n",
              "    .dataframe thead th {\n",
              "        text-align: right;\n",
              "    }\n",
              "</style>\n",
              "<table border=\"1\" class=\"dataframe\">\n",
              "  <thead>\n",
              "    <tr style=\"text-align: right;\">\n",
              "      <th></th>\n",
              "      <th>Работодатель</th>\n",
              "      <th>Количество сфер деятельности</th>\n",
              "    </tr>\n",
              "  </thead>\n",
              "  <tbody>\n",
              "    <tr>\n",
              "      <th>0</th>\n",
              "      <td>2ГИС</td>\n",
              "      <td>4</td>\n",
              "    </tr>\n",
              "  </tbody>\n",
              "</table>\n",
              "</div>"
            ],
            "text/plain": [
              "  Работодатель  Количество сфер деятельности\n",
              "0         2ГИС                             4"
            ]
          },
          "metadata": {},
          "output_type": "display_data"
        },
        {
          "name": "stdout",
          "output_type": "stream",
          "text": [
            "\n",
            "Третья в спсике компания с 4 сферами деятельности - 2ГИС\n"
          ]
        }
      ],
      "source": [
        "# результат запроса\n",
        "employer_industries = pd.read_sql_query(sql=query_5_5, con=connection)\n",
        "display(employer_industries)\n",
        "print()\n",
        "\n",
        "# Ответ на вопрос\n",
        "print(f\"Третья в спсике компания с 4 сферами деятельности - {employer_industries['Работодатель'].iloc[0]}\")"
      ]
    },
    {
      "cell_type": "markdown",
      "id": "3bfcfdaf-755d-4d2b-8ed8-326201dc07ab",
      "metadata": {
        "id": "3bfcfdaf-755d-4d2b-8ed8-326201dc07ab"
      },
      "source": [
        "6. С помощью запроса выясните, у какого количества работодателей в качестве сферы деятельности указана Разработка программного обеспечения.\n"
      ]
    },
    {
      "cell_type": "code",
      "execution_count": 164,
      "id": "ad3f270f-2991-47eb-929b-e8f88a55b0d1",
      "metadata": {
        "id": "ad3f270f-2991-47eb-929b-e8f88a55b0d1"
      },
      "outputs": [],
      "source": [
        "# текст запроса\n",
        "# Запрос в sql\n",
        "\n",
        "query_5_6 = f''' \n",
        "select count(distinct ei.employer_id)\n",
        "from employers_industries as ei\n",
        "left join industries as ind on ei.industry_id=ind.id\n",
        "where ind.name like 'Разработка программного обеспечения'\n",
        "''' "
      ]
    },
    {
      "cell_type": "code",
      "execution_count": 165,
      "id": "H72qxWM0shPR",
      "metadata": {
        "id": "H72qxWM0shPR"
      },
      "outputs": [
        {
          "name": "stdout",
          "output_type": "stream",
          "text": [
            "Количество работодателей-разработчиков програмного обеспечения - 3553\n"
          ]
        },
        {
          "name": "stderr",
          "output_type": "stream",
          "text": [
            "C:\\Users\\qwert\\AppData\\Local\\Temp\\ipykernel_19216\\3655441434.py:3: UserWarning: pandas only supports SQLAlchemy connectable (engine/connection) or database string URI or sqlite3 DBAPI2 connection. Other DBAPI2 objects are not tested. Please consider using SQLAlchemy.\n",
            "  software_development = pd.read_sql_query(sql=query_5_6, con=connection)\n"
          ]
        }
      ],
      "source": [
        "# результат запроса\n",
        "\n",
        "software_development = pd.read_sql_query(sql=query_5_6, con=connection)\n",
        "\n",
        "# Ответ на вопрос\n",
        "print(f'Количество работодателей-разработчиков програмного обеспечения - {software_development.iloc[0][0]}')\n"
      ]
    },
    {
      "cell_type": "markdown",
      "id": "7b02bb86-0546-40fb-94a4-242f050a5c57",
      "metadata": {
        "id": "7b02bb86-0546-40fb-94a4-242f050a5c57"
      },
      "source": [
        "7. Для компании «Яндекс» выведите список регионов-миллионников, в которых представлены вакансии компании, вместе с количеством вакансий в этих регионах. Также добавьте строку Total с общим количеством вакансий компании. Результат отсортируйте по возрастанию количества.\n",
        "\n",
        "Список городов-милионников надо взять [отсюда](https://ru.wikipedia.org/wiki/%D0%93%D0%BE%D1%80%D0%BE%D0%B4%D0%B0-%D0%BC%D0%B8%D0%BB%D0%BB%D0%B8%D0%BE%D0%BD%D0%B5%D1%80%D1%8B_%D0%A0%D0%BE%D1%81%D1%81%D0%B8%D0%B8). \n",
        "\n",
        "Если возникнут трудности с этим задание посмотрите материалы модуля  PYTHON-17. Как получать данные из веб-источников и API. "
      ]
    },
    {
      "cell_type": "code",
      "execution_count": 166,
      "id": "dd3ce6bf",
      "metadata": {},
      "outputs": [
        {
          "data": {
            "text/html": [
              "<div>\n",
              "<style scoped>\n",
              "    .dataframe tbody tr th:only-of-type {\n",
              "        vertical-align: middle;\n",
              "    }\n",
              "\n",
              "    .dataframe tbody tr th {\n",
              "        vertical-align: top;\n",
              "    }\n",
              "\n",
              "    .dataframe thead th {\n",
              "        text-align: right;\n",
              "    }\n",
              "</style>\n",
              "<table border=\"1\" class=\"dataframe\">\n",
              "  <thead>\n",
              "    <tr style=\"text-align: right;\">\n",
              "      <th></th>\n",
              "      <th>№</th>\n",
              "      <th>Город</th>\n",
              "      <th>Население, тыс. чел.  (на 1 января 2023 года)</th>\n",
              "      <th>Население, тыс. чел.  (итоги переписи  2021 года)[5]</th>\n",
              "      <th>Прирост  относительно  переписи-2010</th>\n",
              "      <th>Население, тыс. чел. (итоги переписи  2010 года)[6]</th>\n",
              "    </tr>\n",
              "  </thead>\n",
              "  <tbody>\n",
              "    <tr>\n",
              "      <th>0</th>\n",
              "      <td>1</td>\n",
              "      <td>Москва</td>\n",
              "      <td>13 098</td>\n",
              "      <td>13 010</td>\n",
              "      <td>13,1 %</td>\n",
              "      <td>11 504</td>\n",
              "    </tr>\n",
              "    <tr>\n",
              "      <th>1</th>\n",
              "      <td>2</td>\n",
              "      <td>Санкт-Петербург</td>\n",
              "      <td>5 598</td>\n",
              "      <td>5 602</td>\n",
              "      <td>14,8 %</td>\n",
              "      <td>4 880</td>\n",
              "    </tr>\n",
              "    <tr>\n",
              "      <th>2</th>\n",
              "      <td>3</td>\n",
              "      <td>Новосибирск</td>\n",
              "      <td>1 635</td>\n",
              "      <td>1 634</td>\n",
              "      <td>10,9 %</td>\n",
              "      <td>1 474</td>\n",
              "    </tr>\n",
              "    <tr>\n",
              "      <th>3</th>\n",
              "      <td>4</td>\n",
              "      <td>Екатеринбург</td>\n",
              "      <td>1 539</td>\n",
              "      <td>1 544</td>\n",
              "      <td>14,4 %</td>\n",
              "      <td>1 350</td>\n",
              "    </tr>\n",
              "    <tr>\n",
              "      <th>4</th>\n",
              "      <td>5</td>\n",
              "      <td>Казань</td>\n",
              "      <td>1 315</td>\n",
              "      <td>1 309</td>\n",
              "      <td>14,4 %</td>\n",
              "      <td>1 144</td>\n",
              "    </tr>\n",
              "    <tr>\n",
              "      <th>5</th>\n",
              "      <td>6</td>\n",
              "      <td>Нижний Новгород</td>\n",
              "      <td>1 213</td>\n",
              "      <td>1 226</td>\n",
              "      <td>NaN</td>\n",
              "      <td>1 251</td>\n",
              "    </tr>\n",
              "    <tr>\n",
              "      <th>6</th>\n",
              "      <td>7</td>\n",
              "      <td>Красноярск</td>\n",
              "      <td>1 197</td>\n",
              "      <td>1 188</td>\n",
              "      <td>21,6 %</td>\n",
              "      <td>977</td>\n",
              "    </tr>\n",
              "    <tr>\n",
              "      <th>7</th>\n",
              "      <td>8</td>\n",
              "      <td>Челябинск</td>\n",
              "      <td>1 183</td>\n",
              "      <td>1 190</td>\n",
              "      <td>5,3 %</td>\n",
              "      <td>1 130</td>\n",
              "    </tr>\n",
              "    <tr>\n",
              "      <th>8</th>\n",
              "      <td>9</td>\n",
              "      <td>Самара</td>\n",
              "      <td>1 164</td>\n",
              "      <td>1 173</td>\n",
              "      <td>0,3 %</td>\n",
              "      <td>1 169</td>\n",
              "    </tr>\n",
              "    <tr>\n",
              "      <th>9</th>\n",
              "      <td>10</td>\n",
              "      <td>Уфа</td>\n",
              "      <td>1 158</td>\n",
              "      <td>1 145</td>\n",
              "      <td>7,8 %</td>\n",
              "      <td>1 062</td>\n",
              "    </tr>\n",
              "    <tr>\n",
              "      <th>10</th>\n",
              "      <td>11</td>\n",
              "      <td>Ростов-на-Дону</td>\n",
              "      <td>1 136</td>\n",
              "      <td>1 142</td>\n",
              "      <td>4,9 %</td>\n",
              "      <td>1 089</td>\n",
              "    </tr>\n",
              "    <tr>\n",
              "      <th>11</th>\n",
              "      <td>12</td>\n",
              "      <td>Краснодар</td>\n",
              "      <td>1 121</td>\n",
              "      <td>1 099</td>\n",
              "      <td>43,8 %</td>\n",
              "      <td>764</td>\n",
              "    </tr>\n",
              "    <tr>\n",
              "      <th>12</th>\n",
              "      <td>13</td>\n",
              "      <td>Омск</td>\n",
              "      <td>1 111</td>\n",
              "      <td>1 126</td>\n",
              "      <td>NaN</td>\n",
              "      <td>1 166</td>\n",
              "    </tr>\n",
              "    <tr>\n",
              "      <th>13</th>\n",
              "      <td>14</td>\n",
              "      <td>Воронеж</td>\n",
              "      <td>1 052</td>\n",
              "      <td>1 058</td>\n",
              "      <td>18,9 %</td>\n",
              "      <td>890</td>\n",
              "    </tr>\n",
              "    <tr>\n",
              "      <th>14</th>\n",
              "      <td>15</td>\n",
              "      <td>Пермь</td>\n",
              "      <td>1 027</td>\n",
              "      <td>1 034</td>\n",
              "      <td>4,3 %</td>\n",
              "      <td>991</td>\n",
              "    </tr>\n",
              "    <tr>\n",
              "      <th>15</th>\n",
              "      <td>16</td>\n",
              "      <td>Волгоград</td>\n",
              "      <td>1 026</td>\n",
              "      <td>1 028</td>\n",
              "      <td>0,7 %</td>\n",
              "      <td>1 021</td>\n",
              "    </tr>\n",
              "  </tbody>\n",
              "</table>\n",
              "</div>"
            ],
            "text/plain": [
              "     №            Город Население, тыс. чел.  (на 1 января 2023 года)  \\\n",
              "0    1           Москва                                        13 098   \n",
              "1    2  Санкт-Петербург                                         5 598   \n",
              "2    3      Новосибирск                                         1 635   \n",
              "3    4     Екатеринбург                                         1 539   \n",
              "4    5           Казань                                         1 315   \n",
              "5    6  Нижний Новгород                                         1 213   \n",
              "6    7       Красноярск                                         1 197   \n",
              "7    8        Челябинск                                         1 183   \n",
              "8    9           Самара                                         1 164   \n",
              "9   10              Уфа                                         1 158   \n",
              "10  11   Ростов-на-Дону                                         1 136   \n",
              "11  12        Краснодар                                         1 121   \n",
              "12  13             Омск                                         1 111   \n",
              "13  14          Воронеж                                         1 052   \n",
              "14  15            Пермь                                         1 027   \n",
              "15  16        Волгоград                                         1 026   \n",
              "\n",
              "   Население, тыс. чел.  (итоги переписи  2021 года)[5]  \\\n",
              "0                                              13 010     \n",
              "1                                               5 602     \n",
              "2                                               1 634     \n",
              "3                                               1 544     \n",
              "4                                               1 309     \n",
              "5                                               1 226     \n",
              "6                                               1 188     \n",
              "7                                               1 190     \n",
              "8                                               1 173     \n",
              "9                                               1 145     \n",
              "10                                              1 142     \n",
              "11                                              1 099     \n",
              "12                                              1 126     \n",
              "13                                              1 058     \n",
              "14                                              1 034     \n",
              "15                                              1 028     \n",
              "\n",
              "   Прирост  относительно  переписи-2010  \\\n",
              "0                                13,1 %   \n",
              "1                                14,8 %   \n",
              "2                                10,9 %   \n",
              "3                                14,4 %   \n",
              "4                                14,4 %   \n",
              "5                                   NaN   \n",
              "6                                21,6 %   \n",
              "7                                 5,3 %   \n",
              "8                                 0,3 %   \n",
              "9                                 7,8 %   \n",
              "10                                4,9 %   \n",
              "11                               43,8 %   \n",
              "12                                  NaN   \n",
              "13                               18,9 %   \n",
              "14                                4,3 %   \n",
              "15                                0,7 %   \n",
              "\n",
              "   Население, тыс. чел. (итоги переписи  2010 года)[6]  \n",
              "0                                              11 504   \n",
              "1                                               4 880   \n",
              "2                                               1 474   \n",
              "3                                               1 350   \n",
              "4                                               1 144   \n",
              "5                                               1 251   \n",
              "6                                                 977   \n",
              "7                                               1 130   \n",
              "8                                               1 169   \n",
              "9                                               1 062   \n",
              "10                                              1 089   \n",
              "11                                                764   \n",
              "12                                              1 166   \n",
              "13                                                890   \n",
              "14                                                991   \n",
              "15                                              1 021   "
            ]
          },
          "metadata": {},
          "output_type": "display_data"
        }
      ],
      "source": [
        "# Код для получения списка городов\n",
        "# Импортируем библиотеку requests\n",
        "import requests\n",
        "\n",
        "# Парсим страницу из википедии и переводим таблицы в формат строк\n",
        "response = requests.get('https://ru.wikipedia.org/wiki/%D0%93%D0%BE%D1%80%D0%BE%D0%B4%D0%B0-%D0%BC%D0%B8%D0%BB%D0%BB%D0%B8%D0%BE%D0%BD%D0%B5%D1%80%D1%8B_%D0%A0%D0%BE%D1%81%D1%81%D0%B8%D0%B8')\n",
        "tables = pd.read_html(response.text)\n",
        "\n",
        "# Сохраняем нужную таблицу в формате DataFrame и выводим ее на экран\n",
        "millions = tables[1]\n",
        "display(millions)"
      ]
    },
    {
      "cell_type": "code",
      "execution_count": 167,
      "id": "5a0e32a4-e68a-4365-8a39-2fe24c542c36",
      "metadata": {
        "id": "5a0e32a4-e68a-4365-8a39-2fe24c542c36"
      },
      "outputs": [],
      "source": [
        "# текст запроса\n",
        "# Запрос в sql\n",
        "\n",
        "query_5_7 = f''' \n",
        "(select \n",
        "    ar.name \"Регион\",\n",
        "    count(vac.*) \"Количество вакансий\"\n",
        "from vacancies as vac\n",
        "full join areas as ar on ar.id=vac.area_id\n",
        "full join employers as emp on emp.id=vac.employer_id\n",
        "where (emp.name like 'Яндекс') and (ar.name in {tuple(millions['Город'])})\n",
        "group by \"Регион\"\n",
        "order by 2 desc)\n",
        "\n",
        "union all\n",
        "\n",
        "(select \n",
        "    'Total' \"Регион\",\n",
        "    count(vac.*) \"Количество вакансий\"\n",
        "from vacancies as vac\n",
        "full join employers as emp on emp.id=vac.employer_id\n",
        "full join areas as ar on ar.id=vac.area_id\n",
        "where (emp.name like 'Яндекс') and (ar.name in {tuple(millions['Город'])}))\n",
        "''' "
      ]
    },
    {
      "cell_type": "code",
      "execution_count": 168,
      "id": "ttPhiO1rsvPq",
      "metadata": {
        "id": "ttPhiO1rsvPq"
      },
      "outputs": [
        {
          "name": "stderr",
          "output_type": "stream",
          "text": [
            "C:\\Users\\qwert\\AppData\\Local\\Temp\\ipykernel_19216\\3746149260.py:4: UserWarning: pandas only supports SQLAlchemy connectable (engine/connection) or database string URI or sqlite3 DBAPI2 connection. Other DBAPI2 objects are not tested. Please consider using SQLAlchemy.\n",
            "  count_yandex = pd.read_sql_query(sql=query_5_7, con=connection)\n"
          ]
        },
        {
          "data": {
            "text/html": [
              "<div>\n",
              "<style scoped>\n",
              "    .dataframe tbody tr th:only-of-type {\n",
              "        vertical-align: middle;\n",
              "    }\n",
              "\n",
              "    .dataframe tbody tr th {\n",
              "        vertical-align: top;\n",
              "    }\n",
              "\n",
              "    .dataframe thead th {\n",
              "        text-align: right;\n",
              "    }\n",
              "</style>\n",
              "<table border=\"1\" class=\"dataframe\">\n",
              "  <thead>\n",
              "    <tr style=\"text-align: right;\">\n",
              "      <th></th>\n",
              "      <th>Регион</th>\n",
              "      <th>Количество вакансий</th>\n",
              "    </tr>\n",
              "  </thead>\n",
              "  <tbody>\n",
              "    <tr>\n",
              "      <th>0</th>\n",
              "      <td>Total</td>\n",
              "      <td>485</td>\n",
              "    </tr>\n",
              "    <tr>\n",
              "      <th>1</th>\n",
              "      <td>Москва</td>\n",
              "      <td>54</td>\n",
              "    </tr>\n",
              "    <tr>\n",
              "      <th>2</th>\n",
              "      <td>Санкт-Петербург</td>\n",
              "      <td>42</td>\n",
              "    </tr>\n",
              "    <tr>\n",
              "      <th>3</th>\n",
              "      <td>Екатеринбург</td>\n",
              "      <td>39</td>\n",
              "    </tr>\n",
              "    <tr>\n",
              "      <th>4</th>\n",
              "      <td>Нижний Новгород</td>\n",
              "      <td>36</td>\n",
              "    </tr>\n",
              "    <tr>\n",
              "      <th>5</th>\n",
              "      <td>Новосибирск</td>\n",
              "      <td>35</td>\n",
              "    </tr>\n",
              "    <tr>\n",
              "      <th>6</th>\n",
              "      <td>Воронеж</td>\n",
              "      <td>32</td>\n",
              "    </tr>\n",
              "    <tr>\n",
              "      <th>7</th>\n",
              "      <td>Краснодар</td>\n",
              "      <td>30</td>\n",
              "    </tr>\n",
              "    <tr>\n",
              "      <th>8</th>\n",
              "      <td>Самара</td>\n",
              "      <td>26</td>\n",
              "    </tr>\n",
              "    <tr>\n",
              "      <th>9</th>\n",
              "      <td>Уфа</td>\n",
              "      <td>26</td>\n",
              "    </tr>\n",
              "    <tr>\n",
              "      <th>10</th>\n",
              "      <td>Казань</td>\n",
              "      <td>25</td>\n",
              "    </tr>\n",
              "    <tr>\n",
              "      <th>11</th>\n",
              "      <td>Пермь</td>\n",
              "      <td>25</td>\n",
              "    </tr>\n",
              "    <tr>\n",
              "      <th>12</th>\n",
              "      <td>Ростов-на-Дону</td>\n",
              "      <td>25</td>\n",
              "    </tr>\n",
              "    <tr>\n",
              "      <th>13</th>\n",
              "      <td>Волгоград</td>\n",
              "      <td>24</td>\n",
              "    </tr>\n",
              "    <tr>\n",
              "      <th>14</th>\n",
              "      <td>Красноярск</td>\n",
              "      <td>23</td>\n",
              "    </tr>\n",
              "    <tr>\n",
              "      <th>15</th>\n",
              "      <td>Челябинск</td>\n",
              "      <td>22</td>\n",
              "    </tr>\n",
              "    <tr>\n",
              "      <th>16</th>\n",
              "      <td>Омск</td>\n",
              "      <td>21</td>\n",
              "    </tr>\n",
              "  </tbody>\n",
              "</table>\n",
              "</div>"
            ],
            "text/plain": [
              "             Регион  Количество вакансий\n",
              "0             Total                  485\n",
              "1            Москва                   54\n",
              "2   Санкт-Петербург                   42\n",
              "3      Екатеринбург                   39\n",
              "4   Нижний Новгород                   36\n",
              "5       Новосибирск                   35\n",
              "6           Воронеж                   32\n",
              "7         Краснодар                   30\n",
              "8            Самара                   26\n",
              "9               Уфа                   26\n",
              "10           Казань                   25\n",
              "11            Пермь                   25\n",
              "12   Ростов-на-Дону                   25\n",
              "13        Волгоград                   24\n",
              "14       Красноярск                   23\n",
              "15        Челябинск                   22\n",
              "16             Омск                   21"
            ]
          },
          "metadata": {},
          "output_type": "display_data"
        },
        {
          "name": "stdout",
          "output_type": "stream",
          "text": [
            "\n",
            "Количество строк в выборке - 17\n",
            "\n",
            "Результат в строке 'Total' - 485\n"
          ]
        }
      ],
      "source": [
        "# результат запроса\n",
        "# Выводим результат\n",
        "\n",
        "count_yandex = pd.read_sql_query(sql=query_5_7, con=connection)\n",
        "display(count_yandex)\n",
        "print()\n",
        "\n",
        "# Ответы на вопросы\n",
        "print(f\"Количество строк в выборке - {count_yandex.shape[0]}\")\n",
        "print()\n",
        "print(f\"Результат в строке 'Total' - {count_yandex[count_yandex['Регион'] == 'Total']['Количество вакансий'].iloc[0]}\")"
      ]
    },
    {
      "cell_type": "markdown",
      "id": "04966e40-3bc3-4dc8-9ba2-e80580ce3abc",
      "metadata": {
        "id": "04966e40-3bc3-4dc8-9ba2-e80580ce3abc"
      },
      "source": [
        "***"
      ]
    },
    {
      "cell_type": "markdown",
      "id": "cd519185",
      "metadata": {},
      "source": [
        "**Вывод 1:** Самым крупным работодателем в выборке является Яндекс. Он разместил 1 933 вакансии (8% от общего количества вакансий) в 181 регионе. В целом данная ситуация говорит о монополистической конкуренции со стороны компаний, предлагающих условия труда (много компаний, некто не занимает долю больше 10%, отличающиеся продукты-условия работы и отсутствие ярко выраженной возможности влиять на рынок труда со стороны какой-либо компании). \n",
        "\n",
        "**Вывод 2:** У 8 419 работодателей не указана сфера деятельности (отрасль). Это может быть связано с неграмотным заполнением анкеты перед публикацией в системе, отсутствием предложенных вариантов или намеренного скрытия со стороны неблагонадежных компаний.\n",
        "\n",
        "**Вывод 3:** В выборке представлено 3 553 компании-разработчика програмного обеспечения. Это 15% от общего числа вакансий (23 501). С учетом того, что данные вакансии как правило высокооплачиваемые, можно сделать вывод о высоком спросе на данных специалистов.\n",
        "\n",
        "**Вывод 4:** Яндекс только в 485 вакансиях (25% от всех вакансий компании) ищет специалистов в городах-миллионниках России. Это говорит о том, что данная компания не сконцентрирована в крупных городах, а предлагает вакансии людям по всей стране и в ближайшем зарубежье.\n",
        "\n",
        "**Вывод 5:** Выявлен регион, где заявлены работодатели, но нет вакансий (Россия). Это значит, что все работодатели в России стараются конкретнее указать предлагаемое кондидату место работы. Это улучшает возможности поиска для тех, кто ищет работу или анализирует представленную выборку."
      ]
    },
    {
      "cell_type": "markdown",
      "id": "b1ef156a-efcb-49ce-bb23-90763e7f35b2",
      "metadata": {
        "id": "b1ef156a-efcb-49ce-bb23-90763e7f35b2",
        "tags": []
      },
      "source": [
        "# Юнит 6. Предметный анализ"
      ]
    },
    {
      "cell_type": "markdown",
      "id": "b9cd50a0-992d-4988-8463-2b2b1c4629b4",
      "metadata": {
        "id": "b9cd50a0-992d-4988-8463-2b2b1c4629b4"
      },
      "source": [
        "1. Сколько вакансий имеет отношение к данным?\n",
        "\n",
        "Считаем, что вакансия имеет отношение к данным, если в её названии содержатся слова 'data' или 'данн'.\n",
        "\n",
        "*Подсказка: Обратите внимание, что названия вакансий могут быть написаны в любом регистре.* \n"
      ]
    },
    {
      "cell_type": "code",
      "execution_count": 169,
      "id": "54ab0e50-c0f1-47cc-a54b-bc5c8bc363f9",
      "metadata": {
        "id": "54ab0e50-c0f1-47cc-a54b-bc5c8bc363f9"
      },
      "outputs": [],
      "source": [
        "# текст запроса\n",
        "# Запрос в sql\n",
        "\n",
        "query_6_1 = f''' \n",
        "select count(vac.*)\n",
        "from vacancies as vac\n",
        "where (lower(vac.name) like '%data%') or (lower(vac.name) like '%данн%')\n",
        "''' "
      ]
    },
    {
      "cell_type": "code",
      "execution_count": 170,
      "id": "9F1meAqsuUjd",
      "metadata": {
        "id": "9F1meAqsuUjd"
      },
      "outputs": [
        {
          "name": "stderr",
          "output_type": "stream",
          "text": [
            "C:\\Users\\qwert\\AppData\\Local\\Temp\\ipykernel_19216\\645630502.py:3: UserWarning: pandas only supports SQLAlchemy connectable (engine/connection) or database string URI or sqlite3 DBAPI2 connection. Other DBAPI2 objects are not tested. Please consider using SQLAlchemy.\n",
            "  data_vacancies = pd.read_sql_query(sql=query_6_1, con=connection)\n"
          ]
        },
        {
          "name": "stdout",
          "output_type": "stream",
          "text": [
            " Количество вакансий, имеющих отношение к данным - 1771\n",
            "\n"
          ]
        }
      ],
      "source": [
        "# результат запроса\n",
        "# Выводим результат запроса\n",
        "data_vacancies = pd.read_sql_query(sql=query_6_1, con=connection)\n",
        "\n",
        "# Ответ на вопрос\n",
        "print(f' Количество вакансий, имеющих отношение к данным - {data_vacancies.iloc[0][0]}')\n",
        "print()"
      ]
    },
    {
      "cell_type": "markdown",
      "id": "4dea20cb-a36b-474a-a0b9-e08e8e3857a5",
      "metadata": {
        "id": "4dea20cb-a36b-474a-a0b9-e08e8e3857a5"
      },
      "source": [
        "2. Сколько есть подходящих вакансий для начинающего дата-сайентиста? \n",
        "Будем считать вакансиями для дата-сайентистов такие, в названии которых есть хотя бы одно из следующих сочетаний:\n",
        "* 'data scientist'\n",
        "* 'data science'\n",
        "* 'исследователь данных'\n",
        "* 'ML' (здесь не нужно брать вакансии по HTML)\n",
        "* 'machine learning'\n",
        "* 'машинн%обучен%'\n",
        "\n",
        "** В следующих заданиях мы продолжим работать с вакансиями по этому условию.*\n",
        "\n",
        "Считаем вакансиями для специалистов уровня Junior следующие:\n",
        "* в названии есть слово 'junior' *или*\n",
        "* требуемый опыт — Нет опыта *или*\n",
        "* тип трудоустройства — Стажировка.\n",
        " "
      ]
    },
    {
      "cell_type": "code",
      "execution_count": 202,
      "id": "93c234c8",
      "metadata": {},
      "outputs": [],
      "source": [
        "# текст запроса\n",
        "# Самым оптимальным способом решения нескольких задач будет использование условий (значений where) \n",
        "# в виде отдельной переменной \"ds_filter\", фильтрующих итоговую таблицу\n",
        "\n",
        "ds_filter = f'''\n",
        "    ((lower(vac.name) like '%data scientist%') or\n",
        "    (lower(vac.name) like '%data science%') or\n",
        "    (lower(vac.name) like '%исследователь данных%') or\n",
        "    (lower(vac.name) like '%machine learning%') or\n",
        "    (lower(vac.name) like '%машинн%обучен%') or\n",
        "    (vac.name like '%ML%' and lower(vac.name) not like '%html%'))\n",
        "    '''\n",
        "\n",
        "# Запрос-sql для задания (таблица с вакансиями для джуниоров)\n",
        "query_6_2 = f''' \n",
        "select count(*)\n",
        "from vacancies as vac\n",
        "where \n",
        "    {ds_filter} and\n",
        "    ((lower(vac.name) like '%junior%') or \n",
        "    (lower(vac.experience) like 'нет опыта') or \n",
        "    (lower(vac.employment) like 'стажировка'))\n",
        "''' "
      ]
    },
    {
      "cell_type": "code",
      "execution_count": 203,
      "id": "c2b6aabe",
      "metadata": {},
      "outputs": [
        {
          "name": "stdout",
          "output_type": "stream",
          "text": [
            "Количество вакансий для специалистов с уровнем junior - 51\n",
            "\n"
          ]
        },
        {
          "name": "stderr",
          "output_type": "stream",
          "text": [
            "C:\\Users\\qwert\\AppData\\Local\\Temp\\ipykernel_19216\\1163268499.py:4: UserWarning: pandas only supports SQLAlchemy connectable (engine/connection) or database string URI or sqlite3 DBAPI2 connection. Other DBAPI2 objects are not tested. Please consider using SQLAlchemy.\n",
            "  ds_juniors = pd.read_sql_query(sql=query_6_2, con=connection)\n"
          ]
        }
      ],
      "source": [
        "# результат запроса\n",
        "# Выводим результаты\n",
        "\n",
        "ds_juniors = pd.read_sql_query(sql=query_6_2, con=connection)\n",
        "\n",
        "# Выводим ответ\n",
        "print(f\"Количество вакансий для специалистов с уровнем junior - {ds_juniors.iloc[0][0]}\")\n",
        "print()"
      ]
    },
    {
      "cell_type": "markdown",
      "id": "eedceb80-c5ca-480e-b27a-278dfb8b4438",
      "metadata": {
        "id": "eedceb80-c5ca-480e-b27a-278dfb8b4438"
      },
      "source": [
        "3. Сколько есть вакансий для DS, в которых в качестве ключевого навыка указан SQL или postgres?\n",
        "\n",
        "*Критерии для отнесения вакансии к DS указаны в предыдущем задании.*"
      ]
    },
    {
      "cell_type": "code",
      "execution_count": 204,
      "id": "69621713-0cc5-4f1b-a1d7-bb144fa6148c",
      "metadata": {
        "id": "69621713-0cc5-4f1b-a1d7-bb144fa6148c"
      },
      "outputs": [],
      "source": [
        "# текст запроса\n",
        "# Запрос в sql \n",
        "\n",
        "query_6_3 = f''' \n",
        "select count(*)\n",
        "from vacancies as vac\n",
        "where ({ds_filter}) and\n",
        "(vac.key_skills ilike '%postgres%' or vac.key_skills ilike '%sql%')\n",
        "\n",
        "''' "
      ]
    },
    {
      "cell_type": "code",
      "execution_count": 205,
      "id": "alA8WEAAvGdf",
      "metadata": {
        "id": "alA8WEAAvGdf"
      },
      "outputs": [
        {
          "name": "stderr",
          "output_type": "stream",
          "text": [
            "C:\\Users\\qwert\\AppData\\Local\\Temp\\ipykernel_19216\\1549929545.py:3: UserWarning: pandas only supports SQLAlchemy connectable (engine/connection) or database string URI or sqlite3 DBAPI2 connection. Other DBAPI2 objects are not tested. Please consider using SQLAlchemy.\n",
            "  sql_postgress = pd.read_sql_query(sql=query_6_3, con=connection)\n"
          ]
        },
        {
          "data": {
            "text/html": [
              "<div>\n",
              "<style scoped>\n",
              "    .dataframe tbody tr th:only-of-type {\n",
              "        vertical-align: middle;\n",
              "    }\n",
              "\n",
              "    .dataframe tbody tr th {\n",
              "        vertical-align: top;\n",
              "    }\n",
              "\n",
              "    .dataframe thead th {\n",
              "        text-align: right;\n",
              "    }\n",
              "</style>\n",
              "<table border=\"1\" class=\"dataframe\">\n",
              "  <thead>\n",
              "    <tr style=\"text-align: right;\">\n",
              "      <th></th>\n",
              "      <th>count</th>\n",
              "    </tr>\n",
              "  </thead>\n",
              "  <tbody>\n",
              "    <tr>\n",
              "      <th>0</th>\n",
              "      <td>201</td>\n",
              "    </tr>\n",
              "  </tbody>\n",
              "</table>\n",
              "</div>"
            ],
            "text/plain": [
              "   count\n",
              "0    201"
            ]
          },
          "metadata": {},
          "output_type": "display_data"
        },
        {
          "name": "stdout",
          "output_type": "stream",
          "text": [
            "Количество вакансий с sql и postgres в навыках - 201\n",
            "\n"
          ]
        }
      ],
      "source": [
        "# результат запроса\n",
        "# Результирующая переменная\n",
        "sql_postgress = pd.read_sql_query(sql=query_6_3, con=connection)\n",
        "display(sql_postgress)\n",
        "\n",
        "# Ответ на вопрос\n",
        "print(f'Количество вакансий с sql и postgres в навыках - {sql_postgress.iloc[0][0]}')\n",
        "print()"
      ]
    },
    {
      "cell_type": "markdown",
      "id": "1be1e9c6-37cf-4a5f-bfeb-04cab799dc80",
      "metadata": {
        "id": "1be1e9c6-37cf-4a5f-bfeb-04cab799dc80"
      },
      "source": [
        "4. Проверьте, насколько популярен Python в требованиях работодателей к DS.Для этого вычислите количество вакансий, в которых в качестве ключевого навыка указан Python.\n",
        "\n",
        "** Это можно сделать помощью запроса, аналогичного предыдущему.*"
      ]
    },
    {
      "cell_type": "code",
      "execution_count": 175,
      "id": "0036a355-9ccf-4564-8b01-73d8194297e7",
      "metadata": {
        "id": "0036a355-9ccf-4564-8b01-73d8194297e7"
      },
      "outputs": [],
      "source": [
        "# текст запроса"
      ]
    },
    {
      "cell_type": "code",
      "execution_count": 176,
      "id": "1i-5WyucvQ6v",
      "metadata": {
        "id": "1i-5WyucvQ6v"
      },
      "outputs": [],
      "source": [
        "# результат запроса"
      ]
    },
    {
      "cell_type": "markdown",
      "id": "ec3c8db7-fa21-4a41-a994-1af63742a642",
      "metadata": {
        "id": "ec3c8db7-fa21-4a41-a994-1af63742a642"
      },
      "source": [
        "5. Сколько ключевых навыков в среднем указывают в вакансиях для DS?\n",
        "Ответ округлите до двух знаков после точки-разделителя."
      ]
    },
    {
      "cell_type": "code",
      "execution_count": 177,
      "id": "949132bc-d5b6-4611-8218-0b9a504d74f4",
      "metadata": {
        "id": "949132bc-d5b6-4611-8218-0b9a504d74f4"
      },
      "outputs": [],
      "source": [
        "# текст запроса"
      ]
    },
    {
      "cell_type": "code",
      "execution_count": 178,
      "id": "a3V24Tvmviqk",
      "metadata": {
        "id": "a3V24Tvmviqk"
      },
      "outputs": [],
      "source": [
        "# результат запроса"
      ]
    },
    {
      "cell_type": "markdown",
      "id": "1041c17a-ca8f-4543-a0ca-32778914fb00",
      "metadata": {
        "id": "1041c17a-ca8f-4543-a0ca-32778914fb00"
      },
      "source": [
        "6. Напишите запрос, позволяющий вычислить, какую зарплату для DS в **среднем** указывают для каждого типа требуемого опыта (уникальное значение из поля *experience*). \n",
        "\n",
        "При решении задачи примите во внимание следующее:\n",
        "1. Рассматриваем только вакансии, у которых заполнено хотя бы одно из двух полей с зарплатой.\n",
        "2. Если заполнены оба поля с зарплатой, то считаем зарплату по каждой вакансии как сумму двух полей, делённую на 2. Если заполнено только одно из полей, то его и считаем зарплатой по вакансии.\n",
        "3. Если в расчётах участвует null, в результате он тоже даст null (посмотрите, что возвращает запрос select 1 + null). Чтобы избежать этой ситуацию, мы воспользуемся функцией [coalesce](https://postgrespro.ru/docs/postgresql/9.5/functions-conditional#functions-coalesce-nvl-ifnull), которая заменит null на значение, которое мы передадим. Например, посмотрите, что возвращает запрос `select 1 + coalesce(null, 0)`\n",
        "\n",
        "Выясните, на какую зарплату в среднем может рассчитывать дата-сайентист с опытом работы от 3 до 6 лет. Результат округлите до целого числа. "
      ]
    },
    {
      "cell_type": "code",
      "execution_count": 179,
      "id": "6a743d39-5204-48d3-8271-b9f88e68d40e",
      "metadata": {
        "id": "6a743d39-5204-48d3-8271-b9f88e68d40e"
      },
      "outputs": [],
      "source": [
        "# текст запроса"
      ]
    },
    {
      "cell_type": "code",
      "execution_count": 180,
      "id": "aRIJ0mZEwU1_",
      "metadata": {
        "id": "aRIJ0mZEwU1_"
      },
      "outputs": [],
      "source": [
        "# результат запроса"
      ]
    },
    {
      "cell_type": "markdown",
      "id": "6a7892b4-4113-4746-adce-18aa2844f18e",
      "metadata": {
        "id": "6a7892b4-4113-4746-adce-18aa2844f18e"
      },
      "source": [
        "***"
      ]
    },
    {
      "cell_type": "code",
      "execution_count": 181,
      "id": "UjLWUptVwY1o",
      "metadata": {
        "id": "UjLWUptVwY1o"
      },
      "outputs": [],
      "source": [
        "# выводы по предметному анализу"
      ]
    },
    {
      "cell_type": "markdown",
      "id": "c0ED6fh7wiBT",
      "metadata": {
        "id": "c0ED6fh7wiBT"
      },
      "source": [
        "# Общий вывод по проекту"
      ]
    },
    {
      "cell_type": "code",
      "execution_count": 182,
      "id": "h9B3BL-wwj18",
      "metadata": {
        "id": "h9B3BL-wwj18"
      },
      "outputs": [],
      "source": [
        "# подведем итог исследования, обобщите выводы\n",
        "# здесь можно (это будет плюсом) провести дополнительные исследования данных, сделать прогнозы, продумать варианты продолжения исследования"
      ]
    }
  ],
  "metadata": {
    "colab": {
      "collapsed_sections": [
        "8d62a9f3-f64e-4fe7-bdac-c4dffa16155e"
      ],
      "provenance": []
    },
    "kernelspec": {
      "display_name": "Python 3 (ipykernel)",
      "language": "python",
      "name": "python3"
    },
    "language_info": {
      "codemirror_mode": {
        "name": "ipython",
        "version": 3
      },
      "file_extension": ".py",
      "mimetype": "text/x-python",
      "name": "python",
      "nbconvert_exporter": "python",
      "pygments_lexer": "ipython3",
      "version": "3.9.10"
    }
  },
  "nbformat": 4,
  "nbformat_minor": 5
}
